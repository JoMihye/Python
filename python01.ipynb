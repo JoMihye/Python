{
  "nbformat": 4,
  "nbformat_minor": 0,
  "metadata": {
    "colab": {
      "name": "python01.ipynb",
      "provenance": [],
      "collapsed_sections": [],
      "authorship_tag": "ABX9TyNJ0i7ZzApWW2afrVwTkXKC",
      "include_colab_link": true
    },
    "kernelspec": {
      "name": "python3",
      "display_name": "Python 3"
    },
    "language_info": {
      "name": "python"
    }
  },
  "cells": [
    {
      "cell_type": "markdown",
      "metadata": {
        "id": "view-in-github",
        "colab_type": "text"
      },
      "source": [
        "<a href=\"https://colab.research.google.com/github/JoMihye/Python/blob/main/python01.ipynb\" target=\"_parent\"><img src=\"https://colab.research.google.com/assets/colab-badge.svg\" alt=\"Open In Colab\"/></a>"
      ]
    },
    {
      "cell_type": "markdown",
      "source": [
        "# Colab Notebook"
      ],
      "metadata": {
        "id": "GWKz-alUZLog"
      }
    },
    {
      "cell_type": "code",
      "execution_count": null,
      "metadata": {
        "colab": {
          "base_uri": "https://localhost:8080/"
        },
        "id": "6KFjcqsPXsdS",
        "outputId": "ca8f45df-a5ec-4fdf-ca20-93d0c0460af0"
      },
      "outputs": [
        {
          "output_type": "stream",
          "name": "stdout",
          "text": [
            "안녕하세요!\n"
          ]
        }
      ],
      "source": [
        "print('안녕하세요!')"
      ]
    },
    {
      "cell_type": "markdown",
      "source": [
        "# Python 버전 확인"
      ],
      "metadata": {
        "id": "Ux2AMgtse0gl"
      }
    },
    {
      "cell_type": "code",
      "source": [
        "import sys  # sys 모듈을 사용.\n",
        "\n",
        "print(sys.version)"
      ],
      "metadata": {
        "colab": {
          "base_uri": "https://localhost:8080/"
        },
        "id": "LVr_ySkqgpwZ",
        "outputId": "2c7dcf4c-4cdb-44bb-bb10-3c46513c8bb0"
      },
      "execution_count": null,
      "outputs": [
        {
          "output_type": "stream",
          "name": "stdout",
          "text": [
            "3.7.13 (default, Apr 24 2022, 01:04:09) \n",
            "[GCC 7.5.0]\n"
          ]
        }
      ]
    },
    {
      "cell_type": "markdown",
      "source": [
        "# 여러가지 print 방법"
      ],
      "metadata": {
        "id": "LSccE06DgyFK"
      }
    },
    {
      "cell_type": "code",
      "source": [
        "print('Hello, Python!')\n",
        "# 파이썬에서 문자열은 작은 따옴표('') 또는 큰 따옴표(\"\")를 사용."
      ],
      "metadata": {
        "colab": {
          "base_uri": "https://localhost:8080/"
        },
        "id": "uw6_2_YLg4zU",
        "outputId": "4a1109e1-ca86-495f-a960-6e4367546a0a"
      },
      "execution_count": null,
      "outputs": [
        {
          "output_type": "stream",
          "name": "stdout",
          "text": [
            "Hello, Python!\n"
          ]
        }
      ]
    },
    {
      "cell_type": "markdown",
      "source": [
        "`print()` 함수에 argument(인수)를 여러 개를 전달하면, 각각의 argument들을\n",
        "공백으로 연결해서 한 줄에 출력."
      ],
      "metadata": {
        "id": "x4HS8HhOjcgb"
      }
    },
    {
      "cell_type": "code",
      "source": [
        "print('Hello', '안녕', 'Bon Jour')"
      ],
      "metadata": {
        "colab": {
          "base_uri": "https://localhost:8080/"
        },
        "id": "xTMNILG6kOsO",
        "outputId": "930ca09f-a685-471f-9ef2-c912ce85c421"
      },
      "execution_count": null,
      "outputs": [
        {
          "output_type": "stream",
          "name": "stdout",
          "text": [
            "Hello 안녕 Bon Jour\n"
          ]
        }
      ]
    },
    {
      "cell_type": "code",
      "source": [
        "print('Hello', '안녕', 'Bon Jour', sep='::')\n",
        "# print 함수의 sep argument의 값을 바꿔주면, 출력 값들의 구분자(separator)를 설정할 수 있음."
      ],
      "metadata": {
        "colab": {
          "base_uri": "https://localhost:8080/"
        },
        "id": "7KinsTTAlE76",
        "outputId": "e7dc2069-0b69-4ee9-a187-074105cf7e3b"
      },
      "execution_count": null,
      "outputs": [
        {
          "output_type": "stream",
          "name": "stdout",
          "text": [
            "Hello::안녕::Bon Jour\n"
          ]
        }
      ]
    },
    {
      "cell_type": "code",
      "source": [
        "print(1, '+', 2, '=', 3)"
      ],
      "metadata": {
        "colab": {
          "base_uri": "https://localhost:8080/"
        },
        "id": "w5MQtl2PmBVv",
        "outputId": "5262af01-7b80-416d-9469-ad02e67c5162"
      },
      "execution_count": null,
      "outputs": [
        {
          "output_type": "stream",
          "name": "stdout",
          "text": [
            "1 + 2 = 3\n"
          ]
        }
      ]
    },
    {
      "cell_type": "code",
      "source": [
        "print(1, '+', 2, '=', (1 + 2))"
      ],
      "metadata": {
        "colab": {
          "base_uri": "https://localhost:8080/"
        },
        "id": "5J_PhFOCmRtf",
        "outputId": "8cf6b2b6-5396-4716-e0f1-4f5205d23f18"
      },
      "execution_count": null,
      "outputs": [
        {
          "output_type": "stream",
          "name": "stdout",
          "text": [
            "1 + 2 = 3\n"
          ]
        }
      ]
    },
    {
      "cell_type": "markdown",
      "source": [
        "placeholder 문자열과 `format()` 메서드(함수)를 사용해서 출력하는 방법:"
      ],
      "metadata": {
        "id": "bMihD4zum2f7"
      }
    },
    {
      "cell_type": "code",
      "source": [
        "print('{} + {} = {}'.format(1,2,(1+2)))"
      ],
      "metadata": {
        "colab": {
          "base_uri": "https://localhost:8080/"
        },
        "id": "LxukUS36nIEm",
        "outputId": "b4574722-0754-4fa0-e149-a1d0793fe9b7"
      },
      "execution_count": null,
      "outputs": [
        {
          "output_type": "stream",
          "name": "stdout",
          "text": [
            "1 + 2 = 3\n"
          ]
        }
      ]
    },
    {
      "cell_type": "code",
      "source": [
        "# 변수(variable): 값을 저장하는 메모리 공간.\n",
        "x = 100  # 변수 x에 숫자 100을 저장.\n",
        "y = 20"
      ],
      "metadata": {
        "id": "FZQRwJqjrohC"
      },
      "execution_count": null,
      "outputs": []
    },
    {
      "cell_type": "code",
      "source": [
        "print('{} + {} = {}'.format(x, y, (x+y)))"
      ],
      "metadata": {
        "colab": {
          "base_uri": "https://localhost:8080/"
        },
        "id": "V20BJsRlsNP7",
        "outputId": "fa7c49e8-053f-4dd1-c9c2-5ed04fd7ad22"
      },
      "execution_count": null,
      "outputs": [
        {
          "output_type": "stream",
          "name": "stdout",
          "text": [
            "100 + 20 = 120\n"
          ]
        }
      ]
    },
    {
      "cell_type": "markdown",
      "source": [
        "파이썬 3.6 버전부터 formatted string 기능이 새로 추가됨."
      ],
      "metadata": {
        "id": "T4xLhv5is_m7"
      }
    },
    {
      "cell_type": "code",
      "source": [
        "print(f'{x} + {y} = {x + y}')"
      ],
      "metadata": {
        "colab": {
          "base_uri": "https://localhost:8080/"
        },
        "id": "BI9EoOWhtY8c",
        "outputId": "75ad70b2-7c97-4236-e993-d76d8f983578"
      },
      "execution_count": null,
      "outputs": [
        {
          "output_type": "stream",
          "name": "stdout",
          "text": [
            "100 + 20 = 120\n"
          ]
        }
      ]
    },
    {
      "cell_type": "code",
      "source": [
        "name = '여러분'\n",
        "print(f'안녕하세요, {name}')"
      ],
      "metadata": {
        "colab": {
          "base_uri": "https://localhost:8080/"
        },
        "id": "YZYHT2j-ubso",
        "outputId": "cc3a2dd6-1ce8-4164-a2fd-5cdc9d405c60"
      },
      "execution_count": null,
      "outputs": [
        {
          "output_type": "stream",
          "name": "stdout",
          "text": [
            "안녕하세요, 여러분\n"
          ]
        }
      ]
    },
    {
      "cell_type": "markdown",
      "source": [
        "키보드로 문자열을 입력받아서, 화면에 입력받은 내용을 출력."
      ],
      "metadata": {
        "id": "5Hrzl0m4u9Vo"
      }
    },
    {
      "cell_type": "code",
      "source": [
        "name = input('이름을 입력하세요>>>')\n",
        "print(f'안녕하세요, {name}님!')"
      ],
      "metadata": {
        "colab": {
          "base_uri": "https://localhost:8080/"
        },
        "id": "ZbQez65WvP36",
        "outputId": "89d422b5-4530-4f1c-9ec8-b82a60cf2bb0"
      },
      "execution_count": null,
      "outputs": [
        {
          "output_type": "stream",
          "name": "stdout",
          "text": [
            "이름을 입력하세요>>>123\n",
            "안녕하세요, 123님!\n"
          ]
        }
      ]
    }
  ]
}