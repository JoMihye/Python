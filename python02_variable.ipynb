{
  "nbformat": 4,
  "nbformat_minor": 0,
  "metadata": {
    "colab": {
      "name": "python02_variable.ipynb",
      "provenance": [],
      "authorship_tag": "ABX9TyMe9W8RMih5PQMK/aQopw6U",
      "include_colab_link": true
    },
    "kernelspec": {
      "name": "python3",
      "display_name": "Python 3"
    },
    "language_info": {
      "name": "python"
    }
  },
  "cells": [
    {
      "cell_type": "markdown",
      "metadata": {
        "id": "view-in-github",
        "colab_type": "text"
      },
      "source": [
        "<a href=\"https://colab.research.google.com/github/JoMihye/Python/blob/main/python02_variable.ipynb\" target=\"_parent\"><img src=\"https://colab.research.google.com/assets/colab-badge.svg\" alt=\"Open In Colab\"/></a>"
      ]
    },
    {
      "cell_type": "markdown",
      "source": [
        "# Python Data Type(자료 타입)"
      ],
      "metadata": {
        "id": "HMo5MilSyPVh"
      }
    },
    {
      "cell_type": "markdown",
      "source": [
        "\n",
        "\n",
        "*   숫자 타입\n",
        "    * 정수(int)\n",
        "    * 실수(float)\n",
        "*   문자열(str)\n",
        "*   논리 타입(bool): True 또는 False 두 가지 상태를 저장하는 변수.\n",
        "\n"
      ],
      "metadata": {
        "id": "375-qiyryYwS"
      }
    },
    {
      "cell_type": "markdown",
      "source": [
        "## 숫자 타입"
      ],
      "metadata": {
        "id": "wxkW14v_Je10"
      }
    },
    {
      "cell_type": "code",
      "execution_count": null,
      "metadata": {
        "colab": {
          "base_uri": "https://localhost:8080/"
        },
        "id": "iB5Ewgs5xTvn",
        "outputId": "4b18412c-1f81-4d36-bd67-58e598173165"
      },
      "outputs": [
        {
          "output_type": "stream",
          "name": "stdout",
          "text": [
            "<class 'int'>\n",
            "n = 100\n"
          ]
        }
      ],
      "source": [
        "n = 100  # 변수 = 값\n",
        "print(type(n))  # 변수 n 의 자료 타입을 출력\n",
        "print('n =', n)"
      ]
    },
    {
      "cell_type": "code",
      "source": [
        "n = 3.14\n",
        "print(type(n))\n",
        "print('n =', n)"
      ],
      "metadata": {
        "colab": {
          "base_uri": "https://localhost:8080/"
        },
        "id": "CA-EZanVJAVx",
        "outputId": "aebb5a40-f981-4e43-8465-23be90aa4612"
      },
      "execution_count": null,
      "outputs": [
        {
          "output_type": "stream",
          "name": "stdout",
          "text": [
            "<class 'float'>\n",
            "n = 3.14\n"
          ]
        }
      ]
    },
    {
      "cell_type": "markdown",
      "source": [
        "## 문자열 타입"
      ],
      "metadata": {
        "id": "I4SvcHO6KRqH"
      }
    },
    {
      "cell_type": "code",
      "source": [
        "s = '안녕하세요.'\n",
        "print(type(s))\n",
        "print(s)"
      ],
      "metadata": {
        "colab": {
          "base_uri": "https://localhost:8080/"
        },
        "id": "C14X31OmKUlw",
        "outputId": "6b8e2557-c469-434e-cf53-66473acfa093"
      },
      "execution_count": null,
      "outputs": [
        {
          "output_type": "stream",
          "name": "stdout",
          "text": [
            "<class 'str'>\n",
            "안녕하세요.\n"
          ]
        }
      ]
    },
    {
      "cell_type": "markdown",
      "source": [
        "파이썬에서 문자열은 작은 따옴표('')와 큰 따옴표(\"\")를 모두 사용할 수 있음.\n",
        "\n",
        "아래의 두 문장은 같은 문장.\n",
        "\n",
        "```\n",
        "s = 'hello'\n",
        "s = \"hello\"\n",
        "```"
      ],
      "metadata": {
        "id": "JWIXdab1LVYd"
      }
    },
    {
      "cell_type": "markdown",
      "source": [
        "## 논리 타입"
      ],
      "metadata": {
        "id": "W9BgYuseNVDs"
      }
    },
    {
      "cell_type": "code",
      "source": [
        "b = False # 파이썬의 예약어(keyword)는 대소문자를 구분함!\n",
        "print(type(b))\n",
        "print(b)"
      ],
      "metadata": {
        "colab": {
          "base_uri": "https://localhost:8080/"
        },
        "id": "sCygkd9jNY1G",
        "outputId": "409164f5-95e5-49dc-e470-51cb40024145"
      },
      "execution_count": null,
      "outputs": [
        {
          "output_type": "stream",
          "name": "stdout",
          "text": [
            "<class 'bool'>\n",
            "False\n"
          ]
        }
      ]
    },
    {
      "cell_type": "code",
      "source": [
        "x = 5\n",
        "result = x > 0\n",
        "print(result)"
      ],
      "metadata": {
        "colab": {
          "base_uri": "https://localhost:8080/"
        },
        "id": "DZAJJ8_tOHPF",
        "outputId": "5e459cd7-0dfb-43c3-9286-500832c329e6"
      },
      "execution_count": null,
      "outputs": [
        {
          "output_type": "stream",
          "name": "stdout",
          "text": [
            "True\n"
          ]
        }
      ]
    },
    {
      "cell_type": "markdown",
      "source": [
        "## 명시적 타입 변환(explicit type conversion/casting)\n",
        "\n",
        "*  `int(값)`: 값을 정수로 변환해서 리턴하는 함수.\n",
        "*  `float(값)`: 값을 실수로 변환해서 리턴하는 함수.\n",
        "*  `str(값)`: 값을 문자열로 변환해서 리턴하는 함수.\n"
      ],
      "metadata": {
        "id": "hUKm4KkNPOqw"
      }
    },
    {
      "cell_type": "code",
      "source": [
        "n_str_1 = '123'\n",
        "n_str_2 = '100'\n",
        "print(type(n_str_1))  #> 변수 n_str_1에 저장된 값의 자료 타입은 str(문자열)\n",
        "print(n_str_1 + n_str_2)  #> 문자열 + 문자열 => 문자열 이어붙이기(concatenate)"
      ],
      "metadata": {
        "colab": {
          "base_uri": "https://localhost:8080/"
        },
        "id": "5Aj3oaYEVbzw",
        "outputId": "2498e076-53f0-46d9-bea6-3e8f2992f0e8"
      },
      "execution_count": null,
      "outputs": [
        {
          "output_type": "stream",
          "name": "stdout",
          "text": [
            "<class 'str'>\n",
            "123100\n"
          ]
        }
      ]
    },
    {
      "cell_type": "code",
      "source": [
        "n1 = int(n_str_1)  #> 변수 n_str_1에 저장된 값을 정수로 변환해서 변수 n1에 저장.\n",
        "n2 = int(n_str_2)\n",
        "print(type(n1))\n",
        "print(n1 + n2)  #> 정수 + 정수 => 숫자들의 덧셈."
      ],
      "metadata": {
        "colab": {
          "base_uri": "https://localhost:8080/"
        },
        "id": "4D_E2fMaW6En",
        "outputId": "ca8b0f49-c84c-479b-b01b-845d2739b736"
      },
      "execution_count": null,
      "outputs": [
        {
          "output_type": "stream",
          "name": "stdout",
          "text": [
            "<class 'int'>\n",
            "223\n"
          ]
        }
      ]
    },
    {
      "cell_type": "code",
      "source": [
        "pi = '3.14'\n",
        "print(type(pi))\n",
        "pi = float(pi)  #> 변수 pi에 저장된 값을 실수(float) 타입으로 변환해서 다시 변수 pi에 저장.\n",
        "print(type(pi))"
      ],
      "metadata": {
        "colab": {
          "base_uri": "https://localhost:8080/"
        },
        "id": "SUiCUw4AYIf4",
        "outputId": "25f845fc-5790-4182-8755-736ec7da770d"
      },
      "execution_count": null,
      "outputs": [
        {
          "output_type": "stream",
          "name": "stdout",
          "text": [
            "<class 'str'>\n",
            "<class 'float'>\n"
          ]
        }
      ]
    },
    {
      "cell_type": "code",
      "source": [
        "number = input('숫자를 입력하세요>>> ')\n",
        "number = float(number)\n",
        "print(type(number))"
      ],
      "metadata": {
        "colab": {
          "base_uri": "https://localhost:8080/"
        },
        "id": "36AyeECyY5BT",
        "outputId": "fa8d5d67-f887-437e-b660-9f75c8e47f05"
      },
      "execution_count": null,
      "outputs": [
        {
          "output_type": "stream",
          "name": "stdout",
          "text": [
            "숫자를 입력하세요>>> 100\n",
            "<class 'float'>\n"
          ]
        }
      ]
    },
    {
      "cell_type": "code",
      "source": [
        "number = float(input('숫자를 입력하세요>>> '))\n",
        "print(type(number))"
      ],
      "metadata": {
        "colab": {
          "base_uri": "https://localhost:8080/"
        },
        "id": "tuG7ewGpaU4j",
        "outputId": "52b9997e-c28e-420e-ef4b-edfa4862a4f3"
      },
      "execution_count": null,
      "outputs": [
        {
          "output_type": "stream",
          "name": "stdout",
          "text": [
            "숫자를 입력하세요>>> 3.14\n",
            "<class 'float'>\n"
          ]
        }
      ]
    },
    {
      "cell_type": "markdown",
      "source": [
        "# 연산자(Operator)"
      ],
      "metadata": {
        "id": "p1yGnMTNbYjw"
      }
    },
    {
      "cell_type": "markdown",
      "source": [
        "## 산술 연산자(arithemtic operators)\n",
        "\n",
        "*  종류: `+, -, *, /, **, //, %`\n",
        "*  일반적으로 숫자 타입(int, float)의 값에서 사용 가능."
      ],
      "metadata": {
        "id": "-6hCYk9bbi_D"
      }
    },
    {
      "cell_type": "code",
      "source": [
        "x, y = 10, 3\n",
        "\n",
        "print(f'{x} + {y} = {x + y}')\n",
        "print(f'{x} - {y} = {x - y}')\n",
        "print(f'{x} * {y} = {x * y}')\n",
        "print(f'{x} / {y} = {x / y}')\n",
        "print(f'{x}의 {y} 거듭제곱 = {x ** y}')\n",
        "print(f'{x}를 {y}로 나눈 몫 = {x // y}')\n",
        "print(f'{x}를 {y}로 나눈 나머지 = {x % y}')"
      ],
      "metadata": {
        "colab": {
          "base_uri": "https://localhost:8080/"
        },
        "id": "WhkYjWtHcsAp",
        "outputId": "b9bf5f3a-b47d-40b4-f7da-ef76d62894aa"
      },
      "execution_count": null,
      "outputs": [
        {
          "output_type": "stream",
          "name": "stdout",
          "text": [
            "10 + 3 = 13\n",
            "10 - 3 = 7\n",
            "10 * 3 = 30\n",
            "10 / 3 = 3.3333333333333335\n",
            "10의 3 거듭제곱 = 1000\n",
            "10를 3로 나눈 몫 = 3\n",
            "10를 3로 나눈 나머지 = 1\n"
          ]
        }
      ]
    },
    {
      "cell_type": "markdown",
      "source": [
        "문자열(str) 타입에서 사용할 수 있는 산술 연산자:\n",
        "\n",
        "*  `+`: concatenate. 문자열 이어 붙이기. `str + str`.\n",
        "*  `*`: replicate. 문자열을 곱한 숫자만큼 복제하기. `str * int, int * str`."
      ],
      "metadata": {
        "id": "0yjzC7PhiVgH"
      }
    },
    {
      "cell_type": "code",
      "source": [
        "print('Hello' + 'Python')"
      ],
      "metadata": {
        "colab": {
          "base_uri": "https://localhost:8080/"
        },
        "id": "0trRjv_zjJ94",
        "outputId": "adb35e77-3c9c-470e-9f64-ffb5619bfdf3"
      },
      "execution_count": null,
      "outputs": [
        {
          "output_type": "stream",
          "name": "stdout",
          "text": [
            "HelloPython\n"
          ]
        }
      ]
    },
    {
      "cell_type": "code",
      "source": [
        "print('Hello' * 5)"
      ],
      "metadata": {
        "colab": {
          "base_uri": "https://localhost:8080/"
        },
        "id": "XSCANIpSjNln",
        "outputId": "ecc4802d-b0d0-4e6f-ad94-41f4b3693552"
      },
      "execution_count": null,
      "outputs": [
        {
          "output_type": "stream",
          "name": "stdout",
          "text": [
            "HelloHelloHelloHelloHello\n"
          ]
        }
      ]
    },
    {
      "cell_type": "markdown",
      "source": [
        "bool 타입의 값들을 산술 연산을 할 때는 True는 1, False는 0으로 자동 변환된 후\n",
        "산술 연산이 수행됨."
      ],
      "metadata": {
        "id": "Zhn-Ikrvjgn4"
      }
    },
    {
      "cell_type": "code",
      "source": [
        "print(True + True)"
      ],
      "metadata": {
        "colab": {
          "base_uri": "https://localhost:8080/"
        },
        "id": "6L7c-GWwjtja",
        "outputId": "7f03acf5-e6c4-44c0-a068-c550c7300074"
      },
      "execution_count": null,
      "outputs": [
        {
          "output_type": "stream",
          "name": "stdout",
          "text": [
            "2\n"
          ]
        }
      ]
    },
    {
      "cell_type": "code",
      "source": [
        "(True + True + True + False + True) / 5\n",
        "# (1 + 1 + 1 + 0 + 1) / 5"
      ],
      "metadata": {
        "colab": {
          "base_uri": "https://localhost:8080/"
        },
        "id": "e8vcchsrkth9",
        "outputId": "074974be-39a9-451b-dfa0-b22eaad4ba1a"
      },
      "execution_count": null,
      "outputs": [
        {
          "output_type": "execute_result",
          "data": {
            "text/plain": [
              "0.8"
            ]
          },
          "metadata": {},
          "execution_count": 27
        }
      ]
    },
    {
      "cell_type": "markdown",
      "source": [
        "## 비교 연산자와 논리 연산자\n",
        "\n",
        "*  비교 연산자: `==, !=, >, >=, <, <=`, ...\n",
        "*  논리 연산자: `and, or, not`"
      ],
      "metadata": {
        "id": "PyLPmjYQlwI-"
      }
    },
    {
      "cell_type": "code",
      "source": [
        "x = 100\n",
        "\n",
        "print(x == 100)\n",
        "print(x != 100)\n",
        "print(x > 0)\n",
        "print(x < 0)"
      ],
      "metadata": {
        "colab": {
          "base_uri": "https://localhost:8080/"
        },
        "id": "EcnuMfI0nBW0",
        "outputId": "9b53c36a-3456-49b1-8b32-96955cfaf682"
      },
      "execution_count": null,
      "outputs": [
        {
          "output_type": "stream",
          "name": "stdout",
          "text": [
            "True\n",
            "False\n",
            "True\n",
            "False\n"
          ]
        }
      ]
    },
    {
      "cell_type": "code",
      "source": [
        "print((x > 50) and (x < 150))  # 50 < x < 150\n",
        "print((x < 100) or (x < 0))\n",
        "print(not (x > 100))  # x <= 100"
      ],
      "metadata": {
        "colab": {
          "base_uri": "https://localhost:8080/"
        },
        "id": "HfgloPNSnuxj",
        "outputId": "945ec050-88c6-4d8e-94c9-f743865f951c"
      },
      "execution_count": null,
      "outputs": [
        {
          "output_type": "stream",
          "name": "stdout",
          "text": [
            "True\n",
            "False\n",
            "True\n"
          ]
        }
      ]
    },
    {
      "cell_type": "markdown",
      "source": [
        "## 할당 연산자, 복합 할당 연산자\n",
        "\n",
        "*  `=`: 할당 연산자. 왼쪽의 값을 오른쪽의 변수에 저장.\n",
        "*  복합 할당 연산자: 산술 연산자와 할당 연산자가 합쳐서 만들어진 연산자.\n",
        "  * `+=, -=, *=, /=, //=, %=, ...`"
      ],
      "metadata": {
        "id": "7lmJU0dLpMOS"
      }
    },
    {
      "cell_type": "code",
      "source": [
        "x = 1  # 정숫값 1을 변수 x에 저장(할당).\n",
        "x += 1  # (1) x+1, (2) 결과를 변수 x에 저장(할당).\n",
        "# x = x + 1\n",
        "print(x)"
      ],
      "metadata": {
        "colab": {
          "base_uri": "https://localhost:8080/"
        },
        "id": "J-0iFO5-rt6i",
        "outputId": "9d99f887-c4b1-452a-b2b1-ab621a988598"
      },
      "execution_count": null,
      "outputs": [
        {
          "output_type": "stream",
          "name": "stdout",
          "text": [
            "2\n"
          ]
        }
      ]
    }
  ]
}