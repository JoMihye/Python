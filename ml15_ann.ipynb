{
  "nbformat": 4,
  "nbformat_minor": 0,
  "metadata": {
    "colab": {
      "name": "ml15_ann.ipynb",
      "provenance": [],
      "collapsed_sections": [],
      "include_colab_link": true
    },
    "kernelspec": {
      "name": "python3",
      "display_name": "Python 3"
    },
    "language_info": {
      "name": "python"
    },
    "accelerator": "GPU",
    "gpuClass": "standard"
  },
  "cells": [
    {
      "cell_type": "markdown",
      "metadata": {
        "id": "view-in-github",
        "colab_type": "text"
      },
      "source": [
        "<a href=\"https://colab.research.google.com/github/JoMihye/Python/blob/main/ml15_ann.ipynb\" target=\"_parent\"><img src=\"https://colab.research.google.com/assets/colab-badge.svg\" alt=\"Open In Colab\"/></a>"
      ]
    },
    {
      "cell_type": "markdown",
      "source": [
        "ANN(Artificial Neural Network, 인공 신경망)"
      ],
      "metadata": {
        "id": "KTWSZ9oK2MGt"
      }
    },
    {
      "cell_type": "markdown",
      "source": [
        "# Imports"
      ],
      "metadata": {
        "id": "O41NHIOC2MD-"
      }
    },
    {
      "cell_type": "code",
      "execution_count": null,
      "metadata": {
        "id": "yn_Y4s0x2E72"
      },
      "outputs": [],
      "source": [
        "import numpy as np\n",
        "import matplotlib.pyplot as plt\n",
        "\n",
        "# scikit-learn\n",
        "from sklearn import datasets\n",
        "from sklearn.linear_model import SGDClassifier\n",
        "from sklearn.model_selection import cross_validate, train_test_split\n",
        "\n",
        "# tensorflow, keras\n",
        "import tensorflow as tf\n",
        "from tensorflow import keras"
      ]
    },
    {
      "cell_type": "code",
      "source": [
        "tf.__version__  # Google Colab에 설치된 Tensorflow 버전"
      ],
      "metadata": {
        "colab": {
          "base_uri": "https://localhost:8080/",
          "height": 36
        },
        "id": "zM8tZjvE6iH-",
        "outputId": "5619c9cd-a8c1-4183-ae9d-7add3d3d937d"
      },
      "execution_count": null,
      "outputs": [
        {
          "output_type": "execute_result",
          "data": {
            "text/plain": [
              "'2.8.2'"
            ],
            "application/vnd.google.colaboratory.intrinsic+json": {
              "type": "string"
            }
          },
          "metadata": {},
          "execution_count": 3
        }
      ]
    },
    {
      "cell_type": "code",
      "source": [
        "keras.__version__  # Google Colab의 Keras 버전"
      ],
      "metadata": {
        "colab": {
          "base_uri": "https://localhost:8080/",
          "height": 36
        },
        "id": "vKnYcei76p6u",
        "outputId": "f5e7362b-65f8-46cc-8030-c659f6f72636"
      },
      "execution_count": null,
      "outputs": [
        {
          "output_type": "execute_result",
          "data": {
            "text/plain": [
              "'2.8.0'"
            ],
            "application/vnd.google.colaboratory.intrinsic+json": {
              "type": "string"
            }
          },
          "metadata": {},
          "execution_count": 4
        }
      ]
    },
    {
      "cell_type": "markdown",
      "source": [
        "# Iris 데이터 셋"
      ],
      "metadata": {
        "id": "wnPG0jSI-kJg"
      }
    },
    {
      "cell_type": "code",
      "source": [
        "data, target = datasets.load_iris(return_X_y=True)"
      ],
      "metadata": {
        "id": "RI83dLPq-mCe"
      },
      "execution_count": null,
      "outputs": []
    },
    {
      "cell_type": "code",
      "source": [
        "data[:5]"
      ],
      "metadata": {
        "colab": {
          "base_uri": "https://localhost:8080/"
        },
        "id": "PqCSq_Sa-wJt",
        "outputId": "5f30b7a3-2f77-434f-971b-6524f35ed309"
      },
      "execution_count": null,
      "outputs": [
        {
          "output_type": "execute_result",
          "data": {
            "text/plain": [
              "array([[5.1, 3.5, 1.4, 0.2],\n",
              "       [4.9, 3. , 1.4, 0.2],\n",
              "       [4.7, 3.2, 1.3, 0.2],\n",
              "       [4.6, 3.1, 1.5, 0.2],\n",
              "       [5. , 3.6, 1.4, 0.2]])"
            ]
          },
          "metadata": {},
          "execution_count": 6
        }
      ]
    },
    {
      "cell_type": "code",
      "source": [
        "target[:5]"
      ],
      "metadata": {
        "colab": {
          "base_uri": "https://localhost:8080/"
        },
        "id": "5g6jpz5D-yZN",
        "outputId": "635a11cb-333f-4096-dff4-82ead376964f"
      },
      "execution_count": null,
      "outputs": [
        {
          "output_type": "execute_result",
          "data": {
            "text/plain": [
              "array([0, 0, 0, 0, 0])"
            ]
          },
          "metadata": {},
          "execution_count": 7
        }
      ]
    },
    {
      "cell_type": "markdown",
      "source": [
        "## petal_length, petal_width 변수만 선택한 이진 분류"
      ],
      "metadata": {
        "id": "6Gu25j7p_AL2"
      }
    },
    {
      "cell_type": "code",
      "source": [
        "X = data[:, 2:].copy()\n",
        "y = (target != 0).astype('int')"
      ],
      "metadata": {
        "id": "vtdXgdqB-zgN"
      },
      "execution_count": null,
      "outputs": []
    },
    {
      "cell_type": "code",
      "source": [
        "X[:5]"
      ],
      "metadata": {
        "colab": {
          "base_uri": "https://localhost:8080/"
        },
        "id": "U1GSfCm6_nj-",
        "outputId": "a27e7377-e14f-4e0a-e9e6-017d999299a1"
      },
      "execution_count": null,
      "outputs": [
        {
          "output_type": "execute_result",
          "data": {
            "text/plain": [
              "array([[1.4, 0.2],\n",
              "       [1.4, 0.2],\n",
              "       [1.3, 0.2],\n",
              "       [1.5, 0.2],\n",
              "       [1.4, 0.2]])"
            ]
          },
          "metadata": {},
          "execution_count": 9
        }
      ]
    },
    {
      "cell_type": "code",
      "source": [
        "y"
      ],
      "metadata": {
        "colab": {
          "base_uri": "https://localhost:8080/"
        },
        "id": "mRNKaUje_qRV",
        "outputId": "d0e7bbd8-284a-47fd-b095-536a121ad8aa"
      },
      "execution_count": null,
      "outputs": [
        {
          "output_type": "execute_result",
          "data": {
            "text/plain": [
              "array([0, 0, 0, 0, 0, 0, 0, 0, 0, 0, 0, 0, 0, 0, 0, 0, 0, 0, 0, 0, 0, 0,\n",
              "       0, 0, 0, 0, 0, 0, 0, 0, 0, 0, 0, 0, 0, 0, 0, 0, 0, 0, 0, 0, 0, 0,\n",
              "       0, 0, 0, 0, 0, 0, 1, 1, 1, 1, 1, 1, 1, 1, 1, 1, 1, 1, 1, 1, 1, 1,\n",
              "       1, 1, 1, 1, 1, 1, 1, 1, 1, 1, 1, 1, 1, 1, 1, 1, 1, 1, 1, 1, 1, 1,\n",
              "       1, 1, 1, 1, 1, 1, 1, 1, 1, 1, 1, 1, 1, 1, 1, 1, 1, 1, 1, 1, 1, 1,\n",
              "       1, 1, 1, 1, 1, 1, 1, 1, 1, 1, 1, 1, 1, 1, 1, 1, 1, 1, 1, 1, 1, 1,\n",
              "       1, 1, 1, 1, 1, 1, 1, 1, 1, 1, 1, 1, 1, 1, 1, 1, 1, 1])"
            ]
          },
          "metadata": {},
          "execution_count": 10
        }
      ]
    },
    {
      "cell_type": "markdown",
      "source": [
        "## SGD Classifier"
      ],
      "metadata": {
        "id": "wl8TvsNV__hf"
      }
    },
    {
      "cell_type": "code",
      "source": [
        "sgd = SGDClassifier(loss='log', max_iter=10,\n",
        "                    n_jobs=-1, random_state=42)"
      ],
      "metadata": {
        "id": "33djN8vw_toO"
      },
      "execution_count": null,
      "outputs": []
    },
    {
      "cell_type": "code",
      "source": [
        "sgd.fit(X, y)"
      ],
      "metadata": {
        "colab": {
          "base_uri": "https://localhost:8080/"
        },
        "id": "9G_bLY3N_w4l",
        "outputId": "082d3005-028f-4ebb-e5a0-06a46fd9de6f"
      },
      "execution_count": null,
      "outputs": [
        {
          "output_type": "execute_result",
          "data": {
            "text/plain": [
              "SGDClassifier(loss='log', max_iter=10, n_jobs=-1, random_state=42)"
            ]
          },
          "metadata": {},
          "execution_count": 12
        }
      ]
    },
    {
      "cell_type": "code",
      "source": [
        "sgd.coef_"
      ],
      "metadata": {
        "colab": {
          "base_uri": "https://localhost:8080/"
        },
        "id": "KrTRFJZ3AazG",
        "outputId": "58218625-b5df-47c2-8204-0a5ff9b7fb88"
      },
      "execution_count": null,
      "outputs": [
        {
          "output_type": "execute_result",
          "data": {
            "text/plain": [
              "array([[9.29310825, 9.5046378 ]])"
            ]
          },
          "metadata": {},
          "execution_count": 13
        }
      ]
    },
    {
      "cell_type": "code",
      "source": [
        "sgd.intercept_"
      ],
      "metadata": {
        "colab": {
          "base_uri": "https://localhost:8080/"
        },
        "id": "z4hqPP5fAhun",
        "outputId": "0ee9b548-3c3f-4ce9-cff1-3e98b1780517"
      },
      "execution_count": null,
      "outputs": [
        {
          "output_type": "execute_result",
          "data": {
            "text/plain": [
              "array([-33.65502003])"
            ]
          },
          "metadata": {},
          "execution_count": 14
        }
      ]
    },
    {
      "cell_type": "code",
      "source": [
        "pred_prob = sgd.predict_proba(X)\n",
        "pred_prob[:5]"
      ],
      "metadata": {
        "colab": {
          "base_uri": "https://localhost:8080/"
        },
        "id": "OT5XYJQBAjJl",
        "outputId": "66f502f2-8d99-4c7c-e416-70351e5be69f"
      },
      "execution_count": null,
      "outputs": [
        {
          "output_type": "execute_result",
          "data": {
            "text/plain": [
              "array([[9.99999993e-01, 7.23930287e-09],\n",
              "       [9.99999993e-01, 7.23930287e-09],\n",
              "       [9.99999997e-01, 2.85826298e-09],\n",
              "       [9.99999982e-01, 1.83354387e-08],\n",
              "       [9.99999993e-01, 7.23930287e-09]])"
            ]
          },
          "metadata": {},
          "execution_count": 15
        }
      ]
    },
    {
      "cell_type": "code",
      "source": [
        "pred = sgd.predict(X)\n",
        "pred[:5]"
      ],
      "metadata": {
        "colab": {
          "base_uri": "https://localhost:8080/"
        },
        "id": "TDd-NhDjB134",
        "outputId": "9edc3379-6167-4f0a-f92f-6bec2044ef0d"
      },
      "execution_count": null,
      "outputs": [
        {
          "output_type": "execute_result",
          "data": {
            "text/plain": [
              "array([0, 0, 0, 0, 0])"
            ]
          },
          "metadata": {},
          "execution_count": 16
        }
      ]
    },
    {
      "cell_type": "code",
      "source": [
        "np.mean(y == pred)"
      ],
      "metadata": {
        "colab": {
          "base_uri": "https://localhost:8080/"
        },
        "id": "QipRn3plCE0W",
        "outputId": "91a0f9bf-ffc0-4ac3-cab6-01b5f1091d21"
      },
      "execution_count": null,
      "outputs": [
        {
          "output_type": "execute_result",
          "data": {
            "text/plain": [
              "1.0"
            ]
          },
          "metadata": {},
          "execution_count": 17
        }
      ]
    },
    {
      "cell_type": "markdown",
      "source": [
        "## Neural Network"
      ],
      "metadata": {
        "id": "6Y1lbvP5CpDH"
      }
    },
    {
      "cell_type": "code",
      "source": [
        "# 신경망 모델 생성\n",
        "model = keras.Sequential(layers=[keras.layers.Dense(units=1,\n",
        "                                                    activation='sigmoid',\n",
        "                                                    input_shape=(2,))],\n",
        "                         name='iris_binary_single_layer')"
      ],
      "metadata": {
        "id": "gB1WBm5oCst-"
      },
      "execution_count": null,
      "outputs": []
    },
    {
      "cell_type": "code",
      "source": [
        "# 신경망 모델 요약 정보: layers, parameters\n",
        "model.summary()"
      ],
      "metadata": {
        "colab": {
          "base_uri": "https://localhost:8080/"
        },
        "id": "EGAE2nR7E1bV",
        "outputId": "00edb8aa-cb8b-437a-8d94-45c91ec82431"
      },
      "execution_count": null,
      "outputs": [
        {
          "output_type": "stream",
          "name": "stdout",
          "text": [
            "Model: \"iris_binary_single_layer\"\n",
            "_________________________________________________________________\n",
            " Layer (type)                Output Shape              Param #   \n",
            "=================================================================\n",
            " dense (Dense)               (None, 1)                 3         \n",
            "                                                                 \n",
            "=================================================================\n",
            "Total params: 3\n",
            "Trainable params: 3\n",
            "Non-trainable params: 0\n",
            "_________________________________________________________________\n"
          ]
        }
      ]
    },
    {
      "cell_type": "code",
      "source": [
        "# 신경망 모델 컴파일: optimizer(훈련 방식), loss(손실 함수), metrics(평가 점수 함수) 설정\n",
        "model.compile(optimizer='sgd', \n",
        "              loss=keras.losses.binary_crossentropy,\n",
        "              metrics=keras.metrics.binary_accuracy)"
      ],
      "metadata": {
        "id": "R8jrPiBAE8yO"
      },
      "execution_count": null,
      "outputs": []
    },
    {
      "cell_type": "code",
      "source": [
        "# 신경망 훈련\n",
        "model.fit(X, y, epochs=10, batch_size=1)"
      ],
      "metadata": {
        "colab": {
          "base_uri": "https://localhost:8080/"
        },
        "id": "wITsjk8tHQ2e",
        "outputId": "22fc128c-d138-476d-8e4b-9bee67bf90e0"
      },
      "execution_count": null,
      "outputs": [
        {
          "output_type": "stream",
          "name": "stdout",
          "text": [
            "Epoch 1/10\n",
            "150/150 [==============================] - 1s 2ms/step - loss: 0.9334 - binary_accuracy: 0.5533\n",
            "Epoch 2/10\n",
            "150/150 [==============================] - 0s 2ms/step - loss: 0.3913 - binary_accuracy: 0.6667\n",
            "Epoch 3/10\n",
            "150/150 [==============================] - 0s 2ms/step - loss: 0.3607 - binary_accuracy: 0.6667\n",
            "Epoch 4/10\n",
            "150/150 [==============================] - 0s 2ms/step - loss: 0.3343 - binary_accuracy: 0.6867\n",
            "Epoch 5/10\n",
            "150/150 [==============================] - 0s 1ms/step - loss: 0.3101 - binary_accuracy: 0.8067\n",
            "Epoch 6/10\n",
            "150/150 [==============================] - 0s 1ms/step - loss: 0.2890 - binary_accuracy: 0.8467\n",
            "Epoch 7/10\n",
            "150/150 [==============================] - 0s 2ms/step - loss: 0.2700 - binary_accuracy: 0.9333\n",
            "Epoch 8/10\n",
            "150/150 [==============================] - 0s 2ms/step - loss: 0.2530 - binary_accuracy: 0.9667\n",
            "Epoch 9/10\n",
            "150/150 [==============================] - 0s 1ms/step - loss: 0.2372 - binary_accuracy: 0.9867\n",
            "Epoch 10/10\n",
            "150/150 [==============================] - 0s 1ms/step - loss: 0.2241 - binary_accuracy: 0.9867\n"
          ]
        },
        {
          "output_type": "execute_result",
          "data": {
            "text/plain": [
              "<keras.callbacks.History at 0x7f278e17b750>"
            ]
          },
          "metadata": {},
          "execution_count": 21
        }
      ]
    },
    {
      "cell_type": "code",
      "source": [
        "model.weights"
      ],
      "metadata": {
        "colab": {
          "base_uri": "https://localhost:8080/"
        },
        "id": "AdnCzNXHHslo",
        "outputId": "d31d0d19-fe43-433a-c846-7d3dc13a61e0"
      },
      "execution_count": null,
      "outputs": [
        {
          "output_type": "execute_result",
          "data": {
            "text/plain": [
              "[<tf.Variable 'dense/kernel:0' shape=(2, 1) dtype=float32, numpy=\n",
              " array([[0.38768584],\n",
              "        [1.4400322 ]], dtype=float32)>,\n",
              " <tf.Variable 'dense/bias:0' shape=(1,) dtype=float32, numpy=array([-1.3324186], dtype=float32)>]"
            ]
          },
          "metadata": {},
          "execution_count": 22
        }
      ]
    },
    {
      "cell_type": "code",
      "source": [
        "pred = model.predict(X)  # 이진 분류에서 predict()는 양성(1)이 될 확률\n",
        "pred.shape"
      ],
      "metadata": {
        "colab": {
          "base_uri": "https://localhost:8080/"
        },
        "id": "e6S4OsRTIeIW",
        "outputId": "7d230437-eeb4-41b3-e412-9c2dcd6367d3"
      },
      "execution_count": null,
      "outputs": [
        {
          "output_type": "execute_result",
          "data": {
            "text/plain": [
              "(150, 1)"
            ]
          },
          "metadata": {},
          "execution_count": 23
        }
      ]
    },
    {
      "cell_type": "code",
      "source": [
        "pred[:5]"
      ],
      "metadata": {
        "colab": {
          "base_uri": "https://localhost:8080/"
        },
        "id": "zUsF_mbwRYVm",
        "outputId": "4ce3e9fb-85b0-48a2-ca62-32fa40eaeade"
      },
      "execution_count": null,
      "outputs": [
        {
          "output_type": "execute_result",
          "data": {
            "text/plain": [
              "array([[0.37715253],\n",
              "       [0.37715253],\n",
              "       [0.36808977],\n",
              "       [0.38630205],\n",
              "       [0.37715253]], dtype=float32)"
            ]
          },
          "metadata": {},
          "execution_count": 24
        }
      ]
    },
    {
      "cell_type": "code",
      "source": [
        "# 예측값(0 또는 1)을 계산하기 위해서는 확률 > 0.5 비교해야 함.\n",
        "pred_label = (pred > 0.5).astype('int').reshape((-1,))\n",
        "pred_label"
      ],
      "metadata": {
        "colab": {
          "base_uri": "https://localhost:8080/"
        },
        "id": "SxC1aeY1Sb4o",
        "outputId": "068235ee-a19e-4d5c-b1a4-6ca499bfdb45"
      },
      "execution_count": null,
      "outputs": [
        {
          "output_type": "execute_result",
          "data": {
            "text/plain": [
              "array([0, 0, 0, 0, 0, 0, 0, 0, 0, 0, 0, 0, 0, 0, 0, 0, 0, 0, 0, 0, 0, 0,\n",
              "       0, 1, 0, 0, 0, 0, 0, 0, 0, 0, 0, 0, 0, 0, 0, 0, 0, 0, 0, 0, 0, 1,\n",
              "       0, 0, 0, 0, 0, 0, 1, 1, 1, 1, 1, 1, 1, 1, 1, 1, 1, 1, 1, 1, 1, 1,\n",
              "       1, 1, 1, 1, 1, 1, 1, 1, 1, 1, 1, 1, 1, 1, 1, 1, 1, 1, 1, 1, 1, 1,\n",
              "       1, 1, 1, 1, 1, 1, 1, 1, 1, 1, 1, 1, 1, 1, 1, 1, 1, 1, 1, 1, 1, 1,\n",
              "       1, 1, 1, 1, 1, 1, 1, 1, 1, 1, 1, 1, 1, 1, 1, 1, 1, 1, 1, 1, 1, 1,\n",
              "       1, 1, 1, 1, 1, 1, 1, 1, 1, 1, 1, 1, 1, 1, 1, 1, 1, 1])"
            ]
          },
          "metadata": {},
          "execution_count": 25
        }
      ]
    },
    {
      "cell_type": "code",
      "source": [
        "np.mean(y == pred_label)  # 정확도: 실젯값과 예측값 비교"
      ],
      "metadata": {
        "colab": {
          "base_uri": "https://localhost:8080/"
        },
        "id": "JzfkaxjHS7DH",
        "outputId": "9ba0351d-1fa1-44a7-8a60-77ae79d63bd5"
      },
      "execution_count": null,
      "outputs": [
        {
          "output_type": "execute_result",
          "data": {
            "text/plain": [
              "0.9866666666666667"
            ]
          },
          "metadata": {},
          "execution_count": 26
        }
      ]
    },
    {
      "cell_type": "markdown",
      "source": [
        "## 모든 변수(sl, sw, pl, pw)를 사용한 이진 분류"
      ],
      "metadata": {
        "id": "M3bApUTXTn6O"
      }
    },
    {
      "cell_type": "code",
      "source": [
        "X = data.copy()"
      ],
      "metadata": {
        "id": "QFAXk_oMTfD1"
      },
      "execution_count": null,
      "outputs": []
    },
    {
      "cell_type": "markdown",
      "source": [
        "### SGD"
      ],
      "metadata": {
        "id": "6QTEgCgvT62v"
      }
    },
    {
      "cell_type": "code",
      "source": [
        "sgd = SGDClassifier(loss='log', max_iter=10,\n",
        "                    n_jobs=-1, random_state=42)"
      ],
      "metadata": {
        "id": "cV4rfEyRT7zm"
      },
      "execution_count": null,
      "outputs": []
    },
    {
      "cell_type": "code",
      "source": [
        "sgd.fit(X, y)"
      ],
      "metadata": {
        "colab": {
          "base_uri": "https://localhost:8080/"
        },
        "id": "pqr7-ksQUGfO",
        "outputId": "2ee847c9-7022-4a26-e844-5d3a8a936920"
      },
      "execution_count": null,
      "outputs": [
        {
          "output_type": "execute_result",
          "data": {
            "text/plain": [
              "SGDClassifier(loss='log', max_iter=10, n_jobs=-1, random_state=42)"
            ]
          },
          "metadata": {},
          "execution_count": 29
        }
      ]
    },
    {
      "cell_type": "code",
      "source": [
        "sgd.coef_, sgd.intercept_"
      ],
      "metadata": {
        "colab": {
          "base_uri": "https://localhost:8080/"
        },
        "id": "MlYVkg9aImPf",
        "outputId": "08085c63-c336-47bf-b43c-e8a7c6a617d9"
      },
      "execution_count": null,
      "outputs": [
        {
          "output_type": "execute_result",
          "data": {
            "text/plain": [
              "(array([[ -7.56466569, -26.11029771,  43.43582235,  20.74182528]]),\n",
              " array([-14.82209562]))"
            ]
          },
          "metadata": {},
          "execution_count": 30
        }
      ]
    },
    {
      "cell_type": "code",
      "source": [
        "pred = sgd.predict(X)  # 예측값(0 또는 1)"
      ],
      "metadata": {
        "id": "39bDSPcMUOje"
      },
      "execution_count": null,
      "outputs": []
    },
    {
      "cell_type": "code",
      "source": [
        "np.mean(y == pred)"
      ],
      "metadata": {
        "colab": {
          "base_uri": "https://localhost:8080/"
        },
        "id": "RrB2MUcRUXqt",
        "outputId": "8558daa6-bf91-4845-e089-7e84d1d270ae"
      },
      "execution_count": null,
      "outputs": [
        {
          "output_type": "execute_result",
          "data": {
            "text/plain": [
              "1.0"
            ]
          },
          "metadata": {},
          "execution_count": 32
        }
      ]
    },
    {
      "cell_type": "markdown",
      "source": [
        "### 신경망"
      ],
      "metadata": {
        "id": "vmbx2t4NUg1-"
      }
    },
    {
      "cell_type": "code",
      "source": [
        "model = keras.Sequential(layers=[keras.layers.Dense(units=1,\n",
        "                                                    activation='sigmoid',\n",
        "                                                    input_shape=(4,))])"
      ],
      "metadata": {
        "id": "kWfnc8jCUabF"
      },
      "execution_count": null,
      "outputs": []
    },
    {
      "cell_type": "code",
      "source": [
        "model.summary()"
      ],
      "metadata": {
        "colab": {
          "base_uri": "https://localhost:8080/"
        },
        "id": "dWmzOjmHVh5H",
        "outputId": "bbf20022-8307-4b7c-9c10-e576da613263"
      },
      "execution_count": null,
      "outputs": [
        {
          "output_type": "stream",
          "name": "stdout",
          "text": [
            "Model: \"sequential\"\n",
            "_________________________________________________________________\n",
            " Layer (type)                Output Shape              Param #   \n",
            "=================================================================\n",
            " dense_1 (Dense)             (None, 1)                 5         \n",
            "                                                                 \n",
            "=================================================================\n",
            "Total params: 5\n",
            "Trainable params: 5\n",
            "Non-trainable params: 0\n",
            "_________________________________________________________________\n"
          ]
        }
      ]
    },
    {
      "cell_type": "code",
      "source": [
        "model.compile(optimizer=keras.optimizers.SGD(),\n",
        "              loss=keras.losses.binary_crossentropy,\n",
        "              metrics=keras.metrics.binary_accuracy)"
      ],
      "metadata": {
        "id": "1mkNyE5YVjl-"
      },
      "execution_count": null,
      "outputs": []
    },
    {
      "cell_type": "code",
      "source": [
        "model.fit(X, y, batch_size=1, epochs=10)"
      ],
      "metadata": {
        "colab": {
          "base_uri": "https://localhost:8080/"
        },
        "id": "MO-OXzz3WjYw",
        "outputId": "25c38656-fe12-496a-db61-de46ca1dc9c0"
      },
      "execution_count": null,
      "outputs": [
        {
          "output_type": "stream",
          "name": "stdout",
          "text": [
            "Epoch 1/10\n",
            "150/150 [==============================] - 1s 1ms/step - loss: 0.6307 - binary_accuracy: 0.8733\n",
            "Epoch 2/10\n",
            "150/150 [==============================] - 0s 2ms/step - loss: 0.1766 - binary_accuracy: 1.0000\n",
            "Epoch 3/10\n",
            "150/150 [==============================] - 0s 2ms/step - loss: 0.1237 - binary_accuracy: 1.0000\n",
            "Epoch 4/10\n",
            "150/150 [==============================] - 0s 2ms/step - loss: 0.0955 - binary_accuracy: 1.0000\n",
            "Epoch 5/10\n",
            "150/150 [==============================] - 0s 2ms/step - loss: 0.0774 - binary_accuracy: 1.0000\n",
            "Epoch 6/10\n",
            "150/150 [==============================] - 0s 2ms/step - loss: 0.0649 - binary_accuracy: 1.0000\n",
            "Epoch 7/10\n",
            "150/150 [==============================] - 0s 1ms/step - loss: 0.0571 - binary_accuracy: 1.0000\n",
            "Epoch 8/10\n",
            "150/150 [==============================] - 0s 2ms/step - loss: 0.0506 - binary_accuracy: 1.0000\n",
            "Epoch 9/10\n",
            "150/150 [==============================] - 0s 1ms/step - loss: 0.0452 - binary_accuracy: 1.0000\n",
            "Epoch 10/10\n",
            "150/150 [==============================] - 0s 1ms/step - loss: 0.0411 - binary_accuracy: 1.0000\n"
          ]
        },
        {
          "output_type": "execute_result",
          "data": {
            "text/plain": [
              "<keras.callbacks.History at 0x7f27891ad3d0>"
            ]
          },
          "metadata": {},
          "execution_count": 36
        }
      ]
    },
    {
      "cell_type": "code",
      "source": [
        "# 신경망이 학습 데이터를 훈련하면 가중치들을 찾음.\n",
        "model.weights"
      ],
      "metadata": {
        "id": "h_OBa6xHWqWF",
        "colab": {
          "base_uri": "https://localhost:8080/"
        },
        "outputId": "7d6c3814-0974-42a9-f9f2-32a25ec0cc7e"
      },
      "execution_count": null,
      "outputs": [
        {
          "output_type": "execute_result",
          "data": {
            "text/plain": [
              "[<tf.Variable 'dense_1/kernel:0' shape=(4, 1) dtype=float32, numpy=\n",
              " array([[-0.14702998],\n",
              "        [-1.2266967 ],\n",
              "        [ 1.1821584 ],\n",
              "        [ 1.9245535 ]], dtype=float32)>,\n",
              " <tf.Variable 'dense_1/bias:0' shape=(1,) dtype=float32, numpy=array([-0.05024579], dtype=float32)>]"
            ]
          },
          "metadata": {},
          "execution_count": 37
        }
      ]
    },
    {
      "cell_type": "code",
      "source": [
        "pred = model.predict(X)\n",
        "pred[:5]"
      ],
      "metadata": {
        "colab": {
          "base_uri": "https://localhost:8080/"
        },
        "id": "LHZUAtDjKKHn",
        "outputId": "31975e60-dd22-402a-afab-2a8f272d2e44"
      },
      "execution_count": null,
      "outputs": [
        {
          "output_type": "execute_result",
          "data": {
            "text/plain": [
              "array([[0.04506209],\n",
              "       [0.08234897],\n",
              "       [0.06036967],\n",
              "       [0.08539575],\n",
              "       [0.0406377 ]], dtype=float32)"
            ]
          },
          "metadata": {},
          "execution_count": 38
        }
      ]
    },
    {
      "cell_type": "code",
      "source": [
        "pred_label = (pred > 0.5).astype('int').reshape((-1,))\n",
        "pred_label[:5]"
      ],
      "metadata": {
        "colab": {
          "base_uri": "https://localhost:8080/"
        },
        "id": "5Be9SjEtK6oQ",
        "outputId": "5efcb6d9-b227-4c75-e190-ab67372e5387"
      },
      "execution_count": null,
      "outputs": [
        {
          "output_type": "execute_result",
          "data": {
            "text/plain": [
              "array([0, 0, 0, 0, 0])"
            ]
          },
          "metadata": {},
          "execution_count": 39
        }
      ]
    },
    {
      "cell_type": "code",
      "source": [
        "np.mean(y == pred_label)  # 훈련 셋 정확도"
      ],
      "metadata": {
        "colab": {
          "base_uri": "https://localhost:8080/"
        },
        "id": "PRO5FTPjLXFQ",
        "outputId": "2b20603c-1d98-4e16-9369-0635e0ba8759"
      },
      "execution_count": null,
      "outputs": [
        {
          "output_type": "execute_result",
          "data": {
            "text/plain": [
              "1.0"
            ]
          },
          "metadata": {},
          "execution_count": 40
        }
      ]
    },
    {
      "cell_type": "markdown",
      "source": [
        "## Iris 다중 클래스 분류"
      ],
      "metadata": {
        "id": "TQ_SBKIvP_D_"
      }
    },
    {
      "cell_type": "code",
      "source": [
        "data[:5]"
      ],
      "metadata": {
        "colab": {
          "base_uri": "https://localhost:8080/"
        },
        "id": "DiHRXU4sQCs_",
        "outputId": "d8949089-6765-420f-e85d-d757d021bc66"
      },
      "execution_count": null,
      "outputs": [
        {
          "output_type": "execute_result",
          "data": {
            "text/plain": [
              "array([[5.1, 3.5, 1.4, 0.2],\n",
              "       [4.9, 3. , 1.4, 0.2],\n",
              "       [4.7, 3.2, 1.3, 0.2],\n",
              "       [4.6, 3.1, 1.5, 0.2],\n",
              "       [5. , 3.6, 1.4, 0.2]])"
            ]
          },
          "metadata": {},
          "execution_count": 41
        }
      ]
    },
    {
      "cell_type": "code",
      "source": [
        "target"
      ],
      "metadata": {
        "colab": {
          "base_uri": "https://localhost:8080/"
        },
        "id": "6yzAd9pqQIfg",
        "outputId": "b457d930-2e44-49bb-cf25-4814b23ae5b6"
      },
      "execution_count": null,
      "outputs": [
        {
          "output_type": "execute_result",
          "data": {
            "text/plain": [
              "array([0, 0, 0, 0, 0, 0, 0, 0, 0, 0, 0, 0, 0, 0, 0, 0, 0, 0, 0, 0, 0, 0,\n",
              "       0, 0, 0, 0, 0, 0, 0, 0, 0, 0, 0, 0, 0, 0, 0, 0, 0, 0, 0, 0, 0, 0,\n",
              "       0, 0, 0, 0, 0, 0, 1, 1, 1, 1, 1, 1, 1, 1, 1, 1, 1, 1, 1, 1, 1, 1,\n",
              "       1, 1, 1, 1, 1, 1, 1, 1, 1, 1, 1, 1, 1, 1, 1, 1, 1, 1, 1, 1, 1, 1,\n",
              "       1, 1, 1, 1, 1, 1, 1, 1, 1, 1, 1, 1, 2, 2, 2, 2, 2, 2, 2, 2, 2, 2,\n",
              "       2, 2, 2, 2, 2, 2, 2, 2, 2, 2, 2, 2, 2, 2, 2, 2, 2, 2, 2, 2, 2, 2,\n",
              "       2, 2, 2, 2, 2, 2, 2, 2, 2, 2, 2, 2, 2, 2, 2, 2, 2, 2])"
            ]
          },
          "metadata": {},
          "execution_count": 42
        }
      ]
    },
    {
      "cell_type": "markdown",
      "source": [
        "### SGD classifier"
      ],
      "metadata": {
        "id": "RikuX5nkQODn"
      }
    },
    {
      "cell_type": "code",
      "source": [
        "sgd = SGDClassifier(loss='log', max_iter=10, n_jobs=-1, random_state=42)"
      ],
      "metadata": {
        "id": "xBrP9qf-QKCn"
      },
      "execution_count": null,
      "outputs": []
    },
    {
      "cell_type": "code",
      "source": [
        "sgd.fit(X=data, y=target)"
      ],
      "metadata": {
        "colab": {
          "base_uri": "https://localhost:8080/"
        },
        "id": "O78w-yZaQpFI",
        "outputId": "53b82d18-2fdd-4e03-bd17-8e452bbe4cbc"
      },
      "execution_count": null,
      "outputs": [
        {
          "output_type": "stream",
          "name": "stderr",
          "text": [
            "/usr/local/lib/python3.7/dist-packages/sklearn/linear_model/_stochastic_gradient.py:700: ConvergenceWarning: Maximum number of iteration reached before convergence. Consider increasing max_iter to improve the fit.\n",
            "  ConvergenceWarning,\n"
          ]
        },
        {
          "output_type": "execute_result",
          "data": {
            "text/plain": [
              "SGDClassifier(loss='log', max_iter=10, n_jobs=-1, random_state=42)"
            ]
          },
          "metadata": {},
          "execution_count": 44
        }
      ]
    },
    {
      "cell_type": "code",
      "source": [
        "sgd.coef_  # (n_classes, n_features)"
      ],
      "metadata": {
        "colab": {
          "base_uri": "https://localhost:8080/"
        },
        "id": "0tJBZxccQs3O",
        "outputId": "ad7a5ae4-baf9-4d53-b7b4-71bec8152d3d"
      },
      "execution_count": null,
      "outputs": [
        {
          "output_type": "execute_result",
          "data": {
            "text/plain": [
              "array([[   7.32064421,   13.17715959,  -27.57442655,  -12.68911664],\n",
              "       [  51.85595122, -145.56864647,   40.12103144, -111.8071359 ],\n",
              "       [-122.62126983, -110.20331528,  189.91857208,  159.89458444]])"
            ]
          },
          "metadata": {},
          "execution_count": 45
        }
      ]
    },
    {
      "cell_type": "code",
      "source": [
        "sgd.intercept_"
      ],
      "metadata": {
        "colab": {
          "base_uri": "https://localhost:8080/"
        },
        "id": "xTX_ZKCNQ4rG",
        "outputId": "d8ad3a8f-8343-45e1-bfe6-cbeca2c91887"
      },
      "execution_count": null,
      "outputs": [
        {
          "output_type": "execute_result",
          "data": {
            "text/plain": [
              "array([   4.97012943,   87.73116955, -122.93221386])"
            ]
          },
          "metadata": {},
          "execution_count": 46
        }
      ]
    },
    {
      "cell_type": "code",
      "source": [
        "# 훈련 셋 예측 확률\n",
        "pred_prob = sgd.predict_proba(X=data)\n",
        "pred_prob[:5]"
      ],
      "metadata": {
        "colab": {
          "base_uri": "https://localhost:8080/"
        },
        "id": "2gEBHAXLQ7M3",
        "outputId": "9f7b2745-e29f-45b9-d551-35959f1dbcd1"
      },
      "execution_count": null,
      "outputs": [
        {
          "output_type": "execute_result",
          "data": {
            "text/plain": [
              "array([[1.00000000e+00, 2.34871875e-54, 0.00000000e+00],\n",
              "       [1.00000000e+00, 2.99578244e-27, 0.00000000e+00],\n",
              "       [1.00000000e+00, 3.85472447e-46, 0.00000000e+00],\n",
              "       [1.00000000e+00, 1.38277811e-38, 0.00000000e+00],\n",
              "       [1.00000000e+00, 6.26310478e-63, 0.00000000e+00]])"
            ]
          },
          "metadata": {},
          "execution_count": 47
        }
      ]
    },
    {
      "cell_type": "code",
      "source": [
        "pred_prob[-5:]"
      ],
      "metadata": {
        "colab": {
          "base_uri": "https://localhost:8080/"
        },
        "id": "rXLRm56_Tiaj",
        "outputId": "1b528519-d641-4f60-96b3-5e728d4eece6"
      },
      "execution_count": null,
      "outputs": [
        {
          "output_type": "execute_result",
          "data": {
            "text/plain": [
              "array([[4.79904210e-35, 1.80385537e-22, 1.00000000e+00],\n",
              "       [7.02140712e-35, 5.00000000e-01, 5.00000000e-01],\n",
              "       [4.99499990e-34, 2.08553589e-12, 1.00000000e+00],\n",
              "       [9.67207569e-37, 1.55894047e-55, 1.00000000e+00],\n",
              "       [1.23211445e-33, 5.96727101e-18, 1.00000000e+00]])"
            ]
          },
          "metadata": {},
          "execution_count": 48
        }
      ]
    },
    {
      "cell_type": "code",
      "source": [
        "np.argmax(pred_prob, axis=1)"
      ],
      "metadata": {
        "colab": {
          "base_uri": "https://localhost:8080/"
        },
        "id": "dZiSXwInUMy2",
        "outputId": "c2571476-6eaa-49dd-c128-883ee339b620"
      },
      "execution_count": null,
      "outputs": [
        {
          "output_type": "execute_result",
          "data": {
            "text/plain": [
              "array([0, 0, 0, 0, 0, 0, 0, 0, 0, 0, 0, 0, 0, 0, 0, 0, 0, 0, 0, 0, 0, 0,\n",
              "       0, 0, 0, 0, 0, 0, 0, 0, 0, 0, 0, 0, 0, 0, 0, 0, 0, 0, 0, 0, 0, 0,\n",
              "       0, 0, 0, 0, 0, 0, 1, 1, 1, 1, 1, 1, 0, 1, 1, 1, 1, 1, 1, 1, 0, 1,\n",
              "       2, 1, 1, 1, 2, 1, 1, 1, 1, 1, 1, 1, 1, 1, 1, 1, 1, 2, 2, 0, 1, 1,\n",
              "       1, 1, 1, 1, 1, 1, 1, 1, 1, 1, 1, 1, 2, 2, 2, 2, 2, 1, 2, 1, 1, 2,\n",
              "       2, 2, 2, 2, 2, 2, 2, 2, 1, 1, 2, 2, 1, 2, 2, 2, 2, 2, 2, 1, 1, 2,\n",
              "       2, 1, 1, 1, 2, 2, 2, 2, 2, 2, 2, 2, 2, 2, 1, 2, 2, 2])"
            ]
          },
          "metadata": {},
          "execution_count": 49
        }
      ]
    },
    {
      "cell_type": "code",
      "source": [
        "pred_label = sgd.predict(X=data)\n",
        "pred_label"
      ],
      "metadata": {
        "colab": {
          "base_uri": "https://localhost:8080/"
        },
        "id": "bV4O_FWBTlam",
        "outputId": "328b6d82-5582-4e8d-8abd-3731ac5c168c"
      },
      "execution_count": null,
      "outputs": [
        {
          "output_type": "execute_result",
          "data": {
            "text/plain": [
              "array([0, 0, 0, 0, 0, 0, 0, 0, 0, 0, 0, 0, 0, 0, 0, 0, 0, 0, 0, 0, 0, 0,\n",
              "       0, 0, 0, 0, 0, 0, 0, 0, 0, 0, 0, 0, 0, 0, 0, 0, 0, 0, 0, 0, 0, 0,\n",
              "       0, 0, 0, 0, 0, 0, 1, 1, 1, 1, 1, 1, 0, 1, 1, 1, 1, 1, 1, 1, 0, 1,\n",
              "       2, 1, 1, 1, 2, 1, 1, 1, 1, 1, 1, 1, 1, 1, 1, 1, 1, 2, 2, 0, 1, 1,\n",
              "       1, 1, 1, 1, 1, 1, 1, 1, 1, 1, 1, 1, 2, 2, 2, 2, 2, 2, 2, 2, 2, 2,\n",
              "       2, 2, 2, 2, 2, 2, 2, 2, 2, 1, 2, 2, 2, 2, 2, 2, 2, 2, 2, 1, 2, 2,\n",
              "       2, 1, 2, 2, 2, 2, 2, 2, 2, 2, 2, 2, 2, 2, 2, 2, 2, 2])"
            ]
          },
          "metadata": {},
          "execution_count": 50
        }
      ]
    },
    {
      "cell_type": "code",
      "source": [
        "np.mean(target == pred_label)"
      ],
      "metadata": {
        "colab": {
          "base_uri": "https://localhost:8080/"
        },
        "id": "gDsd1DMaT7fX",
        "outputId": "bdda58ab-8514-4587-fd2c-4f2f57540785"
      },
      "execution_count": null,
      "outputs": [
        {
          "output_type": "execute_result",
          "data": {
            "text/plain": [
              "0.9333333333333333"
            ]
          },
          "metadata": {},
          "execution_count": 51
        }
      ]
    },
    {
      "cell_type": "markdown",
      "source": [
        "### NN"
      ],
      "metadata": {
        "id": "fOwzx1YjWFq_"
      }
    },
    {
      "cell_type": "code",
      "source": [
        "model = keras.Sequential()\n",
        "model.add(keras.layers.Dense(units=3,\n",
        "                             activation=keras.activations.softmax,\n",
        "                             input_shape=(4,)))"
      ],
      "metadata": {
        "id": "m_lIDGiBUFgN"
      },
      "execution_count": null,
      "outputs": []
    },
    {
      "cell_type": "code",
      "source": [
        "model.summary()"
      ],
      "metadata": {
        "colab": {
          "base_uri": "https://localhost:8080/"
        },
        "id": "xdGMNcUWY4Cm",
        "outputId": "60130a13-2935-4ceb-d139-bc5134cfdf7c"
      },
      "execution_count": null,
      "outputs": [
        {
          "output_type": "stream",
          "name": "stdout",
          "text": [
            "Model: \"sequential_1\"\n",
            "_________________________________________________________________\n",
            " Layer (type)                Output Shape              Param #   \n",
            "=================================================================\n",
            " dense_2 (Dense)             (None, 3)                 15        \n",
            "                                                                 \n",
            "=================================================================\n",
            "Total params: 15\n",
            "Trainable params: 15\n",
            "Non-trainable params: 0\n",
            "_________________________________________________________________\n"
          ]
        }
      ]
    },
    {
      "cell_type": "code",
      "source": [
        "model.compile(optimizer=keras.optimizers.SGD(),\n",
        "              loss=keras.losses.sparse_categorical_crossentropy,\n",
        "              metrics=keras.metrics.sparse_categorical_accuracy)\n",
        "# optimizer='sgd', loss='sparse_categorical_crossentropy', metrics='...'"
      ],
      "metadata": {
        "id": "LSEy3NPaY59W"
      },
      "execution_count": null,
      "outputs": []
    },
    {
      "cell_type": "code",
      "source": [
        "model.fit(x=data, y=target, batch_size=1, epochs=10)"
      ],
      "metadata": {
        "colab": {
          "base_uri": "https://localhost:8080/"
        },
        "id": "Lf7219kJZ68n",
        "outputId": "3329ec2e-8313-40ae-bc5a-ab48e76c1318"
      },
      "execution_count": null,
      "outputs": [
        {
          "output_type": "stream",
          "name": "stdout",
          "text": [
            "Epoch 1/10\n",
            "150/150 [==============================] - 1s 2ms/step - loss: 1.4539 - sparse_categorical_accuracy: 0.5667\n",
            "Epoch 2/10\n",
            "150/150 [==============================] - 0s 2ms/step - loss: 0.6557 - sparse_categorical_accuracy: 0.6667\n",
            "Epoch 3/10\n",
            "150/150 [==============================] - 0s 2ms/step - loss: 0.5506 - sparse_categorical_accuracy: 0.7067\n",
            "Epoch 4/10\n",
            "150/150 [==============================] - 0s 1ms/step - loss: 0.4876 - sparse_categorical_accuracy: 0.7533\n",
            "Epoch 5/10\n",
            "150/150 [==============================] - 0s 2ms/step - loss: 0.4641 - sparse_categorical_accuracy: 0.7600\n",
            "Epoch 6/10\n",
            "150/150 [==============================] - 0s 1ms/step - loss: 0.4165 - sparse_categorical_accuracy: 0.8267\n",
            "Epoch 7/10\n",
            "150/150 [==============================] - 0s 1ms/step - loss: 0.4036 - sparse_categorical_accuracy: 0.8133\n",
            "Epoch 8/10\n",
            "150/150 [==============================] - 0s 1ms/step - loss: 0.3932 - sparse_categorical_accuracy: 0.8533\n",
            "Epoch 9/10\n",
            "150/150 [==============================] - 0s 1ms/step - loss: 0.3606 - sparse_categorical_accuracy: 0.8733\n",
            "Epoch 10/10\n",
            "150/150 [==============================] - 0s 1ms/step - loss: 0.3398 - sparse_categorical_accuracy: 0.8733\n"
          ]
        },
        {
          "output_type": "execute_result",
          "data": {
            "text/plain": [
              "<keras.callbacks.History at 0x7f278aac5a50>"
            ]
          },
          "metadata": {},
          "execution_count": 55
        }
      ]
    },
    {
      "cell_type": "code",
      "source": [
        "# 신경망 모델이 훈련을 통해서 찾은 가중치: (n_inputs, n_units) & (n_units,)\n",
        "model.weights"
      ],
      "metadata": {
        "colab": {
          "base_uri": "https://localhost:8080/"
        },
        "id": "GNsozFU6amce",
        "outputId": "6576bb05-c9e1-4b72-d37e-61e2512ffbf6"
      },
      "execution_count": null,
      "outputs": [
        {
          "output_type": "execute_result",
          "data": {
            "text/plain": [
              "[<tf.Variable 'dense_2/kernel:0' shape=(4, 3) dtype=float32, numpy=\n",
              " array([[ 4.6545410e-01,  6.4073646e-01, -5.1051892e-02],\n",
              "        [ 1.2836115e+00, -5.4555100e-01, -1.2073090e+00],\n",
              "        [-9.1402417e-01,  5.8312833e-01,  1.6340306e+00],\n",
              "        [ 9.4282048e-05, -5.7672057e-02,  1.3015144e+00]], dtype=float32)>,\n",
              " <tf.Variable 'dense_2/bias:0' shape=(3,) dtype=float32, numpy=array([ 0.05807034,  0.2930887 , -0.35115913], dtype=float32)>]"
            ]
          },
          "metadata": {},
          "execution_count": 56
        }
      ]
    },
    {
      "cell_type": "code",
      "source": [
        "# 다중 클래스 분류 신경망 모델의 predict(): 각 클래스가 될 확률들\n",
        "pred = model.predict(x=data)"
      ],
      "metadata": {
        "id": "vBVnYCPpfYpu"
      },
      "execution_count": null,
      "outputs": []
    },
    {
      "cell_type": "code",
      "source": [
        "pred[:5]"
      ],
      "metadata": {
        "colab": {
          "base_uri": "https://localhost:8080/"
        },
        "id": "P6jcsN_Ug8XW",
        "outputId": "16524509-5ce9-434d-9436-6133e4917880"
      },
      "execution_count": null,
      "outputs": [
        {
          "output_type": "execute_result",
          "data": {
            "text/plain": [
              "array([[9.6007454e-01, 3.9581448e-02, 3.4401825e-04],\n",
              "       [9.0848923e-01, 9.0256654e-02, 1.2541688e-03],\n",
              "       [9.4517505e-01, 5.4143619e-02, 6.8138452e-04],\n",
              "       [9.1507894e-01, 8.3437659e-02, 1.4834446e-03],\n",
              "       [9.6708685e-01, 3.2628756e-02, 2.8444245e-04]], dtype=float32)"
            ]
          },
          "metadata": {},
          "execution_count": 58
        }
      ]
    },
    {
      "cell_type": "code",
      "source": [
        "pred[-5:]"
      ],
      "metadata": {
        "colab": {
          "base_uri": "https://localhost:8080/"
        },
        "id": "fD1zBXfcg989",
        "outputId": "e38d87b9-469f-4f1b-eedc-364e022b5683"
      },
      "execution_count": null,
      "outputs": [
        {
          "output_type": "execute_result",
          "data": {
            "text/plain": [
              "array([[0.00584679, 0.20854285, 0.7856103 ],\n",
              "       [0.00371969, 0.23416783, 0.7621125 ],\n",
              "       [0.00730609, 0.25601462, 0.7366793 ],\n",
              "       [0.00774436, 0.16424213, 0.8280135 ],\n",
              "       [0.00904167, 0.24839951, 0.7425588 ]], dtype=float32)"
            ]
          },
          "metadata": {},
          "execution_count": 59
        }
      ]
    },
    {
      "cell_type": "code",
      "source": [
        "pred.shape  #> 신경망에서 최종 output의 shape"
      ],
      "metadata": {
        "colab": {
          "base_uri": "https://localhost:8080/"
        },
        "id": "YrrFYt3PhaZV",
        "outputId": "71c47861-7064-4d05-9f89-3db78d09be76"
      },
      "execution_count": null,
      "outputs": [
        {
          "output_type": "execute_result",
          "data": {
            "text/plain": [
              "(150, 3)"
            ]
          },
          "metadata": {},
          "execution_count": 60
        }
      ]
    },
    {
      "cell_type": "code",
      "source": [
        "pred_label = np.argmax(pred, axis=1)\n",
        "pred_label"
      ],
      "metadata": {
        "colab": {
          "base_uri": "https://localhost:8080/"
        },
        "id": "QH-AvaWAhbFH",
        "outputId": "c0391545-040e-471c-b665-d5be1d5c71cf"
      },
      "execution_count": null,
      "outputs": [
        {
          "output_type": "execute_result",
          "data": {
            "text/plain": [
              "array([0, 0, 0, 0, 0, 0, 0, 0, 0, 0, 0, 0, 0, 0, 0, 0, 0, 0, 0, 0, 0, 0,\n",
              "       0, 0, 0, 0, 0, 0, 0, 0, 0, 0, 0, 0, 0, 0, 0, 0, 0, 0, 0, 0, 0, 0,\n",
              "       0, 0, 0, 0, 0, 0, 1, 1, 1, 1, 1, 2, 1, 1, 1, 1, 1, 1, 1, 2, 1, 1,\n",
              "       2, 1, 2, 1, 2, 1, 2, 1, 1, 1, 1, 2, 2, 1, 1, 1, 1, 2, 2, 1, 1, 1,\n",
              "       1, 1, 2, 1, 1, 1, 1, 1, 1, 1, 1, 1, 2, 2, 2, 2, 2, 2, 2, 2, 2, 2,\n",
              "       2, 2, 2, 2, 2, 2, 2, 2, 2, 2, 2, 2, 2, 2, 2, 2, 2, 2, 2, 2, 2, 2,\n",
              "       2, 2, 2, 2, 2, 2, 2, 2, 2, 2, 2, 2, 2, 2, 2, 2, 2, 2])"
            ]
          },
          "metadata": {},
          "execution_count": 61
        }
      ]
    },
    {
      "cell_type": "code",
      "source": [
        "np.mean(target == pred_label)"
      ],
      "metadata": {
        "colab": {
          "base_uri": "https://localhost:8080/"
        },
        "id": "ixvRhExjh3Dt",
        "outputId": "c72790b8-91d1-40f3-da99-13d4b5f62606"
      },
      "execution_count": null,
      "outputs": [
        {
          "output_type": "execute_result",
          "data": {
            "text/plain": [
              "0.9266666666666666"
            ]
          },
          "metadata": {},
          "execution_count": 62
        }
      ]
    },
    {
      "cell_type": "markdown",
      "source": [
        "# Fashion MNIST datasets"
      ],
      "metadata": {
        "id": "55ACDNHhi-uF"
      }
    },
    {
      "cell_type": "code",
      "source": [
        "(X_tr, y_tr), (X_te, y_te) = keras.datasets.fashion_mnist.load_data()"
      ],
      "metadata": {
        "colab": {
          "base_uri": "https://localhost:8080/"
        },
        "id": "SGMjskbQh_91",
        "outputId": "599174cc-f095-49b6-fd02-09eaa77f4df2"
      },
      "execution_count": null,
      "outputs": [
        {
          "output_type": "stream",
          "name": "stdout",
          "text": [
            "Downloading data from https://storage.googleapis.com/tensorflow/tf-keras-datasets/train-labels-idx1-ubyte.gz\n",
            "32768/29515 [=================================] - 0s 0us/step\n",
            "40960/29515 [=========================================] - 0s 0us/step\n",
            "Downloading data from https://storage.googleapis.com/tensorflow/tf-keras-datasets/train-images-idx3-ubyte.gz\n",
            "26427392/26421880 [==============================] - 0s 0us/step\n",
            "26435584/26421880 [==============================] - 0s 0us/step\n",
            "Downloading data from https://storage.googleapis.com/tensorflow/tf-keras-datasets/t10k-labels-idx1-ubyte.gz\n",
            "16384/5148 [===============================================================================================] - 0s 0us/step\n",
            "Downloading data from https://storage.googleapis.com/tensorflow/tf-keras-datasets/t10k-images-idx3-ubyte.gz\n",
            "4423680/4422102 [==============================] - 0s 0us/step\n",
            "4431872/4422102 [==============================] - 0s 0us/step\n"
          ]
        }
      ]
    },
    {
      "cell_type": "code",
      "source": [
        "X_tr.shape, y_tr.shape"
      ],
      "metadata": {
        "colab": {
          "base_uri": "https://localhost:8080/"
        },
        "id": "x3ZI0tUWjO81",
        "outputId": "804d195e-1f24-4759-be50-5187e8d508af"
      },
      "execution_count": null,
      "outputs": [
        {
          "output_type": "execute_result",
          "data": {
            "text/plain": [
              "((60000, 28, 28), (60000,))"
            ]
          },
          "metadata": {},
          "execution_count": 64
        }
      ]
    },
    {
      "cell_type": "code",
      "source": [
        "img = X_tr[0]\n",
        "plt.imshow(img, cmap=plt.cm.binary)\n",
        "plt.show()"
      ],
      "metadata": {
        "colab": {
          "base_uri": "https://localhost:8080/",
          "height": 265
        },
        "id": "y9uh1wK_jlv9",
        "outputId": "0700efd6-8787-446a-d5a3-655597e529ec"
      },
      "execution_count": null,
      "outputs": [
        {
          "output_type": "display_data",
          "data": {
            "text/plain": [
              "<Figure size 432x288 with 1 Axes>"
            ],
            "image/png": "[encoded data removed]"
          },
          "metadata": {
            "needs_background": "light"
          }
        }
      ]
    },
    {
      "cell_type": "code",
      "source": [
        "y_tr[0]"
      ],
      "metadata": {
        "colab": {
          "base_uri": "https://localhost:8080/"
        },
        "id": "MkdEzLNBj5j1",
        "outputId": "2cf01494-5d7f-4436-bf89-0ec19443c766"
      },
      "execution_count": null,
      "outputs": [
        {
          "output_type": "execute_result",
          "data": {
            "text/plain": [
              "9"
            ]
          },
          "metadata": {},
          "execution_count": 66
        }
      ]
    },
    {
      "cell_type": "code",
      "source": [
        "np.unique(y_tr, return_counts=True)"
      ],
      "metadata": {
        "colab": {
          "base_uri": "https://localhost:8080/"
        },
        "id": "pgv2LdbWkB7N",
        "outputId": "d665dadb-2be8-4c62-e0bf-85fe7e3289a9"
      },
      "execution_count": null,
      "outputs": [
        {
          "output_type": "execute_result",
          "data": {
            "text/plain": [
              "(array([0, 1, 2, 3, 4, 5, 6, 7, 8, 9], dtype=uint8),\n",
              " array([6000, 6000, 6000, 6000, 6000, 6000, 6000, 6000, 6000, 6000]))"
            ]
          },
          "metadata": {},
          "execution_count": 67
        }
      ]
    },
    {
      "cell_type": "code",
      "source": [
        "X_te.shape, y_te.shape"
      ],
      "metadata": {
        "colab": {
          "base_uri": "https://localhost:8080/"
        },
        "id": "DU2tgmvckNqn",
        "outputId": "31c56dc4-561c-48c3-9242-1fd25e9215b1"
      },
      "execution_count": null,
      "outputs": [
        {
          "output_type": "execute_result",
          "data": {
            "text/plain": [
              "((10000, 28, 28), (10000,))"
            ]
          },
          "metadata": {},
          "execution_count": 68
        }
      ]
    },
    {
      "cell_type": "code",
      "source": [
        "img = X_te[0]\n",
        "plt.imshow(img, cmap=plt.cm.binary)\n",
        "plt.show()"
      ],
      "metadata": {
        "colab": {
          "base_uri": "https://localhost:8080/",
          "height": 265
        },
        "id": "Sg7Rct7Nkabd",
        "outputId": "0a660d31-d8c2-414e-c41c-13ab08898bf2"
      },
      "execution_count": null,
      "outputs": [
        {
          "output_type": "display_data",
          "data": {
            "text/plain": [
              "<Figure size 432x288 with 1 Axes>"
            ],
            "image/png": "[encoded data removed]"
          },
          "metadata": {
            "needs_background": "light"
          }
        }
      ]
    },
    {
      "cell_type": "code",
      "source": [
        "y_te[0]"
      ],
      "metadata": {
        "colab": {
          "base_uri": "https://localhost:8080/"
        },
        "id": "WLjusxggkiHd",
        "outputId": "cb019323-4a83-45d2-8d24-59e787b2295c"
      },
      "execution_count": null,
      "outputs": [
        {
          "output_type": "execute_result",
          "data": {
            "text/plain": [
              "9"
            ]
          },
          "metadata": {},
          "execution_count": 70
        }
      ]
    },
    {
      "cell_type": "code",
      "source": [
        "np.unique(y_te, return_counts=True)"
      ],
      "metadata": {
        "colab": {
          "base_uri": "https://localhost:8080/"
        },
        "id": "1c-1Mhrxklxt",
        "outputId": "25e4ad61-6b00-4d9d-852b-6222733d05fd"
      },
      "execution_count": null,
      "outputs": [
        {
          "output_type": "execute_result",
          "data": {
            "text/plain": [
              "(array([0, 1, 2, 3, 4, 5, 6, 7, 8, 9], dtype=uint8),\n",
              " array([1000, 1000, 1000, 1000, 1000, 1000, 1000, 1000, 1000, 1000]))"
            ]
          },
          "metadata": {},
          "execution_count": 71
        }
      ]
    },
    {
      "cell_type": "code",
      "source": [
        "def plot_fashion_mnist(arr, ncols=10):\n",
        "    n = len(arr)  # arr의 원소의 개수, 샘플 개수.\n",
        "    nrows = int(np.ceil(n / ncols))  # subplot의 row 개수\n",
        "    fig, ax = plt.subplots(nrows, ncols, figsize=(ncols, nrows))\n",
        "    for i in range(nrows):\n",
        "        for j in range(ncols):\n",
        "            idx = i * ncols + j  # arr에서 샘플의 인덱스\n",
        "            if nrows == 1 or ncols == 1:  # ax가 1차원 배열인 경우\n",
        "                if idx < n:\n",
        "                    ax[idx].imshow(arr[idx], cmap=plt.cm.binary)\n",
        "                ax[idx].axis('off')\n",
        "            else:  # ax가 2차원 배열인 경우\n",
        "                if idx < n:\n",
        "                    ax[i, j].imshow(arr[idx], cmap=plt.cm.binary)\n",
        "                ax[i, j].axis('off')\n",
        "    plt.show()"
      ],
      "metadata": {
        "id": "_Kwr4zc6ktHG"
      },
      "execution_count": null,
      "outputs": []
    },
    {
      "cell_type": "code",
      "source": [
        "plot_fashion_mnist(X_tr[:95])"
      ],
      "metadata": {
        "colab": {
          "base_uri": "https://localhost:8080/",
          "height": 574
        },
        "id": "zZqpbC0c7Fi7",
        "outputId": "1eb1a2a1-6cae-47db-8b34-46921884cd32"
      },
      "execution_count": null,
      "outputs": [
        {
          "output_type": "display_data",
          "data": {
            "text/plain": [
              "<Figure size 720x720 with 100 Axes>"
            ],
            "image/png": "[encoded data removed]"
          },
          "metadata": {
            "needs_background": "light"
          }
        }
      ]
    },
    {
      "cell_type": "markdown",
      "source": [
        "데이터 셋 전처리:\n",
        "\n",
        "훈련 셋과 테스트 셋은 0 ~ 255 스케일인데, 0 ~ 1 스케일로 변환."
      ],
      "metadata": {
        "id": "zCX8lP8_8KpN"
      }
    },
    {
      "cell_type": "code",
      "source": [
        "X_tr_sc = X_tr / 255\n",
        "X_te_sc = X_te / 255"
      ],
      "metadata": {
        "id": "fur-lLhH7LcK"
      },
      "execution_count": null,
      "outputs": []
    },
    {
      "cell_type": "markdown",
      "source": [
        "훈련 셋을 훈련(48,000)/검증(12,000) 셋으로 분리"
      ],
      "metadata": {
        "id": "EpE1w3p19GRK"
      }
    },
    {
      "cell_type": "code",
      "source": [
        "tr_data, val_data, tr_target, val_target = train_test_split(X_tr_sc, y_tr,\n",
        "                                                            test_size=0.2,\n",
        "                                                            random_state=42,\n",
        "                                                            stratify=y_tr)"
      ],
      "metadata": {
        "id": "mzcE4aTf9CNq"
      },
      "execution_count": null,
      "outputs": []
    },
    {
      "cell_type": "code",
      "source": [
        "tr_data.shape"
      ],
      "metadata": {
        "colab": {
          "base_uri": "https://localhost:8080/"
        },
        "id": "5ApcjxeS-HGT",
        "outputId": "57a7859e-1478-43c9-98d4-5ee3a8e88d94"
      },
      "execution_count": null,
      "outputs": [
        {
          "output_type": "execute_result",
          "data": {
            "text/plain": [
              "(48000, 28, 28)"
            ]
          },
          "metadata": {},
          "execution_count": 76
        }
      ]
    },
    {
      "cell_type": "code",
      "source": [
        "tr_data = tr_data.reshape((48000, -1))    # (48000, 28, 28) -> (48000, 784)\n",
        "val_data = val_data.reshape((12000, -1))  # (12000, 28, 28) -> (12000, 784)"
      ],
      "metadata": {
        "id": "E7XX_ivX-TXT"
      },
      "execution_count": null,
      "outputs": []
    },
    {
      "cell_type": "markdown",
      "source": [
        "## SGD classifier"
      ],
      "metadata": {
        "id": "XJVFPSll8689"
      }
    },
    {
      "cell_type": "code",
      "source": [
        "sgd = SGDClassifier(loss='log', max_iter=10, n_jobs=-1, random_state=42)"
      ],
      "metadata": {
        "id": "T46TG_Y_82gr"
      },
      "execution_count": null,
      "outputs": []
    },
    {
      "cell_type": "code",
      "source": [
        "sgd.fit(tr_data, tr_target)"
      ],
      "metadata": {
        "colab": {
          "base_uri": "https://localhost:8080/"
        },
        "id": "k9I3lLUm97a7",
        "outputId": "69423b79-17de-45c9-eec1-5eaab242d50c"
      },
      "execution_count": null,
      "outputs": [
        {
          "output_type": "stream",
          "name": "stderr",
          "text": [
            "/usr/local/lib/python3.7/dist-packages/sklearn/linear_model/_stochastic_gradient.py:700: ConvergenceWarning: Maximum number of iteration reached before convergence. Consider increasing max_iter to improve the fit.\n",
            "  ConvergenceWarning,\n"
          ]
        },
        {
          "output_type": "execute_result",
          "data": {
            "text/plain": [
              "SGDClassifier(loss='log', max_iter=10, n_jobs=-1, random_state=42)"
            ]
          },
          "metadata": {},
          "execution_count": 79
        }
      ]
    },
    {
      "cell_type": "code",
      "source": [
        "# 훈련 결과로 찾은 계수들(coefficients)과 절편들(intercepts)\n",
        "sgd.coef_.shape, sgd.intercept_.shape\n",
        "# coefficients: (10, 784)=(n_classes, n_features), intercepts: (10,)=(n_classes,)"
      ],
      "metadata": {
        "colab": {
          "base_uri": "https://localhost:8080/"
        },
        "id": "AP_lx2DN_A-7",
        "outputId": "5066b209-175c-450e-cd61-4a37eb294368"
      },
      "execution_count": null,
      "outputs": [
        {
          "output_type": "execute_result",
          "data": {
            "text/plain": [
              "((10, 784), (10,))"
            ]
          },
          "metadata": {},
          "execution_count": 80
        }
      ]
    },
    {
      "cell_type": "code",
      "source": [
        "# 훈련 셋 예측 확률\n",
        "tr_pred_prob = sgd.predict_proba(tr_data)\n",
        "tr_pred_prob[:5]"
      ],
      "metadata": {
        "colab": {
          "base_uri": "https://localhost:8080/"
        },
        "id": "Z9hrNiKSAF29",
        "outputId": "c54969eb-572e-4838-bf4e-5d05716a0fb8"
      },
      "execution_count": null,
      "outputs": [
        {
          "output_type": "execute_result",
          "data": {
            "text/plain": [
              "array([[3.46103829e-03, 1.98675755e-06, 4.82667555e-01, 5.02729471e-05,\n",
              "        5.48912955e-04, 3.15719188e-12, 5.03987179e-01, 2.65192156e-18,\n",
              "        9.28305521e-03, 3.96124972e-35],\n",
              "       [7.55523103e-01, 3.54977754e-05, 3.87606154e-05, 1.08699705e-05,\n",
              "        5.89136288e-03, 1.79628081e-19, 2.37639589e-01, 9.02758217e-16,\n",
              "        8.60816116e-04, 2.98418435e-33],\n",
              "       [7.97566128e-04, 1.45330661e-04, 4.22729884e-04, 9.60294932e-01,\n",
              "        1.55868192e-06, 2.10671858e-13, 3.83331593e-02, 3.59903550e-06,\n",
              "        1.12473819e-06, 3.41043524e-27],\n",
              "       [1.25158255e-02, 1.15572089e-02, 3.29383853e-03, 9.72464894e-01,\n",
              "        3.91064660e-06, 2.34330697e-08, 1.12412979e-04, 6.58855217e-08,\n",
              "        5.18206161e-05, 3.69130082e-23],\n",
              "       [9.55929510e-01, 3.04957677e-07, 2.88578564e-02, 2.67622081e-09,\n",
              "        3.14834992e-09, 5.39027905e-22, 1.38535303e-02, 3.00496410e-16,\n",
              "        1.35879227e-03, 6.54101447e-22]])"
            ]
          },
          "metadata": {},
          "execution_count": 81
        }
      ]
    },
    {
      "cell_type": "code",
      "source": [
        "tr_pred = sgd.predict(tr_data)\n",
        "tr_pred[:5]"
      ],
      "metadata": {
        "colab": {
          "base_uri": "https://localhost:8080/"
        },
        "id": "yRfwZ9R0Ak8m",
        "outputId": "9b55a930-1196-43e7-dfec-1f6c30e8e753"
      },
      "execution_count": null,
      "outputs": [
        {
          "output_type": "execute_result",
          "data": {
            "text/plain": [
              "array([6, 0, 3, 3, 0], dtype=uint8)"
            ]
          },
          "metadata": {},
          "execution_count": 82
        }
      ]
    },
    {
      "cell_type": "code",
      "source": [
        "# 훈련 셋에서의 정확도\n",
        "sgd.score(tr_data, tr_target)"
      ],
      "metadata": {
        "colab": {
          "base_uri": "https://localhost:8080/"
        },
        "id": "68MKpst2A4e2",
        "outputId": "f5b59897-8300-4cac-e0a0-da5430302cc7"
      },
      "execution_count": null,
      "outputs": [
        {
          "output_type": "execute_result",
          "data": {
            "text/plain": [
              "0.8447291666666666"
            ]
          },
          "metadata": {},
          "execution_count": 83
        }
      ]
    },
    {
      "cell_type": "code",
      "source": [
        "# 검증 셋에서의 정확도\n",
        "sgd.score(val_data, val_target)"
      ],
      "metadata": {
        "colab": {
          "base_uri": "https://localhost:8080/"
        },
        "id": "En8l1Tx0BDOz",
        "outputId": "a6a23944-d858-46ae-e842-8550da832936"
      },
      "execution_count": null,
      "outputs": [
        {
          "output_type": "execute_result",
          "data": {
            "text/plain": [
              "0.8380833333333333"
            ]
          },
          "metadata": {},
          "execution_count": 84
        }
      ]
    },
    {
      "cell_type": "markdown",
      "source": [
        "## Neural Network"
      ],
      "metadata": {
        "id": "R5VRMTZHBqPt"
      }
    },
    {
      "cell_type": "code",
      "source": [
        "model = keras.Sequential()\n",
        "model.add(keras.layers.Dense(units=10,\n",
        "                             activation=keras.activations.softmax,\n",
        "                             input_shape=(784,)))"
      ],
      "metadata": {
        "id": "aW12o4EfBL5K"
      },
      "execution_count": null,
      "outputs": []
    },
    {
      "cell_type": "code",
      "source": [
        "model.summary()"
      ],
      "metadata": {
        "colab": {
          "base_uri": "https://localhost:8080/"
        },
        "id": "mIHBde5nDTlK",
        "outputId": "be8cc447-fc44-4786-bc9f-9ca02d71c22e"
      },
      "execution_count": null,
      "outputs": [
        {
          "output_type": "stream",
          "name": "stdout",
          "text": [
            "Model: \"sequential_2\"\n",
            "_________________________________________________________________\n",
            " Layer (type)                Output Shape              Param #   \n",
            "=================================================================\n",
            " dense_3 (Dense)             (None, 10)                7850      \n",
            "                                                                 \n",
            "=================================================================\n",
            "Total params: 7,850\n",
            "Trainable params: 7,850\n",
            "Non-trainable params: 0\n",
            "_________________________________________________________________\n"
          ]
        }
      ]
    },
    {
      "cell_type": "code",
      "source": [
        "model.compile(optimizer=keras.optimizers.SGD(),\n",
        "              loss=keras.losses.sparse_categorical_crossentropy,\n",
        "              metrics=keras.metrics.sparse_categorical_accuracy)"
      ],
      "metadata": {
        "id": "sSzo3b7sDYaj"
      },
      "execution_count": null,
      "outputs": []
    },
    {
      "cell_type": "code",
      "source": [
        "model.fit(tr_data, tr_target, epochs=10)\n",
        "# batch_size=None일 때, batch_size의 기본값은 32\n",
        "# -> 한 번의 epoch에서 반복하는 횟수는 48_000 / 32 = 1_500"
      ],
      "metadata": {
        "colab": {
          "base_uri": "https://localhost:8080/"
        },
        "id": "6dUlugMdD-ua",
        "outputId": "a5c9c901-a1db-4c99-8266-ccfc61ee4cb3"
      },
      "execution_count": null,
      "outputs": [
        {
          "output_type": "stream",
          "name": "stdout",
          "text": [
            "Epoch 1/10\n",
            "1500/1500 [==============================] - 3s 2ms/step - loss: 0.8705 - sparse_categorical_accuracy: 0.7244\n",
            "Epoch 2/10\n",
            "1500/1500 [==============================] - 2s 2ms/step - loss: 0.6168 - sparse_categorical_accuracy: 0.7992\n",
            "Epoch 3/10\n",
            "1500/1500 [==============================] - 2s 2ms/step - loss: 0.5630 - sparse_categorical_accuracy: 0.8146\n",
            "Epoch 4/10\n",
            "1500/1500 [==============================] - 2s 2ms/step - loss: 0.5340 - sparse_categorical_accuracy: 0.8236\n",
            "Epoch 5/10\n",
            "1500/1500 [==============================] - 2s 2ms/step - loss: 0.5158 - sparse_categorical_accuracy: 0.8286\n",
            "Epoch 6/10\n",
            "1500/1500 [==============================] - 2s 2ms/step - loss: 0.5019 - sparse_categorical_accuracy: 0.8324\n",
            "Epoch 7/10\n",
            "1500/1500 [==============================] - 2s 2ms/step - loss: 0.4913 - sparse_categorical_accuracy: 0.8356\n",
            "Epoch 8/10\n",
            "1500/1500 [==============================] - 2s 2ms/step - loss: 0.4827 - sparse_categorical_accuracy: 0.8388\n",
            "Epoch 9/10\n",
            "1500/1500 [==============================] - 2s 2ms/step - loss: 0.4757 - sparse_categorical_accuracy: 0.8400\n",
            "Epoch 10/10\n",
            "1500/1500 [==============================] - 2s 2ms/step - loss: 0.4696 - sparse_categorical_accuracy: 0.8419\n"
          ]
        },
        {
          "output_type": "execute_result",
          "data": {
            "text/plain": [
              "<keras.callbacks.History at 0x7f2782d58390>"
            ]
          },
          "metadata": {},
          "execution_count": 88
        }
      ]
    },
    {
      "cell_type": "code",
      "source": [
        "model.weights[0].shape"
      ],
      "metadata": {
        "colab": {
          "base_uri": "https://localhost:8080/"
        },
        "id": "oNJ5D55dEdkk",
        "outputId": "7edfd283-dce0-470c-d406-4c56bc22c5e4"
      },
      "execution_count": null,
      "outputs": [
        {
          "output_type": "execute_result",
          "data": {
            "text/plain": [
              "TensorShape([784, 10])"
            ]
          },
          "metadata": {},
          "execution_count": 89
        }
      ]
    },
    {
      "cell_type": "code",
      "source": [
        "model.weights[1].shape"
      ],
      "metadata": {
        "colab": {
          "base_uri": "https://localhost:8080/"
        },
        "id": "D0RY01R0LY1j",
        "outputId": "3f127657-0cc2-4909-ed8f-ebbbba2d9d49"
      },
      "execution_count": null,
      "outputs": [
        {
          "output_type": "execute_result",
          "data": {
            "text/plain": [
              "TensorShape([10])"
            ]
          },
          "metadata": {},
          "execution_count": 90
        }
      ]
    },
    {
      "cell_type": "code",
      "source": [
        "model.evaluate(tr_data, tr_target)"
      ],
      "metadata": {
        "colab": {
          "base_uri": "https://localhost:8080/"
        },
        "id": "nATQTtheLeW9",
        "outputId": "7f936e3e-8d15-45a8-f6a7-432c786ead57"
      },
      "execution_count": null,
      "outputs": [
        {
          "output_type": "stream",
          "name": "stdout",
          "text": [
            "1500/1500 [==============================] - 2s 1ms/step - loss: 0.4707 - sparse_categorical_accuracy: 0.8411\n"
          ]
        },
        {
          "output_type": "execute_result",
          "data": {
            "text/plain": [
              "[0.47066929936408997, 0.8410624861717224]"
            ]
          },
          "metadata": {},
          "execution_count": 91
        }
      ]
    },
    {
      "cell_type": "code",
      "source": [
        "model.evaluate(val_data, val_target)"
      ],
      "metadata": {
        "colab": {
          "base_uri": "https://localhost:8080/"
        },
        "id": "LXK4ZGOUL12L",
        "outputId": "8a85b2be-6ddf-4196-ed34-655e266e31e9"
      },
      "execution_count": null,
      "outputs": [
        {
          "output_type": "stream",
          "name": "stdout",
          "text": [
            "375/375 [==============================] - 1s 1ms/step - loss: 0.4611 - sparse_categorical_accuracy: 0.8437\n"
          ]
        },
        {
          "output_type": "execute_result",
          "data": {
            "text/plain": [
              "[0.4611171782016754, 0.843666672706604]"
            ]
          },
          "metadata": {},
          "execution_count": 92
        }
      ]
    },
    {
      "cell_type": "markdown",
      "source": [
        "## Deep Neural Network(심층 신경망)"
      ],
      "metadata": {
        "id": "LRnjWA10OAR8"
      }
    },
    {
      "cell_type": "markdown",
      "source": [
        "Deep learing: DNN을 훈련시키는 머신 러닝 학습 방법.\n",
        "\n",
        "layer를 2개 이상 연결하는 신경망을 만들 경우:\n",
        "*   첫번째 layer에서만 input_shape을 지정하면 됨.\n",
        "    *   두번째 layer부터는 그 이전 layer의 출력의 개수(unit의 개수)가 input_shape으로 자동 계산됨.\n",
        "*   마지막 layer(출력층)를 제외한 중간 layer들의 units, activation 파라미터는 훈련을 통해서 최적의 값을 찾아야 하는 하이퍼 파라미터.\n",
        "*   출력층의 units, activation 파라미터는 문제에 따라서 결정됨.\n",
        "    *   이진 분류: `units=1`, `activation='sigmoid'`\n",
        "    *   다중 클래스 분류: `units=n_classes`, `activation='softmax'`"
      ],
      "metadata": {
        "id": "g4dGfkSZOG56"
      }
    },
    {
      "cell_type": "code",
      "source": [
        "model = keras.Sequential()\n",
        "model.add(keras.layers.Dense(units=100, \n",
        "                             activation=keras.activations.sigmoid,\n",
        "                             input_shape=(784,)))\n",
        "model.add(keras.layers.Dense(units=10,\n",
        "                             activation=keras.activations.softmax))\n",
        "model.summary()"
      ],
      "metadata": {
        "colab": {
          "base_uri": "https://localhost:8080/"
        },
        "id": "GSf4MKZUMaOy",
        "outputId": "1da3d980-54dc-4067-b396-1d821874487e"
      },
      "execution_count": null,
      "outputs": [
        {
          "output_type": "stream",
          "name": "stdout",
          "text": [
            "Model: \"sequential_3\"\n",
            "_________________________________________________________________\n",
            " Layer (type)                Output Shape              Param #   \n",
            "=================================================================\n",
            " dense_4 (Dense)             (None, 100)               78500     \n",
            "                                                                 \n",
            " dense_5 (Dense)             (None, 10)                1010      \n",
            "                                                                 \n",
            "=================================================================\n",
            "Total params: 79,510\n",
            "Trainable params: 79,510\n",
            "Non-trainable params: 0\n",
            "_________________________________________________________________\n"
          ]
        }
      ]
    },
    {
      "cell_type": "code",
      "source": [
        "model.compile(optimizer=keras.optimizers.SGD(),\n",
        "              loss=keras.losses.sparse_categorical_crossentropy,\n",
        "              metrics=keras.metrics.sparse_categorical_accuracy)"
      ],
      "metadata": {
        "id": "ysp8Zzx0PcoC"
      },
      "execution_count": null,
      "outputs": []
    },
    {
      "cell_type": "code",
      "source": [
        "model.fit(tr_data, tr_target, epochs=10)"
      ],
      "metadata": {
        "colab": {
          "base_uri": "https://localhost:8080/"
        },
        "id": "EkEhm4fyRkLZ",
        "outputId": "0f3ed053-d33e-491a-e59c-149dd0905658"
      },
      "execution_count": null,
      "outputs": [
        {
          "output_type": "stream",
          "name": "stdout",
          "text": [
            "Epoch 1/10\n",
            "1500/1500 [==============================] - 3s 2ms/step - loss: 1.4032 - sparse_categorical_accuracy: 0.6374\n",
            "Epoch 2/10\n",
            "1500/1500 [==============================] - 3s 2ms/step - loss: 0.8534 - sparse_categorical_accuracy: 0.7432\n",
            "Epoch 3/10\n",
            "1500/1500 [==============================] - 3s 2ms/step - loss: 0.7176 - sparse_categorical_accuracy: 0.7615\n",
            "Epoch 4/10\n",
            "1500/1500 [==============================] - 3s 2ms/step - loss: 0.6516 - sparse_categorical_accuracy: 0.7775\n",
            "Epoch 5/10\n",
            "1500/1500 [==============================] - 3s 2ms/step - loss: 0.6091 - sparse_categorical_accuracy: 0.7903\n",
            "Epoch 6/10\n",
            "1500/1500 [==============================] - 3s 2ms/step - loss: 0.5782 - sparse_categorical_accuracy: 0.8018\n",
            "Epoch 7/10\n",
            "1500/1500 [==============================] - 3s 2ms/step - loss: 0.5545 - sparse_categorical_accuracy: 0.8099\n",
            "Epoch 8/10\n",
            "1500/1500 [==============================] - 3s 2ms/step - loss: 0.5358 - sparse_categorical_accuracy: 0.8157\n",
            "Epoch 9/10\n",
            "1500/1500 [==============================] - 3s 2ms/step - loss: 0.5207 - sparse_categorical_accuracy: 0.8208\n",
            "Epoch 10/10\n",
            "1500/1500 [==============================] - 3s 2ms/step - loss: 0.5081 - sparse_categorical_accuracy: 0.8236\n"
          ]
        },
        {
          "output_type": "execute_result",
          "data": {
            "text/plain": [
              "<keras.callbacks.History at 0x7f278252b110>"
            ]
          },
          "metadata": {},
          "execution_count": 95
        }
      ]
    },
    {
      "cell_type": "code",
      "source": [
        "model.weights[0].shape, model.weights[1].shape"
      ],
      "metadata": {
        "colab": {
          "base_uri": "https://localhost:8080/"
        },
        "id": "JPe3dO7_TBtw",
        "outputId": "539e5cc7-6661-4a65-beb5-f7b80f8f0965"
      },
      "execution_count": null,
      "outputs": [
        {
          "output_type": "execute_result",
          "data": {
            "text/plain": [
              "(TensorShape([784, 100]), TensorShape([100]))"
            ]
          },
          "metadata": {},
          "execution_count": 96
        }
      ]
    },
    {
      "cell_type": "code",
      "source": [
        "model.weights[2].shape, model.weights[3].shape"
      ],
      "metadata": {
        "colab": {
          "base_uri": "https://localhost:8080/"
        },
        "id": "XkSIgF64TPDf",
        "outputId": "6f79340c-1f72-4b2f-b0bb-acba0d25eb50"
      },
      "execution_count": null,
      "outputs": [
        {
          "output_type": "execute_result",
          "data": {
            "text/plain": [
              "(TensorShape([100, 10]), TensorShape([10]))"
            ]
          },
          "metadata": {},
          "execution_count": 97
        }
      ]
    },
    {
      "cell_type": "code",
      "source": [
        "# 훈련 셋에서의 손실(cross entropy)과 정확도\n",
        "model.evaluate(tr_data, tr_target)"
      ],
      "metadata": {
        "colab": {
          "base_uri": "https://localhost:8080/"
        },
        "id": "8E0WGpZuVrqs",
        "outputId": "8d9afd7f-7d3f-47fc-c6cb-44a3402748d6"
      },
      "execution_count": null,
      "outputs": [
        {
          "output_type": "stream",
          "name": "stdout",
          "text": [
            "1500/1500 [==============================] - 2s 2ms/step - loss: 0.5010 - sparse_categorical_accuracy: 0.8269\n"
          ]
        },
        {
          "output_type": "execute_result",
          "data": {
            "text/plain": [
              "[0.500991702079773, 0.8268749713897705]"
            ]
          },
          "metadata": {},
          "execution_count": 98
        }
      ]
    },
    {
      "cell_type": "code",
      "source": [
        "# 검증 셋에서의 손실과 정확도\n",
        "model.evaluate(val_data, val_target)"
      ],
      "metadata": {
        "colab": {
          "base_uri": "https://localhost:8080/"
        },
        "id": "k7dLmy5yV1E6",
        "outputId": "478325e7-95de-4850-8743-0b8ad78d577d"
      },
      "execution_count": null,
      "outputs": [
        {
          "output_type": "stream",
          "name": "stdout",
          "text": [
            "375/375 [==============================] - 1s 2ms/step - loss: 0.4902 - sparse_categorical_accuracy: 0.8298\n"
          ]
        },
        {
          "output_type": "execute_result",
          "data": {
            "text/plain": [
              "[0.49023672938346863, 0.8298333287239075]"
            ]
          },
          "metadata": {},
          "execution_count": 99
        }
      ]
    },
    {
      "cell_type": "markdown",
      "source": [
        "# Activation Function(활성화 함수)"
      ],
      "metadata": {
        "id": "JieJ9RKlXqZh"
      }
    },
    {
      "cell_type": "markdown",
      "source": [
        "## sigmoid(logistic) 함수\n",
        "\n",
        "$\n",
        "\\sigma (x) = \\dfrac{1}{1 + \\exp(-x)}\n",
        "$"
      ],
      "metadata": {
        "id": "gwQc4Z1JXv8M"
      }
    },
    {
      "cell_type": "code",
      "source": [
        "xvals = np.arange(-5, 5, 0.0001)"
      ],
      "metadata": {
        "id": "OO0vg60rV9mZ"
      },
      "execution_count": null,
      "outputs": []
    },
    {
      "cell_type": "code",
      "source": [
        "# keras.activations.sigmoid()\n",
        "def sigmoid(x):\n",
        "    return 1 / (1 + np.exp(-x))"
      ],
      "metadata": {
        "id": "b3KPWFtrYfUB"
      },
      "execution_count": null,
      "outputs": []
    },
    {
      "cell_type": "code",
      "source": [
        "yvals = sigmoid(xvals)\n",
        "plt.plot(xvals, yvals)\n",
        "plt.grid()\n",
        "plt.title('sigmoid')\n",
        "plt.show()"
      ],
      "metadata": {
        "colab": {
          "base_uri": "https://localhost:8080/",
          "height": 281
        },
        "id": "ykQYBpDMYsLx",
        "outputId": "69fb5af5-4cb1-4019-afd7-f515b3eda597"
      },
      "execution_count": null,
      "outputs": [
        {
          "output_type": "display_data",
          "data": {
            "text/plain": [
              "<Figure size 432x288 with 1 Axes>"
            ],
            "image/png": "[encoded data removed]"
          },
          "metadata": {
            "needs_background": "light"
          }
        }
      ]
    },
    {
      "cell_type": "markdown",
      "source": [
        "## Hybolic tangent"
      ],
      "metadata": {
        "id": "1sNo1_HyajKJ"
      }
    },
    {
      "cell_type": "code",
      "source": [
        "yvals = np.tanh(xvals)\n",
        "plt.plot(xvals, yvals)\n",
        "plt.grid()\n",
        "plt.title('tanh')\n",
        "plt.show()"
      ],
      "metadata": {
        "colab": {
          "base_uri": "https://localhost:8080/",
          "height": 281
        },
        "id": "xcpC6JrWZFjJ",
        "outputId": "5ea8baab-cdbd-409d-9465-6fd5750d4e3c"
      },
      "execution_count": null,
      "outputs": [
        {
          "output_type": "display_data",
          "data": {
            "text/plain": [
              "<Figure size 432x288 with 1 Axes>"
            ],
            "image/png": "[encoded data removed]"
          },
          "metadata": {
            "needs_background": "light"
          }
        }
      ]
    },
    {
      "cell_type": "markdown",
      "source": [
        "## ReLU(Rectified Linear Unit)\n",
        "\n",
        "$\n",
        "\\text{ReLU} (x) = \n",
        "\\begin{cases}\n",
        "    x & \\text{for } x \\ge 0 \\\\\n",
        "    0 & \\text{otherwise}\n",
        "\\end{cases}\n",
        "$"
      ],
      "metadata": {
        "id": "bIC2l5Erbo6p"
      }
    },
    {
      "cell_type": "code",
      "source": [
        "# keras.activations.relu()\n",
        "def relu(x):\n",
        "    return np.maximum(x, 0)"
      ],
      "metadata": {
        "id": "UYvJLUtXbHve"
      },
      "execution_count": null,
      "outputs": []
    },
    {
      "cell_type": "code",
      "source": [
        "yvals = relu(xvals)\n",
        "plt.plot(xvals, yvals)\n",
        "plt.grid()\n",
        "plt.title('ReLU')\n",
        "plt.show()"
      ],
      "metadata": {
        "colab": {
          "base_uri": "https://localhost:8080/",
          "height": 281
        },
        "id": "8aFYgWH9dGkJ",
        "outputId": "785c6584-4bbd-435c-f78a-b4413bca8801"
      },
      "execution_count": null,
      "outputs": [
        {
          "output_type": "display_data",
          "data": {
            "text/plain": [
              "<Figure size 432x288 with 1 Axes>"
            ],
            "image/png": "[encoded data removed]"
          },
          "metadata": {
            "needs_background": "light"
          }
        }
      ]
    },
    {
      "cell_type": "markdown",
      "source": [
        "## Leaky ReLU\n",
        "\n",
        "$\n",
        "\\text{LeakyReLU} (x, \\alpha) = \n",
        "\\begin{cases}\n",
        "    x & \\text{for } x \\ge 0 \\\\\n",
        "    \\alpha x & \\text{otherwise}\n",
        "\\end{cases}\n",
        "$"
      ],
      "metadata": {
        "id": "tfVFeajed_Rj"
      }
    },
    {
      "cell_type": "code",
      "source": [
        "# keras.activations.relu(x, alpha)\n",
        "def leaky_relu(x, alpha=0.01):\n",
        "    return np.maximum(x, alpha * x)"
      ],
      "metadata": {
        "id": "OqANA15cdeCg"
      },
      "execution_count": null,
      "outputs": []
    },
    {
      "cell_type": "code",
      "source": [
        "xvals = np.arange(-5, 2)\n",
        "yvals = leaky_relu(xvals, alpha=0.01)\n",
        "plt.plot(xvals, yvals)\n",
        "plt.grid()\n",
        "plt.title('Leaky ReLU')\n",
        "plt.show()"
      ],
      "metadata": {
        "colab": {
          "base_uri": "https://localhost:8080/",
          "height": 281
        },
        "id": "jl8vrdF4fTAh",
        "outputId": "512b42a0-eef0-4cd7-8de6-9d6a10fd712e"
      },
      "execution_count": null,
      "outputs": [
        {
          "output_type": "display_data",
          "data": {
            "text/plain": [
              "<Figure size 432x288 with 1 Axes>"
            ],
            "image/png": "[encoded data removed]"
          },
          "metadata": {
            "needs_background": "light"
          }
        }
      ]
    },
    {
      "cell_type": "markdown",
      "source": [
        "## ELU(Exponential Linear Unit)\n",
        "\n",
        "$\n",
        "\\text{ELU} (x, \\alpha) =\n",
        "\\begin{cases}\n",
        "    x & \\text{for } x \\ge 0 \\\\\n",
        "    \\alpha (\\exp(x) - 1) & \\text{otherwise}\n",
        "\\end{cases}\n",
        "$"
      ],
      "metadata": {
        "id": "zE5O0YNaf9GZ"
      }
    },
    {
      "cell_type": "code",
      "source": [
        "# keras.activations.elu()\n",
        "def elu(arr, alpha=1):\n",
        "    return np.array([x if x > 0 else alpha * (np.exp(x) - 1) \n",
        "                     for x in arr])"
      ],
      "metadata": {
        "id": "cP3z_7rHfbOw"
      },
      "execution_count": null,
      "outputs": []
    },
    {
      "cell_type": "code",
      "source": [
        "xvals = np.arange(-5, 3, 0.001)\n",
        "yvals = elu(xvals)\n",
        "plt.plot(xvals, yvals)\n",
        "plt.grid()\n",
        "plt.title('ELU')\n",
        "plt.show()"
      ],
      "metadata": {
        "colab": {
          "base_uri": "https://localhost:8080/",
          "height": 281
        },
        "id": "Wu6ZCeZ8hGqB",
        "outputId": "34ebdffe-753a-490a-e44e-29eacca91c8c"
      },
      "execution_count": null,
      "outputs": [
        {
          "output_type": "display_data",
          "data": {
            "text/plain": [
              "<Figure size 432x288 with 1 Axes>"
            ],
            "image/png": "[encoded data removed]"
          },
          "metadata": {
            "needs_background": "light"
          }
        }
      ]
    },
    {
      "cell_type": "markdown",
      "source": [
        "Activation 함수 적용: ELU -> Leaky ReLU -> ReLU -> logistic(sigmoid)"
      ],
      "metadata": {
        "id": "_UgFf8o8h0P4"
      }
    },
    {
      "cell_type": "markdown",
      "source": [
        "## MNIST dataset"
      ],
      "metadata": {
        "id": "0CsfBvbtZ95y"
      }
    },
    {
      "cell_type": "code",
      "source": [
        "(X_tr, y_tr), (X_te, y_te) = keras.datasets.fashion_mnist.load_data()"
      ],
      "metadata": {
        "id": "YgL54YL3aALu"
      },
      "execution_count": null,
      "outputs": []
    },
    {
      "cell_type": "code",
      "source": [
        "X_tr.shape, X_te.shape  # 데이터 - 3차원 배열 (n_samples, height, width)"
      ],
      "metadata": {
        "colab": {
          "base_uri": "https://localhost:8080/"
        },
        "id": "pP1rU8v3aLa2",
        "outputId": "4c383ff1-77ab-484d-8c20-3376b305e729"
      },
      "execution_count": null,
      "outputs": [
        {
          "output_type": "execute_result",
          "data": {
            "text/plain": [
              "((60000, 28, 28), (10000, 28, 28))"
            ]
          },
          "metadata": {},
          "execution_count": 111
        }
      ]
    },
    {
      "cell_type": "code",
      "source": [
        "# 0 ~ 255 스케일을 0 ~ 1 스케일로 변환\n",
        "X_tr_sc = X_tr / 255\n",
        "X_te_sc = X_te / 255"
      ],
      "metadata": {
        "id": "cT1fAzvyaO8u"
      },
      "execution_count": null,
      "outputs": []
    },
    {
      "cell_type": "code",
      "source": [
        "tr_data, val_data, tr_target, val_target = train_test_split(X_tr_sc, y_tr,\n",
        "                                                            test_size=0.2,\n",
        "                                                            random_state=42,\n",
        "                                                            stratify=y_tr)"
      ],
      "metadata": {
        "id": "lzRQzn7AajH-"
      },
      "execution_count": null,
      "outputs": []
    },
    {
      "cell_type": "code",
      "source": [
        "tr_data.shape, val_data.shape"
      ],
      "metadata": {
        "colab": {
          "base_uri": "https://localhost:8080/"
        },
        "id": "i9d50OZaa0p4",
        "outputId": "361190ec-eac1-400e-cb99-9570cb24019a"
      },
      "execution_count": null,
      "outputs": [
        {
          "output_type": "execute_result",
          "data": {
            "text/plain": [
              "((48000, 28, 28), (12000, 28, 28))"
            ]
          },
          "metadata": {},
          "execution_count": 114
        }
      ]
    },
    {
      "cell_type": "markdown",
      "source": [
        "## 첫번째 layer 활성화함수: ELU"
      ],
      "metadata": {
        "id": "hQCDCfJ3iL2s"
      }
    },
    {
      "cell_type": "code",
      "source": [
        "model = keras.Sequential()\n",
        "# (28, 28) 모양의 2차원 배열을 (28*28,) 모양의 1차원 배열로 변환하는 레이어.\n",
        "model.add(keras.layers.Flatten(input_shape=(28, 28)))\n",
        "# hidden layer(은닉층)\n",
        "model.add(keras.layers.Dense(units=100,\n",
        "                             activation=keras.activations.elu))\n",
        "# output layer(출력층)\n",
        "model.add(keras.layers.Dense(units=10,\n",
        "                             activation=keras.activations.softmax))\n",
        "# 모델 요약 정보 출력\n",
        "model.summary()"
      ],
      "metadata": {
        "id": "PY1a-eXchRAo",
        "colab": {
          "base_uri": "https://localhost:8080/"
        },
        "outputId": "c718bd47-c8c7-42f0-fe57-e81573511ead"
      },
      "execution_count": null,
      "outputs": [
        {
          "output_type": "stream",
          "name": "stdout",
          "text": [
            "Model: \"sequential_4\"\n",
            "_________________________________________________________________\n",
            " Layer (type)                Output Shape              Param #   \n",
            "=================================================================\n",
            " flatten (Flatten)           (None, 784)               0         \n",
            "                                                                 \n",
            " dense_6 (Dense)             (None, 100)               78500     \n",
            "                                                                 \n",
            " dense_7 (Dense)             (None, 10)                1010      \n",
            "                                                                 \n",
            "=================================================================\n",
            "Total params: 79,510\n",
            "Trainable params: 79,510\n",
            "Non-trainable params: 0\n",
            "_________________________________________________________________\n"
          ]
        }
      ]
    },
    {
      "cell_type": "code",
      "source": [
        "model.compile(optimizer=keras.optimizers.SGD(),\n",
        "              loss=keras.losses.sparse_categorical_crossentropy,\n",
        "              metrics=keras.metrics.sparse_categorical_accuracy)"
      ],
      "metadata": {
        "id": "32XmVuGXcWgo"
      },
      "execution_count": null,
      "outputs": []
    },
    {
      "cell_type": "code",
      "source": [
        "model.fit(tr_data, tr_target, epochs=5)"
      ],
      "metadata": {
        "colab": {
          "base_uri": "https://localhost:8080/"
        },
        "id": "YVYjeC3ydZuV",
        "outputId": "40b699d7-ca45-4ff7-df55-4afb53bececa"
      },
      "execution_count": null,
      "outputs": [
        {
          "output_type": "stream",
          "name": "stdout",
          "text": [
            "Epoch 1/5\n",
            "1500/1500 [==============================] - 3s 2ms/step - loss: 0.7533 - sparse_categorical_accuracy: 0.7519\n",
            "Epoch 2/5\n",
            "1500/1500 [==============================] - 3s 2ms/step - loss: 0.5294 - sparse_categorical_accuracy: 0.8202\n",
            "Epoch 3/5\n",
            "1500/1500 [==============================] - 3s 2ms/step - loss: 0.4872 - sparse_categorical_accuracy: 0.8330\n",
            "Epoch 4/5\n",
            "1500/1500 [==============================] - 3s 2ms/step - loss: 0.4636 - sparse_categorical_accuracy: 0.8380\n",
            "Epoch 5/5\n",
            "1500/1500 [==============================] - 3s 2ms/step - loss: 0.4487 - sparse_categorical_accuracy: 0.8434\n"
          ]
        },
        {
          "output_type": "execute_result",
          "data": {
            "text/plain": [
              "<keras.callbacks.History at 0x7f2782197fd0>"
            ]
          },
          "metadata": {},
          "execution_count": 117
        }
      ]
    },
    {
      "cell_type": "code",
      "source": [
        "model.evaluate(tr_data, tr_target)"
      ],
      "metadata": {
        "colab": {
          "base_uri": "https://localhost:8080/"
        },
        "id": "bNA7eUx8dpDO",
        "outputId": "89e005af-48bc-4225-e35a-6ccd6655e98b"
      },
      "execution_count": null,
      "outputs": [
        {
          "output_type": "stream",
          "name": "stdout",
          "text": [
            "1500/1500 [==============================] - 3s 2ms/step - loss: 0.4380 - sparse_categorical_accuracy: 0.8479\n"
          ]
        },
        {
          "output_type": "execute_result",
          "data": {
            "text/plain": [
              "[0.4379878640174866, 0.8479375243186951]"
            ]
          },
          "metadata": {},
          "execution_count": 118
        }
      ]
    },
    {
      "cell_type": "code",
      "source": [
        "model.evaluate(val_data, val_target)"
      ],
      "metadata": {
        "colab": {
          "base_uri": "https://localhost:8080/"
        },
        "id": "BI5YrXOkd52W",
        "outputId": "2ea2d30a-fe81-4094-a1b9-367bce4013bb"
      },
      "execution_count": null,
      "outputs": [
        {
          "output_type": "stream",
          "name": "stdout",
          "text": [
            "375/375 [==============================] - 1s 2ms/step - loss: 0.4320 - sparse_categorical_accuracy: 0.8502\n"
          ]
        },
        {
          "output_type": "execute_result",
          "data": {
            "text/plain": [
              "[0.4320092797279358, 0.8501666784286499]"
            ]
          },
          "metadata": {},
          "execution_count": 119
        }
      ]
    },
    {
      "cell_type": "markdown",
      "source": [
        "## 첫번째 layer 활성화 함수: Leaky ReLU"
      ],
      "metadata": {
        "id": "2OzVXMyFiVFN"
      }
    },
    {
      "cell_type": "code",
      "source": [
        "model = keras.Sequential()\n",
        "# Flatten layer\n",
        "model.add(keras.layers.Flatten(input_shape=(28, 28)))\n",
        "# Hidden layer\n",
        "model.add(keras.layers.Dense(units=100))\n",
        "# Leaky Layer (activation) layer\n",
        "model.add(keras.layers.LeakyReLU())\n",
        "# Output layer\n",
        "model.add(keras.layers.Dense(units=10,\n",
        "                             activation=keras.activations.softmax))\n",
        "model.summary()"
      ],
      "metadata": {
        "id": "EovYZkBDicMe",
        "colab": {
          "base_uri": "https://localhost:8080/"
        },
        "outputId": "a5c11d1b-4ad2-47a4-eb49-30a2f88f6262"
      },
      "execution_count": null,
      "outputs": [
        {
          "output_type": "stream",
          "name": "stdout",
          "text": [
            "Model: \"sequential_5\"\n",
            "_________________________________________________________________\n",
            " Layer (type)                Output Shape              Param #   \n",
            "=================================================================\n",
            " flatten_1 (Flatten)         (None, 784)               0         \n",
            "                                                                 \n",
            " dense_8 (Dense)             (None, 100)               78500     \n",
            "                                                                 \n",
            " leaky_re_lu (LeakyReLU)     (None, 100)               0         \n",
            "                                                                 \n",
            " dense_9 (Dense)             (None, 10)                1010      \n",
            "                                                                 \n",
            "=================================================================\n",
            "Total params: 79,510\n",
            "Trainable params: 79,510\n",
            "Non-trainable params: 0\n",
            "_________________________________________________________________\n"
          ]
        }
      ]
    },
    {
      "cell_type": "code",
      "source": [
        "model.compile(optimizer=keras.optimizers.SGD(),\n",
        "              loss=keras.losses.sparse_categorical_crossentropy,\n",
        "              metrics=keras.metrics.sparse_categorical_accuracy)"
      ],
      "metadata": {
        "id": "hdbUtvvFgIS2"
      },
      "execution_count": null,
      "outputs": []
    },
    {
      "cell_type": "code",
      "source": [
        "model.fit(tr_data, tr_target, epochs=5)"
      ],
      "metadata": {
        "colab": {
          "base_uri": "https://localhost:8080/"
        },
        "id": "TFPI2EYNieO9",
        "outputId": "48c02dcb-738a-4dae-976c-ddc0afe3db12"
      },
      "execution_count": null,
      "outputs": [
        {
          "output_type": "stream",
          "name": "stdout",
          "text": [
            "Epoch 1/5\n",
            "1500/1500 [==============================] - 3s 2ms/step - loss: 0.7768 - sparse_categorical_accuracy: 0.7426\n",
            "Epoch 2/5\n",
            "1500/1500 [==============================] - 3s 2ms/step - loss: 0.5428 - sparse_categorical_accuracy: 0.8155\n",
            "Epoch 3/5\n",
            "1500/1500 [==============================] - 3s 2ms/step - loss: 0.4954 - sparse_categorical_accuracy: 0.8292\n",
            "Epoch 4/5\n",
            "1500/1500 [==============================] - 3s 2ms/step - loss: 0.4712 - sparse_categorical_accuracy: 0.8377\n",
            "Epoch 5/5\n",
            "1500/1500 [==============================] - 3s 2ms/step - loss: 0.4540 - sparse_categorical_accuracy: 0.8427\n"
          ]
        },
        {
          "output_type": "execute_result",
          "data": {
            "text/plain": [
              "<keras.callbacks.History at 0x7f2782052510>"
            ]
          },
          "metadata": {},
          "execution_count": 122
        }
      ]
    },
    {
      "cell_type": "code",
      "source": [
        "model.evaluate(tr_data, tr_target)"
      ],
      "metadata": {
        "colab": {
          "base_uri": "https://localhost:8080/"
        },
        "id": "0ejHOMCkiiGs",
        "outputId": "9424b9f8-2874-4b6d-bdfa-3f4f9afb41bc"
      },
      "execution_count": null,
      "outputs": [
        {
          "output_type": "stream",
          "name": "stdout",
          "text": [
            "1500/1500 [==============================] - 3s 2ms/step - loss: 0.4407 - sparse_categorical_accuracy: 0.8476\n"
          ]
        },
        {
          "output_type": "execute_result",
          "data": {
            "text/plain": [
              "[0.4407063126564026, 0.8475833535194397]"
            ]
          },
          "metadata": {},
          "execution_count": 123
        }
      ]
    },
    {
      "cell_type": "code",
      "source": [
        "model.evaluate(val_data, val_target)"
      ],
      "metadata": {
        "colab": {
          "base_uri": "https://localhost:8080/"
        },
        "id": "PiwX6Co_it20",
        "outputId": "add31ca8-141f-4d2c-e9e1-4b7de8fad467"
      },
      "execution_count": null,
      "outputs": [
        {
          "output_type": "stream",
          "name": "stdout",
          "text": [
            "375/375 [==============================] - 1s 2ms/step - loss: 0.4357 - sparse_categorical_accuracy: 0.8510\n"
          ]
        },
        {
          "output_type": "execute_result",
          "data": {
            "text/plain": [
              "[0.43573206663131714, 0.8510000109672546]"
            ]
          },
          "metadata": {},
          "execution_count": 124
        }
      ]
    },
    {
      "cell_type": "markdown",
      "source": [
        "# Optimizers"
      ],
      "metadata": {
        "id": "dwo05GpLpki3"
      }
    },
    {
      "cell_type": "markdown",
      "source": [
        "손실(비용, 목적) 함수를 최적화하는 알고리즘.\n",
        "\n",
        "*   SGD -> Momentum (속도 증가) -> Nesterov (가속도 증가)\n",
        "*   적응형 학습율(adaptive learning rate): RMSProp, Adam(Adaptive Momentum), Nadam, AdaGrad, ..."
      ],
      "metadata": {
        "id": "mhKP9MrcpoB1"
      }
    },
    {
      "cell_type": "code",
      "source": [
        "# Flatten -> Hidden(100, ELU) -> Output(10, softmax)\n",
        "def build_model():\n",
        "    model = keras.Sequential()\n",
        "    model.add(keras.layers.Flatten(input_shape=(28, 28)))\n",
        "    model.add(keras.layers.Dense(units=100,\n",
        "                                 activation=keras.activations.elu))\n",
        "    model.add(keras.layers.Dense(units=10,\n",
        "                                 activation=keras.activations.softmax))\n",
        "    return model"
      ],
      "metadata": {
        "id": "HVMufRZsiynN"
      },
      "execution_count": null,
      "outputs": []
    },
    {
      "cell_type": "code",
      "source": [
        "model = build_model()\n",
        "model.summary()"
      ],
      "metadata": {
        "colab": {
          "base_uri": "https://localhost:8080/"
        },
        "id": "SG5XjcrHthAF",
        "outputId": "bb5b986d-e2d0-42f8-bc82-ff9cfa6d30be"
      },
      "execution_count": null,
      "outputs": [
        {
          "output_type": "stream",
          "name": "stdout",
          "text": [
            "Model: \"sequential_6\"\n",
            "_________________________________________________________________\n",
            " Layer (type)                Output Shape              Param #   \n",
            "=================================================================\n",
            " flatten_2 (Flatten)         (None, 784)               0         \n",
            "                                                                 \n",
            " dense_10 (Dense)            (None, 100)               78500     \n",
            "                                                                 \n",
            " dense_11 (Dense)            (None, 10)                1010      \n",
            "                                                                 \n",
            "=================================================================\n",
            "Total params: 79,510\n",
            "Trainable params: 79,510\n",
            "Non-trainable params: 0\n",
            "_________________________________________________________________\n"
          ]
        }
      ]
    },
    {
      "cell_type": "markdown",
      "source": [
        "## RMSProp"
      ],
      "metadata": {
        "id": "4o8gARtbtx-s"
      }
    },
    {
      "cell_type": "code",
      "source": [
        "model.compile(optimizer=keras.optimizers.RMSprop(),\n",
        "              loss=keras.losses.sparse_categorical_crossentropy,\n",
        "              metrics=keras.metrics.sparse_categorical_accuracy)\n",
        "model.fit(tr_data, tr_target, epochs=5)"
      ],
      "metadata": {
        "colab": {
          "base_uri": "https://localhost:8080/"
        },
        "id": "735OJWVWtoXc",
        "outputId": "ba08851c-b121-404f-aa9a-cc279862d593"
      },
      "execution_count": null,
      "outputs": [
        {
          "output_type": "stream",
          "name": "stdout",
          "text": [
            "Epoch 1/5\n",
            "1500/1500 [==============================] - 5s 3ms/step - loss: 0.5332 - sparse_categorical_accuracy: 0.8100\n",
            "Epoch 2/5\n",
            "1500/1500 [==============================] - 4s 3ms/step - loss: 0.4001 - sparse_categorical_accuracy: 0.8555\n",
            "Epoch 3/5\n",
            "1500/1500 [==============================] - 4s 3ms/step - loss: 0.3619 - sparse_categorical_accuracy: 0.8683\n",
            "Epoch 4/5\n",
            "1500/1500 [==============================] - 4s 3ms/step - loss: 0.3378 - sparse_categorical_accuracy: 0.8761\n",
            "Epoch 5/5\n",
            "1500/1500 [==============================] - 4s 3ms/step - loss: 0.3211 - sparse_categorical_accuracy: 0.8823\n"
          ]
        },
        {
          "output_type": "execute_result",
          "data": {
            "text/plain": [
              "<keras.callbacks.History at 0x7f2781f092d0>"
            ]
          },
          "metadata": {},
          "execution_count": 127
        }
      ]
    },
    {
      "cell_type": "code",
      "source": [
        "model.evaluate(tr_data, tr_target)"
      ],
      "metadata": {
        "colab": {
          "base_uri": "https://localhost:8080/"
        },
        "id": "9F5E5mPHuPek",
        "outputId": "57c0b3ce-2653-47e5-ca52-2b8d49cf133f"
      },
      "execution_count": null,
      "outputs": [
        {
          "output_type": "stream",
          "name": "stdout",
          "text": [
            "1500/1500 [==============================] - 3s 2ms/step - loss: 0.3100 - sparse_categorical_accuracy: 0.8851\n"
          ]
        },
        {
          "output_type": "execute_result",
          "data": {
            "text/plain": [
              "[0.3099607527256012, 0.8851458430290222]"
            ]
          },
          "metadata": {},
          "execution_count": 128
        }
      ]
    },
    {
      "cell_type": "code",
      "source": [
        "model.evaluate(val_data, val_target)"
      ],
      "metadata": {
        "colab": {
          "base_uri": "https://localhost:8080/"
        },
        "id": "c87cqj_euu0E",
        "outputId": "a8131231-9da0-4f61-e518-4ca5cc8a2377"
      },
      "execution_count": null,
      "outputs": [
        {
          "output_type": "stream",
          "name": "stdout",
          "text": [
            "375/375 [==============================] - 1s 2ms/step - loss: 0.3467 - sparse_categorical_accuracy: 0.8762\n"
          ]
        },
        {
          "output_type": "execute_result",
          "data": {
            "text/plain": [
              "[0.3466680645942688, 0.8761666417121887]"
            ]
          },
          "metadata": {},
          "execution_count": 129
        }
      ]
    },
    {
      "cell_type": "markdown",
      "source": [
        "## Adam"
      ],
      "metadata": {
        "id": "4Cv0x_nTu4-P"
      }
    },
    {
      "cell_type": "code",
      "source": [
        "model = build_model()\n",
        "model.compile(optimizer=keras.optimizers.Adam(),\n",
        "              loss=keras.losses.sparse_categorical_crossentropy,\n",
        "              metrics=keras.metrics.sparse_categorical_accuracy)\n",
        "model.fit(tr_data, tr_target, epochs=5)"
      ],
      "metadata": {
        "colab": {
          "base_uri": "https://localhost:8080/"
        },
        "id": "uHGYXQAOuyeF",
        "outputId": "5abe2012-3261-4e9b-f6f6-749d77827101"
      },
      "execution_count": null,
      "outputs": [
        {
          "output_type": "stream",
          "name": "stdout",
          "text": [
            "Epoch 1/5\n",
            "1500/1500 [==============================] - 5s 3ms/step - loss: 0.5152 - sparse_categorical_accuracy: 0.8190\n",
            "Epoch 2/5\n",
            "1500/1500 [==============================] - 3s 2ms/step - loss: 0.3927 - sparse_categorical_accuracy: 0.8593\n",
            "Epoch 3/5\n",
            "1500/1500 [==============================] - 3s 2ms/step - loss: 0.3540 - sparse_categorical_accuracy: 0.8706\n",
            "Epoch 4/5\n",
            "1500/1500 [==============================] - 3s 2ms/step - loss: 0.3286 - sparse_categorical_accuracy: 0.8798\n",
            "Epoch 5/5\n",
            "1500/1500 [==============================] - 3s 2ms/step - loss: 0.3097 - sparse_categorical_accuracy: 0.8861\n"
          ]
        },
        {
          "output_type": "execute_result",
          "data": {
            "text/plain": [
              "<keras.callbacks.History at 0x7f27836cc850>"
            ]
          },
          "metadata": {},
          "execution_count": 130
        }
      ]
    },
    {
      "cell_type": "code",
      "source": [
        "model.evaluate(tr_data, tr_target)"
      ],
      "metadata": {
        "colab": {
          "base_uri": "https://localhost:8080/"
        },
        "id": "FzbDzNLyvl1d",
        "outputId": "539f90d0-41b1-4512-a2ce-14e68f8d0532"
      },
      "execution_count": null,
      "outputs": [
        {
          "output_type": "stream",
          "name": "stdout",
          "text": [
            "1500/1500 [==============================] - 3s 2ms/step - loss: 0.2781 - sparse_categorical_accuracy: 0.8972\n"
          ]
        },
        {
          "output_type": "execute_result",
          "data": {
            "text/plain": [
              "[0.2780531644821167, 0.8971874713897705]"
            ]
          },
          "metadata": {},
          "execution_count": 131
        }
      ]
    },
    {
      "cell_type": "code",
      "source": [
        "model.evaluate(val_data, val_target)"
      ],
      "metadata": {
        "colab": {
          "base_uri": "https://localhost:8080/"
        },
        "id": "DMfFUth9vws9",
        "outputId": "9ad44e42-3cfe-46de-f7fc-c3bd1ecee9b3"
      },
      "execution_count": null,
      "outputs": [
        {
          "output_type": "stream",
          "name": "stdout",
          "text": [
            "375/375 [==============================] - 1s 2ms/step - loss: 0.3182 - sparse_categorical_accuracy: 0.8852\n"
          ]
        },
        {
          "output_type": "execute_result",
          "data": {
            "text/plain": [
              "[0.31816887855529785, 0.8851666450500488]"
            ]
          },
          "metadata": {},
          "execution_count": 132
        }
      ]
    },
    {
      "cell_type": "markdown",
      "source": [
        "## 훈련 epoch 횟수에 따른 평가(손실, 정확도)"
      ],
      "metadata": {
        "id": "iUA0fa_bFSZ6"
      }
    },
    {
      "cell_type": "code",
      "source": [
        "model = build_model()\n",
        "model.summary()"
      ],
      "metadata": {
        "colab": {
          "base_uri": "https://localhost:8080/"
        },
        "id": "9FIehra3vz-z",
        "outputId": "d63f8839-e890-4176-e789-d537412b3ac1"
      },
      "execution_count": null,
      "outputs": [
        {
          "output_type": "stream",
          "name": "stdout",
          "text": [
            "Model: \"sequential_8\"\n",
            "_________________________________________________________________\n",
            " Layer (type)                Output Shape              Param #   \n",
            "=================================================================\n",
            " flatten_4 (Flatten)         (None, 784)               0         \n",
            "                                                                 \n",
            " dense_14 (Dense)            (None, 100)               78500     \n",
            "                                                                 \n",
            " dense_15 (Dense)            (None, 10)                1010      \n",
            "                                                                 \n",
            "=================================================================\n",
            "Total params: 79,510\n",
            "Trainable params: 79,510\n",
            "Non-trainable params: 0\n",
            "_________________________________________________________________\n"
          ]
        }
      ]
    },
    {
      "cell_type": "code",
      "source": [
        "model.compile(optimizer=keras.optimizers.RMSprop(),\n",
        "              loss=keras.losses.sparse_categorical_crossentropy,\n",
        "              metrics=keras.metrics.sparse_categorical_accuracy)"
      ],
      "metadata": {
        "id": "Whpun0fXFfZC"
      },
      "execution_count": null,
      "outputs": []
    },
    {
      "cell_type": "code",
      "source": [
        "history = model.fit(x=tr_data, y=tr_target, epochs=20,\n",
        "                    validation_data=(val_data, val_target))"
      ],
      "metadata": {
        "colab": {
          "base_uri": "https://localhost:8080/"
        },
        "id": "69mmTsEiGyl8",
        "outputId": "1b9b1837-e338-4061-b74c-4260c984f6ce"
      },
      "execution_count": null,
      "outputs": [
        {
          "output_type": "stream",
          "name": "stdout",
          "text": [
            "Epoch 1/20\n",
            "1500/1500 [==============================] - 5s 3ms/step - loss: 0.5329 - sparse_categorical_accuracy: 0.8116 - val_loss: 0.4185 - val_sparse_categorical_accuracy: 0.8482\n",
            "Epoch 2/20\n",
            "1500/1500 [==============================] - 4s 3ms/step - loss: 0.4014 - sparse_categorical_accuracy: 0.8551 - val_loss: 0.3875 - val_sparse_categorical_accuracy: 0.8603\n",
            "Epoch 3/20\n",
            "1500/1500 [==============================] - 4s 3ms/step - loss: 0.3637 - sparse_categorical_accuracy: 0.8687 - val_loss: 0.3637 - val_sparse_categorical_accuracy: 0.8706\n",
            "Epoch 4/20\n",
            "1500/1500 [==============================] - 5s 3ms/step - loss: 0.3408 - sparse_categorical_accuracy: 0.8761 - val_loss: 0.3520 - val_sparse_categorical_accuracy: 0.8740\n",
            "Epoch 5/20\n",
            "1500/1500 [==============================] - 4s 3ms/step - loss: 0.3233 - sparse_categorical_accuracy: 0.8827 - val_loss: 0.3658 - val_sparse_categorical_accuracy: 0.8694\n",
            "Epoch 6/20\n",
            "1500/1500 [==============================] - 4s 3ms/step - loss: 0.3116 - sparse_categorical_accuracy: 0.8860 - val_loss: 0.3255 - val_sparse_categorical_accuracy: 0.8858\n",
            "Epoch 7/20\n",
            "1500/1500 [==============================] - 5s 3ms/step - loss: 0.2997 - sparse_categorical_accuracy: 0.8905 - val_loss: 0.3324 - val_sparse_categorical_accuracy: 0.8850\n",
            "Epoch 8/20\n",
            "1500/1500 [==============================] - 4s 3ms/step - loss: 0.2893 - sparse_categorical_accuracy: 0.8948 - val_loss: 0.3355 - val_sparse_categorical_accuracy: 0.8840\n",
            "Epoch 9/20\n",
            "1500/1500 [==============================] - 4s 3ms/step - loss: 0.2813 - sparse_categorical_accuracy: 0.8987 - val_loss: 0.3309 - val_sparse_categorical_accuracy: 0.8830\n",
            "Epoch 10/20\n",
            "1500/1500 [==============================] - 5s 3ms/step - loss: 0.2718 - sparse_categorical_accuracy: 0.9014 - val_loss: 0.3803 - val_sparse_categorical_accuracy: 0.8784\n",
            "Epoch 11/20\n",
            "1500/1500 [==============================] - 5s 3ms/step - loss: 0.2673 - sparse_categorical_accuracy: 0.9024 - val_loss: 0.3296 - val_sparse_categorical_accuracy: 0.8900\n",
            "Epoch 12/20\n",
            "1500/1500 [==============================] - 4s 3ms/step - loss: 0.2602 - sparse_categorical_accuracy: 0.9047 - val_loss: 0.3610 - val_sparse_categorical_accuracy: 0.8784\n",
            "Epoch 13/20\n",
            "1500/1500 [==============================] - 5s 3ms/step - loss: 0.2534 - sparse_categorical_accuracy: 0.9079 - val_loss: 0.3154 - val_sparse_categorical_accuracy: 0.8898\n",
            "Epoch 14/20\n",
            "1500/1500 [==============================] - 4s 3ms/step - loss: 0.2479 - sparse_categorical_accuracy: 0.9107 - val_loss: 0.3330 - val_sparse_categorical_accuracy: 0.8921\n",
            "Epoch 15/20\n",
            "1500/1500 [==============================] - 4s 3ms/step - loss: 0.2423 - sparse_categorical_accuracy: 0.9107 - val_loss: 0.3315 - val_sparse_categorical_accuracy: 0.8917\n",
            "Epoch 16/20\n",
            "1500/1500 [==============================] - 5s 3ms/step - loss: 0.2389 - sparse_categorical_accuracy: 0.9140 - val_loss: 0.3443 - val_sparse_categorical_accuracy: 0.8896\n",
            "Epoch 17/20\n",
            "1500/1500 [==============================] - 5s 3ms/step - loss: 0.2344 - sparse_categorical_accuracy: 0.9147 - val_loss: 0.3383 - val_sparse_categorical_accuracy: 0.8906\n",
            "Epoch 18/20\n",
            "1500/1500 [==============================] - 5s 3ms/step - loss: 0.2299 - sparse_categorical_accuracy: 0.9160 - val_loss: 0.3315 - val_sparse_categorical_accuracy: 0.8945\n",
            "Epoch 19/20\n",
            "1500/1500 [==============================] - 4s 3ms/step - loss: 0.2236 - sparse_categorical_accuracy: 0.9186 - val_loss: 0.3386 - val_sparse_categorical_accuracy: 0.8936\n",
            "Epoch 20/20\n",
            "1500/1500 [==============================] - 4s 3ms/step - loss: 0.2189 - sparse_categorical_accuracy: 0.9200 - val_loss: 0.3397 - val_sparse_categorical_accuracy: 0.8949\n"
          ]
        }
      ]
    },
    {
      "cell_type": "code",
      "source": [
        "type(history)"
      ],
      "metadata": {
        "colab": {
          "base_uri": "https://localhost:8080/"
        },
        "id": "bL_nJ5OHHKTK",
        "outputId": "0eae4697-7384-4860-df3c-c2b4f08ce2f8"
      },
      "execution_count": null,
      "outputs": [
        {
          "output_type": "execute_result",
          "data": {
            "text/plain": [
              "keras.callbacks.History"
            ]
          },
          "metadata": {},
          "execution_count": 136
        }
      ]
    },
    {
      "cell_type": "code",
      "source": [
        "type(history.history)  # History 객체의 history 속성(property)"
      ],
      "metadata": {
        "colab": {
          "base_uri": "https://localhost:8080/"
        },
        "id": "CFCxAtrFIEkC",
        "outputId": "300bca63-9781-497f-eeea-3506b226cd49"
      },
      "execution_count": null,
      "outputs": [
        {
          "output_type": "execute_result",
          "data": {
            "text/plain": [
              "dict"
            ]
          },
          "metadata": {},
          "execution_count": 137
        }
      ]
    },
    {
      "cell_type": "code",
      "source": [
        "history.history.keys()"
      ],
      "metadata": {
        "colab": {
          "base_uri": "https://localhost:8080/"
        },
        "id": "RJCsjz0ZIfej",
        "outputId": "9156d7fe-fdbe-43ea-9e7e-ad3f6c93e7e1"
      },
      "execution_count": null,
      "outputs": [
        {
          "output_type": "execute_result",
          "data": {
            "text/plain": [
              "dict_keys(['loss', 'sparse_categorical_accuracy', 'val_loss', 'val_sparse_categorical_accuracy'])"
            ]
          },
          "metadata": {},
          "execution_count": 138
        }
      ]
    },
    {
      "cell_type": "code",
      "source": [
        "# 신경망 모델이 epoch 마다 계산한 훈련 셋에서의 크로스 엔트로피\n",
        "train_loss = history.history['loss']\n",
        "# 신경망 모델이 epoch 마다 계산한 훈련 셋에서의 정확도\n",
        "train_acc = history.history['sparse_categorical_accuracy']\n",
        "\n",
        "# 훈련 셋 학습 곡선\n",
        "epochs = np.arange(1, 21)\n",
        "plt.plot(epochs, train_loss, 'ro-', label='train loss')\n",
        "plt.plot(epochs, train_acc, 'bo-', label='train acc.')\n",
        "plt.grid()\n",
        "plt.legend()\n",
        "plt.show()"
      ],
      "metadata": {
        "colab": {
          "base_uri": "https://localhost:8080/",
          "height": 265
        },
        "id": "IFlgbHBJIuc_",
        "outputId": "11e3c709-4fbb-4857-9743-188bb24c14d2"
      },
      "execution_count": null,
      "outputs": [
        {
          "output_type": "display_data",
          "data": {
            "text/plain": [
              "<Figure size 432x288 with 1 Axes>"
            ],
            "image/png": "[encoded data removed]"
          },
          "metadata": {
            "needs_background": "light"
          }
        }
      ]
    },
    {
      "cell_type": "code",
      "source": [
        "# 신경망 모델이 epoch 마다 계산한 검증 셋에서의 손실\n",
        "val_loss = history.history['val_loss']\n",
        "# 신경망 모델이 epoch 마다 계산한 검증 셋에서의 정확도\n",
        "val_acc = history.history['val_sparse_categorical_accuracy']\n",
        "\n",
        "# 검증 셋의 학습 곡선\n",
        "plt.plot(epochs, val_loss, 'ro-', label='validation loss')\n",
        "plt.plot(epochs, val_acc, 'bo-', label='validation acc.')\n",
        "plt.grid()\n",
        "plt.legend()\n",
        "plt.show()"
      ],
      "metadata": {
        "colab": {
          "base_uri": "https://localhost:8080/",
          "height": 265
        },
        "id": "YeXUfEaWKomy",
        "outputId": "1e9cbdfd-3571-4122-b2d8-4f76b2ea0dc3"
      },
      "execution_count": null,
      "outputs": [
        {
          "output_type": "display_data",
          "data": {
            "text/plain": [
              "<Figure size 432x288 with 1 Axes>"
            ],
            "image/png": "[encoded data removed]"
          },
          "metadata": {
            "needs_background": "light"
          }
        }
      ]
    },
    {
      "cell_type": "code",
      "source": [
        "plt.plot(epochs, train_loss, 'ro-', label='train loss')\n",
        "plt.plot(epochs, train_acc, 'bo-', label='train acc.')\n",
        "\n",
        "plt.plot(epochs, val_loss, 'yo:', label='validation loss')\n",
        "plt.plot(epochs, val_acc, 'go:', label='validation acc.')\n",
        "\n",
        "plt.grid()\n",
        "plt.legend()\n",
        "plt.show()"
      ],
      "metadata": {
        "colab": {
          "base_uri": "https://localhost:8080/",
          "height": 265
        },
        "id": "ICG9G1OmLvy0",
        "outputId": "b4a2094c-9c03-48fd-e010-962e26311aa5"
      },
      "execution_count": null,
      "outputs": [
        {
          "output_type": "display_data",
          "data": {
            "text/plain": [
              "<Figure size 432x288 with 1 Axes>"
            ],
            "image/png": "[encoded data removed]"
          },
          "metadata": {
            "needs_background": "light"
          }
        }
      ]
    },
    {
      "cell_type": "markdown",
      "source": [
        "# 규제: Dropout"
      ],
      "metadata": {
        "id": "lc1fpmCIQ_yE"
      }
    },
    {
      "cell_type": "code",
      "source": [
        "model = build_model()\n",
        "model.compile(optimizer=keras.optimizers.Adam(),\n",
        "              loss=keras.losses.sparse_categorical_crossentropy,\n",
        "              metrics=keras.metrics.sparse_categorical_accuracy)\n",
        "result_non_dropout = model.fit(x=tr_data, y=tr_target, epochs=20,\n",
        "                               validation_data=(val_data, val_target))"
      ],
      "metadata": {
        "colab": {
          "base_uri": "https://localhost:8080/"
        },
        "id": "NPCbkJaeRMpL",
        "outputId": "0d51d0a4-88f9-45fe-d074-0dff6f7abd55"
      },
      "execution_count": null,
      "outputs": [
        {
          "output_type": "stream",
          "name": "stdout",
          "text": [
            "Epoch 1/20\n",
            "1500/1500 [==============================] - 5s 3ms/step - loss: 0.5206 - sparse_categorical_accuracy: 0.8157 - val_loss: 0.4055 - val_sparse_categorical_accuracy: 0.8567\n",
            "Epoch 2/20\n",
            "1500/1500 [==============================] - 4s 3ms/step - loss: 0.3961 - sparse_categorical_accuracy: 0.8581 - val_loss: 0.3944 - val_sparse_categorical_accuracy: 0.8528\n",
            "Epoch 3/20\n",
            "1500/1500 [==============================] - 4s 3ms/step - loss: 0.3569 - sparse_categorical_accuracy: 0.8692 - val_loss: 0.3623 - val_sparse_categorical_accuracy: 0.8702\n",
            "Epoch 4/20\n",
            "1500/1500 [==============================] - 4s 3ms/step - loss: 0.3305 - sparse_categorical_accuracy: 0.8780 - val_loss: 0.3277 - val_sparse_categorical_accuracy: 0.8814\n",
            "Epoch 5/20\n",
            "1500/1500 [==============================] - 4s 3ms/step - loss: 0.3114 - sparse_categorical_accuracy: 0.8847 - val_loss: 0.3330 - val_sparse_categorical_accuracy: 0.8824\n",
            "Epoch 6/20\n",
            "1500/1500 [==============================] - 4s 3ms/step - loss: 0.2945 - sparse_categorical_accuracy: 0.8911 - val_loss: 0.3363 - val_sparse_categorical_accuracy: 0.8788\n",
            "Epoch 7/20\n",
            "1500/1500 [==============================] - 4s 3ms/step - loss: 0.2807 - sparse_categorical_accuracy: 0.8965 - val_loss: 0.3199 - val_sparse_categorical_accuracy: 0.8827\n",
            "Epoch 8/20\n",
            "1500/1500 [==============================] - 4s 3ms/step - loss: 0.2683 - sparse_categorical_accuracy: 0.9009 - val_loss: 0.3307 - val_sparse_categorical_accuracy: 0.8840\n",
            "Epoch 9/20\n",
            "1500/1500 [==============================] - 4s 3ms/step - loss: 0.2566 - sparse_categorical_accuracy: 0.9042 - val_loss: 0.3006 - val_sparse_categorical_accuracy: 0.8963\n",
            "Epoch 10/20\n",
            "1500/1500 [==============================] - 4s 3ms/step - loss: 0.2478 - sparse_categorical_accuracy: 0.9075 - val_loss: 0.3043 - val_sparse_categorical_accuracy: 0.8923\n",
            "Epoch 11/20\n",
            "1500/1500 [==============================] - 4s 3ms/step - loss: 0.2390 - sparse_categorical_accuracy: 0.9112 - val_loss: 0.3129 - val_sparse_categorical_accuracy: 0.8920\n",
            "Epoch 12/20\n",
            "1500/1500 [==============================] - 4s 3ms/step - loss: 0.2315 - sparse_categorical_accuracy: 0.9137 - val_loss: 0.3125 - val_sparse_categorical_accuracy: 0.8907\n",
            "Epoch 13/20\n",
            "1500/1500 [==============================] - 4s 3ms/step - loss: 0.2220 - sparse_categorical_accuracy: 0.9174 - val_loss: 0.2934 - val_sparse_categorical_accuracy: 0.8973\n",
            "Epoch 14/20\n",
            "1500/1500 [==============================] - 4s 3ms/step - loss: 0.2162 - sparse_categorical_accuracy: 0.9196 - val_loss: 0.3024 - val_sparse_categorical_accuracy: 0.8939\n",
            "Epoch 15/20\n",
            "1500/1500 [==============================] - 4s 3ms/step - loss: 0.2099 - sparse_categorical_accuracy: 0.9206 - val_loss: 0.2930 - val_sparse_categorical_accuracy: 0.9014\n",
            "Epoch 16/20\n",
            "1500/1500 [==============================] - 4s 3ms/step - loss: 0.2033 - sparse_categorical_accuracy: 0.9230 - val_loss: 0.3141 - val_sparse_categorical_accuracy: 0.8891\n",
            "Epoch 17/20\n",
            "1500/1500 [==============================] - 4s 3ms/step - loss: 0.1973 - sparse_categorical_accuracy: 0.9267 - val_loss: 0.3322 - val_sparse_categorical_accuracy: 0.8873\n",
            "Epoch 18/20\n",
            "1500/1500 [==============================] - 4s 3ms/step - loss: 0.1907 - sparse_categorical_accuracy: 0.9281 - val_loss: 0.3080 - val_sparse_categorical_accuracy: 0.8985\n",
            "Epoch 19/20\n",
            "1500/1500 [==============================] - 4s 3ms/step - loss: 0.1859 - sparse_categorical_accuracy: 0.9298 - val_loss: 0.3251 - val_sparse_categorical_accuracy: 0.8963\n",
            "Epoch 20/20\n",
            "1500/1500 [==============================] - 4s 3ms/step - loss: 0.1820 - sparse_categorical_accuracy: 0.9316 - val_loss: 0.3206 - val_sparse_categorical_accuracy: 0.8929\n"
          ]
        }
      ]
    },
    {
      "cell_type": "code",
      "source": [
        "# epoch 변화에 따른 정확도 곡선\n",
        "train_acc = result_non_dropout.history['sparse_categorical_accuracy']\n",
        "val_acc = result_non_dropout.history['val_sparse_categorical_accuracy']\n",
        "\n",
        "plt.plot(epochs, train_acc, 'bo-', label='train acc.')\n",
        "plt.plot(epochs, val_acc, 'ro-', label='validation acc.')\n",
        "plt.legend()\n",
        "plt.show()"
      ],
      "metadata": {
        "colab": {
          "base_uri": "https://localhost:8080/",
          "height": 265
        },
        "id": "Bg7jB_17R_NJ",
        "outputId": "a260e984-6654-4e16-c186-c048568abe84"
      },
      "execution_count": null,
      "outputs": [
        {
          "output_type": "display_data",
          "data": {
            "text/plain": [
              "<Figure size 432x288 with 1 Axes>"
            ],
            "image/png": "[encoded data removed]"
          },
          "metadata": {
            "needs_background": "light"
          }
        }
      ]
    },
    {
      "cell_type": "code",
      "source": [
        "def build_dropout_model():\n",
        "    model = keras.Sequential()\n",
        "    # flatten layer\n",
        "    model.add(keras.layers.Flatten(input_shape=(28, 28)))\n",
        "    # hidden layer\n",
        "    model.add(keras.layers.Dense(units=100, \n",
        "                                 activation=keras.activations.elu))\n",
        "    # drop out layer\n",
        "    model.add(keras.layers.Dropout(rate=0.3))\n",
        "    # output layer\n",
        "    model.add(keras.layers.Dense(units=10,\n",
        "                                 activation=keras.activations.softmax))\n",
        "    return model"
      ],
      "metadata": {
        "id": "LOnUa8B7TE_B"
      },
      "execution_count": null,
      "outputs": []
    },
    {
      "cell_type": "code",
      "source": [
        "model = build_dropout_model()\n",
        "model.summary()"
      ],
      "metadata": {
        "colab": {
          "base_uri": "https://localhost:8080/"
        },
        "id": "kasFDYSkV5MI",
        "outputId": "9b0aa92b-a0b5-46b9-9463-b6c1583c2de3"
      },
      "execution_count": null,
      "outputs": [
        {
          "output_type": "stream",
          "name": "stdout",
          "text": [
            "Model: \"sequential_10\"\n",
            "_________________________________________________________________\n",
            " Layer (type)                Output Shape              Param #   \n",
            "=================================================================\n",
            " flatten_6 (Flatten)         (None, 784)               0         \n",
            "                                                                 \n",
            " dense_18 (Dense)            (None, 100)               78500     \n",
            "                                                                 \n",
            " dropout (Dropout)           (None, 100)               0         \n",
            "                                                                 \n",
            " dense_19 (Dense)            (None, 10)                1010      \n",
            "                                                                 \n",
            "=================================================================\n",
            "Total params: 79,510\n",
            "Trainable params: 79,510\n",
            "Non-trainable params: 0\n",
            "_________________________________________________________________\n"
          ]
        }
      ]
    },
    {
      "cell_type": "code",
      "source": [
        "model.compile(optimizer=keras.optimizers.Adam(),\n",
        "              loss=keras.losses.sparse_categorical_crossentropy,\n",
        "              metrics=keras.metrics.sparse_categorical_accuracy)\n",
        "result_dropout = model.fit(x=tr_data, y=tr_target, epochs=20,\n",
        "                           validation_data=(val_data, val_target))"
      ],
      "metadata": {
        "colab": {
          "base_uri": "https://localhost:8080/"
        },
        "id": "5UwkmtTvV8_I",
        "outputId": "b31d1288-2c24-4fb8-8978-7f97021861e9"
      },
      "execution_count": null,
      "outputs": [
        {
          "output_type": "stream",
          "name": "stdout",
          "text": [
            "Epoch 1/20\n",
            "1500/1500 [==============================] - 5s 3ms/step - loss: 0.5737 - sparse_categorical_accuracy: 0.7976 - val_loss: 0.4369 - val_sparse_categorical_accuracy: 0.8397\n",
            "Epoch 2/20\n",
            "1500/1500 [==============================] - 4s 3ms/step - loss: 0.4500 - sparse_categorical_accuracy: 0.8369 - val_loss: 0.3832 - val_sparse_categorical_accuracy: 0.8624\n",
            "Epoch 3/20\n",
            "1500/1500 [==============================] - 4s 3ms/step - loss: 0.4144 - sparse_categorical_accuracy: 0.8493 - val_loss: 0.3681 - val_sparse_categorical_accuracy: 0.8662\n",
            "Epoch 4/20\n",
            "1500/1500 [==============================] - 4s 3ms/step - loss: 0.3938 - sparse_categorical_accuracy: 0.8554 - val_loss: 0.3501 - val_sparse_categorical_accuracy: 0.8738\n",
            "Epoch 5/20\n",
            "1500/1500 [==============================] - 4s 3ms/step - loss: 0.3778 - sparse_categorical_accuracy: 0.8611 - val_loss: 0.3498 - val_sparse_categorical_accuracy: 0.8746\n",
            "Epoch 6/20\n",
            "1500/1500 [==============================] - 4s 3ms/step - loss: 0.3652 - sparse_categorical_accuracy: 0.8646 - val_loss: 0.3541 - val_sparse_categorical_accuracy: 0.8693\n",
            "Epoch 7/20\n",
            "1500/1500 [==============================] - 4s 3ms/step - loss: 0.3556 - sparse_categorical_accuracy: 0.8685 - val_loss: 0.3397 - val_sparse_categorical_accuracy: 0.8759\n",
            "Epoch 8/20\n",
            "1500/1500 [==============================] - 4s 3ms/step - loss: 0.3473 - sparse_categorical_accuracy: 0.8710 - val_loss: 0.3393 - val_sparse_categorical_accuracy: 0.8775\n",
            "Epoch 9/20\n",
            "1500/1500 [==============================] - 4s 3ms/step - loss: 0.3360 - sparse_categorical_accuracy: 0.8756 - val_loss: 0.3256 - val_sparse_categorical_accuracy: 0.8827\n",
            "Epoch 10/20\n",
            "1500/1500 [==============================] - 4s 3ms/step - loss: 0.3319 - sparse_categorical_accuracy: 0.8772 - val_loss: 0.3201 - val_sparse_categorical_accuracy: 0.8859\n",
            "Epoch 11/20\n",
            "1500/1500 [==============================] - 4s 3ms/step - loss: 0.3228 - sparse_categorical_accuracy: 0.8804 - val_loss: 0.3209 - val_sparse_categorical_accuracy: 0.8861\n",
            "Epoch 12/20\n",
            "1500/1500 [==============================] - 4s 3ms/step - loss: 0.3204 - sparse_categorical_accuracy: 0.8815 - val_loss: 0.3143 - val_sparse_categorical_accuracy: 0.8860\n",
            "Epoch 13/20\n",
            "1500/1500 [==============================] - 4s 3ms/step - loss: 0.3130 - sparse_categorical_accuracy: 0.8837 - val_loss: 0.3119 - val_sparse_categorical_accuracy: 0.8868\n",
            "Epoch 14/20\n",
            "1500/1500 [==============================] - 4s 3ms/step - loss: 0.3111 - sparse_categorical_accuracy: 0.8835 - val_loss: 0.3352 - val_sparse_categorical_accuracy: 0.8789\n",
            "Epoch 15/20\n",
            "1500/1500 [==============================] - 5s 3ms/step - loss: 0.3051 - sparse_categorical_accuracy: 0.8873 - val_loss: 0.3058 - val_sparse_categorical_accuracy: 0.8886\n",
            "Epoch 16/20\n",
            "1500/1500 [==============================] - 4s 3ms/step - loss: 0.2998 - sparse_categorical_accuracy: 0.8876 - val_loss: 0.3092 - val_sparse_categorical_accuracy: 0.8890\n",
            "Epoch 17/20\n",
            "1500/1500 [==============================] - 4s 3ms/step - loss: 0.2950 - sparse_categorical_accuracy: 0.8871 - val_loss: 0.3071 - val_sparse_categorical_accuracy: 0.8931\n",
            "Epoch 18/20\n",
            "1500/1500 [==============================] - 4s 3ms/step - loss: 0.2955 - sparse_categorical_accuracy: 0.8893 - val_loss: 0.3168 - val_sparse_categorical_accuracy: 0.8899\n",
            "Epoch 19/20\n",
            "1500/1500 [==============================] - 4s 3ms/step - loss: 0.2923 - sparse_categorical_accuracy: 0.8912 - val_loss: 0.3084 - val_sparse_categorical_accuracy: 0.8903\n",
            "Epoch 20/20\n",
            "1500/1500 [==============================] - 4s 3ms/step - loss: 0.2849 - sparse_categorical_accuracy: 0.8934 - val_loss: 0.3170 - val_sparse_categorical_accuracy: 0.8885\n"
          ]
        }
      ]
    },
    {
      "cell_type": "code",
      "source": [
        "train_acc = result_dropout.history['sparse_categorical_accuracy']\n",
        "val_acc = result_dropout.history['val_sparse_categorical_accuracy']\n",
        "\n",
        "plt.plot(epochs, train_acc, 'bo-', label='train acc.')\n",
        "plt.plot(epochs, val_acc, 'ro-', label='validation acc.')\n",
        "plt.legend()\n",
        "plt.show()"
      ],
      "metadata": {
        "colab": {
          "base_uri": "https://localhost:8080/",
          "height": 265
        },
        "id": "FeIcmTNsXPLY",
        "outputId": "93607beb-a98c-4c75-a32d-342f3e0bce56"
      },
      "execution_count": null,
      "outputs": [
        {
          "output_type": "display_data",
          "data": {
            "text/plain": [
              "<Figure size 432x288 with 1 Axes>"
            ],
            "image/png": "[encoded data removed]"
          },
          "metadata": {
            "needs_background": "light"
          }
        }
      ]
    },
    {
      "cell_type": "markdown",
      "source": [
        "# 훈련된 모델 저장과 복원"
      ],
      "metadata": {
        "id": "mvqLPDAAZZMh"
      }
    },
    {
      "cell_type": "markdown",
      "source": [
        "Colab 세션에 저장하면, 세션이 만료됐을 때 저장된 파일은 삭제됨.\n",
        "\n",
        "Google Drive를 마운트해서 저장하는 게 더 좋음."
      ],
      "metadata": {
        "id": "JW4uredKaGx0"
      }
    },
    {
      "cell_type": "code",
      "source": [
        "# 훈련된 모델의 파라미터들만 저장\n",
        "model.save_weights('dropout_model_weights.h5')"
      ],
      "metadata": {
        "id": "QLOOQu8wZcY4"
      },
      "execution_count": null,
      "outputs": []
    },
    {
      "cell_type": "code",
      "source": [
        "# 훈련된 모델을 저장\n",
        "model.save('dropout_model.h5')"
      ],
      "metadata": {
        "id": "iidzGKjqZ-oY"
      },
      "execution_count": null,
      "outputs": []
    },
    {
      "cell_type": "markdown",
      "source": [
        "파라미터만 저장된 파일에서 모델을 복원하려면, 저장 당시의 모델과 동일한 모델을 먼저 생성한 후 파라미터를 load하면 됨."
      ],
      "metadata": {
        "id": "LOfO_tLnftlI"
      }
    },
    {
      "cell_type": "code",
      "source": [
        "model2 = build_dropout_model()  # 파라미터 저장과 동일한 모델 생성\n",
        "model2.load_weights('dropout_model_weights.h5')  # 생성된 모델에서 파라미터들을 로드."
      ],
      "metadata": {
        "id": "2EGlPGl8bha7"
      },
      "execution_count": null,
      "outputs": []
    },
    {
      "cell_type": "markdown",
      "source": [
        "파라미터들만 로드한 경우에는 optimizer, loss, metrics 등이 compile되지 않은 상태이기 때문에 evaluate를 호출할 수는 없음.\n",
        "\n",
        "하지만, 훈련된 파라미터가 있기 때문에 predict는 가능함."
      ],
      "metadata": {
        "id": "e4weMI5ag4Lw"
      }
    },
    {
      "cell_type": "code",
      "source": [
        "pred_prob = model2.predict(x=val_data)  # 각 레이블이 될 확률\n",
        "pred_label = np.argmax(pred_prob, axis=1)  # 예측 값\n",
        "np.mean(val_target == pred_label)  # 정확도"
      ],
      "metadata": {
        "colab": {
          "base_uri": "https://localhost:8080/"
        },
        "id": "8AtB4oDugg94",
        "outputId": "48fd1f35-55d4-4538-e847-c30e4689b521"
      },
      "execution_count": null,
      "outputs": [
        {
          "output_type": "execute_result",
          "data": {
            "text/plain": [
              "0.8885"
            ]
          },
          "metadata": {},
          "execution_count": 151
        }
      ]
    },
    {
      "cell_type": "markdown",
      "source": [
        "저장된 모델을 로드하는 경우:"
      ],
      "metadata": {
        "id": "qBNjU4rkiNBX"
      }
    },
    {
      "cell_type": "code",
      "source": [
        "model3 = keras.models.load_model('dropout_model.h5')"
      ],
      "metadata": {
        "id": "JpZ_MbADhuu9"
      },
      "execution_count": null,
      "outputs": []
    },
    {
      "cell_type": "code",
      "source": [
        "model3.evaluate(x=val_data, y=val_target)"
      ],
      "metadata": {
        "colab": {
          "base_uri": "https://localhost:8080/"
        },
        "id": "dYAjhY1difNn",
        "outputId": "e965644c-8f47-4db2-eb2e-98bfb76783d6"
      },
      "execution_count": null,
      "outputs": [
        {
          "output_type": "stream",
          "name": "stdout",
          "text": [
            "375/375 [==============================] - 1s 2ms/step - loss: 0.3170 - sparse_categorical_accuracy: 0.8885\n"
          ]
        },
        {
          "output_type": "execute_result",
          "data": {
            "text/plain": [
              "[0.3169572651386261, 0.8884999752044678]"
            ]
          },
          "metadata": {},
          "execution_count": 153
        }
      ]
    },
    {
      "cell_type": "markdown",
      "source": [
        "# Early Stopping(조기 종료) Callback"
      ],
      "metadata": {
        "id": "FVrWU-hvjVQy"
      }
    },
    {
      "cell_type": "code",
      "source": [
        "model = build_dropout_model()\n",
        "model.compile(optimizer=keras.optimizers.Adam(),\n",
        "              loss=keras.losses.sparse_categorical_crossentropy,\n",
        "              metrics=keras.metrics.sparse_categorical_accuracy)\n",
        "checkpoint_cb = keras.callbacks.ModelCheckpoint('best_model.h5')\n",
        "early_stop_cb = keras.callbacks.EarlyStopping(patience=3, restore_best_weights=True)\n",
        "result = model.fit(x=tr_data, y=tr_target, epochs=100,\n",
        "                   callbacks=[checkpoint_cb, early_stop_cb],\n",
        "                   validation_data=(val_data, val_target))"
      ],
      "metadata": {
        "colab": {
          "base_uri": "https://localhost:8080/"
        },
        "id": "Nih--607jndq",
        "outputId": "65b6d011-59be-498c-d7d4-25a361a96842"
      },
      "execution_count": null,
      "outputs": [
        {
          "output_type": "stream",
          "name": "stdout",
          "text": [
            "Epoch 1/100\n",
            "1500/1500 [==============================] - 5s 3ms/step - loss: 0.5739 - sparse_categorical_accuracy: 0.7983 - val_loss: 0.4328 - val_sparse_categorical_accuracy: 0.8462\n",
            "Epoch 2/100\n",
            "1500/1500 [==============================] - 4s 3ms/step - loss: 0.4500 - sparse_categorical_accuracy: 0.8388 - val_loss: 0.3967 - val_sparse_categorical_accuracy: 0.8575\n",
            "Epoch 3/100\n",
            "1500/1500 [==============================] - 4s 3ms/step - loss: 0.4159 - sparse_categorical_accuracy: 0.8493 - val_loss: 0.3677 - val_sparse_categorical_accuracy: 0.8697\n",
            "Epoch 4/100\n",
            "1500/1500 [==============================] - 4s 3ms/step - loss: 0.3974 - sparse_categorical_accuracy: 0.8546 - val_loss: 0.3519 - val_sparse_categorical_accuracy: 0.8723\n",
            "Epoch 5/100\n",
            "1500/1500 [==============================] - 4s 3ms/step - loss: 0.3771 - sparse_categorical_accuracy: 0.8617 - val_loss: 0.3673 - val_sparse_categorical_accuracy: 0.8667\n",
            "Epoch 6/100\n",
            "1500/1500 [==============================] - 4s 3ms/step - loss: 0.3672 - sparse_categorical_accuracy: 0.8651 - val_loss: 0.3542 - val_sparse_categorical_accuracy: 0.8727\n",
            "Epoch 7/100\n",
            "1500/1500 [==============================] - 4s 3ms/step - loss: 0.3539 - sparse_categorical_accuracy: 0.8688 - val_loss: 0.3297 - val_sparse_categorical_accuracy: 0.8817\n",
            "Epoch 8/100\n",
            "1500/1500 [==============================] - 4s 3ms/step - loss: 0.3497 - sparse_categorical_accuracy: 0.8701 - val_loss: 0.3246 - val_sparse_categorical_accuracy: 0.8849\n",
            "Epoch 9/100\n",
            "1500/1500 [==============================] - 4s 3ms/step - loss: 0.3401 - sparse_categorical_accuracy: 0.8735 - val_loss: 0.3224 - val_sparse_categorical_accuracy: 0.8817\n",
            "Epoch 10/100\n",
            "1500/1500 [==============================] - 4s 3ms/step - loss: 0.3330 - sparse_categorical_accuracy: 0.8760 - val_loss: 0.3374 - val_sparse_categorical_accuracy: 0.8787\n",
            "Epoch 11/100\n",
            "1500/1500 [==============================] - 4s 3ms/step - loss: 0.3268 - sparse_categorical_accuracy: 0.8777 - val_loss: 0.3214 - val_sparse_categorical_accuracy: 0.8826\n",
            "Epoch 12/100\n",
            "1500/1500 [==============================] - 4s 3ms/step - loss: 0.3172 - sparse_categorical_accuracy: 0.8800 - val_loss: 0.3154 - val_sparse_categorical_accuracy: 0.8870\n",
            "Epoch 13/100\n",
            "1500/1500 [==============================] - 4s 3ms/step - loss: 0.3149 - sparse_categorical_accuracy: 0.8833 - val_loss: 0.3204 - val_sparse_categorical_accuracy: 0.8865\n",
            "Epoch 14/100\n",
            "1500/1500 [==============================] - 4s 3ms/step - loss: 0.3084 - sparse_categorical_accuracy: 0.8841 - val_loss: 0.3110 - val_sparse_categorical_accuracy: 0.8903\n",
            "Epoch 15/100\n",
            "1500/1500 [==============================] - 4s 3ms/step - loss: 0.3035 - sparse_categorical_accuracy: 0.8874 - val_loss: 0.3157 - val_sparse_categorical_accuracy: 0.8892\n",
            "Epoch 16/100\n",
            "1500/1500 [==============================] - 4s 3ms/step - loss: 0.3013 - sparse_categorical_accuracy: 0.8868 - val_loss: 0.3113 - val_sparse_categorical_accuracy: 0.8874\n",
            "Epoch 17/100\n",
            "1500/1500 [==============================] - 4s 3ms/step - loss: 0.2967 - sparse_categorical_accuracy: 0.8875 - val_loss: 0.3165 - val_sparse_categorical_accuracy: 0.8884\n"
          ]
        }
      ]
    },
    {
      "cell_type": "code",
      "source": [
        "early_stop_cb.stopped_epoch"
      ],
      "metadata": {
        "colab": {
          "base_uri": "https://localhost:8080/"
        },
        "id": "uZ6jEv6CpGwB",
        "outputId": "eefa9699-fd2a-4771-93a4-655e905e1a4c"
      },
      "execution_count": null,
      "outputs": [
        {
          "output_type": "execute_result",
          "data": {
            "text/plain": [
              "16"
            ]
          },
          "metadata": {},
          "execution_count": 155
        }
      ]
    },
    {
      "cell_type": "code",
      "source": [
        "train_loss = result.history['loss']\n",
        "val_loss = result.history['val_loss']\n",
        "\n",
        "plt.plot(train_loss, 'bo-', label='train loss')\n",
        "plt.plot(val_loss, 'ro-', label='validation loss')\n",
        "plt.grid()\n",
        "plt.xlabel('epoch')\n",
        "plt.ylabel('loss')\n",
        "plt.show()"
      ],
      "metadata": {
        "colab": {
          "base_uri": "https://localhost:8080/",
          "height": 279
        },
        "id": "SaNyCXBFlz-v",
        "outputId": "83da79be-2c7f-4458-d653-0a09751fc0c3"
      },
      "execution_count": null,
      "outputs": [
        {
          "output_type": "display_data",
          "data": {
            "text/plain": [
              "<Figure size 432x288 with 1 Axes>"
            ],
            "image/png": "[encoded data removed]"
          },
          "metadata": {
            "needs_background": "light"
          }
        }
      ]
    }
  ]
}