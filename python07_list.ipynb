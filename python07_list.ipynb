{
  "nbformat": 4,
  "nbformat_minor": 0,
  "metadata": {
    "colab": {
      "name": "python07_list.ipynb",
      "provenance": [],
      "authorship_tag": "ABX9TyOdZivvuodT78WFmlMs/OzC",
      "include_colab_link": true
    },
    "kernelspec": {
      "name": "python3",
      "display_name": "Python 3"
    },
    "language_info": {
      "name": "python"
    }
  },
  "cells": [
    {
      "cell_type": "markdown",
      "metadata": {
        "id": "view-in-github",
        "colab_type": "text"
      },
      "source": [
        "<a href=\"https://colab.research.google.com/github/JoMihye/Python/blob/main/python07_list.ipynb\" target=\"_parent\"><img src=\"https://colab.research.google.com/assets/colab-badge.svg\" alt=\"Open In Colab\"/></a>"
      ]
    },
    {
      "cell_type": "markdown",
      "source": [
        "# List(리스트)"
      ],
      "metadata": {
        "id": "TbBRYwPAKFzr"
      }
    },
    {
      "cell_type": "markdown",
      "source": [
        "*  list(리스트): 여러 개의 값들을 하나의 변수에 저장하기 위한 데이터 타입.\n",
        "*  element(원소, 요소): 리스트에 저장된 각각의 값.\n",
        "*  index(인덱스): 리스트에서 각각의 원소들이 저장된 위치(번호).\n",
        "    *  리스트의 인덱스는 **0**부터 시작!!\n",
        "    *  리스트의 마지막 원소의 인덱스는 (원소 개수 - 1).\n",
        "*  리스트는 원소들을 변경(추가, 삭제)할 수 있음.\n",
        "    *  튜플(tuple)과 다른 점!"
      ],
      "metadata": {
        "id": "vGpYyvHfKOYd"
      }
    },
    {
      "cell_type": "code",
      "execution_count": null,
      "metadata": {
        "colab": {
          "base_uri": "https://localhost:8080/"
        },
        "id": "K1tGO5WTJ--K",
        "outputId": "43987197-c857-4134-9282-b3667ab248d5"
      },
      "outputs": [
        {
          "output_type": "stream",
          "name": "stdout",
          "text": [
            "[1, 2, 10, 20, 100]\n"
          ]
        }
      ],
      "source": [
        "# 숫자들을 저장하는 list\n",
        "numbers = [1, 2, 10, 20, 100]\n",
        "print(numbers)"
      ]
    },
    {
      "cell_type": "code",
      "source": [
        "print(type(numbers))"
      ],
      "metadata": {
        "colab": {
          "base_uri": "https://localhost:8080/"
        },
        "id": "b1o0i8-pM7TV",
        "outputId": "58c1b978-10b8-444a-c02b-c652e99106f5"
      },
      "execution_count": null,
      "outputs": [
        {
          "output_type": "stream",
          "name": "stdout",
          "text": [
            "<class 'list'>\n"
          ]
        }
      ]
    },
    {
      "cell_type": "markdown",
      "source": [
        "## indexing\n",
        "\n",
        "인덱스를 사용해서 리스트의 원소를 사용하는 방법."
      ],
      "metadata": {
        "id": "q6KjsGKvNIiy"
      }
    },
    {
      "cell_type": "code",
      "source": [
        "print(numbers[0])  # 리스트에서 첫번째 원소"
      ],
      "metadata": {
        "colab": {
          "base_uri": "https://localhost:8080/"
        },
        "id": "msD_JJIhNTN2",
        "outputId": "1083b8c7-c07a-4870-ec1c-99d8ded12a9c"
      },
      "execution_count": null,
      "outputs": [
        {
          "output_type": "stream",
          "name": "stdout",
          "text": [
            "1\n"
          ]
        }
      ]
    },
    {
      "cell_type": "code",
      "source": [
        "print(numbers[4])  # 리스트의 마지막 원소"
      ],
      "metadata": {
        "colab": {
          "base_uri": "https://localhost:8080/"
        },
        "id": "NzrrTf1LPDMa",
        "outputId": "948116c4-5d84-4e7d-edd1-34d831e05424"
      },
      "execution_count": null,
      "outputs": [
        {
          "output_type": "stream",
          "name": "stdout",
          "text": [
            "100\n"
          ]
        }
      ]
    },
    {
      "cell_type": "code",
      "source": [
        "# print(numbers[5])  #> IndexError가 발생함"
      ],
      "metadata": {
        "id": "XsrAv8miPGYH"
      },
      "execution_count": null,
      "outputs": []
    },
    {
      "cell_type": "code",
      "source": [
        "print(numbers[-1])  # 음수 인덱스를 사용해서 리스트의 가장 마지막 원소를 찾을 수도 있음."
      ],
      "metadata": {
        "colab": {
          "base_uri": "https://localhost:8080/"
        },
        "id": "oMZxtLwhQUbd",
        "outputId": "00e3abf2-dab8-4596-c677-906f04a0c181"
      },
      "execution_count": null,
      "outputs": [
        {
          "output_type": "stream",
          "name": "stdout",
          "text": [
            "100\n"
          ]
        }
      ]
    },
    {
      "cell_type": "code",
      "source": [
        "# 리스트에서 끝에서 두번째 원소\n",
        "print(numbers[3])\n",
        "print(numbers[-2])"
      ],
      "metadata": {
        "colab": {
          "base_uri": "https://localhost:8080/"
        },
        "id": "A1XCbH9AQgCE",
        "outputId": "f469f139-9457-4be2-88f0-3928fd5c75cc"
      },
      "execution_count": null,
      "outputs": [
        {
          "output_type": "stream",
          "name": "stdout",
          "text": [
            "20\n",
            "20\n"
          ]
        }
      ]
    },
    {
      "cell_type": "markdown",
      "source": [
        "## slicing"
      ],
      "metadata": {
        "id": "diwU6WRDRiO9"
      }
    },
    {
      "cell_type": "markdown",
      "source": [
        "```\n",
        "list_name[start:end]\n",
        "```\n",
        "\n",
        "*  리스트에서 start <= index < end 범위의 원소들을 선택.\n",
        "*  start를 생략하면 인덱스 0번 원소(리스트의 첫번째 원소)부터 선택.\n",
        "*  end를 생략하면 리스트의 마지막 원소까지 선택.\n",
        "*  slicing의 결과는 **새로운 리스트**!"
      ],
      "metadata": {
        "id": "PJNtR3mSRmqO"
      }
    },
    {
      "cell_type": "code",
      "source": [
        "print(numbers)"
      ],
      "metadata": {
        "colab": {
          "base_uri": "https://localhost:8080/"
        },
        "id": "AEU2ETbuTcp1",
        "outputId": "36ae64d9-0b61-489e-cf49-01572a690c65"
      },
      "execution_count": null,
      "outputs": [
        {
          "output_type": "stream",
          "name": "stdout",
          "text": [
            "[1, 2, 10, 20, 100]\n"
          ]
        }
      ]
    },
    {
      "cell_type": "code",
      "source": [
        "print(numbers[1:4])"
      ],
      "metadata": {
        "colab": {
          "base_uri": "https://localhost:8080/"
        },
        "id": "StQ5_MdyTfvI",
        "outputId": "5d3c4ba0-5346-4a7c-8efb-7aa9ece2267b"
      },
      "execution_count": null,
      "outputs": [
        {
          "output_type": "stream",
          "name": "stdout",
          "text": [
            "[2, 10, 20]\n"
          ]
        }
      ]
    },
    {
      "cell_type": "code",
      "source": [
        "print(numbers[2:5])"
      ],
      "metadata": {
        "colab": {
          "base_uri": "https://localhost:8080/"
        },
        "id": "WukPwjq6UNjt",
        "outputId": "87ca886a-200f-456b-bb5e-fa25f4823567"
      },
      "execution_count": null,
      "outputs": [
        {
          "output_type": "stream",
          "name": "stdout",
          "text": [
            "[10, 20, 100]\n"
          ]
        }
      ]
    },
    {
      "cell_type": "code",
      "source": [
        "print(numbers[2:])  # end를 생략하면, 리스트의 끝까지 slicing."
      ],
      "metadata": {
        "colab": {
          "base_uri": "https://localhost:8080/"
        },
        "id": "72IEfsJmUiIm",
        "outputId": "05218930-59ca-439d-a67e-c2df5a997246"
      },
      "execution_count": null,
      "outputs": [
        {
          "output_type": "stream",
          "name": "stdout",
          "text": [
            "[10, 20, 100]\n"
          ]
        }
      ]
    },
    {
      "cell_type": "code",
      "source": [
        "print(numbers[:2])  # start를 생략하면 리스트의 처음부터 end 인덱스까지 slicing."
      ],
      "metadata": {
        "colab": {
          "base_uri": "https://localhost:8080/"
        },
        "id": "Td-uTEmDVDJM",
        "outputId": "ed0fa2c4-8b36-4272-b335-c76cfd935be6"
      },
      "execution_count": null,
      "outputs": [
        {
          "output_type": "stream",
          "name": "stdout",
          "text": [
            "[1, 2]\n"
          ]
        }
      ]
    },
    {
      "cell_type": "code",
      "source": [
        "# 리스트에서 끝에서 2개 원소 선택\n",
        "print(numbers[-2:])"
      ],
      "metadata": {
        "colab": {
          "base_uri": "https://localhost:8080/"
        },
        "id": "yhfwiJNSVfzQ",
        "outputId": "99bb36b2-8207-4038-9180-3f9108951782"
      },
      "execution_count": null,
      "outputs": [
        {
          "output_type": "stream",
          "name": "stdout",
          "text": [
            "[20, 100]\n"
          ]
        }
      ]
    },
    {
      "cell_type": "code",
      "source": [
        "print(numbers[0:1])  # slicing -> 리스트\n",
        "print(numbers[0])  # indexing -> 숫자"
      ],
      "metadata": {
        "colab": {
          "base_uri": "https://localhost:8080/"
        },
        "id": "3vsXXKi1WOLi",
        "outputId": "4fe9d06b-983e-40e6-9126-77683f287766"
      },
      "execution_count": null,
      "outputs": [
        {
          "output_type": "stream",
          "name": "stdout",
          "text": [
            "[1]\n",
            "1\n"
          ]
        }
      ]
    },
    {
      "cell_type": "markdown",
      "source": [
        "## 문자열\n",
        "\n",
        "문자들의 리스트.\n",
        "*  인덱스를 사용할 수 있음.\n",
        "*  indexing: 인덱스를 사용해서 특정 위치에 있는 문자 한 개를 선택할 수 있음.\n",
        "*  slicing: 인덱스를 사용해서 문자열을 잘라낼 수 있음."
      ],
      "metadata": {
        "id": "CBg8oukuwDKL"
      }
    },
    {
      "cell_type": "code",
      "source": [
        "message = '안녕하세요, Python!'  # 14개의 문자를 가지고 있는 문자열.\n",
        "print(len(message))  # 문자열의 길이"
      ],
      "metadata": {
        "colab": {
          "base_uri": "https://localhost:8080/"
        },
        "id": "8GvQqn_Wwh3s",
        "outputId": "65468080-08b9-4c95-e51d-f61a04d25a8b"
      },
      "execution_count": null,
      "outputs": [
        {
          "output_type": "stream",
          "name": "stdout",
          "text": [
            "14\n"
          ]
        }
      ]
    },
    {
      "cell_type": "code",
      "source": [
        "# message 문자열에서 첫번째 문자 한 개를 출력\n",
        "print(message[0])"
      ],
      "metadata": {
        "colab": {
          "base_uri": "https://localhost:8080/"
        },
        "id": "BaoH_DyTxJkR",
        "outputId": "d7a16a2a-cfcd-4a6e-c416-8b9b4e855376"
      },
      "execution_count": null,
      "outputs": [
        {
          "output_type": "stream",
          "name": "stdout",
          "text": [
            "안\n"
          ]
        }
      ]
    },
    {
      "cell_type": "code",
      "source": [
        "# 문자열에서 마지막 문자 한 개를 선택\n",
        "print(message[-1])"
      ],
      "metadata": {
        "colab": {
          "base_uri": "https://localhost:8080/"
        },
        "id": "IHDgkqknxsOs",
        "outputId": "4c7658f1-0355-4fb8-c6d1-fff86b5d8821"
      },
      "execution_count": null,
      "outputs": [
        {
          "output_type": "stream",
          "name": "stdout",
          "text": [
            "!\n"
          ]
        }
      ]
    },
    {
      "cell_type": "code",
      "source": [
        "# 문자열에서 첫 5개 문자들을 선택\n",
        "print(message[:5])"
      ],
      "metadata": {
        "colab": {
          "base_uri": "https://localhost:8080/"
        },
        "id": "9fhZCT1XxpPu",
        "outputId": "4c6c810a-0fe2-43ea-f7ad-09b1815f085f"
      },
      "execution_count": null,
      "outputs": [
        {
          "output_type": "stream",
          "name": "stdout",
          "text": [
            "안녕하세요\n"
          ]
        }
      ]
    },
    {
      "cell_type": "code",
      "source": [
        "# 문자열에서 마지막 5개 문자들을 선택\n",
        "print(message[-5:])"
      ],
      "metadata": {
        "colab": {
          "base_uri": "https://localhost:8080/"
        },
        "id": "1sqKUX0-x0Q4",
        "outputId": "d0a79b22-bcca-4191-a040-b907c0292e5d"
      },
      "execution_count": null,
      "outputs": [
        {
          "output_type": "stream",
          "name": "stdout",
          "text": [
            "thon!\n"
          ]
        }
      ]
    },
    {
      "cell_type": "markdown",
      "source": [
        "## list의 산술 연산: `+`, `*`"
      ],
      "metadata": {
        "id": "8RSvibmjypHD"
      }
    },
    {
      "cell_type": "code",
      "source": [
        "# 문자열에서의 +\n",
        "'Hello' + 'Python'"
      ],
      "metadata": {
        "colab": {
          "base_uri": "https://localhost:8080/",
          "height": 35
        },
        "id": "IQ1K5h0vyuIN",
        "outputId": "b8209d3b-e1c5-4223-e3f1-b5f6e0af16bc"
      },
      "execution_count": null,
      "outputs": [
        {
          "output_type": "execute_result",
          "data": {
            "text/plain": [
              "'HelloPython'"
            ],
            "application/vnd.google.colaboratory.intrinsic+json": {
              "type": "string"
            }
          },
          "metadata": {},
          "execution_count": 9
        }
      ]
    },
    {
      "cell_type": "code",
      "source": [
        "# list에서의 +\n",
        "[1, 2, 3] + [10, 20, 30]"
      ],
      "metadata": {
        "colab": {
          "base_uri": "https://localhost:8080/"
        },
        "id": "vFUPchppy9eP",
        "outputId": "b1a4a97f-054b-4508-a2bd-9212e55753da"
      },
      "execution_count": null,
      "outputs": [
        {
          "output_type": "execute_result",
          "data": {
            "text/plain": [
              "[1, 2, 3, 10, 20, 30]"
            ]
          },
          "metadata": {},
          "execution_count": 10
        }
      ]
    },
    {
      "cell_type": "code",
      "source": [
        "# 문자열에서의 *\n",
        "'Hello' * 3"
      ],
      "metadata": {
        "colab": {
          "base_uri": "https://localhost:8080/",
          "height": 35
        },
        "id": "z-9tyY18zQ_N",
        "outputId": "65130edb-0a40-4679-de6d-ce2792bb5eea"
      },
      "execution_count": null,
      "outputs": [
        {
          "output_type": "execute_result",
          "data": {
            "text/plain": [
              "'HelloHelloHello'"
            ],
            "application/vnd.google.colaboratory.intrinsic+json": {
              "type": "string"
            }
          },
          "metadata": {},
          "execution_count": 11
        }
      ]
    },
    {
      "cell_type": "code",
      "source": [
        "# list에서의 *\n",
        "[1, 2, 3] * 3"
      ],
      "metadata": {
        "colab": {
          "base_uri": "https://localhost:8080/"
        },
        "id": "1QFVm8jgzgT5",
        "outputId": "bd20c7cd-e319-41c1-bbc8-c100c3d87ebf"
      },
      "execution_count": null,
      "outputs": [
        {
          "output_type": "execute_result",
          "data": {
            "text/plain": [
              "[1, 2, 3, 1, 2, 3, 1, 2, 3]"
            ]
          },
          "metadata": {},
          "execution_count": 12
        }
      ]
    },
    {
      "cell_type": "markdown",
      "source": [
        "## list의 기능들 - 함수(메서드, method)"
      ],
      "metadata": {
        "id": "YUKF_nF1zt5J"
      }
    },
    {
      "cell_type": "markdown",
      "source": [
        "### 원소(element) 추가"
      ],
      "metadata": {
        "id": "K344FqyOz9DS"
      }
    },
    {
      "cell_type": "code",
      "source": [
        "numbers = [1, 2, 3, 4, 5]\n",
        "numbers.append(100)  # list.append(값): 값을 list의 가장 마지막에 추가.\n",
        "print(numbers)"
      ],
      "metadata": {
        "colab": {
          "base_uri": "https://localhost:8080/"
        },
        "id": "915mNJBh0DbM",
        "outputId": "2ca657ff-4a7c-4f82-a53b-4e2a1f6a4397"
      },
      "execution_count": null,
      "outputs": [
        {
          "output_type": "stream",
          "name": "stdout",
          "text": [
            "[1, 2, 3, 4, 5, 100]\n"
          ]
        }
      ]
    },
    {
      "cell_type": "code",
      "source": [
        "# list.insert(index, object): list의 index 위치에 object(값)을 추가.\n",
        "numbers.insert(0, 123)  # numbers 리스트의 인덱스 0번 위치에 123을 추가.\n",
        "print(numbers)"
      ],
      "metadata": {
        "colab": {
          "base_uri": "https://localhost:8080/"
        },
        "id": "dTx66VLk1fwd",
        "outputId": "10bda6e7-bed1-4142-e49a-5fd3cbdaac5b"
      },
      "execution_count": null,
      "outputs": [
        {
          "output_type": "stream",
          "name": "stdout",
          "text": [
            "[123, 1, 2, 3, 4, 5, 100]\n"
          ]
        }
      ]
    },
    {
      "cell_type": "code",
      "source": [
        "# list.extend(iterable): 리스트 이어붙이기(concatenate). + 연산과 동일.\n",
        "numbers1 = [1, 2, 3]\n",
        "numbers2 = [10, 20, 30]\n",
        "numbers1.extend(numbers2)  # numbers1 + numbers2\n",
        "print(numbers1)"
      ],
      "metadata": {
        "colab": {
          "base_uri": "https://localhost:8080/"
        },
        "id": "qJ5GhDKI2ecA",
        "outputId": "9474a7df-95f8-4e85-a2a2-3bc785745964"
      },
      "execution_count": null,
      "outputs": [
        {
          "output_type": "stream",
          "name": "stdout",
          "text": [
            "[1, 2, 3, 10, 20, 30]\n"
          ]
        }
      ]
    },
    {
      "cell_type": "code",
      "source": [
        "numbers1 = [1, 2, 3]\n",
        "numbers2 = [10, 20, 30]\n",
        "numbers1.append(numbers2)  # append 메서드는 리스트를 한 개의 원소로 추가함!\n",
        "print(numbers1)"
      ],
      "metadata": {
        "colab": {
          "base_uri": "https://localhost:8080/"
        },
        "id": "6AKMtQkG8T-c",
        "outputId": "57351644-1955-4b36-a15d-b8795df362d9"
      },
      "execution_count": null,
      "outputs": [
        {
          "output_type": "stream",
          "name": "stdout",
          "text": [
            "[1, 2, 3, [10, 20, 30]]\n"
          ]
        }
      ]
    },
    {
      "cell_type": "markdown",
      "source": [
        "### 원소 삭제"
      ],
      "metadata": {
        "id": "wmHKspJs8rXS"
      }
    },
    {
      "cell_type": "code",
      "source": [
        "# list.remove(값): 리스트에서 처음 등장하는 값 한 개를 삭제.\n",
        "numbers = [1, 2, 3, 1, 2, 10, 20]\n",
        "numbers.remove(2)\n",
        "print(numbers)"
      ],
      "metadata": {
        "colab": {
          "base_uri": "https://localhost:8080/"
        },
        "id": "hw4_pCSF8vbR",
        "outputId": "6320087b-706e-4e23-c0b3-097c1668fb33"
      },
      "execution_count": null,
      "outputs": [
        {
          "output_type": "stream",
          "name": "stdout",
          "text": [
            "[1, 3, 1, 2, 10, 20]\n"
          ]
        }
      ]
    },
    {
      "cell_type": "code",
      "source": [
        "# list.pop(index): 인덱스 위치의 원소를 삭제. index를 전달하지 않으면 가장 마지막 원소를 삭제.\n",
        "numbers = [1, 2, 10, 20, 100, 200]\n",
        "numbers.pop(0)  # 리스트의 첫번째 원소(인덱스 0번 원소)를 삭제\n",
        "print(numbers)"
      ],
      "metadata": {
        "colab": {
          "base_uri": "https://localhost:8080/"
        },
        "id": "ExprQ93i9bMw",
        "outputId": "080795a0-7af6-455f-ffea-f82c557300c7"
      },
      "execution_count": null,
      "outputs": [
        {
          "output_type": "stream",
          "name": "stdout",
          "text": [
            "[2, 10, 20, 100, 200]\n"
          ]
        }
      ]
    },
    {
      "cell_type": "code",
      "source": [
        "numbers.pop()\n",
        "print(numbers)"
      ],
      "metadata": {
        "colab": {
          "base_uri": "https://localhost:8080/"
        },
        "id": "432Vfzoy-NyA",
        "outputId": "724317d2-5a9b-48ec-c497-434e7de668f8"
      },
      "execution_count": null,
      "outputs": [
        {
          "output_type": "stream",
          "name": "stdout",
          "text": [
            "[2, 10, 20, 100]\n"
          ]
        }
      ]
    },
    {
      "cell_type": "code",
      "source": [
        "# list.clear(): 리스트의 모든 원소를 삭제.\n",
        "numbers.clear()\n",
        "print(numbers)"
      ],
      "metadata": {
        "colab": {
          "base_uri": "https://localhost:8080/"
        },
        "id": "IkaNIP8L-cR7",
        "outputId": "df82636d-5af4-4661-8aef-bb138daa041c"
      },
      "execution_count": null,
      "outputs": [
        {
          "output_type": "stream",
          "name": "stdout",
          "text": [
            "[]\n"
          ]
        }
      ]
    },
    {
      "cell_type": "code",
      "source": [
        "len(numbers)  # 리스트의 원소의 개수"
      ],
      "metadata": {
        "colab": {
          "base_uri": "https://localhost:8080/"
        },
        "id": "Hi_0f452-2FZ",
        "outputId": "867ad74a-6b10-43c4-cfcb-da3bf5f6e11e"
      },
      "execution_count": null,
      "outputs": [
        {
          "output_type": "execute_result",
          "data": {
            "text/plain": [
              "0"
            ]
          },
          "metadata": {},
          "execution_count": 23
        }
      ]
    },
    {
      "cell_type": "code",
      "source": [
        "numbers = [1, 2, 3]\n",
        "numbers[1] = 100  # 리스트에서 특정 위치(인덱스)의 원소 값을 변경.\n",
        "print(numbers)"
      ],
      "metadata": {
        "colab": {
          "base_uri": "https://localhost:8080/"
        },
        "id": "sLIzIZsF-_tR",
        "outputId": "9629792d-c75a-4f3f-b15c-d65809b4d773"
      },
      "execution_count": null,
      "outputs": [
        {
          "output_type": "stream",
          "name": "stdout",
          "text": [
            "[1, 100, 3]\n"
          ]
        }
      ]
    },
    {
      "cell_type": "code",
      "source": [
        ""
      ],
      "metadata": {
        "id": "n1jeirhm_PMn"
      },
      "execution_count": null,
      "outputs": []
    }
  ]
}