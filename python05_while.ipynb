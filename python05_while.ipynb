{
  "nbformat": 4,
  "nbformat_minor": 0,
  "metadata": {
    "colab": {
      "name": "python05_while.ipynb",
      "provenance": [],
      "authorship_tag": "ABX9TyNQI9igGBi2FpmkSNMZozlI",
      "include_colab_link": true
    },
    "kernelspec": {
      "name": "python3",
      "display_name": "Python 3"
    },
    "language_info": {
      "name": "python"
    }
  },
  "cells": [
    {
      "cell_type": "markdown",
      "metadata": {
        "id": "view-in-github",
        "colab_type": "text"
      },
      "source": [
        "<a href=\"https://colab.research.google.com/github/JoMihye/Python/blob/main/python05_while.ipynb\" target=\"_parent\"><img src=\"https://colab.research.google.com/assets/colab-badge.svg\" alt=\"Open In Colab\"/></a>"
      ]
    },
    {
      "cell_type": "markdown",
      "source": [
        "# while loop(반복문)"
      ],
      "metadata": {
        "id": "aKMyx5AoiM4E"
      }
    },
    {
      "cell_type": "markdown",
      "source": [
        "```\n",
        "[초기화 문장]\n",
        "while 조건식:\n",
        "    조건식을 만족하는 동안에 반복할 코드 블록\n",
        "    [조건을 변경할 수 있는 문장]\n",
        "```\n",
        "\n",
        "*  `while 조건식` 다음에는 반드시 콜론(:)을 사용\n",
        "*  조건식을 만족하는 동안에 블록 내부를 계속 반복 실행.\n",
        "*  조건식을 만족하지 못하면 반복을 중지."
      ],
      "metadata": {
        "id": "iiiOlMwgiTAt"
      }
    },
    {
      "cell_type": "code",
      "execution_count": null,
      "metadata": {
        "colab": {
          "base_uri": "https://localhost:8080/"
        },
        "id": "tRMJBAGxhcH5",
        "outputId": "4ee11a3b-828a-414e-e898-8364a1d47629"
      },
      "outputs": [
        {
          "output_type": "stream",
          "name": "stdout",
          "text": [
            "1\n",
            "2\n",
            "3\n",
            "4\n",
            "5\n"
          ]
        }
      ],
      "source": [
        "print(1)\n",
        "print(2)\n",
        "print(3)\n",
        "print(4)\n",
        "print(5)"
      ]
    },
    {
      "cell_type": "code",
      "source": [
        "n = 1  # 초기화\n",
        "while n <= 5:  # 변수 n의 값이 5보다 작거나 같은 동안에\n",
        "    print(n)   # 변수 n의 값을 출력\n",
        "    n += 1     # n = n + 1. 변수 n의 값을 1 증가."
      ],
      "metadata": {
        "colab": {
          "base_uri": "https://localhost:8080/"
        },
        "id": "ZBdvE-GNknI7",
        "outputId": "72a7d910-7e3e-4edc-be2a-b6e105338a35"
      },
      "execution_count": null,
      "outputs": [
        {
          "output_type": "stream",
          "name": "stdout",
          "text": [
            "1\n",
            "2\n",
            "3\n",
            "4\n",
            "5\n"
          ]
        }
      ]
    },
    {
      "cell_type": "code",
      "source": [
        "# 5 4 3 2 1 출력\n",
        "n = 5  # n은 5부터 시작\n",
        "while n >= 1:  # n의 값이 1보다 크거나 같은 동안 반복.\n",
        "    print(n)  # n을 출력\n",
        "    n -= 1  # n의 값을 1 감소."
      ],
      "metadata": {
        "colab": {
          "base_uri": "https://localhost:8080/"
        },
        "id": "nRe-L-9AnZrB",
        "outputId": "963ba9d5-3a60-40c3-ac08-cd9f797d63c1"
      },
      "execution_count": null,
      "outputs": [
        {
          "output_type": "stream",
          "name": "stdout",
          "text": [
            "5\n",
            "4\n",
            "3\n",
            "2\n",
            "1\n"
          ]
        }
      ]
    },
    {
      "cell_type": "code",
      "source": [
        "# 2 4 6 8 10 출력\n",
        "n = 2\n",
        "while n <= 10:\n",
        "    print(n)\n",
        "    n += 2"
      ],
      "metadata": {
        "colab": {
          "base_uri": "https://localhost:8080/"
        },
        "id": "V3A2OA67srZb",
        "outputId": "543904d9-1eca-4eb7-a7c4-74931337f3ba"
      },
      "execution_count": null,
      "outputs": [
        {
          "output_type": "stream",
          "name": "stdout",
          "text": [
            "2\n",
            "4\n",
            "6\n",
            "8\n",
            "10\n"
          ]
        }
      ]
    },
    {
      "cell_type": "code",
      "source": [
        "n = 2               # n은 2부 시작.\n",
        "while n <= 10:      # n의 값이 10보다 작거나 같은 동안 반복.\n",
        "    if n % == 0:    # 만약에 n이 짝수이면(n을 2로 나눈 나머지가 0이면),\n",
        "        print(n)    # n을 출력\n",
        "    n += 1          # n의 값을 1 증가"
      ],
      "metadata": {
        "id": "pAH8pI4iuZ7o"
      },
      "execution_count": null,
      "outputs": []
    },
    {
      "cell_type": "code",
      "source": [
        "# 9 7 5 3 1 출력\n",
        "n = 9           # n은 9부터 시작.\n",
        "while n >= 1:   # n의 값이 1보다 크거나 같은 동안에 반복.\n",
        "    print(n)    # n을 출력\n",
        "    n -= 2      # n의 값을 2 감소."
      ],
      "metadata": {
        "colab": {
          "base_uri": "https://localhost:8080/"
        },
        "id": "XMX7AE8HtLVC",
        "outputId": "46e8e0ec-a7b9-4e92-f5cb-4173b40f3fc4"
      },
      "execution_count": null,
      "outputs": [
        {
          "output_type": "stream",
          "name": "stdout",
          "text": [
            "9\n",
            "7\n",
            "5\n",
            "3\n",
            "1\n"
          ]
        }
      ]
    },
    {
      "cell_type": "code",
      "source": [
        "n = 9\n",
        "while n >= 1:\n",
        "    if n % 2 == 1:  # n을 2로 나눈 나머지가 1이면(n이 홀수이면)\n",
        "        print(n)    # 홀수일 때만 출력\n",
        "    n -= 1          # n이 짝수인 지 홀수인 지 상관없이 1 감소."
      ],
      "metadata": {
        "id": "aOP0jnpqxron"
      },
      "execution_count": null,
      "outputs": []
    },
    {
      "cell_type": "markdown",
      "source": [
        "## `break`와 `continue`\n",
        "\n",
        "*  `break`: 반복(iteration)을 종료. break가 포함된 가장 가까운 반복문을 빠져 나옴.\n",
        "*  `continue`: 다음 반복(iteration)을 수행. **continue 아래쪽의 문장들은 건너뛰고**, 다음 반복을 수행."
      ],
      "metadata": {
        "id": "JWD1WAk1ztKZ"
      }
    },
    {
      "cell_type": "code",
      "source": [
        "n = 1\n",
        "while n <= 5:\n",
        "    if n == 3:\n",
        "        break\n",
        "    print(n)\n",
        "    n += 1"
      ],
      "metadata": {
        "colab": {
          "base_uri": "https://localhost:8080/"
        },
        "id": "Lk_I2hM80X22",
        "outputId": "76e1abb7-0e49-4637-ddc1-e96e5eafac51"
      },
      "execution_count": null,
      "outputs": [
        {
          "output_type": "stream",
          "name": "stdout",
          "text": [
            "1\n",
            "2\n"
          ]
        }
      ]
    },
    {
      "cell_type": "code",
      "source": [
        "n = 0\n",
        "while n < 5:\n",
        "    n += 1\n",
        "    if n == 3:\n",
        "        continue\n",
        "    print(n)"
      ],
      "metadata": {
        "colab": {
          "base_uri": "https://localhost:8080/"
        },
        "id": "8sVZYBBi11R9",
        "outputId": "583bc31f-b6bb-400e-b182-d2eea5b33fe2"
      },
      "execution_count": null,
      "outputs": [
        {
          "output_type": "stream",
          "name": "stdout",
          "text": [
            "1\n",
            "2\n",
            "4\n",
            "5\n"
          ]
        }
      ]
    },
    {
      "cell_type": "markdown",
      "source": [
        "## Exercise 1\n",
        "\n",
        "구구단 9단을 아래와 같은 형식으로 출력하세요.\n",
        "\n",
        "```\n",
        "9 x 1 = 9\n",
        "9 x 2 = 18\n",
        "...\n",
        "9 x 9 = 81\n",
        "```"
      ],
      "metadata": {
        "id": "QciBngwE9Jwr"
      }
    },
    {
      "cell_type": "code",
      "source": [
        "n = 1\n",
        "while n <= 9:\n",
        "    print('9 x', n, '=', 9*n)\n",
        "    n += 1"
      ],
      "metadata": {
        "colab": {
          "base_uri": "https://localhost:8080/"
        },
        "id": "CeLNFco39IE0",
        "outputId": "070c185a-e5c0-44b5-dcd2-e2bf6cc36130"
      },
      "execution_count": null,
      "outputs": [
        {
          "output_type": "stream",
          "name": "stdout",
          "text": [
            "9 x 1 = 9\n",
            "9 x 2 = 18\n",
            "9 x 3 = 27\n",
            "9 x 4 = 36\n",
            "9 x 5 = 45\n",
            "9 x 6 = 54\n",
            "9 x 7 = 63\n",
            "9 x 8 = 72\n",
            "9 x 9 = 81\n"
          ]
        }
      ]
    },
    {
      "cell_type": "code",
      "source": [
        "# 강사님 풀이\n",
        "n = 1\n",
        "while n < 10:\n",
        "    print(f'9 x {n} = {9 * n}')\n",
        "    n += 1"
      ],
      "metadata": {
        "colab": {
          "base_uri": "https://localhost:8080/"
        },
        "id": "JbegZ_19_Ln7",
        "outputId": "28ec0807-d1b5-4a38-feec-c917afbb7b35"
      },
      "execution_count": null,
      "outputs": [
        {
          "output_type": "stream",
          "name": "stdout",
          "text": [
            "9 x 1 = 9\n",
            "9 x 2 = 18\n",
            "9 x 3 = 27\n",
            "9 x 4 = 36\n",
            "9 x 5 = 45\n",
            "9 x 6 = 54\n",
            "9 x 7 = 63\n",
            "9 x 8 = 72\n",
            "9 x 9 = 81\n"
          ]
        }
      ]
    },
    {
      "cell_type": "markdown",
      "source": [
        "## 중첩 while 반복문 (nested while loop)\n",
        "반복문 안에 또다른 반복문을 사용하는 것."
      ],
      "metadata": {
        "id": "AlvmtN5wAoIt"
      }
    },
    {
      "cell_type": "code",
      "source": [
        "# 구구단을 2단부터 9단까지 출력\n",
        "dan = 2\n",
        "while dan < 10:\n",
        "    print(f'--- {dan}단 ---')\n",
        "    n = 1\n",
        "    while n < 10:\n",
        "        print(f'{dan} x {n} = {dan*n}')\n",
        "        n += 1\n",
        "    dan += 1"
      ],
      "metadata": {
        "colab": {
          "base_uri": "https://localhost:8080/"
        },
        "id": "DNhJtXH7Bloc",
        "outputId": "f2a9fc8b-6542-4145-e9b8-5d0ec35953d4"
      },
      "execution_count": null,
      "outputs": [
        {
          "output_type": "stream",
          "name": "stdout",
          "text": [
            "--- 2단 ---\n",
            "2 x 1 = 2\n",
            "2 x 2 = 4\n",
            "2 x 3 = 6\n",
            "2 x 4 = 8\n",
            "2 x 5 = 10\n",
            "2 x 6 = 12\n",
            "2 x 7 = 14\n",
            "2 x 8 = 16\n",
            "2 x 9 = 18\n",
            "--- 3단 ---\n",
            "3 x 1 = 3\n",
            "3 x 2 = 6\n",
            "3 x 3 = 9\n",
            "3 x 4 = 12\n",
            "3 x 5 = 15\n",
            "3 x 6 = 18\n",
            "3 x 7 = 21\n",
            "3 x 8 = 24\n",
            "3 x 9 = 27\n",
            "--- 4단 ---\n",
            "4 x 1 = 4\n",
            "4 x 2 = 8\n",
            "4 x 3 = 12\n",
            "4 x 4 = 16\n",
            "4 x 5 = 20\n",
            "4 x 6 = 24\n",
            "4 x 7 = 28\n",
            "4 x 8 = 32\n",
            "4 x 9 = 36\n",
            "--- 5단 ---\n",
            "5 x 1 = 5\n",
            "5 x 2 = 10\n",
            "5 x 3 = 15\n",
            "5 x 4 = 20\n",
            "5 x 5 = 25\n",
            "5 x 6 = 30\n",
            "5 x 7 = 35\n",
            "5 x 8 = 40\n",
            "5 x 9 = 45\n",
            "--- 6단 ---\n",
            "6 x 1 = 6\n",
            "6 x 2 = 12\n",
            "6 x 3 = 18\n",
            "6 x 4 = 24\n",
            "6 x 5 = 30\n",
            "6 x 6 = 36\n",
            "6 x 7 = 42\n",
            "6 x 8 = 48\n",
            "6 x 9 = 54\n",
            "--- 7단 ---\n",
            "7 x 1 = 7\n",
            "7 x 2 = 14\n",
            "7 x 3 = 21\n",
            "7 x 4 = 28\n",
            "7 x 5 = 35\n",
            "7 x 6 = 42\n",
            "7 x 7 = 49\n",
            "7 x 8 = 56\n",
            "7 x 9 = 63\n",
            "--- 8단 ---\n",
            "8 x 1 = 8\n",
            "8 x 2 = 16\n",
            "8 x 3 = 24\n",
            "8 x 4 = 32\n",
            "8 x 5 = 40\n",
            "8 x 6 = 48\n",
            "8 x 7 = 56\n",
            "8 x 8 = 64\n",
            "8 x 9 = 72\n",
            "--- 9단 ---\n",
            "9 x 1 = 9\n",
            "9 x 2 = 18\n",
            "9 x 3 = 27\n",
            "9 x 4 = 36\n",
            "9 x 5 = 45\n",
            "9 x 6 = 54\n",
            "9 x 7 = 63\n",
            "9 x 8 = 72\n",
            "9 x 9 = 81\n"
          ]
        }
      ]
    },
    {
      "cell_type": "markdown",
      "source": [
        "## Exercises"
      ],
      "metadata": {
        "id": "etAi0HiNKJuX"
      }
    },
    {
      "cell_type": "markdown",
      "source": [
        "### 1. 아래와 같이 출력하는 코드를 작성하세요.\n",
        "\n",
        "```\n",
        "*\n",
        "**\n",
        "***\n",
        "****\n",
        "*****\n",
        "```\n"
      ],
      "metadata": {
        "id": "gOR07ur0KPON"
      }
    },
    {
      "cell_type": "code",
      "source": [
        "n = 1\n",
        "while n <= 5:\n",
        "    print('*' * n)\n",
        "    n += 1"
      ],
      "metadata": {
        "colab": {
          "base_uri": "https://localhost:8080/"
        },
        "id": "LkYd8o2bLE1d",
        "outputId": "cdeea6fe-ad5f-4c40-a770-053b75c047cd"
      },
      "execution_count": null,
      "outputs": [
        {
          "output_type": "stream",
          "name": "stdout",
          "text": [
            "*\n",
            "**\n",
            "***\n",
            "****\n",
            "*****\n"
          ]
        }
      ]
    },
    {
      "cell_type": "markdown",
      "source": [
        "### 2. 아래와 같이 출력하는 코드를 작성하세요.\n",
        "\n",
        "```\n",
        "*****\n",
        "****\n",
        "***\n",
        "**\n",
        "*\n",
        "```\n"
      ],
      "metadata": {
        "id": "TB8SHqj8KTNC"
      }
    },
    {
      "cell_type": "code",
      "source": [
        "n = 5\n",
        "while n >= 1:\n",
        "    print('*' * n)\n",
        "    n -= 1"
      ],
      "metadata": {
        "colab": {
          "base_uri": "https://localhost:8080/"
        },
        "id": "tYHxnujSLYp_",
        "outputId": "d000602e-b8d0-4550-9012-0dae472c992d"
      },
      "execution_count": null,
      "outputs": [
        {
          "output_type": "stream",
          "name": "stdout",
          "text": [
            "*****\n",
            "****\n",
            "***\n",
            "**\n",
            "*\n"
          ]
        }
      ]
    },
    {
      "cell_type": "markdown",
      "source": [
        "### 3. 아래와 같이 출력하는 코드를 작성하세요.\n",
        "\n",
        "```\n",
        "*\n",
        "**\n",
        "***\n",
        "****\n",
        "*****\n",
        "****\n",
        "***\n",
        "**\n",
        "*\n",
        "```\n"
      ],
      "metadata": {
        "id": "AMo_SqftKWXc"
      }
    },
    {
      "cell_type": "code",
      "source": [
        "n = 1\n",
        "while n <= 5:\n",
        "    print('*' * n)\n",
        "    n += 1\n",
        "while n >= 3:\n",
        "    print('*' * (n-2))\n",
        "    n -= 1"
      ],
      "metadata": {
        "colab": {
          "base_uri": "https://localhost:8080/"
        },
        "id": "QHnozpDBLjsl",
        "outputId": "bcbaede8-fd80-4852-e75e-7c74c17b1abf"
      },
      "execution_count": null,
      "outputs": [
        {
          "output_type": "stream",
          "name": "stdout",
          "text": [
            "*\n",
            "**\n",
            "***\n",
            "****\n",
            "*****\n",
            "****\n",
            "***\n",
            "**\n",
            "*\n"
          ]
        }
      ]
    },
    {
      "cell_type": "code",
      "source": [
        "n = 1\n",
        "while n < 5:\n",
        "    print('*' * n)\n",
        "    n += 1\n",
        "while n >= 1:\n",
        "    print('*' * n)\n",
        "    n -= 1"
      ],
      "metadata": {
        "colab": {
          "base_uri": "https://localhost:8080/"
        },
        "id": "8d75bB3HpgZf",
        "outputId": "61925775-df98-4de5-edc4-e0c9605c4d1d"
      },
      "execution_count": null,
      "outputs": [
        {
          "output_type": "stream",
          "name": "stdout",
          "text": [
            "*\n",
            "**\n",
            "***\n",
            "****\n",
            "*****\n",
            "****\n",
            "***\n",
            "**\n",
            "*\n"
          ]
        }
      ]
    },
    {
      "cell_type": "code",
      "source": [
        "n = 1\n",
        "while n < 10:\n",
        "    if n <= 5:          # n의 값이 1, 2, 3, 4, 5인 경우\n",
        "        print('*' * n)\n",
        "    else:               # n의 값이 6, 7, 8, 9인 경우\n",
        "        print('*' * (10 - n))\n",
        "    n += 1"
      ],
      "metadata": {
        "colab": {
          "base_uri": "https://localhost:8080/"
        },
        "id": "nOg3F4Y2qTOX",
        "outputId": "0d8475a5-c019-4f5f-93ae-c1a8471b9fc0"
      },
      "execution_count": null,
      "outputs": [
        {
          "output_type": "stream",
          "name": "stdout",
          "text": [
            "*\n",
            "**\n",
            "***\n",
            "****\n",
            "*****\n",
            "****\n",
            "***\n",
            "**\n",
            "*\n"
          ]
        }
      ]
    },
    {
      "cell_type": "code",
      "source": [
        "n = -4\n",
        "while n < 5:\n",
        "    print('*' * (5 - abs(n)))\n",
        "    n += 1"
      ],
      "metadata": {
        "colab": {
          "base_uri": "https://localhost:8080/"
        },
        "id": "6EeayRznt9EI",
        "outputId": "fc8aed2b-db9f-466c-ccec-3deb84f8fb8d"
      },
      "execution_count": null,
      "outputs": [
        {
          "output_type": "stream",
          "name": "stdout",
          "text": [
            "*\n",
            "**\n",
            "***\n",
            "****\n",
            "*****\n",
            "****\n",
            "***\n",
            "**\n",
            "*\n"
          ]
        }
      ]
    },
    {
      "cell_type": "markdown",
      "source": [
        "### 4. 아래와 같이 구구단을 출력하는 코드를 작성하세요.\n",
        "\n",
        "```\n",
        "2 x 1 = 2\n",
        "2 x 2 = 4\n",
        "--------------------\n",
        "3 x 1 = 3\n",
        "3 x 2 = 6\n",
        "3 x 3 = 9\n",
        "--------------------\n",
        "4 x 1 = 4\n",
        "4 x 2 = 8\n",
        "4 x 3 = 12\n",
        "4 x 4 = 16\n",
        "--------------------\n",
        "...\n",
        "--------------------\n",
        "9 x 1 = 9\n",
        "...\n",
        "9 x 9 = 81\n",
        "--------------------\n",
        "```\n"
      ],
      "metadata": {
        "id": "3ZQpM410KaJQ"
      }
    },
    {
      "cell_type": "code",
      "source": [
        "dan = 2\n",
        "while dan < 10:\n",
        "    n = 1\n",
        "    while n <= dan:\n",
        "        print(f'{dan} x {n} = {dan*n}')\n",
        "        n += 1\n",
        "    print('--------------------')\n",
        "    dan += 1"
      ],
      "metadata": {
        "id": "WNIQG3SdNCHF"
      },
      "execution_count": null,
      "outputs": []
    },
    {
      "cell_type": "code",
      "source": [
        "dan = 2\n",
        "while dan < 10:\n",
        "    n = 1\n",
        "    while n <= 10:\n",
        "        print(f'{dan} x {n} = {dan*n}')\n",
        "        if dan == n:\n",
        "            break\n",
        "        n += 1\n",
        "    print('--------------------')\n",
        "    dan += 1"
      ],
      "metadata": {
        "id": "tGfVvLAsx2NC"
      },
      "execution_count": null,
      "outputs": []
    },
    {
      "cell_type": "markdown",
      "source": [
        "## 무한 반복문과 break"
      ],
      "metadata": {
        "id": "9CDDm1uA2Qb5"
      }
    },
    {
      "cell_type": "code",
      "source": [
        "while True: # infinite loop(무한 반복문)\n",
        "    name = input('이름을 입력하세요. 끝내려면 Q를 입력하세요.')\n",
        "    if name == 'Q':\n",
        "        print('Good Bye~~')\n",
        "        break\n",
        "    print(f'안녕하세요, {name}님!')"
      ],
      "metadata": {
        "colab": {
          "base_uri": "https://localhost:8080/"
        },
        "id": "mJwpkSYz2Yur",
        "outputId": "e43fa472-2291-417e-ed6a-0b25d954ee4e"
      },
      "execution_count": null,
      "outputs": [
        {
          "output_type": "stream",
          "name": "stdout",
          "text": [
            "이름을 입력하세요. 끝내려면 Q를 입력하세요.조미혜\n",
            "안녕하세요, 조미혜님!\n",
            "이름을 입력하세요. 끝내려면 Q를 입력하세요.조경진\n",
            "안녕하세요, 조경진님!\n",
            "이름을 입력하세요. 끝내려면 Q를 입력하세요.Scott\n",
            "안녕하세요, Scott님!\n",
            "이름을 입력하세요. 끝내려면 Q를 입력하세요.Q\n",
            "Good Bye~~\n"
          ]
        }
      ]
    }
  ]
}