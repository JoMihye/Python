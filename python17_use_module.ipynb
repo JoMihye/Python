{
  "nbformat": 4,
  "nbformat_minor": 0,
  "metadata": {
    "colab": {
      "name": "python17_use_module.ipynb",
      "provenance": [],
      "collapsed_sections": [],
      "mount_file_id": "11tXTyctlfslBxs1bTf6p3Vzxu2WxYrT-",
      "authorship_tag": "ABX9TyOHZkCWp4gSKku53An8Vjnr",
      "include_colab_link": true
    },
    "kernelspec": {
      "name": "python3",
      "display_name": "Python 3"
    },
    "language_info": {
      "name": "python"
    }
  },
  "cells": [
    {
      "cell_type": "markdown",
      "metadata": {
        "id": "view-in-github",
        "colab_type": "text"
      },
      "source": [
        "<a href=\"https://colab.research.google.com/github/JoMihye/Python/blob/main/python17_use_module.ipynb\" target=\"_parent\"><img src=\"https://colab.research.google.com/assets/colab-badge.svg\" alt=\"Open In Colab\"/></a>"
      ]
    },
    {
      "cell_type": "markdown",
      "source": [
        "# Google Drive 연결(mount, 마운트)"
      ],
      "metadata": {
        "id": "9vZRU-IIaMHf"
      }
    },
    {
      "cell_type": "markdown",
      "source": [
        "# Python 실행 환경 패스(path) 설정"
      ],
      "metadata": {
        "id": "FvSXdBr3aSdS"
      }
    },
    {
      "cell_type": "code",
      "execution_count": null,
      "metadata": {
        "id": "SCe4eeQtY8rj"
      },
      "outputs": [],
      "source": [
        "import sys"
      ]
    },
    {
      "cell_type": "code",
      "source": [
        "# my_module.py 파일이 저장된 폴더 경로를 python이 인식할 수 있도록 path 설정.\n",
        "sys.path.append('/content/drive/MyDrive/Colab Notebooks/lab_python')"
      ],
      "metadata": {
        "id": "PUD5QUX2apab"
      },
      "execution_count": null,
      "outputs": []
    },
    {
      "cell_type": "markdown",
      "source": [
        "# module import"
      ],
      "metadata": {
        "id": "kmx8mvpZbhzO"
      }
    },
    {
      "cell_type": "markdown",
      "source": [
        "모듈(module): \n",
        "\n",
        "*  파이썬 코드로 작성된 파일(*.py)\n",
        "*  함수 정의, 클래스 정의, 상수 값."
      ],
      "metadata": {
        "id": "lb6S8fpNbwC6"
      }
    },
    {
      "cell_type": "code",
      "source": [
        "import my_module"
      ],
      "metadata": {
        "id": "wSanWtVpbER6"
      },
      "execution_count": null,
      "outputs": []
    },
    {
      "cell_type": "code",
      "source": [
        "my_module.add(1, 2)  # my_module.py 모듈에 작성된 add() 함수 호출"
      ],
      "metadata": {
        "colab": {
          "base_uri": "https://localhost:8080/"
        },
        "id": "wo0Fu_Y1buxk",
        "outputId": "0241fab4-acdd-44ef-8087-a97db9dcb8a0"
      },
      "execution_count": null,
      "outputs": [
        {
          "output_type": "execute_result",
          "data": {
            "text/plain": [
              "3"
            ]
          },
          "metadata": {},
          "execution_count": 4
        }
      ]
    },
    {
      "cell_type": "markdown",
      "source": [
        "## 모듈의 특정 함수/클래스 이름을 import"
      ],
      "metadata": {
        "id": "S-3fnw6GdBzi"
      }
    },
    {
      "cell_type": "code",
      "source": [
        "from my_module import subtract  # my_module 파일에서 함수 subtract만 import"
      ],
      "metadata": {
        "id": "fTFPkhy3dI-U"
      },
      "execution_count": null,
      "outputs": []
    },
    {
      "cell_type": "code",
      "source": [
        "subtract(1, 2)"
      ],
      "metadata": {
        "colab": {
          "base_uri": "https://localhost:8080/"
        },
        "id": "-AZDnda-dYc8",
        "outputId": "5845af4d-82e0-416d-b686-8a1c637c6ccf"
      },
      "execution_count": null,
      "outputs": [
        {
          "output_type": "execute_result",
          "data": {
            "text/plain": [
              "-1"
            ]
          },
          "metadata": {},
          "execution_count": 6
        }
      ]
    },
    {
      "cell_type": "code",
      "source": [
        "t = my_module.Test('오쌤')\n",
        "t.hello()"
      ],
      "metadata": {
        "colab": {
          "base_uri": "https://localhost:8080/"
        },
        "id": "vtzc96IheBWv",
        "outputId": "15b0ffcb-7805-4890-a44c-0e44ede06143"
      },
      "execution_count": null,
      "outputs": [
        {
          "output_type": "stream",
          "name": "stdout",
          "text": [
            "안녕하세요, 오쌤!\n"
          ]
        }
      ]
    }
  ]
}