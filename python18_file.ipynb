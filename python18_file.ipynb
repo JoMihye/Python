{
  "nbformat": 4,
  "nbformat_minor": 0,
  "metadata": {
    "colab": {
      "name": "python18_file.ipynb",
      "provenance": [],
      "mount_file_id": "1Rm4maugsdrskn6qwAksYi9oj7tXQjqpA",
      "authorship_tag": "ABX9TyOFHXdPnT88fDDFiqYbUMqK",
      "include_colab_link": true
    },
    "kernelspec": {
      "name": "python3",
      "display_name": "Python 3"
    },
    "language_info": {
      "name": "python"
    }
  },
  "cells": [
    {
      "cell_type": "markdown",
      "metadata": {
        "id": "view-in-github",
        "colab_type": "text"
      },
      "source": [
        "<a href=\"https://colab.research.google.com/github/JoMihye/Python/blob/main/python18_file.ipynb\" target=\"_parent\"><img src=\"https://colab.research.google.com/assets/colab-badge.svg\" alt=\"Open In Colab\"/></a>"
      ]
    },
    {
      "cell_type": "markdown",
      "source": [
        "# 파일 쓰기(file write)"
      ],
      "metadata": {
        "id": "hPucIYCgAw9W"
      }
    },
    {
      "cell_type": "markdown",
      "source": [
        "1. 파일 열기(open)\n",
        "1. 파일 쓰기(write)\n",
        "1. 파일 닫기(close)\n",
        "\n",
        "```\n",
        "open(file, mode, ...)\n",
        "```\n",
        "*  `file`: 폴더(디렉토리) 이름을 포함한 전체 파일 이름(경로).\n",
        "    *  폴더 이름 없이 파일 이름만 사용한 경우에는 현재 작업 디렉토리의 파일을 의미함.\n",
        "*  `mode`: \n",
        "    *  r(read): 읽기. 기본값.\n",
        "    *  w(write): 쓰기. 기존에 작성된 내용이 모두 삭제되고 처음부터 다시 쓰기 시작.\n",
        "    *  a(append): 추가. 기존에 작성된 내용 뒤에 이어서 쓰기.\n",
        "    *  t(text): 텍스트. 기본값.\n",
        "    *  b(binary): 이진 데이터(이미지, 동영상, ...)."
      ],
      "metadata": {
        "id": "2ksIASL2A59x"
      }
    },
    {
      "cell_type": "code",
      "execution_count": null,
      "metadata": {
        "id": "gsgS7qclAtZr"
      },
      "outputs": [],
      "source": [
        "# 1. 파일을 열고 그 결과를 변수에 저장\n",
        "f = open(file='hello.txt', mode='wt')\n",
        "\n",
        "# 2. 열린 파일에 파일 내용을 작성.\n",
        "f.write('안녕하세요.\\n')  # '\\n': new line(줄바꿈)\n",
        "f.write('Hello\\n')\n",
        "f.write('Python\\n')\n",
        "\n",
        "# 3. 사용중이던 파일을 닫음.\n",
        "f.close()"
      ]
    },
    {
      "cell_type": "code",
      "source": [
        "# with-as 구문의 블록 안에서 파일 내용 읽기/쓰기만 작성하면,\n",
        "# 파일 닫기(close 메서드)는 자동으로 실행됨.\n",
        "# with open(...) as 변수:\n",
        "with open(file='hello.txt', mode='at') as f:\n",
        "    f.write('파일 append 테스트\\n')\n",
        "    f.write('123 456 789 0\\n')"
      ],
      "metadata": {
        "id": "ch7CCOELMZjS"
      },
      "execution_count": null,
      "outputs": []
    },
    {
      "cell_type": "markdown",
      "source": [
        "파일을 open할 때 모드(mode)를 'w' 또는 'a'로 하는 경우에,\n",
        "*  파일이 존재하지 않으면 새로운 파일을 만듦.\n",
        "*  파일이 존재하면 있는 파일을 열어줌."
      ],
      "metadata": {
        "id": "Q6LAwVZ1OoVl"
      }
    },
    {
      "cell_type": "markdown",
      "source": [
        "# 파일 읽기"
      ],
      "metadata": {
        "id": "_Q5Ky3NkO8wx"
      }
    },
    {
      "cell_type": "markdown",
      "source": [
        "1. 파일 열기(open)\n",
        "1. 파일 내용 읽기(read)\n",
        "1. 파일 닫기(close)\n",
        "\n",
        "`with-as` 구문을 사용하면 close() 메서드를 호출하지 않아도 자동으로 실행됨."
      ],
      "metadata": {
        "id": "YiXFOznrPNzY"
      }
    },
    {
      "cell_type": "code",
      "source": [
        "with open(file='hello.txt', mode='rt') as f:\n",
        "    line = f.readline()\n",
        "    print(line)\n",
        "    line = f.readline()\n",
        "    print(line)"
      ],
      "metadata": {
        "colab": {
          "base_uri": "https://localhost:8080/"
        },
        "id": "0JEZOc3GPyWl",
        "outputId": "ce64cfbe-7ddf-42c9-91db-446763f1aa23"
      },
      "execution_count": null,
      "outputs": [
        {
          "output_type": "stream",
          "name": "stdout",
          "text": [
            "안녕하세요.\n",
            "\n"
          ]
        }
      ]
    },
    {
      "cell_type": "markdown",
      "source": [
        "파이썬의 파일 스트림(stream)은 반복 가능한 타입(iterable)임. 파이썬의 파일 스트림은 `for-in` 구문에서 사용 가능."
      ],
      "metadata": {
        "id": "I142O_yORoMo"
      }
    },
    {
      "cell_type": "code",
      "source": [
        "with open('hello.txt', mode='rt') as f:\n",
        "    for line in f:\n",
        "        # 파일 스트림을 for-in 구문으로 사용하면 readline() 메서드가 자동으로 호출됨.\n",
        "        print(line.strip())\n",
        "        # str.strip(): 문자열의 처음과 끝에 있는 공백 문자들을 제거."
      ],
      "metadata": {
        "colab": {
          "base_uri": "https://localhost:8080/"
        },
        "id": "Y-HH74DLRx6Q",
        "outputId": "212f4c07-3141-4cae-f6d1-a65bcd69831f"
      },
      "execution_count": null,
      "outputs": [
        {
          "output_type": "stream",
          "name": "stdout",
          "text": [
            "안녕하세요.\n",
            "Hello\n",
            "Python\n",
            "파일 append 테스트\n",
            "123 456 789 0\n"
          ]
        }
      ]
    },
    {
      "cell_type": "markdown",
      "source": [
        "# Google Drive에서 파일 쓰기/읽기"
      ],
      "metadata": {
        "id": "zsqCP1GLX4Ai"
      }
    },
    {
      "cell_type": "code",
      "source": [
        "# 파일을 쓰고 읽기 위한 Google Drive 폴더(디렉토리) 경로\n",
        "dir_path = '/content/drive/MyDrive/Colab Notebooks/lab_python'\n",
        "\n",
        "# 작성할 파일 이름\n",
        "file_name = 'emails.txt'"
      ],
      "metadata": {
        "id": "lcHpAOxpYSP5"
      },
      "execution_count": null,
      "outputs": []
    },
    {
      "cell_type": "code",
      "source": [
        "import os  # os.path.join() 함수를 사용하기 위해서"
      ],
      "metadata": {
        "id": "pD2slPViZaNV"
      },
      "execution_count": null,
      "outputs": []
    },
    {
      "cell_type": "code",
      "source": [
        "# os.path.join(): 폴더의 이름과 파일의 이름을 해당 OS의 파일 구분자(/ 또는 \\)로 이어주는 함수.\n",
        "file_path = os.path.join(dir_path, file_name)\n",
        "print(file_path)"
      ],
      "metadata": {
        "colab": {
          "base_uri": "https://localhost:8080/"
        },
        "id": "R2bcIAzuZeC3",
        "outputId": "f7bafb22-6501-43c5-83bb-4bd4ce24ae32"
      },
      "execution_count": null,
      "outputs": [
        {
          "output_type": "stream",
          "name": "stdout",
          "text": [
            "/content/drive/MyDrive/Colab Notebooks/lab_python/emails.txt\n"
          ]
        }
      ]
    },
    {
      "cell_type": "code",
      "source": [
        "with open(file_path, 'wt') as f:\n",
        "    f.write('hgd@naver.com\\n')\n",
        "    f.write('gildong@kakao.com\\n')\n",
        "    f.write('gildong.hong@gmail.com\\n')\n",
        "    f.write('hgd1004@outlook.com\\n')"
      ],
      "metadata": {
        "id": "aVac2yzAZz8h"
      },
      "execution_count": null,
      "outputs": []
    },
    {
      "cell_type": "code",
      "source": [
        "# 작성된 파일을 열어서 한 줄씩 출력\n",
        "with open(file_path, 'rt') as f:\n",
        "    for line in f:  # 파일 f에서 한 줄씩 읽으면서 파일 끝(EOF)까지 반복\n",
        "        print(line)"
      ],
      "metadata": {
        "colab": {
          "base_uri": "https://localhost:8080/"
        },
        "id": "eILayOJFbZ9f",
        "outputId": "5ca38b18-da79-46e3-cd44-f7f5cf9706fe"
      },
      "execution_count": null,
      "outputs": [
        {
          "output_type": "stream",
          "name": "stdout",
          "text": [
            "hgd@naver.com\n",
            "\n",
            "gildong@kakao.com\n",
            "\n",
            "gildong.hong@gmail.com\n",
            "\n",
            "hgd1004@outlook.com\n",
            "\n"
          ]
        }
      ]
    },
    {
      "cell_type": "code",
      "source": [
        "# emails.txt 파일을 읽어서, 이메일 도메인 주소들만 저장하는 리스트를 만들고 출력.\n",
        "with open(file_path, 'rt') as f:\n",
        "    domains = []  # 이메일 도메인들을 저장할 빈 리스트\n",
        "    for line in f:  # 파일에서 한 줄씩 읽으면서\n",
        "        idx = line.find('@')  # 파일에서 읽은 줄에서 '@'의 위치(인덱스)를 찾음.\n",
        "        domains.append(line[(idx+1): -1])  # '@' 다음 위치부터 맨 끝의 '\\n' 제외하고 slicing.\n",
        "\n",
        "print(domains)"
      ],
      "metadata": {
        "colab": {
          "base_uri": "https://localhost:8080/"
        },
        "id": "soQ5MOLlcSc4",
        "outputId": "91d5eb46-fb16-4310-a7cc-287e91bbf96f"
      },
      "execution_count": null,
      "outputs": [
        {
          "output_type": "stream",
          "name": "stdout",
          "text": [
            "['naver.com', 'kakao.com', 'gmail.com', 'outlook.com']\n"
          ]
        }
      ]
    },
    {
      "cell_type": "code",
      "source": [
        "'hgd1004@outlook.com\\n'.strip().split('@')"
      ],
      "metadata": {
        "id": "IJMyIGIOyTUS"
      },
      "execution_count": null,
      "outputs": []
    },
    {
      "cell_type": "markdown",
      "source": [
        "`pickle` 모듈:\n",
        "\n",
        "*  Python 객체(object) 타입을 이진 데이터(binary data) 형식으로 파일에 쓰거나 읽기 위해 사용하는 타입.\n",
        "*  Python의 dict 타입을 파일에 쓰고, 파일에서 이진 데이터를 읽어서 dict로 변환할 수 있음.\n",
        "*  `pickle.dump(object, file)`: 객체(object)를 파일에 write.\n",
        "*  `pickle.load(file)`: 파일에서 이진 데이터를 읽어서 객체(object)를 리턴."
      ],
      "metadata": {
        "id": "x-c2HAz-0QXR"
      }
    },
    {
      "cell_type": "code",
      "source": [
        "import pickle"
      ],
      "metadata": {
        "id": "HUt7cSSi1Z6v"
      },
      "execution_count": null,
      "outputs": []
    },
    {
      "cell_type": "code",
      "source": [
        "# 파일에 write를 할 dict 객체\n",
        "contact = {\n",
        "    'name': '오쌤',\n",
        "    'conmpany': '아이티윌',\n",
        "    'phone': ['010-0000-0000', '02-1234-5678'],\n",
        "    'email': {'company': 'jake@itwill.co.kr', 'personal': 'jake@gmail.com'}\n",
        "}\n",
        "print(contact)"
      ],
      "metadata": {
        "colab": {
          "base_uri": "https://localhost:8080/"
        },
        "id": "tZrAYpMy1bXI",
        "outputId": "0eb35dd0-776f-46fa-e259-d71ea58ca4c4"
      },
      "execution_count": null,
      "outputs": [
        {
          "output_type": "stream",
          "name": "stdout",
          "text": [
            "{'name': '오쌤', 'conmpany': '아이티윌', 'phone': ['010-0000-0000', '02-1234-5678'], 'email': {'company': 'jake@itwill.co.kr', 'personal': 'jake@gmail.com'}}\n"
          ]
        }
      ]
    },
    {
      "cell_type": "code",
      "source": [
        "binary_file = 'contact.pkl'\n",
        "# 이진 데이터 형식을 파일에 쓸 때에는, open() 함수에서 mode='wb'를 반드시 전달해야 함.\n",
        "with open(binary_file, 'wb') as f:\n",
        "    pickle.dump(contact, f)"
      ],
      "metadata": {
        "id": "75YaPDE92Y2Z"
      },
      "execution_count": null,
      "outputs": []
    },
    {
      "cell_type": "code",
      "source": [
        "# 이진 데이터 형식으로 작성된 파일에서 내용을 읽을 때는 mode='rb'를 반드시 명시.\n",
        "with open(binary_file, 'rb') as f:\n",
        "    obj = pickle.load(f)\n",
        "    print(obj)"
      ],
      "metadata": {
        "colab": {
          "base_uri": "https://localhost:8080/"
        },
        "id": "M1zLEnui3eYh",
        "outputId": "26586d41-1155-4e1c-8a35-f23169410e42"
      },
      "execution_count": null,
      "outputs": [
        {
          "output_type": "stream",
          "name": "stdout",
          "text": [
            "{'name': '오쌤', 'conmpany': '아이티윌', 'phone': ['010-0000-0000', '02-1234-5678'], 'email': {'company': 'jake@itwill.co.kr', 'personal': 'jake@gmail.com'}}\n"
          ]
        }
      ]
    }
  ]
}