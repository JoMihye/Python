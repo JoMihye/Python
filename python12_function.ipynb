{
  "nbformat": 4,
  "nbformat_minor": 0,
  "metadata": {
    "colab": {
      "name": "python12_function.ipynb",
      "provenance": [],
      "collapsed_sections": [],
      "authorship_tag": "ABX9TyMGAPOuKXdEPdA4t9mjNa1x",
      "include_colab_link": true
    },
    "kernelspec": {
      "name": "python3",
      "display_name": "Python 3"
    },
    "language_info": {
      "name": "python"
    }
  },
  "cells": [
    {
      "cell_type": "markdown",
      "metadata": {
        "id": "view-in-github",
        "colab_type": "text"
      },
      "source": [
        "<a href=\"https://colab.research.google.com/github/JoMihye/Python/blob/main/python12_function.ipynb\" target=\"_parent\"><img src=\"https://colab.research.google.com/assets/colab-badge.svg\" alt=\"Open In Colab\"/></a>"
      ]
    },
    {
      "cell_type": "markdown",
      "source": [
        "# 함수(Function)"
      ],
      "metadata": {
        "id": "jw8kUn94KDta"
      }
    },
    {
      "cell_type": "markdown",
      "source": [
        "*  함수(**function**): 기능을 수행하는 코드 블록.\n",
        "*  인수(**argument**): 함수가 기능을 수행하기 위해서 값이 필요한 경우, 함수를 호출할 때 함수에게 전달하는 값(들).\n",
        "*  매개변수(**parameter**): 함수를 호출할 때 전달하는 값들(argument) 저장하기 위해서 함수를 정의할 때 선언하는 변수.\n",
        "*  반환 값(**return value**): 함수가 기능을 수행한 후에 그 결과로 함수를 호출한 곳으로 반환해 주는 값.\n",
        "    *  반환 값이 있는 함수도 있고, 반환값이 없는 함수도 있음."
      ],
      "metadata": {
        "id": "7YNSJBOwKHD6"
      }
    },
    {
      "cell_type": "code",
      "execution_count": null,
      "metadata": {
        "colab": {
          "base_uri": "https://localhost:8080/"
        },
        "id": "GE08MAqyJ-ZK",
        "outputId": "0526f32d-a413-4b3a-c1e5-2bb4655ae40f"
      },
      "outputs": [
        {
          "output_type": "stream",
          "name": "stdout",
          "text": [
            "5\n"
          ]
        }
      ],
      "source": [
        "result = len([1, 2, 3, 4, 5])\n",
        "print(result)\n",
        "\n",
        "# 함수: len\n",
        "# argument: [1, 2, 3, 4, 5] -> parameter에 저장되는 값.\n",
        "# 함수 호출: len([1, 2, 3, 4, 5])\n",
        "# 반환값: 5"
      ]
    },
    {
      "cell_type": "code",
      "source": [
        "result = print('안녕하세요.')\n",
        "print(result)\n",
        "\n",
        "# 함수: print\n",
        "# argument: '안녕하세요.'\n",
        "# 함수 호출: print('안녕하세요.')\n",
        "# 반환값: None - print 함수는 기능 수행 중에 아무런 값도 반환하지 않음."
      ],
      "metadata": {
        "colab": {
          "base_uri": "https://localhost:8080/"
        },
        "id": "wzqBhYwfOLPm",
        "outputId": "cea08972-46e2-453f-c16c-5a904783fd21"
      },
      "execution_count": null,
      "outputs": [
        {
          "output_type": "stream",
          "name": "stdout",
          "text": [
            "안녕하세요.\n",
            "None\n"
          ]
        }
      ]
    },
    {
      "cell_type": "markdown",
      "source": [
        "# 함수 정의 방법"
      ],
      "metadata": {
        "id": "W15iH8MQPToA"
      }
    },
    {
      "cell_type": "markdown",
      "source": [
        "\n",
        "```\n",
        "def function_name([param, ...]):\n",
        "    [\"\"\"문서화 주석(documentation): 함수에 대한 설명\"\"\"]\n",
        "    함수가 수행하는 기능을 코드 블록 작성\n",
        "    [return 반환값]\n",
        "```\n"
      ],
      "metadata": {
        "id": "FTUToPSBPZJg"
      }
    },
    {
      "cell_type": "code",
      "source": [
        "def subtract(x, y):\n",
        "    \"\"\"숫자 2개(x, y)를 전달받아서, x-y 결과를 반환.\"\"\"\n",
        "    return x - y"
      ],
      "metadata": {
        "id": "gTQQxkUIQKdQ"
      },
      "execution_count": null,
      "outputs": []
    },
    {
      "cell_type": "code",
      "source": [
        "result = subtract(1, 2)\n",
        "print(result)"
      ],
      "metadata": {
        "colab": {
          "base_uri": "https://localhost:8080/"
        },
        "id": "lsmi_hfERZcQ",
        "outputId": "95008d3a-54ec-4aaf-fc03-fbf27bf456d3"
      },
      "execution_count": null,
      "outputs": [
        {
          "output_type": "stream",
          "name": "stdout",
          "text": [
            "-1\n"
          ]
        }
      ]
    },
    {
      "cell_type": "code",
      "source": [
        "result = subtract(2,1)\n",
        "print(result)"
      ],
      "metadata": {
        "colab": {
          "base_uri": "https://localhost:8080/"
        },
        "id": "yqzPzyYPSlRa",
        "outputId": "d3027c9a-e303-4590-93c9-79361a5564b6"
      },
      "execution_count": null,
      "outputs": [
        {
          "output_type": "stream",
          "name": "stdout",
          "text": [
            "1\n"
          ]
        }
      ]
    },
    {
      "cell_type": "code",
      "source": [
        "# del\n",
        "#> 변수나 함수 삭제 (사용자 정의 함수 한정)"
      ],
      "metadata": {
        "id": "_enu7w6xUAlx"
      },
      "execution_count": null,
      "outputs": []
    },
    {
      "cell_type": "code",
      "source": [
        "def add(x, y):\n",
        "    \"\"\"두 숫자 x + y의 결과를 반환.\"\"\"\n",
        "    return x + y"
      ],
      "metadata": {
        "id": "6lKrIjAzVOAr"
      },
      "execution_count": null,
      "outputs": []
    },
    {
      "cell_type": "code",
      "source": [
        "add(1, 3)"
      ],
      "metadata": {
        "colab": {
          "base_uri": "https://localhost:8080/"
        },
        "id": "4mJ877UwXr8l",
        "outputId": "2be215f2-2033-44c7-9bdb-1d796c3993e4"
      },
      "execution_count": null,
      "outputs": [
        {
          "output_type": "execute_result",
          "data": {
            "text/plain": [
              "4"
            ]
          },
          "metadata": {},
          "execution_count": 8
        }
      ]
    },
    {
      "cell_type": "code",
      "source": [
        "# 2개 이상의 값을 반환하는 함수\n",
        "def plus_and_minus(x, y):\n",
        "    \"\"\"2개 숫자의 x + y 값과 x - y 값을 반환.\"\"\"\n",
        "    return x + y, x - y"
      ],
      "metadata": {
        "id": "50PRTozAZXns"
      },
      "execution_count": null,
      "outputs": []
    },
    {
      "cell_type": "code",
      "source": [
        "result = plus_and_minus(1, 2)\n",
        "print(result)  # 리턴되는 값은 2개 원소를 갖는 tuple"
      ],
      "metadata": {
        "colab": {
          "base_uri": "https://localhost:8080/"
        },
        "id": "5DdD6uf7aHLN",
        "outputId": "93bdea2f-fc9d-4d97-cdd7-19c6c60a7082"
      },
      "execution_count": null,
      "outputs": [
        {
          "output_type": "stream",
          "name": "stdout",
          "text": [
            "(3, -1)\n"
          ]
        }
      ]
    },
    {
      "cell_type": "code",
      "source": [
        "a, b = plus_and_minus(1, 2)  # tuple decomposition(분해): a, b = (3, -1)\n",
        "print(a, b)"
      ],
      "metadata": {
        "colab": {
          "base_uri": "https://localhost:8080/"
        },
        "id": "Xg2tHOoYbCwO",
        "outputId": "28aa2ca9-112d-4563-a4c0-b8f933a34053"
      },
      "execution_count": null,
      "outputs": [
        {
          "output_type": "stream",
          "name": "stdout",
          "text": [
            "3 -1\n"
          ]
        }
      ]
    },
    {
      "cell_type": "markdown",
      "source": [
        "## 값을 반환하지 않는 함수"
      ],
      "metadata": {
        "id": "kR2kUXWSbrBf"
      }
    },
    {
      "cell_type": "code",
      "source": [
        "def repeat_message(message, n):\n",
        "    \"\"\"message를 n번 반복해서 출력.\n",
        "    \n",
        "    @param message: str.\n",
        "    @param n: int. 0 또는 양의 정수.\n",
        "    @return: None\n",
        "    \"\"\"\n",
        "\n",
        "    for _ in range(n):\n",
        "        print(message)\n",
        "\n",
        "    return None\n",
        "    # 반환값이 없는 함수인 경우, 보통 return None 문장은 생략함."
      ],
      "metadata": {
        "id": "33Nw9YkKbs6d"
      },
      "execution_count": null,
      "outputs": []
    },
    {
      "cell_type": "code",
      "source": [
        "repeat_message('안녕하세요', 3)"
      ],
      "metadata": {
        "colab": {
          "base_uri": "https://localhost:8080/"
        },
        "id": "1-kdXAcNdZbp",
        "outputId": "60e3c87a-9458-4dbc-e9f7-9d66828ca661"
      },
      "execution_count": null,
      "outputs": [
        {
          "output_type": "stream",
          "name": "stdout",
          "text": [
            "안녕하세요\n",
            "안녕하세요\n",
            "안녕하세요\n"
          ]
        }
      ]
    },
    {
      "cell_type": "code",
      "source": [
        "repeat_message('Hello, Python!', 5)\n",
        "print('함수 호출 끝')"
      ],
      "metadata": {
        "colab": {
          "base_uri": "https://localhost:8080/"
        },
        "id": "4jr5H8vzdu5k",
        "outputId": "1c125413-bfc6-44d4-dc3a-3aaf59478d86"
      },
      "execution_count": null,
      "outputs": [
        {
          "output_type": "stream",
          "name": "stdout",
          "text": [
            "Hello, Python!\n",
            "Hello, Python!\n",
            "Hello, Python!\n",
            "Hello, Python!\n",
            "Hello, Python!\n",
            "함수 호출 끝\n"
          ]
        }
      ]
    },
    {
      "cell_type": "markdown",
      "source": [
        "## 함수 정의 연습"
      ],
      "metadata": {
        "id": "LMv3pV2DhNq3"
      }
    },
    {
      "cell_type": "code",
      "source": [
        "import random"
      ],
      "metadata": {
        "id": "9GaKmiwchSOm"
      },
      "execution_count": null,
      "outputs": []
    },
    {
      "cell_type": "markdown",
      "source": [
        "*  함수 이름: make_list\n",
        "*  기능: [start, end) 범위의 정수 난수 n개를 갖는 리스트를 반환."
      ],
      "metadata": {
        "id": "DSabl-w0g44r"
      }
    },
    {
      "cell_type": "code",
      "source": [
        "def make_list(start, end, n):\n",
        "    numbers = []  # n개의 난수를 저장할 빈 리스트\n",
        "    for _ in range(n):  # n번 반복하면서\n",
        "        # [start, end) 범위의 정수 난수를 리스트에 추가\n",
        "        numbers.append(random.randrange(start, end))\n",
        "\n",
        "    return numbers"
      ],
      "metadata": {
        "id": "7REabjBahMz-"
      },
      "execution_count": null,
      "outputs": []
    },
    {
      "cell_type": "code",
      "source": [
        "make_list(0, 100, 10)"
      ],
      "metadata": {
        "colab": {
          "base_uri": "https://localhost:8080/"
        },
        "id": "1f92qAtQh_Ei",
        "outputId": "6ac0d11f-27dc-4c9a-f9ae-aa86c138f901"
      },
      "execution_count": null,
      "outputs": [
        {
          "output_type": "execute_result",
          "data": {
            "text/plain": [
              "[50, 33, 81, 72, 78, 22, 51, 20, 73, 91]"
            ]
          },
          "metadata": {},
          "execution_count": 20
        }
      ]
    },
    {
      "cell_type": "code",
      "source": [
        "make_list(0, 10, 5)"
      ],
      "metadata": {
        "colab": {
          "base_uri": "https://localhost:8080/"
        },
        "id": "0V44OrqgiNR6",
        "outputId": "1c3fe4a5-d0ce-4063-83ea-19ace43e3198"
      },
      "execution_count": null,
      "outputs": [
        {
          "output_type": "execute_result",
          "data": {
            "text/plain": [
              "[5, 0, 3, 0, 1]"
            ]
          },
          "metadata": {},
          "execution_count": 21
        }
      ]
    },
    {
      "cell_type": "markdown",
      "source": [
        "*  식(expression): 값(literal), 연산의 결과, 함수 호출 결과\n",
        "    * 1, 'hello'\n",
        "    * 1 + 2, 1 > 2\n",
        "*  문장(statement): 가장 작은 코드 실행 단위.\n",
        "    *  x = 1\n",
        "    *  print(x)\n",
        "*  식(expression)은 문장(statement)의 일부가 됨.\n",
        "    *  `result = '짝수' if x % 2 == 0 else '홀수'`\n",
        "\n",
        "*  Jupyter notebook: 코드 셀, 콘솔, 텍스트 셀\n",
        "    *  Jupyter notebook의 편의 기능 중에, 코드 셀에서 가장 마지막 줄이 식(expression)인 경우 그 식을 평가(계산)해서 그 값을 콘솔 창에 출력해줌.\n",
        "    *  코드 셀의 가장 마지막이 아닌 줄에 문장이 아니라 식이 있으면, 그 식의 결과는 출력이 되지 않음."
      ],
      "metadata": {
        "id": "3CAteJNumSHo"
      }
    },
    {
      "cell_type": "code",
      "source": [
        "print(1 + 2)  # 식 1 + 2의 결과를 출력하세요."
      ],
      "metadata": {
        "colab": {
          "base_uri": "https://localhost:8080/"
        },
        "id": "YZGT7fmWpDYA",
        "outputId": "bbefaad1-c8ad-4404-a33b-b8f33b39bf00"
      },
      "execution_count": null,
      "outputs": [
        {
          "output_type": "stream",
          "name": "stdout",
          "text": [
            "3\n"
          ]
        }
      ]
    },
    {
      "cell_type": "code",
      "source": [
        "1 + 3  # 식 1 + 3"
      ],
      "metadata": {
        "colab": {
          "base_uri": "https://localhost:8080/"
        },
        "id": "-q0OOI7qpL4Q",
        "outputId": "060c61b0-36d4-4154-a351-05794563df28"
      },
      "execution_count": null,
      "outputs": [
        {
          "output_type": "execute_result",
          "data": {
            "text/plain": [
              "4"
            ]
          },
          "metadata": {},
          "execution_count": 24
        }
      ]
    },
    {
      "cell_type": "code",
      "source": [
        "1 + 2  # 식\n",
        "1 + 3  # 식\n",
        "1 + 4  # 식"
      ],
      "metadata": {
        "colab": {
          "base_uri": "https://localhost:8080/"
        },
        "id": "tFQ7HG2lpZxY",
        "outputId": "d9368287-2b59-4291-9f17-bb83b48152ba"
      },
      "execution_count": null,
      "outputs": [
        {
          "output_type": "execute_result",
          "data": {
            "text/plain": [
              "5"
            ]
          },
          "metadata": {},
          "execution_count": 26
        }
      ]
    },
    {
      "cell_type": "code",
      "source": [
        "print(1 + 2)  # 문장\n",
        "print(1 + 3)  # 문장\n",
        "1 + 4"
      ],
      "metadata": {
        "colab": {
          "base_uri": "https://localhost:8080/"
        },
        "id": "ibBE2pC7p3c0",
        "outputId": "2b36552c-57d7-41f0-c2bc-8ad6ccb942aa"
      },
      "execution_count": null,
      "outputs": [
        {
          "output_type": "stream",
          "name": "stdout",
          "text": [
            "3\n",
            "4\n"
          ]
        },
        {
          "output_type": "execute_result",
          "data": {
            "text/plain": [
              "5"
            ]
          },
          "metadata": {},
          "execution_count": 27
        }
      ]
    },
    {
      "cell_type": "code",
      "source": [
        "result = sum([1, 2, 3, 4, 5])  # sum() 함수의 호출 결과를 변수 result에 저장하세요.\n",
        "# print(result)  # 변수 result에 저장된 값을 출력하세요.\n",
        "result  # 식"
      ],
      "metadata": {
        "colab": {
          "base_uri": "https://localhost:8080/"
        },
        "id": "qqF2lw-eqtda",
        "outputId": "18097589-6782-4b76-de73-6ec8a97ba2bf"
      },
      "execution_count": null,
      "outputs": [
        {
          "output_type": "execute_result",
          "data": {
            "text/plain": [
              "15"
            ]
          },
          "metadata": {},
          "execution_count": 32
        }
      ]
    },
    {
      "cell_type": "code",
      "source": [
        "sum([1, 2, 3, 4])"
      ],
      "metadata": {
        "colab": {
          "base_uri": "https://localhost:8080/"
        },
        "id": "CKsNy9yxr9Ne",
        "outputId": "5b392614-2262-45e9-d960-fb6bc37c0f3f"
      },
      "execution_count": null,
      "outputs": [
        {
          "output_type": "execute_result",
          "data": {
            "text/plain": [
              "10"
            ]
          },
          "metadata": {},
          "execution_count": 33
        }
      ]
    },
    {
      "cell_type": "markdown",
      "source": [
        "*  함수 이름: word_count\n",
        "*  기능: 문자열들을 원소로 갖는 리스트를 전달받아서, 리스트에 문자열이 몇 번 등장하는지를 key와 value로 갖는 dictionary를 리턴.\n",
        "\n",
        "```\n",
        "result = word_count(['list', 'dict', 'list', 'tuple', 'tuple', 'tuple'])\n",
        "print(result)\n",
        "\n",
        ">>> {'list': 2, 'dict': 1, 'tuple': 3}\n",
        "```\n"
      ],
      "metadata": {
        "id": "F-DjihTrs1QG"
      }
    },
    {
      "cell_type": "code",
      "source": [
        "counts = {}\n",
        "print(counts)\n",
        "\n",
        "counts['list'] = 1\n",
        "print(counts)\n",
        "\n",
        "counts['dict'] = 1\n",
        "print(counts)\n",
        "\n",
        "counts['list'] += 1\n",
        "print(counts)"
      ],
      "metadata": {
        "colab": {
          "base_uri": "https://localhost:8080/"
        },
        "id": "WndH55LeXjk6",
        "outputId": "a772ec67-2e75-4e59-80df-33a19660430f"
      },
      "execution_count": null,
      "outputs": [
        {
          "output_type": "stream",
          "name": "stdout",
          "text": [
            "{}\n",
            "{'list': 1}\n",
            "{'list': 1, 'dict': 1}\n",
            "{'list': 2, 'dict': 1}\n"
          ]
        }
      ]
    },
    {
      "cell_type": "code",
      "source": [
        "def word_count(array):\n",
        "    counts = {}  # 문자열을 키로 하고 문자열의 등장 횟수를 값으로 하는 하는 dict를 만들기 위해서\n",
        "    for x in array:  # argument로 전달된 리스트에서 문자열을 하나씩 꺼내면서 반복\n",
        "        if x in counts:  # 리스트의 문자열이 dict에 있으면(dict의 키로 존재하면)\n",
        "            counts[x] += 1  # 문자열의 등장 횟수를 1 증가\n",
        "        else:   # 리스트의 문자열이 dict에 없으면(dict의 키로 존재하지 않으면)\n",
        "            counts[x] = 1  # 문자열이 처음 등장한 경우이므로, 등장 횟수는 1\n",
        "    return counts"
      ],
      "metadata": {
        "id": "eKR3sx7dhLDu"
      },
      "execution_count": null,
      "outputs": []
    },
    {
      "cell_type": "code",
      "source": [
        "word_count(['list', 'dict', 'list', 'tuple', 'tuple', 'tuple'])"
      ],
      "metadata": {
        "colab": {
          "base_uri": "https://localhost:8080/"
        },
        "id": "dxPMMAcMZJ5i",
        "outputId": "d84fa45c-8b2c-4033-b8c3-6a0baaa29619"
      },
      "execution_count": null,
      "outputs": [
        {
          "output_type": "execute_result",
          "data": {
            "text/plain": [
              "{'dict': 1, 'list': 2, 'tuple': 3}"
            ]
          },
          "metadata": {},
          "execution_count": 6
        }
      ]
    },
    {
      "cell_type": "code",
      "source": [
        "word_count(['a', 'b', 'b', 'c', 'd', 'd', 'd'])"
      ],
      "metadata": {
        "colab": {
          "base_uri": "https://localhost:8080/"
        },
        "id": "VaqWhUERazLX",
        "outputId": "7c30c3e3-5096-4b46-ab1a-97e8e1a2fe93"
      },
      "execution_count": null,
      "outputs": [
        {
          "output_type": "execute_result",
          "data": {
            "text/plain": [
              "{'a': 1, 'b': 2, 'c': 1, 'd': 3}"
            ]
          },
          "metadata": {},
          "execution_count": 10
        }
      ]
    },
    {
      "cell_type": "code",
      "source": [
        "d = {'a': 1, 'b': 2}\n",
        "print(d.keys())\n",
        "for k in d.keys():\n",
        "    print(k)\n",
        "print()\n",
        "for k in d:\n",
        "    print(k, d[k])"
      ],
      "metadata": {
        "colab": {
          "base_uri": "https://localhost:8080/"
        },
        "id": "rMmRLWI2c28f",
        "outputId": "dff6e4ed-0d4e-41be-bd60-0019838a1141"
      },
      "execution_count": null,
      "outputs": [
        {
          "output_type": "stream",
          "name": "stdout",
          "text": [
            "dict_keys(['a', 'b'])\n",
            "a\n",
            "b\n",
            "\n",
            "a 1\n",
            "b 2\n"
          ]
        }
      ]
    },
    {
      "cell_type": "code",
      "source": [
        "counts = {'list': 1}\n",
        "try:  # 무조건 시도\n",
        "    counts['list'] += 1  # 에러가 발생하지 않는 경우(dict에 'list'라는 키가 있는 경우)\n",
        "except:  # 시도(try)하다가 에러가 발생하면(dict에 'list'라는 키가 없는 경우)\n",
        "    counts['list'] = 1  # 단어가 처음 등장하는 경우이므로 값을 1로 설정\n",
        "print(counts)"
      ],
      "metadata": {
        "colab": {
          "base_uri": "https://localhost:8080/"
        },
        "id": "0PZp3f1ni1ZS",
        "outputId": "e23ab191-13b5-40b8-f070-28f3a50f8996"
      },
      "execution_count": null,
      "outputs": [
        {
          "output_type": "stream",
          "name": "stdout",
          "text": [
            "{'list': 2}\n"
          ]
        }
      ]
    },
    {
      "cell_type": "code",
      "source": [
        "def word_count2(str_list):\n",
        "    counts = {}\n",
        "    for x in str_list:\n",
        "        try:\n",
        "            counts[x] += 1\n",
        "        except:\n",
        "            counts[x] = 1\n",
        "    return counts"
      ],
      "metadata": {
        "id": "NxSHXIQXk0qv"
      },
      "execution_count": null,
      "outputs": []
    },
    {
      "cell_type": "code",
      "source": [
        "word_count2(['list', 'dict', 'list', 'tuple', 'tuple', 'tuple'])"
      ],
      "metadata": {
        "colab": {
          "base_uri": "https://localhost:8080/"
        },
        "id": "bNoedYd0lnhW",
        "outputId": "e4a56c90-9dcb-4d36-ebe4-a067af22fa74"
      },
      "execution_count": null,
      "outputs": [
        {
          "output_type": "execute_result",
          "data": {
            "text/plain": [
              "{'dict': 1, 'list': 2, 'tuple': 3}"
            ]
          },
          "metadata": {},
          "execution_count": 20
        }
      ]
    },
    {
      "cell_type": "code",
      "source": [
        "str_list = ['list', 'dict', 'list', 'tuple', 'tuple', 'tuple']\n",
        "str_list.count('tuple')  # str_list 리스트에서 'tuple' 원소가 몇 번 등장하는 지를 리턴."
      ],
      "metadata": {
        "colab": {
          "base_uri": "https://localhost:8080/"
        },
        "id": "8mP4SYlBlr_P",
        "outputId": "d8d953b7-ea34-4f1a-a5e6-20392ccef0a1"
      },
      "execution_count": null,
      "outputs": [
        {
          "output_type": "execute_result",
          "data": {
            "text/plain": [
              "3"
            ]
          },
          "metadata": {},
          "execution_count": 21
        }
      ]
    },
    {
      "cell_type": "code",
      "source": [
        "def word_count3(str_list):\n",
        "    counts = {}\n",
        "    for x in str_list:\n",
        "        counts[x] = str_list.count(x)\n",
        "    return counts"
      ],
      "metadata": {
        "id": "AuUxXxTymv4K"
      },
      "execution_count": null,
      "outputs": []
    },
    {
      "cell_type": "code",
      "source": [
        "word_count3(['a', 'b', 'b', 'c', 'd', 'd', 'd'])"
      ],
      "metadata": {
        "colab": {
          "base_uri": "https://localhost:8080/"
        },
        "id": "Aty9NK2RnUyV",
        "outputId": "09b2fdbf-21d4-48c1-f17d-7d8cdc26e330"
      },
      "execution_count": null,
      "outputs": [
        {
          "output_type": "execute_result",
          "data": {
            "text/plain": [
              "{'a': 1, 'b': 2, 'c': 1, 'd': 3}"
            ]
          },
          "metadata": {},
          "execution_count": 24
        }
      ]
    }
  ]
}