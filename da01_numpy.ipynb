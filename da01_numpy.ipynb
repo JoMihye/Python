{
  "nbformat": 4,
  "nbformat_minor": 0,
  "metadata": {
    "colab": {
      "name": "da01_numpy.ipynb",
      "provenance": [],
      "authorship_tag": "ABX9TyOm5Ke2BdOWV5rOCjgnxaTI",
      "include_colab_link": true
    },
    "kernelspec": {
      "name": "python3",
      "display_name": "Python 3"
    },
    "language_info": {
      "name": "python"
    }
  },
  "cells": [
    {
      "cell_type": "markdown",
      "metadata": {
        "id": "view-in-github",
        "colab_type": "text"
      },
      "source": [
        "<a href=\"https://colab.research.google.com/github/JoMihye/Python/blob/main/da01_numpy.ipynb\" target=\"_parent\"><img src=\"https://colab.research.google.com/assets/colab-badge.svg\" alt=\"Open In Colab\"/></a>"
      ]
    },
    {
      "cell_type": "markdown",
      "source": [
        "# 데이터 분석 패키지"
      ],
      "metadata": {
        "id": "ZlEQBbr2ZjpR"
      }
    },
    {
      "cell_type": "markdown",
      "source": [
        "*  Numpy: 다차원 배열을 다루는 패키지. 머신 러닝에서 중요하게 사용됨.\n",
        "*  pandas: 데이터프레임(DataFrame)과 시리즈(Series)를 다루는 패키지. 데이터 분석에서 가장 기본이 되는 패키지\n",
        "*  matplotlib, seaborn: 데이터 시각화(그래프)\n",
        "*  scikit-learn: 머신 러닝에서 기본이 되는 패키지.\n",
        "*  keras, tensorflow: 딥러닝에서 사용되는 패키지.\n",
        "\n",
        "Google Colab은 데이터 분석과 머신 러닝에 필요한 대부분의 패키지들이 이미 설치되어 있음."
      ],
      "metadata": {
        "id": "yOiu2loEZmof"
      }
    },
    {
      "cell_type": "code",
      "execution_count": null,
      "metadata": {
        "id": "U-z6kG_mZLGT"
      },
      "outputs": [],
      "source": [
        "# 패키지 모듈 이름 import\n",
        "import numpy as np\n",
        "import pandas as pd\n",
        "import matplotlib\n",
        "import seaborn\n",
        "import sklearn\n",
        "import keras\n",
        "import tensorflow as tf"
      ]
    },
    {
      "cell_type": "code",
      "source": [
        "# Google Colab에 설치된 패키지 버전 확인\n",
        "print('NumPy version:', np.__version__)\n",
        "print('pandas version:', pd.__version__)\n",
        "print('matplotlib version:', matplotlib.__version__)\n",
        "print('seaborn version:', seaborn.__version__)\n",
        "print('scikit-learn version:', sklearn.__version__)\n",
        "print('keras version:', keras.__version__)\n",
        "print('tensorflow verdion:', tf.__version__)"
      ],
      "metadata": {
        "colab": {
          "base_uri": "https://localhost:8080/"
        },
        "id": "nHgzrCmNcCwO",
        "outputId": "84172d93-0d28-4b32-d775-8b9d76b0878e"
      },
      "execution_count": null,
      "outputs": [
        {
          "output_type": "stream",
          "name": "stdout",
          "text": [
            "NumPy version: 1.21.6\n",
            "pandas version: 1.3.5\n",
            "matplotlib version: 3.2.2\n",
            "seaborn version: 0.11.2\n",
            "scikit-learn version: 1.0.2\n",
            "keras version: 2.8.0\n",
            "tensorflow verdion: 2.8.0\n"
          ]
        }
      ]
    },
    {
      "cell_type": "markdown",
      "source": [
        "# Python list"
      ],
      "metadata": {
        "id": "dpEV5lHHjtSg"
      }
    },
    {
      "cell_type": "markdown",
      "source": [
        "*  여러개의 값들을 저장할 수 있는 데이터 타입.\n",
        "*  인덱스를 기반으로 값들을 저장하는 데이터 타입.\n",
        "    *  indexing\n",
        "    *  slicing\n",
        "*  연산\n",
        "    *  `list + list`\n",
        "    *  `list * int` 또는 `int * list`"
      ],
      "metadata": {
        "id": "z-qfLYQpjvXX"
      }
    },
    {
      "cell_type": "code",
      "source": [
        "num_list1 = [1, 2, 3]\n",
        "num_list2 = [10, 20, 30]"
      ],
      "metadata": {
        "id": "_PdQMjTXcxA_"
      },
      "execution_count": null,
      "outputs": []
    },
    {
      "cell_type": "code",
      "source": [
        "# indexing\n",
        "print(num_list1[0])  # 리스트의 첫번째 원소 참조.\n",
        "print(num_list1[-1])  # 리스트의 마지막 원소 참조."
      ],
      "metadata": {
        "colab": {
          "base_uri": "https://localhost:8080/"
        },
        "id": "82RvNDjHki-s",
        "outputId": "7730734a-92e1-44b8-f699-246455d7f5e4"
      },
      "execution_count": null,
      "outputs": [
        {
          "output_type": "stream",
          "name": "stdout",
          "text": [
            "1\n",
            "3\n"
          ]
        }
      ]
    },
    {
      "cell_type": "code",
      "source": [
        "# slicing\n",
        "print(num_list1[:2])  # 리스트에서 첫 2개 원소로 이루어진 부분집합(리스트).\n",
        "print(num_list1[-2:])  # 리스트에서 마지막 2개 원소로 이루어진 부분집합(리스트)."
      ],
      "metadata": {
        "colab": {
          "base_uri": "https://localhost:8080/"
        },
        "id": "04tGV7N7k3KI",
        "outputId": "aac123c9-cb86-43c9-90e6-040cadb00b51"
      },
      "execution_count": null,
      "outputs": [
        {
          "output_type": "stream",
          "name": "stdout",
          "text": [
            "[1, 2]\n",
            "[2, 3]\n"
          ]
        }
      ]
    },
    {
      "cell_type": "code",
      "source": [
        "num_list1 + num_list2  # num_list1.extend(num_list2)"
      ],
      "metadata": {
        "colab": {
          "base_uri": "https://localhost:8080/"
        },
        "id": "EV_YWusolMML",
        "outputId": "a612e827-455c-44b1-80ca-1aca7cbf36b6"
      },
      "execution_count": null,
      "outputs": [
        {
          "output_type": "execute_result",
          "data": {
            "text/plain": [
              "[1, 2, 3, 10, 20, 30]"
            ]
          },
          "metadata": {},
          "execution_count": 9
        }
      ]
    },
    {
      "cell_type": "code",
      "source": [
        "3 * num_list1"
      ],
      "metadata": {
        "colab": {
          "base_uri": "https://localhost:8080/"
        },
        "id": "C-5YpT7KlTL9",
        "outputId": "4cdbd05f-8e17-45df-83be-d84b2ddd779e"
      },
      "execution_count": null,
      "outputs": [
        {
          "output_type": "execute_result",
          "data": {
            "text/plain": [
              "[1, 2, 3, 1, 2, 3, 1, 2, 3]"
            ]
          },
          "metadata": {},
          "execution_count": 10
        }
      ]
    },
    {
      "cell_type": "code",
      "source": [
        "# num_list1과 num_list2의 같은 인덱스의 원소들끼리의 덧셈으로 만들어진 리스트\n",
        "plus = []\n",
        "for x, y in zip(num_list1, num_list2):\n",
        "    plus.append(x + y)\n",
        "print(plus)"
      ],
      "metadata": {
        "colab": {
          "base_uri": "https://localhost:8080/"
        },
        "id": "OSLBo5Ajl3-x",
        "outputId": "db452d4a-632c-4b56-a6f0-df41288f84a0"
      },
      "execution_count": null,
      "outputs": [
        {
          "output_type": "stream",
          "name": "stdout",
          "text": [
            "[11, 22, 33]\n"
          ]
        }
      ]
    },
    {
      "cell_type": "code",
      "source": [
        "[x + y for x, y in zip(num_list1, num_list2)]"
      ],
      "metadata": {
        "colab": {
          "base_uri": "https://localhost:8080/"
        },
        "id": "OyqT0iPUngpR",
        "outputId": "74480dfb-7f48-4203-c18f-263f14104ce1"
      },
      "execution_count": null,
      "outputs": [
        {
          "output_type": "execute_result",
          "data": {
            "text/plain": [
              "[11, 22, 33]"
            ]
          },
          "metadata": {},
          "execution_count": 12
        }
      ]
    },
    {
      "cell_type": "code",
      "source": [
        "# num_list1의 각각의 원소에 3을 곱한 값들로 이루어진 리스트.\n",
        "[3 * x for x in num_list1]"
      ],
      "metadata": {
        "colab": {
          "base_uri": "https://localhost:8080/"
        },
        "id": "NAz58B0FmVMu",
        "outputId": "9edfaa52-a0ce-4c4b-d4dc-81d738fbfd1f"
      },
      "execution_count": null,
      "outputs": [
        {
          "output_type": "execute_result",
          "data": {
            "text/plain": [
              "[3, 6, 9]"
            ]
          },
          "metadata": {},
          "execution_count": 14
        }
      ]
    },
    {
      "cell_type": "markdown",
      "source": [
        "# NumPy(Numerical Python)"
      ],
      "metadata": {
        "id": "M8wGgHF8oNcU"
      }
    },
    {
      "cell_type": "markdown",
      "source": [
        "*  배열(array)을 쉽고 빠르게 연산(`+,-,*,/,...`)하기 위한 라이브러리.\n",
        "*  NumPy 패키지의 대부분의 기능(함수, 메서드)들은 반복문의 기능을 가지고 있음.\n",
        "*  `np.ndarray` 클래스: NumPy 패키지의 기본 데이터 타입. n-dimensional array (n차원 배열).\n",
        "    *  `ndarray`는 같은 인덱스의 원소들끼리 연산을 수행함."
      ],
      "metadata": {
        "id": "puY_9iwVoUB1"
      }
    },
    {
      "cell_type": "code",
      "source": [
        "num_arr1 = np.array([1, 2, 3])\n",
        "print(num_arr1)\n",
        "num_arr1"
      ],
      "metadata": {
        "colab": {
          "base_uri": "https://localhost:8080/"
        },
        "id": "D5Qdz7IQn2A3",
        "outputId": "f3efa5b3-cc66-495a-e5fb-606dbecc5c0d"
      },
      "execution_count": null,
      "outputs": [
        {
          "output_type": "stream",
          "name": "stdout",
          "text": [
            "[1 2 3]\n"
          ]
        },
        {
          "output_type": "execute_result",
          "data": {
            "text/plain": [
              "array([1, 2, 3])"
            ]
          },
          "metadata": {},
          "execution_count": 16
        }
      ]
    },
    {
      "cell_type": "code",
      "source": [
        "type(num_arr1)"
      ],
      "metadata": {
        "colab": {
          "base_uri": "https://localhost:8080/"
        },
        "id": "Rw6fT-h-pm-M",
        "outputId": "8a758946-ac50-4bb0-e446-c997e8047ae3"
      },
      "execution_count": null,
      "outputs": [
        {
          "output_type": "execute_result",
          "data": {
            "text/plain": [
              "numpy.ndarray"
            ]
          },
          "metadata": {},
          "execution_count": 17
        }
      ]
    },
    {
      "cell_type": "code",
      "source": [
        "num_arr2 = np.array([10, 20, 30])\n",
        "print(num_arr2)"
      ],
      "metadata": {
        "colab": {
          "base_uri": "https://localhost:8080/"
        },
        "id": "GZ5GVOLnqX3p",
        "outputId": "c4180d60-ea7c-4a61-ac63-51b51e27a4d3"
      },
      "execution_count": null,
      "outputs": [
        {
          "output_type": "stream",
          "name": "stdout",
          "text": [
            "[10 20 30]\n"
          ]
        }
      ]
    },
    {
      "cell_type": "code",
      "source": [
        "# np.ndarray의 사칙 연산 - 배열은 element-wise(같은 인덱스의 원소들끼리) 연산 수행.\n",
        "print(num_arr1 + num_arr2)\n",
        "print(num_arr1 - num_arr2)\n",
        "print(num_arr1 * num_arr2)\n",
        "print(num_arr1 / num_arr2)"
      ],
      "metadata": {
        "colab": {
          "base_uri": "https://localhost:8080/"
        },
        "id": "fhrmk2E0qcKH",
        "outputId": "71e00e9a-63dd-4c89-dbbf-318bf2feb450"
      },
      "execution_count": null,
      "outputs": [
        {
          "output_type": "stream",
          "name": "stdout",
          "text": [
            "[11 22 33]\n",
            "[ -9 -18 -27]\n",
            "[10 40 90]\n",
            "[0.1 0.1 0.1]\n"
          ]
        }
      ]
    },
    {
      "cell_type": "code",
      "source": [
        "print(num_arr1 * 3)"
      ],
      "metadata": {
        "colab": {
          "base_uri": "https://localhost:8080/"
        },
        "id": "2rnNvrAQrCXl",
        "outputId": "c2bc6678-f328-446f-960f-b9ade4508654"
      },
      "execution_count": null,
      "outputs": [
        {
          "output_type": "stream",
          "name": "stdout",
          "text": [
            "[3 6 9]\n"
          ]
        }
      ]
    },
    {
      "cell_type": "markdown",
      "source": [
        "# `np.ndarray` 클래스의 속성들"
      ],
      "metadata": {
        "id": "gIhxxWP7xaCl"
      }
    },
    {
      "cell_type": "code",
      "source": [
        "print(num_arr1)\n",
        "print('ndim:', num_arr1.ndim)  # 차원(dimension)\n",
        "print('size:', num_arr1.size)  # 배열의 원소의 개수\n",
        "print('shape:', num_arr1.shape)  # 배열의 각 차원에서의 원소의 개수(튜플)\n",
        "print('dtype:', num_arr1.dtype)  # 배열의 원소의 데이터 타입"
      ],
      "metadata": {
        "colab": {
          "base_uri": "https://localhost:8080/"
        },
        "id": "J9d7X712xfkR",
        "outputId": "e15fb961-7aad-4747-825c-c0b4bfcecff5"
      },
      "execution_count": null,
      "outputs": [
        {
          "output_type": "stream",
          "name": "stdout",
          "text": [
            "[1 2 3]\n",
            "ndim: 1\n",
            "size: 3\n",
            "shape: (3,)\n",
            "dtype: int64\n"
          ]
        }
      ]
    },
    {
      "cell_type": "markdown",
      "source": [
        "*  Python의 숫자 타입:\n",
        "    *  정수: `int`\n",
        "    *  실수: `float`\n",
        "*  np.ndarray의 숫자 타입:\n",
        "    *  정수: `int8, int16, int32, int64, ...`\n",
        "    *  실수: `float16, float32, float64, ...`"
      ],
      "metadata": {
        "id": "SGLrMrK0y8Y6"
      }
    },
    {
      "cell_type": "code",
      "source": [
        "# 2차원 배열\n",
        "array = np.array([[1, 2, 3],\n",
        "                  [4, 5, 6]])\n",
        "print(array)"
      ],
      "metadata": {
        "colab": {
          "base_uri": "https://localhost:8080/"
        },
        "id": "9ojqZpoSxh7T",
        "outputId": "6dc32ece-e107-4752-c030-b4c8a67ad597"
      },
      "execution_count": null,
      "outputs": [
        {
          "output_type": "stream",
          "name": "stdout",
          "text": [
            "[[1 2 3]\n",
            " [4 5 6]]\n"
          ]
        }
      ]
    },
    {
      "cell_type": "code",
      "source": [
        "print('ndim:', array.ndim)\n",
        "print('size:', array.size)\n",
        "print('shape:', array.shape)"
      ],
      "metadata": {
        "colab": {
          "base_uri": "https://localhost:8080/"
        },
        "id": "tLm3zfQZzyvo",
        "outputId": "dea86ec9-4470-4a8c-9bc9-0952470c7689"
      },
      "execution_count": null,
      "outputs": [
        {
          "output_type": "stream",
          "name": "stdout",
          "text": [
            "ndim: 2\n",
            "size: 6\n",
            "shape: (2, 3)\n"
          ]
        }
      ]
    },
    {
      "cell_type": "markdown",
      "source": [
        "# np.array 객체 생성 함수"
      ],
      "metadata": {
        "id": "IERjefaS1Z1M"
      }
    },
    {
      "cell_type": "code",
      "source": [
        "evens = np.array([0, 2, 4, 6, 8, 10])\n",
        "print(evens)"
      ],
      "metadata": {
        "colab": {
          "base_uri": "https://localhost:8080/"
        },
        "id": "T5k52Er70VOG",
        "outputId": "35381723-9004-4180-8729-27a7e9515486"
      },
      "execution_count": null,
      "outputs": [
        {
          "output_type": "stream",
          "name": "stdout",
          "text": [
            "[ 0  2  4  6  8 10]\n"
          ]
        }
      ]
    },
    {
      "cell_type": "code",
      "source": [
        "evens = np.array(range(0, 11, 2))\n",
        "print(evens)"
      ],
      "metadata": {
        "colab": {
          "base_uri": "https://localhost:8080/"
        },
        "id": "gyAqGWqG1su4",
        "outputId": "8935152f-1ef8-4797-bcc8-e057f8fac0b5"
      },
      "execution_count": null,
      "outputs": [
        {
          "output_type": "stream",
          "name": "stdout",
          "text": [
            "[ 0  2  4  6  8 10]\n"
          ]
        }
      ]
    },
    {
      "cell_type": "code",
      "source": [
        "evens = np.arange(0, 11, 2)\n",
        "print(evens)"
      ],
      "metadata": {
        "colab": {
          "base_uri": "https://localhost:8080/"
        },
        "id": "zPzrxg7m18W2",
        "outputId": "c2787544-9a6a-4844-91f9-e9aa023ee80f"
      },
      "execution_count": null,
      "outputs": [
        {
          "output_type": "stream",
          "name": "stdout",
          "text": [
            "[ 0  2  4  6  8 10]\n"
          ]
        }
      ]
    },
    {
      "cell_type": "code",
      "source": [
        "# np.ndarray.reshape()\n",
        "array = evens.reshape((2, 3))\n",
        "print(array)"
      ],
      "metadata": {
        "colab": {
          "base_uri": "https://localhost:8080/"
        },
        "id": "zm919Lsx2WHx",
        "outputId": "436360b3-528c-41c0-b383-3aa48d3f88e6"
      },
      "execution_count": null,
      "outputs": [
        {
          "output_type": "stream",
          "name": "stdout",
          "text": [
            "[[ 0  2  4]\n",
            " [ 6  8 10]]\n"
          ]
        }
      ]
    },
    {
      "cell_type": "code",
      "source": [
        "array = evens.reshape((3, 2))\n",
        "print(array)"
      ],
      "metadata": {
        "colab": {
          "base_uri": "https://localhost:8080/"
        },
        "id": "tuVpraS-28UC",
        "outputId": "d9b9456c-f125-4ac7-cf26-5d0183928c0b"
      },
      "execution_count": null,
      "outputs": [
        {
          "output_type": "stream",
          "name": "stdout",
          "text": [
            "[[ 0  2]\n",
            " [ 4  6]\n",
            " [ 8 10]]\n"
          ]
        }
      ]
    },
    {
      "cell_type": "code",
      "source": [
        "# 메서드(함수) 연쇄 호출\n",
        "array = np.arange(12).reshape((3, 4))\n",
        "print(array)"
      ],
      "metadata": {
        "colab": {
          "base_uri": "https://localhost:8080/"
        },
        "id": "Whs1HOkL4MGX",
        "outputId": "7ca774fe-0684-4cfa-9fa1-594a6cd6f7f1"
      },
      "execution_count": null,
      "outputs": [
        {
          "output_type": "stream",
          "name": "stdout",
          "text": [
            "[[ 0  1  2  3]\n",
            " [ 4  5  6  7]\n",
            " [ 8  9 10 11]]\n"
          ]
        }
      ]
    },
    {
      "cell_type": "code",
      "source": [
        "array = np.random.randint(0, 10, size=10)  \n",
        "#> [0, 10) 범위의 정수 난수 10개로 이루어진 배열.\n",
        "print(array)"
      ],
      "metadata": {
        "colab": {
          "base_uri": "https://localhost:8080/"
        },
        "id": "EOa7ZUkL4WEF",
        "outputId": "bb33a1b2-a1e9-4029-970c-5bd09f49792f"
      },
      "execution_count": null,
      "outputs": [
        {
          "output_type": "stream",
          "name": "stdout",
          "text": [
            "[3 7 6 7 1 2 5 6 7 9]\n"
          ]
        }
      ]
    },
    {
      "cell_type": "code",
      "source": [
        "array = np.random.randint(0, 10, size=(3, 4))\n",
        "#> [0, 10) 범위의 (3, 4) 모양(shape)의 2차원 배열.\n",
        "print(array)"
      ],
      "metadata": {
        "colab": {
          "base_uri": "https://localhost:8080/"
        },
        "id": "jBdxBJR15p5t",
        "outputId": "416c2663-d399-4472-acac-096c5b0e1fde"
      },
      "execution_count": null,
      "outputs": [
        {
          "output_type": "stream",
          "name": "stdout",
          "text": [
            "[[8 6 6 5]\n",
            " [4 8 5 8]\n",
            " [0 4 9 9]]\n"
          ]
        }
      ]
    },
    {
      "cell_type": "code",
      "source": [
        "array = np.random.rand(5)\n",
        "#> [0, 1) 범위의 균등 분포를 만족하는 실수 난수 5개로 이루어진 배열.\n",
        "print(array)"
      ],
      "metadata": {
        "colab": {
          "base_uri": "https://localhost:8080/"
        },
        "id": "dUc0ngSq5zBJ",
        "outputId": "cecacfa0-e5cd-41ef-f5b1-b6b3c6210ede"
      },
      "execution_count": null,
      "outputs": [
        {
          "output_type": "stream",
          "name": "stdout",
          "text": [
            "[0.36763986 0.35189111 0.0112633  0.24961908 0.2156879 ]\n"
          ]
        }
      ]
    },
    {
      "cell_type": "code",
      "source": [
        "array = np.random.rand(3, 4)\n",
        "#> [0, 1) 범위의 균등 분포를 만족하는 난수들로 이루어진 (3, 4) 모양의 2차원 배열.\n",
        "print(array)"
      ],
      "metadata": {
        "colab": {
          "base_uri": "https://localhost:8080/"
        },
        "id": "IGYpwOSM62-5",
        "outputId": "6c8be6f6-c8f4-4431-fd5d-f7c3673c9678"
      },
      "execution_count": null,
      "outputs": [
        {
          "output_type": "stream",
          "name": "stdout",
          "text": [
            "[[0.19049659 0.23313966 0.37018217 0.87319252]\n",
            " [0.36574048 0.97343178 0.61922618 0.34672429]\n",
            " [0.28705419 0.74020414 0.27428498 0.62643193]]\n"
          ]
        }
      ]
    },
    {
      "cell_type": "code",
      "source": [
        "array = np.random.randn(5)\n",
        "#> 표준 정규 분포(평균=0, 표준편차=1)를 따르는 난수 5개로 이루어진 배열.\n",
        "print(array)"
      ],
      "metadata": {
        "colab": {
          "base_uri": "https://localhost:8080/"
        },
        "id": "LfxpCKwE7M4b",
        "outputId": "9b0821fc-4406-4a4a-d77f-3642daf1fd76"
      },
      "execution_count": null,
      "outputs": [
        {
          "output_type": "stream",
          "name": "stdout",
          "text": [
            "[-1.50196757  0.19462583  1.26498248  0.58318381 -0.03464935]\n"
          ]
        }
      ]
    },
    {
      "cell_type": "code",
      "source": [
        "array = np.random.randn(3, 4)\n",
        "#> 표준 정규 분포를 따르는 난수들로 이루어진 (3, 4) 모양의 2차원 배열.\n",
        "print(array)"
      ],
      "metadata": {
        "colab": {
          "base_uri": "https://localhost:8080/"
        },
        "id": "-p6EKuNc763X",
        "outputId": "ac604955-5835-4489-c52c-d733f1788667"
      },
      "execution_count": null,
      "outputs": [
        {
          "output_type": "stream",
          "name": "stdout",
          "text": [
            "[[-0.01459479 -1.77075857 -0.15206104  1.92783542]\n",
            " [ 0.53649524 -0.95908015  0.38078501 -0.02233732]\n",
            " [-1.45353184 -0.89733332 -1.94194847 -0.79365871]]\n"
          ]
        }
      ]
    },
    {
      "cell_type": "code",
      "source": [
        ""
      ],
      "metadata": {
        "id": "Ez75iqPM8P06"
      },
      "execution_count": null,
      "outputs": []
    }
  ]
}