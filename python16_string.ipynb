{
  "nbformat": 4,
  "nbformat_minor": 0,
  "metadata": {
    "colab": {
      "name": "python16_string.ipynb",
      "provenance": [],
      "authorship_tag": "ABX9TyNLQyL+acIkJaQ/kdgd+fCg",
      "include_colab_link": true
    },
    "kernelspec": {
      "name": "python3",
      "display_name": "Python 3"
    },
    "language_info": {
      "name": "python"
    }
  },
  "cells": [
    {
      "cell_type": "markdown",
      "metadata": {
        "id": "view-in-github",
        "colab_type": "text"
      },
      "source": [
        "<a href=\"https://colab.research.google.com/github/JoMihye/Python/blob/main/python16_string.ipynb\" target=\"_parent\"><img src=\"https://colab.research.google.com/assets/colab-badge.svg\" alt=\"Open In Colab\"/></a>"
      ]
    },
    {
      "cell_type": "markdown",
      "source": [
        "# str 클래스의 메서드"
      ],
      "metadata": {
        "id": "VGWD-KR49aLL"
      }
    },
    {
      "cell_type": "code",
      "execution_count": null,
      "metadata": {
        "id": "8Vcq6aSQ6oxG"
      },
      "outputs": [],
      "source": [
        "s = 'heLLo pyTHon!'  # 문자열 클래스의 인스턴스를 생성"
      ]
    },
    {
      "cell_type": "code",
      "source": [
        "print(type(s))"
      ],
      "metadata": {
        "colab": {
          "base_uri": "https://localhost:8080/"
        },
        "id": "sxqkdph-9u_4",
        "outputId": "0123597a-dde5-47fc-8fc0-5bc4e4b48113"
      },
      "execution_count": null,
      "outputs": [
        {
          "output_type": "stream",
          "name": "stdout",
          "text": [
            "<class 'str'>\n"
          ]
        }
      ]
    },
    {
      "cell_type": "code",
      "source": [
        "result = s.lower()  # 소문자로 변환된 \"새로운\" 문자열을 리턴함.\n",
        "print(result)\n",
        "print(s)  # 원본 문자열은 변경되지 않음."
      ],
      "metadata": {
        "colab": {
          "base_uri": "https://localhost:8080/"
        },
        "id": "dJohuQ-U9xY4",
        "outputId": "814cb363-5245-4f35-bf5e-02e6f4eaaea1"
      },
      "execution_count": null,
      "outputs": [
        {
          "output_type": "stream",
          "name": "stdout",
          "text": [
            "hello python!\n",
            "heLLo pyTHon!\n"
          ]
        }
      ]
    },
    {
      "cell_type": "code",
      "source": [
        "s.upper()  # 대문자로 변환된 \"새로운\" 문자열을 리턴."
      ],
      "metadata": {
        "colab": {
          "base_uri": "https://localhost:8080/",
          "height": 35
        },
        "id": "mTLOeFxpAPyw",
        "outputId": "5c53a82c-8e2b-45d7-d763-2ee4b0477695"
      },
      "execution_count": null,
      "outputs": [
        {
          "output_type": "execute_result",
          "data": {
            "text/plain": [
              "'HELLO PYTHON!'"
            ],
            "application/vnd.google.colaboratory.intrinsic+json": {
              "type": "string"
            }
          },
          "metadata": {},
          "execution_count": 6
        }
      ]
    },
    {
      "cell_type": "code",
      "source": [
        "s.lower().upper()  # 메서드 연쇄 호출"
      ],
      "metadata": {
        "colab": {
          "base_uri": "https://localhost:8080/",
          "height": 35
        },
        "id": "lhU7jH0kBQDr",
        "outputId": "6441abab-2942-4443-8932-cc6b3acb1315"
      },
      "execution_count": null,
      "outputs": [
        {
          "output_type": "execute_result",
          "data": {
            "text/plain": [
              "'HELLO PYTHON!'"
            ],
            "application/vnd.google.colaboratory.intrinsic+json": {
              "type": "string"
            }
          },
          "metadata": {},
          "execution_count": 7
        }
      ]
    },
    {
      "cell_type": "code",
      "source": [
        "s.count('p')  # 원본 문자열 s에서 문자열의 일부 sub가 몇 번 등장하는 지를 리턴."
      ],
      "metadata": {
        "colab": {
          "base_uri": "https://localhost:8080/"
        },
        "id": "WOmdZM7ACNF2",
        "outputId": "99861b90-2c2f-4eb7-921c-80cf28782f3b"
      },
      "execution_count": null,
      "outputs": [
        {
          "output_type": "execute_result",
          "data": {
            "text/plain": [
              "1"
            ]
          },
          "metadata": {},
          "execution_count": 8
        }
      ]
    },
    {
      "cell_type": "code",
      "source": [
        "url = 'https://www.google.com'\n",
        "url.startswith('http')  # 문자열이 패턴으로 시작하면 True, 그렇지 않으면 False를 리턴."
      ],
      "metadata": {
        "colab": {
          "base_uri": "https://localhost:8080/"
        },
        "id": "GMw8eWJNHhsJ",
        "outputId": "ce1f97c9-32ca-41b6-bb50-173940c15ea0"
      },
      "execution_count": null,
      "outputs": [
        {
          "output_type": "execute_result",
          "data": {
            "text/plain": [
              "True"
            ]
          },
          "metadata": {},
          "execution_count": 12
        }
      ]
    },
    {
      "cell_type": "code",
      "source": [
        "url.endswith('co.kr')  # 문자열이 패턴으로 끝나면 True, 그렇지 않으면 False를 리턴."
      ],
      "metadata": {
        "colab": {
          "base_uri": "https://localhost:8080/"
        },
        "id": "r8ilc1jCIDNS",
        "outputId": "3b740d88-1e30-4015-ab53-8d03dbbea427"
      },
      "execution_count": null,
      "outputs": [
        {
          "output_type": "execute_result",
          "data": {
            "text/plain": [
              "False"
            ]
          },
          "metadata": {},
          "execution_count": 13
        }
      ]
    },
    {
      "cell_type": "code",
      "source": [
        "# str.find(패턴): 문자열에서 패턴을 찾을 수 있는 가장 낮은(작은) 인덱스를 리턴.\n",
        "s = '안녕하세요, 파이썬 참 쉽죠? 파이썬 열심히 공부합시다!'\n",
        "s.find('파이썬')"
      ],
      "metadata": {
        "colab": {
          "base_uri": "https://localhost:8080/"
        },
        "id": "g5rEqv4kJrhI",
        "outputId": "64642d1a-bafb-4a33-9bc5-bac36a0942d3"
      },
      "execution_count": null,
      "outputs": [
        {
          "output_type": "execute_result",
          "data": {
            "text/plain": [
              "7"
            ]
          },
          "metadata": {},
          "execution_count": 16
        }
      ]
    },
    {
      "cell_type": "code",
      "source": [
        "email = 'jake@gmail.com'\n",
        "# email 주소에서 이메일 아이디와 이메일 도메인 주소를 찾아서 각각 출력\n",
        "idx = email.find('@')\n",
        "print(idx)\n",
        "print(email[:idx])\n",
        "print(email[(idx+1):])"
      ],
      "metadata": {
        "colab": {
          "base_uri": "https://localhost:8080/"
        },
        "id": "BsbT1sRzK9Vm",
        "outputId": "de1decfe-ab7c-4096-ff7c-73c321be6a29"
      },
      "execution_count": null,
      "outputs": [
        {
          "output_type": "stream",
          "name": "stdout",
          "text": [
            "4\n",
            "jake\n",
            "gmail.com\n"
          ]
        }
      ]
    },
    {
      "cell_type": "code",
      "source": [
        "# str.split(): 문자열을 공백(whitespace: space, tab, enter)을 기준으로 \n",
        "# 문자열을 잘라서 만들어진 단어들의 리스트를 리턴.\n",
        "print(s)\n",
        "print(s.split())"
      ],
      "metadata": {
        "colab": {
          "base_uri": "https://localhost:8080/"
        },
        "id": "UX8BB58RNCfG",
        "outputId": "c27b4f70-85d7-4ddd-d16a-c509d6a7af32"
      },
      "execution_count": null,
      "outputs": [
        {
          "output_type": "stream",
          "name": "stdout",
          "text": [
            "안녕하세요, 파이썬 참 쉽죠? 파이썬 열심히 공부합시다!\n",
            "['안녕하세요,', '파이썬', '참', '쉽죠?', '파이썬', '열심히', '공부합시다!']\n"
          ]
        }
      ]
    },
    {
      "cell_type": "code",
      "source": [
        "date = '2022-05-18'\n",
        "# 문자열 date에서 [년, 월, 일]을 갖는 리스트를 만듦.\n",
        "date.split('-')"
      ],
      "metadata": {
        "colab": {
          "base_uri": "https://localhost:8080/"
        },
        "id": "mpUi68PiPu3q",
        "outputId": "d903cb9f-cf8c-463a-df14-81ae24dccb57"
      },
      "execution_count": null,
      "outputs": [
        {
          "output_type": "execute_result",
          "data": {
            "text/plain": [
              "['2022', '05', '18']"
            ]
          },
          "metadata": {},
          "execution_count": 24
        }
      ]
    },
    {
      "cell_type": "code",
      "source": [
        "csv = '홍길동,100,90,95'  # CSV: comma-separated values\n",
        "# csv의 내용을 쉼표(,)를 기준으로 자른 리스트\n",
        "csv.split(',')"
      ],
      "metadata": {
        "colab": {
          "base_uri": "https://localhost:8080/"
        },
        "id": "P2b-8fAjP60F",
        "outputId": "e887b814-3c2b-451b-e338-22ef1fb8be0b"
      },
      "execution_count": null,
      "outputs": [
        {
          "output_type": "execute_result",
          "data": {
            "text/plain": [
              "['홍길동', '100', '90', '95']"
            ]
          },
          "metadata": {},
          "execution_count": 25
        }
      ]
    },
    {
      "cell_type": "code",
      "source": [
        "# str.join(iterable): 문자열 str을 사용해서 iterable 안의 문자열들을 이어붙임.\n",
        "'.'.join(['ab', 'pq', 'rs'])"
      ],
      "metadata": {
        "colab": {
          "base_uri": "https://localhost:8080/",
          "height": 35
        },
        "id": "5KS7w4dbQtIe",
        "outputId": "978bb812-5926-4740-feec-f29ae1ce2efd"
      },
      "execution_count": null,
      "outputs": [
        {
          "output_type": "execute_result",
          "data": {
            "text/plain": [
              "'ab.pq.rs'"
            ],
            "application/vnd.google.colaboratory.intrinsic+json": {
              "type": "string"
            }
          },
          "metadata": {},
          "execution_count": 26
        }
      ]
    },
    {
      "cell_type": "code",
      "source": [
        "'/'.join(['2022', '05', '18'])"
      ],
      "metadata": {
        "colab": {
          "base_uri": "https://localhost:8080/",
          "height": 35
        },
        "id": "bmo8Juo2Ra_v",
        "outputId": "88abd19e-d130-4172-8d0a-70cdb6415a5a"
      },
      "execution_count": null,
      "outputs": [
        {
          "output_type": "execute_result",
          "data": {
            "text/plain": [
              "'2022/05/18'"
            ],
            "application/vnd.google.colaboratory.intrinsic+json": {
              "type": "string"
            }
          },
          "metadata": {},
          "execution_count": 27
        }
      ]
    }
  ]
}