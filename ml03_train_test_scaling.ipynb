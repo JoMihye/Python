{
  "nbformat": 4,
  "nbformat_minor": 0,
  "metadata": {
    "colab": {
      "name": "ml03_train_test_scaling.ipynb",
      "provenance": [],
      "collapsed_sections": [],
      "authorship_tag": "ABX9TyORayWo6uLUH9VyQIuQLIlG",
      "include_colab_link": true
    },
    "kernelspec": {
      "name": "python3",
      "display_name": "Python 3"
    },
    "language_info": {
      "name": "python"
    }
  },
  "cells": [
    {
      "cell_type": "markdown",
      "metadata": {
        "id": "view-in-github",
        "colab_type": "text"
      },
      "source": [
        "<a href=\"https://colab.research.google.com/github/JoMihye/Python/blob/main/ml03_train_test_scaling.ipynb\" target=\"_parent\"><img src=\"https://colab.research.google.com/assets/colab-badge.svg\" alt=\"Open In Colab\"/></a>"
      ]
    },
    {
      "cell_type": "markdown",
      "source": [
        "*   훈련 셋과 테스트 셋을 나누는 방법\n",
        "    *   순차적 추출(sequential sampling)\n",
        "    *   임의 추출(random sampling)\n",
        "    *   층화 추출(stratified sampling)\n",
        "*   분류 모델 평가 지표(metrics)\n",
        "    *   정확도(accuracy)\n",
        "    *   정밀도(precision)\n",
        "    *   재현율(recall)\n",
        "    *   F1-score\n",
        "*   특성 스케일링(feature scaling)\n",
        "    *   표준화(standardization)\n",
        "    *   정규화(normalization)"
      ],
      "metadata": {
        "id": "3-EaybNA4XXt"
      }
    },
    {
      "cell_type": "markdown",
      "source": [
        "# Imports"
      ],
      "metadata": {
        "id": "ubQdRZ_mHEww"
      }
    },
    {
      "cell_type": "code",
      "execution_count": null,
      "metadata": {
        "id": "CEFBA_MxjzJf"
      },
      "outputs": [],
      "source": [
        "import numpy as np\n",
        "import pandas as pd\n",
        "import matplotlib.pyplot as plt\n",
        "import seaborn as sns\n",
        "\n",
        "from sklearn.neighbors import KNeighborsClassifier  # KNN 분류기(모델)\n",
        "from sklearn.model_selection import train_test_split  # 훈련/테스트 셋 분리 함수\n",
        "from sklearn.metrics import confusion_matrix, classification_report  # 모델 평가 지표\n",
        "from sklearn.metrics import accuracy_score, precision_score, recall_score, f1_score\n",
        "from sklearn.preprocessing import StandardScaler, MinMaxScaler  # 변환기(특성 스케일링)"
      ]
    },
    {
      "cell_type": "markdown",
      "source": [
        "# 데이터 준비"
      ],
      "metadata": {
        "id": "wMeV8uE2l5iE"
      }
    },
    {
      "cell_type": "code",
      "source": [
        "# fish 데이터 셋\n",
        "fish_csv = 'https://github.com/rickiepark/hg-mldl/raw/master/fish.csv'"
      ],
      "metadata": {
        "id": "9Vxa_-5nlHT8"
      },
      "execution_count": null,
      "outputs": []
    },
    {
      "cell_type": "code",
      "source": [
        "fish = pd.read_csv(fish_csv)"
      ],
      "metadata": {
        "id": "sO94pHtQl_rW"
      },
      "execution_count": null,
      "outputs": []
    },
    {
      "cell_type": "code",
      "source": [
        "fish.head()"
      ],
      "metadata": {
        "colab": {
          "base_uri": "https://localhost:8080/",
          "height": 206
        },
        "id": "5GGimVbnmCLp",
        "outputId": "eaaf7472-3858-4c98-dcdd-6a645fd36504"
      },
      "execution_count": null,
      "outputs": [
        {
          "output_type": "execute_result",
          "data": {
            "text/plain": [
              "  Species  Weight  Length  Diagonal   Height   Width\n",
              "0   Bream   242.0    25.4      30.0  11.5200  4.0200\n",
              "1   Bream   290.0    26.3      31.2  12.4800  4.3056\n",
              "2   Bream   340.0    26.5      31.1  12.3778  4.6961\n",
              "3   Bream   363.0    29.0      33.5  12.7300  4.4555\n",
              "4   Bream   430.0    29.0      34.0  12.4440  5.1340"
            ],
            "text/html": [
              "\n",
              "  <div id=\"df-e7c5b6cf-60ee-4799-8615-c2ae55941018\">\n",
              "    <div class=\"colab-df-container\">\n",
              "      <div>\n",
              "<style scoped>\n",
              "    .dataframe tbody tr th:only-of-type {\n",
              "        vertical-align: middle;\n",
              "    }\n",
              "\n",
              "    .dataframe tbody tr th {\n",
              "        vertical-align: top;\n",
              "    }\n",
              "\n",
              "    .dataframe thead th {\n",
              "        text-align: right;\n",
              "    }\n",
              "</style>\n",
              "<table border=\"1\" class=\"dataframe\">\n",
              "  <thead>\n",
              "    <tr style=\"text-align: right;\">\n",
              "      <th></th>\n",
              "      <th>Species</th>\n",
              "      <th>Weight</th>\n",
              "      <th>Length</th>\n",
              "      <th>Diagonal</th>\n",
              "      <th>Height</th>\n",
              "      <th>Width</th>\n",
              "    </tr>\n",
              "  </thead>\n",
              "  <tbody>\n",
              "    <tr>\n",
              "      <th>0</th>\n",
              "      <td>Bream</td>\n",
              "      <td>242.0</td>\n",
              "      <td>25.4</td>\n",
              "      <td>30.0</td>\n",
              "      <td>11.5200</td>\n",
              "      <td>4.0200</td>\n",
              "    </tr>\n",
              "    <tr>\n",
              "      <th>1</th>\n",
              "      <td>Bream</td>\n",
              "      <td>290.0</td>\n",
              "      <td>26.3</td>\n",
              "      <td>31.2</td>\n",
              "      <td>12.4800</td>\n",
              "      <td>4.3056</td>\n",
              "    </tr>\n",
              "    <tr>\n",
              "      <th>2</th>\n",
              "      <td>Bream</td>\n",
              "      <td>340.0</td>\n",
              "      <td>26.5</td>\n",
              "      <td>31.1</td>\n",
              "      <td>12.3778</td>\n",
              "      <td>4.6961</td>\n",
              "    </tr>\n",
              "    <tr>\n",
              "      <th>3</th>\n",
              "      <td>Bream</td>\n",
              "      <td>363.0</td>\n",
              "      <td>29.0</td>\n",
              "      <td>33.5</td>\n",
              "      <td>12.7300</td>\n",
              "      <td>4.4555</td>\n",
              "    </tr>\n",
              "    <tr>\n",
              "      <th>4</th>\n",
              "      <td>Bream</td>\n",
              "      <td>430.0</td>\n",
              "      <td>29.0</td>\n",
              "      <td>34.0</td>\n",
              "      <td>12.4440</td>\n",
              "      <td>5.1340</td>\n",
              "    </tr>\n",
              "  </tbody>\n",
              "</table>\n",
              "</div>\n",
              "      <button class=\"colab-df-convert\" onclick=\"convertToInteractive('df-e7c5b6cf-60ee-4799-8615-c2ae55941018')\"\n",
              "              title=\"Convert this dataframe to an interactive table.\"\n",
              "              style=\"display:none;\">\n",
              "        \n",
              "  <svg xmlns=\"http://www.w3.org/2000/svg\" height=\"24px\"viewBox=\"0 0 24 24\"\n",
              "       width=\"24px\">\n",
              "    <path d=\"M0 0h24v24H0V0z\" fill=\"none\"/>\n",
              "    <path d=\"M18.56 5.44l.94 2.06.94-2.06 2.06-.94-2.06-.94-.94-2.06-.94 2.06-2.06.94zm-11 1L8.5 8.5l.94-2.06 2.06-.94-2.06-.94L8.5 2.5l-.94 2.06-2.06.94zm10 10l.94 2.06.94-2.06 2.06-.94-2.06-.94-.94-2.06-.94 2.06-2.06.94z\"/><path d=\"M17.41 7.96l-1.37-1.37c-.4-.4-.92-.59-1.43-.59-.52 0-1.04.2-1.43.59L10.3 9.45l-7.72 7.72c-.78.78-.78 2.05 0 2.83L4 21.41c.39.39.9.59 1.41.59.51 0 1.02-.2 1.41-.59l7.78-7.78 2.81-2.81c.8-.78.8-2.07 0-2.86zM5.41 20L4 18.59l7.72-7.72 1.47 1.35L5.41 20z\"/>\n",
              "  </svg>\n",
              "      </button>\n",
              "      \n",
              "  <style>\n",
              "    .colab-df-container {\n",
              "      display:flex;\n",
              "      flex-wrap:wrap;\n",
              "      gap: 12px;\n",
              "    }\n",
              "\n",
              "    .colab-df-convert {\n",
              "      background-color: #E8F0FE;\n",
              "      border: none;\n",
              "      border-radius: 50%;\n",
              "      cursor: pointer;\n",
              "      display: none;\n",
              "      fill: #1967D2;\n",
              "      height: 32px;\n",
              "      padding: 0 0 0 0;\n",
              "      width: 32px;\n",
              "    }\n",
              "\n",
              "    .colab-df-convert:hover {\n",
              "      background-color: #E2EBFA;\n",
              "      box-shadow: 0px 1px 2px rgba(60, 64, 67, 0.3), 0px 1px 3px 1px rgba(60, 64, 67, 0.15);\n",
              "      fill: #174EA6;\n",
              "    }\n",
              "\n",
              "    [theme=dark] .colab-df-convert {\n",
              "      background-color: #3B4455;\n",
              "      fill: #D2E3FC;\n",
              "    }\n",
              "\n",
              "    [theme=dark] .colab-df-convert:hover {\n",
              "      background-color: #434B5C;\n",
              "      box-shadow: 0px 1px 3px 1px rgba(0, 0, 0, 0.15);\n",
              "      filter: drop-shadow(0px 1px 2px rgba(0, 0, 0, 0.3));\n",
              "      fill: #FFFFFF;\n",
              "    }\n",
              "  </style>\n",
              "\n",
              "      <script>\n",
              "        const buttonEl =\n",
              "          document.querySelector('#df-e7c5b6cf-60ee-4799-8615-c2ae55941018 button.colab-df-convert');\n",
              "        buttonEl.style.display =\n",
              "          google.colab.kernel.accessAllowed ? 'block' : 'none';\n",
              "\n",
              "        async function convertToInteractive(key) {\n",
              "          const element = document.querySelector('#df-e7c5b6cf-60ee-4799-8615-c2ae55941018');\n",
              "          const dataTable =\n",
              "            await google.colab.kernel.invokeFunction('convertToInteractive',\n",
              "                                                     [key], {});\n",
              "          if (!dataTable) return;\n",
              "\n",
              "          const docLinkHtml = 'Like what you see? Visit the ' +\n",
              "            '<a target=\"_blank\" href=https://colab.research.google.com/notebooks/data_table.ipynb>data table notebook</a>'\n",
              "            + ' to learn more about interactive tables.';\n",
              "          element.innerHTML = '';\n",
              "          dataTable['output_type'] = 'display_data';\n",
              "          await google.colab.output.renderOutput(dataTable, element);\n",
              "          const docLink = document.createElement('div');\n",
              "          docLink.innerHTML = docLinkHtml;\n",
              "          element.appendChild(docLink);\n",
              "        }\n",
              "      </script>\n",
              "    </div>\n",
              "  </div>\n",
              "  "
            ]
          },
          "metadata": {},
          "execution_count": 4
        }
      ]
    },
    {
      "cell_type": "markdown",
      "source": [
        "*  이진 분류: Bream(도미) vs Smelt(빙어)\n",
        "*  독립변수: Weight(무게), Length(길이)"
      ],
      "metadata": {
        "id": "Ofd2F4TxmVka"
      }
    },
    {
      "cell_type": "code",
      "source": [
        "# 데이터 - 물고기의 무게와 길이를 저장한 2차원 배열\n",
        "X = fish.loc[fish.Species.isin(['Bream', 'Smelt']), ['Weight', 'Length']].values"
      ],
      "metadata": {
        "id": "eZt-MrhAmEKB"
      },
      "execution_count": null,
      "outputs": []
    },
    {
      "cell_type": "code",
      "source": [
        "X.shape"
      ],
      "metadata": {
        "colab": {
          "base_uri": "https://localhost:8080/"
        },
        "id": "xLZCTKGxnCo2",
        "outputId": "9e9f8a03-7a49-4e2a-f325-04cb2ecab266"
      },
      "execution_count": null,
      "outputs": [
        {
          "output_type": "execute_result",
          "data": {
            "text/plain": [
              "(49, 2)"
            ]
          },
          "metadata": {},
          "execution_count": 6
        }
      ]
    },
    {
      "cell_type": "code",
      "source": [
        "X[:5]"
      ],
      "metadata": {
        "colab": {
          "base_uri": "https://localhost:8080/"
        },
        "id": "MUGYx7jOnDue",
        "outputId": "018fa044-e345-4111-b400-4f7a13d7b535"
      },
      "execution_count": null,
      "outputs": [
        {
          "output_type": "execute_result",
          "data": {
            "text/plain": [
              "array([[242. ,  25.4],\n",
              "       [290. ,  26.3],\n",
              "       [340. ,  26.5],\n",
              "       [363. ,  29. ],\n",
              "       [430. ,  29. ]])"
            ]
          },
          "metadata": {},
          "execution_count": 7
        }
      ]
    },
    {
      "cell_type": "code",
      "source": [
        "# 타겟(레이블, 종속변수, 관심변수) - 물고기 종류를 저장한 1차원 배열\n",
        "y = fish.loc[fish.Species.isin(['Bream', 'Smelt']), 'Species'].values"
      ],
      "metadata": {
        "id": "cfKy42t3nNhL"
      },
      "execution_count": null,
      "outputs": []
    },
    {
      "cell_type": "code",
      "source": [
        "y.shape"
      ],
      "metadata": {
        "colab": {
          "base_uri": "https://localhost:8080/"
        },
        "id": "gJKPY-Lmnn_w",
        "outputId": "01c040ea-8fbb-451c-cbbe-228a1763fe9d"
      },
      "execution_count": null,
      "outputs": [
        {
          "output_type": "execute_result",
          "data": {
            "text/plain": [
              "(49,)"
            ]
          },
          "metadata": {},
          "execution_count": 9
        }
      ]
    },
    {
      "cell_type": "code",
      "source": [
        "y"
      ],
      "metadata": {
        "colab": {
          "base_uri": "https://localhost:8080/"
        },
        "id": "0T0sOHzDnpcA",
        "outputId": "e722a212-6fd2-4548-e007-057583066b05"
      },
      "execution_count": null,
      "outputs": [
        {
          "output_type": "execute_result",
          "data": {
            "text/plain": [
              "array(['Bream', 'Bream', 'Bream', 'Bream', 'Bream', 'Bream', 'Bream',\n",
              "       'Bream', 'Bream', 'Bream', 'Bream', 'Bream', 'Bream', 'Bream',\n",
              "       'Bream', 'Bream', 'Bream', 'Bream', 'Bream', 'Bream', 'Bream',\n",
              "       'Bream', 'Bream', 'Bream', 'Bream', 'Bream', 'Bream', 'Bream',\n",
              "       'Bream', 'Bream', 'Bream', 'Bream', 'Bream', 'Bream', 'Bream',\n",
              "       'Smelt', 'Smelt', 'Smelt', 'Smelt', 'Smelt', 'Smelt', 'Smelt',\n",
              "       'Smelt', 'Smelt', 'Smelt', 'Smelt', 'Smelt', 'Smelt', 'Smelt'],\n",
              "      dtype=object)"
            ]
          },
          "metadata": {},
          "execution_count": 10
        }
      ]
    },
    {
      "cell_type": "markdown",
      "source": [
        "# 훈련 셋/테스트 셋 분리"
      ],
      "metadata": {
        "id": "q2mqm6LJqAwp"
      }
    },
    {
      "cell_type": "markdown",
      "source": [
        "## 순차 추출(sequential sampling)"
      ],
      "metadata": {
        "id": "o6y1K5JjtbSh"
      }
    },
    {
      "cell_type": "code",
      "source": [
        "# 훈련 셋과 테스트 셋의 비율을 7:3 비율로 나눔.\n",
        "num_trains = 35  # 훈련 셋의 샘플 개수"
      ],
      "metadata": {
        "id": "TBmiAVuEtbCe"
      },
      "execution_count": null,
      "outputs": []
    },
    {
      "cell_type": "code",
      "source": [
        "X_train = X[:num_trains]  # 훈련 셋\n",
        "X_test = X[num_trains:]  # 테스트 셋\n",
        "y_train = y[:num_trains]  # 훈련 레이블\n",
        "y_test = y[num_trains:]  # 테스트 레이블"
      ],
      "metadata": {
        "id": "SNJVPgTXta-5"
      },
      "execution_count": null,
      "outputs": []
    },
    {
      "cell_type": "code",
      "source": [
        "X_train.shape, X_test.shape"
      ],
      "metadata": {
        "colab": {
          "base_uri": "https://localhost:8080/"
        },
        "id": "gRuu_tUToH4m",
        "outputId": "41953e07-618f-4473-e56c-ac6b0fa77ff3"
      },
      "execution_count": null,
      "outputs": [
        {
          "output_type": "execute_result",
          "data": {
            "text/plain": [
              "((35, 2), (14, 2))"
            ]
          },
          "metadata": {},
          "execution_count": 13
        }
      ]
    },
    {
      "cell_type": "code",
      "source": [
        "X_train[:5]"
      ],
      "metadata": {
        "colab": {
          "base_uri": "https://localhost:8080/"
        },
        "id": "GyCXel9muc9b",
        "outputId": "67e1bb7e-29e2-4949-cab2-591e5c4367ee"
      },
      "execution_count": null,
      "outputs": [
        {
          "output_type": "execute_result",
          "data": {
            "text/plain": [
              "array([[242. ,  25.4],\n",
              "       [290. ,  26.3],\n",
              "       [340. ,  26.5],\n",
              "       [363. ,  29. ],\n",
              "       [430. ,  29. ]])"
            ]
          },
          "metadata": {},
          "execution_count": 14
        }
      ]
    },
    {
      "cell_type": "code",
      "source": [
        "y_train.shape, y_test.shape"
      ],
      "metadata": {
        "colab": {
          "base_uri": "https://localhost:8080/"
        },
        "id": "KQ4arYV0u2Mu",
        "outputId": "9d6a0d01-4fad-41ef-dfbd-2316977af565"
      },
      "execution_count": null,
      "outputs": [
        {
          "output_type": "execute_result",
          "data": {
            "text/plain": [
              "((35,), (14,))"
            ]
          },
          "metadata": {},
          "execution_count": 15
        }
      ]
    },
    {
      "cell_type": "code",
      "source": [
        "y_train"
      ],
      "metadata": {
        "colab": {
          "base_uri": "https://localhost:8080/"
        },
        "id": "O8jQIi__vDcV",
        "outputId": "d338f8a7-8f3f-4225-8b55-aaa9a728e6ed"
      },
      "execution_count": null,
      "outputs": [
        {
          "output_type": "execute_result",
          "data": {
            "text/plain": [
              "array(['Bream', 'Bream', 'Bream', 'Bream', 'Bream', 'Bream', 'Bream',\n",
              "       'Bream', 'Bream', 'Bream', 'Bream', 'Bream', 'Bream', 'Bream',\n",
              "       'Bream', 'Bream', 'Bream', 'Bream', 'Bream', 'Bream', 'Bream',\n",
              "       'Bream', 'Bream', 'Bream', 'Bream', 'Bream', 'Bream', 'Bream',\n",
              "       'Bream', 'Bream', 'Bream', 'Bream', 'Bream', 'Bream', 'Bream'],\n",
              "      dtype=object)"
            ]
          },
          "metadata": {},
          "execution_count": 16
        }
      ]
    },
    {
      "cell_type": "code",
      "source": [
        "y_test"
      ],
      "metadata": {
        "colab": {
          "base_uri": "https://localhost:8080/"
        },
        "id": "3RZbETokvIjX",
        "outputId": "ce34d1bb-746e-4796-b004-985ca9d6642f"
      },
      "execution_count": null,
      "outputs": [
        {
          "output_type": "execute_result",
          "data": {
            "text/plain": [
              "array(['Smelt', 'Smelt', 'Smelt', 'Smelt', 'Smelt', 'Smelt', 'Smelt',\n",
              "       'Smelt', 'Smelt', 'Smelt', 'Smelt', 'Smelt', 'Smelt', 'Smelt'],\n",
              "      dtype=object)"
            ]
          },
          "metadata": {},
          "execution_count": 17
        }
      ]
    },
    {
      "cell_type": "code",
      "source": [
        "np.unique(y_train, return_counts=True)\n",
        "#> return: y_train 배열에서 unique한 값들로 이루어진 배열, unique한 값들의 개수들의 배열."
      ],
      "metadata": {
        "colab": {
          "base_uri": "https://localhost:8080/"
        },
        "id": "opw5KR_avKUA",
        "outputId": "e06c132a-ae37-4022-f8cb-23f3aa0318d1"
      },
      "execution_count": null,
      "outputs": [
        {
          "output_type": "execute_result",
          "data": {
            "text/plain": [
              "(array(['Bream'], dtype=object), array([35]))"
            ]
          },
          "metadata": {},
          "execution_count": 18
        }
      ]
    },
    {
      "cell_type": "code",
      "source": [
        "np.unique(y_test, return_counts=True)"
      ],
      "metadata": {
        "colab": {
          "base_uri": "https://localhost:8080/"
        },
        "id": "rMRHRmPAv5CG",
        "outputId": "83cb4079-960c-45d8-e7fd-7643b88ac1bb"
      },
      "execution_count": null,
      "outputs": [
        {
          "output_type": "execute_result",
          "data": {
            "text/plain": [
              "(array(['Smelt'], dtype=object), array([14]))"
            ]
          },
          "metadata": {},
          "execution_count": 19
        }
      ]
    },
    {
      "cell_type": "markdown",
      "source": [
        "특성 행렬(데이터)이 무작위로 섞여있지 않고 물고기 종류에 대해서 정렬된 상태였기 때문에, 훈련 셋과 훈련 레이블에서는 도미(Bream)만 선택됐고, 테스트 셋과 테스트 레이블에서는 빙어(Smelt)만 선택됨. --> __샘플링 편향(sampling bias)__"
      ],
      "metadata": {
        "id": "zu2i8UcowiDz"
      }
    },
    {
      "cell_type": "markdown",
      "source": [
        "### KNN 모델을 훈련, 평가"
      ],
      "metadata": {
        "id": "8M_iWF31xJdr"
      }
    },
    {
      "cell_type": "code",
      "source": [
        "knn = KNeighborsClassifier()  # 모델 생성"
      ],
      "metadata": {
        "id": "TwEGlgXNwJ9-"
      },
      "execution_count": null,
      "outputs": []
    },
    {
      "cell_type": "code",
      "source": [
        "knn.fit(X_train, y_train)  # 모델 훈련"
      ],
      "metadata": {
        "colab": {
          "base_uri": "https://localhost:8080/"
        },
        "id": "Ytl6wvlwxPGn",
        "outputId": "04d07d14-b71c-4919-92c7-12254e280db3"
      },
      "execution_count": null,
      "outputs": [
        {
          "output_type": "execute_result",
          "data": {
            "text/plain": [
              "KNeighborsClassifier()"
            ]
          },
          "metadata": {},
          "execution_count": 21
        }
      ]
    },
    {
      "cell_type": "code",
      "source": [
        "train_acc = knn.score(X_train, y_train)  # 훈련 셋에서의 정확도\n",
        "train_acc"
      ],
      "metadata": {
        "colab": {
          "base_uri": "https://localhost:8080/"
        },
        "id": "T6GKHJWSxTaQ",
        "outputId": "e90d71d3-2a5d-4b06-dbaa-f8a2d3d0b44f"
      },
      "execution_count": null,
      "outputs": [
        {
          "output_type": "execute_result",
          "data": {
            "text/plain": [
              "1.0"
            ]
          },
          "metadata": {},
          "execution_count": 22
        }
      ]
    },
    {
      "cell_type": "code",
      "source": [
        "test_acc = knn.score(X_test, y_test)  # 테스트 셋에서의 정확도\n",
        "test_acc"
      ],
      "metadata": {
        "colab": {
          "base_uri": "https://localhost:8080/"
        },
        "id": "9UgZWy1K4dAV",
        "outputId": "1e0d8b14-a6a8-40bd-b3f0-597b3e9eec1c"
      },
      "execution_count": null,
      "outputs": [
        {
          "output_type": "execute_result",
          "data": {
            "text/plain": [
              "0.0"
            ]
          },
          "metadata": {},
          "execution_count": 23
        }
      ]
    },
    {
      "cell_type": "code",
      "source": [
        "knn.predict(X_test)  # 테스트 셋의 예측값"
      ],
      "metadata": {
        "colab": {
          "base_uri": "https://localhost:8080/"
        },
        "id": "fEoJpWU94d7N",
        "outputId": "e65eeec1-c1a2-4017-85b0-efdb3479f66b"
      },
      "execution_count": null,
      "outputs": [
        {
          "output_type": "execute_result",
          "data": {
            "text/plain": [
              "array(['Bream', 'Bream', 'Bream', 'Bream', 'Bream', 'Bream', 'Bream',\n",
              "       'Bream', 'Bream', 'Bream', 'Bream', 'Bream', 'Bream', 'Bream'],\n",
              "      dtype=object)"
            ]
          },
          "metadata": {},
          "execution_count": 24
        }
      ]
    },
    {
      "cell_type": "code",
      "source": [
        "X_train, X_test, y_train, y_test = train_test_split(X, y,\n",
        "                 train_size=35,  # 훈련 셋의 샘플 개수\n",
        "                 shuffle=False)  # 데이터를 무작위로 섞을 것인 지.\n",
        "# shuffle=False: 순차 추출(sequential sampling)"
      ],
      "metadata": {
        "id": "67I8rF0y4etu"
      },
      "execution_count": null,
      "outputs": []
    },
    {
      "cell_type": "code",
      "source": [
        "X_train.shape, X_test.shape, y_train.shape, y_test.shape"
      ],
      "metadata": {
        "colab": {
          "base_uri": "https://localhost:8080/"
        },
        "id": "8br9p-AG4fqt",
        "outputId": "8be0e484-6e65-4855-db40-bc450a83e14c"
      },
      "execution_count": null,
      "outputs": [
        {
          "output_type": "execute_result",
          "data": {
            "text/plain": [
              "((35, 2), (14, 2), (35,), (14,))"
            ]
          },
          "metadata": {},
          "execution_count": 26
        }
      ]
    },
    {
      "cell_type": "code",
      "source": [
        "np.unique(y_train, return_counts=True)"
      ],
      "metadata": {
        "colab": {
          "base_uri": "https://localhost:8080/"
        },
        "id": "8tg4-Np34g2u",
        "outputId": "d721fa18-27e5-4d15-8e7b-14c16bafb733"
      },
      "execution_count": null,
      "outputs": [
        {
          "output_type": "execute_result",
          "data": {
            "text/plain": [
              "(array(['Bream'], dtype=object), array([35]))"
            ]
          },
          "metadata": {},
          "execution_count": 27
        }
      ]
    },
    {
      "cell_type": "code",
      "source": [
        "np.unique(y_test, return_counts=True)"
      ],
      "metadata": {
        "colab": {
          "base_uri": "https://localhost:8080/"
        },
        "id": "I9TB5mpi4hoX",
        "outputId": "b54a4277-b484-4c9c-def9-1fc90d887c2a"
      },
      "execution_count": null,
      "outputs": [
        {
          "output_type": "execute_result",
          "data": {
            "text/plain": [
              "(array(['Smelt'], dtype=object), array([14]))"
            ]
          },
          "metadata": {},
          "execution_count": 28
        }
      ]
    },
    {
      "cell_type": "markdown",
      "source": [
        "## 임의 추출(random sampling)"
      ],
      "metadata": {
        "id": "14yRNT6o4i2l"
      }
    },
    {
      "cell_type": "code",
      "source": [
        "idx = np.arange(49)\n",
        "print(idx)\n",
        "\n",
        "np.random.seed(1)\n",
        "np.random.shuffle(idx)  # 배열 idx를 무작위로 섞음.\n",
        "print(idx)"
      ],
      "metadata": {
        "colab": {
          "base_uri": "https://localhost:8080/"
        },
        "id": "XkuTKV3A4ib_",
        "outputId": "a1f549c0-2a4f-4e6f-d668-84014633b494"
      },
      "execution_count": null,
      "outputs": [
        {
          "output_type": "stream",
          "name": "stdout",
          "text": [
            "[ 0  1  2  3  4  5  6  7  8  9 10 11 12 13 14 15 16 17 18 19 20 21 22 23\n",
            " 24 25 26 27 28 29 30 31 32 33 34 35 36 37 38 39 40 41 42 43 44 45 46 47\n",
            " 48]\n",
            "[27 34 39 48  2  3 42 29 45 30 31 38 21 35 19 41 36 26 22 13 40 17 44 24\n",
            " 23  4 32 14 10 28 47 33 18 20 25  6  7 46  1 16  0 15  5 11  9  8 12 43\n",
            " 37]\n"
          ]
        }
      ]
    },
    {
      "cell_type": "code",
      "source": [
        "train_idx = idx[:35]\n",
        "print(train_idx)\n",
        "test_idx = idx[35:]\n",
        "print(test_idx)"
      ],
      "metadata": {
        "colab": {
          "base_uri": "https://localhost:8080/"
        },
        "id": "FkuWkPkx4kZw",
        "outputId": "792a164b-7694-48c6-9986-c0a5b7aad5ce"
      },
      "execution_count": null,
      "outputs": [
        {
          "output_type": "stream",
          "name": "stdout",
          "text": [
            "[27 34 39 48  2  3 42 29 45 30 31 38 21 35 19 41 36 26 22 13 40 17 44 24\n",
            " 23  4 32 14 10 28 47 33 18 20 25]\n",
            "[ 6  7 46  1 16  0 15  5 11  9  8 12 43 37]\n"
          ]
        }
      ]
    },
    {
      "cell_type": "code",
      "source": [
        "X_train = X[train_idx]  # 훈련 셋\n",
        "y_train = y[train_idx]  # 훈련 레이블"
      ],
      "metadata": {
        "id": "bIKYWfwF4lJg"
      },
      "execution_count": null,
      "outputs": []
    },
    {
      "cell_type": "code",
      "source": [
        "np.unique(y_train, return_counts=True)"
      ],
      "metadata": {
        "colab": {
          "base_uri": "https://localhost:8080/"
        },
        "id": "AQLqRLLl4mFo",
        "outputId": "6b83f695-2368-4d05-ed3a-9e39530c0289"
      },
      "execution_count": null,
      "outputs": [
        {
          "output_type": "execute_result",
          "data": {
            "text/plain": [
              "(array(['Bream', 'Smelt'], dtype=object), array([24, 11]))"
            ]
          },
          "metadata": {},
          "execution_count": 32
        }
      ]
    },
    {
      "cell_type": "code",
      "source": [
        "X_test = X[test_idx]  # 테스트 셋\n",
        "y_test = y[test_idx]  # 테스트 레이블"
      ],
      "metadata": {
        "id": "fUvdEXFl4myZ"
      },
      "execution_count": null,
      "outputs": []
    },
    {
      "cell_type": "code",
      "source": [
        "np.unique(y_test, return_counts=True)"
      ],
      "metadata": {
        "colab": {
          "base_uri": "https://localhost:8080/"
        },
        "id": "bOLQ1-OF4nbh",
        "outputId": "977eda75-b98f-4de0-bc6f-be71791d7911"
      },
      "execution_count": null,
      "outputs": [
        {
          "output_type": "execute_result",
          "data": {
            "text/plain": [
              "(array(['Bream', 'Smelt'], dtype=object), array([11,  3]))"
            ]
          },
          "metadata": {},
          "execution_count": 34
        }
      ]
    },
    {
      "cell_type": "code",
      "source": [
        "X_train, X_test, y_train, y_test = train_test_split(X, y,\n",
        "                                                    train_size=35,\n",
        "                                                    random_state=1,  # 난수 seed 설정\n",
        "                                                    shuffle=True)  # 임의 추출"
      ],
      "metadata": {
        "id": "dbXPsIgf4oRx"
      },
      "execution_count": null,
      "outputs": []
    },
    {
      "cell_type": "code",
      "source": [
        "X_train.shape, X_test.shape"
      ],
      "metadata": {
        "colab": {
          "base_uri": "https://localhost:8080/"
        },
        "id": "VyYCV_HaG2eJ",
        "outputId": "2fed0276-eba3-4f62-97e3-2cfc109f4f07"
      },
      "execution_count": null,
      "outputs": [
        {
          "output_type": "execute_result",
          "data": {
            "text/plain": [
              "((35, 2), (14, 2))"
            ]
          },
          "metadata": {},
          "execution_count": 36
        }
      ]
    },
    {
      "cell_type": "code",
      "source": [
        "y_train.shape, y_test.shape"
      ],
      "metadata": {
        "colab": {
          "base_uri": "https://localhost:8080/"
        },
        "id": "4rQCAgfoG4IR",
        "outputId": "c480df5b-6d41-4c81-c95f-43e713a5fd3e"
      },
      "execution_count": null,
      "outputs": [
        {
          "output_type": "execute_result",
          "data": {
            "text/plain": [
              "((35,), (14,))"
            ]
          },
          "metadata": {},
          "execution_count": 37
        }
      ]
    },
    {
      "cell_type": "code",
      "source": [
        "np.unique(y_train, return_counts=True)"
      ],
      "metadata": {
        "colab": {
          "base_uri": "https://localhost:8080/"
        },
        "id": "KSAV4E01G45a",
        "outputId": "3e63c9ae-63d2-4a48-eaa1-def1515d26af"
      },
      "execution_count": null,
      "outputs": [
        {
          "output_type": "execute_result",
          "data": {
            "text/plain": [
              "(array(['Bream', 'Smelt'], dtype=object), array([27,  8]))"
            ]
          },
          "metadata": {},
          "execution_count": 38
        }
      ]
    },
    {
      "cell_type": "code",
      "source": [
        "np.unique(y_test, return_counts=True)"
      ],
      "metadata": {
        "colab": {
          "base_uri": "https://localhost:8080/"
        },
        "id": "cZGMP8rUG6KC",
        "outputId": "89ca8353-cbbe-4e6b-9efb-a3b29afc3019"
      },
      "execution_count": null,
      "outputs": [
        {
          "output_type": "execute_result",
          "data": {
            "text/plain": [
              "(array(['Bream', 'Smelt'], dtype=object), array([8, 6]))"
            ]
          },
          "metadata": {},
          "execution_count": 39
        }
      ]
    },
    {
      "cell_type": "markdown",
      "source": [
        "### 임의 추출 샘플에서 KNN 훈련, 평가"
      ],
      "metadata": {
        "id": "Byoh7LcmG8Oq"
      }
    },
    {
      "cell_type": "code",
      "source": [
        "knn = KNeighborsClassifier()  # 모델 생성"
      ],
      "metadata": {
        "id": "TjULqiTuG7pb"
      },
      "execution_count": null,
      "outputs": []
    },
    {
      "cell_type": "code",
      "source": [
        "knn.fit(X_train, y_train)  # 모델 훈련 - 지도 학습"
      ],
      "metadata": {
        "colab": {
          "base_uri": "https://localhost:8080/"
        },
        "id": "pw1CeLxYG-vV",
        "outputId": "7959fff9-4ba1-4db2-e0bf-f70359f364b1"
      },
      "execution_count": null,
      "outputs": [
        {
          "output_type": "execute_result",
          "data": {
            "text/plain": [
              "KNeighborsClassifier()"
            ]
          },
          "metadata": {},
          "execution_count": 41
        }
      ]
    },
    {
      "cell_type": "code",
      "source": [
        "knn.score(X_train, y_train)  # 훈련 셋에서의 정확도"
      ],
      "metadata": {
        "colab": {
          "base_uri": "https://localhost:8080/"
        },
        "id": "T1qeV8tZG_d9",
        "outputId": "d14244cc-dabc-410a-ddcf-60520a4153c3"
      },
      "execution_count": null,
      "outputs": [
        {
          "output_type": "execute_result",
          "data": {
            "text/plain": [
              "1.0"
            ]
          },
          "metadata": {},
          "execution_count": 42
        }
      ]
    },
    {
      "cell_type": "code",
      "source": [
        "knn.score(X_test, y_test)  # 테스트 셋에서의 정확도"
      ],
      "metadata": {
        "colab": {
          "base_uri": "https://localhost:8080/"
        },
        "id": "NxrMxH7AHAvG",
        "outputId": "642bc502-31b8-4d50-b158-341385c3b9bd"
      },
      "execution_count": null,
      "outputs": [
        {
          "output_type": "execute_result",
          "data": {
            "text/plain": [
              "1.0"
            ]
          },
          "metadata": {},
          "execution_count": 43
        }
      ]
    },
    {
      "cell_type": "code",
      "source": [
        "# 훈련 셋과 테스트 셋 시각화\n",
        "plt.scatter(X_train[:, 1], X_train[:, 0], label='Train', alpha=0.4)\n",
        "plt.scatter(X_test[:, 1], X_test[:, 0], label='Test', alpha=0.4)\n",
        "\n",
        "plt.legend()  # 범례 표시\n",
        "plt.xlabel('Length (cm)')\n",
        "plt.ylabel('Weight (g)')\n",
        "plt.show()"
      ],
      "metadata": {
        "colab": {
          "base_uri": "https://localhost:8080/",
          "height": 279
        },
        "id": "IH2hu2fBHBZG",
        "outputId": "f83c9234-637d-4c4f-e439-09a7e1d93cb7"
      },
      "execution_count": null,
      "outputs": [
        {
          "output_type": "display_data",
          "data": {
            "text/plain": [
              "<Figure size 432x288 with 1 Axes>"
            ],
            "image/png": "[encoded data removed]"
          },
          "metadata": {
            "needs_background": "light"
          }
        }
      ]
    },
    {
      "cell_type": "markdown",
      "source": [
        "### 임의 추출의 문제점"
      ],
      "metadata": {
        "id": "W7i0pyh5HDRH"
      }
    },
    {
      "cell_type": "code",
      "source": [
        "species, counts = np.unique(y, return_counts=True)\n",
        "print(species)\n",
        "print(counts)"
      ],
      "metadata": {
        "colab": {
          "base_uri": "https://localhost:8080/"
        },
        "id": "AP2yh-91HCY-",
        "outputId": "731a838f-d350-4a4e-e08f-a8f1ada97b1d"
      },
      "execution_count": null,
      "outputs": [
        {
          "output_type": "stream",
          "name": "stdout",
          "text": [
            "['Bream' 'Smelt']\n",
            "[35 14]\n"
          ]
        }
      ]
    },
    {
      "cell_type": "code",
      "source": [
        "counts / 49  # 전체 샘플에서 도미와 빙어의 비율"
      ],
      "metadata": {
        "colab": {
          "base_uri": "https://localhost:8080/"
        },
        "id": "rXnitMgOHEq_",
        "outputId": "db572531-f152-4855-9756-f01d0dd81f19"
      },
      "execution_count": null,
      "outputs": [
        {
          "output_type": "execute_result",
          "data": {
            "text/plain": [
              "array([0.71428571, 0.28571429])"
            ]
          },
          "metadata": {},
          "execution_count": 46
        }
      ]
    },
    {
      "cell_type": "code",
      "source": [
        "tr_species, tr_counts = np.unique(y_train, return_counts=True)\n",
        "print(tr_species)\n",
        "print(tr_counts)"
      ],
      "metadata": {
        "colab": {
          "base_uri": "https://localhost:8080/"
        },
        "id": "KmWtxSTNHFoY",
        "outputId": "22d48dad-5f5b-4455-abff-46fb87dc4807"
      },
      "execution_count": null,
      "outputs": [
        {
          "output_type": "stream",
          "name": "stdout",
          "text": [
            "['Bream' 'Smelt']\n",
            "[27  8]\n"
          ]
        }
      ]
    },
    {
      "cell_type": "code",
      "source": [
        "tr_counts / 35  # 훈련 레이블에서 도미(Bream)와 빙어(Smelt)의 비율"
      ],
      "metadata": {
        "colab": {
          "base_uri": "https://localhost:8080/"
        },
        "id": "_sP4khhLHGfQ",
        "outputId": "d548037c-7cdb-4876-8905-ac3e8941f3a9"
      },
      "execution_count": null,
      "outputs": [
        {
          "output_type": "execute_result",
          "data": {
            "text/plain": [
              "array([0.77142857, 0.22857143])"
            ]
          },
          "metadata": {},
          "execution_count": 48
        }
      ]
    },
    {
      "cell_type": "code",
      "source": [
        "te_species, te_counts = np.unique(y_test, return_counts=True)\n",
        "print(te_species)\n",
        "print(te_counts)"
      ],
      "metadata": {
        "colab": {
          "base_uri": "https://localhost:8080/"
        },
        "id": "hSF7KJulHHYR",
        "outputId": "3b2c5125-219e-4f1b-901c-3110defd41f8"
      },
      "execution_count": null,
      "outputs": [
        {
          "output_type": "stream",
          "name": "stdout",
          "text": [
            "['Bream' 'Smelt']\n",
            "[8 6]\n"
          ]
        }
      ]
    },
    {
      "cell_type": "code",
      "source": [
        "te_counts / 14  # 테스트 레이블에서 도미와 빙어의 비율"
      ],
      "metadata": {
        "colab": {
          "base_uri": "https://localhost:8080/"
        },
        "id": "m4sZ0F8FHIMZ",
        "outputId": "a7a0cf92-3b52-4b4f-96e3-b3c72489c317"
      },
      "execution_count": null,
      "outputs": [
        {
          "output_type": "execute_result",
          "data": {
            "text/plain": [
              "array([0.57142857, 0.42857143])"
            ]
          },
          "metadata": {},
          "execution_count": 50
        }
      ]
    },
    {
      "cell_type": "markdown",
      "source": [
        "임의 추출에서는 전체 샘플에서 각 클래스(도미, 빙어)의 비율이 훈련 셋과 테스트 셋에서 유지되지 않을 수도 있음.\n",
        "\n",
        "그런 경우, 머신 러닝 모델의 성능이 안 좋아질 수 있음.\n",
        "\n",
        "전체 샘플에서 각 클래스의 비율이 훈련 셋과 테스트 셋에서도 비슷하게 유지되도록 샘플링하는 것이 중요."
      ],
      "metadata": {
        "id": "D9N-QZ_8HJiw"
      }
    },
    {
      "cell_type": "markdown",
      "source": [
        "## 층화 추출(stratified sampling)"
      ],
      "metadata": {
        "id": "LslW3rrCHK5Q"
      }
    },
    {
      "cell_type": "code",
      "source": [
        "X_train, X_test, y_train, y_test = train_test_split(X, y,\n",
        "                                                    test_size=0.3,\n",
        "                                                    random_state=1,\n",
        "                                                    shuffle=True,\n",
        "                                                    stratify=y)\n",
        "# train_test_split 함수의 파라미터:\n",
        "#   X, y: 훈련/테스트로 나눌 배열들.\n",
        "#   test_size: 정수이면 테스트 셋의 샘플 개수, 0 ~ 1 사이의 실수이면 테스트 셋의 비율.\n",
        "#   train_size: 정수이면 훈련 셋의 샘플 개수, 0 ~ 1 사이의 실수이면 훈련 셋의 비율.\n",
        "#   test_size 또는 train_size 둘 중 하나가 결정되면, 나머지 하나는 자동으로 계산.\n",
        "#   shuffle: True=샘플들을 무작위로 섞음. False=샘플들을 섞지 않음. True가 기본값.\n",
        "#   stratify: 층화 추출의 기분이 되는(각 클래스의 비율을 알 수 있는) 1차원 배열.\n",
        "#   random_state: 난수 seed 설정값."
      ],
      "metadata": {
        "id": "JqneR8IyHI-B"
      },
      "execution_count": null,
      "outputs": []
    },
    {
      "cell_type": "code",
      "source": [
        "X_train.shape, X_test.shape"
      ],
      "metadata": {
        "colab": {
          "base_uri": "https://localhost:8080/"
        },
        "id": "ogufrAsVHNd1",
        "outputId": "8caed0f2-8ed7-4949-bfa8-e43a48755871"
      },
      "execution_count": null,
      "outputs": [
        {
          "output_type": "execute_result",
          "data": {
            "text/plain": [
              "((34, 2), (15, 2))"
            ]
          },
          "metadata": {},
          "execution_count": 52
        }
      ]
    },
    {
      "cell_type": "code",
      "source": [
        "y_train.shape, y_test.shape"
      ],
      "metadata": {
        "colab": {
          "base_uri": "https://localhost:8080/"
        },
        "id": "SzpLKDHtHO7c",
        "outputId": "91f35deb-007a-4e44-8d24-039718db745c"
      },
      "execution_count": null,
      "outputs": [
        {
          "output_type": "execute_result",
          "data": {
            "text/plain": [
              "((34,), (15,))"
            ]
          },
          "metadata": {},
          "execution_count": 53
        }
      ]
    },
    {
      "cell_type": "code",
      "source": [
        "tr_species, tr_counts = np.unique(y_train, return_counts=True)\n",
        "print(tr_species)\n",
        "print(tr_counts)"
      ],
      "metadata": {
        "colab": {
          "base_uri": "https://localhost:8080/"
        },
        "id": "IfAbPK8UHP4U",
        "outputId": "d34861db-1f3b-4e94-e013-a1f0855c60f0"
      },
      "execution_count": null,
      "outputs": [
        {
          "output_type": "stream",
          "name": "stdout",
          "text": [
            "['Bream' 'Smelt']\n",
            "[24 10]\n"
          ]
        }
      ]
    },
    {
      "cell_type": "code",
      "source": [
        "tr_counts / 34"
      ],
      "metadata": {
        "colab": {
          "base_uri": "https://localhost:8080/"
        },
        "id": "ds4w9o4_HQit",
        "outputId": "6d91ac96-e2a2-43a6-ca63-110a9de46d2f"
      },
      "execution_count": null,
      "outputs": [
        {
          "output_type": "execute_result",
          "data": {
            "text/plain": [
              "array([0.70588235, 0.29411765])"
            ]
          },
          "metadata": {},
          "execution_count": 55
        }
      ]
    },
    {
      "cell_type": "code",
      "source": [
        "te_species, te_counts = np.unique(y_test, return_counts=True)\n",
        "print(te_species)\n",
        "print(te_counts)"
      ],
      "metadata": {
        "colab": {
          "base_uri": "https://localhost:8080/"
        },
        "id": "xPSzH3c6HRZU",
        "outputId": "316e3ec3-d642-4f21-e35a-d455c3b90296"
      },
      "execution_count": null,
      "outputs": [
        {
          "output_type": "stream",
          "name": "stdout",
          "text": [
            "['Bream' 'Smelt']\n",
            "[11  4]\n"
          ]
        }
      ]
    },
    {
      "cell_type": "code",
      "source": [
        "te_counts / 15"
      ],
      "metadata": {
        "colab": {
          "base_uri": "https://localhost:8080/"
        },
        "id": "vugG3h0xHSMl",
        "outputId": "128eb0de-9321-4260-b9aa-8bf8993f619a"
      },
      "execution_count": null,
      "outputs": [
        {
          "output_type": "execute_result",
          "data": {
            "text/plain": [
              "array([0.73333333, 0.26666667])"
            ]
          },
          "metadata": {},
          "execution_count": 57
        }
      ]
    },
    {
      "cell_type": "markdown",
      "source": [
        "### 층화 추출 샘플에서 KNN 모델 훈련, 평가"
      ],
      "metadata": {
        "id": "h8eYBeAVYw1h"
      }
    },
    {
      "cell_type": "code",
      "source": [
        "knn = KNeighborsClassifier()  # 모델 생성"
      ],
      "metadata": {
        "id": "RF8hb1ePHS9d"
      },
      "execution_count": null,
      "outputs": []
    },
    {
      "cell_type": "code",
      "source": [
        "knn.fit(X_train, y_train)  # 모델 훈련"
      ],
      "metadata": {
        "colab": {
          "base_uri": "https://localhost:8080/"
        },
        "id": "OJxOrDGVY5ID",
        "outputId": "b2a73241-a448-41cc-e395-5781babbcebb"
      },
      "execution_count": null,
      "outputs": [
        {
          "output_type": "execute_result",
          "data": {
            "text/plain": [
              "KNeighborsClassifier()"
            ]
          },
          "metadata": {},
          "execution_count": 59
        }
      ]
    },
    {
      "cell_type": "code",
      "source": [
        "knn.score(X_train, y_train)  # 훈련 셋에서의 정확도"
      ],
      "metadata": {
        "colab": {
          "base_uri": "https://localhost:8080/"
        },
        "id": "6HfcmOHrY9XF",
        "outputId": "56417081-74e0-4c41-9350-d4a0c134096b"
      },
      "execution_count": null,
      "outputs": [
        {
          "output_type": "execute_result",
          "data": {
            "text/plain": [
              "1.0"
            ]
          },
          "metadata": {},
          "execution_count": 60
        }
      ]
    },
    {
      "cell_type": "code",
      "source": [
        "knn.score(X_test, y_test)  # 테스트 셋에서의 정확도"
      ],
      "metadata": {
        "colab": {
          "base_uri": "https://localhost:8080/"
        },
        "id": "MFl4YQUJZQYe",
        "outputId": "2abe9672-ed46-495d-dfba-08dcbf3d265d"
      },
      "execution_count": null,
      "outputs": [
        {
          "output_type": "execute_result",
          "data": {
            "text/plain": [
              "1.0"
            ]
          },
          "metadata": {},
          "execution_count": 61
        }
      ]
    },
    {
      "cell_type": "markdown",
      "source": [
        "# 분류 평가 지표"
      ],
      "metadata": {
        "id": "a5aG9mkuZtdA"
      }
    },
    {
      "cell_type": "code",
      "source": [
        "test_pred = knn.predict(X_test)  # 테스트 셋 예측값\n",
        "confusion_matrix(y_test, test_pred)  # 테스트 셋에서의 오차 행렬(혼동 행렬)"
      ],
      "metadata": {
        "colab": {
          "base_uri": "https://localhost:8080/"
        },
        "id": "KdYvNG1eZVGh",
        "outputId": "3c176ee8-9633-4e96-bc28-e811af3a89b7"
      },
      "execution_count": null,
      "outputs": [
        {
          "output_type": "execute_result",
          "data": {
            "text/plain": [
              "array([[11,  0],\n",
              "       [ 0,  4]])"
            ]
          },
          "metadata": {},
          "execution_count": 62
        }
      ]
    },
    {
      "cell_type": "markdown",
      "source": [
        "__분류 평가 지표(classification metrics)__\n",
        "\n",
        "*  용어 정리\n",
        "    *  TP(True Positive, 진짜 양성): 실제 양성인 것을 양성으로 맞게 예측한 것.\n",
        "    *  FN(False Negative, 가짜 음성): 실제 양성인 것을 음성으로 틀리게 예측한 것.\n",
        "    *  FP(False Positive, 가짜 양성): 실제 음성인 것을 양성으로 틀리게 예측한 것.\n",
        "    *  TN(True Negative, 진짜 음성): 실제 음성인 것을 음성으로 맞게 예측한 것.\n",
        "\n",
        "*  정확도(accuracy): 샘플들을 정확하게 분류한 비율. 전체 샘플들 중에서 정답의 비율.\n",
        ">  accuracy = (TP + TN) / (TP + FN + FP + TN)\n",
        "\n",
        "*  정밀도(precision): 양성 예측들 중에서 정답의 비율.\n",
        ">  precision = TP / (TP + FP)\n",
        "\n",
        "*  재현율(recall): 실제 양성 샘플들 중에서 정답의 비율.\n",
        ">  recall = TP / (TP + FN)\n",
        "\n",
        "*  F1-score: 정밀도와 재현율의 조화 평균(역수들의 평균의 역수)\n",
        ">  f1-score = 2 / (1/precision + 1/recall)"
      ],
      "metadata": {
        "id": "z_pVXQHfbxko"
      }
    },
    {
      "cell_type": "code",
      "source": [
        "clf_report = classification_report(y_test, test_pred)\n",
        "print(clf_report)"
      ],
      "metadata": {
        "colab": {
          "base_uri": "https://localhost:8080/"
        },
        "id": "iA6x81vPaQhC",
        "outputId": "a71d78a0-7db8-42dc-9259-ea5b6f8776af"
      },
      "execution_count": null,
      "outputs": [
        {
          "output_type": "stream",
          "name": "stdout",
          "text": [
            "              precision    recall  f1-score   support\n",
            "\n",
            "       Bream       1.00      1.00      1.00        11\n",
            "       Smelt       1.00      1.00      1.00         4\n",
            "\n",
            "    accuracy                           1.00        15\n",
            "   macro avg       1.00      1.00      1.00        15\n",
            "weighted avg       1.00      1.00      1.00        15\n",
            "\n"
          ]
        }
      ]
    },
    {
      "cell_type": "code",
      "source": [
        "precision_score(y_test, test_pred, pos_label='Bream')\n",
        "# pos_label: positive(양성)로 취급할 레이블."
      ],
      "metadata": {
        "colab": {
          "base_uri": "https://localhost:8080/"
        },
        "id": "xkcug__0mnIB",
        "outputId": "89840289-d282-4cf2-f884-e8ea33d1148d"
      },
      "execution_count": null,
      "outputs": [
        {
          "output_type": "execute_result",
          "data": {
            "text/plain": [
              "1.0"
            ]
          },
          "metadata": {},
          "execution_count": 64
        }
      ]
    },
    {
      "cell_type": "code",
      "source": [
        "precision_score(y_test, test_pred, pos_label='Smelt')"
      ],
      "metadata": {
        "colab": {
          "base_uri": "https://localhost:8080/"
        },
        "id": "F0bbNnXdn9V-",
        "outputId": "8e0c19a7-8895-472a-ecf2-ec2dcfbb5e1c"
      },
      "execution_count": null,
      "outputs": [
        {
          "output_type": "execute_result",
          "data": {
            "text/plain": [
              "1.0"
            ]
          },
          "metadata": {},
          "execution_count": 65
        }
      ]
    },
    {
      "cell_type": "markdown",
      "source": [
        "# 특성 스케일링(feature scaling)"
      ],
      "metadata": {
        "id": "9d9OgWAAvG_q"
      }
    },
    {
      "cell_type": "code",
      "source": [
        "# 훈련 셋(X_train)을 시각화\n",
        "plt.scatter(X_train[:, 1], X_train[:, 0], label='Train')\n",
        "\n",
        "# 가상의 물고기 데이터(150g, 25cm)\n",
        "unknown = [[150, 25]]  # (1, 2) shape의 2차원 배열\n",
        "plt.scatter(25, 150, label='Unknown', marker='v', color='red')\n",
        "\n",
        "plt.legend()\n",
        "plt.xlabel('Length')\n",
        "plt.ylabel('Weight')\n",
        "plt.show()"
      ],
      "metadata": {
        "colab": {
          "base_uri": "https://localhost:8080/",
          "height": 279
        },
        "id": "aRrLQt8RoEPs",
        "outputId": "1666cf7a-c616-4c1b-ece9-fa712093c69f"
      },
      "execution_count": null,
      "outputs": [
        {
          "output_type": "display_data",
          "data": {
            "text/plain": [
              "<Figure size 432x288 with 1 Axes>"
            ],
            "image/png": "[encoded data removed]"
          },
          "metadata": {
            "needs_background": "light"
          }
        }
      ]
    },
    {
      "cell_type": "code",
      "source": [
        "# 가상의 물고기의 예측값\n",
        "knn.predict(unknown)"
      ],
      "metadata": {
        "colab": {
          "base_uri": "https://localhost:8080/"
        },
        "id": "gJzp02ylvIdG",
        "outputId": "09cc3207-470b-42ac-cc8b-a1d7ddb84672"
      },
      "execution_count": null,
      "outputs": [
        {
          "output_type": "execute_result",
          "data": {
            "text/plain": [
              "array(['Smelt'], dtype=object)"
            ]
          },
          "metadata": {},
          "execution_count": 67
        }
      ]
    },
    {
      "cell_type": "code",
      "source": [
        "# 가상의 물고기에서 가장 가까운 (훈련 셋) 이웃 5개.\n",
        "neighbor_index = knn.kneighbors(unknown, return_distance=False)\n",
        "neighbor_index"
      ],
      "metadata": {
        "colab": {
          "base_uri": "https://localhost:8080/"
        },
        "id": "3i4DhCGHvJO3",
        "outputId": "9c9cd126-429d-4f12-d55f-6848f8f8b49e"
      },
      "execution_count": null,
      "outputs": [
        {
          "output_type": "execute_result",
          "data": {
            "text/plain": [
              "array([[ 7,  5, 15, 26,  2]])"
            ]
          },
          "metadata": {},
          "execution_count": 68
        }
      ]
    },
    {
      "cell_type": "code",
      "source": [
        "# 가상의 물고기에서 가장 가까운 이웃 5개의 레이블.\n",
        "y_train[neighbor_index[0]]"
      ],
      "metadata": {
        "colab": {
          "base_uri": "https://localhost:8080/"
        },
        "id": "hYXmzTInvJ_P",
        "outputId": "c6e50dbc-36da-4268-c69c-3ba49fb09192"
      },
      "execution_count": null,
      "outputs": [
        {
          "output_type": "execute_result",
          "data": {
            "text/plain": [
              "array(['Smelt', 'Smelt', 'Smelt', 'Smelt', 'Smelt'], dtype=object)"
            ]
          },
          "metadata": {},
          "execution_count": 69
        }
      ]
    },
    {
      "cell_type": "markdown",
      "source": [
        "* 생선의 두 특성(길이, 무게)는 서로 단위(cm, g)가 다르기 때문에, 값의 범위도 매우 다름.\n",
        "    * 길이 범위: 0 ~ 50 cm, 무게 범위: 0 ~ 1,000 g\n",
        "    * 특성(변수)들의 스케일이 다름!\n",
        "    * 가장 가까운 이웃을 찾기 위해서 거리를 계산할 때, 생선의 길이가 거리에 미치는 영향은 생선의 무게가 거리에 미치는 영향에 비해 작음.\n",
        "    * 예측을 할 때 거리 계산에 영향이 적은 변수(특성)는 무시되기 쉬움.\n",
        "    * 예측 결과가 부정확해 질 수 있음.\n",
        "    * 따라서, 모든 특성(변수)들이 거리 계산에 비슷한 영향을 미칠 수 있도록 스케일을 변환할 필요가 있음.\n",
        "* KNN과 같이 거리 기반의 머신 러닝 알고리즘에서는, 모델을 훈련하기 전에 모든 특성(변수)들을 비슷한 스케일이 되도록 전처리(preprocessing)를 할 필요가 있음!\n",
        "    * **표준화(standardization)**: *훈련 셋*의 평균과 표준편차를 사용해서, 평균이 0이 되고 표준편차가 1이 되도록 스케일을 변환하는 것.\n",
        "    * **정규화(normalization)**: *훈련 셋*의 최솟값과 최댓값을 사용해서, 최솟값은 0이 되고 최댓값은 1이 되도록 스케일을 변환하는 것."
      ],
      "metadata": {
        "id": "2b1eRQ-xyfFh"
      }
    },
    {
      "cell_type": "markdown",
      "source": [
        "## 표준화"
      ],
      "metadata": {
        "id": "l1IWRpTg0Ia3"
      }
    },
    {
      "cell_type": "markdown",
      "source": [
        "### 스케일러 생성과 훈련/테스트 셋 스케일링"
      ],
      "metadata": {
        "id": "DEuj3OuZBsM4"
      }
    },
    {
      "cell_type": "code",
      "source": [
        "std_scaler = StandardScaler()  # 표준화 특성 스케일 변환기 생성"
      ],
      "metadata": {
        "id": "6EYX7PndyfzC"
      },
      "execution_count": null,
      "outputs": []
    },
    {
      "cell_type": "code",
      "source": [
        "std_scaler.fit(X_train)  # 훈련 셋의 평균과 표준편차를 찾음."
      ],
      "metadata": {
        "colab": {
          "base_uri": "https://localhost:8080/"
        },
        "id": "aIDSIOCtBuG2",
        "outputId": "32da8acd-58db-4f3c-a856-bb2099985c38"
      },
      "execution_count": null,
      "outputs": [
        {
          "output_type": "execute_result",
          "data": {
            "text/plain": [
              "StandardScaler()"
            ]
          },
          "metadata": {},
          "execution_count": 71
        }
      ]
    },
    {
      "cell_type": "code",
      "source": [
        "std_scaler.mean_  #> [X_train Weight 평균, X_train Length 평균]"
      ],
      "metadata": {
        "colab": {
          "base_uri": "https://localhost:8080/"
        },
        "id": "R37xYL-pBv5f",
        "outputId": "bbc9f712-dee3-44bf-95f0-9490ad53f7d7"
      },
      "execution_count": null,
      "outputs": [
        {
          "output_type": "execute_result",
          "data": {
            "text/plain": [
              "array([475.36470588,  27.59705882])"
            ]
          },
          "metadata": {},
          "execution_count": 72
        }
      ]
    },
    {
      "cell_type": "code",
      "source": [
        "std_scaler.var_  #> [X_train Weight 분산, X_train Length 분산]"
      ],
      "metadata": {
        "colab": {
          "base_uri": "https://localhost:8080/"
        },
        "id": "lq87Xg13Bwyw",
        "outputId": "dc816cdb-2b56-4fd2-d5bf-d6677299cdcb"
      },
      "execution_count": null,
      "outputs": [
        {
          "output_type": "execute_result",
          "data": {
            "text/plain": [
              "array([1.16589375e+05, 1.10007344e+02])"
            ]
          },
          "metadata": {},
          "execution_count": 73
        }
      ]
    },
    {
      "cell_type": "code",
      "source": [
        "np.mean(X_train, axis=0)"
      ],
      "metadata": {
        "colab": {
          "base_uri": "https://localhost:8080/"
        },
        "id": "NPLw2uP_Bxxw",
        "outputId": "2a057aec-a9a5-4746-bd1e-dda21e55baf7"
      },
      "execution_count": null,
      "outputs": [
        {
          "output_type": "execute_result",
          "data": {
            "text/plain": [
              "array([475.36470588,  27.59705882])"
            ]
          },
          "metadata": {},
          "execution_count": 74
        }
      ]
    },
    {
      "cell_type": "code",
      "source": [
        "np.var(X_train, axis=0)"
      ],
      "metadata": {
        "colab": {
          "base_uri": "https://localhost:8080/"
        },
        "id": "KxLVMncWBytI",
        "outputId": "4dab34b5-ccdc-47b3-debc-6c019451128c"
      },
      "execution_count": null,
      "outputs": [
        {
          "output_type": "execute_result",
          "data": {
            "text/plain": [
              "array([1.16589375e+05, 1.10007344e+02])"
            ]
          },
          "metadata": {},
          "execution_count": 75
        }
      ]
    },
    {
      "cell_type": "code",
      "source": [
        "X_train_std = std_scaler.transform(X_train)  # 훈련 셋을 표준화"
      ],
      "metadata": {
        "id": "LgWJQGb-BzeQ"
      },
      "execution_count": null,
      "outputs": []
    },
    {
      "cell_type": "code",
      "source": [
        "X_train[:5]"
      ],
      "metadata": {
        "colab": {
          "base_uri": "https://localhost:8080/"
        },
        "id": "e6XMosuwB1Fy",
        "outputId": "0300c4fa-8446-41d1-ef51-7f5f8ccc7fc0"
      },
      "execution_count": null,
      "outputs": [
        {
          "output_type": "execute_result",
          "data": {
            "text/plain": [
              "array([[  8.7,  11.3],\n",
              "       [500. ,  29.7],\n",
              "       [  9.9,  11.8],\n",
              "       [850. ,  36. ],\n",
              "       [  7. ,  10.6]])"
            ]
          },
          "metadata": {},
          "execution_count": 77
        }
      ]
    },
    {
      "cell_type": "code",
      "source": [
        "X_train_std[:5]"
      ],
      "metadata": {
        "colab": {
          "base_uri": "https://localhost:8080/"
        },
        "id": "Pj4q7A7eB2Hy",
        "outputId": "c359968d-d45a-4c09-9919-25b7fe510b1d"
      },
      "execution_count": null,
      "outputs": [
        {
          "output_type": "execute_result",
          "data": {
            "text/plain": [
              "array([[-1.36670716, -1.55381172],\n",
              "       [ 0.07214866,  0.20050088],\n",
              "       [-1.36319275, -1.50614018],\n",
              "       [ 1.09718333,  0.80116226],\n",
              "       [-1.3716859 , -1.62055187]])"
            ]
          },
          "metadata": {},
          "execution_count": 78
        }
      ]
    },
    {
      "cell_type": "code",
      "source": [
        "# (훈련 셋에서 찾은 평균과 표준편차를 사용해서) 테스트 셋을 스케일링.\n",
        "X_test_std = std_scaler.transform(X_test)"
      ],
      "metadata": {
        "id": "a1ONFUkHB3ea"
      },
      "execution_count": null,
      "outputs": []
    },
    {
      "cell_type": "code",
      "source": [
        "X_test[:5]"
      ],
      "metadata": {
        "colab": {
          "base_uri": "https://localhost:8080/"
        },
        "id": "NUGiOgubB4wj",
        "outputId": "1082cbfb-3b8a-47f2-b11e-3abc44bdc564"
      },
      "execution_count": null,
      "outputs": [
        {
          "output_type": "execute_result",
          "data": {
            "text/plain": [
              "array([[  6.7,   9.8],\n",
              "       [ 19.7,  14.3],\n",
              "       [  7.5,  10.5],\n",
              "       [600. ,  32. ],\n",
              "       [500. ,  31.5]])"
            ]
          },
          "metadata": {},
          "execution_count": 80
        }
      ]
    },
    {
      "cell_type": "code",
      "source": [
        "X_test_std[:5]"
      ],
      "metadata": {
        "colab": {
          "base_uri": "https://localhost:8080/"
        },
        "id": "8IfNtYyPB5dr",
        "outputId": "19213878-66b9-4ee3-978b-252e59cdeb76"
      },
      "execution_count": null,
      "outputs": [
        {
          "output_type": "execute_result",
          "data": {
            "text/plain": [
              "array([[-1.3725645 , -1.69682633],\n",
              "       [-1.33449178, -1.26778249],\n",
              "       [-1.37022156, -1.63008618],\n",
              "       [ 0.36501571,  0.41978996],\n",
              "       [ 0.07214866,  0.37211842]])"
            ]
          },
          "metadata": {},
          "execution_count": 81
        }
      ]
    },
    {
      "cell_type": "code",
      "source": [
        "std_scaler2 = StandardScaler()\n",
        "std_scaler2.fit_transform(X_train)\n",
        "# (1) std_scaler.fit(X_train)\n",
        "# (2) std_sclaer.transform(X_train)\n",
        "# fit_transform() 메서드는 훈련 셋에서만 사용해야 함.\n",
        "# 테스트 셋에서는 transform() 메서드만 사용해야 함."
      ],
      "metadata": {
        "colab": {
          "base_uri": "https://localhost:8080/"
        },
        "id": "KreYZB-wB6SD",
        "outputId": "69cf56ba-8567-4d5b-9ac0-0f2ec1f8d867"
      },
      "execution_count": null,
      "outputs": [
        {
          "output_type": "execute_result",
          "data": {
            "text/plain": [
              "array([[-1.36670716e+00, -1.55381172e+00],\n",
              "       [ 7.21486591e-02,  2.00500881e-01],\n",
              "       [-1.36319275e+00, -1.50614018e+00],\n",
              "       [ 1.09718333e+00,  8.01162260e-01],\n",
              "       [-1.37168590e+00, -1.62055187e+00],\n",
              "       [-1.35294241e+00, -1.44893434e+00],\n",
              "       [ 5.11449234e-01,  5.62804570e-01],\n",
              "       [-1.33390605e+00, -1.20104234e+00],\n",
              "       [ 7.16456169e-01,  7.05819184e-01],\n",
              "       [ 5.99309349e-01,  7.05819184e-01],\n",
              "       [ 6.57882759e-01,  5.15133032e-01],\n",
              "       [-3.96438621e-01,  4.19789956e-01],\n",
              "       [ 6.98884146e-01,  8.01162260e-01],\n",
              "       [-3.29079199e-01,  1.33760727e-01],\n",
              "       [ 6.13952701e-01,  6.10476108e-01],\n",
              "       [-1.35645681e+00, -1.39172849e+00],\n",
              "       [ 3.65015709e-01,  4.19789956e-01],\n",
              "       [ 7.31099521e-01,  7.05819184e-01],\n",
              "       [ 1.31683362e+00,  1.13486303e+00],\n",
              "       [ 1.30219027e+00,  1.03951995e+00],\n",
              "       [-3.96438621e-01, -1.04596963e-01],\n",
              "       [-1.06810336e-03,  3.24446880e-01],\n",
              "       [ 2.91798947e-01,  6.10476108e-01],\n",
              "       [-1.32858276e-01,  1.33760727e-01],\n",
              "       [ 6.57882759e-01,  7.05819184e-01],\n",
              "       [-1.36377849e+00, -1.58241464e+00],\n",
              "       [-1.36289989e+00, -1.50614018e+00],\n",
              "       [ 1.46326715e+00,  1.27787764e+00],\n",
              "       [-1.36348562e+00, -1.48707157e+00],\n",
              "       [-1.36348562e+00, -1.56334603e+00],\n",
              "       [ 1.40469374e+00,  1.03951995e+00],\n",
              "       [ 3.94302414e-01,  5.62804570e-01],\n",
              "       [ 4.23589119e-01,  6.58147646e-01],\n",
              "       [ 1.53648391e+00,  8.96505336e-01]])"
            ]
          },
          "metadata": {},
          "execution_count": 82
        }
      ]
    },
    {
      "cell_type": "markdown",
      "source": [
        "scikit-learn 클래스:\n",
        "\n",
        "*   예측기(Estimator)\n",
        "    *   머신 러닝 모델: e.g. KNeighborsClassifier\n",
        "    *   생성자 호출 --> fit(훈련 셋) --> predict: 예측\n",
        "*   변환기(Transformer)\n",
        "    *   전처리: e.g. StandardScaler\n",
        "    *   생성자 호출 --> fit(훈련 셋) --> transform: 변환\n"
      ],
      "metadata": {
        "id": "OeGf_CqrB8Jr"
      }
    },
    {
      "cell_type": "markdown",
      "source": [
        "### 스케일링된 훈련 셋으로 모델 훈련"
      ],
      "metadata": {
        "id": "DLK7rs6RB-We"
      }
    },
    {
      "cell_type": "code",
      "source": [
        "knn = KNeighborsClassifier()  # 모델 생성"
      ],
      "metadata": {
        "id": "D-vXseAWB7TU"
      },
      "execution_count": null,
      "outputs": []
    },
    {
      "cell_type": "code",
      "source": [
        "knn.fit(X_train_std, y_train)  # 모델 훈련"
      ],
      "metadata": {
        "colab": {
          "base_uri": "https://localhost:8080/"
        },
        "id": "0saXN2oOB_zW",
        "outputId": "2630b879-899c-47d7-b4ba-4a48a2e91d97"
      },
      "execution_count": null,
      "outputs": [
        {
          "output_type": "execute_result",
          "data": {
            "text/plain": [
              "KNeighborsClassifier()"
            ]
          },
          "metadata": {},
          "execution_count": 84
        }
      ]
    },
    {
      "cell_type": "code",
      "source": [
        "train_pred = knn.predict(X_train_std)  # 스케일링된 훈련 셋의 예측값\n",
        "train_pred"
      ],
      "metadata": {
        "colab": {
          "base_uri": "https://localhost:8080/"
        },
        "id": "PnqzXet4CBXX",
        "outputId": "969e5f3e-e8e6-43cc-b848-6de872e0efd6"
      },
      "execution_count": null,
      "outputs": [
        {
          "output_type": "execute_result",
          "data": {
            "text/plain": [
              "array(['Smelt', 'Bream', 'Smelt', 'Bream', 'Smelt', 'Smelt', 'Bream',\n",
              "       'Smelt', 'Bream', 'Bream', 'Bream', 'Bream', 'Bream', 'Bream',\n",
              "       'Bream', 'Smelt', 'Bream', 'Bream', 'Bream', 'Bream', 'Bream',\n",
              "       'Bream', 'Bream', 'Bream', 'Bream', 'Smelt', 'Smelt', 'Bream',\n",
              "       'Smelt', 'Smelt', 'Bream', 'Bream', 'Bream', 'Bream'], dtype=object)"
            ]
          },
          "metadata": {},
          "execution_count": 85
        }
      ]
    },
    {
      "cell_type": "code",
      "source": [
        "test_predict = knn.predict(X_test_std)  # 스케일링된 테스트 셋의 예측값\n",
        "test_predict"
      ],
      "metadata": {
        "colab": {
          "base_uri": "https://localhost:8080/"
        },
        "id": "fC5-RmevCCTY",
        "outputId": "50069625-9d80-43e9-9944-c91efacccb8c"
      },
      "execution_count": null,
      "outputs": [
        {
          "output_type": "execute_result",
          "data": {
            "text/plain": [
              "array(['Smelt', 'Smelt', 'Smelt', 'Bream', 'Bream', 'Bream', 'Smelt',\n",
              "       'Bream', 'Bream', 'Bream', 'Bream', 'Bream', 'Bream', 'Bream',\n",
              "       'Bream'], dtype=object)"
            ]
          },
          "metadata": {},
          "execution_count": 86
        }
      ]
    },
    {
      "cell_type": "code",
      "source": [
        "knn.score(X_train_std, y_train)  # 훈련 셋에서의 정확도"
      ],
      "metadata": {
        "colab": {
          "base_uri": "https://localhost:8080/"
        },
        "id": "-QNau1WpCDDQ",
        "outputId": "933c793b-f88a-4b96-8866-ebd2d5aba7a1"
      },
      "execution_count": null,
      "outputs": [
        {
          "output_type": "execute_result",
          "data": {
            "text/plain": [
              "1.0"
            ]
          },
          "metadata": {},
          "execution_count": 87
        }
      ]
    },
    {
      "cell_type": "code",
      "source": [
        "knn.score(X_test_std, y_test)  # 테스트 셋에서의 정확도"
      ],
      "metadata": {
        "colab": {
          "base_uri": "https://localhost:8080/"
        },
        "id": "A-1B7sASGa96",
        "outputId": "7668205f-c141-4f4f-a229-b777e6a58e08"
      },
      "execution_count": null,
      "outputs": [
        {
          "output_type": "execute_result",
          "data": {
            "text/plain": [
              "1.0"
            ]
          },
          "metadata": {},
          "execution_count": 88
        }
      ]
    },
    {
      "cell_type": "code",
      "source": [
        "# 150g 25cm인 가상의 물고기의 스케일 변환\n",
        "unknown_std = std_scaler.transform(unknown)\n",
        "unknown_std"
      ],
      "metadata": {
        "colab": {
          "base_uri": "https://localhost:8080/"
        },
        "id": "1RvJcu1BGb4j",
        "outputId": "0d5dd377-bc26-4690-d276-82282e2d3cc2"
      },
      "execution_count": null,
      "outputs": [
        {
          "output_type": "execute_result",
          "data": {
            "text/plain": [
              "array([[-0.95288602, -0.24761158]])"
            ]
          },
          "metadata": {},
          "execution_count": 89
        }
      ]
    },
    {
      "cell_type": "code",
      "source": [
        "# 표준화 스케일링이 끝난 훈련 셋 시각화\n",
        "plt.scatter(X_train_std[:, 1], X_train_std[:, 0], label='Train')\n",
        "# 표준화 스케일링이 끝난 가상의 물고기\n",
        "plt.scatter(unknown_std[:, 1], unknown_std[:, 0], label='Unknown', marker='v', color='red')\n",
        "\n",
        "plt.xlabel('Length')\n",
        "plt.ylabel('Weight')\n",
        "plt.show()"
      ],
      "metadata": {
        "colab": {
          "base_uri": "https://localhost:8080/",
          "height": 279
        },
        "id": "5RfKQl4GGdAz",
        "outputId": "d89dc21c-ed46-4176-e3d5-87ba3210d543"
      },
      "execution_count": null,
      "outputs": [
        {
          "output_type": "display_data",
          "data": {
            "text/plain": [
              "<Figure size 432x288 with 1 Axes>"
            ],
            "image/png": "[encoded data removed]"
          },
          "metadata": {
            "needs_background": "light"
          }
        }
      ]
    },
    {
      "cell_type": "code",
      "source": [
        "# 스케일 변환된 가상의 물고기 데이터의 가장 가까운 이웃 5개\n",
        "neighbor_index = knn.kneighbors(unknown_std, return_distance=False)\n",
        "neighbor_index"
      ],
      "metadata": {
        "colab": {
          "base_uri": "https://localhost:8080/"
        },
        "id": "vlNZ4MnVGeFL",
        "outputId": "fc0a6bea-af7e-4ca2-ffdd-d1d84d83a3f4"
      },
      "execution_count": null,
      "outputs": [
        {
          "output_type": "execute_result",
          "data": {
            "text/plain": [
              "array([[20, 13, 11, 23,  7]])"
            ]
          },
          "metadata": {},
          "execution_count": 91
        }
      ]
    },
    {
      "cell_type": "code",
      "source": [
        "# 가장 가까운 이웃들의 레이블\n",
        "y_train[neighbor_index[0]]"
      ],
      "metadata": {
        "colab": {
          "base_uri": "https://localhost:8080/"
        },
        "id": "Ph1mlZ8bGfI0",
        "outputId": "b58b97a5-d17a-4834-81d1-f0b7abb79a72"
      },
      "execution_count": null,
      "outputs": [
        {
          "output_type": "execute_result",
          "data": {
            "text/plain": [
              "array(['Bream', 'Bream', 'Bream', 'Bream', 'Smelt'], dtype=object)"
            ]
          },
          "metadata": {},
          "execution_count": 92
        }
      ]
    },
    {
      "cell_type": "code",
      "source": [
        "knn.predict(unknown_std)"
      ],
      "metadata": {
        "colab": {
          "base_uri": "https://localhost:8080/"
        },
        "id": "HtoupvxYGf4M",
        "outputId": "07318221-c538-492d-e4d3-7f8ff730f30e"
      },
      "execution_count": null,
      "outputs": [
        {
          "output_type": "execute_result",
          "data": {
            "text/plain": [
              "array(['Bream'], dtype=object)"
            ]
          },
          "metadata": {},
          "execution_count": 93
        }
      ]
    },
    {
      "cell_type": "markdown",
      "source": [
        "## 정규화. Min-Max Scaling."
      ],
      "metadata": {
        "id": "91ckB1WwGhY_"
      }
    },
    {
      "cell_type": "markdown",
      "source": [
        "*   Min-Max Scaler 객체 생성\n",
        "*   훈련 셋의 최솟값과 최댓값을 찾아서, 훈련 셋과 테스트 셋의 스케일을 변환\n",
        "*   KNN 분류기 객체 생성\n",
        "*   모델 훈련\n",
        "*   훈련 셋 예측값, 정확도\n",
        "*   테스트 셋 예측값, 정확도\n",
        "*   (150g, 25cm) 가상의 물고기 데이터를 min-max scaling.\n",
        "    *   스케일 변환된 훈련 셋과 가상의 물고기 데이터를 시각화.\n",
        "    *   가상의 물고기의 예측값."
      ],
      "metadata": {
        "id": "lzYG-3MtGi6Q"
      }
    },
    {
      "cell_type": "code",
      "source": [
        "# X: 특성 행렬(feature matrix), y: 타겟 배열(target array)"
      ],
      "metadata": {
        "id": "0U0NytA2EvHj"
      },
      "execution_count": null,
      "outputs": []
    },
    {
      "cell_type": "markdown",
      "source": [
        "iris\n",
        "\n",
        "1. train/test split\n",
        "2. StandardScaler scaling\n",
        "3. KNN train\n",
        "4. 예측, 평가"
      ],
      "metadata": {
        "id": "7hhBk8mKTpOj"
      }
    },
    {
      "cell_type": "code",
      "source": [
        ""
      ],
      "metadata": {
        "id": "Kf6stfQkGgnd"
      },
      "execution_count": null,
      "outputs": []
    }
  ]
}