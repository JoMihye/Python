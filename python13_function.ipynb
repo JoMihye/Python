{
  "nbformat": 4,
  "nbformat_minor": 0,
  "metadata": {
    "colab": {
      "name": "python13_function.ipynb",
      "provenance": [],
      "authorship_tag": "ABX9TyOQ/syWPfWH4knYVWhkx9+t",
      "include_colab_link": true
    },
    "kernelspec": {
      "name": "python3",
      "display_name": "Python 3"
    },
    "language_info": {
      "name": "python"
    }
  },
  "cells": [
    {
      "cell_type": "markdown",
      "metadata": {
        "id": "view-in-github",
        "colab_type": "text"
      },
      "source": [
        "<a href=\"https://colab.research.google.com/github/JoMihye/Python/blob/main/python13_function.ipynb\" target=\"_parent\"><img src=\"https://colab.research.google.com/assets/colab-badge.svg\" alt=\"Open In Colab\"/></a>"
      ]
    },
    {
      "cell_type": "markdown",
      "source": [
        "# Default Argument"
      ],
      "metadata": {
        "id": "cS9cgTB-pVHL"
      }
    },
    {
      "cell_type": "markdown",
      "source": [
        "Default argument(기본 인수):\n",
        "\n",
        "*  함수를 정의할 때 parameter에 설정하는 기본값.\n",
        "    *  default parameter(기본 매개변수): 기본값을 가지고 있는 파라미터.\n",
        "*  함수를 호출할 때 default parameter에 값을 전달하지 않으면, default argument가 사용됨.\n",
        "*  함수를 호출할 때 default parameter에 값을 전달하면, default argument는 무시되고 전달한 값이 사용됨."
      ],
      "metadata": {
        "id": "cmO7DqzppZCx"
      }
    },
    {
      "cell_type": "code",
      "execution_count": null,
      "metadata": {
        "id": "-0tctcIepOy3"
      },
      "outputs": [],
      "source": [
        "def repeat_message(message, n=1):\n",
        "    for _ in range(n):\n",
        "        print(message)"
      ]
    },
    {
      "cell_type": "code",
      "source": [
        "repeat_message('안녕하세요')"
      ],
      "metadata": {
        "colab": {
          "base_uri": "https://localhost:8080/"
        },
        "id": "6Urw2ZEdrF1a",
        "outputId": "59c7b14a-5486-4b32-d0c4-f7be7d7d7881"
      },
      "execution_count": null,
      "outputs": [
        {
          "output_type": "stream",
          "name": "stdout",
          "text": [
            "안녕하세요\n"
          ]
        }
      ]
    },
    {
      "cell_type": "code",
      "source": [
        "repeat_message('안녕하세요', 3)"
      ],
      "metadata": {
        "colab": {
          "base_uri": "https://localhost:8080/"
        },
        "id": "LPBxODRGrtL5",
        "outputId": "839864c5-7fa0-40e6-a535-830e1167b1c7"
      },
      "execution_count": null,
      "outputs": [
        {
          "output_type": "stream",
          "name": "stdout",
          "text": [
            "안녕하세요\n",
            "안녕하세요\n",
            "안녕하세요\n"
          ]
        }
      ]
    },
    {
      "cell_type": "markdown",
      "source": [
        "(주의)\n",
        "\n",
        "함수를 정의할 때 default parameter(기본값을 갖는 파라미터)는 기본값을 갖지 않는 파라미터들 뒤에 선언해야 함!"
      ],
      "metadata": {
        "id": "g6D30gb2wcM7"
      }
    },
    {
      "cell_type": "code",
      "source": [
        "def test(x, y=1):\n",
        "    pass"
      ],
      "metadata": {
        "id": "qANBOyLhwm7d"
      },
      "execution_count": null,
      "outputs": []
    },
    {
      "cell_type": "code",
      "source": [
        "def test2(x=1, y):\n",
        "    pass"
      ],
      "metadata": {
        "id": "1Z-_56tdxGZJ"
      },
      "execution_count": null,
      "outputs": []
    },
    {
      "cell_type": "markdown",
      "source": [
        "# Argument 전달 방법"
      ],
      "metadata": {
        "id": "-T1OC4nNxgmx"
      }
    },
    {
      "cell_type": "markdown",
      "source": [
        "함수를 호출할 때, 값(argument)를 전달하는 방법:\n",
        "\n",
        "*  positional argument: 함수에 선언된 파라미터 순서대로 argument들을 전달하는 방법.\n",
        "*  keyword argument: `param_name=value`와 같은 형식으로 argument들을 전달하는 방법.\n",
        "    *  keyword argument 방법을 사용할 때는 함수에 선언된 파라미터 순서를 지키지 않아도 괜찮음.\n",
        "*  (주의) 함수를 호출할 때 positional 방식과 keyword 방식을 함께 사용하는 경우에는, positional argument를 먼저 사용하고 keyword argument는 뒤에 사용해야 함."
      ],
      "metadata": {
        "id": "7Ur09HEWxoaG"
      }
    },
    {
      "cell_type": "code",
      "source": [
        "def subtract(x, y):\n",
        "    return x - y"
      ],
      "metadata": {
        "id": "VG4ZBkVMy6WK"
      },
      "execution_count": null,
      "outputs": []
    },
    {
      "cell_type": "code",
      "source": [
        "subtract(1, 2)  # positional argument 방식의 함수 호출"
      ],
      "metadata": {
        "colab": {
          "base_uri": "https://localhost:8080/"
        },
        "id": "YYR1_qrSy_nM",
        "outputId": "3c6e0c6b-76bb-4e55-eb00-866ef3c17674"
      },
      "execution_count": null,
      "outputs": [
        {
          "output_type": "execute_result",
          "data": {
            "text/plain": [
              "-1"
            ]
          },
          "metadata": {},
          "execution_count": 6
        }
      ]
    },
    {
      "cell_type": "code",
      "source": [
        "subtract(x=1, y=2)  # keyword argument 방식의 함수 호출"
      ],
      "metadata": {
        "colab": {
          "base_uri": "https://localhost:8080/"
        },
        "id": "bnt0vy9Qz0k4",
        "outputId": "8982f923-fd9a-43eb-fe67-7d63f659493c"
      },
      "execution_count": null,
      "outputs": [
        {
          "output_type": "execute_result",
          "data": {
            "text/plain": [
              "-1"
            ]
          },
          "metadata": {},
          "execution_count": 7
        }
      ]
    },
    {
      "cell_type": "code",
      "source": [
        "subtract(y=2, x=1)  # keyword 방식에서는 파라미터 순서를 지키지 않아도 괜찮음"
      ],
      "metadata": {
        "colab": {
          "base_uri": "https://localhost:8080/"
        },
        "id": "-V8e7OiCz86r",
        "outputId": "30814a67-ee7a-4b11-8624-759d3f94c783"
      },
      "execution_count": null,
      "outputs": [
        {
          "output_type": "execute_result",
          "data": {
            "text/plain": [
              "-1"
            ]
          },
          "metadata": {},
          "execution_count": 8
        }
      ]
    },
    {
      "cell_type": "code",
      "source": [
        "subtract(1, y=2)  # positional과 keyword 방식을 함께 사용."
      ],
      "metadata": {
        "colab": {
          "base_uri": "https://localhost:8080/"
        },
        "id": "0IZ3EWtz0Ozh",
        "outputId": "2fdee7c8-cf2d-484d-b03c-5ffd99e77db3"
      },
      "execution_count": null,
      "outputs": [
        {
          "output_type": "execute_result",
          "data": {
            "text/plain": [
              "-1"
            ]
          },
          "metadata": {},
          "execution_count": 9
        }
      ]
    },
    {
      "cell_type": "code",
      "source": [
        "subtract(x=1, 2)  # positional 방식이 keyword 방식보다 뒤에 사용되면 (문법) 에러 발생."
      ],
      "metadata": {
        "colab": {
          "base_uri": "https://localhost:8080/",
          "height": 137
        },
        "id": "ePs-COX51gWk",
        "outputId": "c4ae889f-0ca6-44b4-c167-cff30ec3bbd5"
      },
      "execution_count": null,
      "outputs": [
        {
          "output_type": "error",
          "ename": "SyntaxError",
          "evalue": "ignored",
          "traceback": [
            "\u001b[0;36m  File \u001b[0;32m\"<ipython-input-10-167f6ecc6f11>\"\u001b[0;36m, line \u001b[0;32m1\u001b[0m\n\u001b[0;31m    subtract(x=1, 2)  # positional 방식이 keyword 방식보다 뒤에 사용되면 (문법) 에러 발생.\u001b[0m\n\u001b[0m                 ^\u001b[0m\n\u001b[0;31mSyntaxError\u001b[0m\u001b[0;31m:\u001b[0m positional argument follows keyword argument\n"
          ]
        }
      ]
    },
    {
      "cell_type": "code",
      "source": [
        "print(1, 2, sep=',')"
      ],
      "metadata": {
        "colab": {
          "base_uri": "https://localhost:8080/"
        },
        "id": "uIEGEHeI2KLK",
        "outputId": "8c1fd7d4-6a4f-4279-c29c-3fef59fc73fb"
      },
      "execution_count": null,
      "outputs": [
        {
          "output_type": "stream",
          "name": "stdout",
          "text": [
            "1,2\n"
          ]
        }
      ]
    },
    {
      "cell_type": "code",
      "source": [
        "print(1, sep=',', 2)"
      ],
      "metadata": {
        "colab": {
          "base_uri": "https://localhost:8080/",
          "height": 137
        },
        "id": "UF0ZA8xm2NsK",
        "outputId": "5d735f5a-3d2f-47be-aac1-1c5d767fe800"
      },
      "execution_count": null,
      "outputs": [
        {
          "output_type": "error",
          "ename": "SyntaxError",
          "evalue": "ignored",
          "traceback": [
            "\u001b[0;36m  File \u001b[0;32m\"<ipython-input-12-63e40966d037>\"\u001b[0;36m, line \u001b[0;32m1\u001b[0m\n\u001b[0;31m    print(1, sep=',', 2)\u001b[0m\n\u001b[0m                     ^\u001b[0m\n\u001b[0;31mSyntaxError\u001b[0m\u001b[0;31m:\u001b[0m positional argument follows keyword argument\n"
          ]
        }
      ]
    },
    {
      "cell_type": "markdown",
      "source": [
        "# 가변길이 인수(Variable-length Argument)"
      ],
      "metadata": {
        "id": "chAbyq2y2X3Y"
      }
    },
    {
      "cell_type": "markdown",
      "source": [
        "가변길이 인수:\n",
        "\n",
        "*  함수 argument의 개수가 임의로 변할 수 있는 것. 함수를 호출할 때 argument를 몇 개를 전달해도 됨.\n",
        "    *  argument를 한 개도 전달하지 않아도 됨.\n",
        "*  함수를 정의할 때, 파라미터 앞에 `*`를 사용하면 가변길이 인수를 의미함.\n",
        "*  함수 내부에서 가변길이 인수는 튜플 취급을 함.\n",
        "    *  가변길이 인수는 인덱스를 가지고 있음.\n",
        "    *  가변길이 인수는 `for-in` 구문에서 사용할 수 있음.\n",
        "*  가변길이 인수는 keyword argumnet 방식으로는 전달할 수 없음.\n",
        "*  함수를 정의할 때 가변길이 인수를 갖는 파라미터는 오직 1개만 선언할 수 있음."
      ],
      "metadata": {
        "id": "QMIKjyPZMsPa"
      }
    },
    {
      "cell_type": "code",
      "source": [
        "print('hello')  # print() 함수에게 argument를 1개 전달.\n",
        "print()  # print() 함수에게 argument를 1개도 전달하지 않음.\n",
        "print('hello', 'python')  # print() 함수에게 argument를 2개 전달."
      ],
      "metadata": {
        "id": "gc5qleINNSIf"
      },
      "execution_count": null,
      "outputs": []
    },
    {
      "cell_type": "code",
      "source": [
        "def add_all(*values):\n",
        "    \"\"\"argument로 전달된 모든 숫자들의 합을 계산해서 리턴.\n",
        "    argument가 없는 경우 0을 리턴.\n",
        "    \"\"\"\n",
        "    total = 0  # 전달받은 모든 값들을 순서대로 더해나갈 변수.\n",
        "    for x in values:  # 가변길이 인수 values는 튜플이므로 반복문을 사용할 수 있음.\n",
        "        total += x  # values의 값을 차례로 더해나감.\n",
        "    \n",
        "    return total"
      ],
      "metadata": {
        "id": "aOiy6e46POg9"
      },
      "execution_count": null,
      "outputs": []
    },
    {
      "cell_type": "code",
      "source": [
        "add_all(1, 3, 5)"
      ],
      "metadata": {
        "colab": {
          "base_uri": "https://localhost:8080/"
        },
        "id": "zqfyrrXsPRvV",
        "outputId": "b559ca28-4f14-4bc8-980a-d2f904a88cfe"
      },
      "execution_count": null,
      "outputs": [
        {
          "output_type": "execute_result",
          "data": {
            "text/plain": [
              "9"
            ]
          },
          "metadata": {},
          "execution_count": 16
        }
      ]
    },
    {
      "cell_type": "code",
      "source": [
        "add_all(10,20)"
      ],
      "metadata": {
        "colab": {
          "base_uri": "https://localhost:8080/"
        },
        "id": "wDFnLI21SB4X",
        "outputId": "1015b9a8-6645-40a2-b706-acdb9d5399cb"
      },
      "execution_count": null,
      "outputs": [
        {
          "output_type": "execute_result",
          "data": {
            "text/plain": [
              "30"
            ]
          },
          "metadata": {},
          "execution_count": 17
        }
      ]
    },
    {
      "cell_type": "code",
      "source": [
        "add_all()"
      ],
      "metadata": {
        "colab": {
          "base_uri": "https://localhost:8080/"
        },
        "id": "foPcZ3mjSDUJ",
        "outputId": "3d3d83eb-fe49-452c-e10d-883c5c4d3485"
      },
      "execution_count": null,
      "outputs": [
        {
          "output_type": "execute_result",
          "data": {
            "text/plain": [
              "0"
            ]
          },
          "metadata": {},
          "execution_count": 18
        }
      ]
    },
    {
      "cell_type": "code",
      "source": [
        "def fn_test(x, *y):\n",
        "    print('x =', x)\n",
        "    print('y =', y)"
      ],
      "metadata": {
        "id": "tz6jstJ1TN8y"
      },
      "execution_count": null,
      "outputs": []
    },
    {
      "cell_type": "code",
      "source": [
        "# 파라미터 x: 반드시 값이 1개 전달되어야 하는 파라미터.\n",
        "# 파라미터 y: 전달되는 값의 개수의 제한이 없는 파라미터.\n",
        "fn_test(1, 2, 3)"
      ],
      "metadata": {
        "colab": {
          "base_uri": "https://localhost:8080/"
        },
        "id": "2EiWCdaiTb1w",
        "outputId": "8724cb24-e9db-4d1b-b2b8-304dbadd21f2"
      },
      "execution_count": null,
      "outputs": [
        {
          "output_type": "stream",
          "name": "stdout",
          "text": [
            "x = 1\n",
            "y = (2,)\n"
          ]
        }
      ]
    },
    {
      "cell_type": "code",
      "source": [
        "def fn_test2(*x, *y)\n",
        "    pass\n",
        "# 가변길이 인수를 2개 이상 선언할 수는 없음!"
      ],
      "metadata": {
        "colab": {
          "base_uri": "https://localhost:8080/",
          "height": 137
        },
        "id": "_hHn7aCkUDeE",
        "outputId": "cc7d1651-ed35-4cf6-d983-5cf808d875e5"
      },
      "execution_count": null,
      "outputs": [
        {
          "output_type": "error",
          "ename": "SyntaxError",
          "evalue": "ignored",
          "traceback": [
            "\u001b[0;36m  File \u001b[0;32m\"<ipython-input-25-79265a99ed28>\"\u001b[0;36m, line \u001b[0;32m1\u001b[0m\n\u001b[0;31m    def fn_test2(*x, *y)\u001b[0m\n\u001b[0m                     ^\u001b[0m\n\u001b[0;31mSyntaxError\u001b[0m\u001b[0;31m:\u001b[0m invalid syntax\n"
          ]
        }
      ]
    },
    {
      "cell_type": "code",
      "source": [
        "def calculate(*values, op):\n",
        "    \"\"\"op가 '+'인 경우에는 모든 값들(values)의 합을 리턴하고,\n",
        "    op가 '*'인 경우에는 모든 값들(values)의 곱을 리턴하고,\n",
        "    op가 '+' 또는 '*'가 아닌 경우에는 ValueError를 발생시킴.\n",
        "    값들(values)이 하나도 전달되지 않은 경우, op='+' 이면 0을 리턴하고 op='*' 이면 1을 리턴.\n",
        "    \"\"\"\n",
        "    if op == '+':\n",
        "        result = 0\n",
        "        for x in values:\n",
        "            result += x\n",
        "    elif op == '*':\n",
        "        result = 1\n",
        "        for x in values:\n",
        "            result *= x\n",
        "    else:\n",
        "        raise ValueError('op는 + 또는 *만 가능합니다.')\n",
        "        \n",
        "    return result"
      ],
      "metadata": {
        "id": "wMRhSlWBVfW-"
      },
      "execution_count": null,
      "outputs": []
    },
    {
      "cell_type": "code",
      "source": [
        "# 1부터 5까지 합을 출력\n",
        "calculate(1, 2, 3, 4, 5, op = '+')"
      ],
      "metadata": {
        "colab": {
          "base_uri": "https://localhost:8080/"
        },
        "id": "7H5Att-GdDIZ",
        "outputId": "aef11440-8471-4380-baae-1ba8dee96d19"
      },
      "execution_count": null,
      "outputs": [
        {
          "output_type": "execute_result",
          "data": {
            "text/plain": [
              "15"
            ]
          },
          "metadata": {},
          "execution_count": 36
        }
      ]
    },
    {
      "cell_type": "code",
      "source": [
        "# 1부터 5까지 곱을 출력\n",
        "calculate(1, 2, 3, 4, 5, op = '*')"
      ],
      "metadata": {
        "colab": {
          "base_uri": "https://localhost:8080/"
        },
        "id": "PIN2wZcfdFHa",
        "outputId": "852005cb-800e-4d07-f5ca-4b89535b76f4"
      },
      "execution_count": null,
      "outputs": [
        {
          "output_type": "execute_result",
          "data": {
            "text/plain": [
              "120"
            ]
          },
          "metadata": {},
          "execution_count": 37
        }
      ]
    },
    {
      "cell_type": "code",
      "source": [
        "print(1, 2, 3, 4, 5, ',')\n",
        "print(1, 2, 3, 4, 5, sep='--')"
      ],
      "metadata": {
        "colab": {
          "base_uri": "https://localhost:8080/"
        },
        "id": "2Y26wQ3ufz5h",
        "outputId": "571f597f-2bf8-4ce7-b556-b53cbb9f99a2"
      },
      "execution_count": null,
      "outputs": [
        {
          "output_type": "stream",
          "name": "stdout",
          "text": [
            "1 2 3 4 5 ,\n",
            "1--2--3--4--5\n"
          ]
        }
      ]
    },
    {
      "cell_type": "code",
      "source": [
        "# '+', '*'가 아닌 경우 에러 발생\n",
        "calculate(1, 2, 3, op = '%')"
      ],
      "metadata": {
        "colab": {
          "base_uri": "https://localhost:8080/",
          "height": 321
        },
        "id": "qFxu53tRdG5i",
        "outputId": "07a66d9d-baa0-4164-c74e-01a1a9e42949"
      },
      "execution_count": null,
      "outputs": [
        {
          "output_type": "error",
          "ename": "ValueError",
          "evalue": "ignored",
          "traceback": [
            "\u001b[0;31m---------------------------------------------------------------------------\u001b[0m",
            "\u001b[0;31mValueError\u001b[0m                                Traceback (most recent call last)",
            "\u001b[0;32m<ipython-input-46-40c61e8bd718>\u001b[0m in \u001b[0;36m<module>\u001b[0;34m()\u001b[0m\n\u001b[1;32m      1\u001b[0m \u001b[0;31m# '+', '*'가 아닌 경우 에러 발생\u001b[0m\u001b[0;34m\u001b[0m\u001b[0;34m\u001b[0m\u001b[0;34m\u001b[0m\u001b[0m\n\u001b[0;32m----> 2\u001b[0;31m \u001b[0mcalculate\u001b[0m\u001b[0;34m(\u001b[0m\u001b[0;36m1\u001b[0m\u001b[0;34m,\u001b[0m \u001b[0;36m2\u001b[0m\u001b[0;34m,\u001b[0m \u001b[0;36m3\u001b[0m\u001b[0;34m,\u001b[0m \u001b[0mop\u001b[0m \u001b[0;34m=\u001b[0m \u001b[0;34m'%'\u001b[0m\u001b[0;34m)\u001b[0m\u001b[0;34m\u001b[0m\u001b[0;34m\u001b[0m\u001b[0m\n\u001b[0m",
            "\u001b[0;32m<ipython-input-26-179e427ac195>\u001b[0m in \u001b[0;36mcalculate\u001b[0;34m(op, *values)\u001b[0m\n\u001b[1;32m     14\u001b[0m             \u001b[0mresult\u001b[0m \u001b[0;34m*=\u001b[0m \u001b[0mx\u001b[0m\u001b[0;34m\u001b[0m\u001b[0;34m\u001b[0m\u001b[0m\n\u001b[1;32m     15\u001b[0m     \u001b[0;32melse\u001b[0m\u001b[0;34m:\u001b[0m\u001b[0;34m\u001b[0m\u001b[0;34m\u001b[0m\u001b[0m\n\u001b[0;32m---> 16\u001b[0;31m         \u001b[0;32mraise\u001b[0m \u001b[0mValueError\u001b[0m\u001b[0;34m(\u001b[0m\u001b[0;34m'op는 + 또는 *만 가능합니다.'\u001b[0m\u001b[0;34m)\u001b[0m\u001b[0;34m\u001b[0m\u001b[0;34m\u001b[0m\u001b[0m\n\u001b[0m\u001b[1;32m     17\u001b[0m \u001b[0;34m\u001b[0m\u001b[0m\n\u001b[1;32m     18\u001b[0m     \u001b[0;32mreturn\u001b[0m \u001b[0mresult\u001b[0m\u001b[0;34m\u001b[0m\u001b[0;34m\u001b[0m\u001b[0m\n",
            "\u001b[0;31mValueError\u001b[0m: op는 + 또는 *만 가능합니다."
          ]
        }
      ]
    },
    {
      "cell_type": "markdown",
      "source": [
        "# 가변길이 키워드 인수(variable-length keyword argument)"
      ],
      "metadata": {
        "id": "MUwnXsEVmu_m"
      }
    },
    {
      "cell_type": "markdown",
      "source": [
        "가변길이 키워드 인수:\n",
        "\n",
        "*  함수를 정의할 때 파라미터 이름 앞에 `**`를 사용함.\n",
        "*  함수를 호출할 때 `param1=value1, param2=value2, ...`와 같은 형식으로\n",
        "argument들을 전달함.\n",
        "    *  가변길이이기 때문에 전달하는 argument 개수에는 제한이 없음.\n",
        "    *  키워드 인수이기 때문에 파라미터 이름을 명시해야 함.\n",
        "        *  가변길이 키워드 인수에서는 파라미터 이름을 자유롭게 전달할 수 있음.\n",
        "*  함수 내부에서 가변길이 키워드 인수는 dict 타입 변수로 취급함.\n",
        "    *  가변길이 키워드 인수의 파라미터 이름이 dict의 key가 됨.\n",
        "    *  가변길이 키워드 인수의 값이 dict의 value가 됨.\n",
        "*  가변길이 키워드 인수는 함수에서 1개만 선언 가능."
      ],
      "metadata": {
        "id": "flsFAyB9m0er"
      }
    },
    {
      "cell_type": "code",
      "source": [
        "def fn_test3(**kwargs):\n",
        "    print(kwargs)"
      ],
      "metadata": {
        "id": "0wCoro1Poqcx"
      },
      "execution_count": null,
      "outputs": []
    },
    {
      "cell_type": "code",
      "source": [
        "fn_test3()\n",
        "#> 함수를 호출할 때 값을 하나도 전달하지 않으면, 가변길이 키워드 인수는 빈 dict."
      ],
      "metadata": {
        "colab": {
          "base_uri": "https://localhost:8080/"
        },
        "id": "_trh2zklozKP",
        "outputId": "140c4385-8877-4226-d395-2a61b7abf11f"
      },
      "execution_count": null,
      "outputs": [
        {
          "output_type": "stream",
          "name": "stdout",
          "text": [
            "{}\n"
          ]
        }
      ]
    },
    {
      "cell_type": "code",
      "source": [
        "fn_test3(x=1, name='오쌤', phones=['010-', '02-'])"
      ],
      "metadata": {
        "colab": {
          "base_uri": "https://localhost:8080/"
        },
        "id": "exiPa3EAo0OH",
        "outputId": "d8c53993-684b-40b6-bd94-2f4b78951c0e"
      },
      "execution_count": null,
      "outputs": [
        {
          "output_type": "stream",
          "name": "stdout",
          "text": [
            "{'x': 1, 'name': '오쌤', 'phones': ['010-', '02-']}\n"
          ]
        }
      ]
    },
    {
      "cell_type": "code",
      "source": [
        "def fn_test4(*args, **kwargs):\n",
        "    print('args:', args)\n",
        "    print('kwargs:', kwargs)"
      ],
      "metadata": {
        "id": "5hFSWxUQq6nM"
      },
      "execution_count": null,
      "outputs": []
    },
    {
      "cell_type": "code",
      "source": [
        "fn_test4(1, 2, 3, 4, x=1, y=2)"
      ],
      "metadata": {
        "colab": {
          "base_uri": "https://localhost:8080/"
        },
        "id": "JVSKw-QPrV1c",
        "outputId": "c4fccbcf-6f77-4615-92af-2b43aad97a06"
      },
      "execution_count": null,
      "outputs": [
        {
          "output_type": "stream",
          "name": "stdout",
          "text": [
            "args: (1, 2, 3, 4)\n",
            "kwargs: {'x': 1, 'y': 2}\n"
          ]
        }
      ]
    },
    {
      "cell_type": "markdown",
      "source": [
        "# 함수 작성 연습"
      ],
      "metadata": {
        "id": "nIYoOHY5s767"
      }
    },
    {
      "cell_type": "markdown",
      "source": [
        "## Ex 1.\n",
        "\n",
        "0부터 자연수 n까지의 합을 리턴하는 함수."
      ],
      "metadata": {
        "id": "_DjYxbqZs-om"
      }
    },
    {
      "cell_type": "code",
      "source": [
        "def sum_to(n):\n",
        "    \"\"\"1 + 2 + 3 + ... + n의 결과를 리턴.\"\"\"\n",
        "    result = 0\n",
        "    for x in range(1, n + 1):\n",
        "        result += x\n",
        "\n",
        "    return result"
      ],
      "metadata": {
        "id": "70aqGFEdtKpP"
      },
      "execution_count": null,
      "outputs": []
    },
    {
      "cell_type": "code",
      "source": [
        "sum_to(5)  # positional argument"
      ],
      "metadata": {
        "colab": {
          "base_uri": "https://localhost:8080/"
        },
        "id": "1ALEMvU5y90F",
        "outputId": "7c733cc4-f779-4d97-faff-4607868dcb19"
      },
      "execution_count": null,
      "outputs": [
        {
          "output_type": "execute_result",
          "data": {
            "text/plain": [
              "15"
            ]
          },
          "metadata": {},
          "execution_count": 66
        }
      ]
    },
    {
      "cell_type": "code",
      "source": [
        "sum_to(n=10)  # keyword argument"
      ],
      "metadata": {
        "colab": {
          "base_uri": "https://localhost:8080/"
        },
        "id": "Wvd_0MKvzcuz",
        "outputId": "94166119-5304-4236-e1d0-3c04fc1d1047"
      },
      "execution_count": null,
      "outputs": [
        {
          "output_type": "execute_result",
          "data": {
            "text/plain": [
              "55"
            ]
          },
          "metadata": {},
          "execution_count": 67
        }
      ]
    },
    {
      "cell_type": "markdown",
      "source": [
        "## Ex 2.\n",
        "\n",
        "0부터 자연수 n까지 숫자들의 제곱의 합을 리턴."
      ],
      "metadata": {
        "id": "75Qcgxg3tcgw"
      }
    },
    {
      "cell_type": "code",
      "source": [
        "def square_sum_to(n):\n",
        "    \"\"\"1^2 + 2^2 + 3^2 + ... + n^2의 결과를 리턴.\"\"\"\n",
        "    result = 0\n",
        "    for x in range(1, n + 1):\n",
        "        result += x ** 2\n",
        "\n",
        "    return result"
      ],
      "metadata": {
        "id": "BFvTnccxzLcL"
      },
      "execution_count": null,
      "outputs": []
    },
    {
      "cell_type": "code",
      "source": [
        "square_sum_to(3)"
      ],
      "metadata": {
        "colab": {
          "base_uri": "https://localhost:8080/"
        },
        "id": "2YoN8ivuzYRw",
        "outputId": "1fa85e61-76e2-4a46-cd56-3438e0d10fd9"
      },
      "execution_count": null,
      "outputs": [
        {
          "output_type": "execute_result",
          "data": {
            "text/plain": [
              "14"
            ]
          },
          "metadata": {},
          "execution_count": 72
        }
      ]
    },
    {
      "cell_type": "code",
      "source": [
        "square_sum_to(n=5)"
      ],
      "metadata": {
        "colab": {
          "base_uri": "https://localhost:8080/"
        },
        "id": "tZCmOxCp0gfG",
        "outputId": "a45e67d2-d6ab-47ea-f15b-9cd9c65bfa71"
      },
      "execution_count": null,
      "outputs": [
        {
          "output_type": "execute_result",
          "data": {
            "text/plain": [
              "55"
            ]
          },
          "metadata": {},
          "execution_count": 73
        }
      ]
    }
  ]
}