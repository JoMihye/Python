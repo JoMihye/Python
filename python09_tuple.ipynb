{
  "nbformat": 4,
  "nbformat_minor": 0,
  "metadata": {
    "colab": {
      "name": "python09_tuple.ipynb",
      "provenance": [],
      "authorship_tag": "ABX9TyOeOEuVzqvolZT7p6+N9X75",
      "include_colab_link": true
    },
    "kernelspec": {
      "name": "python3",
      "display_name": "Python 3"
    },
    "language_info": {
      "name": "python"
    }
  },
  "cells": [
    {
      "cell_type": "markdown",
      "metadata": {
        "id": "view-in-github",
        "colab_type": "text"
      },
      "source": [
        "<a href=\"https://colab.research.google.com/github/JoMihye/Python/blob/main/python09_tuple.ipynb\" target=\"_parent\"><img src=\"https://colab.research.google.com/assets/colab-badge.svg\" alt=\"Open In Colab\"/></a>"
      ]
    },
    {
      "cell_type": "markdown",
      "source": [
        "# 튜플(tuple)"
      ],
      "metadata": {
        "id": "r58DvXlfaFYU"
      }
    },
    {
      "cell_type": "markdown",
      "source": [
        "*  tuple: 저장된 원소들을 변경할 수 없는 리스트.\n",
        "*  인덱스 기반의 데이터 타입.\n",
        "    *  인덱스를 사용해서 저장된 원소를 참조.\n",
        "    *  indexing, slicing\n",
        "*  append, remove 등과 같은 메서드들이 제공되지 않음."
      ],
      "metadata": {
        "id": "WBjZDpFHaN9t"
      }
    },
    {
      "cell_type": "code",
      "execution_count": null,
      "metadata": {
        "colab": {
          "base_uri": "https://localhost:8080/"
        },
        "id": "iyzVDHIjZ_Wh",
        "outputId": "65b8dd9b-5ae8-432b-f667-91ac9af69ce9"
      },
      "outputs": [
        {
          "output_type": "stream",
          "name": "stdout",
          "text": [
            "(1, 2, 3, 1, 2, 3, 1, 2)\n",
            "<class 'tuple'>\n"
          ]
        }
      ],
      "source": [
        "numbers = (1, 2, 3, 1, 2, 3, 1, 2)\n",
        "print(numbers)\n",
        "print(type(numbers))"
      ]
    },
    {
      "cell_type": "code",
      "source": [
        "numbers.count(1)  # tuple numbers에서 값 1이 몇 번 등장하는지를 리턴.   "
      ],
      "metadata": {
        "colab": {
          "base_uri": "https://localhost:8080/"
        },
        "id": "Gy8zyPVpcUrL",
        "outputId": "e685974a-73c1-4def-a20b-c52fef71f3e5"
      },
      "execution_count": null,
      "outputs": [
        {
          "output_type": "execute_result",
          "data": {
            "text/plain": [
              "3"
            ]
          },
          "metadata": {},
          "execution_count": 4
        }
      ]
    },
    {
      "cell_type": "code",
      "source": [
        "numbers.index(1)  # tuple numbers에서 값 1이 가장 처음 등장하는 인덱스를 리턴."
      ],
      "metadata": {
        "colab": {
          "base_uri": "https://localhost:8080/"
        },
        "id": "AoxXvTozcn77",
        "outputId": "7126d09a-64d7-46a5-ff19-35c34ac16fbe"
      },
      "execution_count": null,
      "outputs": [
        {
          "output_type": "execute_result",
          "data": {
            "text/plain": [
              "0"
            ]
          },
          "metadata": {},
          "execution_count": 5
        }
      ]
    },
    {
      "cell_type": "markdown",
      "source": [
        "## indexing"
      ],
      "metadata": {
        "id": "zZ4WIP9jdEA9"
      }
    },
    {
      "cell_type": "code",
      "source": [
        "print(numbers)"
      ],
      "metadata": {
        "colab": {
          "base_uri": "https://localhost:8080/"
        },
        "id": "oVWph6AOdGzq",
        "outputId": "888fc2ca-2534-4f05-950c-2bfb9fe90f67"
      },
      "execution_count": null,
      "outputs": [
        {
          "output_type": "stream",
          "name": "stdout",
          "text": [
            "(1, 2, 3, 1, 2, 3, 1, 2)\n"
          ]
        }
      ]
    },
    {
      "cell_type": "code",
      "source": [
        "numbers[0]  # tuple에서 첫번째 원소 참조"
      ],
      "metadata": {
        "colab": {
          "base_uri": "https://localhost:8080/"
        },
        "id": "I0UvsYMKdIcJ",
        "outputId": "593f5a00-e799-41f1-ce1b-bbfaeb0a69d9"
      },
      "execution_count": null,
      "outputs": [
        {
          "output_type": "execute_result",
          "data": {
            "text/plain": [
              "1"
            ]
          },
          "metadata": {},
          "execution_count": 8
        }
      ]
    },
    {
      "cell_type": "code",
      "source": [
        "numbers[-1]  # tuple에서 마지막 원소 참조"
      ],
      "metadata": {
        "colab": {
          "base_uri": "https://localhost:8080/"
        },
        "id": "J7Ss288vdZvh",
        "outputId": "dd31a231-f245-45c2-d91e-8f82a952dab3"
      },
      "execution_count": null,
      "outputs": [
        {
          "output_type": "execute_result",
          "data": {
            "text/plain": [
              "2"
            ]
          },
          "metadata": {},
          "execution_count": 9
        }
      ]
    },
    {
      "cell_type": "markdown",
      "source": [
        "## slicing"
      ],
      "metadata": {
        "id": "unu-sAfydnqo"
      }
    },
    {
      "cell_type": "code",
      "source": [
        "numbers[:3]  # tuple에서 앞에서 3개를 slicing"
      ],
      "metadata": {
        "colab": {
          "base_uri": "https://localhost:8080/"
        },
        "id": "5DR4n6JPdpoQ",
        "outputId": "8d12d1c9-9af4-4a00-9ca4-fe57f015dfc8"
      },
      "execution_count": null,
      "outputs": [
        {
          "output_type": "execute_result",
          "data": {
            "text/plain": [
              "(1, 2, 3)"
            ]
          },
          "metadata": {},
          "execution_count": 10
        }
      ]
    },
    {
      "cell_type": "code",
      "source": [
        "numbers[-3:]  # tuple에서 뒤에서 3개를 slicing"
      ],
      "metadata": {
        "colab": {
          "base_uri": "https://localhost:8080/"
        },
        "id": "LoiWyebgd6Il",
        "outputId": "4e61bad2-1f28-4d3c-c5b4-254ee4a23b5a"
      },
      "execution_count": null,
      "outputs": [
        {
          "output_type": "execute_result",
          "data": {
            "text/plain": [
              "(3, 1, 2)"
            ]
          },
          "metadata": {},
          "execution_count": 11
        }
      ]
    },
    {
      "cell_type": "markdown",
      "source": [
        "## decomposition(분해)"
      ],
      "metadata": {
        "id": "QUTvImTeeNqr"
      }
    },
    {
      "cell_type": "code",
      "source": [
        "a, b = (1, 2)\n",
        "print(a)\n",
        "print(b)"
      ],
      "metadata": {
        "colab": {
          "base_uri": "https://localhost:8080/"
        },
        "id": "FklHJR9Ad-8Z",
        "outputId": "b56e4105-016a-4b7e-d8cd-9963699be76f"
      },
      "execution_count": null,
      "outputs": [
        {
          "output_type": "stream",
          "name": "stdout",
          "text": [
            "1\n",
            "2\n"
          ]
        }
      ]
    },
    {
      "cell_type": "code",
      "source": [
        "x, y, z = [1, 2, 3]\n",
        "print(x, y, z)"
      ],
      "metadata": {
        "colab": {
          "base_uri": "https://localhost:8080/"
        },
        "id": "UN2kuB4OfcQ3",
        "outputId": "8b348d18-67d4-4650-ab6c-9f182d0f1592"
      },
      "execution_count": null,
      "outputs": [
        {
          "output_type": "stream",
          "name": "stdout",
          "text": [
            "1 2 3\n"
          ]
        }
      ]
    },
    {
      "cell_type": "markdown",
      "source": [
        "## tuple과 for 반복문"
      ],
      "metadata": {
        "id": "PTGqlG8Af_bv"
      }
    },
    {
      "cell_type": "code",
      "source": [
        "for x in (1, 2, 10, 20):\n",
        "    print(x)"
      ],
      "metadata": {
        "colab": {
          "base_uri": "https://localhost:8080/"
        },
        "id": "XXVxnUyGgBXU",
        "outputId": "323e3d18-2734-46cb-a28b-7c0a9eab542f"
      },
      "execution_count": null,
      "outputs": [
        {
          "output_type": "stream",
          "name": "stdout",
          "text": [
            "1\n",
            "2\n",
            "10\n",
            "20\n"
          ]
        }
      ]
    },
    {
      "cell_type": "code",
      "source": [
        "mat_tuple = ((1, 2),\n",
        "             (3, 4),\n",
        "             (5, 6))\n",
        "for row in mat_tuple:\n",
        "    for x in row:\n",
        "        print(x, end = '\\t')\n",
        "    print()"
      ],
      "metadata": {
        "colab": {
          "base_uri": "https://localhost:8080/"
        },
        "id": "pmtVVKUsgGWn",
        "outputId": "9d474fdf-bb4b-4591-905d-ae96ef7f3a34"
      },
      "execution_count": null,
      "outputs": [
        {
          "output_type": "stream",
          "name": "stdout",
          "text": [
            "1\t2\t\n",
            "3\t4\t\n",
            "5\t6\t\n"
          ]
        }
      ]
    },
    {
      "cell_type": "code",
      "source": [
        "for x, y in mat_tuple:\n",
        "    print(x, y, sep='\\t')"
      ],
      "metadata": {
        "colab": {
          "base_uri": "https://localhost:8080/"
        },
        "id": "AOoOjkeAi6LR",
        "outputId": "f972b789-499d-4eff-d1c3-edbfb55de4ee"
      },
      "execution_count": null,
      "outputs": [
        {
          "output_type": "stream",
          "name": "stdout",
          "text": [
            "1\t2\n",
            "3\t4\n",
            "5\t6\n"
          ]
        }
      ]
    }
  ]
}