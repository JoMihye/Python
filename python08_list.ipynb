{
  "nbformat": 4,
  "nbformat_minor": 0,
  "metadata": {
    "colab": {
      "name": "python08_list.ipynb",
      "provenance": [],
      "collapsed_sections": [],
      "authorship_tag": "ABX9TyOAYaTpQHrLmkq7bV/Qy1Qt",
      "include_colab_link": true
    },
    "kernelspec": {
      "name": "python3",
      "display_name": "Python 3"
    },
    "language_info": {
      "name": "python"
    }
  },
  "cells": [
    {
      "cell_type": "markdown",
      "metadata": {
        "id": "view-in-github",
        "colab_type": "text"
      },
      "source": [
        "<a href=\"https://colab.research.google.com/github/JoMihye/Python/blob/main/python08_list.ipynb\" target=\"_parent\"><img src=\"https://colab.research.google.com/assets/colab-badge.svg\" alt=\"Open In Colab\"/></a>"
      ]
    },
    {
      "cell_type": "markdown",
      "source": [
        "# list와 for 반복문"
      ],
      "metadata": {
        "id": "7xzy1e_iAxp7"
      }
    },
    {
      "cell_type": "code",
      "execution_count": null,
      "metadata": {
        "colab": {
          "base_uri": "https://localhost:8080/"
        },
        "id": "5IyXm-eJAf60",
        "outputId": "825a68f7-5a66-4c91-af8f-57c8112109e3"
      },
      "outputs": [
        {
          "output_type": "stream",
          "name": "stdout",
          "text": [
            "1\n",
            "10\n",
            "100\n",
            "1000\n"
          ]
        }
      ],
      "source": [
        "numbers = [1, 10, 100, 1000]\n",
        "# list의 값들을 순회(반복, iteration)\n",
        "for x in numbers:\n",
        "    print(x)"
      ]
    },
    {
      "cell_type": "code",
      "source": [
        "# list의 index와 값들을 함께 순회(iteration)\n",
        "for index, value in enumerate(numbers):\n",
        "    print(index, ':', value)"
      ],
      "metadata": {
        "colab": {
          "base_uri": "https://localhost:8080/"
        },
        "id": "0ipC-21bBfng",
        "outputId": "e4ac815f-2cad-402c-9130-38f16c53cf74"
      },
      "execution_count": null,
      "outputs": [
        {
          "output_type": "stream",
          "name": "stdout",
          "text": [
            "0 : 1\n",
            "1 : 10\n",
            "2 : 100\n",
            "3 : 1000\n"
          ]
        }
      ]
    },
    {
      "cell_type": "markdown",
      "source": [
        "*  빈 리스트(empty list)를 만듦.\n",
        "*  리스트에서 정수 난수 10개를 저장.\n",
        "*  리스트에서 짝수들로만 이루어진 새로운 리스트를 만듦.\n",
        "*  리스트에서 홀수들로만 이루어진 새로운 리스트를 만듦."
      ],
      "metadata": {
        "id": "OW-X_zlhDdL5"
      }
    },
    {
      "cell_type": "code",
      "source": [
        "import random  # 난수를 사용하기 위한 모듈"
      ],
      "metadata": {
        "id": "IDU_vIkXDn1F"
      },
      "execution_count": null,
      "outputs": []
    },
    {
      "cell_type": "code",
      "source": [
        "numbers = []  # empty list\n",
        "for _ in range(10):  # 10번 반복하면서\n",
        "    # 0 이상 100 미만의 정수 난수를 리스트 numbers의 가장 마지막에 추가.\n",
        "    numbers.append(random.randrange(100))\n",
        "print(numbers)"
      ],
      "metadata": {
        "colab": {
          "base_uri": "https://localhost:8080/"
        },
        "id": "DA0zQACQDyzG",
        "outputId": "c8592f80-8d5d-4f36-e5fa-e8c342555593"
      },
      "execution_count": null,
      "outputs": [
        {
          "output_type": "stream",
          "name": "stdout",
          "text": [
            "[8, 87, 3, 33, 35, 89, 88, 23, 76, 50]\n"
          ]
        }
      ]
    },
    {
      "cell_type": "code",
      "source": [
        ""
      ],
      "metadata": {
        "id": "3pch1lfLFqLx"
      },
      "execution_count": null,
      "outputs": []
    },
    {
      "cell_type": "code",
      "source": [
        "evens = []  # 짝수들만 저장할 리스트\n",
        "odds = []  # 홀수들만 저장할 리스트\n",
        "for x in numbers:  # 리스트 numbers의 원소들을 순회(iteration)\n",
        "    if x % 2 == 0:  # 리스트에서 꺼낸 원소가 짝수이면\n",
        "        evens.append(x)\n",
        "    else:\n",
        "        odds.append(x)\n",
        "\n",
        "print(evens)\n",
        "print(odds)"
      ],
      "metadata": {
        "colab": {
          "base_uri": "https://localhost:8080/"
        },
        "id": "PLO0B0EoJ6Rj",
        "outputId": "a4f6361e-bd88-4990-ebd2-a1ddaa4e4cd0"
      },
      "execution_count": null,
      "outputs": [
        {
          "output_type": "stream",
          "name": "stdout",
          "text": [
            "[8, 88, 76, 50]\n",
            "[87, 3, 33, 35, 89, 23]\n"
          ]
        }
      ]
    },
    {
      "cell_type": "markdown",
      "source": [
        "*  integers 이름의 빈 리스트를 만듦.\n",
        "*  리스트 integers에 -10 이상 10 이하의 정수 난수 10개를 저장.\n",
        "*  positives 이름의 빈 리스트를 만듦.\n",
        "*  positives에는 integers의 원소가 양수이면 True, 그렇지 않으면 False를 저장.\n",
        "*  positives를 출력."
      ],
      "metadata": {
        "id": "kek0KQCyKxR6"
      }
    },
    {
      "cell_type": "code",
      "source": [
        "integers = []\n",
        "for x in range(10):\n",
        "    integers.append(random.randrange(-10, 11))\n",
        "print(integers)\n",
        "positives = []\n",
        "for x in integers:\n",
        "    if x > 0:\n",
        "        positives.append(True)  # 'True' 문자열\n",
        "    else:\n",
        "        positives.append(False)\n",
        "print(positives)"
      ],
      "metadata": {
        "colab": {
          "base_uri": "https://localhost:8080/"
        },
        "id": "rtyIt8htLS48",
        "outputId": "78682c62-293b-4d98-fc7f-782923072d56"
      },
      "execution_count": null,
      "outputs": [
        {
          "output_type": "stream",
          "name": "stdout",
          "text": [
            "[3, -8, 1, 9, -9, -5, -2, 4, -8, 4]\n",
            "[True, False, True, True, False, False, False, True, False, True]\n"
          ]
        }
      ]
    },
    {
      "cell_type": "markdown",
      "source": [
        "*  gender_codes 이름의 빈 리스트 만듦.\n",
        "*  gender_codes에 0 또는 1을 무작위로(랜덤하게) 10개를 저장.\n",
        "*  gender 이름의 빈 리스트를 만듦.\n",
        "*  gender에는 gender_codes의 값이 0이면 'Male', 1이면 'Female'을 저장.\n",
        "*  gender를 출력."
      ],
      "metadata": {
        "id": "GwB6A7GpLhgb"
      }
    },
    {
      "cell_type": "code",
      "source": [
        "gender_codes = []\n",
        "for x in range(10):\n",
        "    gender_codes.append(random.randrange(2))\n",
        "print(gender_codes)\n",
        "\n",
        "gender = []\n",
        "for x in gender_codes:\n",
        "    if x == 0:\n",
        "        gender.append('Male')\n",
        "    else:\n",
        "        gender.append('Female')\n",
        "print(gender)"
      ],
      "metadata": {
        "colab": {
          "base_uri": "https://localhost:8080/"
        },
        "id": "w6LVJSnsMDvX",
        "outputId": "0d95a88e-4963-41d4-e3fa-04da0d9c2630"
      },
      "execution_count": null,
      "outputs": [
        {
          "output_type": "stream",
          "name": "stdout",
          "text": [
            "[0, 1, 0, 0, 0, 0, 0, 1, 1, 0]\n",
            "['Male', 'Female', 'Male', 'Male', 'Male', 'Male', 'Male', 'Female', 'Female', 'Male']\n"
          ]
        }
      ]
    },
    {
      "cell_type": "markdown",
      "source": [
        "# list comprehension(리스트 내포)"
      ],
      "metadata": {
        "id": "7h5ZcOsmlcjk"
      }
    },
    {
      "cell_type": "markdown",
      "source": [
        "*  빈 리스트에 1부터 10까지 정수를 오름차순 순서로 저장."
      ],
      "metadata": {
        "id": "ltffIqC_mJoL"
      }
    },
    {
      "cell_type": "code",
      "source": [
        "numbers = []\n",
        "for x in range(1, 11):\n",
        "    numbers.append(x)\n",
        "print(numbers)"
      ],
      "metadata": {
        "colab": {
          "base_uri": "https://localhost:8080/"
        },
        "id": "2x0ImpEqmOfJ",
        "outputId": "c2122815-4746-4e7a-b324-75759ecc7d79"
      },
      "execution_count": null,
      "outputs": [
        {
          "output_type": "stream",
          "name": "stdout",
          "text": [
            "[1, 2, 3, 4, 5, 6, 7, 8, 9, 10]\n"
          ]
        }
      ]
    },
    {
      "cell_type": "code",
      "source": [
        "numbers2 = [x for x in range(1, 11)]\n",
        "print(numbers2)"
      ],
      "metadata": {
        "colab": {
          "base_uri": "https://localhost:8080/"
        },
        "id": "W_CuLJrfmXIE",
        "outputId": "a4bc92be-5b1e-41e9-dbc4-1ae686c84bbc"
      },
      "execution_count": null,
      "outputs": [
        {
          "output_type": "stream",
          "name": "stdout",
          "text": [
            "[1, 2, 3, 4, 5, 6, 7, 8, 9, 10]\n"
          ]
        }
      ]
    },
    {
      "cell_type": "markdown",
      "source": [
        "*  `[1, 4, 9, 16, ..., 81, 100]`: 1~10 정수들의 제곱으로 이루어진 리스트"
      ],
      "metadata": {
        "id": "GdbZMWd5nc6F"
      }
    },
    {
      "cell_type": "code",
      "source": [
        "squares = []\n",
        "for x in range(1, 11):\n",
        "    squares.append(x**2)\n",
        "print(squares)"
      ],
      "metadata": {
        "colab": {
          "base_uri": "https://localhost:8080/"
        },
        "id": "mBKSy5DankMV",
        "outputId": "dc733487-6275-4c1a-c102-d5127d0435dd"
      },
      "execution_count": null,
      "outputs": [
        {
          "output_type": "stream",
          "name": "stdout",
          "text": [
            "[1, 4, 9, 16, 25, 36, 49, 64, 81, 100]\n"
          ]
        }
      ]
    },
    {
      "cell_type": "code",
      "source": [
        "squares2 = [x**2 for x in range(1, 11)]\n",
        "print(squares2)"
      ],
      "metadata": {
        "colab": {
          "base_uri": "https://localhost:8080/"
        },
        "id": "gdGiSMRfoYZu",
        "outputId": "ebf8fa46-ddb7-4e8b-8132-96388a9a4938"
      },
      "execution_count": null,
      "outputs": [
        {
          "output_type": "stream",
          "name": "stdout",
          "text": [
            "[1, 4, 9, 16, 25, 36, 49, 64, 81, 100]\n"
          ]
        }
      ]
    },
    {
      "cell_type": "markdown",
      "source": [
        "*  numbers 이름의 리스트에 [0, 100) 범위의 난수 10개를 저장"
      ],
      "metadata": {
        "id": "o7jh4vPKpZR8"
      }
    },
    {
      "cell_type": "code",
      "source": [
        "numbers = [random.randrange(100) for x in range(10)]\n",
        "print(numbers)"
      ],
      "metadata": {
        "colab": {
          "base_uri": "https://localhost:8080/"
        },
        "id": "IrUQam1ppQBw",
        "outputId": "615c4db8-9f6a-451f-b808-3617394234b8"
      },
      "execution_count": null,
      "outputs": [
        {
          "output_type": "stream",
          "name": "stdout",
          "text": [
            "[26, 26, 20, 33, 67, 66, 37, 14, 80, 69]\n"
          ]
        }
      ]
    },
    {
      "cell_type": "markdown",
      "source": [
        "*  numbers에 저장된 숫자들 중에서 짝수들로만 이루어진 리스트"
      ],
      "metadata": {
        "id": "PP7Xp216rEiU"
      }
    },
    {
      "cell_type": "code",
      "source": [
        "evens = [x for x in numbers if x % 2 == 0]\n",
        "print(evens)"
      ],
      "metadata": {
        "colab": {
          "base_uri": "https://localhost:8080/"
        },
        "id": "8zdrWD8PrCpy",
        "outputId": "f70225c9-b984-4567-96f7-52050242bba7"
      },
      "execution_count": null,
      "outputs": [
        {
          "output_type": "stream",
          "name": "stdout",
          "text": [
            "[26, 26, 20, 66, 14, 80]\n"
          ]
        }
      ]
    },
    {
      "cell_type": "code",
      "source": [
        "# 문자열들의 리스트\n",
        "fruits = ['apple', 'banana', 'cherry', 'durian', 'watermelon']\n",
        "# 문자열의 길이를 저장하는 리스트\n",
        "fruit_lengths = [len(x) for x in fruits]\n",
        "print(fruit_lengths)"
      ],
      "metadata": {
        "colab": {
          "base_uri": "https://localhost:8080/"
        },
        "id": "BH_qU0mysEmX",
        "outputId": "efb81842-e4ef-4080-c083-f8fba58b29b6"
      },
      "execution_count": null,
      "outputs": [
        {
          "output_type": "stream",
          "name": "stdout",
          "text": [
            "[5, 6, 6, 6, 10]\n"
          ]
        }
      ]
    },
    {
      "cell_type": "markdown",
      "source": [
        "*  [0, 100) 범위의 정수 난수 10개를 갖는 리스트를 만듦.\n",
        "*  리스트의 원소가 짝수이면 'even', 홀수이면 'odd'를 갖는 리스트를 만듦."
      ],
      "metadata": {
        "id": "1eoOHqH7yAds"
      }
    },
    {
      "cell_type": "code",
      "source": [
        "# if-else expression(표현식)\n",
        "n = 1\n",
        "is_even = 'even' if n % 2 == 0 else 'odd'\n",
        "print(is_even)"
      ],
      "metadata": {
        "colab": {
          "base_uri": "https://localhost:8080/"
        },
        "id": "JO8Oup9uyyju",
        "outputId": "2bbf4bcd-2e69-4004-cb67-f9abeece4995"
      },
      "execution_count": null,
      "outputs": [
        {
          "output_type": "stream",
          "name": "stdout",
          "text": [
            "odd\n"
          ]
        }
      ]
    },
    {
      "cell_type": "code",
      "source": [
        "n = 2\n",
        "if n % 2 == 0:\n",
        "    is_even = 'even'\n",
        "else:\n",
        "    is_even = 'odd'\n",
        "print(is_even)"
      ],
      "metadata": {
        "colab": {
          "base_uri": "https://localhost:8080/"
        },
        "id": "IvZUT6U_0A_0",
        "outputId": "71ecd0a2-711a-4b3b-dc55-a0613634b829"
      },
      "execution_count": null,
      "outputs": [
        {
          "output_type": "stream",
          "name": "stdout",
          "text": [
            "even\n"
          ]
        }
      ]
    },
    {
      "cell_type": "code",
      "source": [
        "numbers = [random.randrange(100) for _ in range(10)]\n",
        "print(numbers)"
      ],
      "metadata": {
        "colab": {
          "base_uri": "https://localhost:8080/"
        },
        "id": "gOsjj3tk0uCb",
        "outputId": "3f7f359a-56e7-41f3-93af-0a53de865d1f"
      },
      "execution_count": null,
      "outputs": [
        {
          "output_type": "stream",
          "name": "stdout",
          "text": [
            "[5, 19, 25, 22, 32, 35, 61, 86, 85, 4]\n"
          ]
        }
      ]
    },
    {
      "cell_type": "code",
      "source": [
        "result = ['even' if x % 2 == 0 else 'odd' for x in numbers]\n",
        "print(result)"
      ],
      "metadata": {
        "colab": {
          "base_uri": "https://localhost:8080/"
        },
        "id": "GI05GBk01XAB",
        "outputId": "e143ac36-f6ab-4cfa-b248-ff8809c8d783"
      },
      "execution_count": null,
      "outputs": [
        {
          "output_type": "stream",
          "name": "stdout",
          "text": [
            "['odd', 'odd', 'odd', 'even', 'even', 'odd', 'odd', 'even', 'odd', 'even']\n"
          ]
        }
      ]
    },
    {
      "cell_type": "markdown",
      "source": [
        "*  0과 1이 랜덤하게 10개 저장된 리스트 만듦.\n",
        "*  0이면 'Male', 1이면 'Female'을 저장하는 리스트를 만듦."
      ],
      "metadata": {
        "id": "cKzQGic93EPt"
      }
    },
    {
      "cell_type": "code",
      "source": [
        "gender_codes = [random.randrange(2) for _ in range(10)]\n",
        "print(gender_codes)"
      ],
      "metadata": {
        "colab": {
          "base_uri": "https://localhost:8080/"
        },
        "id": "9s1ud86X3PKn",
        "outputId": "c1dd3530-6a9d-4466-e646-6dbccfdc8ef0"
      },
      "execution_count": null,
      "outputs": [
        {
          "output_type": "stream",
          "name": "stdout",
          "text": [
            "[0, 1, 1, 1, 0, 1, 0, 1, 1, 0]\n"
          ]
        }
      ]
    },
    {
      "cell_type": "code",
      "source": [
        "gender = ['Male' if x == 0 else 'Female' for x in gender_codes]\n",
        "print(gender)"
      ],
      "metadata": {
        "colab": {
          "base_uri": "https://localhost:8080/"
        },
        "id": "SbWpGgNo3oHe",
        "outputId": "23a10c46-05a3-48c4-a6d3-b2d632b27566"
      },
      "execution_count": null,
      "outputs": [
        {
          "output_type": "stream",
          "name": "stdout",
          "text": [
            "['Male', 'Female', 'Female', 'Female', 'Male', 'Female', 'Male', 'Female', 'Female', 'Male']\n"
          ]
        }
      ]
    },
    {
      "cell_type": "markdown",
      "source": [
        "*  numbers1: 10 미만의 0 또는 양의 정수 10개를 저장하고 있는 리스트.\n",
        "*  numbers2: 10 미만의 0 또는 양의 정수 10개를 저장하고 있는 리스트.\n",
        "*  adds: numbers1과 numbers2의 같은 인덱스에 있는 원소들끼리의 합을 저장하는 리스트."
      ],
      "metadata": {
        "id": "wYX4mE5r5VuG"
      }
    },
    {
      "cell_type": "code",
      "source": [
        "numbers1 = [random.randrange(10) for _ in range(10)]\n",
        "print(numbers1)\n",
        "\n",
        "numbers = [random.randrange(10) for _ in range(10)]\n",
        "print(numbers2)\n",
        "\n",
        "# adds = []\n",
        "# for i in range(10):\n",
        "#     adds.append(numbers1[i] + numbers2[i])\n",
        "adds = [numbers1[i] + numbers2[i] for i in range(10)]\n",
        "    \n",
        "print(adds)"
      ],
      "metadata": {
        "colab": {
          "base_uri": "https://localhost:8080/"
        },
        "id": "f4PZ74Dh6B4N",
        "outputId": "689a80c0-789f-496f-83cc-e885c8884623"
      },
      "execution_count": null,
      "outputs": [
        {
          "output_type": "stream",
          "name": "stdout",
          "text": [
            "[9, 3, 1, 9, 3, 1, 9, 4, 4, 9]\n",
            "[1, 2, 3, 4, 5, 6, 7, 8, 9, 10]\n",
            "[10, 5, 4, 13, 8, 7, 16, 12, 13, 19]\n"
          ]
        }
      ]
    },
    {
      "cell_type": "code",
      "source": [
        "print(numbers1)\n",
        "print(numbers2)\n",
        "for x, y in zip(numbers1, numbers2):\n",
        "    print(x, y)"
      ],
      "metadata": {
        "colab": {
          "base_uri": "https://localhost:8080/"
        },
        "id": "7LZCmvtpC4M6",
        "outputId": "0b44a63a-1708-4487-eb91-b99f43280aea"
      },
      "execution_count": null,
      "outputs": [
        {
          "output_type": "stream",
          "name": "stdout",
          "text": [
            "[9, 3, 1, 9, 3, 1, 9, 4, 4, 9]\n",
            "[1, 2, 3, 4, 5, 6, 7, 8, 9, 10]\n",
            "9 1\n",
            "3 2\n",
            "1 3\n",
            "9 4\n",
            "3 5\n",
            "1 6\n",
            "9 7\n",
            "4 8\n",
            "4 9\n",
            "9 10\n"
          ]
        }
      ]
    },
    {
      "cell_type": "code",
      "source": [
        "adds = []\n",
        "for x, y in zip(numbers1, numbers2):\n",
        "    adds.append(x + y)\n",
        "\n",
        "print(adds)"
      ],
      "metadata": {
        "colab": {
          "base_uri": "https://localhost:8080/"
        },
        "id": "db2chLpPEnKb",
        "outputId": "793e9750-deee-412d-de43-7f34b3c82ae5"
      },
      "execution_count": null,
      "outputs": [
        {
          "output_type": "stream",
          "name": "stdout",
          "text": [
            "[10, 5, 4, 13, 8, 7, 16, 12, 13, 19]\n"
          ]
        }
      ]
    },
    {
      "cell_type": "code",
      "source": [
        "adds = [x + y for x, y in zip(numbers1, numbers2)]\n",
        "print(adds)"
      ],
      "metadata": {
        "id": "40WOFtl6E-_-"
      },
      "execution_count": null,
      "outputs": []
    },
    {
      "cell_type": "markdown",
      "source": [
        "# 다차원 리스트"
      ],
      "metadata": {
        "id": "WeMGI6NsF2Yr"
      }
    },
    {
      "cell_type": "code",
      "source": [
        "# 2차원 리스트: 1차원 리스트들을 원소로 갖는 리스트.\n",
        "matrix = [[1, 2, 3],\n",
        "          [4, 5, 6],\n",
        "          [7, 8, 9]]\n",
        "print(matrix)"
      ],
      "metadata": {
        "colab": {
          "base_uri": "https://localhost:8080/"
        },
        "id": "yFVCkjMTF_57",
        "outputId": "1a6edc7a-9ef5-4838-f827-2e3be19f74a2"
      },
      "execution_count": null,
      "outputs": [
        {
          "output_type": "stream",
          "name": "stdout",
          "text": [
            "[[1, 2, 3], [4, 5, 6], [7, 8, 9]]\n"
          ]
        }
      ]
    },
    {
      "cell_type": "markdown",
      "source": [
        "## 2차원 리스트의 indexing"
      ],
      "metadata": {
        "id": "KXxJd82oHaM4"
      }
    },
    {
      "cell_type": "code",
      "source": [
        "matrix[0]"
      ],
      "metadata": {
        "colab": {
          "base_uri": "https://localhost:8080/"
        },
        "id": "K2Da9BnWGyIS",
        "outputId": "1fcaad54-716d-4a0c-ec21-35ab329146b7"
      },
      "execution_count": null,
      "outputs": [
        {
          "output_type": "execute_result",
          "data": {
            "text/plain": [
              "[1, 2, 3]"
            ]
          },
          "metadata": {},
          "execution_count": 67
        }
      ]
    },
    {
      "cell_type": "code",
      "source": [
        "matrix[0][0]"
      ],
      "metadata": {
        "id": "2z1WXC_dHgol",
        "colab": {
          "base_uri": "https://localhost:8080/"
        },
        "outputId": "de63cc46-ce9a-4c4d-f917-6b28f5e24015"
      },
      "execution_count": null,
      "outputs": [
        {
          "output_type": "execute_result",
          "data": {
            "text/plain": [
              "1"
            ]
          },
          "metadata": {},
          "execution_count": 69
        }
      ]
    },
    {
      "cell_type": "markdown",
      "source": [
        "## 2차원 리스트에서 for 반복문"
      ],
      "metadata": {
        "id": "8nXfmo0qHPTk"
      }
    },
    {
      "cell_type": "code",
      "source": [
        "for row in matrix:\n",
        "    for x in row:\n",
        "        print(x, end = '\\t')\n",
        "    print()"
      ],
      "metadata": {
        "colab": {
          "base_uri": "https://localhost:8080/"
        },
        "id": "GJt6Yz6aHU2X",
        "outputId": "20813abf-fdc8-41ce-c2ec-ff9fdb8fd8fc"
      },
      "execution_count": null,
      "outputs": [
        {
          "output_type": "stream",
          "name": "stdout",
          "text": [
            "1\t2\t3\t\n",
            "4\t5\t6\t\n",
            "7\t8\t9\t\n"
          ]
        }
      ]
    },
    {
      "cell_type": "code",
      "source": [
        "m1 = [[1, 2, 3],\n",
        "      [4, 5, 6]]\n",
        "m2 = [[1, 1, 1],\n",
        "      [2, 2, 2]]\n",
        "print(m1)\n",
        "print(m2)"
      ],
      "metadata": {
        "colab": {
          "base_uri": "https://localhost:8080/"
        },
        "id": "NJeTEMKIJEUG",
        "outputId": "92dd8c9f-503f-4d5f-d9f4-b1fdd5ac8b84"
      },
      "execution_count": null,
      "outputs": [
        {
          "output_type": "stream",
          "name": "stdout",
          "text": [
            "[[1, 2, 3], [4, 5, 6]]\n",
            "[[1, 1, 1], [2, 2, 2]]\n"
          ]
        }
      ]
    },
    {
      "cell_type": "code",
      "source": [
        "adds = []  # 리스트들을 저장하기 위한 빈 리스트\n",
        "for row1, row2 in zip(m1, m2):\n",
        "    plus = []  # 1차원 리스트 row1과 row2에서 같은 인덱스에 있는 원소들끼리 더한 값을 저장할 리스트.\n",
        "    for x, y in zip(row1, row2):\n",
        "        plus.append(x + y)\n",
        "    adds.append(plus)\n",
        "\n",
        "print(adds)"
      ],
      "metadata": {
        "colab": {
          "base_uri": "https://localhost:8080/"
        },
        "id": "OAycGxwzJNqc",
        "outputId": "d2420192-ea29-4a2a-e165-149c7b9d9db0"
      },
      "execution_count": null,
      "outputs": [
        {
          "output_type": "stream",
          "name": "stdout",
          "text": [
            "[[2, 3, 4], [6, 7, 8]]\n"
          ]
        }
      ]
    },
    {
      "cell_type": "code",
      "source": [
        "adds = []\n",
        "for row1, row2 in zip(m1, m2):\n",
        "    plus = [x + y for x, y in zip(row1, row2)]\n",
        "    adds.append(plus)\n",
        "\n",
        "print(adds)"
      ],
      "metadata": {
        "colab": {
          "base_uri": "https://localhost:8080/"
        },
        "id": "R-yNIGfVT3It",
        "outputId": "54faa434-37ea-453d-d7d5-da538f7f86a2"
      },
      "execution_count": null,
      "outputs": [
        {
          "output_type": "stream",
          "name": "stdout",
          "text": [
            "[[2, 3, 4], [6, 7, 8]]\n"
          ]
        }
      ]
    },
    {
      "cell_type": "code",
      "source": [
        "adds = [[x + y for x, y in zip(row1, row2)]\n",
        "        for row1, row2 in zip(m1, m2)]\n",
        "\n",
        "print(adds)"
      ],
      "metadata": {
        "colab": {
          "base_uri": "https://localhost:8080/"
        },
        "id": "STg6IPFOUb9u",
        "outputId": "ea4a8b0a-0007-4714-fa34-18206efdf9d6"
      },
      "execution_count": null,
      "outputs": [
        {
          "output_type": "stream",
          "name": "stdout",
          "text": [
            "[[2, 3, 4], [6, 7, 8]]\n"
          ]
        }
      ]
    }
  ]
}