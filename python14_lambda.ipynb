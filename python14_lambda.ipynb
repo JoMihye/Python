{
  "nbformat": 4,
  "nbformat_minor": 0,
  "metadata": {
    "colab": {
      "name": "python14_lambda.ipynb",
      "provenance": [],
      "authorship_tag": "ABX9TyMZlA72xcViEoBsnUjfT2f4",
      "include_colab_link": true
    },
    "kernelspec": {
      "name": "python3",
      "display_name": "Python 3"
    },
    "language_info": {
      "name": "python"
    }
  },
  "cells": [
    {
      "cell_type": "markdown",
      "metadata": {
        "id": "view-in-github",
        "colab_type": "text"
      },
      "source": [
        "<a href=\"https://colab.research.google.com/github/JoMihye/Python/blob/main/python14_lambda.ipynb\" target=\"_parent\"><img src=\"https://colab.research.google.com/assets/colab-badge.svg\" alt=\"Open In Colab\"/></a>"
      ]
    },
    {
      "cell_type": "markdown",
      "source": [
        "# 1급 객체(first-class object)로서의 함수"
      ],
      "metadata": {
        "id": "7lZghaG-1W39"
      }
    },
    {
      "cell_type": "markdown",
      "source": [
        "함수(function)는 객체(object)이다.\n",
        "\n",
        "*  함수는 변수에 할당(저장)할 수 있음.\n",
        "*  함수의 argument로 다른 함수를 전달할 수 있음."
      ],
      "metadata": {
        "id": "H9oJe0W41ed-"
      }
    },
    {
      "cell_type": "code",
      "execution_count": null,
      "metadata": {
        "id": "o9ht2SP_1KAJ"
      },
      "outputs": [],
      "source": [
        "# 숫자는 객체(object)다. --> 숫자는 변수에 저장\n",
        "x = 1"
      ]
    },
    {
      "cell_type": "code",
      "source": [
        "print(x)  # --> 숫자는 함수의 argument로 전달할 수 있음."
      ],
      "metadata": {
        "colab": {
          "base_uri": "https://localhost:8080/"
        },
        "id": "StOug24k27Wz",
        "outputId": "d410f374-5570-4c46-99c0-eeef51678905"
      },
      "execution_count": null,
      "outputs": [
        {
          "output_type": "stream",
          "name": "stdout",
          "text": [
            "1\n"
          ]
        }
      ]
    },
    {
      "cell_type": "code",
      "source": [
        "# 함수 정의\n",
        "def twice(x):\n",
        "    return 2 * x"
      ],
      "metadata": {
        "id": "03YJaahS3BjA"
      },
      "execution_count": null,
      "outputs": []
    },
    {
      "cell_type": "code",
      "source": [
        "twice  # 함수 호출 아님! twice 라는 이름의 객체를 콘솔창에 출력."
      ],
      "metadata": {
        "colab": {
          "base_uri": "https://localhost:8080/"
        },
        "id": "xp1CTV9M3u-F",
        "outputId": "705da13c-a825-4964-bffa-e7405eba8246"
      },
      "execution_count": null,
      "outputs": [
        {
          "output_type": "execute_result",
          "data": {
            "text/plain": [
              "<function __main__.twice>"
            ]
          },
          "metadata": {},
          "execution_count": 5
        }
      ]
    },
    {
      "cell_type": "code",
      "source": [
        "twice(2)  # 함수 호출."
      ],
      "metadata": {
        "colab": {
          "base_uri": "https://localhost:8080/"
        },
        "id": "W3-WARiX4g4j",
        "outputId": "73c256fb-b699-42c2-ee07-fcd8effad11f"
      },
      "execution_count": null,
      "outputs": [
        {
          "output_type": "execute_result",
          "data": {
            "text/plain": [
              "4"
            ]
          },
          "metadata": {},
          "execution_count": 6
        }
      ]
    },
    {
      "cell_type": "code",
      "source": [
        "result = twice(3)  # 함수 twice()의 호출 결과를 변수 result에 저장.\n",
        "result"
      ],
      "metadata": {
        "colab": {
          "base_uri": "https://localhost:8080/"
        },
        "id": "0zhUqW5K4jH1",
        "outputId": "370d7d73-f3ec-45e4-bb2c-f861e04f5d3d"
      },
      "execution_count": null,
      "outputs": [
        {
          "output_type": "execute_result",
          "data": {
            "text/plain": [
              "6"
            ]
          },
          "metadata": {},
          "execution_count": 8
        }
      ]
    },
    {
      "cell_type": "code",
      "source": [
        "double = twice  # 함수 twice를 변수 double에 저장.\n",
        "double"
      ],
      "metadata": {
        "colab": {
          "base_uri": "https://localhost:8080/"
        },
        "id": "cLqteaB_4lNn",
        "outputId": "4e617884-609b-4149-ea5b-b62b872b3233"
      },
      "execution_count": null,
      "outputs": [
        {
          "output_type": "execute_result",
          "data": {
            "text/plain": [
              "<function __main__.twice>"
            ]
          },
          "metadata": {},
          "execution_count": 9
        }
      ]
    },
    {
      "cell_type": "code",
      "source": [
        "double(3)  # 변수 double은 함수이므로 호출할 수 있음."
      ],
      "metadata": {
        "colab": {
          "base_uri": "https://localhost:8080/"
        },
        "id": "_n1Dxxq65fq6",
        "outputId": "defafa57-d26e-41f3-ba8d-d82e5ccf5141"
      },
      "execution_count": null,
      "outputs": [
        {
          "output_type": "execute_result",
          "data": {
            "text/plain": [
              "6"
            ]
          },
          "metadata": {},
          "execution_count": 10
        }
      ]
    },
    {
      "cell_type": "code",
      "source": [
        "def calculate(x, y, fn):\n",
        "    \"\"\" fn(x, y)의 결과를 리턴.\n",
        "\n",
        "    @param x: 숫자.\n",
        "    @param y: 숫자.\n",
        "    @param fn: 함수.\n",
        "    \"\"\"\n",
        "    result = fn(x, y)\n",
        "    return result"
      ],
      "metadata": {
        "id": "5eMqXqpp6Oeo"
      },
      "execution_count": null,
      "outputs": []
    },
    {
      "cell_type": "code",
      "source": [
        "def plus(x, y):\n",
        "    return x + y"
      ],
      "metadata": {
        "id": "Up5xnK097Kv6"
      },
      "execution_count": null,
      "outputs": []
    },
    {
      "cell_type": "code",
      "source": [
        "calculate(1, 2, plus)\n",
        "#> calculate 함수를 호출할 때 파라미터 fn에 plus 함수를 argument로 전달."
      ],
      "metadata": {
        "colab": {
          "base_uri": "https://localhost:8080/"
        },
        "id": "gJ1FFaAu7Omu",
        "outputId": "896b9018-9d19-4723-fe5d-8321b1d9b15b"
      },
      "execution_count": null,
      "outputs": [
        {
          "output_type": "execute_result",
          "data": {
            "text/plain": [
              "3"
            ]
          },
          "metadata": {},
          "execution_count": 13
        }
      ]
    },
    {
      "cell_type": "code",
      "source": [
        "def minus(x, y):\n",
        "    return x- y"
      ],
      "metadata": {
        "id": "FqgM7h068T3U"
      },
      "execution_count": null,
      "outputs": []
    },
    {
      "cell_type": "code",
      "source": [
        "calculate(1, 2, minus)"
      ],
      "metadata": {
        "colab": {
          "base_uri": "https://localhost:8080/"
        },
        "id": "Rk-5I0vX8Xfg",
        "outputId": "f97298a1-9443-4699-92f4-7b5a114d986c"
      },
      "execution_count": null,
      "outputs": [
        {
          "output_type": "execute_result",
          "data": {
            "text/plain": [
              "-1"
            ]
          },
          "metadata": {},
          "execution_count": 15
        }
      ]
    },
    {
      "cell_type": "markdown",
      "source": [
        "# 람다 표현식(Lambda expression)"
      ],
      "metadata": {
        "id": "89vQqnp6CLoD"
      }
    },
    {
      "cell_type": "markdown",
      "source": [
        "```\n",
        "lambda param1, param2, ...:\n",
        "```\n",
        "\n",
        "*  이름이 없는 함수.\n",
        "*  함수 이름을 만들지 않고, 함수의 파라미터 선언과 함수의 반환 값(식)만으로 함수를 정의하는 방법.\n",
        "*  간단하게 정의할 수 있는 함수를 변수(파라미터)에 저장하기 위한 용도."
      ],
      "metadata": {
        "id": "NlMxGVk1CRb2"
      }
    },
    {
      "cell_type": "code",
      "source": [
        "plus_one = lambda x: x + 1  # argument로 x를 전달받아서 x+1을 리턴하는 함수."
      ],
      "metadata": {
        "id": "1YXQrg4zDrji"
      },
      "execution_count": null,
      "outputs": []
    },
    {
      "cell_type": "code",
      "source": [
        "plus_one(1)"
      ],
      "metadata": {
        "colab": {
          "base_uri": "https://localhost:8080/"
        },
        "id": "b5igKqnbDuwD",
        "outputId": "bdb66492-3709-494b-c8e2-057db88b1c85"
      },
      "execution_count": null,
      "outputs": [
        {
          "output_type": "execute_result",
          "data": {
            "text/plain": [
              "2"
            ]
          },
          "metadata": {},
          "execution_count": 17
        }
      ]
    },
    {
      "cell_type": "code",
      "source": [
        "plus = lambda x, y: x + y  # argument로 x, y를 전달받아서 x + y를 리턴하는 함수."
      ],
      "metadata": {
        "id": "gAF8OCE4EI6e"
      },
      "execution_count": null,
      "outputs": []
    },
    {
      "cell_type": "code",
      "source": [
        "plus(1, 2)"
      ],
      "metadata": {
        "colab": {
          "base_uri": "https://localhost:8080/"
        },
        "id": "Y__s3EfaEazW",
        "outputId": "854c3d79-7518-4b24-cef1-2c0f1916aaed"
      },
      "execution_count": null,
      "outputs": [
        {
          "output_type": "execute_result",
          "data": {
            "text/plain": [
              "3"
            ]
          },
          "metadata": {},
          "execution_count": 19
        }
      ]
    },
    {
      "cell_type": "code",
      "source": [
        "# 람다 표현식은 argument로 다른 함수에 전달할 수 있음.\n",
        "calculate(1, 2, lambda x, y: x + y)"
      ],
      "metadata": {
        "colab": {
          "base_uri": "https://localhost:8080/"
        },
        "id": "A9C60DRHEdrJ",
        "outputId": "24951ae8-bd21-4645-8150-0e280362672c"
      },
      "execution_count": null,
      "outputs": [
        {
          "output_type": "execute_result",
          "data": {
            "text/plain": [
              "3"
            ]
          },
          "metadata": {},
          "execution_count": 20
        }
      ]
    },
    {
      "cell_type": "code",
      "source": [
        "calculate(1, 2, lambda x, y: x - y)"
      ],
      "metadata": {
        "colab": {
          "base_uri": "https://localhost:8080/"
        },
        "id": "dAPqmwGkE2kd",
        "outputId": "3798399e-1193-4d26-8f3a-05728d6c2a32"
      },
      "execution_count": null,
      "outputs": [
        {
          "output_type": "execute_result",
          "data": {
            "text/plain": [
              "-1"
            ]
          },
          "metadata": {},
          "execution_count": 21
        }
      ]
    },
    {
      "cell_type": "markdown",
      "source": [
        "## lambda 식을 argument로 전달받는 함수의 예"
      ],
      "metadata": {
        "id": "7fQiH1rOF45Y"
      }
    },
    {
      "cell_type": "markdown",
      "source": [
        "*  filtering: 전체 데이터에서 조건을 만족하는 데이터만 선택."
      ],
      "metadata": {
        "id": "JYgBIOLhjEbz"
      }
    },
    {
      "cell_type": "code",
      "source": [
        "numbers = [1, -2, -3, 4, 5, -6]"
      ],
      "metadata": {
        "id": "cHk3Qu0RGg-C"
      },
      "execution_count": null,
      "outputs": []
    },
    {
      "cell_type": "code",
      "source": [
        "# numbers 리스트에서 양수들로만 이루어진 리스트 --> filtering\n",
        "result = filter(lambda x: x > 0, numbers)\n",
        "list(result)  # filtering된 결과를 list로 만듦."
      ],
      "metadata": {
        "colab": {
          "base_uri": "https://localhost:8080/"
        },
        "id": "Zumi7tlNG00l",
        "outputId": "b7ab8e1b-de48-4ec7-e31b-90dc527bfefd"
      },
      "execution_count": null,
      "outputs": [
        {
          "output_type": "execute_result",
          "data": {
            "text/plain": [
              "[1, 4, 5]"
            ]
          },
          "metadata": {},
          "execution_count": 23
        }
      ]
    },
    {
      "cell_type": "code",
      "source": [
        "# number 리스트에서 짝수들로만 이루어진 리스트 --> filtering\n",
        "result = filter(lambda x: x % 2 == 0, numbers)\n",
        "list(result)"
      ],
      "metadata": {
        "colab": {
          "base_uri": "https://localhost:8080/"
        },
        "id": "ShvW_e1MIX91",
        "outputId": "1827511d-dbcc-464a-d293-ad7b4aacbde6"
      },
      "execution_count": null,
      "outputs": [
        {
          "output_type": "execute_result",
          "data": {
            "text/plain": [
              "[-2, 4, -6]"
            ]
          },
          "metadata": {},
          "execution_count": 25
        }
      ]
    },
    {
      "cell_type": "markdown",
      "source": [
        "*  mapping: 'Male' --> 0, 'Female' -->1"
      ],
      "metadata": {
        "id": "-JVfZ-Arla23"
      }
    },
    {
      "cell_type": "code",
      "source": [
        "gender = ['Female', 'Male', 'Male', 'Female']"
      ],
      "metadata": {
        "id": "ngP6fuKMlYwv"
      },
      "execution_count": null,
      "outputs": []
    },
    {
      "cell_type": "code",
      "source": [
        "result = map(lambda x: 0 if x == 'Male' else 1, gender)\n",
        "tuple(result)"
      ],
      "metadata": {
        "colab": {
          "base_uri": "https://localhost:8080/"
        },
        "id": "uO7BIZI-lnte",
        "outputId": "4aa2709b-bb55-4035-facb-eeabad85b081"
      },
      "execution_count": null,
      "outputs": [
        {
          "output_type": "execute_result",
          "data": {
            "text/plain": [
              "(1, 0, 0, 1)"
            ]
          },
          "metadata": {},
          "execution_count": 2
        }
      ]
    },
    {
      "cell_type": "markdown",
      "source": [
        "*   [0, 100) 범위의 정수 10개를 저장하고 있는 리스트에서, 원소가 짝수이면 'even', 홀수이면 'odd'를 갖는 새로운 리스트를 매핑\n",
        "\n",
        "```\n",
        "[10, 55, 90, ...] --> ['even', 'odd', 'even', ...]\n",
        "```\n"
      ],
      "metadata": {
        "id": "6vFVJ2w9dm9x"
      }
    },
    {
      "cell_type": "code",
      "source": [
        "import random"
      ],
      "metadata": {
        "id": "3offLDyHm9_Y"
      },
      "execution_count": null,
      "outputs": []
    },
    {
      "cell_type": "code",
      "source": [
        "numbers = [random.randrange(100) for _ in range(10)]\n",
        "numbers"
      ],
      "metadata": {
        "colab": {
          "base_uri": "https://localhost:8080/"
        },
        "id": "loL_z7C_dwRU",
        "outputId": "2db72475-2d49-458f-f1ff-518110df5f31"
      },
      "execution_count": null,
      "outputs": [
        {
          "output_type": "execute_result",
          "data": {
            "text/plain": [
              "[83, 62, 19, 51, 23, 44, 52, 80, 0, 33]"
            ]
          },
          "metadata": {},
          "execution_count": 2
        }
      ]
    },
    {
      "cell_type": "code",
      "source": [
        "result = map(lambda x: 'even' if x % 2 ==0 else 'odd', numbers)\n",
        "list(result)"
      ],
      "metadata": {
        "colab": {
          "base_uri": "https://localhost:8080/"
        },
        "id": "X6zEJJ98d1d-",
        "outputId": "16073518-8775-41f9-e733-1b8c78307fa6"
      },
      "execution_count": null,
      "outputs": [
        {
          "output_type": "execute_result",
          "data": {
            "text/plain": [
              "['odd', 'even', 'odd', 'odd', 'odd', 'even', 'even', 'even', 'even', 'odd']"
            ]
          },
          "metadata": {},
          "execution_count": 3
        }
      ]
    },
    {
      "cell_type": "code",
      "source": [
        "# if-else 표현식에서 elif\n",
        "# 0 ~ 19: teen, 20 ~ 59: adult, 60 ~ : senior\n",
        "age = 70\n",
        "category = 'teen' if age < 20 else ('adult' if age < 60 else 'senior')\n",
        "print(category)"
      ],
      "metadata": {
        "colab": {
          "base_uri": "https://localhost:8080/"
        },
        "id": "0zCJ76xGd9wC",
        "outputId": "65793d26-dc1d-4b63-b552-3d11ce471eba"
      },
      "execution_count": null,
      "outputs": [
        {
          "output_type": "stream",
          "name": "stdout",
          "text": [
            "senior\n"
          ]
        }
      ]
    },
    {
      "cell_type": "code",
      "source": [
        "age = [random.randrange(100) for _ in range(10)]\n",
        "age"
      ],
      "metadata": {
        "colab": {
          "base_uri": "https://localhost:8080/"
        },
        "id": "-rW9kZ_DeIBX",
        "outputId": "97c575b8-1602-4d80-b89a-06aaa297c567"
      },
      "execution_count": null,
      "outputs": [
        {
          "output_type": "execute_result",
          "data": {
            "text/plain": [
              "[34, 13, 76, 18, 8, 97, 82, 92, 40, 33]"
            ]
          },
          "metadata": {},
          "execution_count": 5
        }
      ]
    },
    {
      "cell_type": "code",
      "source": [
        "result = map(lambda x: 'teen' if x < 20 else ('adult' if x < 60 else 'senior'),\n",
        "             age)\n",
        "list(result)"
      ],
      "metadata": {
        "colab": {
          "base_uri": "https://localhost:8080/"
        },
        "id": "Ig2DTc89eS42",
        "outputId": "fd1af983-f9d7-4ba7-8003-5dda48d5066e"
      },
      "execution_count": null,
      "outputs": [
        {
          "output_type": "execute_result",
          "data": {
            "text/plain": [
              "['adult',\n",
              " 'teen',\n",
              " 'senior',\n",
              " 'teen',\n",
              " 'teen',\n",
              " 'senior',\n",
              " 'senior',\n",
              " 'senior',\n",
              " 'adult',\n",
              " 'adult']"
            ]
          },
          "metadata": {},
          "execution_count": 6
        }
      ]
    },
    {
      "cell_type": "markdown",
      "source": [
        "### filtering 구현"
      ],
      "metadata": {
        "id": "CaqqD3Tmehoj"
      }
    },
    {
      "cell_type": "code",
      "source": [
        "def my_filter(iterable, fn):\n",
        "    \"\"\"iterable의 원소들 중에서 함수 fn의 결과가 True가 되는 원소들로 이루어진 리스트를 리턴.\n",
        "\n",
        "    @param iterable: list, tuple.\n",
        "    @param fn: argument가 1개이고 True 또는 False를 리턴하는 함수.\n",
        "    @return: list. [x1, x2, ...]\n",
        "    \"\"\"\n",
        "    \n",
        "    # result = []  # 필터링된 결과들을 저장할 빈 리스트.\n",
        "    # for x in iterable:  # iterable에서 원소를 하나씩 꺼내면서 반복\n",
        "    #     if fn(x):  # 함수 fn()의 리턴값이 True이면\n",
        "    #         result.append(x)  # 필터링 결과 리스트에 추가.\n",
        "    result = [x for x in iterable if fn(x)]\n",
        "\n",
        "    return result"
      ],
      "metadata": {
        "id": "gYiAxaoXem1c"
      },
      "execution_count": null,
      "outputs": []
    },
    {
      "cell_type": "code",
      "source": [
        "numbers = [random.randrange(100) for _ in range(10)]\n",
        "print(numbers)\n",
        "\n",
        "result = my_filter(numbers, lambda x: x % 2 == 0)  # 숫자들 중에서 짝수만 필터링\n",
        "print(result)"
      ],
      "metadata": {
        "colab": {
          "base_uri": "https://localhost:8080/"
        },
        "id": "IJAHI5vpexPg",
        "outputId": "0a4c6392-f6a1-4a19-9a8c-723b50204fe8"
      },
      "execution_count": null,
      "outputs": [
        {
          "output_type": "stream",
          "name": "stdout",
          "text": [
            "[21, 14, 75, 25, 44, 1, 42, 16, 47, 69]\n",
            "[14, 44, 42, 16]\n"
          ]
        }
      ]
    },
    {
      "cell_type": "code",
      "source": [
        "age = [random.randrange(100) for _ in range(10)]\n",
        "print(age)\n",
        "\n",
        "# age의 원소들 중에서 미성년자(20세 미만)인 데이터들만 필터링\n",
        "result = my_filter(age, lambda x: x < 20)\n",
        "print(result)"
      ],
      "metadata": {
        "colab": {
          "base_uri": "https://localhost:8080/"
        },
        "id": "i4EVCux9eyXr",
        "outputId": "be9042bb-26b0-4db1-9847-99127aa2697a"
      },
      "execution_count": null,
      "outputs": [
        {
          "output_type": "stream",
          "name": "stdout",
          "text": [
            "[17, 80, 98, 94, 23, 2, 62, 69, 67, 49]\n",
            "[17, 2]\n"
          ]
        }
      ]
    },
    {
      "cell_type": "markdown",
      "source": [
        "### mapping 구현"
      ],
      "metadata": {
        "id": "1cBjVQOie1o0"
      }
    },
    {
      "cell_type": "code",
      "source": [
        "def my_mapper1(iterable, fn):\n",
        "    \"\"\"iterable의 원소를 함수 fn의 argument로 전달했을 때 그 리턴값들로 이루어진 리스트를 리턴.\n",
        "\n",
        "    @param iterable: list, tuple.\n",
        "    @param fn: argument가 1개이고 리턴값을 갖는 함수.\n",
        "    @return: list. [fn(x1), fn(x2), ...].\n",
        "    \"\"\"\n",
        "    \n",
        "    # result = []  # 함수 fn()의 리턴값들을 저장할 빈 리스트.\n",
        "    # for x in iterable:  # iterable의 원소들을 하나씩 꺼내서 반복하면서\n",
        "    #     result.append(fn(x))  # 원소 x를 함수 fn()에 전달했을 때 리턴값을 리스트에 추가.\n",
        "    result = [fn(x) for x in iterable]\n",
        "\n",
        "    return result"
      ],
      "metadata": {
        "id": "2L14DlMke4Ym"
      },
      "execution_count": null,
      "outputs": []
    },
    {
      "cell_type": "code",
      "source": [
        "# my_mapper1() 테스트 코드\n",
        "gender = ['Female', 'Female', 'Male', 'Female', 'Male']\n",
        "\n",
        "# 'Female' --> 1, 'Male' --> 0\n",
        "result = my_mapper1(gender, lambda x: 0 if x == 'Male' else 1)\n",
        "print(result)"
      ],
      "metadata": {
        "colab": {
          "base_uri": "https://localhost:8080/"
        },
        "id": "SOhgCDl7e5zm",
        "outputId": "8efeb519-c78f-4f53-b580-0375077606fc"
      },
      "execution_count": null,
      "outputs": [
        {
          "output_type": "stream",
          "name": "stdout",
          "text": [
            "[1, 1, 0, 1, 0]\n"
          ]
        }
      ]
    },
    {
      "cell_type": "code",
      "source": [
        "# 문자열들의 리스트를 그 문자열의 길이를 갖는 리스트에 mapping\n",
        "# ['abc', 'apple', '안녕하세요!'] --> [3, 5, 6]\n",
        "words = ['abc', 'apple', '안녕하세요!', 'Hello, python.']\n",
        "result = my_mapper1(words, lambda x: len(x))\n",
        "print(result)"
      ],
      "metadata": {
        "colab": {
          "base_uri": "https://localhost:8080/"
        },
        "id": "fUVkk-hwe7c_",
        "outputId": "22356ca4-f0ba-4ca3-ee17-9e4a58b54dba"
      },
      "execution_count": null,
      "outputs": [
        {
          "output_type": "stream",
          "name": "stdout",
          "text": [
            "[3, 5, 6, 14]\n"
          ]
        }
      ]
    },
    {
      "cell_type": "code",
      "source": [
        "def my_mapper2(iterable, fn):\n",
        "    \"\"\"iterable의 원소를 key로 하고, 그 원소를 함수 fn에 전달했을 때의 리턴값을 value로 하는 dict를 리턴.\n",
        "\n",
        "    @param iterable: list, tuple.\n",
        "    @param fn: argument는 1개이고 리턴값이 있는 함수.\n",
        "    @return: dict. {x1: fn(x1), x2: fn(x2), ...}\n",
        "    \"\"\"\n",
        "    \n",
        "    # result = {}  # key:value를 저장할 빈 리스트\n",
        "    # for x in iterable:  # iterable에서 원소들을 하나씩 꺼내면서 반복\n",
        "    #     result[x] = fn(x)  # 그 원소 x를 key로 하고, 함수 fn()의 리턴값을 value로 해서 추가.\n",
        "    result = {x: fn(x) for x in iterable}\n",
        "\n",
        "    return result"
      ],
      "metadata": {
        "id": "z9aWFFO6e8tf"
      },
      "execution_count": null,
      "outputs": []
    },
    {
      "cell_type": "code",
      "source": [
        "# my_mapper2() 테스트 코드\n",
        "packages = ['NumPy', 'pandas', 'matplotlib', 'seaborn', 'keras', 'tensorflow']\n",
        "result = my_mapper2(packages, lambda x: len(x))\n",
        "print(result)"
      ],
      "metadata": {
        "id": "hNZ3izvje_Jg",
        "outputId": "945196aa-5413-4c12-be29-f3d1d57ef4d5",
        "colab": {
          "base_uri": "https://localhost:8080/"
        }
      },
      "execution_count": null,
      "outputs": [
        {
          "output_type": "stream",
          "name": "stdout",
          "text": [
            "{'NumPy': 5, 'pandas': 6, 'matplotlib': 10, 'seaborn': 7, 'keras': 5, 'tensorflow': 10}\n"
          ]
        }
      ]
    },
    {
      "cell_type": "code",
      "source": [
        "# [0, 100) 범위의 정수 난수 10개를 저장.\n",
        "age = [random.randrange(100) for _ in range(10)]\n",
        "print(age)\n",
        "\n",
        "# 20 미만인 경우 'A', 60 미만인 경우 'B', 60 이상인 경우 'C'를 매핑한 dict.\n",
        "result = my_mapper2(age,\n",
        "                    lambda x: 'A' if x < 20 else ('B' if x < 60 else 'C'))\n",
        "print(result)"
      ],
      "metadata": {
        "id": "8DIsjEBAfAfB",
        "outputId": "89e9408d-37af-4ba9-90af-7ccec9d5ec0c",
        "colab": {
          "base_uri": "https://localhost:8080/"
        }
      },
      "execution_count": null,
      "outputs": [
        {
          "output_type": "stream",
          "name": "stdout",
          "text": [
            "[54, 80, 95, 76, 52, 51, 19, 18, 48, 41]\n",
            "{54: 'B', 80: 'C', 95: 'C', 76: 'C', 52: 'B', 51: 'B', 19: 'A', 18: 'A', 48: 'B', 41: 'B'}\n"
          ]
        }
      ]
    }
  ]
}