{
  "nbformat": 4,
  "nbformat_minor": 0,
  "metadata": {
    "colab": {
      "name": "python06_for.ipynb",
      "provenance": [],
      "authorship_tag": "ABX9TyMDosbFdNiyRwtlSnWmv+pl",
      "include_colab_link": true
    },
    "kernelspec": {
      "name": "python3",
      "display_name": "Python 3"
    },
    "language_info": {
      "name": "python"
    }
  },
  "cells": [
    {
      "cell_type": "markdown",
      "metadata": {
        "id": "view-in-github",
        "colab_type": "text"
      },
      "source": [
        "<a href=\"https://colab.research.google.com/github/JoMihye/Python/blob/main/python06_for.ipynb\" target=\"_parent\"><img src=\"https://colab.research.google.com/assets/colab-badge.svg\" alt=\"Open In Colab\"/></a>"
      ]
    },
    {
      "cell_type": "markdown",
      "source": [
        "# for loop"
      ],
      "metadata": {
        "id": "-xa557w14ZkX"
      }
    },
    {
      "cell_type": "markdown",
      "source": [
        "```\n",
        "for 변수 in iterable-type:\n",
        "    반복해서 실행할 코드 블록\n",
        "``` \n",
        "\n",
        "*  iterable-type: 순회(반복)가 가능한 데이터 타입.\n",
        "    *  `str`, `range`, `list`, `tuple`, `dict`, ...\n",
        "*  for 반복문은 iterable-type의 객체에서 원소들을 하나씩 꺼내서 변수에 저장하고, 코드 블록을 반복해서 실행.\n",
        "*  iterable-type의 객체에서 더이상 꺼낼 원소가 없을 때 반복문이 종료."
      ],
      "metadata": {
        "id": "tOg6KDN54cT2"
      }
    },
    {
      "cell_type": "code",
      "execution_count": null,
      "metadata": {
        "colab": {
          "base_uri": "https://localhost:8080/"
        },
        "id": "04ST1Apm4L58",
        "outputId": "4b7c43c0-ee45-49d8-f3ee-3d4141d7d487"
      },
      "outputs": [
        {
          "output_type": "execute_result",
          "data": {
            "text/plain": [
              "True"
            ]
          },
          "metadata": {},
          "execution_count": 4
        }
      ],
      "source": [
        "1 in (1, 2, 3)"
      ]
    },
    {
      "cell_type": "code",
      "source": [
        "5 in (1, 2, 3)"
      ],
      "metadata": {
        "colab": {
          "base_uri": "https://localhost:8080/"
        },
        "id": "ypeOhdiA58vu",
        "outputId": "8d1bdbc5-f9ba-4eda-e8f7-54777dc5e1d4"
      },
      "execution_count": null,
      "outputs": [
        {
          "output_type": "execute_result",
          "data": {
            "text/plain": [
              "False"
            ]
          },
          "metadata": {},
          "execution_count": 5
        }
      ]
    },
    {
      "cell_type": "code",
      "source": [
        "'세' in '안녕하세요'"
      ],
      "metadata": {
        "colab": {
          "base_uri": "https://localhost:8080/"
        },
        "id": "i3ZPd5wn6HjK",
        "outputId": "58a17ec4-a749-44fd-8211-e6eea3378132"
      },
      "execution_count": null,
      "outputs": [
        {
          "output_type": "execute_result",
          "data": {
            "text/plain": [
              "True"
            ]
          },
          "metadata": {},
          "execution_count": 7
        }
      ]
    },
    {
      "cell_type": "code",
      "source": [
        "for x in '안녕하세요!':\n",
        "    print(x)"
      ],
      "metadata": {
        "colab": {
          "base_uri": "https://localhost:8080/"
        },
        "id": "2M-dMGgt6YR6",
        "outputId": "e1dfbe5d-a0b4-48e1-f5f7-2b121ff2f8d9"
      },
      "execution_count": null,
      "outputs": [
        {
          "output_type": "stream",
          "name": "stdout",
          "text": [
            "안\n",
            "녕\n",
            "하\n",
            "세\n",
            "요\n",
            "!\n"
          ]
        }
      ]
    },
    {
      "cell_type": "markdown",
      "source": [
        "# `range()` 함수와 forloop"
      ],
      "metadata": {
        "id": "ZNjbPsK0_34y"
      }
    },
    {
      "cell_type": "code",
      "source": [
        "# range(start, stop, setp) : stark <= x < stop 범위의 step(양수)만큼씩 증가하는 정수들을 생성.\n",
        "for x in range(1, 5, 1):\n",
        "    print(x)"
      ],
      "metadata": {
        "colab": {
          "base_uri": "https://localhost:8080/"
        },
        "id": "cqt-KOnE__d_",
        "outputId": "aaa41bf0-f750-468b-96cb-1fc7980846bc"
      },
      "execution_count": null,
      "outputs": [
        {
          "output_type": "stream",
          "name": "stdout",
          "text": [
            "1\n",
            "2\n",
            "3\n",
            "4\n"
          ]
        }
      ]
    },
    {
      "cell_type": "code",
      "source": [
        "; # range(start, stop): start <= x < stop 범위의 1씩 증가하는 정수들을 생성.\n",
        "for x in range(1, 5):   # (1, 2, 3, 4)\n",
        "    print(x)"
      ],
      "metadata": {
        "colab": {
          "base_uri": "https://localhost:8080/"
        },
        "id": "tiRO4LeuBMrQ",
        "outputId": "0c2cbd50-3523-4e6d-b8cc-f09046114593"
      },
      "execution_count": null,
      "outputs": [
        {
          "output_type": "stream",
          "name": "stdout",
          "text": [
            "1\n",
            "2\n",
            "3\n",
            "4\n"
          ]
        }
      ]
    },
    {
      "cell_type": "code",
      "source": [
        "# range(stop): 0 <= x < stop 범위의 1씩 증가하는 정수들을 생성.\n",
        "for x in range(5):  # (0, 1, 2, 3, 4)\n",
        "    print(x)"
      ],
      "metadata": {
        "colab": {
          "base_uri": "https://localhost:8080/"
        },
        "id": "lUkL7owYB1al",
        "outputId": "bf08fe2f-146f-4303-8660-56526daf0393"
      },
      "execution_count": null,
      "outputs": [
        {
          "output_type": "stream",
          "name": "stdout",
          "text": [
            "0\n",
            "1\n",
            "2\n",
            "3\n",
            "4\n"
          ]
        }
      ]
    },
    {
      "cell_type": "code",
      "source": [
        "# range(start, stop, step): start >= x > stop 범위의 step(음수)만큼씩 감소하는 정수들을 생성.\n",
        "for x in range(5, 0, -1):   # (5, 4, 3, 2, 1)\n",
        "    print(x)"
      ],
      "metadata": {
        "colab": {
          "base_uri": "https://localhost:8080/"
        },
        "id": "wYbWf4N6CpwC",
        "outputId": "35f98197-6c1a-445e-ae12-37149cece9e8"
      },
      "execution_count": null,
      "outputs": [
        {
          "output_type": "stream",
          "name": "stdout",
          "text": [
            "5\n",
            "4\n",
            "3\n",
            "2\n",
            "1\n"
          ]
        }
      ]
    },
    {
      "cell_type": "markdown",
      "source": [
        "*  0 이상 10 미만의 짝수들을 오름차순 출력"
      ],
      "metadata": {
        "id": "ogbuwah_DrmO"
      }
    },
    {
      "cell_type": "code",
      "source": [
        "for x in range(0, 10, 2):\n",
        "    print(x)"
      ],
      "metadata": {
        "colab": {
          "base_uri": "https://localhost:8080/"
        },
        "id": "gyKhlVQcDv9T",
        "outputId": "9e03093d-1b01-4476-b1f9-23855a0311a3"
      },
      "execution_count": null,
      "outputs": [
        {
          "output_type": "stream",
          "name": "stdout",
          "text": [
            "0\n",
            "2\n",
            "4\n",
            "6\n",
            "8\n"
          ]
        }
      ]
    },
    {
      "cell_type": "markdown",
      "source": [
        "*  1 이상 9 이하의 홀수들을 내림차순으로 출력"
      ],
      "metadata": {
        "id": "4B5HRXvwDxXW"
      }
    },
    {
      "cell_type": "code",
      "source": [
        "for x in range(9, 0, -2):\n",
        "    print(x)"
      ],
      "metadata": {
        "colab": {
          "base_uri": "https://localhost:8080/"
        },
        "id": "K-1NEghAD7Zb",
        "outputId": "cc8e30c7-f667-4060-cad5-89447843e143"
      },
      "execution_count": null,
      "outputs": [
        {
          "output_type": "stream",
          "name": "stdout",
          "text": [
            "9\n",
            "7\n",
            "5\n",
            "3\n",
            "1\n"
          ]
        }
      ]
    },
    {
      "cell_type": "markdown",
      "source": [
        "*  다음과 같이 출력하는 코드를 작성\n",
        "\n",
        "```\n",
        "*\n",
        "**\n",
        "***\n",
        "****\n",
        "*****\n",
        "```"
      ],
      "metadata": {
        "id": "Ud7UJVU5EUF2"
      }
    },
    {
      "cell_type": "code",
      "source": [
        "for x in range(1, 6):\n",
        "    print('*' * x)"
      ],
      "metadata": {
        "colab": {
          "base_uri": "https://localhost:8080/"
        },
        "id": "jHCGbdKAEvzc",
        "outputId": "56dee56f-1956-483e-971d-48ce693852d5"
      },
      "execution_count": null,
      "outputs": [
        {
          "output_type": "stream",
          "name": "stdout",
          "text": [
            "*\n",
            "**\n",
            "***\n",
            "****\n",
            "*****\n"
          ]
        }
      ]
    },
    {
      "cell_type": "markdown",
      "source": [
        "*  다음과 같이 출력하는 코드를 작성\n",
        "\n",
        "```\n",
        "*****\n",
        "****\n",
        "***\n",
        "**\n",
        "*\n",
        "```"
      ],
      "metadata": {
        "id": "riN3KGcKEaIS"
      }
    },
    {
      "cell_type": "code",
      "source": [
        "for x in range(5, 0, -1):\n",
        "    print('*' * x)"
      ],
      "metadata": {
        "colab": {
          "base_uri": "https://localhost:8080/"
        },
        "id": "6gVyJQyaE2-y",
        "outputId": "a9d56e6d-0225-4827-b186-35cf466a9702"
      },
      "execution_count": null,
      "outputs": [
        {
          "output_type": "stream",
          "name": "stdout",
          "text": [
            "*****\n",
            "****\n",
            "***\n",
            "**\n",
            "*\n"
          ]
        }
      ]
    },
    {
      "cell_type": "code",
      "source": [
        "# 구구단 2단을 출력\n",
        "for x in range(1, 10, 1):\n",
        "    print(f'2 x {x} = {2*x}')"
      ],
      "metadata": {
        "colab": {
          "base_uri": "https://localhost:8080/"
        },
        "id": "B_gQCKCiZlLS",
        "outputId": "f29a1e13-cda3-4f8c-a30f-587290b73166"
      },
      "execution_count": null,
      "outputs": [
        {
          "output_type": "stream",
          "name": "stdout",
          "text": [
            "2 x 1 = 2\n",
            "2 x 2 = 4\n",
            "2 x 3 = 6\n",
            "2 x 4 = 8\n",
            "2 x 5 = 10\n",
            "2 x 6 = 12\n",
            "2 x 7 = 14\n",
            "2 x 8 = 16\n",
            "2 x 9 = 18\n"
          ]
        }
      ]
    },
    {
      "cell_type": "markdown",
      "source": [
        "## nested for loop(중첩 for 반복문)"
      ],
      "metadata": {
        "id": "caycIUnTatW6"
      }
    },
    {
      "cell_type": "code",
      "source": [
        "# 구구단 2단부터 9단까지 출력\n",
        "for x in range(2, 10):\n",
        "    for y in range(1, 10):\n",
        "        print(f'{x} x {y} = {x*y} ')\n",
        "    print('-' * 20)"
      ],
      "metadata": {
        "id": "nFjvX02ma1zX"
      },
      "execution_count": null,
      "outputs": []
    },
    {
      "cell_type": "markdown",
      "source": [
        "## `break` 와 `continue`\n",
        "\n",
        "*  `break`: iteration(반복)을 종료.\n",
        "*  `continue`: (현재 작업을 멈추고,) 다음 iteration(반복)을 수행."
      ],
      "metadata": {
        "id": "n7-OfNbZdJPi"
      }
    },
    {
      "cell_type": "code",
      "source": [
        "for x in range(5):\n",
        "    if x == 2:\n",
        "        break\n",
        "    print(x)"
      ],
      "metadata": {
        "colab": {
          "base_uri": "https://localhost:8080/"
        },
        "id": "RZoD2nZmdhES",
        "outputId": "79c2775c-74ff-43f0-eb72-59441afc423e"
      },
      "execution_count": null,
      "outputs": [
        {
          "output_type": "stream",
          "name": "stdout",
          "text": [
            "0\n",
            "1\n"
          ]
        }
      ]
    },
    {
      "cell_type": "code",
      "source": [
        "for x in range(5):\n",
        "    if x == 2:\n",
        "        continue\n",
        "    print(x)"
      ],
      "metadata": {
        "colab": {
          "base_uri": "https://localhost:8080/"
        },
        "id": "1F2NPdW5eVZx",
        "outputId": "66b8f4fa-3362-47cb-9d49-82d1cf80a32d"
      },
      "execution_count": null,
      "outputs": [
        {
          "output_type": "stream",
          "name": "stdout",
          "text": [
            "0\n",
            "1\n",
            "3\n",
            "4\n"
          ]
        }
      ]
    },
    {
      "cell_type": "code",
      "source": [
        "# 구구단 2단은 2x2까지, 3단은 3x3까지, ... 출력\n",
        "for x in range(2, 10):\n",
        "    for y in range(1, 10):\n",
        "        print(f'{x} x {y} = {x * y}')\n",
        "        if x == y:\n",
        "            break\n",
        "    print('-' * 20)"
      ],
      "metadata": {
        "colab": {
          "base_uri": "https://localhost:8080/"
        },
        "id": "PtW1eWbve-UN",
        "outputId": "49b2a340-482d-4b4b-d88a-342341d61a6c"
      },
      "execution_count": null,
      "outputs": [
        {
          "output_type": "stream",
          "name": "stdout",
          "text": [
            "2 x 1 = 2\n",
            "2 x 2 = 4\n",
            "--------------------\n",
            "3 x 1 = 3\n",
            "3 x 2 = 6\n",
            "3 x 3 = 9\n",
            "--------------------\n",
            "4 x 1 = 4\n",
            "4 x 2 = 8\n",
            "4 x 3 = 12\n",
            "4 x 4 = 16\n",
            "--------------------\n",
            "5 x 1 = 5\n",
            "5 x 2 = 10\n",
            "5 x 3 = 15\n",
            "5 x 4 = 20\n",
            "5 x 5 = 25\n",
            "--------------------\n",
            "6 x 1 = 6\n",
            "6 x 2 = 12\n",
            "6 x 3 = 18\n",
            "6 x 4 = 24\n",
            "6 x 5 = 30\n",
            "6 x 6 = 36\n",
            "--------------------\n",
            "7 x 1 = 7\n",
            "7 x 2 = 14\n",
            "7 x 3 = 21\n",
            "7 x 4 = 28\n",
            "7 x 5 = 35\n",
            "7 x 6 = 42\n",
            "7 x 7 = 49\n",
            "--------------------\n",
            "8 x 1 = 8\n",
            "8 x 2 = 16\n",
            "8 x 3 = 24\n",
            "8 x 4 = 32\n",
            "8 x 5 = 40\n",
            "8 x 6 = 48\n",
            "8 x 7 = 56\n",
            "8 x 8 = 64\n",
            "--------------------\n",
            "9 x 1 = 9\n",
            "9 x 2 = 18\n",
            "9 x 3 = 27\n",
            "9 x 4 = 36\n",
            "9 x 5 = 45\n",
            "9 x 6 = 54\n",
            "9 x 7 = 63\n",
            "9 x 8 = 72\n",
            "9 x 9 = 81\n",
            "--------------------\n"
          ]
        }
      ]
    },
    {
      "cell_type": "code",
      "source": [
        "for x in range(2, 10):\n",
        "    for y in range(1, x + 1):\n",
        "        print(f'{x} x {y} = {x * y}')\n",
        "    print('-' * 20)"
      ],
      "metadata": {
        "colab": {
          "base_uri": "https://localhost:8080/"
        },
        "id": "0P9pJ947g4oy",
        "outputId": "a6409aeb-7f86-4d3f-c878-973462f9d2da"
      },
      "execution_count": null,
      "outputs": [
        {
          "output_type": "stream",
          "name": "stdout",
          "text": [
            "2 x 1 = 2\n",
            "2 x 2 = 4\n",
            "--------------------\n",
            "3 x 1 = 3\n",
            "3 x 2 = 6\n",
            "3 x 3 = 9\n",
            "--------------------\n",
            "4 x 1 = 4\n",
            "4 x 2 = 8\n",
            "4 x 3 = 12\n",
            "4 x 4 = 16\n",
            "--------------------\n",
            "5 x 1 = 5\n",
            "5 x 2 = 10\n",
            "5 x 3 = 15\n",
            "5 x 4 = 20\n",
            "5 x 5 = 25\n",
            "--------------------\n",
            "6 x 1 = 6\n",
            "6 x 2 = 12\n",
            "6 x 3 = 18\n",
            "6 x 4 = 24\n",
            "6 x 5 = 30\n",
            "6 x 6 = 36\n",
            "--------------------\n",
            "7 x 1 = 7\n",
            "7 x 2 = 14\n",
            "7 x 3 = 21\n",
            "7 x 4 = 28\n",
            "7 x 5 = 35\n",
            "7 x 6 = 42\n",
            "7 x 7 = 49\n",
            "--------------------\n",
            "8 x 1 = 8\n",
            "8 x 2 = 16\n",
            "8 x 3 = 24\n",
            "8 x 4 = 32\n",
            "8 x 5 = 40\n",
            "8 x 6 = 48\n",
            "8 x 7 = 56\n",
            "8 x 8 = 64\n",
            "--------------------\n",
            "9 x 1 = 9\n",
            "9 x 2 = 18\n",
            "9 x 3 = 27\n",
            "9 x 4 = 36\n",
            "9 x 5 = 45\n",
            "9 x 6 = 54\n",
            "9 x 7 = 63\n",
            "9 x 8 = 72\n",
            "9 x 9 = 81\n",
            "--------------------\n"
          ]
        }
      ]
    },
    {
      "cell_type": "markdown",
      "source": [
        "# `print()` 함수\n",
        "\n",
        "*  문자열을 출력할 때 함께 사용되는 특수 기호\n",
        "    *  '\\t': 탭(tab)\n",
        "    *  '\\n': 줄바꿈(new line)\n",
        "*  `print()` 함수의 파라미터(parameter)\n",
        "    *  `end`: print 함수의 argument들을 콘솔에 출력한 후 어떤 동작을 할 것인지를 설정. 기본값은 줄바꿈('\\n').\n",
        "    *  `sep`: seperator(구분자). print 함수의 argument들을 출력할 때, 각각의 argument들을 구분하기 위하나 문자를 설정. 기본값은 공백 한 칸(' ')."
      ],
      "metadata": {
        "id": "08Nr92kPhpue"
      }
    },
    {
      "cell_type": "code",
      "source": [
        "print('안녕\\tHello\\tBon Jour')"
      ],
      "metadata": {
        "colab": {
          "base_uri": "https://localhost:8080/"
        },
        "id": "WJTRMaGpjclK",
        "outputId": "bc9d8e4e-7358-43db-b71a-d66a9a9f7d8d"
      },
      "execution_count": null,
      "outputs": [
        {
          "output_type": "stream",
          "name": "stdout",
          "text": [
            "안녕\tHello\tBon Jour\n"
          ]
        }
      ]
    },
    {
      "cell_type": "code",
      "source": [
        "print('안녕\\nHello\\nBon Jour')"
      ],
      "metadata": {
        "colab": {
          "base_uri": "https://localhost:8080/"
        },
        "id": "9pB7bsnJkN42",
        "outputId": "ce9e2ecc-8f12-42d4-9cb1-bb69a85ae811"
      },
      "execution_count": null,
      "outputs": [
        {
          "output_type": "stream",
          "name": "stdout",
          "text": [
            "안녕\n",
            "Hello\n",
            "Bon Jour\n"
          ]
        }
      ]
    },
    {
      "cell_type": "code",
      "source": [
        "print('안녕', 'Hello', 123)"
      ],
      "metadata": {
        "colab": {
          "base_uri": "https://localhost:8080/"
        },
        "id": "dvSgobW_p31W",
        "outputId": "f9820d85-6f47-4efe-fea1-e04e7283a3df"
      },
      "execution_count": null,
      "outputs": [
        {
          "output_type": "stream",
          "name": "stdout",
          "text": [
            "안녕 Hello 123\n"
          ]
        }
      ]
    },
    {
      "cell_type": "code",
      "source": [
        "print('안녕', 'Hello', 123, sep=',')"
      ],
      "metadata": {
        "colab": {
          "base_uri": "https://localhost:8080/"
        },
        "id": "OsAz5ywPqYee",
        "outputId": "9f999ffb-704a-4ef7-b1a5-30cda3e1c5dd"
      },
      "execution_count": null,
      "outputs": [
        {
          "output_type": "stream",
          "name": "stdout",
          "text": [
            "안녕,Hello,123\n"
          ]
        }
      ]
    },
    {
      "cell_type": "code",
      "source": [
        "print('안녕')\n",
        "print('Hello')\n",
        "print(123)"
      ],
      "metadata": {
        "colab": {
          "base_uri": "https://localhost:8080/"
        },
        "id": "S1Dze-pgrE3U",
        "outputId": "8b98c4e6-663e-40ed-fdfc-23a1c54e36dc"
      },
      "execution_count": null,
      "outputs": [
        {
          "output_type": "stream",
          "name": "stdout",
          "text": [
            "안녕\n",
            "Hello\n",
            "123\n"
          ]
        }
      ]
    },
    {
      "cell_type": "code",
      "source": [
        "print('안녕', end='\\t')\n",
        "print('Hello')  # end='\\n': 기본값\n",
        "print(123)"
      ],
      "metadata": {
        "colab": {
          "base_uri": "https://localhost:8080/"
        },
        "id": "EeZZIJ2armou",
        "outputId": "2e4c4859-dfa6-4bd0-f1cc-47e5f1d3652c"
      },
      "execution_count": null,
      "outputs": [
        {
          "output_type": "stream",
          "name": "stdout",
          "text": [
            "안녕\tHello\n",
            "123\n"
          ]
        }
      ]
    },
    {
      "cell_type": "markdown",
      "source": [
        "# Exercise"
      ],
      "metadata": {
        "id": "Q7hhEuF-spPR"
      }
    },
    {
      "cell_type": "markdown",
      "source": [
        "## 1. 아래와 같이 출력되는 코드를 작성하세요.\n",
        "\n",
        "```\n",
        "1 little 2 little 3 little indian\n",
        "4 little 5 little 6 little indian\n",
        "7 little 8 little 9 little indian\n",
        "10 little indian boys!\n",
        "```\n"
      ],
      "metadata": {
        "id": "FHoZFDyLssQ9"
      }
    },
    {
      "cell_type": "code",
      "source": [
        "# 내 풀이\n",
        "for x in range(1,11):\n",
        "    print(f'{x} little', end=' ')\n",
        "    if x%3 == 0:\n",
        "        print(end='indian\\n')\n",
        "    if x == 10:\n",
        "        print('indian boys!')"
      ],
      "metadata": {
        "colab": {
          "base_uri": "https://localhost:8080/"
        },
        "id": "X-_pOa7-tkOs",
        "outputId": "3da7f85e-83e4-43ba-e19b-732d82ae1809"
      },
      "execution_count": null,
      "outputs": [
        {
          "output_type": "stream",
          "name": "stdout",
          "text": [
            "1 little 2 little 3 little indian\n",
            "4 little 5 little 6 little indian\n",
            "7 little 8 little 9 little indian\n",
            "10 little indian boys!\n"
          ]
        }
      ]
    },
    {
      "cell_type": "code",
      "source": [
        "# 강사님 풀이\n",
        "for n in range(1, 11):\n",
        "    print(n, 'little', end=' ')\n",
        "    if n % 3 == 0:\n",
        "        print('indian')\n",
        "print('indian boys!')"
      ],
      "metadata": {
        "colab": {
          "base_uri": "https://localhost:8080/"
        },
        "id": "E8LfgzX37o2B",
        "outputId": "67395305-c759-46ab-8537-5fde036c48a1"
      },
      "execution_count": null,
      "outputs": [
        {
          "output_type": "stream",
          "name": "stdout",
          "text": [
            "1 little 2 little 3 little indian\n",
            "4 little 5 little 6 little indian\n",
            "7 little 8 little 9 little indian\n",
            "10 little indian boys!\n"
          ]
        }
      ]
    },
    {
      "cell_type": "markdown",
      "source": [
        "## 2. 아래와 같이 출력되는 코드를 작성하세요.\n",
        "\n",
        "```\n",
        "1 2 * 4 5 * 7 8 * 10\n",
        "11 12 * 14 15 * 17 18 * 20\n",
        "21 22 * 24 25 * 27 28 * *\n",
        "* * * * * * * * * 40\n",
        "41 42 * 44 45 * 47 48 * 50\n",
        "51 52 * 54 55 * 57 58 * *\n",
        "* * * * * * * * * 70\n",
        "71 72 * 74 75 * 77 78 * 80\n",
        "81 82 * 84 85 * 87 88 * *\n",
        "* * * * * * * * * 100\n",
        "```"
      ],
      "metadata": {
        "id": "1i9IuHyBtDfu"
      }
    },
    {
      "cell_type": "code",
      "source": [
        "# 내 풀이\n",
        "for x in range(1, 101):\n",
        "    if x % 10 == 0:\n",
        "        if (x-(x%10)) % 3 == 0:\n",
        "            print('*')\n",
        "        else:\n",
        "            print(x)\n",
        "    else:\n",
        "        if (x-(x%10)) % 3 == 0 and x >= 10:\n",
        "            print('*', end=' ')\n",
        "        elif (x-(x//10)) % 3 == 0:\n",
        "            print('*', end=' ')\n",
        "        else:\n",
        "            print(x, end=' ')"
      ],
      "metadata": {
        "colab": {
          "base_uri": "https://localhost:8080/"
        },
        "id": "YTXJwWCk5lbK",
        "outputId": "0c692a23-0227-4dd8-9a1e-855635ade2c4"
      },
      "execution_count": null,
      "outputs": [
        {
          "output_type": "stream",
          "name": "stdout",
          "text": [
            "1 2 * 4 5 * 7 8 * 10\n",
            "11 12 * 14 15 * 17 18 * 20\n",
            "21 22 * 24 25 * 27 28 * *\n",
            "* * * * * * * * * 40\n",
            "41 42 * 44 45 * 47 48 * 50\n",
            "51 52 * 54 55 * 57 58 * *\n",
            "* * * * * * * * * 70\n",
            "71 72 * 74 75 * 77 78 * 80\n",
            "81 82 * 84 85 * 87 88 * *\n",
            "* * * * * * * * * 100\n"
          ]
        }
      ]
    },
    {
      "cell_type": "code",
      "source": [
        "# 강사님 풀이\n",
        "for n in range(1, 101):\n",
        "    if (n % 10 == 3) or (n % 10 == 6) or (n % 10 == 9):\n",
        "        # 10으로 나눈 나머지는 1의 자리 숫자:\n",
        "        # 1의 자리 숫자가 3 또는 6 또는 9 이면\n",
        "        print('*', end='\\t')\n",
        "    elif (n // 10 == 3) or (n // 10 == 6) or (n // 10 == 9):\n",
        "        # 10으로 나눈 몫은 10의 자리 숫자:\n",
        "        # 10의 자리 숫자가 3 또는 6 또는 9이면\n",
        "        print('*', end='\\t')\n",
        "    else:\n",
        "        print(n, end='\\t')\n",
        "    if n % 10 == 0:\n",
        "        print()"
      ],
      "metadata": {
        "colab": {
          "base_uri": "https://localhost:8080/"
        },
        "id": "YbaNYBW0-afe",
        "outputId": "37d30ea2-7526-489c-dbd4-69def6c6063c"
      },
      "execution_count": null,
      "outputs": [
        {
          "output_type": "stream",
          "name": "stdout",
          "text": [
            "1\t2\t*\t4\t5\t*\t7\t8\t*\t10\t\n",
            "11\t12\t*\t14\t15\t*\t17\t18\t*\t20\t\n",
            "21\t22\t*\t24\t25\t*\t27\t28\t*\t*\t\n",
            "*\t*\t*\t*\t*\t*\t*\t*\t*\t40\t\n",
            "41\t42\t*\t44\t45\t*\t47\t48\t*\t50\t\n",
            "51\t52\t*\t54\t55\t*\t57\t58\t*\t*\t\n",
            "*\t*\t*\t*\t*\t*\t*\t*\t*\t70\t\n",
            "71\t72\t*\t74\t75\t*\t77\t78\t*\t80\t\n",
            "81\t82\t*\t84\t85\t*\t87\t88\t*\t*\t\n",
            "*\t*\t*\t*\t*\t*\t*\t*\t*\t100\t\n"
          ]
        }
      ]
    },
    {
      "cell_type": "code",
      "source": [
        "for n in range(1, 101):\n",
        "    n_str = str(n)  # 명시적 타입 변환: 정수 -> 문자열 변환\n",
        "    if ('3' in n_str) or ('6' in n_str) or ('9' in n_str):\n",
        "        print('*', end='\\t')\n",
        "    else:\n",
        "        print(n, end='\\t')\n",
        "    if n % 10 == 0:\n",
        "        print()"
      ],
      "metadata": {
        "colab": {
          "base_uri": "https://localhost:8080/"
        },
        "id": "TpIH771kDFuP",
        "outputId": "3b743536-2101-460a-90ff-9cfa0cdf987f"
      },
      "execution_count": null,
      "outputs": [
        {
          "output_type": "stream",
          "name": "stdout",
          "text": [
            "1\t2\t*\t4\t5\t*\t7\t8\t*\t10\t\n",
            "11\t12\t*\t14\t15\t*\t17\t18\t*\t20\t\n",
            "21\t22\t*\t24\t25\t*\t27\t28\t*\t*\t\n",
            "*\t*\t*\t*\t*\t*\t*\t*\t*\t40\t\n",
            "41\t42\t*\t44\t45\t*\t47\t48\t*\t50\t\n",
            "51\t52\t*\t54\t55\t*\t57\t58\t*\t*\t\n",
            "*\t*\t*\t*\t*\t*\t*\t*\t*\t70\t\n",
            "71\t72\t*\t74\t75\t*\t77\t78\t*\t80\t\n",
            "81\t82\t*\t84\t85\t*\t87\t88\t*\t*\t\n",
            "*\t*\t*\t*\t*\t*\t*\t*\t*\t100\t\n"
          ]
        }
      ]
    }
  ]
}