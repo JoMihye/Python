{
  "nbformat": 4,
  "nbformat_minor": 0,
  "metadata": {
    "colab": {
      "name": "ml12_ensemble.ipynb",
      "provenance": [],
      "collapsed_sections": [],
      "authorship_tag": "ABX9TyNGeIJpQcQWIGSunMUSZyr+",
      "include_colab_link": true
    },
    "kernelspec": {
      "name": "python3",
      "display_name": "Python 3"
    },
    "language_info": {
      "name": "python"
    }
  },
  "cells": [
    {
      "cell_type": "markdown",
      "metadata": {
        "id": "view-in-github",
        "colab_type": "text"
      },
      "source": [
        "<a href=\"https://colab.research.google.com/github/JoMihye/Python/blob/main/ml12_ensemble.ipynb\" target=\"_parent\"><img src=\"https://colab.research.google.com/assets/colab-badge.svg\" alt=\"Open In Colab\"/></a>"
      ]
    },
    {
      "cell_type": "markdown",
      "source": [
        "# Ensemble Learning(앙상블 학습 방법)"
      ],
      "metadata": {
        "id": "YC6Sm23K_FPF"
      }
    },
    {
      "cell_type": "markdown",
      "source": [
        "*   앙상블(ensemble): 머신 러닝에서 사용되는 일련 모델(알고리즘)들.\n",
        "    *   서로 다른 모델 여러 개를 학습시키는 방법.\n",
        "    *   한 가지 모델을 서로 다른 훈련 셋에서 학습시키는 방법.\n",
        "*   앙상블 학습 방법: 앙상블을 사용한 머신 러닝 방법.\n",
        "    *   투표(voting) 방식: 여러 개의 모델을 학습시켜서 각각의 예측값을 투표(다수결, 최빈값) 또는 평균값으로 예측하는 방법.\n",
        "    *   __Bagging(Bootstrap Aggregating)__: _중복을 허용_ 해서 샘플링한 훈련 셋의 부분집합들을 하나의 알고리즘에 학습시켜서 예측(최빈값, 평균)하는 학습 방법.\n",
        "    *   Pasting: 중복을 허용하지 않고 샘플링한 훈련 셋의 부분집합들을 알고리즘에 학습시켜서 예측하는 방법.\n",
        "    *   __Boosting__: 약한 학습기를 순차적으로 연결해서 강한 학습기를 만드는 앙상블 학습 방법.\n",
        "        *   AdaBoost(Adaptive Boosting): 과소적합됐던 훈련 샘플들의 가중치를 높여서 다음 훈련에 순차적으로 사용하는 boosting 방법.\n",
        "        *   Gradient Boost: 잔여 오차(residual errors)들을 다음 훈련에서 학습시켜서 강한 학습기를 만드는 boosting 방법.\n",
        "*   __Random Forest__: Bagging을 사용한 Decision Tree들의 ensemble 학습 방법."
      ],
      "metadata": {
        "id": "MrJnQ4Tb_HPT"
      }
    },
    {
      "cell_type": "markdown",
      "source": [
        "# Imports"
      ],
      "metadata": {
        "id": "geCDera8_JP4"
      }
    },
    {
      "cell_type": "code",
      "execution_count": null,
      "metadata": {
        "id": "L7r6CR5C_Cw_"
      },
      "outputs": [],
      "source": [
        "import numpy as np\n",
        "import pandas as pd\n",
        "import matplotlib.pyplot as plt\n",
        "\n",
        "from sklearn import datasets\n",
        "from sklearn.model_selection import train_test_split, cross_validate, cross_val_score\n",
        "from sklearn.neighbors import KNeighborsClassifier\n",
        "from sklearn.tree import DecisionTreeClassifier\n",
        "from sklearn.linear_model import LogisticRegression, SGDClassifier\n",
        "from sklearn.svm import SVC  # SVM(Support Vector Machine) 알고리즘을 사용한 분류기\n",
        "from sklearn.ensemble import VotingClassifier, BaggingClassifier, RandomForestClassifier"
      ]
    },
    {
      "cell_type": "markdown",
      "source": [
        "# Dataset 준비"
      ],
      "metadata": {
        "id": "TyZngSxF_Kat"
      }
    },
    {
      "cell_type": "markdown",
      "source": [
        "2개의 특성(x1, x2)과 2개의 클래스(0, 1)를 갖는 가상의 데이터 셋을 생성."
      ],
      "metadata": {
        "id": "kpgvEmVx_Md8"
      }
    },
    {
      "cell_type": "code",
      "source": [
        "# X: 특성 배열(features), y: 타겟 배열(target)\n",
        "X, y = datasets.make_moons(n_samples=500, noise=0.3, random_state=42)"
      ],
      "metadata": {
        "id": "FtIKDP-S_NF0"
      },
      "execution_count": null,
      "outputs": []
    },
    {
      "cell_type": "code",
      "source": [
        "X.shape, y.shape"
      ],
      "metadata": {
        "colab": {
          "base_uri": "https://localhost:8080/"
        },
        "id": "TbqxKBs6_Ncc",
        "outputId": "71971e7e-f9be-49fb-9265-490421e9e52d"
      },
      "execution_count": null,
      "outputs": [
        {
          "output_type": "execute_result",
          "data": {
            "text/plain": [
              "((500, 2), (500,))"
            ]
          },
          "metadata": {},
          "execution_count": 3
        }
      ]
    },
    {
      "cell_type": "code",
      "source": [
        "np.unique(y, return_counts=True)"
      ],
      "metadata": {
        "colab": {
          "base_uri": "https://localhost:8080/"
        },
        "id": "l4BXUocx_NZq",
        "outputId": "70c8902e-a741-45f3-fcc4-7f070a4085ca"
      },
      "execution_count": null,
      "outputs": [
        {
          "output_type": "execute_result",
          "data": {
            "text/plain": [
              "(array([0, 1]), array([250, 250]))"
            ]
          },
          "metadata": {},
          "execution_count": 4
        }
      ]
    },
    {
      "cell_type": "code",
      "source": [
        "# X, y를 시각화\n",
        "plt.scatter(X[y == 0, 0], X[y == 0, 1], label='class-0', alpha=0.6)\n",
        "plt.scatter(X[y == 1, 0], X[y == 1, 1], label='class-1', alpha=0.6)\n",
        "\n",
        "plt.legend()\n",
        "plt.grid()\n",
        "plt.xlabel('x1')\n",
        "plt.ylabel('y1')\n",
        "plt.show()"
      ],
      "metadata": {
        "colab": {
          "base_uri": "https://localhost:8080/",
          "height": 279
        },
        "id": "EDwR7PQ3_NXD",
        "outputId": "8910a5ce-83ea-45cb-ead5-e26e5d371dbd"
      },
      "execution_count": null,
      "outputs": [
        {
          "output_type": "display_data",
          "data": {
            "text/plain": [
              "<Figure size 432x288 with 1 Axes>"
            ],
            "image/png": "[encoded data removed]"
          },
          "metadata": {
            "needs_background": "light"
          }
        }
      ]
    },
    {
      "cell_type": "code",
      "source": [
        "# train/test split\n",
        "X_tr, X_te, y_tr, y_te = train_test_split(X, y,\n",
        "                                          test_size=0.2,\n",
        "                                          random_state=42,\n",
        "                                          stratify=y)"
      ],
      "metadata": {
        "id": "O0wqjNKE_NUm"
      },
      "execution_count": null,
      "outputs": []
    },
    {
      "cell_type": "markdown",
      "source": [
        "# 머신 러닝 모델의 성능 비교"
      ],
      "metadata": {
        "id": "riECBC7H_Tmf"
      }
    },
    {
      "cell_type": "markdown",
      "source": [
        "*   5개의 머신 러닝 모델 생성\n",
        "    *   KNN, Decision Tree, Logistic Regression, SGD, SVM\n",
        "        *   SGDClassifier의 파라미터 중에서 loss='log'를 사용.\n",
        "        *   SVC의 파라미터 중에서 probability=True를 사용.\n",
        "*   5개의 모델을 훈련 셋으로 학습\n",
        "*   5개 모델의 점수(정확도)를 훈련/테스트 셋에서 계산, 비교."
      ],
      "metadata": {
        "id": "QbBM4J2v_U0k"
      }
    },
    {
      "cell_type": "code",
      "source": [
        "knn = KNeighborsClassifier(n_jobs=-1)\n",
        "tree = DecisionTreeClassifier(random_state=42)\n",
        "logistic = LogisticRegression(random_state=42, n_jobs=-1)\n",
        "sgd = SGDClassifier(loss='log', random_state=42, n_jobs=-1)\n",
        "#> loss='log': 각 클래스가 될 확률을 계산해서 예측하기 위해서.\n",
        "svm = SVC(probability=True, random_state=42)\n",
        "#> probability=True: 각 클래스가 될 확률을 계산해서 예측하기 위해서."
      ],
      "metadata": {
        "id": "JjKwcejQ_XDD"
      },
      "execution_count": null,
      "outputs": []
    },
    {
      "cell_type": "code",
      "source": [
        "classifiers = [knn, tree, logistic, sgd, svm]  # 반복문에서 사용하기 위해서"
      ],
      "metadata": {
        "id": "e2A870gH_XS9"
      },
      "execution_count": null,
      "outputs": []
    },
    {
      "cell_type": "code",
      "source": [
        "knn.__class__.__name__"
      ],
      "metadata": {
        "colab": {
          "base_uri": "https://localhost:8080/",
          "height": 35
        },
        "id": "RdtEb8mX_XGf",
        "outputId": "4977ff88-8688-456c-89cd-90972d2e9f0e"
      },
      "execution_count": null,
      "outputs": [
        {
          "output_type": "execute_result",
          "data": {
            "text/plain": [
              "'KNeighborsClassifier'"
            ],
            "application/vnd.google.colaboratory.intrinsic+json": {
              "type": "string"
            }
          },
          "metadata": {},
          "execution_count": 9
        }
      ]
    },
    {
      "cell_type": "code",
      "source": [
        "for clf in classifiers:\n",
        "    clf.fit(X_tr, y_tr)  # 분류기를 훈련 데이터에 학습시킴.\n",
        "    tr_acc = clf.score(X_tr, y_tr)  # 훈련 셋 정확도\n",
        "    te_acc = clf.score(X_te, y_te)  # 테스트 셋 정확도\n",
        "    print(f'{clf.__class__.__name__} - train acc:{tr_acc}, test acc:{te_acc}')"
      ],
      "metadata": {
        "colab": {
          "base_uri": "https://localhost:8080/"
        },
        "id": "WTL1Qd6__ZnG",
        "outputId": "24174f19-8978-4fbb-856e-85eb39e9b379"
      },
      "execution_count": null,
      "outputs": [
        {
          "output_type": "stream",
          "name": "stdout",
          "text": [
            "KNeighborsClassifier - train acc:0.93, test acc:0.93\n",
            "DecisionTreeClassifier - train acc:1.0, test acc:0.84\n",
            "LogisticRegression - train acc:0.8475, test acc:0.81\n",
            "SGDClassifier - train acc:0.8425, test acc:0.81\n",
            "SVC - train acc:0.9275, test acc:0.93\n"
          ]
        }
      ]
    },
    {
      "cell_type": "markdown",
      "source": [
        "# Voting Ensemble"
      ],
      "metadata": {
        "id": "I_404mMK_ax_"
      }
    },
    {
      "cell_type": "code",
      "source": [
        "vote_clf = VotingClassifier(estimators=[('knn', knn),\n",
        "                                        ('tree', tree),\n",
        "                                        ('logistic', logistic),\n",
        "                                        ('sgd', sgd),\n",
        "                                        ('svm', svm)],\n",
        "                            voting='soft',\n",
        "                            n_jobs=-1)\n",
        "# estimators: VotingEnsemble을 만들기 위한 ML 모델 ('모델이름', 모델 객체) tuple들의 리스트.\n",
        "# voting: 투표 방식\n",
        "#> voting='hard': 기본값. 앙상블의 각 모델들이 동일하게 1표씩 행사. 예측 확률이 필요 없음.\n",
        "#> voting='soft': 앙상블의 각 모델의 예측값에 예측 확률을 가중치로 곱한 값을 사용해서 최종 결과를 예측.\n",
        "#> 일반적으로는 soft voting 방식이 더 성능이 좋다고 알려져 있음."
      ],
      "metadata": {
        "id": "OjE88y-q_box"
      },
      "execution_count": null,
      "outputs": []
    },
    {
      "cell_type": "code",
      "source": [
        "# voting ensemble을 훈련\n",
        "vote_clf.fit(X_tr, y_tr)"
      ],
      "metadata": {
        "colab": {
          "base_uri": "https://localhost:8080/"
        },
        "id": "GfoTkF2h_b_3",
        "outputId": "bacebfa5-0f37-4eef-fab7-e43d0e05bf8c"
      },
      "execution_count": null,
      "outputs": [
        {
          "output_type": "execute_result",
          "data": {
            "text/plain": [
              "VotingClassifier(estimators=[('knn', KNeighborsClassifier(n_jobs=-1)),\n",
              "                             ('tree', DecisionTreeClassifier(random_state=42)),\n",
              "                             ('logistic',\n",
              "                              LogisticRegression(n_jobs=-1, random_state=42)),\n",
              "                             ('sgd',\n",
              "                              SGDClassifier(loss='log', n_jobs=-1,\n",
              "                                            random_state=42)),\n",
              "                             ('svm', SVC(probability=True, random_state=42))],\n",
              "                 n_jobs=-1, voting='soft')"
            ]
          },
          "metadata": {},
          "execution_count": 12
        }
      ]
    },
    {
      "cell_type": "code",
      "source": [
        "# 훈련/테스트 셋 정확도\n",
        "print('train acc:', vote_clf.score(X_tr, y_tr))\n",
        "print('test acc:', vote_clf.score(X_te, y_te))"
      ],
      "metadata": {
        "colab": {
          "base_uri": "https://localhost:8080/"
        },
        "id": "7du4MUqF_b9V",
        "outputId": "4248b239-72e3-4926-d12b-f3c1dfc24964"
      },
      "execution_count": null,
      "outputs": [
        {
          "output_type": "stream",
          "name": "stdout",
          "text": [
            "train acc: 0.94\n",
            "test acc: 0.92\n"
          ]
        }
      ]
    },
    {
      "cell_type": "markdown",
      "source": [
        "# Bagging Ensemble"
      ],
      "metadata": {
        "id": "98BX6SiT_evn"
      }
    },
    {
      "cell_type": "code",
      "source": [
        "bagging_clf = BaggingClassifier(\n",
        "    base_estimator=DecisionTreeClassifier(random_state=42),\n",
        "    n_estimators=50,\n",
        "    max_samples=100,\n",
        "    bootstrap=True,\n",
        "    oob_score=True,\n",
        "    n_jobs=-1,\n",
        "    random_state=42\n",
        ")"
      ],
      "metadata": {
        "id": "vYoDapHP_b6v"
      },
      "execution_count": null,
      "outputs": []
    },
    {
      "cell_type": "markdown",
      "source": [
        "BaggingClasifier의 파라미터들:\n",
        "\n",
        "*   base_estimator: 기본 추정기(예측기). 머신 러닝 모델 객체.\n",
        "*   n_etimators: 추정기(예측기)의 개수. 기본값 10.\n",
        "*   max_samples: 훈련 셋의 부분 집합이 가질 수 있는 최대 샘플 개수(정수) 또는 비율(0 ~ 1.0). 기본값은 1.0.\n",
        "*   bootstrap: True(중복 허용 샘플링, bagging). False(중복 불허 샘플링, pasting). 기본값은 True.\n",
        "*   oob_score: True(OOB 샘플로 평가 점수 계산). False(OOB 샘플로 평가 점수를 계산하지 않음). 기본값은 False.\n",
        "    *   OOB(Out-Of-Bagging) 샘플: 중복 허용 샘플링을 하는 동안 한 번도 샘플링되지 못하고 남아 있는 훈련 셋의 샘플.\n",
        "    *   OOB sample은 validation set 역할을 할 수 있음."
      ],
      "metadata": {
        "id": "AvFLfEih_huR"
      }
    },
    {
      "cell_type": "code",
      "source": [
        "bagging_clf.fit(X_tr, y_tr)  # 모델 훈련"
      ],
      "metadata": {
        "colab": {
          "base_uri": "https://localhost:8080/"
        },
        "id": "KLsC0-wv_i2u",
        "outputId": "12585dcf-98e9-487f-ca2e-46f4fe54d217"
      },
      "execution_count": null,
      "outputs": [
        {
          "output_type": "execute_result",
          "data": {
            "text/plain": [
              "BaggingClassifier(base_estimator=DecisionTreeClassifier(random_state=42),\n",
              "                  max_samples=100, n_estimators=50, n_jobs=-1, oob_score=True,\n",
              "                  random_state=42)"
            ]
          },
          "metadata": {},
          "execution_count": 15
        }
      ]
    },
    {
      "cell_type": "code",
      "source": [
        "bagging_clf.oob_score_  \n",
        "# OOB(Out-of-bagging) 샘플들로 계산한 점수(정확도)\n",
        "# OOB score는 일반적으로 테스트 셋 점수보다 약간 좋거나 비슷."
      ],
      "metadata": {
        "colab": {
          "base_uri": "https://localhost:8080/"
        },
        "id": "XPJ6vYU0_kok",
        "outputId": "d8a016a7-39c0-4d6b-b780-ae0ef75b2e0b"
      },
      "execution_count": null,
      "outputs": [
        {
          "output_type": "execute_result",
          "data": {
            "text/plain": [
              "0.91"
            ]
          },
          "metadata": {},
          "execution_count": 16
        }
      ]
    },
    {
      "cell_type": "code",
      "source": [
        "print('train acc:', bagging_clf.score(X_tr, y_tr))\n",
        "print('test acc:', bagging_clf.score(X_te, y_te))"
      ],
      "metadata": {
        "colab": {
          "base_uri": "https://localhost:8080/"
        },
        "id": "3Vt06OSM_klx",
        "outputId": "580b4c9e-66e3-46ef-a815-1670652fcd5a"
      },
      "execution_count": null,
      "outputs": [
        {
          "output_type": "stream",
          "name": "stdout",
          "text": [
            "train acc: 0.9425\n",
            "test acc: 0.9\n"
          ]
        }
      ]
    },
    {
      "cell_type": "code",
      "source": [
        "# n_esitmators=100, max_samples=1.0 설정해서 교차 검증(cross_validate)\n",
        "bagging_clf = BaggingClassifier(\n",
        "    base_estimator=DecisionTreeClassifier(random_state=42),\n",
        "    n_estimators=100, max_samples=1.0, oob_score=True,\n",
        "    n_jobs=-1, random_state=42\n",
        ")"
      ],
      "metadata": {
        "id": "BTGcD9W7_kjM"
      },
      "execution_count": null,
      "outputs": []
    },
    {
      "cell_type": "code",
      "source": [
        "cv = cross_validate(bagging_clf, X_tr, y_tr, n_jobs=-1, return_train_score=True)"
      ],
      "metadata": {
        "id": "LXrKj75M_kgq"
      },
      "execution_count": null,
      "outputs": []
    },
    {
      "cell_type": "code",
      "source": [
        "print('train score:', np.mean(cv['train_score']))\n",
        "print('validation score:', np.mean(cv['test_score']))"
      ],
      "metadata": {
        "colab": {
          "base_uri": "https://localhost:8080/"
        },
        "id": "VLoT-EUK_mgU",
        "outputId": "4c73377e-cff4-4f77-f561-eeb0d0462466"
      },
      "execution_count": null,
      "outputs": [
        {
          "output_type": "stream",
          "name": "stdout",
          "text": [
            "train score: 1.0\n",
            "validation score: 0.9075\n"
          ]
        }
      ]
    },
    {
      "cell_type": "markdown",
      "source": [
        "# Random Forest"
      ],
      "metadata": {
        "id": "rCqBIsyJ_nir"
      }
    },
    {
      "cell_type": "code",
      "source": [
        "forest_clf = RandomForestClassifier(n_estimators=50, max_samples=100, oob_score=True,\n",
        "                                    random_state=42, n_jobs=-1)"
      ],
      "metadata": {
        "id": "GyFntTMX_or7"
      },
      "execution_count": null,
      "outputs": []
    },
    {
      "cell_type": "code",
      "source": [
        "forest_clf.fit(X_tr, y_tr)"
      ],
      "metadata": {
        "colab": {
          "base_uri": "https://localhost:8080/"
        },
        "id": "CYWoYRXU_pA-",
        "outputId": "91495331-a32a-4f58-86a5-90ce5f6b2845"
      },
      "execution_count": null,
      "outputs": [
        {
          "output_type": "execute_result",
          "data": {
            "text/plain": [
              "RandomForestClassifier(max_samples=100, n_estimators=50, n_jobs=-1,\n",
              "                       oob_score=True, random_state=42)"
            ]
          },
          "metadata": {},
          "execution_count": 22
        }
      ]
    },
    {
      "cell_type": "code",
      "source": [
        "forest_clf.oob_score_"
      ],
      "metadata": {
        "colab": {
          "base_uri": "https://localhost:8080/"
        },
        "id": "n5r8Z-RJ_o-o",
        "outputId": "6add3060-2d82-4ecb-8edc-bdc65604d940"
      },
      "execution_count": null,
      "outputs": [
        {
          "output_type": "execute_result",
          "data": {
            "text/plain": [
              "0.9125"
            ]
          },
          "metadata": {},
          "execution_count": 23
        }
      ]
    },
    {
      "cell_type": "code",
      "source": [
        "print('train score:', forest_clf.score(X_tr, y_tr))\n",
        "print('test score:', forest_clf.score(X_te, y_te))"
      ],
      "metadata": {
        "colab": {
          "base_uri": "https://localhost:8080/"
        },
        "id": "4qeIkp1o_o8A",
        "outputId": "9553f266-452b-46c7-e7ab-45247e0e5416"
      },
      "execution_count": null,
      "outputs": [
        {
          "output_type": "stream",
          "name": "stdout",
          "text": [
            "train score: 0.9475\n",
            "test score: 0.91\n"
          ]
        }
      ]
    },
    {
      "cell_type": "markdown",
      "source": [
        "Random Forest: Decision Tree를 사용하는 bagging ensemble 학습 방법.\n",
        "*   DecisionTree의 파라미터와 Bagging의 파라미터들을 갖음.\n",
        "*   GridSearchCV, RandomizedSearchCV을 사용해서 tree와 bagging의 하이퍼파라미터들을 튜닝할 수 있음."
      ],
      "metadata": {
        "id": "d5xyj12L_ren"
      }
    },
    {
      "cell_type": "markdown",
      "source": [
        "# RandomForest를 사용한 wine 분류"
      ],
      "metadata": {
        "id": "g7RfrZR4_slU"
      }
    },
    {
      "cell_type": "code",
      "source": [
        ""
      ],
      "metadata": {
        "id": "c2wY1lBL_o5f"
      },
      "execution_count": null,
      "outputs": []
    },
    {
      "cell_type": "markdown",
      "source": [
        "# RandomForest를 사용한 breast-cancer 분류"
      ],
      "metadata": {
        "id": "lhV7vmH3_um1"
      }
    },
    {
      "cell_type": "code",
      "source": [
        ""
      ],
      "metadata": {
        "id": "xmlU27OK_v4X"
      },
      "execution_count": null,
      "outputs": []
    }
  ]
}