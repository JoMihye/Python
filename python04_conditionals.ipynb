{
  "nbformat": 4,
  "nbformat_minor": 0,
  "metadata": {
    "colab": {
      "name": "python04_conditionals.ipynb",
      "provenance": [],
      "authorship_tag": "ABX9TyNGlNMZqj7FFc6gcjEcTwW/",
      "include_colab_link": true
    },
    "kernelspec": {
      "name": "python3",
      "display_name": "Python 3"
    },
    "language_info": {
      "name": "python"
    }
  },
  "cells": [
    {
      "cell_type": "markdown",
      "metadata": {
        "id": "view-in-github",
        "colab_type": "text"
      },
      "source": [
        "<a href=\"https://colab.research.google.com/github/JoMihye/Python/blob/main/python04_conditionals.ipynb\" target=\"_parent\"><img src=\"https://colab.research.google.com/assets/colab-badge.svg\" alt=\"Open In Colab\"/></a>"
      ]
    },
    {
      "cell_type": "markdown",
      "source": [
        "# 난수(random number) 만드는 방법"
      ],
      "metadata": {
        "id": "Y14UvBCP1aBo"
      }
    },
    {
      "cell_type": "code",
      "execution_count": null,
      "metadata": {
        "id": "_v8yIeAz0oEj"
      },
      "outputs": [],
      "source": [
        "import random  # 난수를 만들어 주는 함수들을 가지고 있는 모듈"
      ]
    },
    {
      "cell_type": "code",
      "source": [
        "# random.random(): 0 <= x < 1 범위의 (실수) 난수들을 생성.\n",
        "random.random() * 10"
      ],
      "metadata": {
        "colab": {
          "base_uri": "https://localhost:8080/"
        },
        "id": "-Q2qgOAL14jZ",
        "outputId": "f8628a56-c369-4a9d-e3db-392898b56120"
      },
      "execution_count": null,
      "outputs": [
        {
          "output_type": "execute_result",
          "data": {
            "text/plain": [
              "0.8283718808759262"
            ]
          },
          "metadata": {},
          "execution_count": 3
        }
      ]
    },
    {
      "cell_type": "code",
      "source": [
        "# random.randrange(start, stop): start <= x < stop 범위의 정수 난수들을 생성\n",
        "random.randrange(1, 4)"
      ],
      "metadata": {
        "colab": {
          "base_uri": "https://localhost:8080/"
        },
        "id": "lkz7VTU220Bq",
        "outputId": "0477c2f9-e887-42a9-8751-58ac3daaa1e6"
      },
      "execution_count": null,
      "outputs": [
        {
          "output_type": "execute_result",
          "data": {
            "text/plain": [
              "3"
            ]
          },
          "metadata": {},
          "execution_count": 5
        }
      ]
    },
    {
      "cell_type": "code",
      "source": [
        "# random.randrange(stop): 0 <= x < stop 범위의 정수 난수들을 생성.\n",
        "random.randrange(4)"
      ],
      "metadata": {
        "colab": {
          "base_uri": "https://localhost:8080/"
        },
        "id": "M_YPWaa93XwL",
        "outputId": "460aa633-01d9-4f2f-e572-705783e0c8e9"
      },
      "execution_count": null,
      "outputs": [
        {
          "output_type": "execute_result",
          "data": {
            "text/plain": [
              "1"
            ]
          },
          "metadata": {},
          "execution_count": 6
        }
      ]
    },
    {
      "cell_type": "markdown",
      "source": [
        "# 가위, 바위, 보 게임 승패 결정"
      ],
      "metadata": {
        "id": "pKR3VSI14Zfi"
      }
    },
    {
      "cell_type": "markdown",
      "source": [
        "*  가위(1), 바위(2), 보(3)\n",
        "*  컴퓨터 - 1,2,3 중의 숫자 하나를 난수로 저장.\n",
        "*  사용자 - 1,2,3 중의 숫자 하나를 입력받아서 저장.\n",
        "*  가위/바위/보 게임 결과를 조건문을 사용해서 출력."
      ],
      "metadata": {
        "id": "yU-EH4dB4gZT"
      }
    },
    {
      "cell_type": "code",
      "source": [
        "computer = random.randrange(1, 4)\n",
        "print(computer)"
      ],
      "metadata": {
        "colab": {
          "base_uri": "https://localhost:8080/"
        },
        "id": "XQuccgcq45GG",
        "outputId": "97633f41-4431-45a3-98a0-ebb005ba3089"
      },
      "execution_count": null,
      "outputs": [
        {
          "output_type": "stream",
          "name": "stdout",
          "text": [
            "1\n"
          ]
        }
      ]
    },
    {
      "cell_type": "code",
      "source": [
        "print('=== 가위/바위/보 ===')\n",
        "print('[1] 가위')\n",
        "print('[2] 바위')\n",
        "print('[3] 보')\n",
        "user = int(input('선택>>> '))"
      ],
      "metadata": {
        "colab": {
          "base_uri": "https://localhost:8080/"
        },
        "id": "pLmS9qQ-5NCS",
        "outputId": "5a0de390-d7e8-4b0b-e4c6-6da95a200f03"
      },
      "execution_count": null,
      "outputs": [
        {
          "name": "stdout",
          "output_type": "stream",
          "text": [
            "=== 가위/바위/보 ===\n",
            "[1] 가위\n",
            "[2] 바위\n",
            "[3] 보\n",
            "선택>>> 1\n"
          ]
        }
      ]
    },
    {
      "cell_type": "markdown",
      "source": [
        "### 내가 작성한 코드"
      ],
      "metadata": {
        "id": "BhosfypbU3mh"
      }
    },
    {
      "cell_type": "code",
      "source": [
        "# 게임 결과 출력\n",
        "user = int(input('선택>>> '))\n",
        "computer = random.randrange(1, 4)\n",
        "print(computer)\n",
        "if computer == 1:\n",
        "    if user == 2:\n",
        "        print('승')\n",
        "    elif user == 3:\n",
        "        print('패')       \n",
        "    else:\n",
        "        print('무승부')\n",
        "elif computer == 2:\n",
        "    if user == 1:\n",
        "        print('패')\n",
        "    elif user == 3:\n",
        "        print('승')\n",
        "    else:\n",
        "        print('무승부')\n",
        "else:\n",
        "    if user == 2:\n",
        "        print('패')\n",
        "    elif user == 1:\n",
        "        print('승')\n",
        "    else:\n",
        "        print('무승부')"
      ],
      "metadata": {
        "colab": {
          "base_uri": "https://localhost:8080/"
        },
        "id": "08D9nfh053Tz",
        "outputId": "a8bb9254-dda1-48e6-f305-cd53a6bec558"
      },
      "execution_count": null,
      "outputs": [
        {
          "output_type": "stream",
          "name": "stdout",
          "text": [
            "선택>>> 1\n",
            "3\n",
            "승\n"
          ]
        }
      ]
    },
    {
      "cell_type": "markdown",
      "source": [
        "### 강사님 작성 코드"
      ],
      "metadata": {
        "id": "25FyvcqxUylb"
      }
    },
    {
      "cell_type": "code",
      "source": [
        "# 게임 결과 출력\n",
        "if user == 1:            # user: 가위\n",
        "    if computer == 1:    # com: 가위\n",
        "        print('Tie')\n",
        "    elif computer == 2:  # com: 바위\n",
        "        print('Computer Win')\n",
        "    else:                # com: 보\n",
        "        print('User Win')\n",
        "elif user == 2:          # user: 바위\n",
        "    if computer == 1:    # com: 가위\n",
        "        print('User Win')\n",
        "    elif computer == 2:  # com: 바위\n",
        "        print('Tie')\n",
        "    else:                # com: 보\n",
        "        print('Computer Win')\n",
        "else:                    # user: 보\n",
        "    if computer == 1:    # com: 가위\n",
        "        print('Computer Win')\n",
        "    elif computer == 2:  # com: 바위\n",
        "        print('User Win')\n",
        "    else:                # com: 보\n",
        "        print('Tie')"
      ],
      "metadata": {
        "colab": {
          "base_uri": "https://localhost:8080/"
        },
        "id": "WJALGa-XVBGA",
        "outputId": "b5198ed6-3bb0-4431-c677-c48cc292c7e4"
      },
      "execution_count": null,
      "outputs": [
        {
          "output_type": "stream",
          "name": "stdout",
          "text": [
            "User Win\n"
          ]
        }
      ]
    },
    {
      "cell_type": "code",
      "source": [
        "if user == 1 and computer == 1:\n",
        "    pass\n",
        "elif user == 1 and computer == 2:\n",
        "    pass\n",
        "elif user == 1 and computer == 3:\n",
        "    pass\n",
        "elif user == 2 and computer == 1:\n",
        "    pass\n",
        "elif user == 2 and computer == 2:\n",
        "    pass\n",
        "elif user == 2 and computer == 3:\n",
        "    pass\n",
        "elif user == 3 and computer == 1:\n",
        "    pass\n",
        "elif user == 3 and computer ==2:\n",
        "    pass\n",
        "elif user == 3 and computer == 3:\n",
        "    pass"
      ],
      "metadata": {
        "id": "jOofGFgiV2Ld"
      },
      "execution_count": null,
      "outputs": []
    },
    {
      "cell_type": "code",
      "source": [
        "if user == computer:\n",
        "    pass  # 비김\n",
        "elif user == 1:\n",
        "    if computer == 2:\n",
        "        pass\n",
        "    else:  # com=3\n",
        "        pass\n",
        "elif user == 2:\n",
        "    if computer == 1:\n",
        "        pass\n",
        "    else:  # com=3\n",
        "        pass\n",
        "else:\n",
        "    if computer == 1:\n",
        "        pass\n",
        "    else:  # com=2\n",
        "        pass"
      ],
      "metadata": {
        "id": "igYWE2GWXga8"
      },
      "execution_count": null,
      "outputs": []
    },
    {
      "cell_type": "code",
      "source": [
        "if user == computer:  # 비김\n",
        "    print('Tie')\n",
        "elif (user == 1 and computer == 3) or (user == 2 and computer == 1) or (user == 3 and computer == 2):  #user 이김\n",
        "    print('User win')\n",
        "else:  # computer 이김\n",
        "    print('Computer win')"
      ],
      "metadata": {
        "colab": {
          "base_uri": "https://localhost:8080/"
        },
        "id": "6iDjWHrcYvU6",
        "outputId": "fe952720-08bc-40d1-dff4-396dd61c19be"
      },
      "execution_count": null,
      "outputs": [
        {
          "output_type": "stream",
          "name": "stdout",
          "text": [
            "User win\n"
          ]
        }
      ]
    },
    {
      "cell_type": "code",
      "source": [
        "result = user - computer\n",
        "if result == 0:\n",
        "    print('Tie')\n",
        "elif result == 1 or result == -2:\n",
        "    print('User win')\n",
        "else:\n",
        "    print('Computer win')"
      ],
      "metadata": {
        "colab": {
          "base_uri": "https://localhost:8080/"
        },
        "id": "iAsaNXYYab4Y",
        "outputId": "941ef0c0-dad5-434a-b975-ce3cc62b357b"
      },
      "execution_count": null,
      "outputs": [
        {
          "output_type": "stream",
          "name": "stdout",
          "text": [
            "User win\n"
          ]
        }
      ]
    }
  ]
}