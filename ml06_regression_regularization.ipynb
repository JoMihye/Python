{
  "nbformat": 4,
  "nbformat_minor": 0,
  "metadata": {
    "colab": {
      "name": "ml06_regression_regularization.ipynb",
      "provenance": [],
      "collapsed_sections": [],
      "authorship_tag": "ABX9TyNvT1Qm+TRbHIiODaME4xdl",
      "include_colab_link": true
    },
    "kernelspec": {
      "name": "python3",
      "display_name": "Python 3"
    },
    "language_info": {
      "name": "python"
    }
  },
  "cells": [
    {
      "cell_type": "markdown",
      "metadata": {
        "id": "view-in-github",
        "colab_type": "text"
      },
      "source": [
        "<a href=\"https://colab.research.google.com/github/JoMihye/Python/blob/main/ml06_regression_regularization.ipynb\" target=\"_parent\"><img src=\"https://colab.research.google.com/assets/colab-badge.svg\" alt=\"Open In Colab\"/></a>"
      ]
    },
    {
      "cell_type": "markdown",
      "source": [
        "# Imports"
      ],
      "metadata": {
        "id": "O6eL38DePBcg"
      }
    },
    {
      "cell_type": "code",
      "execution_count": null,
      "metadata": {
        "id": "8iwE1KrwK0Ic"
      },
      "outputs": [],
      "source": [
        "import numpy as np\n",
        "import pandas as pd\n",
        "import matplotlib.pyplot as plt\n",
        "import seaborn as sns\n",
        "\n",
        "from sklearn.model_selection import train_test_split\n",
        "from sklearn.preprocessing import PolynomialFeatures, StandardScaler\n",
        "from sklearn.pipeline import Pipeline\n",
        "from sklearn.neighbors import KNeighborsRegressor\n",
        "from sklearn.linear_model import LinearRegression, Ridge, Lasso, ElasticNet\n",
        "from sklearn.metrics import r2_score, mean_squared_error"
      ]
    },
    {
      "cell_type": "markdown",
      "source": [
        "# 데이터 준비"
      ],
      "metadata": {
        "id": "t1dZgToyV94Z"
      }
    },
    {
      "cell_type": "code",
      "source": [
        "# fish 데이터 셋\n",
        "fish_csv = 'https://github.com/rickiepark/hg-mldl/raw/master/fish.csv'"
      ],
      "metadata": {
        "id": "GksIUZsgV9Dn"
      },
      "execution_count": null,
      "outputs": []
    },
    {
      "cell_type": "code",
      "source": [
        "fish = pd.read_csv(fish_csv)"
      ],
      "metadata": {
        "id": "U2G0gkDUV_qY"
      },
      "execution_count": null,
      "outputs": []
    },
    {
      "cell_type": "code",
      "source": [
        "fish.head()"
      ],
      "metadata": {
        "colab": {
          "base_uri": "https://localhost:8080/",
          "height": 206
        },
        "id": "0b87gHHOWAwo",
        "outputId": "5e218399-efe1-4f80-eabc-b8908112274e"
      },
      "execution_count": null,
      "outputs": [
        {
          "output_type": "execute_result",
          "data": {
            "text/plain": [
              "  Species  Weight  Length  Diagonal   Height   Width\n",
              "0   Bream   242.0    25.4      30.0  11.5200  4.0200\n",
              "1   Bream   290.0    26.3      31.2  12.4800  4.3056\n",
              "2   Bream   340.0    26.5      31.1  12.3778  4.6961\n",
              "3   Bream   363.0    29.0      33.5  12.7300  4.4555\n",
              "4   Bream   430.0    29.0      34.0  12.4440  5.1340"
            ],
            "text/html": [
              "\n",
              "  <div id=\"df-0a5040fd-1642-4c55-9d83-fd51e5e1759b\">\n",
              "    <div class=\"colab-df-container\">\n",
              "      <div>\n",
              "<style scoped>\n",
              "    .dataframe tbody tr th:only-of-type {\n",
              "        vertical-align: middle;\n",
              "    }\n",
              "\n",
              "    .dataframe tbody tr th {\n",
              "        vertical-align: top;\n",
              "    }\n",
              "\n",
              "    .dataframe thead th {\n",
              "        text-align: right;\n",
              "    }\n",
              "</style>\n",
              "<table border=\"1\" class=\"dataframe\">\n",
              "  <thead>\n",
              "    <tr style=\"text-align: right;\">\n",
              "      <th></th>\n",
              "      <th>Species</th>\n",
              "      <th>Weight</th>\n",
              "      <th>Length</th>\n",
              "      <th>Diagonal</th>\n",
              "      <th>Height</th>\n",
              "      <th>Width</th>\n",
              "    </tr>\n",
              "  </thead>\n",
              "  <tbody>\n",
              "    <tr>\n",
              "      <th>0</th>\n",
              "      <td>Bream</td>\n",
              "      <td>242.0</td>\n",
              "      <td>25.4</td>\n",
              "      <td>30.0</td>\n",
              "      <td>11.5200</td>\n",
              "      <td>4.0200</td>\n",
              "    </tr>\n",
              "    <tr>\n",
              "      <th>1</th>\n",
              "      <td>Bream</td>\n",
              "      <td>290.0</td>\n",
              "      <td>26.3</td>\n",
              "      <td>31.2</td>\n",
              "      <td>12.4800</td>\n",
              "      <td>4.3056</td>\n",
              "    </tr>\n",
              "    <tr>\n",
              "      <th>2</th>\n",
              "      <td>Bream</td>\n",
              "      <td>340.0</td>\n",
              "      <td>26.5</td>\n",
              "      <td>31.1</td>\n",
              "      <td>12.3778</td>\n",
              "      <td>4.6961</td>\n",
              "    </tr>\n",
              "    <tr>\n",
              "      <th>3</th>\n",
              "      <td>Bream</td>\n",
              "      <td>363.0</td>\n",
              "      <td>29.0</td>\n",
              "      <td>33.5</td>\n",
              "      <td>12.7300</td>\n",
              "      <td>4.4555</td>\n",
              "    </tr>\n",
              "    <tr>\n",
              "      <th>4</th>\n",
              "      <td>Bream</td>\n",
              "      <td>430.0</td>\n",
              "      <td>29.0</td>\n",
              "      <td>34.0</td>\n",
              "      <td>12.4440</td>\n",
              "      <td>5.1340</td>\n",
              "    </tr>\n",
              "  </tbody>\n",
              "</table>\n",
              "</div>\n",
              "      <button class=\"colab-df-convert\" onclick=\"convertToInteractive('df-0a5040fd-1642-4c55-9d83-fd51e5e1759b')\"\n",
              "              title=\"Convert this dataframe to an interactive table.\"\n",
              "              style=\"display:none;\">\n",
              "        \n",
              "  <svg xmlns=\"http://www.w3.org/2000/svg\" height=\"24px\"viewBox=\"0 0 24 24\"\n",
              "       width=\"24px\">\n",
              "    <path d=\"M0 0h24v24H0V0z\" fill=\"none\"/>\n",
              "    <path d=\"M18.56 5.44l.94 2.06.94-2.06 2.06-.94-2.06-.94-.94-2.06-.94 2.06-2.06.94zm-11 1L8.5 8.5l.94-2.06 2.06-.94-2.06-.94L8.5 2.5l-.94 2.06-2.06.94zm10 10l.94 2.06.94-2.06 2.06-.94-2.06-.94-.94-2.06-.94 2.06-2.06.94z\"/><path d=\"M17.41 7.96l-1.37-1.37c-.4-.4-.92-.59-1.43-.59-.52 0-1.04.2-1.43.59L10.3 9.45l-7.72 7.72c-.78.78-.78 2.05 0 2.83L4 21.41c.39.39.9.59 1.41.59.51 0 1.02-.2 1.41-.59l7.78-7.78 2.81-2.81c.8-.78.8-2.07 0-2.86zM5.41 20L4 18.59l7.72-7.72 1.47 1.35L5.41 20z\"/>\n",
              "  </svg>\n",
              "      </button>\n",
              "      \n",
              "  <style>\n",
              "    .colab-df-container {\n",
              "      display:flex;\n",
              "      flex-wrap:wrap;\n",
              "      gap: 12px;\n",
              "    }\n",
              "\n",
              "    .colab-df-convert {\n",
              "      background-color: #E8F0FE;\n",
              "      border: none;\n",
              "      border-radius: 50%;\n",
              "      cursor: pointer;\n",
              "      display: none;\n",
              "      fill: #1967D2;\n",
              "      height: 32px;\n",
              "      padding: 0 0 0 0;\n",
              "      width: 32px;\n",
              "    }\n",
              "\n",
              "    .colab-df-convert:hover {\n",
              "      background-color: #E2EBFA;\n",
              "      box-shadow: 0px 1px 2px rgba(60, 64, 67, 0.3), 0px 1px 3px 1px rgba(60, 64, 67, 0.15);\n",
              "      fill: #174EA6;\n",
              "    }\n",
              "\n",
              "    [theme=dark] .colab-df-convert {\n",
              "      background-color: #3B4455;\n",
              "      fill: #D2E3FC;\n",
              "    }\n",
              "\n",
              "    [theme=dark] .colab-df-convert:hover {\n",
              "      background-color: #434B5C;\n",
              "      box-shadow: 0px 1px 3px 1px rgba(0, 0, 0, 0.15);\n",
              "      filter: drop-shadow(0px 1px 2px rgba(0, 0, 0, 0.3));\n",
              "      fill: #FFFFFF;\n",
              "    }\n",
              "  </style>\n",
              "\n",
              "      <script>\n",
              "        const buttonEl =\n",
              "          document.querySelector('#df-0a5040fd-1642-4c55-9d83-fd51e5e1759b button.colab-df-convert');\n",
              "        buttonEl.style.display =\n",
              "          google.colab.kernel.accessAllowed ? 'block' : 'none';\n",
              "\n",
              "        async function convertToInteractive(key) {\n",
              "          const element = document.querySelector('#df-0a5040fd-1642-4c55-9d83-fd51e5e1759b');\n",
              "          const dataTable =\n",
              "            await google.colab.kernel.invokeFunction('convertToInteractive',\n",
              "                                                     [key], {});\n",
              "          if (!dataTable) return;\n",
              "\n",
              "          const docLinkHtml = 'Like what you see? Visit the ' +\n",
              "            '<a target=\"_blank\" href=https://colab.research.google.com/notebooks/data_table.ipynb>data table notebook</a>'\n",
              "            + ' to learn more about interactive tables.';\n",
              "          element.innerHTML = '';\n",
              "          dataTable['output_type'] = 'display_data';\n",
              "          await google.colab.output.renderOutput(dataTable, element);\n",
              "          const docLink = document.createElement('div');\n",
              "          docLink.innerHTML = docLinkHtml;\n",
              "          element.appendChild(docLink);\n",
              "        }\n",
              "      </script>\n",
              "    </div>\n",
              "  </div>\n",
              "  "
            ]
          },
          "metadata": {},
          "execution_count": 5
        }
      ]
    },
    {
      "cell_type": "code",
      "source": [
        "fish.info()"
      ],
      "metadata": {
        "colab": {
          "base_uri": "https://localhost:8080/"
        },
        "id": "XDrRRuUMWBr4",
        "outputId": "3b9d48de-5dad-424e-db46-f9aa4f5ce58c"
      },
      "execution_count": null,
      "outputs": [
        {
          "output_type": "stream",
          "name": "stdout",
          "text": [
            "<class 'pandas.core.frame.DataFrame'>\n",
            "RangeIndex: 159 entries, 0 to 158\n",
            "Data columns (total 6 columns):\n",
            " #   Column    Non-Null Count  Dtype  \n",
            "---  ------    --------------  -----  \n",
            " 0   Species   159 non-null    object \n",
            " 1   Weight    159 non-null    float64\n",
            " 2   Length    159 non-null    float64\n",
            " 3   Diagonal  159 non-null    float64\n",
            " 4   Height    159 non-null    float64\n",
            " 5   Width     159 non-null    float64\n",
            "dtypes: float64(5), object(1)\n",
            "memory usage: 7.6+ KB\n"
          ]
        }
      ]
    },
    {
      "cell_type": "markdown",
      "source": [
        "물고기(Perch, 농어)의 무게 예측\n",
        "\n",
        "`Weight ~ Length + Diagonal + Height + Width`"
      ],
      "metadata": {
        "id": "fEb1dCEDWDLb"
      }
    },
    {
      "cell_type": "code",
      "source": [
        "# Perch(농어) 부분집합\n",
        "perch = fish[fish.Species == 'Perch']"
      ],
      "metadata": {
        "id": "nqhsBuHSWCf5"
      },
      "execution_count": null,
      "outputs": []
    },
    {
      "cell_type": "code",
      "source": [
        "perch.head()"
      ],
      "metadata": {
        "colab": {
          "base_uri": "https://localhost:8080/",
          "height": 206
        },
        "id": "nJ5Rz6WJWFmy",
        "outputId": "18830731-5870-4bb2-8684-dac9d666bb81"
      },
      "execution_count": null,
      "outputs": [
        {
          "output_type": "execute_result",
          "data": {
            "text/plain": [
              "   Species  Weight  Length  Diagonal  Height   Width\n",
              "72   Perch     5.9     8.4       8.8  2.1120  1.4080\n",
              "73   Perch    32.0    13.7      14.7  3.5280  1.9992\n",
              "74   Perch    40.0    15.0      16.0  3.8240  2.4320\n",
              "75   Perch    51.5    16.2      17.2  4.5924  2.6316\n",
              "76   Perch    70.0    17.4      18.5  4.5880  2.9415"
            ],
            "text/html": [
              "\n",
              "  <div id=\"df-2a52df3a-8d53-4219-bb72-3be2eda36c99\">\n",
              "    <div class=\"colab-df-container\">\n",
              "      <div>\n",
              "<style scoped>\n",
              "    .dataframe tbody tr th:only-of-type {\n",
              "        vertical-align: middle;\n",
              "    }\n",
              "\n",
              "    .dataframe tbody tr th {\n",
              "        vertical-align: top;\n",
              "    }\n",
              "\n",
              "    .dataframe thead th {\n",
              "        text-align: right;\n",
              "    }\n",
              "</style>\n",
              "<table border=\"1\" class=\"dataframe\">\n",
              "  <thead>\n",
              "    <tr style=\"text-align: right;\">\n",
              "      <th></th>\n",
              "      <th>Species</th>\n",
              "      <th>Weight</th>\n",
              "      <th>Length</th>\n",
              "      <th>Diagonal</th>\n",
              "      <th>Height</th>\n",
              "      <th>Width</th>\n",
              "    </tr>\n",
              "  </thead>\n",
              "  <tbody>\n",
              "    <tr>\n",
              "      <th>72</th>\n",
              "      <td>Perch</td>\n",
              "      <td>5.9</td>\n",
              "      <td>8.4</td>\n",
              "      <td>8.8</td>\n",
              "      <td>2.1120</td>\n",
              "      <td>1.4080</td>\n",
              "    </tr>\n",
              "    <tr>\n",
              "      <th>73</th>\n",
              "      <td>Perch</td>\n",
              "      <td>32.0</td>\n",
              "      <td>13.7</td>\n",
              "      <td>14.7</td>\n",
              "      <td>3.5280</td>\n",
              "      <td>1.9992</td>\n",
              "    </tr>\n",
              "    <tr>\n",
              "      <th>74</th>\n",
              "      <td>Perch</td>\n",
              "      <td>40.0</td>\n",
              "      <td>15.0</td>\n",
              "      <td>16.0</td>\n",
              "      <td>3.8240</td>\n",
              "      <td>2.4320</td>\n",
              "    </tr>\n",
              "    <tr>\n",
              "      <th>75</th>\n",
              "      <td>Perch</td>\n",
              "      <td>51.5</td>\n",
              "      <td>16.2</td>\n",
              "      <td>17.2</td>\n",
              "      <td>4.5924</td>\n",
              "      <td>2.6316</td>\n",
              "    </tr>\n",
              "    <tr>\n",
              "      <th>76</th>\n",
              "      <td>Perch</td>\n",
              "      <td>70.0</td>\n",
              "      <td>17.4</td>\n",
              "      <td>18.5</td>\n",
              "      <td>4.5880</td>\n",
              "      <td>2.9415</td>\n",
              "    </tr>\n",
              "  </tbody>\n",
              "</table>\n",
              "</div>\n",
              "      <button class=\"colab-df-convert\" onclick=\"convertToInteractive('df-2a52df3a-8d53-4219-bb72-3be2eda36c99')\"\n",
              "              title=\"Convert this dataframe to an interactive table.\"\n",
              "              style=\"display:none;\">\n",
              "        \n",
              "  <svg xmlns=\"http://www.w3.org/2000/svg\" height=\"24px\"viewBox=\"0 0 24 24\"\n",
              "       width=\"24px\">\n",
              "    <path d=\"M0 0h24v24H0V0z\" fill=\"none\"/>\n",
              "    <path d=\"M18.56 5.44l.94 2.06.94-2.06 2.06-.94-2.06-.94-.94-2.06-.94 2.06-2.06.94zm-11 1L8.5 8.5l.94-2.06 2.06-.94-2.06-.94L8.5 2.5l-.94 2.06-2.06.94zm10 10l.94 2.06.94-2.06 2.06-.94-2.06-.94-.94-2.06-.94 2.06-2.06.94z\"/><path d=\"M17.41 7.96l-1.37-1.37c-.4-.4-.92-.59-1.43-.59-.52 0-1.04.2-1.43.59L10.3 9.45l-7.72 7.72c-.78.78-.78 2.05 0 2.83L4 21.41c.39.39.9.59 1.41.59.51 0 1.02-.2 1.41-.59l7.78-7.78 2.81-2.81c.8-.78.8-2.07 0-2.86zM5.41 20L4 18.59l7.72-7.72 1.47 1.35L5.41 20z\"/>\n",
              "  </svg>\n",
              "      </button>\n",
              "      \n",
              "  <style>\n",
              "    .colab-df-container {\n",
              "      display:flex;\n",
              "      flex-wrap:wrap;\n",
              "      gap: 12px;\n",
              "    }\n",
              "\n",
              "    .colab-df-convert {\n",
              "      background-color: #E8F0FE;\n",
              "      border: none;\n",
              "      border-radius: 50%;\n",
              "      cursor: pointer;\n",
              "      display: none;\n",
              "      fill: #1967D2;\n",
              "      height: 32px;\n",
              "      padding: 0 0 0 0;\n",
              "      width: 32px;\n",
              "    }\n",
              "\n",
              "    .colab-df-convert:hover {\n",
              "      background-color: #E2EBFA;\n",
              "      box-shadow: 0px 1px 2px rgba(60, 64, 67, 0.3), 0px 1px 3px 1px rgba(60, 64, 67, 0.15);\n",
              "      fill: #174EA6;\n",
              "    }\n",
              "\n",
              "    [theme=dark] .colab-df-convert {\n",
              "      background-color: #3B4455;\n",
              "      fill: #D2E3FC;\n",
              "    }\n",
              "\n",
              "    [theme=dark] .colab-df-convert:hover {\n",
              "      background-color: #434B5C;\n",
              "      box-shadow: 0px 1px 3px 1px rgba(0, 0, 0, 0.15);\n",
              "      filter: drop-shadow(0px 1px 2px rgba(0, 0, 0, 0.3));\n",
              "      fill: #FFFFFF;\n",
              "    }\n",
              "  </style>\n",
              "\n",
              "      <script>\n",
              "        const buttonEl =\n",
              "          document.querySelector('#df-2a52df3a-8d53-4219-bb72-3be2eda36c99 button.colab-df-convert');\n",
              "        buttonEl.style.display =\n",
              "          google.colab.kernel.accessAllowed ? 'block' : 'none';\n",
              "\n",
              "        async function convertToInteractive(key) {\n",
              "          const element = document.querySelector('#df-2a52df3a-8d53-4219-bb72-3be2eda36c99');\n",
              "          const dataTable =\n",
              "            await google.colab.kernel.invokeFunction('convertToInteractive',\n",
              "                                                     [key], {});\n",
              "          if (!dataTable) return;\n",
              "\n",
              "          const docLinkHtml = 'Like what you see? Visit the ' +\n",
              "            '<a target=\"_blank\" href=https://colab.research.google.com/notebooks/data_table.ipynb>data table notebook</a>'\n",
              "            + ' to learn more about interactive tables.';\n",
              "          element.innerHTML = '';\n",
              "          dataTable['output_type'] = 'display_data';\n",
              "          await google.colab.output.renderOutput(dataTable, element);\n",
              "          const docLink = document.createElement('div');\n",
              "          docLink.innerHTML = docLinkHtml;\n",
              "          element.appendChild(docLink);\n",
              "        }\n",
              "      </script>\n",
              "    </div>\n",
              "  </div>\n",
              "  "
            ]
          },
          "metadata": {},
          "execution_count": 8
        }
      ]
    },
    {
      "cell_type": "code",
      "source": [
        "perch.info()"
      ],
      "metadata": {
        "colab": {
          "base_uri": "https://localhost:8080/"
        },
        "id": "hYjl00-2WGgT",
        "outputId": "8d897817-ffcb-4a00-c2b0-8e698d7ac644"
      },
      "execution_count": null,
      "outputs": [
        {
          "output_type": "stream",
          "name": "stdout",
          "text": [
            "<class 'pandas.core.frame.DataFrame'>\n",
            "Int64Index: 56 entries, 72 to 127\n",
            "Data columns (total 6 columns):\n",
            " #   Column    Non-Null Count  Dtype  \n",
            "---  ------    --------------  -----  \n",
            " 0   Species   56 non-null     object \n",
            " 1   Weight    56 non-null     float64\n",
            " 2   Length    56 non-null     float64\n",
            " 3   Diagonal  56 non-null     float64\n",
            " 4   Height    56 non-null     float64\n",
            " 5   Width     56 non-null     float64\n",
            "dtypes: float64(5), object(1)\n",
            "memory usage: 3.1+ KB\n"
          ]
        }
      ]
    },
    {
      "cell_type": "code",
      "source": [
        "pd.options.display.max_rows = 8"
      ],
      "metadata": {
        "id": "Zmz938hNWHgr"
      },
      "execution_count": null,
      "outputs": []
    },
    {
      "cell_type": "code",
      "source": [
        "perch[['Length', 'Diagonal', 'Height', 'Width']]"
      ],
      "metadata": {
        "colab": {
          "base_uri": "https://localhost:8080/",
          "height": 361
        },
        "id": "zgi7-DDtWIdU",
        "outputId": "899cc90f-08f0-4612-950d-71277aa4b008"
      },
      "execution_count": null,
      "outputs": [
        {
          "output_type": "execute_result",
          "data": {
            "text/plain": [
              "     Length  Diagonal   Height   Width\n",
              "72      8.4       8.8   2.1120  1.4080\n",
              "73     13.7      14.7   3.5280  1.9992\n",
              "74     15.0      16.0   3.8240  2.4320\n",
              "75     16.2      17.2   4.5924  2.6316\n",
              "..      ...       ...      ...     ...\n",
              "124    43.0      45.2  11.9328  7.2772\n",
              "125    43.0      45.5  12.5125  7.4165\n",
              "126    43.5      46.0  12.6040  8.1420\n",
              "127    44.0      46.6  12.4888  7.5958\n",
              "\n",
              "[56 rows x 4 columns]"
            ],
            "text/html": [
              "\n",
              "  <div id=\"df-8397f2ad-a164-4a07-9937-0e685e688e42\">\n",
              "    <div class=\"colab-df-container\">\n",
              "      <div>\n",
              "<style scoped>\n",
              "    .dataframe tbody tr th:only-of-type {\n",
              "        vertical-align: middle;\n",
              "    }\n",
              "\n",
              "    .dataframe tbody tr th {\n",
              "        vertical-align: top;\n",
              "    }\n",
              "\n",
              "    .dataframe thead th {\n",
              "        text-align: right;\n",
              "    }\n",
              "</style>\n",
              "<table border=\"1\" class=\"dataframe\">\n",
              "  <thead>\n",
              "    <tr style=\"text-align: right;\">\n",
              "      <th></th>\n",
              "      <th>Length</th>\n",
              "      <th>Diagonal</th>\n",
              "      <th>Height</th>\n",
              "      <th>Width</th>\n",
              "    </tr>\n",
              "  </thead>\n",
              "  <tbody>\n",
              "    <tr>\n",
              "      <th>72</th>\n",
              "      <td>8.4</td>\n",
              "      <td>8.8</td>\n",
              "      <td>2.1120</td>\n",
              "      <td>1.4080</td>\n",
              "    </tr>\n",
              "    <tr>\n",
              "      <th>73</th>\n",
              "      <td>13.7</td>\n",
              "      <td>14.7</td>\n",
              "      <td>3.5280</td>\n",
              "      <td>1.9992</td>\n",
              "    </tr>\n",
              "    <tr>\n",
              "      <th>74</th>\n",
              "      <td>15.0</td>\n",
              "      <td>16.0</td>\n",
              "      <td>3.8240</td>\n",
              "      <td>2.4320</td>\n",
              "    </tr>\n",
              "    <tr>\n",
              "      <th>75</th>\n",
              "      <td>16.2</td>\n",
              "      <td>17.2</td>\n",
              "      <td>4.5924</td>\n",
              "      <td>2.6316</td>\n",
              "    </tr>\n",
              "    <tr>\n",
              "      <th>...</th>\n",
              "      <td>...</td>\n",
              "      <td>...</td>\n",
              "      <td>...</td>\n",
              "      <td>...</td>\n",
              "    </tr>\n",
              "    <tr>\n",
              "      <th>124</th>\n",
              "      <td>43.0</td>\n",
              "      <td>45.2</td>\n",
              "      <td>11.9328</td>\n",
              "      <td>7.2772</td>\n",
              "    </tr>\n",
              "    <tr>\n",
              "      <th>125</th>\n",
              "      <td>43.0</td>\n",
              "      <td>45.5</td>\n",
              "      <td>12.5125</td>\n",
              "      <td>7.4165</td>\n",
              "    </tr>\n",
              "    <tr>\n",
              "      <th>126</th>\n",
              "      <td>43.5</td>\n",
              "      <td>46.0</td>\n",
              "      <td>12.6040</td>\n",
              "      <td>8.1420</td>\n",
              "    </tr>\n",
              "    <tr>\n",
              "      <th>127</th>\n",
              "      <td>44.0</td>\n",
              "      <td>46.6</td>\n",
              "      <td>12.4888</td>\n",
              "      <td>7.5958</td>\n",
              "    </tr>\n",
              "  </tbody>\n",
              "</table>\n",
              "<p>56 rows × 4 columns</p>\n",
              "</div>\n",
              "      <button class=\"colab-df-convert\" onclick=\"convertToInteractive('df-8397f2ad-a164-4a07-9937-0e685e688e42')\"\n",
              "              title=\"Convert this dataframe to an interactive table.\"\n",
              "              style=\"display:none;\">\n",
              "        \n",
              "  <svg xmlns=\"http://www.w3.org/2000/svg\" height=\"24px\"viewBox=\"0 0 24 24\"\n",
              "       width=\"24px\">\n",
              "    <path d=\"M0 0h24v24H0V0z\" fill=\"none\"/>\n",
              "    <path d=\"M18.56 5.44l.94 2.06.94-2.06 2.06-.94-2.06-.94-.94-2.06-.94 2.06-2.06.94zm-11 1L8.5 8.5l.94-2.06 2.06-.94-2.06-.94L8.5 2.5l-.94 2.06-2.06.94zm10 10l.94 2.06.94-2.06 2.06-.94-2.06-.94-.94-2.06-.94 2.06-2.06.94z\"/><path d=\"M17.41 7.96l-1.37-1.37c-.4-.4-.92-.59-1.43-.59-.52 0-1.04.2-1.43.59L10.3 9.45l-7.72 7.72c-.78.78-.78 2.05 0 2.83L4 21.41c.39.39.9.59 1.41.59.51 0 1.02-.2 1.41-.59l7.78-7.78 2.81-2.81c.8-.78.8-2.07 0-2.86zM5.41 20L4 18.59l7.72-7.72 1.47 1.35L5.41 20z\"/>\n",
              "  </svg>\n",
              "      </button>\n",
              "      \n",
              "  <style>\n",
              "    .colab-df-container {\n",
              "      display:flex;\n",
              "      flex-wrap:wrap;\n",
              "      gap: 12px;\n",
              "    }\n",
              "\n",
              "    .colab-df-convert {\n",
              "      background-color: #E8F0FE;\n",
              "      border: none;\n",
              "      border-radius: 50%;\n",
              "      cursor: pointer;\n",
              "      display: none;\n",
              "      fill: #1967D2;\n",
              "      height: 32px;\n",
              "      padding: 0 0 0 0;\n",
              "      width: 32px;\n",
              "    }\n",
              "\n",
              "    .colab-df-convert:hover {\n",
              "      background-color: #E2EBFA;\n",
              "      box-shadow: 0px 1px 2px rgba(60, 64, 67, 0.3), 0px 1px 3px 1px rgba(60, 64, 67, 0.15);\n",
              "      fill: #174EA6;\n",
              "    }\n",
              "\n",
              "    [theme=dark] .colab-df-convert {\n",
              "      background-color: #3B4455;\n",
              "      fill: #D2E3FC;\n",
              "    }\n",
              "\n",
              "    [theme=dark] .colab-df-convert:hover {\n",
              "      background-color: #434B5C;\n",
              "      box-shadow: 0px 1px 3px 1px rgba(0, 0, 0, 0.15);\n",
              "      filter: drop-shadow(0px 1px 2px rgba(0, 0, 0, 0.3));\n",
              "      fill: #FFFFFF;\n",
              "    }\n",
              "  </style>\n",
              "\n",
              "      <script>\n",
              "        const buttonEl =\n",
              "          document.querySelector('#df-8397f2ad-a164-4a07-9937-0e685e688e42 button.colab-df-convert');\n",
              "        buttonEl.style.display =\n",
              "          google.colab.kernel.accessAllowed ? 'block' : 'none';\n",
              "\n",
              "        async function convertToInteractive(key) {\n",
              "          const element = document.querySelector('#df-8397f2ad-a164-4a07-9937-0e685e688e42');\n",
              "          const dataTable =\n",
              "            await google.colab.kernel.invokeFunction('convertToInteractive',\n",
              "                                                     [key], {});\n",
              "          if (!dataTable) return;\n",
              "\n",
              "          const docLinkHtml = 'Like what you see? Visit the ' +\n",
              "            '<a target=\"_blank\" href=https://colab.research.google.com/notebooks/data_table.ipynb>data table notebook</a>'\n",
              "            + ' to learn more about interactive tables.';\n",
              "          element.innerHTML = '';\n",
              "          dataTable['output_type'] = 'display_data';\n",
              "          await google.colab.output.renderOutput(dataTable, element);\n",
              "          const docLink = document.createElement('div');\n",
              "          docLink.innerHTML = docLinkHtml;\n",
              "          element.appendChild(docLink);\n",
              "        }\n",
              "      </script>\n",
              "    </div>\n",
              "  </div>\n",
              "  "
            ]
          },
          "metadata": {},
          "execution_count": 11
        }
      ]
    },
    {
      "cell_type": "code",
      "source": [
        "# 특성(features) 배열\n",
        "X = perch.iloc[:, 2:].values.copy()"
      ],
      "metadata": {
        "id": "z-EiqpOZWJK8"
      },
      "execution_count": null,
      "outputs": []
    },
    {
      "cell_type": "code",
      "source": [
        "X[:4]"
      ],
      "metadata": {
        "colab": {
          "base_uri": "https://localhost:8080/"
        },
        "id": "D7eHPryJWKEM",
        "outputId": "157e2e19-089e-47cd-9f08-93ed3612570d"
      },
      "execution_count": null,
      "outputs": [
        {
          "output_type": "execute_result",
          "data": {
            "text/plain": [
              "array([[ 8.4   ,  8.8   ,  2.112 ,  1.408 ],\n",
              "       [13.7   , 14.7   ,  3.528 ,  1.9992],\n",
              "       [15.    , 16.    ,  3.824 ,  2.432 ],\n",
              "       [16.2   , 17.2   ,  4.5924,  2.6316]])"
            ]
          },
          "metadata": {},
          "execution_count": 13
        }
      ]
    },
    {
      "cell_type": "code",
      "source": [
        "# 타겟(target) 배열\n",
        "y = perch['Weight'].values.copy()"
      ],
      "metadata": {
        "id": "BrYBfZUsWK-d"
      },
      "execution_count": null,
      "outputs": []
    },
    {
      "cell_type": "code",
      "source": [
        "y[:4]"
      ],
      "metadata": {
        "colab": {
          "base_uri": "https://localhost:8080/"
        },
        "id": "oC6rDHPGWLx9",
        "outputId": "9aef1ec9-a32f-4d33-93a1-16655dc8cdcd"
      },
      "execution_count": null,
      "outputs": [
        {
          "output_type": "execute_result",
          "data": {
            "text/plain": [
              "array([ 5.9, 32. , 40. , 51.5])"
            ]
          },
          "metadata": {},
          "execution_count": 15
        }
      ]
    },
    {
      "cell_type": "markdown",
      "source": [
        "# train/test split"
      ],
      "metadata": {
        "id": "mBu3I6XHWNQi"
      }
    },
    {
      "cell_type": "code",
      "source": [
        "X_tr, X_te, y_tr, y_te = train_test_split(X, y,\n",
        "                                          test_size=0.25,\n",
        "                                          random_state=42)"
      ],
      "metadata": {
        "id": "c-lPj-ycWMql"
      },
      "execution_count": null,
      "outputs": []
    },
    {
      "cell_type": "code",
      "source": [
        "X_tr.shape, X_te.shape, y_tr.shape, y_te.shape"
      ],
      "metadata": {
        "colab": {
          "base_uri": "https://localhost:8080/"
        },
        "id": "zvE7dTi8WOtW",
        "outputId": "210aac0f-659f-4420-8ebd-3e16a8ff6e6f"
      },
      "execution_count": null,
      "outputs": [
        {
          "output_type": "execute_result",
          "data": {
            "text/plain": [
              "((42, 4), (14, 4), (42,), (14,))"
            ]
          },
          "metadata": {},
          "execution_count": 17
        }
      ]
    },
    {
      "cell_type": "markdown",
      "source": [
        "# 1차항만 고려한 회귀"
      ],
      "metadata": {
        "id": "mkqsBizGWQXd"
      }
    },
    {
      "cell_type": "markdown",
      "source": [
        "## KNN Regressor"
      ],
      "metadata": {
        "id": "IUeI5txaWR3Y"
      }
    },
    {
      "cell_type": "code",
      "source": [
        "knn = KNeighborsRegressor()  # KNN 회귀 모델 생성"
      ],
      "metadata": {
        "id": "0xJ8R0IIWPxH"
      },
      "execution_count": null,
      "outputs": []
    },
    {
      "cell_type": "code",
      "source": [
        "knn.fit(X_tr, y_tr)  # 모델 훈련"
      ],
      "metadata": {
        "colab": {
          "base_uri": "https://localhost:8080/"
        },
        "id": "cDLuKc_cWTjx",
        "outputId": "f37d9a25-3da9-498f-f204-437246a142be"
      },
      "execution_count": null,
      "outputs": [
        {
          "output_type": "execute_result",
          "data": {
            "text/plain": [
              "KNeighborsRegressor()"
            ]
          },
          "metadata": {},
          "execution_count": 19
        }
      ]
    },
    {
      "cell_type": "code",
      "source": [
        "tr_pred = knn.predict(X_tr)  # 훈련 셋 예측값"
      ],
      "metadata": {
        "id": "Uwtz45K9WUXZ"
      },
      "execution_count": null,
      "outputs": []
    },
    {
      "cell_type": "code",
      "source": [
        "tr_pred[:4]"
      ],
      "metadata": {
        "colab": {
          "base_uri": "https://localhost:8080/"
        },
        "id": "Ej31uQS4WVPB",
        "outputId": "bfb9656a-b0cf-4602-c5eb-54eb6889dc74"
      },
      "execution_count": null,
      "outputs": [
        {
          "output_type": "execute_result",
          "data": {
            "text/plain": [
              "array([ 87.6, 123. ,  79.6,  70.6])"
            ]
          },
          "metadata": {},
          "execution_count": 21
        }
      ]
    },
    {
      "cell_type": "code",
      "source": [
        "y_tr[:4]"
      ],
      "metadata": {
        "colab": {
          "base_uri": "https://localhost:8080/"
        },
        "id": "2AhivmbHWW5a",
        "outputId": "59b102fc-7d3f-46bf-efff-7fcc21decfbb"
      },
      "execution_count": null,
      "outputs": [
        {
          "output_type": "execute_result",
          "data": {
            "text/plain": [
              "array([ 85., 135.,  78.,  70.])"
            ]
          },
          "metadata": {},
          "execution_count": 22
        }
      ]
    },
    {
      "cell_type": "code",
      "source": [
        "# 훈련 셋 평가 점수: MSE, R2 score\n",
        "print('MSE:', mean_squared_error(y_tr, tr_pred))\n",
        "print('r2:', r2_score(y_tr, tr_pred))"
      ],
      "metadata": {
        "colab": {
          "base_uri": "https://localhost:8080/"
        },
        "id": "M10tqX_3Wljg",
        "outputId": "2684e7db-de8a-48a9-c619-63641cc651c6"
      },
      "execution_count": null,
      "outputs": [
        {
          "output_type": "stream",
          "name": "stdout",
          "text": [
            "MSE: 2986.5723809523806\n",
            "r2: 0.97579760182756\n"
          ]
        }
      ]
    },
    {
      "cell_type": "code",
      "source": [
        "# 학습에 사용되지 않은 테스트 셋의 예측값.\n",
        "te_pred = knn.predict(X_te)"
      ],
      "metadata": {
        "id": "r-vORyQxWmeZ"
      },
      "execution_count": null,
      "outputs": []
    },
    {
      "cell_type": "code",
      "source": [
        "te_pred"
      ],
      "metadata": {
        "colab": {
          "base_uri": "https://localhost:8080/"
        },
        "id": "O4Mqx-ZZWnSq",
        "outputId": "327b869e-7c55-4e80-c61f-796f2367dee3"
      },
      "execution_count": null,
      "outputs": [
        {
          "output_type": "execute_result",
          "data": {
            "text/plain": [
              "array([  60. ,   79.6,  248. ,  122. ,  130. ,  847. ,  311.4,  183.4,\n",
              "        847. ,  118. , 1043. ,   60. ,  248. ,  248. ])"
            ]
          },
          "metadata": {},
          "execution_count": 25
        }
      ]
    },
    {
      "cell_type": "code",
      "source": [
        "y_te"
      ],
      "metadata": {
        "colab": {
          "base_uri": "https://localhost:8080/"
        },
        "id": "ZVlQMQRKWoWK",
        "outputId": "0d08c97d-cff9-4c96-dca8-3707ade1fbba"
      },
      "execution_count": null,
      "outputs": [
        {
          "output_type": "execute_result",
          "data": {
            "text/plain": [
              "array([   5.9,  100. ,  250. ,  130. ,  130. ,  820. ,  320. ,  188. ,\n",
              "        900. ,  125. , 1000. ,   51.5,  250. ,  300. ])"
            ]
          },
          "metadata": {},
          "execution_count": 26
        }
      ]
    },
    {
      "cell_type": "code",
      "source": [
        "# 테스트 셋 평가 점수\n",
        "print('MSE:', mean_squared_error(y_te, te_pred))\n",
        "print('r2:', r2_score(y_te, te_pred))"
      ],
      "metadata": {
        "colab": {
          "base_uri": "https://localhost:8080/"
        },
        "id": "FYh9KYgsWpPy",
        "outputId": "2f99344e-df23-427e-8c8e-26a4f41a92af"
      },
      "execution_count": null,
      "outputs": [
        {
          "output_type": "stream",
          "name": "stdout",
          "text": [
            "MSE: 837.3100000000001\n",
            "r2: 0.9916579819676246\n"
          ]
        }
      ]
    },
    {
      "cell_type": "markdown",
      "source": [
        "테스트 셋에서의 평가 점수가 훈련 셋에서의 점수보다 좋음 -> 과소적합"
      ],
      "metadata": {
        "id": "D9Q61xbKWquH"
      }
    },
    {
      "cell_type": "markdown",
      "source": [
        "## Linear Regression"
      ],
      "metadata": {
        "id": "Unee7f5-WsWo"
      }
    },
    {
      "cell_type": "markdown",
      "source": [
        "$$\n",
        "\\hat{y} = w_0 + w_1 \\times x_1 + w_2 \\times x_2 + w_3 \\times x_3 + w_4 \\times x_4\n",
        "$$"
      ],
      "metadata": {
        "id": "Xzo7q3LbWu9v"
      }
    },
    {
      "cell_type": "code",
      "source": [
        "lin_reg = LinearRegression()  # 선형 회귀 모델 생성"
      ],
      "metadata": {
        "id": "FykkxraPWqJ7"
      },
      "execution_count": null,
      "outputs": []
    },
    {
      "cell_type": "code",
      "source": [
        "lin_reg.fit(X_tr, y_tr)  # 모델 훈련"
      ],
      "metadata": {
        "colab": {
          "base_uri": "https://localhost:8080/"
        },
        "id": "-dZnKyR-Ww2N",
        "outputId": "b5aa38f5-79c3-4c6f-fc32-d91c2727bf01"
      },
      "execution_count": null,
      "outputs": [
        {
          "output_type": "execute_result",
          "data": {
            "text/plain": [
              "LinearRegression()"
            ]
          },
          "metadata": {},
          "execution_count": 29
        }
      ]
    },
    {
      "cell_type": "code",
      "source": [
        "lin_reg.intercept_  # 선형 회귀식에서 w0"
      ],
      "metadata": {
        "colab": {
          "base_uri": "https://localhost:8080/"
        },
        "id": "TLvAzrdgWxkm",
        "outputId": "b3ea2cd1-4232-48d9-9c66-f4c8944f5713"
      },
      "execution_count": null,
      "outputs": [
        {
          "output_type": "execute_result",
          "data": {
            "text/plain": [
              "-610.0275364260515"
            ]
          },
          "metadata": {},
          "execution_count": 30
        }
      ]
    },
    {
      "cell_type": "code",
      "source": [
        "lin_reg.coef_  # 선형 회귀식에서 w1 ~ w4"
      ],
      "metadata": {
        "colab": {
          "base_uri": "https://localhost:8080/"
        },
        "id": "w5G8ZlC5WyMm",
        "outputId": "e1b46377-2370-4483-8c0f-0b564caadb45"
      },
      "execution_count": null,
      "outputs": [
        {
          "output_type": "execute_result",
          "data": {
            "text/plain": [
              "array([-40.18338554,  47.80681727,  67.34086612,  35.34904264])"
            ]
          },
          "metadata": {},
          "execution_count": 31
        }
      ]
    },
    {
      "cell_type": "code",
      "source": [
        "# 훈련 셋 예측값\n",
        "tr_pred = lin_reg.predict(X_tr)"
      ],
      "metadata": {
        "id": "QFmjqwwzWy4u"
      },
      "execution_count": null,
      "outputs": []
    },
    {
      "cell_type": "code",
      "source": [
        "# 훈련 셋 평가 점수\n",
        "print('MSE:', mean_squared_error(y_tr, tr_pred))\n",
        "print('r2:', r2_score(y_tr, tr_pred))"
      ],
      "metadata": {
        "colab": {
          "base_uri": "https://localhost:8080/"
        },
        "id": "tVFkPksiWzpH",
        "outputId": "fdcf43fb-d949-49e3-e4e7-acfab693fb2d"
      },
      "execution_count": null,
      "outputs": [
        {
          "output_type": "stream",
          "name": "stdout",
          "text": [
            "MSE: 5340.176566753986\n",
            "r2: 0.9567246116638569\n"
          ]
        }
      ]
    },
    {
      "cell_type": "code",
      "source": [
        "# 테스트 셋 예측값\n",
        "te_pred = lin_reg.predict(X_te)"
      ],
      "metadata": {
        "id": "IuxW3QQkW0YP"
      },
      "execution_count": null,
      "outputs": []
    },
    {
      "cell_type": "code",
      "source": [
        "# 테스트 셋 평가 점수\n",
        "print('MSE:', mean_squared_error(y_te, te_pred))\n",
        "print('r2', r2_score(y_te, te_pred))"
      ],
      "metadata": {
        "colab": {
          "base_uri": "https://localhost:8080/"
        },
        "id": "gGcLEYv7W1Pf",
        "outputId": "e1d3468f-1a18-426c-e299-65f282ad9d62"
      },
      "execution_count": null,
      "outputs": [
        {
          "output_type": "stream",
          "name": "stdout",
          "text": [
            "MSE: 12140.410523504848\n",
            "r2 0.8790465615990273\n"
          ]
        }
      ]
    },
    {
      "cell_type": "markdown",
      "source": [
        "훈련 셋의 점수가 테스트 셋의 점수보다 좋음 -> 과대적합"
      ],
      "metadata": {
        "id": "MCSwDcXjW2aT"
      }
    },
    {
      "cell_type": "markdown",
      "source": [
        "# 2차항을 고려한 선형 회귀"
      ],
      "metadata": {
        "id": "COajLB2PW4g1"
      }
    },
    {
      "cell_type": "markdown",
      "source": [
        "$$\n",
        "\\hat{y} = w_0 + w_1 \\times x_1 + \\cdots + w_4 \\times x_4 + w_5 \\times {x_1}^2 + w_6 \\times {x_2}^2 + w_7 \\times x_1 x_2 + \\cdots\n",
        "$$"
      ],
      "metadata": {
        "id": "WWHmfNq4gt29"
      }
    },
    {
      "cell_type": "code",
      "source": [
        "poly = PolynomialFeatures(include_bias=False)\n",
        "# degree=2: 기본값. 2차항까지만 고려.\n",
        "# interaction_only=False: 기본값. x1^2, x2^2, x1*x2, ... 등을 모두 추가.\n",
        "#   True로 설정하면 제곱항들은 무시되고, interaction 항들만 추가됨."
      ],
      "metadata": {
        "id": "ZEfNBcnLW19I"
      },
      "execution_count": null,
      "outputs": []
    },
    {
      "cell_type": "code",
      "source": [
        "result = poly.fit_transform(X_tr)"
      ],
      "metadata": {
        "id": "86nPVSs1gvGZ"
      },
      "execution_count": null,
      "outputs": []
    },
    {
      "cell_type": "code",
      "source": [
        "result[:2]"
      ],
      "metadata": {
        "colab": {
          "base_uri": "https://localhost:8080/"
        },
        "id": "Rk4dvIw2gwMC",
        "outputId": "555f150d-d37f-417e-c251-44c3c3653a36"
      },
      "execution_count": null,
      "outputs": [
        {
          "output_type": "execute_result",
          "data": {
            "text/plain": [
              "array([[ 19.6       ,  20.8       ,   5.1376    ,   3.0368    ,\n",
              "        384.16      , 407.68      , 100.69696   ,  59.52128   ,\n",
              "        432.64      , 106.86208   ,  63.16544   ,  26.39493376,\n",
              "         15.60186368,   9.22215424],\n",
              "       [ 22.        ,  23.5       ,   5.875     ,   3.525     ,\n",
              "        484.        , 517.        , 129.25      ,  77.55      ,\n",
              "        552.25      , 138.0625    ,  82.8375    ,  34.515625  ,\n",
              "         20.709375  ,  12.425625  ]])"
            ]
          },
          "metadata": {},
          "execution_count": 38
        }
      ]
    },
    {
      "cell_type": "code",
      "source": [
        "poly.get_feature_names_out()"
      ],
      "metadata": {
        "colab": {
          "base_uri": "https://localhost:8080/"
        },
        "id": "kCIY2XzYgxk6",
        "outputId": "121e6730-72c3-41db-92bc-5dbba4ae2c62"
      },
      "execution_count": null,
      "outputs": [
        {
          "output_type": "execute_result",
          "data": {
            "text/plain": [
              "array(['x0', 'x1', 'x2', 'x3', 'x0^2', 'x0 x1', 'x0 x2', 'x0 x3', 'x1^2',\n",
              "       'x1 x2', 'x1 x3', 'x2^2', 'x2 x3', 'x3^2'], dtype=object)"
            ]
          },
          "metadata": {},
          "execution_count": 39
        }
      ]
    },
    {
      "cell_type": "code",
      "source": [
        "poly = PolynomialFeatures(interaction_only=True, include_bias=False)"
      ],
      "metadata": {
        "id": "a3WW25_wgyY7"
      },
      "execution_count": null,
      "outputs": []
    },
    {
      "cell_type": "code",
      "source": [
        "result = poly.fit_transform(X_tr)"
      ],
      "metadata": {
        "id": "zi9YRzM9gzJj"
      },
      "execution_count": null,
      "outputs": []
    },
    {
      "cell_type": "code",
      "source": [
        "result[:2]"
      ],
      "metadata": {
        "colab": {
          "base_uri": "https://localhost:8080/"
        },
        "id": "ZS2Ub3K-gz7r",
        "outputId": "4cb5d4fd-6ba0-435e-e99b-58d9994bd6cd"
      },
      "execution_count": null,
      "outputs": [
        {
          "output_type": "execute_result",
          "data": {
            "text/plain": [
              "array([[ 19.6       ,  20.8       ,   5.1376    ,   3.0368    ,\n",
              "        407.68      , 100.69696   ,  59.52128   , 106.86208   ,\n",
              "         63.16544   ,  15.60186368],\n",
              "       [ 22.        ,  23.5       ,   5.875     ,   3.525     ,\n",
              "        517.        , 129.25      ,  77.55      , 138.0625    ,\n",
              "         82.8375    ,  20.709375  ]])"
            ]
          },
          "metadata": {},
          "execution_count": 42
        }
      ]
    },
    {
      "cell_type": "code",
      "source": [
        "poly.get_feature_names_out()"
      ],
      "metadata": {
        "colab": {
          "base_uri": "https://localhost:8080/"
        },
        "id": "r8zUBOjtg02c",
        "outputId": "5f760a33-a660-4af0-9389-4bab4cb6f4dc"
      },
      "execution_count": null,
      "outputs": [
        {
          "output_type": "execute_result",
          "data": {
            "text/plain": [
              "array(['x0', 'x1', 'x2', 'x3', 'x0 x1', 'x0 x2', 'x0 x3', 'x1 x2',\n",
              "       'x1 x3', 'x2 x3'], dtype=object)"
            ]
          },
          "metadata": {},
          "execution_count": 43
        }
      ]
    },
    {
      "cell_type": "markdown",
      "source": [
        "## 2차항 추가, Scaling 하지 않는 경우"
      ],
      "metadata": {
        "id": "8rjlr5Pyg2rR"
      }
    },
    {
      "cell_type": "code",
      "source": [
        "poly = PolynomialFeatures(include_bias=False)  # 변환기(transformer) - fit, transform\n",
        "lin_reg = LinearRegression()  # 예측기(estimator) - fit, predict, score\n",
        "# 변환기와 예측기 연결된 파이프라인 -> 머신 러닝 모델\n",
        "model = Pipeline([(\"poly\", poly),\n",
        "                  (\"lin_reg\", lin_reg)])"
      ],
      "metadata": {
        "id": "zbVwsDQKg11k"
      },
      "execution_count": null,
      "outputs": []
    },
    {
      "cell_type": "code",
      "source": [
        "model.fit(X_tr, y_tr)  # 모델 훈련\n",
        "# (1) poly.fit_transform(X_tr)  --> (2) lin_reg.fit(X_tr_trans, y_tr)"
      ],
      "metadata": {
        "colab": {
          "base_uri": "https://localhost:8080/"
        },
        "id": "OcJXUgNvg4V1",
        "outputId": "6e745052-f1de-42bd-c825-812a717975a9"
      },
      "execution_count": null,
      "outputs": [
        {
          "output_type": "execute_result",
          "data": {
            "text/plain": [
              "Pipeline(steps=[('poly', PolynomialFeatures(include_bias=False)),\n",
              "                ('lin_reg', LinearRegression())])"
            ]
          },
          "metadata": {},
          "execution_count": 45
        }
      ]
    },
    {
      "cell_type": "code",
      "source": [
        "model['poly'].get_feature_names_out()"
      ],
      "metadata": {
        "colab": {
          "base_uri": "https://localhost:8080/"
        },
        "id": "SGKeRzPng5Q9",
        "outputId": "022519a3-e558-48d2-ddb0-0cf61a924e39"
      },
      "execution_count": null,
      "outputs": [
        {
          "output_type": "execute_result",
          "data": {
            "text/plain": [
              "array(['x0', 'x1', 'x2', 'x3', 'x0^2', 'x0 x1', 'x0 x2', 'x0 x3', 'x1^2',\n",
              "       'x1 x2', 'x1 x3', 'x2^2', 'x2 x3', 'x3^2'], dtype=object)"
            ]
          },
          "metadata": {},
          "execution_count": 46
        }
      ]
    },
    {
      "cell_type": "code",
      "source": [
        "model['lin_reg'].coef_"
      ],
      "metadata": {
        "colab": {
          "base_uri": "https://localhost:8080/"
        },
        "id": "NgAq7PXEg5-2",
        "outputId": "da77c9f6-73eb-48e5-90c9-281ef3fd48c4"
      },
      "execution_count": null,
      "outputs": [
        {
          "output_type": "execute_result",
          "data": {
            "text/plain": [
              "array([ -50.78509594,  124.88041222, -226.27583652, -211.15974936,\n",
              "        219.94801311, -378.27754255, -310.06984107,  301.69060933,\n",
              "        155.92749428,  315.3374506 , -269.45161891,   24.76034853,\n",
              "       -176.24019353,  126.39216926])"
            ]
          },
          "metadata": {},
          "execution_count": 47
        }
      ]
    },
    {
      "cell_type": "code",
      "source": [
        "tr_pred = model.predict(X_tr)  # 훈련 셋 예측값\n",
        "#  (1) poly.transform(X_tr)  -->  (2) lin_reg.predict(X_tr_trans)"
      ],
      "metadata": {
        "id": "q6acbmWig6_G"
      },
      "execution_count": null,
      "outputs": []
    },
    {
      "cell_type": "code",
      "source": [
        "tr_pred[:4]"
      ],
      "metadata": {
        "colab": {
          "base_uri": "https://localhost:8080/"
        },
        "id": "2BLEL3iXg70e",
        "outputId": "1a8f080c-75b2-48c0-ffba-9f02620f9abb"
      },
      "execution_count": null,
      "outputs": [
        {
          "output_type": "execute_result",
          "data": {
            "text/plain": [
              "array([ 86.22462498, 117.8371985 ,  65.36623277,  51.32036181])"
            ]
          },
          "metadata": {},
          "execution_count": 49
        }
      ]
    },
    {
      "cell_type": "code",
      "source": [
        "y_tr[:4]"
      ],
      "metadata": {
        "colab": {
          "base_uri": "https://localhost:8080/"
        },
        "id": "Ik8Z6FS7g-KI",
        "outputId": "350b0e5e-1b17-4d37-9038-b82e027b49fc"
      },
      "execution_count": null,
      "outputs": [
        {
          "output_type": "execute_result",
          "data": {
            "text/plain": [
              "array([ 85., 135.,  78.,  70.])"
            ]
          },
          "metadata": {},
          "execution_count": 50
        }
      ]
    },
    {
      "cell_type": "code",
      "source": [
        "# 훈련 셋 평가 점수\n",
        "print('MSE:', mean_squared_error(y_tr, tr_pred))\n",
        "print('r2:', r2_score(y_tr, tr_pred))"
      ],
      "metadata": {
        "colab": {
          "base_uri": "https://localhost:8080/"
        },
        "id": "TIy5emM4g-24",
        "outputId": "23db7ea0-70a7-4ca9-ee6b-48eb32c84232"
      },
      "execution_count": null,
      "outputs": [
        {
          "output_type": "stream",
          "name": "stdout",
          "text": [
            "MSE: 986.5134830835684\n",
            "r2: 0.9920055538341062\n"
          ]
        }
      ]
    },
    {
      "cell_type": "code",
      "source": [
        "# 테스트 셋 예측\n",
        "te_pred = model.predict(X_te)"
      ],
      "metadata": {
        "id": "o0Ck0RaCg_k4"
      },
      "execution_count": null,
      "outputs": []
    },
    {
      "cell_type": "code",
      "source": [
        "# 테스트 셋 평가 점수\n",
        "print('MSE:', mean_squared_error(y_te, te_pred))\n",
        "print('r2:', r2_score(y_te, te_pred))"
      ],
      "metadata": {
        "colab": {
          "base_uri": "https://localhost:8080/"
        },
        "id": "D5476E-lhAfJ",
        "outputId": "aa714f68-8b74-42c8-9e59-bfe726e5cb33"
      },
      "execution_count": null,
      "outputs": [
        {
          "output_type": "stream",
          "name": "stdout",
          "text": [
            "MSE: 5092.809112559572\n",
            "r2: 0.9492609601552375\n"
          ]
        }
      ]
    },
    {
      "cell_type": "markdown",
      "source": [
        "## 2차항 추가, Scaling 하는 경우"
      ],
      "metadata": {
        "id": "kR52v8m0iEX-"
      }
    },
    {
      "cell_type": "code",
      "source": [
        "# 모델 생성\n",
        "model = Pipeline([('poly', PolynomialFeatures(include_bias=False)),\n",
        "                  ('scaler', StandardScaler()),\n",
        "                  ('reg', LinearRegression())])"
      ],
      "metadata": {
        "id": "lIx4gp0ZhBQh"
      },
      "execution_count": null,
      "outputs": []
    },
    {
      "cell_type": "code",
      "source": [
        "# 모델 훈련: \n",
        "# poly.fit_transform(X_tr) -> scaler.fit_transform(X_tr_p) -> reg.fit(X_tr_p_s, y_tr)\n",
        "model.fit(X_tr, y_tr)"
      ],
      "metadata": {
        "colab": {
          "base_uri": "https://localhost:8080/"
        },
        "id": "W6xInfjnpEJ9",
        "outputId": "0632f533-bec6-4d25-d940-8d9c1f35ce33"
      },
      "execution_count": null,
      "outputs": [
        {
          "output_type": "execute_result",
          "data": {
            "text/plain": [
              "Pipeline(steps=[('poly', PolynomialFeatures(include_bias=False)),\n",
              "                ('scaler', StandardScaler()), ('reg', LinearRegression())])"
            ]
          },
          "metadata": {},
          "execution_count": 55
        }
      ]
    },
    {
      "cell_type": "code",
      "source": [
        "# 훈련 셋 예측, 평가\n",
        "# poly.transform(X_tr) -> scaler.transform(X_tr_p) -> reg.predict(X_tr_p_s)\n",
        "tr_pred = model.predict(X_tr)\n",
        "print('mse:', mean_squared_error(y_tr, tr_pred))\n",
        "print('r2:', r2_score(y_tr, tr_pred))"
      ],
      "metadata": {
        "colab": {
          "base_uri": "https://localhost:8080/"
        },
        "id": "4PBVtgqQpIxI",
        "outputId": "984886c5-a514-445a-a51c-cb1d7b2fa146"
      },
      "execution_count": null,
      "outputs": [
        {
          "output_type": "stream",
          "name": "stdout",
          "text": [
            "mse: 986.5134830823616\n",
            "r2: 0.9920055538341159\n"
          ]
        }
      ]
    },
    {
      "cell_type": "code",
      "source": [
        "# 테스트 셋 예측, 평가\n",
        "te_pred = model.predict(X_te)\n",
        "print('mse:', mean_squared_error(y_te, te_pred))\n",
        "print('r2:', r2_score(y_te, te_pred))"
      ],
      "metadata": {
        "colab": {
          "base_uri": "https://localhost:8080/"
        },
        "id": "E27xdd9Sqe5Y",
        "outputId": "f362a786-a94c-41f0-a8d2-0f02dcf3d488"
      },
      "execution_count": null,
      "outputs": [
        {
          "output_type": "stream",
          "name": "stdout",
          "text": [
            "mse: 5092.809112554763\n",
            "r2: 0.9492609601552854\n"
          ]
        }
      ]
    },
    {
      "cell_type": "markdown",
      "source": [
        "# 5차항까지 추가, Scaling 하는 경우"
      ],
      "metadata": {
        "id": "1odbvaPMievs"
      }
    },
    {
      "cell_type": "code",
      "source": [
        "model = Pipeline([('poly', PolynomialFeatures(degree=5, include_bias=False)),\n",
        "                  ('scaler', StandardScaler()),\n",
        "                  ('reg', LinearRegression())])"
      ],
      "metadata": {
        "id": "RFSkuAUt9lsF"
      },
      "execution_count": null,
      "outputs": []
    },
    {
      "cell_type": "code",
      "source": [
        "model.fit(X_tr, y_tr)"
      ],
      "metadata": {
        "colab": {
          "base_uri": "https://localhost:8080/"
        },
        "id": "vdSeAIsF92bT",
        "outputId": "b3d8711c-bbd5-4e48-a930-909d90132e7c"
      },
      "execution_count": null,
      "outputs": [
        {
          "output_type": "execute_result",
          "data": {
            "text/plain": [
              "Pipeline(steps=[('poly', PolynomialFeatures(degree=5, include_bias=False)),\n",
              "                ('scaler', StandardScaler()), ('reg', LinearRegression())])"
            ]
          },
          "metadata": {},
          "execution_count": 59
        }
      ]
    },
    {
      "cell_type": "code",
      "source": [
        "model['poly'].get_feature_names_out()"
      ],
      "metadata": {
        "colab": {
          "base_uri": "https://localhost:8080/"
        },
        "id": "2ia2GPW6-BF3",
        "outputId": "c0f37da7-8876-47f0-903f-25e350c98b29"
      },
      "execution_count": null,
      "outputs": [
        {
          "output_type": "execute_result",
          "data": {
            "text/plain": [
              "array(['x0', 'x1', 'x2', 'x3', 'x0^2', 'x0 x1', 'x0 x2', 'x0 x3', 'x1^2',\n",
              "       'x1 x2', 'x1 x3', 'x2^2', 'x2 x3', 'x3^2', 'x0^3', 'x0^2 x1',\n",
              "       'x0^2 x2', 'x0^2 x3', 'x0 x1^2', 'x0 x1 x2', 'x0 x1 x3', 'x0 x2^2',\n",
              "       'x0 x2 x3', 'x0 x3^2', 'x1^3', 'x1^2 x2', 'x1^2 x3', 'x1 x2^2',\n",
              "       'x1 x2 x3', 'x1 x3^2', 'x2^3', 'x2^2 x3', 'x2 x3^2', 'x3^3',\n",
              "       'x0^4', 'x0^3 x1', 'x0^3 x2', 'x0^3 x3', 'x0^2 x1^2', 'x0^2 x1 x2',\n",
              "       'x0^2 x1 x3', 'x0^2 x2^2', 'x0^2 x2 x3', 'x0^2 x3^2', 'x0 x1^3',\n",
              "       'x0 x1^2 x2', 'x0 x1^2 x3', 'x0 x1 x2^2', 'x0 x1 x2 x3',\n",
              "       'x0 x1 x3^2', 'x0 x2^3', 'x0 x2^2 x3', 'x0 x2 x3^2', 'x0 x3^3',\n",
              "       'x1^4', 'x1^3 x2', 'x1^3 x3', 'x1^2 x2^2', 'x1^2 x2 x3',\n",
              "       'x1^2 x3^2', 'x1 x2^3', 'x1 x2^2 x3', 'x1 x2 x3^2', 'x1 x3^3',\n",
              "       'x2^4', 'x2^3 x3', 'x2^2 x3^2', 'x2 x3^3', 'x3^4', 'x0^5',\n",
              "       'x0^4 x1', 'x0^4 x2', 'x0^4 x3', 'x0^3 x1^2', 'x0^3 x1 x2',\n",
              "       'x0^3 x1 x3', 'x0^3 x2^2', 'x0^3 x2 x3', 'x0^3 x3^2', 'x0^2 x1^3',\n",
              "       'x0^2 x1^2 x2', 'x0^2 x1^2 x3', 'x0^2 x1 x2^2', 'x0^2 x1 x2 x3',\n",
              "       'x0^2 x1 x3^2', 'x0^2 x2^3', 'x0^2 x2^2 x3', 'x0^2 x2 x3^2',\n",
              "       'x0^2 x3^3', 'x0 x1^4', 'x0 x1^3 x2', 'x0 x1^3 x3', 'x0 x1^2 x2^2',\n",
              "       'x0 x1^2 x2 x3', 'x0 x1^2 x3^2', 'x0 x1 x2^3', 'x0 x1 x2^2 x3',\n",
              "       'x0 x1 x2 x3^2', 'x0 x1 x3^3', 'x0 x2^4', 'x0 x2^3 x3',\n",
              "       'x0 x2^2 x3^2', 'x0 x2 x3^3', 'x0 x3^4', 'x1^5', 'x1^4 x2',\n",
              "       'x1^4 x3', 'x1^3 x2^2', 'x1^3 x2 x3', 'x1^3 x3^2', 'x1^2 x2^3',\n",
              "       'x1^2 x2^2 x3', 'x1^2 x2 x3^2', 'x1^2 x3^3', 'x1 x2^4',\n",
              "       'x1 x2^3 x3', 'x1 x2^2 x3^2', 'x1 x2 x3^3', 'x1 x3^4', 'x2^5',\n",
              "       'x2^4 x3', 'x2^3 x3^2', 'x2^2 x3^3', 'x2 x3^4', 'x3^5'],\n",
              "      dtype=object)"
            ]
          },
          "metadata": {},
          "execution_count": 60
        }
      ]
    },
    {
      "cell_type": "code",
      "source": [
        "model['reg'].coef_"
      ],
      "metadata": {
        "colab": {
          "base_uri": "https://localhost:8080/"
        },
        "id": "pxEBfm0MnXVa",
        "outputId": "a9020828-5262-4287-97fe-884c66fdb0f6"
      },
      "execution_count": null,
      "outputs": [
        {
          "output_type": "execute_result",
          "data": {
            "text/plain": [
              "array([ -133743.21143773,  -196099.10964875,   194549.30851684,\n",
              "          25557.55907496,   831847.05444447,   243410.82627434,\n",
              "        -790540.27537465,  -204934.16235738,   577307.10721961,\n",
              "          31185.90278828,    65312.22122636,  -689008.34337861,\n",
              "         654427.01492652,  -237250.88149414,  -281636.56846688,\n",
              "        -635944.42974516,   267762.92287007,   479362.69557319,\n",
              "        -684257.25954732,   149540.9080415 ,   225790.8099954 ,\n",
              "        -376013.08755925,  -118282.35170492, -1506295.26165139,\n",
              "        -425085.9424367 ,   371629.95158413,   348130.61825541,\n",
              "        -273807.89599778,    50424.23204717, -1023225.68809509,\n",
              "        1100902.01951553,   650412.73879288,  -394345.91057271,\n",
              "        1283341.46831935,  -307155.45141552,  -443247.11078211,\n",
              "         555682.07137427,  1057475.91653877,  -489359.41632248,\n",
              "         362527.54219546,   809931.35776582,   286096.30016696,\n",
              "         406795.47537258,  -197336.8940489 ,  -444740.05014186,\n",
              "         279312.32291294,   693604.86399524,    72415.02700665,\n",
              "         236630.3011507 ,  -255147.09152932,  -385873.16443503,\n",
              "          13913.37649417,  -574688.43819229,  -262169.3743669 ,\n",
              "        -308551.64120176,   306957.74884774,   709500.55169262,\n",
              "         -14009.31328077,   212818.17338688,  -144443.57593312,\n",
              "        -520205.34327747,   -68497.59556929,  -485709.93781939,\n",
              "          47989.73336431,  -139107.46319488,  -211412.2924182 ,\n",
              "        -597399.59199753,  -483039.51512815,   887032.51333954,\n",
              "         -66961.15677661,    -6576.57474627,  -155774.09415274,\n",
              "         317367.4793433 ,    60664.11759611,  -163556.27092168,\n",
              "         228022.47734135,    37857.94687702,  -337875.68690677,\n",
              "        -215995.28526243,   135221.11059575,  -152815.24188125,\n",
              "         170406.45782748,     6606.82635989,  -406419.68589277,\n",
              "        -321582.30329151,   117818.36771731,   -97369.40439697,\n",
              "        -320540.48869822,    77018.88666682,   217605.78362287,\n",
              "        -123026.67372186,   145145.21234983,     4889.04087927,\n",
              "        -433187.05346112,  -371265.96656845,   141056.27266822,\n",
              "        -113714.21918653,  -347737.71974915,    32706.27936736,\n",
              "          51032.93662577,   118119.99834739,   242328.11389569,\n",
              "         404124.5964963 ,   569670.78989956,   308380.58115068,\n",
              "         -73614.23932038,   152913.56298744,    33243.51408868,\n",
              "        -417552.57409829,  -364315.71782701,   204285.10533637,\n",
              "         -79090.83621352,  -311041.56812865,    66577.35172048,\n",
              "         232580.72790219,   215828.20993653,   311759.85263211,\n",
              "         464426.86256104,   606266.17510267,  -180096.24239363,\n",
              "        -272805.0973295 ,   125193.37766411,   480112.80825544,\n",
              "         184769.38756866, -1316978.94408817])"
            ]
          },
          "metadata": {},
          "execution_count": 61
        }
      ]
    },
    {
      "cell_type": "code",
      "source": [
        "tr_pred = model.predict(X_tr)\n",
        "print('train mse:', mean_squared_error(y_tr, tr_pred))\n",
        "print('train r2:', r2_score(y_tr, tr_pred))"
      ],
      "metadata": {
        "colab": {
          "base_uri": "https://localhost:8080/"
        },
        "id": "ZOz9nj9fKRad",
        "outputId": "6786a76b-361a-438f-d0d7-59ccf5763923"
      },
      "execution_count": null,
      "outputs": [
        {
          "output_type": "stream",
          "name": "stdout",
          "text": [
            "train mse: 4.351506028418873e-17\n",
            "train r2: 1.0\n"
          ]
        }
      ]
    },
    {
      "cell_type": "code",
      "source": [
        "print(y_tr[:5])\n",
        "print(tr_pred[:5])"
      ],
      "metadata": {
        "colab": {
          "base_uri": "https://localhost:8080/"
        },
        "id": "oZPnD6wwKSkm",
        "outputId": "e3c47fe4-2914-4f18-d3dc-41b848a22120"
      },
      "execution_count": null,
      "outputs": [
        {
          "output_type": "stream",
          "name": "stdout",
          "text": [
            "[ 85. 135.  78.  70. 700.]\n",
            "[ 85.         135.00000001  78.00000001  70.         700.        ]\n"
          ]
        }
      ]
    },
    {
      "cell_type": "code",
      "source": [
        "te_pred = model.predict(X_te)\n",
        "print('test mse:', mean_squared_error(y_te, te_pred))\n",
        "print('test r2:', r2_score(y_te, te_pred))"
      ],
      "metadata": {
        "colab": {
          "base_uri": "https://localhost:8080/"
        },
        "id": "XUVlcU1AKTVm",
        "outputId": "7c322d3e-54a5-42eb-e375-4d32f41b9056"
      },
      "execution_count": null,
      "outputs": [
        {
          "output_type": "stream",
          "name": "stdout",
          "text": [
            "test mse: 14199476.804941649\n",
            "test r2: -140.46766616560245\n"
          ]
        }
      ]
    },
    {
      "cell_type": "markdown",
      "source": [
        "5차항까지 고려했을 때 선형 회귀 모델은 과대적합이 너무 심한 모델.\n",
        "\n",
        "-> 일반화 성능이 안 좋음."
      ],
      "metadata": {
        "id": "dAYUigjCKU4F"
      }
    },
    {
      "cell_type": "markdown",
      "source": [
        "# 규제가 없는 선형 회귀 - 과대적합"
      ],
      "metadata": {
        "id": "uo6c0FxoKXCW"
      }
    },
    {
      "cell_type": "code",
      "source": [
        "X = perch[['Length']].values.copy()\n",
        "y = perch['Weight'].values.copy()"
      ],
      "metadata": {
        "id": "fF9MZOk3KUCm"
      },
      "execution_count": null,
      "outputs": []
    },
    {
      "cell_type": "code",
      "source": [
        "X.shape, y.shape"
      ],
      "metadata": {
        "colab": {
          "base_uri": "https://localhost:8080/"
        },
        "id": "HFFnsxKfKYOw",
        "outputId": "4994f1c0-dd69-46f1-c625-c2062985a315"
      },
      "execution_count": null,
      "outputs": [
        {
          "output_type": "execute_result",
          "data": {
            "text/plain": [
              "((56, 1), (56,))"
            ]
          },
          "metadata": {},
          "execution_count": 66
        }
      ]
    },
    {
      "cell_type": "code",
      "source": [
        "X_tr, X_te, y_tr, y_te = train_test_split(X, y,\n",
        "                                          test_size=0.25,\n",
        "                                          random_state=42)"
      ],
      "metadata": {
        "id": "I9MpoVURKY85"
      },
      "execution_count": null,
      "outputs": []
    },
    {
      "cell_type": "code",
      "source": [
        "# 모델 생성\n",
        "model = Pipeline([('poly', PolynomialFeatures(degree=1, include_bias=False)),\n",
        "                  ('scaler', StandardScaler()),\n",
        "                  ('reg', LinearRegression())])"
      ],
      "metadata": {
        "id": "9CmW79OdKZhx"
      },
      "execution_count": null,
      "outputs": []
    },
    {
      "cell_type": "code",
      "source": [
        "# 모델 훈련\n",
        "model.fit(X_tr, y_tr)"
      ],
      "metadata": {
        "colab": {
          "base_uri": "https://localhost:8080/"
        },
        "id": "LO5cCeh5KaMh",
        "outputId": "66d33163-e77e-4db4-bac5-097501493b85"
      },
      "execution_count": null,
      "outputs": [
        {
          "output_type": "execute_result",
          "data": {
            "text/plain": [
              "Pipeline(steps=[('poly', PolynomialFeatures(degree=1, include_bias=False)),\n",
              "                ('scaler', StandardScaler()), ('reg', LinearRegression())])"
            ]
          },
          "metadata": {},
          "execution_count": 69
        }
      ]
    },
    {
      "cell_type": "code",
      "source": [
        "model['reg'].coef_"
      ],
      "metadata": {
        "colab": {
          "base_uri": "https://localhost:8080/"
        },
        "id": "GbLDXeDsKbA6",
        "outputId": "32fc6271-ace8-4435-e616-b29d9317464c"
      },
      "execution_count": null,
      "outputs": [
        {
          "output_type": "execute_result",
          "data": {
            "text/plain": [
              "array([340.55381311])"
            ]
          },
          "metadata": {},
          "execution_count": 70
        }
      ]
    },
    {
      "cell_type": "code",
      "source": [
        "# 훈련 셋 산점도\n",
        "plt.scatter(X_tr, y_tr, alpha=0.5, label='train', color='darkgray')\n",
        "\n",
        "# 테스트 셋 산점도\n",
        "plt.scatter(X_te, y_te, alpha=0.5, label='test', color='crimson')\n",
        "\n",
        "# 선형 회귀 곡선 시각화\n",
        "X_vals = np.arange(10, 45, 0.001).reshape((-1, 1))\n",
        "y_vals = model.predict(X_vals)\n",
        "plt.plot(X_vals, y_vals)\n",
        "\n",
        "plt.show()"
      ],
      "metadata": {
        "colab": {
          "base_uri": "https://localhost:8080/",
          "height": 265
        },
        "id": "w6dZgPY-Kbsq",
        "outputId": "9af5a44f-b493-4f6e-f2d3-92d895eb9a2c"
      },
      "execution_count": null,
      "outputs": [
        {
          "output_type": "display_data",
          "data": {
            "text/plain": [
              "<Figure size 432x288 with 1 Axes>"
            ],
            "image/png": "[encoded data removed]"
          },
          "metadata": {
            "needs_background": "light"
          }
        }
      ]
    },
    {
      "cell_type": "code",
      "source": [
        "def visualize_regression(X_tr, y_tr, X_te, y_te, degrees, estimator):\n",
        "    plt.figure(figsize=(10, 10))\n",
        "    # 훈련 셋 산점도\n",
        "    plt.scatter(X_tr, y_tr, color='darkgray', alpha=0.5)\n",
        "    # 테스트 셋 산점도\n",
        "    plt.scatter(X_te, y_te, color='orange', alpha=0.5)\n",
        "\n",
        "    # degree=(1, 2, 5, 10)에 대해서 반복\n",
        "    for d in degrees:\n",
        "        # Pipeline(Polynomial -> Scaler -> Regressor) 생성\n",
        "        model = Pipeline([('poly', PolynomialFeatures(degree=d, include_bias=False)),\n",
        "                        ('scaler', StandardScaler()),\n",
        "                        ('reg', estimator)])\n",
        "        # 모델을 훈련 데이터로 학습시킴.\n",
        "        model.fit(X_tr, y_tr)\n",
        "        print('degree =', d, ':', model['reg'].coef_)\n",
        "        # 회귀식을 시각화하기 위해서\n",
        "        X_vals = np.arange(10, 45, 0.001).reshape((-1, 1))  # 회귀식 시각화 필요한 x좌표\n",
        "        y_vals = model.predict(X_vals)  # 회귀식 시각화 필요한 y좌표\n",
        "        plt.plot(X_vals, y_vals, label=f'degree={d}')\n",
        "\n",
        "    plt.legend()\n",
        "    plt.grid()\n",
        "    plt.ylim((-100, 1200))\n",
        "    plt.show()"
      ],
      "metadata": {
        "id": "Y9iwdwzJKciS"
      },
      "execution_count": null,
      "outputs": []
    },
    {
      "cell_type": "code",
      "source": [
        "degrees = (1, 2, 5, 50)\n",
        "estimator = LinearRegression()\n",
        "visualize_regression(X_tr, y_tr, X_te, y_te, degrees, estimator)"
      ],
      "metadata": {
        "colab": {
          "base_uri": "https://localhost:8080/",
          "height": 908
        },
        "id": "niaxoHmpWFr3",
        "outputId": "8e727208-0425-4081-8422-39532f354dc2"
      },
      "execution_count": null,
      "outputs": [
        {
          "output_type": "stream",
          "name": "stdout",
          "text": [
            "degree = 1 : [340.55381311]\n",
            "degree = 2 : [-188.16429447  532.30423546]\n",
            "degree = 5 : [ 1090.51349849 -4377.12096334  5960.80924384 -2038.47216236\n",
            "  -298.04297802]\n",
            "degree = 50 : [ 6.98882833e+11 -1.00258489e+13  6.60296042e+13 -2.55034855e+14\n",
            "  6.09952960e+14 -8.49257804e+14  4.52273759e+14  4.19689312e+14\n",
            " -5.51591443e+14 -3.28854741e+14  4.59197104e+14  4.64717683e+14\n",
            " -2.50299728e+14 -5.52393976e+14 -1.60092632e+14  3.91786172e+14\n",
            "  5.11210317e+14  7.31510052e+13 -3.53270642e+14 -4.94712910e+14\n",
            " -1.96230307e+14  2.13080773e+14  4.96213319e+14  3.80309385e+14\n",
            "  1.75066814e+13 -3.44230648e+14 -4.87250016e+14 -3.02344800e+14\n",
            "  2.62593791e+13  3.30040038e+14  4.73494550e+14  3.40422044e+14\n",
            "  2.18521947e+13 -3.08247209e+14 -4.73280892e+14 -3.86850938e+14\n",
            " -8.61310505e+13  2.56242683e+14  4.63841120e+14  4.23130930e+14\n",
            "  1.23033768e+14 -2.34060437e+14 -4.83471867e+14 -4.17931846e+14\n",
            " -4.03199922e+13  4.12817710e+14  5.76576966e+14  1.26944300e+13\n",
            " -7.83101811e+14  3.32763612e+14]\n"
          ]
        },
        {
          "output_type": "display_data",
          "data": {
            "text/plain": [
              "<Figure size 720x720 with 1 Axes>"
            ],
            "image/png": "[encoded data removed]"
          },
          "metadata": {
            "needs_background": "light"
          }
        }
      ]
    },
    {
      "cell_type": "markdown",
      "source": [
        "# 규제(regularization)"
      ],
      "metadata": {
        "id": "ByNmmQ0rZNsG"
      }
    },
    {
      "cell_type": "markdown",
      "source": [
        "\n",
        "* 머신 러닝의 목적은 목적 함수(objective function)/비용 함수(cost function)/손실 함수(loss function)을 최소화하는 것.\n",
        "\n",
        "\n",
        "* 선형 회귀(linear regression)의 목적은 MSE(mean_squared_error)를 최소로 만드는 계수들($w_0, ..., w_m$)을 찾는 것. 즉, 선형 회귀의 목적 함수는 MSE(w).\n",
        "$$\n",
        "J(w) = MSE(w) \n",
        "     = \\dfrac{1}{N} \\sum_{i=1}^{N} (y_i - \\hat{y_i})^2 \n",
        "     = \\dfrac{1}{N} \\sum_{i=1}^{N} (y_i - (w_0 + \\sum_{j=1}^{m} w_{j} \\cdot x_{ij}))^2\n",
        "$$\n",
        "    * $N$: 샘플의 개수(DataFrame의 row의 개수)\n",
        "    * $m$: 특성의 개수(DataFrame의 column의 개수)\n",
        "    * $y_i$: $i$번째 샘플의 실젯값\n",
        "    * $\\hat{y_i}$: $i$번째 샘플의 예측값\n",
        "    * $x_{ij}$: $i$번째 샘플의 $j$번째 특성 값\n",
        "    * $w_j$: $j$번째 특성에 곱해주는 계수(기울기)\n",
        "\n",
        "* Ridge(`l2`) 규제의 목적은 아래의 비용 함수를 최소로 만드는 계수들($w_0, ..., w_m$)을 찾는 것.\n",
        "\n",
        "$$\n",
        "J(w) = MSE(w) + \\dfrac{\\alpha}{2} \\mid\\mid w \\mid\\mid ^2\n",
        "$$\n",
        "\n",
        "> Ridge 규제의 효과는 고차항들의 계수(coefficients, 기울기)를 작게 만들어서 곡선의 기울기를 완만하게 만들어 주게 됨. overfitting(과대적합)을 줄여주게 됨.\n",
        "\n",
        "* Lasso(`l1`) 규제의 목적은 아래의 비용 함수를 최소로 만드는 계수들($w_0, ..., w_m$)을 찾는 것.\n",
        "\n",
        "$$\n",
        "J(w) = MSE(w) + \\alpha \\mid\\mid w \\mid\\mid\n",
        "$$\n",
        "\n",
        "> Lasso 규제는 중요하지 않은 고차항들의 계수를 0으로 만들어 줌으로써, 곡선을 완만하게 만들어 주는 효과가 생김. 과대적합을 줄여주는 효과.\n",
        "\n",
        "* ElasticNet 규제의 목적은 아래의 비용 함수를 최소로 만드는 계수들($w_0, ..., w_m$)을 찾는 것.\n",
        "\n",
        "$$\n",
        "J(w) = MSE(w) + r \\alpha \\mid\\mid w \\mid\\mid \n",
        "              + \\dfrac{1 - r}{2} \\alpha \\mid\\mid w \\mid\\mid ^2\n",
        "$$\n",
        "\n",
        "> ElasticNet은 Ridge 규제와 Lasso 규제의 효과를 모두 가지고 있음.\n",
        "\n",
        "* Ridge, Lasso에서 $\\alpha$ 값이 크면 규제가 강해지고, $\\alpha$ 값이 작으면 규제가 약해짐($ \\alpha \\ge 0 $).\n",
        "* ElasticNet에서 $\\alpha$는 규제의 크기를 의미하고, $r$은 `l1` 규제의 비율($0 \\le r \\le 1$)을 의미함."
      ],
      "metadata": {
        "id": "MojBcLTDZOZm"
      }
    },
    {
      "cell_type": "markdown",
      "source": [
        "## l2 규제: Ridge"
      ],
      "metadata": {
        "id": "DdopMYxyoaky"
      }
    },
    {
      "cell_type": "code",
      "source": [
        "degrees = (1, 2, 5, 50)\n",
        "estimator = Ridge(alpha=1.0)\n",
        "visualize_regression(X_tr, y_tr, X_te, y_te, degrees, estimator)"
      ],
      "metadata": {
        "colab": {
          "base_uri": "https://localhost:8080/",
          "height": 816
        },
        "id": "1IsO3ctvWHbA",
        "outputId": "05317733-02d5-46f4-b2a7-c8d15e5ce472"
      },
      "execution_count": null,
      "outputs": [
        {
          "output_type": "stream",
          "name": "stdout",
          "text": [
            "degree = 1 : [332.63395699]\n",
            "degree = 2 : [ 90.58971122 249.48800198]\n",
            "degree = 5 : [71.46390274 95.36902828 90.24481144 64.15690222 24.69095831]\n",
            "degree = 50 : [57.071767   71.05492103 71.65634347 63.87632    51.92887907 38.82686003\n",
            " 26.45737388 15.82631359  7.32628255  0.96590695 -3.45871369 -6.24793939\n",
            " -7.72662807 -8.20357587 -7.95156044 -7.19999236 -6.13474486 -4.9016977\n",
            " -3.61189738 -2.34712978 -1.16525955 -0.10502713  0.80981179  1.56701183\n",
            "  2.16298141  2.6004731   2.88674253  3.03210024  3.04878761  2.95011641\n",
            "  2.74982088  2.46157898  2.09866767  1.67372291  1.19858097  0.68418227\n",
            "  0.14052254 -0.42336072 -0.99937571 -1.58034537 -2.1599636  -2.73274316\n",
            " -3.29395867 -3.83958717 -4.36624834 -4.87114565 -5.35200944 -5.8070427\n",
            " -6.23486993 -6.63448935]\n"
          ]
        },
        {
          "output_type": "display_data",
          "data": {
            "text/plain": [
              "<Figure size 720x720 with 1 Axes>"
            ],
            "image/png": "[encoded data removed]"
          },
          "metadata": {
            "needs_background": "light"
          }
        }
      ]
    },
    {
      "cell_type": "code",
      "source": [
        "model = Pipeline([('poly', PolynomialFeatures(degree=50, include_bias=False)),\n",
        "                  ('scaler', StandardScaler()),\n",
        "                  ('reg', Ridge())])"
      ],
      "metadata": {
        "id": "iffLz9KUoeK_"
      },
      "execution_count": null,
      "outputs": []
    },
    {
      "cell_type": "code",
      "source": [
        "model.fit(X_tr, y_tr)"
      ],
      "metadata": {
        "colab": {
          "base_uri": "https://localhost:8080/"
        },
        "id": "4PYZX7sXofH_",
        "outputId": "b697e355-0ea0-4fd7-edc3-4212d9e9156b"
      },
      "execution_count": null,
      "outputs": [
        {
          "output_type": "execute_result",
          "data": {
            "text/plain": [
              "Pipeline(steps=[('poly', PolynomialFeatures(degree=50, include_bias=False)),\n",
              "                ('scaler', StandardScaler()), ('reg', Ridge())])"
            ]
          },
          "metadata": {},
          "execution_count": 76
        }
      ]
    },
    {
      "cell_type": "code",
      "source": [
        "print('train r2:', model.score(X_tr, y_tr))\n",
        "print('test r2:', model.score(X_te, y_te))"
      ],
      "metadata": {
        "colab": {
          "base_uri": "https://localhost:8080/"
        },
        "id": "UaLaOu6kojRJ",
        "outputId": "24b40399-4b82-43b7-9585-b960a0aaaa2c"
      },
      "execution_count": null,
      "outputs": [
        {
          "output_type": "stream",
          "name": "stdout",
          "text": [
            "train r2: 0.9739229136053733\n",
            "test r2: 0.9813385255457554\n"
          ]
        }
      ]
    },
    {
      "cell_type": "markdown",
      "source": [
        "## l1 규제: Lasso"
      ],
      "metadata": {
        "id": "qCvoCLaTokjW"
      }
    },
    {
      "cell_type": "code",
      "source": [
        "degrees = (1, 2, 5, 50)\n",
        "estimator = Lasso(max_iter=10_000)\n",
        "visualize_regression(X_tr, y_tr, X_te, y_te, degrees, estimator)"
      ],
      "metadata": {
        "colab": {
          "base_uri": "https://localhost:8080/",
          "height": 835
        },
        "id": "A3eIjUn4okBp",
        "outputId": "9e68e85e-eb92-40bf-f99f-88a916dd6705"
      },
      "execution_count": null,
      "outputs": [
        {
          "output_type": "stream",
          "name": "stdout",
          "text": [
            "degree = 1 : [339.55381311]\n",
            "degree = 2 : [-37.56688954 381.72140363]\n",
            "degree = 5 : [  0.         169.86798493 175.39652371   0.          -0.        ]\n",
            "degree = 50 : [  0.          17.21972877 345.23902643   0.           0.\n",
            "   0.           0.           0.          -0.          -0.\n",
            "  -0.          -0.          -0.          -0.          -0.\n",
            "  -0.          -0.          -0.          -0.          -0.\n",
            "  -0.          -0.          -0.          -0.          -0.\n",
            "  -0.          -0.          -0.          -0.          -0.\n",
            "  -0.          -0.          -0.          -0.          -0.\n",
            "  -0.          -0.          -0.          -0.          -0.\n",
            "  -0.          -0.          -0.          -0.          -0.\n",
            "  -0.          -0.          -0.          -0.         -33.54927135]\n"
          ]
        },
        {
          "output_type": "display_data",
          "data": {
            "text/plain": [
              "<Figure size 720x720 with 1 Axes>"
            ],
            "image/png": "[encoded data removed]"
          },
          "metadata": {
            "needs_background": "light"
          }
        }
      ]
    },
    {
      "cell_type": "markdown",
      "source": [
        "ConvergenceWarning이 발생하는 경우, 최적화를 하기 위한 최대 반복 횟수(max_iter) 파라미터 값을 더 크게 하거나, 최적화를 위한 tolerance(수렴 구간)을 더 크게 하면 warning을 없앨 수도 있다."
      ],
      "metadata": {
        "id": "zM1WYxU8omyt"
      }
    },
    {
      "cell_type": "markdown",
      "source": [
        "## ElasticNet"
      ],
      "metadata": {
        "id": "Yd2zSXEPooAR"
      }
    },
    {
      "cell_type": "code",
      "source": [
        "estimator = ElasticNet()\n",
        "visualize_regression(X_tr, y_tr, X_te, y_te, degrees, estimator)"
      ],
      "metadata": {
        "colab": {
          "base_uri": "https://localhost:8080/",
          "height": 816
        },
        "id": "CGdQZ3_kolwS",
        "outputId": "b42bc4b9-b2fa-4fab-da51-f09ed875c6a5"
      },
      "execution_count": null,
      "outputs": [
        {
          "output_type": "stream",
          "name": "stdout",
          "text": [
            "degree = 1 : [226.70254207]\n",
            "degree = 2 : [132.58403091 142.14452539]\n",
            "degree = 5 : [65.81871932 66.12553502 64.44511229 61.45264451 57.66069996]\n",
            "degree = 50 : [53.59542604 50.18178692 45.62074946 40.55542778 35.41660767 30.47765228\n",
            " 25.89888636 21.76019708 18.08628074 14.8664211  12.06934783  9.65369781\n",
            "  7.57486967  5.789173    4.25609774  2.93935959  1.80719597  0.83223316\n",
            "  0.          0.         -0.         -0.         -0.36637745 -0.78477948\n",
            " -1.1502603  -1.46955347 -1.7483126  -1.99131998 -2.20266634 -2.38590077\n",
            " -2.54414876 -2.68019885 -2.79656151 -2.89550654 -2.97908631 -3.04915098\n",
            " -3.10736006 -3.15519292 -3.19395893 -3.22480766 -3.24873859 -3.26661055\n",
            " -3.27915054 -3.28696236 -3.29053511 -3.29025196 -3.2863995  -3.27917777\n",
            " -3.26871145 -3.25506195]\n"
          ]
        },
        {
          "output_type": "display_data",
          "data": {
            "text/plain": [
              "<Figure size 720x720 with 1 Axes>"
            ],
            "image/png": "[encoded data removed]"
          },
          "metadata": {
            "needs_background": "light"
          }
        }
      ]
    },
    {
      "cell_type": "markdown",
      "source": [
        "# 규제 크기($\\alpha$)에 따른 결정 계수의 변화"
      ],
      "metadata": {
        "id": "xWaWlBzXoq2T"
      }
    },
    {
      "cell_type": "markdown",
      "source": [
        "5차항까지 포함, StandardScaler 사용, 훈련 셋/테스트 셋에서의 r2 score를 계산, 시각화"
      ],
      "metadata": {
        "id": "bb-D4jRYyTMu"
      }
    },
    {
      "cell_type": "code",
      "source": [
        "X_tr[:5]"
      ],
      "metadata": {
        "colab": {
          "base_uri": "https://localhost:8080/"
        },
        "id": "ZGl7RCWnoo1D",
        "outputId": "32d7cae9-5a2c-4c33-a96c-93453d9ccb79"
      },
      "execution_count": null,
      "outputs": [
        {
          "output_type": "execute_result",
          "data": {
            "text/plain": [
              "array([[19.6],\n",
              "       [22. ],\n",
              "       [18.7],\n",
              "       [17.4],\n",
              "       [36. ]])"
            ]
          },
          "metadata": {},
          "execution_count": 80
        }
      ]
    },
    {
      "cell_type": "code",
      "source": [
        "train_scores = []  # 훈련 셋에서 계산한 결정계수를 저장할 리스트\n",
        "test_scores = []  # 테스트 셋에서 계산한 결정계수를 저장할 리스트\n",
        "alphas = [10 ** x for x in range(-3, 3)]  # [0.001, 0.01, 0.1, 1, 10, 100]\n",
        "\n",
        "for a in alphas:\n",
        "    poly = PolynomialFeatures(degree=5, include_bias=False)\n",
        "    scaler = StandardScaler()\n",
        "    estimator = ElasticNet(alpha=a)\n",
        "    model = Pipeline([('poly', poly), ('scaler', scaler), ('reg', estimator)])\n",
        "    model.fit(X_tr, y_tr)\n",
        "    train_r2 = model.score(X_tr, y_tr)  # 훈련 셋의 결정계수\n",
        "    train_scores.append(train_r2)\n",
        "    test_r2 = model.score(X_te, y_te)  # 테스트 셋의 결정계수\n",
        "    test_scores.append(test_r2)\n",
        "\n",
        "print('train scores:', train_scores)\n",
        "print('test scores:', test_scores)\n",
        "\n",
        "plt.plot(np.log10(alphas), train_scores, 'bo-', label='train scores')\n",
        "plt.plot(np.log10(alphas), test_scores, 'ro:', label='test scores')\n",
        "plt.legend()\n",
        "plt.grid()\n",
        "plt.show()"
      ],
      "metadata": {
        "colab": {
          "base_uri": "https://localhost:8080/",
          "height": 395
        },
        "id": "SNXuRdZHyVGv",
        "outputId": "1231c530-3843-4039-be0d-da87e406abf6"
      },
      "execution_count": null,
      "outputs": [
        {
          "output_type": "stream",
          "name": "stderr",
          "text": [
            "/usr/local/lib/python3.7/dist-packages/sklearn/linear_model/_coordinate_descent.py:648: ConvergenceWarning: Objective did not converge. You might want to increase the number of iterations, check the scale of the features or consider increasing regularisation. Duality gap: 7.319e+04, tolerance: 5.183e+02\n",
            "  coef_, l1_reg, l2_reg, X, y, max_iter, tol, rng, random, positive\n",
            "/usr/local/lib/python3.7/dist-packages/sklearn/linear_model/_coordinate_descent.py:648: ConvergenceWarning: Objective did not converge. You might want to increase the number of iterations, check the scale of the features or consider increasing regularisation. Duality gap: 8.688e+02, tolerance: 5.183e+02\n",
            "  coef_, l1_reg, l2_reg, X, y, max_iter, tol, rng, random, positive\n"
          ]
        },
        {
          "output_type": "stream",
          "name": "stdout",
          "text": [
            "train scores: [0.9729318909719307, 0.9694267645740603, 0.9669667595405638, 0.9574099753809557, 0.7128959260018337, 0.1419437414816156]\n",
            "test scores: [0.9792791927855977, 0.9717021238527076, 0.9675102498277163, 0.9741613969257316, 0.7439362036454651, 0.10755935075190703]\n"
          ]
        },
        {
          "output_type": "display_data",
          "data": {
            "text/plain": [
              "<Figure size 432x288 with 1 Axes>"
            ],
            "image/png": "[encoded data removed]"
          },
          "metadata": {
            "needs_background": "light"
          }
        }
      ]
    },
    {
      "cell_type": "markdown",
      "source": [
        "규제를 사용하면 과대적합을 줄이면서(없애면서) 일반화 성능을 좋게 만들고 있음."
      ],
      "metadata": {
        "id": "rTjM5_2NyWuQ"
      }
    },
    {
      "cell_type": "markdown",
      "source": [
        "## 농어 데이터의 모든 컬럼을 변수로 사용, Ridge, Lasso, ElasticNet 규제 크기에 따른 결정 계수 그래프."
      ],
      "metadata": {
        "id": "i6bISDHnyX9E"
      }
    },
    {
      "cell_type": "code",
      "source": [
        "X = perch.iloc[:, 2:].values.copy()  # data, 특성 배열\n",
        "y = perch['Weight'].values.copy()  # target"
      ],
      "metadata": {
        "id": "ctQm7GyVVqsK"
      },
      "execution_count": null,
      "outputs": []
    },
    {
      "cell_type": "code",
      "source": [
        "X.shape, y.shape"
      ],
      "metadata": {
        "colab": {
          "base_uri": "https://localhost:8080/"
        },
        "id": "iSTt6nciVrVO",
        "outputId": "9d691f88-9722-41f7-fec6-ae911dacdfd3"
      },
      "execution_count": null,
      "outputs": [
        {
          "output_type": "execute_result",
          "data": {
            "text/plain": [
              "((56, 4), (56,))"
            ]
          },
          "metadata": {},
          "execution_count": 84
        }
      ]
    },
    {
      "cell_type": "code",
      "source": [
        "X_tr, X_te, y_tr, y_te = train_test_split(X, y,\n",
        "                                          test_size=0.25,\n",
        "                                          random_state=42)"
      ],
      "metadata": {
        "id": "A6mSSWWfVxAw"
      },
      "execution_count": null,
      "outputs": []
    },
    {
      "cell_type": "code",
      "source": [
        "def visualize_r2_score(estimator, X_tr, y_tr, X_te, y_te):\n",
        "    train_scores = []  # 규제 크기에 따른 훈련 셋에서의 결정계수를 저장할 리스트.\n",
        "    test_scores = []  # 규제 크기에 따른 테스트 셋에서의 결정계수를 저장할 리스트.\n",
        "    alphas = [10 ** x for x in range(-3, 3)]  # 규제 크기: [0.001, 0.01, 0.1, 1, 10, 100]\n",
        "    for a in alphas:  # 각 규제 크기에 대해서 반복\n",
        "        # 머신 러닝 모델 생성(Polynomial -> Scaler -> Estimator)\n",
        "        poly = PolynomialFeatures(degree=5, include_bias=False)\n",
        "        scaler = StandardScaler()\n",
        "        if estimator == 'l1':\n",
        "            reg = Lasso(alpha=a)\n",
        "        elif estimator == 'l2':\n",
        "            reg = Ridge(alpha=a)\n",
        "        elif estimator == 'elastic':\n",
        "            reg = ElasticNet(alpha=a)\n",
        "        else:\n",
        "            raise ValueError('estimator는 \"l1\", \"l2\", 또는 \"elastic\"이어야 함!')\n",
        "\n",
        "        model = Pipeline([('poly', poly), ('scaler', scaler), ('reg', reg)])\n",
        "        \n",
        "        model.fit(X_tr, y_tr)  # 모델 훈련\n",
        "        train_r2 = model.score(X_tr, y_tr)  # 훈련 셋에서의 결정계수\n",
        "        train_scores.append(train_r2)\n",
        "        test_r2 = model.score(X_te, y_te)  # 테스트 셋에서의 결정계수\n",
        "        test_scores.append(test_r2)\n",
        "\n",
        "    # 리스트의 내용을 출력\n",
        "    print('train scores:', train_scores)\n",
        "    print('test scores:', test_scores)\n",
        "\n",
        "    # 리스트의 내용을 선그래프로 시각화\n",
        "    plt.plot(np.log10(alphas), train_scores, 'bo-', label='train $r^2$')\n",
        "    plt.plot(np.log10(alphas), test_scores, 'r^:', label='test $r^2$')\n",
        "    plt.legend()\n",
        "    plt.grid()\n",
        "    plt.xlabel('alpahs (log scale)')\n",
        "    plt.ylabel('$R^2$ score')\n",
        "    plt.show()"
      ],
      "metadata": {
        "id": "qlacTlLjVx5h"
      },
      "execution_count": null,
      "outputs": []
    },
    {
      "cell_type": "code",
      "source": [
        "visualize_r2_score('l1', X_tr, y_tr, X_te, y_te)"
      ],
      "metadata": {
        "colab": {
          "base_uri": "https://localhost:8080/",
          "height": 446
        },
        "id": "qxMymPbmVyz5",
        "outputId": "cbee902c-11b9-4ec3-e0a0-f8bd2eb6aae8"
      },
      "execution_count": null,
      "outputs": [
        {
          "output_type": "stream",
          "name": "stderr",
          "text": [
            "/usr/local/lib/python3.7/dist-packages/sklearn/linear_model/_coordinate_descent.py:648: ConvergenceWarning: Objective did not converge. You might want to increase the number of iterations, check the scale of the features or consider increasing regularisation. Duality gap: 2.223e+04, tolerance: 5.183e+02\n",
            "  coef_, l1_reg, l2_reg, X, y, max_iter, tol, rng, random, positive\n",
            "/usr/local/lib/python3.7/dist-packages/sklearn/linear_model/_coordinate_descent.py:648: ConvergenceWarning: Objective did not converge. You might want to increase the number of iterations, check the scale of the features or consider increasing regularisation. Duality gap: 1.931e+04, tolerance: 5.183e+02\n",
            "  coef_, l1_reg, l2_reg, X, y, max_iter, tol, rng, random, positive\n",
            "/usr/local/lib/python3.7/dist-packages/sklearn/linear_model/_coordinate_descent.py:648: ConvergenceWarning: Objective did not converge. You might want to increase the number of iterations, check the scale of the features or consider increasing regularisation. Duality gap: 1.286e+03, tolerance: 5.183e+02\n",
            "  coef_, l1_reg, l2_reg, X, y, max_iter, tol, rng, random, positive\n"
          ]
        },
        {
          "output_type": "stream",
          "name": "stdout",
          "text": [
            "train scores: [0.9913081624751734, 0.991160616711604, 0.9902163474611422, 0.9898350521155961, 0.9888395046087162, 0.9079164370253793]\n",
            "test scores: [0.9824626792817299, 0.9828352217966845, 0.9822471480638032, 0.9800927355337123, 0.9825423368999452, 0.9092831899445631]\n"
          ]
        },
        {
          "output_type": "display_data",
          "data": {
            "text/plain": [
              "<Figure size 432x288 with 1 Axes>"
            ],
            "image/png": "[encoded data removed]"
          },
          "metadata": {
            "needs_background": "light"
          }
        }
      ]
    },
    {
      "cell_type": "code",
      "source": [
        "visualize_r2_score('l2', X_tr, y_tr, X_te, y_te)"
      ],
      "metadata": {
        "colab": {
          "base_uri": "https://localhost:8080/",
          "height": 340
        },
        "id": "vDdU_TQUVzxq",
        "outputId": "f3170549-9840-4e06-e4eb-5c6e6f96509b"
      },
      "execution_count": null,
      "outputs": [
        {
          "output_type": "stream",
          "name": "stdout",
          "text": [
            "train scores: [0.9946716964073975, 0.9926658847510959, 0.9906588529802888, 0.9898642966685524, 0.9891003605036942, 0.9847161412052865]\n",
            "test scores: [0.8805517581588203, 0.9675695452678644, 0.9829891528180518, 0.9805647119266162, 0.9749015716532, 0.9620345864309697]\n"
          ]
        },
        {
          "output_type": "display_data",
          "data": {
            "text/plain": [
              "<Figure size 432x288 with 1 Axes>"
            ],
            "image/png": "[encoded data removed]"
          },
          "metadata": {
            "needs_background": "light"
          }
        }
      ]
    },
    {
      "cell_type": "code",
      "source": [
        "visualize_r2_score('elastic', X_tr, y_tr, X_te, y_te)"
      ],
      "metadata": {
        "colab": {
          "base_uri": "https://localhost:8080/",
          "height": 483
        },
        "id": "0vMWt5vFV0wy",
        "outputId": "b8c54641-251e-4ffb-97d2-1b3e221e7d23"
      },
      "execution_count": null,
      "outputs": [
        {
          "output_type": "stream",
          "name": "stderr",
          "text": [
            "/usr/local/lib/python3.7/dist-packages/sklearn/linear_model/_coordinate_descent.py:648: ConvergenceWarning: Objective did not converge. You might want to increase the number of iterations, check the scale of the features or consider increasing regularisation. Duality gap: 2.363e+04, tolerance: 5.183e+02\n",
            "  coef_, l1_reg, l2_reg, X, y, max_iter, tol, rng, random, positive\n",
            "/usr/local/lib/python3.7/dist-packages/sklearn/linear_model/_coordinate_descent.py:648: ConvergenceWarning: Objective did not converge. You might want to increase the number of iterations, check the scale of the features or consider increasing regularisation. Duality gap: 2.377e+04, tolerance: 5.183e+02\n",
            "  coef_, l1_reg, l2_reg, X, y, max_iter, tol, rng, random, positive\n",
            "/usr/local/lib/python3.7/dist-packages/sklearn/linear_model/_coordinate_descent.py:648: ConvergenceWarning: Objective did not converge. You might want to increase the number of iterations, check the scale of the features or consider increasing regularisation. Duality gap: 1.638e+04, tolerance: 5.183e+02\n",
            "  coef_, l1_reg, l2_reg, X, y, max_iter, tol, rng, random, positive\n",
            "/usr/local/lib/python3.7/dist-packages/sklearn/linear_model/_coordinate_descent.py:648: ConvergenceWarning: Objective did not converge. You might want to increase the number of iterations, check the scale of the features or consider increasing regularisation. Duality gap: 1.046e+04, tolerance: 5.183e+02\n",
            "  coef_, l1_reg, l2_reg, X, y, max_iter, tol, rng, random, positive\n"
          ]
        },
        {
          "output_type": "stream",
          "name": "stdout",
          "text": [
            "train scores: [0.9911600197718459, 0.9903065264301221, 0.9896515210383674, 0.9883866962961532, 0.9807297352710089, 0.8298002302295657]\n",
            "test scores: [0.9828728562837419, 0.9826006657730557, 0.9792857127589776, 0.9719870935292817, 0.9615684464630995, 0.8421891080992795]\n"
          ]
        },
        {
          "output_type": "display_data",
          "data": {
            "text/plain": [
              "<Figure size 432x288 with 1 Axes>"
            ],
            "image/png": "[encoded data removed]"
          },
          "metadata": {
            "needs_background": "light"
          }
        }
      ]
    }
  ]
}