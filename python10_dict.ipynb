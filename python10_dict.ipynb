{
  "nbformat": 4,
  "nbformat_minor": 0,
  "metadata": {
    "colab": {
      "name": "python10_dict.ipynb",
      "provenance": [],
      "authorship_tag": "ABX9TyNEIaHdN+kUiXNsNE1Hozzm",
      "include_colab_link": true
    },
    "kernelspec": {
      "name": "python3",
      "display_name": "Python 3"
    },
    "language_info": {
      "name": "python"
    }
  },
  "cells": [
    {
      "cell_type": "markdown",
      "metadata": {
        "id": "view-in-github",
        "colab_type": "text"
      },
      "source": [
        "<a href=\"https://colab.research.google.com/github/JoMihye/Python/blob/main/python10_dict.ipynb\" target=\"_parent\"><img src=\"https://colab.research.google.com/assets/colab-badge.svg\" alt=\"Open In Colab\"/></a>"
      ]
    },
    {
      "cell_type": "markdown",
      "source": [
        "# dict"
      ],
      "metadata": {
        "id": "CC2sUJJx-lRy"
      }
    },
    {
      "cell_type": "markdown",
      "source": [
        "dict:\n",
        "\n",
        "*  사전(dictionary) 형식의 데이터 타입\n",
        "*  키(key)를 기반으로 값(value)을 저장하는 데이터 타입\n",
        "    *  list, tuple: 인덱스(index)를 기반으로 값들을 저장하는 데이터 타입.\n",
        "    *  dict 타입에서 key의 역할은 list나 tuple에서의 인덱스와 마찬가지로, dict에 저장되어 있는 유일한 1개의 값을 참조하기 위한 용도.\n",
        "        *  dict에서 key는 중복된 값을 허용하지 않음."
      ],
      "metadata": {
        "id": "mxZXW96S-rSS"
      }
    },
    {
      "cell_type": "code",
      "execution_count": null,
      "metadata": {
        "colab": {
          "base_uri": "https://localhost:8080/"
        },
        "id": "xg9HgGBp-bEc",
        "outputId": "d3d09a9b-f477-49fa-838f-0886d9385a9e"
      },
      "outputs": [
        {
          "output_type": "stream",
          "name": "stdout",
          "text": [
            "{100: '홍길동', 101: '오쌤', 200: 'Scott'}\n",
            "<class 'dict'>\n"
          ]
        }
      ],
      "source": [
        "students = {100: '홍길동', 101: '오쌤', 200: 'Scott'}  # {key: value}\n",
        "print(students)\n",
        "print(type(students))"
      ]
    },
    {
      "cell_type": "markdown",
      "source": [
        "## dict의 메서드"
      ],
      "metadata": {
        "id": "WsZRBwYyF_gu"
      }
    },
    {
      "cell_type": "code",
      "source": [
        "students.keys()  # dict.keys(): dict가 가지고 있는 키(key)들의 리스트."
      ],
      "metadata": {
        "colab": {
          "base_uri": "https://localhost:8080/"
        },
        "id": "HtGbjOIRFfeS",
        "outputId": "23ff3f22-1a67-4f0e-9bf0-7e2c39f2f7c7"
      },
      "execution_count": null,
      "outputs": [
        {
          "output_type": "execute_result",
          "data": {
            "text/plain": [
              "dict_keys([100, 101, 200])"
            ]
          },
          "metadata": {},
          "execution_count": 4
        }
      ]
    },
    {
      "cell_type": "code",
      "source": [
        "students.values()  # dict.values(): dict가 가지고 있는 값(value)들의 리스트."
      ],
      "metadata": {
        "colab": {
          "base_uri": "https://localhost:8080/"
        },
        "id": "7Ljp6MKYGWm0",
        "outputId": "b9cdd307-29c8-4b9a-c097-88f3d3f0872c"
      },
      "execution_count": null,
      "outputs": [
        {
          "output_type": "execute_result",
          "data": {
            "text/plain": [
              "dict_values(['홍길동', '오쌤', 'Scott'])"
            ]
          },
          "metadata": {},
          "execution_count": 6
        }
      ]
    },
    {
      "cell_type": "code",
      "source": [
        "students.items()  # dict.items(): (key, value) 튜플들의 리스트."
      ],
      "metadata": {
        "colab": {
          "base_uri": "https://localhost:8080/"
        },
        "id": "37dzlVrBGonU",
        "outputId": "7780806a-cf20-4f57-b0f7-d16fc325d8f0"
      },
      "execution_count": null,
      "outputs": [
        {
          "output_type": "execute_result",
          "data": {
            "text/plain": [
              "dict_items([(100, '홍길동'), (101, '오쌤'), (200, 'Scott')])"
            ]
          },
          "metadata": {},
          "execution_count": 7
        }
      ]
    },
    {
      "cell_type": "code",
      "source": [
        "students.get(100)  # dict.get(key): key에 해당하는 value를 리턴."
      ],
      "metadata": {
        "colab": {
          "base_uri": "https://localhost:8080/",
          "height": 35
        },
        "id": "lDJEeqj1Gs3u",
        "outputId": "b03880c3-71a8-4cb0-f91b-0eab42688514"
      },
      "execution_count": null,
      "outputs": [
        {
          "output_type": "execute_result",
          "data": {
            "text/plain": [
              "'홍길동'"
            ],
            "application/vnd.google.colaboratory.intrinsic+json": {
              "type": "string"
            }
          },
          "metadata": {},
          "execution_count": 8
        }
      ]
    },
    {
      "cell_type": "code",
      "source": [
        "students[100]  # get() 메서드의 역할을 인덱스 연산자([])로 할 수 있음."
      ],
      "metadata": {
        "colab": {
          "base_uri": "https://localhost:8080/",
          "height": 35
        },
        "id": "PRlnxbdbHwxk",
        "outputId": "21a873e4-744a-49cf-db73-13b364558c8c"
      },
      "execution_count": null,
      "outputs": [
        {
          "output_type": "execute_result",
          "data": {
            "text/plain": [
              "'홍길동'"
            ],
            "application/vnd.google.colaboratory.intrinsic+json": {
              "type": "string"
            }
          },
          "metadata": {},
          "execution_count": 9
        }
      ]
    },
    {
      "cell_type": "markdown",
      "source": [
        "## dict의 아이템 추가/변경/삭제"
      ],
      "metadata": {
        "id": "bXE6NLEgIPTq"
      }
    },
    {
      "cell_type": "code",
      "source": [
        "students\n",
        "# 코드 셀에서 가장 마지막 라인이 식(또는 변수)이면 그 값이 콘솔창에 자동으로 출력됨."
      ],
      "metadata": {
        "colab": {
          "base_uri": "https://localhost:8080/"
        },
        "id": "HieSuIKpIE-o",
        "outputId": "96a6c2cc-c38e-4103-fb57-6f69bd051c78"
      },
      "execution_count": null,
      "outputs": [
        {
          "output_type": "execute_result",
          "data": {
            "text/plain": [
              "{100: '홍길동', 101: '오쌤', 200: 'Scott'}"
            ]
          },
          "metadata": {},
          "execution_count": 12
        }
      ]
    },
    {
      "cell_type": "code",
      "source": [
        "# dict[new_key] = new_value: 키에 해당하는 값을 추가.\n",
        "students[300] = '홍길동'\n",
        "students"
      ],
      "metadata": {
        "colab": {
          "base_uri": "https://localhost:8080/"
        },
        "id": "rfGha_4YIbdb",
        "outputId": "f6e92e3d-9b4c-4b08-8199-b7860b028ebe"
      },
      "execution_count": null,
      "outputs": [
        {
          "output_type": "execute_result",
          "data": {
            "text/plain": [
              "{100: '홍길동', 101: '오쌤', 200: 'Scott', 300: '홍길동'}"
            ]
          },
          "metadata": {},
          "execution_count": 13
        }
      ]
    },
    {
      "cell_type": "code",
      "source": [
        "# dict[key] = new_value: 기존 키의 값을 새로운 값으로 변경.\n",
        "students[100] = '김길동'\n",
        "students"
      ],
      "metadata": {
        "colab": {
          "base_uri": "https://localhost:8080/"
        },
        "id": "iZULk7K7Jorm",
        "outputId": "3b8fed3e-5539-4acb-bad1-bb99cba498cd"
      },
      "execution_count": null,
      "outputs": [
        {
          "output_type": "execute_result",
          "data": {
            "text/plain": [
              "{100: '김길동', 101: '오쌤', 200: 'Scott', 300: '홍길동'}"
            ]
          },
          "metadata": {},
          "execution_count": 14
        }
      ]
    },
    {
      "cell_type": "code",
      "source": [
        "students.pop(101)  # dict.pop(key): key에 해당하는 아이템을 삭제.\n",
        "students"
      ],
      "metadata": {
        "colab": {
          "base_uri": "https://localhost:8080/"
        },
        "id": "EiIgwwXkJ6pW",
        "outputId": "557cdab4-25cc-42d2-9dca-3ed759fd854e"
      },
      "execution_count": null,
      "outputs": [
        {
          "output_type": "execute_result",
          "data": {
            "text/plain": [
              "{100: '김길동', 200: 'Scott', 300: '홍길동'}"
            ]
          },
          "metadata": {},
          "execution_count": 15
        }
      ]
    },
    {
      "cell_type": "markdown",
      "source": [
        "## dict와 for 반복문"
      ],
      "metadata": {
        "id": "_k6YD0XQLGKu"
      }
    },
    {
      "cell_type": "code",
      "source": [
        "book = {'title': '파이썬 라이브러리 데이터 분석', \n",
        "        'author' : '웨스 매키니',\n",
        "        'price': 35_000}\n",
        "book"
      ],
      "metadata": {
        "colab": {
          "base_uri": "https://localhost:8080/"
        },
        "id": "p06ZQxfkK0bi",
        "outputId": "a2fcef20-0e53-484a-89d6-4032f3156ea0"
      },
      "execution_count": null,
      "outputs": [
        {
          "output_type": "execute_result",
          "data": {
            "text/plain": [
              "{'author': '웨스 매키니', 'price': 35000, 'title': '파이썬 라이브러리 데이터 분석'}"
            ]
          },
          "metadata": {},
          "execution_count": 16
        }
      ]
    },
    {
      "cell_type": "code",
      "source": [
        "for k in book:\n",
        "    print(k)\n",
        "# for-in 구문에서 dict를 사용하면 key에 대해서 iteration(순회, 반복)을 수행함."
      ],
      "metadata": {
        "colab": {
          "base_uri": "https://localhost:8080/"
        },
        "id": "_jRSOQzEMPoE",
        "outputId": "5bdeb943-ec95-4d86-c9bd-284019b802e3"
      },
      "execution_count": null,
      "outputs": [
        {
          "output_type": "stream",
          "name": "stdout",
          "text": [
            "title\n",
            "author\n",
            "price\n"
          ]
        }
      ]
    },
    {
      "cell_type": "code",
      "source": [
        "# for-in 구문으로 dict의 key와 value를 모두 출력\n",
        "for k in book:\n",
        "    print(k, ':', book[k])"
      ],
      "metadata": {
        "colab": {
          "base_uri": "https://localhost:8080/"
        },
        "id": "8_RWeAxZMtK6",
        "outputId": "f2973c0e-b380-4b90-f0c9-8ee448399ed4"
      },
      "execution_count": null,
      "outputs": [
        {
          "output_type": "stream",
          "name": "stdout",
          "text": [
            "title : 파이썬 라이브러리 데이터 분석\n",
            "author : 웨스 매키니\n",
            "price : 35000\n"
          ]
        }
      ]
    },
    {
      "cell_type": "code",
      "source": [
        "for k, v in book.items():\n",
        "    print(k, ':', v)"
      ],
      "metadata": {
        "colab": {
          "base_uri": "https://localhost:8080/"
        },
        "id": "DFpgQJIJODpI",
        "outputId": "7f2618b6-cdbb-4238-8050-6153324eb5ed"
      },
      "execution_count": null,
      "outputs": [
        {
          "output_type": "stream",
          "name": "stdout",
          "text": [
            "title : 파이썬 라이브러리 데이터 분석\n",
            "author : 웨스 매키니\n",
            "price : 35000\n"
          ]
        }
      ]
    },
    {
      "cell_type": "markdown",
      "source": [
        "## 다양한dict"
      ],
      "metadata": {
        "id": "uf_8-ReOSh2F"
      }
    },
    {
      "cell_type": "code",
      "source": [
        "contact = {'name': '오쌤', \n",
        "           'phone': ['010-1111-2222', '02-1234-5678'],\n",
        "           'group': 1,\n",
        "           'email': {'company': 'jake@itwill.co.kr', 'personal': 'jake@gmail.com'}\n",
        "           }\n",
        "contact"
      ],
      "metadata": {
        "colab": {
          "base_uri": "https://localhost:8080/"
        },
        "id": "R3HDCNRyObQd",
        "outputId": "c944a6c9-4eb0-47e9-b8ff-61b5aea3d82b"
      },
      "execution_count": null,
      "outputs": [
        {
          "output_type": "execute_result",
          "data": {
            "text/plain": [
              "{'email': {'company': 'jake@itwill.co.kr', 'personal': 'jake@gmail.com'},\n",
              " 'group': 1,\n",
              " 'name': '오쌤',\n",
              " 'phone': ['010-1111-2222', '02-1234-5678']}"
            ]
          },
          "metadata": {},
          "execution_count": 22
        }
      ]
    },
    {
      "cell_type": "code",
      "source": [
        "# contact에서 이름 출력\n",
        "contact['name']"
      ],
      "metadata": {
        "colab": {
          "base_uri": "https://localhost:8080/",
          "height": 35
        },
        "id": "BZZ3WEjbUIjV",
        "outputId": "e0605352-984e-4a5d-b4e4-649f5a9d01a3"
      },
      "execution_count": null,
      "outputs": [
        {
          "output_type": "execute_result",
          "data": {
            "text/plain": [
              "'오쌤'"
            ],
            "application/vnd.google.colaboratory.intrinsic+json": {
              "type": "string"
            }
          },
          "metadata": {},
          "execution_count": 23
        }
      ]
    },
    {
      "cell_type": "code",
      "source": [
        "# contact에서 전화번호 출력\n",
        "print(contact['phone'])\n",
        "print(contact['phone'][0])"
      ],
      "metadata": {
        "colab": {
          "base_uri": "https://localhost:8080/"
        },
        "id": "aK21nXALUdhh",
        "outputId": "761a8fdd-59d2-4970-9248-63d00db4e9e1"
      },
      "execution_count": null,
      "outputs": [
        {
          "output_type": "stream",
          "name": "stdout",
          "text": [
            "['010-1111-2222', '02-1234-5678']\n",
            "010-1111-2222\n"
          ]
        }
      ]
    },
    {
      "cell_type": "code",
      "source": [
        "# contact에서 이메일 출력\n",
        "print(contact['email'])\n",
        "print(contact['email']['company'])"
      ],
      "metadata": {
        "colab": {
          "base_uri": "https://localhost:8080/"
        },
        "id": "ebqn4NkOUrTv",
        "outputId": "b03b2951-7578-45d4-abf4-c8b550dc5b05"
      },
      "execution_count": null,
      "outputs": [
        {
          "output_type": "stream",
          "name": "stdout",
          "text": [
            "{'company': 'jake@itwill.co.kr', 'personal': 'jake@gmail.com'}\n",
            "jake@itwill.co.kr\n"
          ]
        }
      ]
    },
    {
      "cell_type": "code",
      "source": [
        "employees = {\n",
        "    'emp_no': [101, 102, 103, 105],\n",
        "    'emp_name': ['aaa', 'bbb', 'ccc', 'ddd'],\n",
        "    'sal': [100, 200, 150, 500],\n",
        "    'dept_no': [10, 10, 20, 30]\n",
        "}\n",
        "employees"
      ],
      "metadata": {
        "colab": {
          "base_uri": "https://localhost:8080/"
        },
        "id": "dRAlGewjVyEA",
        "outputId": "4c2335a6-0cfd-4191-dcdd-b2565521e45a"
      },
      "execution_count": null,
      "outputs": [
        {
          "output_type": "execute_result",
          "data": {
            "text/plain": [
              "{'dept_no': [10, 10, 20, 30],\n",
              " 'emp_name': ['aaa', 'bbb', 'ccc', 'ddd'],\n",
              " 'emp_no': [101, 102, 103, 105],\n",
              " 'sal': [100, 200, 150, 500]}"
            ]
          },
          "metadata": {},
          "execution_count": 32
        }
      ]
    },
    {
      "cell_type": "code",
      "source": [
        "# 직원들의 이름만 출력: select emp_name from emplotees\n",
        "employees['emp_name']"
      ],
      "metadata": {
        "colab": {
          "base_uri": "https://localhost:8080/"
        },
        "id": "XBWiFS-6XxuN",
        "outputId": "47acd704-8a0a-4194-ffd1-ba77649cfed3"
      },
      "execution_count": null,
      "outputs": [
        {
          "output_type": "execute_result",
          "data": {
            "text/plain": [
              "['aaa', 'bbb', 'ccc', 'ddd']"
            ]
          },
          "metadata": {},
          "execution_count": 33
        }
      ]
    },
    {
      "cell_type": "markdown",
      "source": [
        "## dictionary comprehension"
      ],
      "metadata": {
        "id": "M7QUd8OtYYnI"
      }
    },
    {
      "cell_type": "code",
      "source": [
        "stu_no = [101, 201, 302]  # 학번들의 리스트\n",
        "stu_name = ['홍길동', '허균', '오쌤']  # 학생 이름들의 리스트\n",
        "\n",
        "# 학번을 key로 하고, 이름을 value로 하는 dict를 만듦.\n",
        "students = {}  # \"학번: 이름\"을 아이템으로 저장할 빈 사전(dictionary)\n",
        "for k, v in zip(stu_no, stu_name):\n",
        "    students[k] = v\n",
        "\n",
        "print(students)"
      ],
      "metadata": {
        "colab": {
          "base_uri": "https://localhost:8080/"
        },
        "id": "rgBSWYlwZU0W",
        "outputId": "38f55b81-4d20-4968-8140-00b0a1791d1d"
      },
      "execution_count": null,
      "outputs": [
        {
          "output_type": "stream",
          "name": "stdout",
          "text": [
            "{101: '홍길동', 201: '허균', 302: '오쌤'}\n"
          ]
        }
      ]
    },
    {
      "cell_type": "code",
      "source": [
        "# dict_name = {key: value for ... in ...}\n",
        "students2 = {k: v for k, v in zip(stu_no, stu_name)}\n",
        "students2"
      ],
      "metadata": {
        "colab": {
          "base_uri": "https://localhost:8080/"
        },
        "id": "BJ8xZYt8YRoa",
        "outputId": "3d1a23e7-91a9-445f-cc3a-b0003327c900"
      },
      "execution_count": null,
      "outputs": [
        {
          "output_type": "execute_result",
          "data": {
            "text/plain": [
              "{101: '홍길동', 201: '허균', 302: '오쌤'}"
            ]
          },
          "metadata": {},
          "execution_count": 36
        }
      ]
    },
    {
      "cell_type": "code",
      "source": [
        "fruits = ['apple', 'banana', 'cherry', 'pineapple', 'watermelon', '딸기']\n",
        "\n",
        "# 과일의 이름을 key로 하고, 이름의 길이를 value로 하는 사전(dictionary)을 만듦.\n",
        "fruit_lengths = {}\n",
        "for x in fruits:\n",
        "    fruit_lengths[x] =len(x)\n",
        "print(fruit_lengths)"
      ],
      "metadata": {
        "colab": {
          "base_uri": "https://localhost:8080/"
        },
        "id": "sTTLmcG5bUEt",
        "outputId": "5effe15c-9cc7-49e3-8b7e-33a8484d2747"
      },
      "execution_count": null,
      "outputs": [
        {
          "output_type": "stream",
          "name": "stdout",
          "text": [
            "{'apple': 5, 'banana': 6, 'cherry': 6, 'pineapple': 9, 'watermelon': 10, '딸기': 2}\n"
          ]
        }
      ]
    },
    {
      "cell_type": "code",
      "source": [
        "fruit_lengths2 = {x: len(x) for x in fruits}\n",
        "fruit_lengths"
      ],
      "metadata": {
        "colab": {
          "base_uri": "https://localhost:8080/"
        },
        "id": "11HHrP1RtNNe",
        "outputId": "708a9ba6-69e3-4fd6-99ef-0cdf7de32c41"
      },
      "execution_count": null,
      "outputs": [
        {
          "output_type": "execute_result",
          "data": {
            "text/plain": [
              "{'apple': 5,\n",
              " 'banana': 6,\n",
              " 'cherry': 6,\n",
              " 'pineapple': 9,\n",
              " 'watermelon': 10,\n",
              " '딸기': 2}"
            ]
          },
          "metadata": {},
          "execution_count": 38
        }
      ]
    }
  ]
}