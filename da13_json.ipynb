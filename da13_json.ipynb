{
  "nbformat": 4,
  "nbformat_minor": 0,
  "metadata": {
    "colab": {
      "name": "da13_json.ipynb",
      "provenance": [],
      "collapsed_sections": [],
      "authorship_tag": "ABX9TyMNLpWKokTAmH9CxxgpNho/",
      "include_colab_link": true
    },
    "kernelspec": {
      "name": "python3",
      "display_name": "Python 3"
    },
    "language_info": {
      "name": "python"
    }
  },
  "cells": [
    {
      "cell_type": "markdown",
      "metadata": {
        "id": "view-in-github",
        "colab_type": "text"
      },
      "source": [
        "<a href=\"https://colab.research.google.com/github/JoMihye/Python/blob/main/da13_json.ipynb\" target=\"_parent\"><img src=\"https://colab.research.google.com/assets/colab-badge.svg\" alt=\"Open In Colab\"/></a>"
      ]
    },
    {
      "cell_type": "markdown",
      "source": [
        "# JSON\n",
        "\n",
        "*  JSON(JavaScript Object Notation): 자바스크립트 객체 표현법.\n",
        "*  `{key1: value1, key2: value2, ...}` 형식의 문자열\n",
        "*  Python의 `dict` 클래스 객체의 문자열 표현과 비슷.\n",
        "*  `json` 모듈: JSON 형식 문자열(str) <---> `dict` 타입 객체(object)\n",
        "    *  `json.dumps(obj)`: Python 객체 obj를 JSON 형식의 문자열로 변환(serialization, 직렬화)해서 리턴.\n",
        "    *  `json.loads(s)`: JSON 형식의 문자열 s를 Python 객체로 변환(de-serialization, 역직렬화)해서 리턴.\n",
        "    *  `json.dump(obj, fp)`: Python 객체 obj를 문자열로 변환해서 파일 fp에 씀(write).\n",
        "    *  `json.load(fp)`: 파일 fp에서 JSON 형식의 문자열을 읽어서 Python 객체로 변환하고 리턴."
      ],
      "metadata": {
        "id": "ph33kyT0BgZp"
      }
    },
    {
      "cell_type": "markdown",
      "source": [
        "# Imports"
      ],
      "metadata": {
        "id": "VWSmT3-5D9Un"
      }
    },
    {
      "cell_type": "code",
      "execution_count": null,
      "metadata": {
        "id": "PTATau-kBa9F"
      },
      "outputs": [],
      "source": [
        "import json  # JSON 읽기/쓰기 기능을 가지고 있는 파이썬 모듈\n",
        "import numpy as np\n",
        "import pandas as pd\n",
        "import matplotlib.pyplot as plt\n",
        "import seaborn as sns"
      ]
    },
    {
      "cell_type": "markdown",
      "source": [
        "# Serialization"
      ],
      "metadata": {
        "id": "-y_BV8FlESQ_"
      }
    },
    {
      "cell_type": "code",
      "source": [
        "# 직렬화: Python 객체 ---> JSON 문자열\n",
        "person = {\n",
        "    'name': '홍길동',\n",
        "    'age': 16,\n",
        "    'phones': ['02-0000-0000', '010-1111-1111']\n",
        "}"
      ],
      "metadata": {
        "id": "DPwDVbJoEOJ_"
      },
      "execution_count": null,
      "outputs": []
    },
    {
      "cell_type": "code",
      "source": [
        "type(person)  #> dict 타입(객체)"
      ],
      "metadata": {
        "colab": {
          "base_uri": "https://localhost:8080/"
        },
        "id": "fcWFuvj4FcMe",
        "outputId": "dd837fa8-6d78-4f28-ad67-1e8a934cd8c9"
      },
      "execution_count": null,
      "outputs": [
        {
          "output_type": "execute_result",
          "data": {
            "text/plain": [
              "dict"
            ]
          },
          "metadata": {},
          "execution_count": 4
        }
      ]
    },
    {
      "cell_type": "code",
      "source": [
        "person_json = json.dumps(person)\n",
        "person_json"
      ],
      "metadata": {
        "colab": {
          "base_uri": "https://localhost:8080/",
          "height": 35
        },
        "id": "s6-vr6tjE6zR",
        "outputId": "3fb60054-53d0-4214-b3b8-77f3122a3c8a"
      },
      "execution_count": null,
      "outputs": [
        {
          "output_type": "execute_result",
          "data": {
            "text/plain": [
              "'{\"name\": \"\\\\ud64d\\\\uae38\\\\ub3d9\", \"age\": 16, \"phones\": [\"02-0000-0000\", \"010-1111-1111\"]}'"
            ],
            "application/vnd.google.colaboratory.intrinsic+json": {
              "type": "string"
            }
          },
          "metadata": {},
          "execution_count": 5
        }
      ]
    },
    {
      "cell_type": "code",
      "source": [
        "type(person_json)  #> str 타입(문자열)"
      ],
      "metadata": {
        "colab": {
          "base_uri": "https://localhost:8080/"
        },
        "id": "Qk6XQe_dFFcQ",
        "outputId": "e8c18907-ee05-485d-c7b2-2a3d32173876"
      },
      "execution_count": null,
      "outputs": [
        {
          "output_type": "execute_result",
          "data": {
            "text/plain": [
              "str"
            ]
          },
          "metadata": {},
          "execution_count": 7
        }
      ]
    },
    {
      "cell_type": "markdown",
      "source": [
        "# Deserializtion"
      ],
      "metadata": {
        "id": "R_VDhl2NGKO8"
      }
    },
    {
      "cell_type": "code",
      "source": [
        "# 역직렬화: JSON 형식의 문자열 ---> Python 객체(object)\n",
        "result = json.loads(person_json)\n",
        "result"
      ],
      "metadata": {
        "colab": {
          "base_uri": "https://localhost:8080/"
        },
        "id": "SRBxLmV1FmfZ",
        "outputId": "e0932ca7-117b-48b3-b150-c1e77243a69e"
      },
      "execution_count": null,
      "outputs": [
        {
          "output_type": "execute_result",
          "data": {
            "text/plain": [
              "{'age': 16, 'name': '홍길동', 'phones': ['02-0000-0000', '010-1111-1111']}"
            ]
          },
          "metadata": {},
          "execution_count": 8
        }
      ]
    },
    {
      "cell_type": "code",
      "source": [
        "type(result)"
      ],
      "metadata": {
        "colab": {
          "base_uri": "https://localhost:8080/"
        },
        "id": "MVMUl9mpGg2b",
        "outputId": "b4644a1f-8c31-4502-de78-9af0375444f2"
      },
      "execution_count": null,
      "outputs": [
        {
          "output_type": "execute_result",
          "data": {
            "text/plain": [
              "dict"
            ]
          },
          "metadata": {},
          "execution_count": 9
        }
      ]
    },
    {
      "cell_type": "markdown",
      "source": [
        "# JSON 파일 쓰기(write)/읽기(read)"
      ],
      "metadata": {
        "id": "n9vJkrHTMbc9"
      }
    },
    {
      "cell_type": "markdown",
      "source": [
        "*  pickle: binary(이진) 파일 읽기/쓰기\n",
        "*  json: text(텍스트) 파일 읽기/쓰기"
      ],
      "metadata": {
        "id": "NlTxABfGMfUZ"
      }
    },
    {
      "cell_type": "code",
      "source": [
        "with open('gildong.json', mode='wt') as f:  # 파일을 '텍스트 쓰기' 모드로 오픈.\n",
        "    # mode='rt' 기본값, mode='w'와 mode='wt'는 같은 의미.\n",
        "    f.write(json.dumps(person))  # person 객체를 JSON 문자열로 변환 후 파일에 씀(write).\n",
        "    # with-as 구문 종료 후에는 f.close() 자동으로 호출됨."
      ],
      "metadata": {
        "id": "wEbhuMnIGidD"
      },
      "execution_count": null,
      "outputs": []
    },
    {
      "cell_type": "code",
      "source": [
        "with open('gildong.json') as f:  # 파일을 '텍스트 읽기(rt)' 모드로 오픈.\n",
        "    # mode='rt'가 기본값이므로 생략 가능.\n",
        "    line = f.readline()  # 파일의 첫번째 줄(line)을 읽음.\n",
        "    print(line)\n",
        "    obj = json.loads(line)  # 파일에서 읽은 문자열을 객체로 변환\n",
        "    print(obj)"
      ],
      "metadata": {
        "colab": {
          "base_uri": "https://localhost:8080/"
        },
        "id": "Cxhw4N5XOD-0",
        "outputId": "4bb22320-8e79-4b5b-ee91-20a709fa4c45"
      },
      "execution_count": null,
      "outputs": [
        {
          "output_type": "stream",
          "name": "stdout",
          "text": [
            "{\"name\": \"\\ud64d\\uae38\\ub3d9\", \"age\": 16, \"phones\": [\"02-0000-0000\", \"010-1111-1111\"]}\n",
            "{'name': '홍길동', 'age': 16, 'phones': ['02-0000-0000', '010-1111-1111']}\n"
          ]
        }
      ]
    },
    {
      "cell_type": "code",
      "source": [
        "file_name = 'movies.txt'\n",
        "with open(file_name, mode='w') as f:\n",
        "    # dict 객체 생성\n",
        "    movie1 = {'mid': 1, 'title': '브로커', 'genre': 'drama'}\n",
        "    movie2 = {'mid': 2, 'title': '범죄도시2', 'genre': 'action'}\n",
        "    movie3 = {'mid': 3, 'title': '짱구는 못말려'}\n",
        "    # dict 객체 ---> JSON 문자열\n",
        "    m1_s = json.dumps(movie1)\n",
        "    m2_s = json.dumps(movie2)\n",
        "    m3_s = json.dumps(movie3)\n",
        "    # 3개의 문자열을 한 줄씩 파일에 write\n",
        "    f.write(m1_s + '\\n')\n",
        "    f.write(m2_s + '\\n')\n",
        "    f.write(m3_s + '\\n')"
      ],
      "metadata": {
        "id": "uMY9qSQZONw3"
      },
      "execution_count": null,
      "outputs": []
    },
    {
      "cell_type": "code",
      "source": [
        "# movies.txt 파일에서 한 줄씩 읽으면서, 읽은 문자열을 dict 객체로 변환하고 리스트에 추가.\n",
        "movies = []\n",
        "with open(file_name, mode='rt') as f:\n",
        "    for line in f:\n",
        "        obj = json.loads(line.strip())\n",
        "        movies.append(obj)\n",
        "\n",
        "movies"
      ],
      "metadata": {
        "colab": {
          "base_uri": "https://localhost:8080/"
        },
        "id": "pFmTZdDWQd8Z",
        "outputId": "6a56aacc-c586-4ea9-e870-d3cf100d50da"
      },
      "execution_count": null,
      "outputs": [
        {
          "output_type": "execute_result",
          "data": {
            "text/plain": [
              "[{'genre': 'drama', 'mid': 1, 'title': '브로커'},\n",
              " {'genre': 'action', 'mid': 2, 'title': '범죄도시2'},\n",
              " {'mid': 3, 'title': '짱구는 못말려'}]"
            ]
          },
          "metadata": {},
          "execution_count": 23
        }
      ]
    },
    {
      "cell_type": "code",
      "source": [
        "# list comprehension\n",
        "with open(file_name) as f:\n",
        "    movies = [json.loads(line.strip()) for line in f]\n",
        "\n",
        "movies"
      ],
      "metadata": {
        "colab": {
          "base_uri": "https://localhost:8080/"
        },
        "id": "lomxHziHSaQd",
        "outputId": "fc661a10-fb52-4741-ac93-0db42c471c6b"
      },
      "execution_count": null,
      "outputs": [
        {
          "output_type": "execute_result",
          "data": {
            "text/plain": [
              "[{'genre': 'drama', 'mid': 1, 'title': '브로커'},\n",
              " {'genre': 'action', 'mid': 2, 'title': '범죄도시2'},\n",
              " {'mid': 3, 'title': '짱구는 못말려'}]"
            ]
          },
          "metadata": {},
          "execution_count": 24
        }
      ]
    },
    {
      "cell_type": "code",
      "source": [
        "df = pd.DataFrame(movies)\n",
        "df"
      ],
      "metadata": {
        "colab": {
          "base_uri": "https://localhost:8080/",
          "height": 143
        },
        "id": "Zla1-hHCTPEG",
        "outputId": "059278e5-7006-4169-a4d8-44c25d0ed2d3"
      },
      "execution_count": null,
      "outputs": [
        {
          "output_type": "execute_result",
          "data": {
            "text/plain": [
              "   mid    title   genre\n",
              "0    1      브로커   drama\n",
              "1    2    범죄도시2  action\n",
              "2    3  짱구는 못말려     NaN"
            ],
            "text/html": [
              "\n",
              "  <div id=\"df-aac46f12-3d0a-4497-8b34-dd1a13764490\">\n",
              "    <div class=\"colab-df-container\">\n",
              "      <div>\n",
              "<style scoped>\n",
              "    .dataframe tbody tr th:only-of-type {\n",
              "        vertical-align: middle;\n",
              "    }\n",
              "\n",
              "    .dataframe tbody tr th {\n",
              "        vertical-align: top;\n",
              "    }\n",
              "\n",
              "    .dataframe thead th {\n",
              "        text-align: right;\n",
              "    }\n",
              "</style>\n",
              "<table border=\"1\" class=\"dataframe\">\n",
              "  <thead>\n",
              "    <tr style=\"text-align: right;\">\n",
              "      <th></th>\n",
              "      <th>mid</th>\n",
              "      <th>title</th>\n",
              "      <th>genre</th>\n",
              "    </tr>\n",
              "  </thead>\n",
              "  <tbody>\n",
              "    <tr>\n",
              "      <th>0</th>\n",
              "      <td>1</td>\n",
              "      <td>브로커</td>\n",
              "      <td>drama</td>\n",
              "    </tr>\n",
              "    <tr>\n",
              "      <th>1</th>\n",
              "      <td>2</td>\n",
              "      <td>범죄도시2</td>\n",
              "      <td>action</td>\n",
              "    </tr>\n",
              "    <tr>\n",
              "      <th>2</th>\n",
              "      <td>3</td>\n",
              "      <td>짱구는 못말려</td>\n",
              "      <td>NaN</td>\n",
              "    </tr>\n",
              "  </tbody>\n",
              "</table>\n",
              "</div>\n",
              "      <button class=\"colab-df-convert\" onclick=\"convertToInteractive('df-aac46f12-3d0a-4497-8b34-dd1a13764490')\"\n",
              "              title=\"Convert this dataframe to an interactive table.\"\n",
              "              style=\"display:none;\">\n",
              "        \n",
              "  <svg xmlns=\"http://www.w3.org/2000/svg\" height=\"24px\"viewBox=\"0 0 24 24\"\n",
              "       width=\"24px\">\n",
              "    <path d=\"M0 0h24v24H0V0z\" fill=\"none\"/>\n",
              "    <path d=\"M18.56 5.44l.94 2.06.94-2.06 2.06-.94-2.06-.94-.94-2.06-.94 2.06-2.06.94zm-11 1L8.5 8.5l.94-2.06 2.06-.94-2.06-.94L8.5 2.5l-.94 2.06-2.06.94zm10 10l.94 2.06.94-2.06 2.06-.94-2.06-.94-.94-2.06-.94 2.06-2.06.94z\"/><path d=\"M17.41 7.96l-1.37-1.37c-.4-.4-.92-.59-1.43-.59-.52 0-1.04.2-1.43.59L10.3 9.45l-7.72 7.72c-.78.78-.78 2.05 0 2.83L4 21.41c.39.39.9.59 1.41.59.51 0 1.02-.2 1.41-.59l7.78-7.78 2.81-2.81c.8-.78.8-2.07 0-2.86zM5.41 20L4 18.59l7.72-7.72 1.47 1.35L5.41 20z\"/>\n",
              "  </svg>\n",
              "      </button>\n",
              "      \n",
              "  <style>\n",
              "    .colab-df-container {\n",
              "      display:flex;\n",
              "      flex-wrap:wrap;\n",
              "      gap: 12px;\n",
              "    }\n",
              "\n",
              "    .colab-df-convert {\n",
              "      background-color: #E8F0FE;\n",
              "      border: none;\n",
              "      border-radius: 50%;\n",
              "      cursor: pointer;\n",
              "      display: none;\n",
              "      fill: #1967D2;\n",
              "      height: 32px;\n",
              "      padding: 0 0 0 0;\n",
              "      width: 32px;\n",
              "    }\n",
              "\n",
              "    .colab-df-convert:hover {\n",
              "      background-color: #E2EBFA;\n",
              "      box-shadow: 0px 1px 2px rgba(60, 64, 67, 0.3), 0px 1px 3px 1px rgba(60, 64, 67, 0.15);\n",
              "      fill: #174EA6;\n",
              "    }\n",
              "\n",
              "    [theme=dark] .colab-df-convert {\n",
              "      background-color: #3B4455;\n",
              "      fill: #D2E3FC;\n",
              "    }\n",
              "\n",
              "    [theme=dark] .colab-df-convert:hover {\n",
              "      background-color: #434B5C;\n",
              "      box-shadow: 0px 1px 3px 1px rgba(0, 0, 0, 0.15);\n",
              "      filter: drop-shadow(0px 1px 2px rgba(0, 0, 0, 0.3));\n",
              "      fill: #FFFFFF;\n",
              "    }\n",
              "  </style>\n",
              "\n",
              "      <script>\n",
              "        const buttonEl =\n",
              "          document.querySelector('#df-aac46f12-3d0a-4497-8b34-dd1a13764490 button.colab-df-convert');\n",
              "        buttonEl.style.display =\n",
              "          google.colab.kernel.accessAllowed ? 'block' : 'none';\n",
              "\n",
              "        async function convertToInteractive(key) {\n",
              "          const element = document.querySelector('#df-aac46f12-3d0a-4497-8b34-dd1a13764490');\n",
              "          const dataTable =\n",
              "            await google.colab.kernel.invokeFunction('convertToInteractive',\n",
              "                                                     [key], {});\n",
              "          if (!dataTable) return;\n",
              "\n",
              "          const docLinkHtml = 'Like what you see? Visit the ' +\n",
              "            '<a target=\"_blank\" href=https://colab.research.google.com/notebooks/data_table.ipynb>data table notebook</a>'\n",
              "            + ' to learn more about interactive tables.';\n",
              "          element.innerHTML = '';\n",
              "          dataTable['output_type'] = 'display_data';\n",
              "          await google.colab.output.renderOutput(dataTable, element);\n",
              "          const docLink = document.createElement('div');\n",
              "          docLink.innerHTML = docLinkHtml;\n",
              "          element.appendChild(docLink);\n",
              "        }\n",
              "      </script>\n",
              "    </div>\n",
              "  </div>\n",
              "  "
            ]
          },
          "metadata": {},
          "execution_count": 25
        }
      ]
    },
    {
      "cell_type": "markdown",
      "source": [
        "# bitly 데이터 셋"
      ],
      "metadata": {
        "id": "EIUSokxrnvj2"
      }
    },
    {
      "cell_type": "markdown",
      "source": [
        "*  https://github.com/wesm/pydata-book/raw/2nd-edition/datasets/bitly_usagov/example.txt 파일을 다운로드.\n",
        "    *  bit.ly 서비스를 이용해서 usa.gov 사이트에 접속한 클라이언트(브라우저)들의 로그 정보를 저장한 파일.\n",
        "*  다운로드한 파일을 Google Drive 또는 Colab 활성 세션에 업로드.\n",
        "*  업로드한 파일을 읽기 모드로 오픈.\n",
        "*  파일의 첫번째 줄부터 마지막 줄까지 한 줄씩 읽으면서 반복.\n",
        "    *  읽은 문자열(json-format)을 dict 타입 객체로 변환하고 리스트에 추가.\n",
        "*  파일 내용이 모두 append가 끝난 list를 DataFrame으로 변환.\n",
        "*  DataFrame 확인."
      ],
      "metadata": {
        "id": "K_cxMaEfonqN"
      }
    },
    {
      "cell_type": "code",
      "source": [
        "# file_path = '/content/example.txt'  # 절대 경로\n",
        "with open('example.txt') as file:\n",
        "    records = [json.loads(s.strip()) for s in file]"
      ],
      "metadata": {
        "id": "5fIz3qbXTjdn"
      },
      "execution_count": null,
      "outputs": []
    },
    {
      "cell_type": "code",
      "source": [
        "len(records)  #> 3,560개의 dict 객체들을 저장하는 리스트"
      ],
      "metadata": {
        "colab": {
          "base_uri": "https://localhost:8080/"
        },
        "id": "gbl-2xm8sU5f",
        "outputId": "294243dd-f385-4197-efc8-16f08fedf232"
      },
      "execution_count": null,
      "outputs": [
        {
          "output_type": "execute_result",
          "data": {
            "text/plain": [
              "3560"
            ]
          },
          "metadata": {},
          "execution_count": 5
        }
      ]
    },
    {
      "cell_type": "code",
      "source": [
        "# 리스트의 첫번째 원소\n",
        "records[0]"
      ],
      "metadata": {
        "colab": {
          "base_uri": "https://localhost:8080/"
        },
        "id": "HPxVGitW1Ep0",
        "outputId": "8198ff7a-e7c7-4613-e8c5-ee8de708cc23"
      },
      "execution_count": null,
      "outputs": [
        {
          "output_type": "execute_result",
          "data": {
            "text/plain": [
              "{'a': 'Mozilla/5.0 (Windows NT 6.1; WOW64) AppleWebKit/535.11 (KHTML, like Gecko) Chrome/17.0.963.78 Safari/535.11',\n",
              " 'al': 'en-US,en;q=0.8',\n",
              " 'c': 'US',\n",
              " 'cy': 'Danvers',\n",
              " 'g': 'A6qOVH',\n",
              " 'gr': 'MA',\n",
              " 'h': 'wfLQtf',\n",
              " 'hc': 1331822918,\n",
              " 'hh': '1.usa.gov',\n",
              " 'l': 'orofrog',\n",
              " 'll': [42.576698, -70.954903],\n",
              " 'nk': 1,\n",
              " 'r': 'http://www.facebook.com/l/7AQEFzjSi/1.usa.gov/wfLQtf',\n",
              " 't': 1331923247,\n",
              " 'tz': 'America/New_York',\n",
              " 'u': 'http://www.ncbi.nlm.nih.gov/pubmed/22415991'}"
            ]
          },
          "metadata": {},
          "execution_count": 6
        }
      ]
    },
    {
      "cell_type": "code",
      "source": [
        "# 리스트의 마지막 원소\n",
        "records[-1]"
      ],
      "metadata": {
        "colab": {
          "base_uri": "https://localhost:8080/"
        },
        "id": "J8ZGFSINiK-j",
        "outputId": "53d7b223-eb7c-47ae-9ccd-c53d225818d9"
      },
      "execution_count": null,
      "outputs": [
        {
          "output_type": "execute_result",
          "data": {
            "text/plain": [
              "{'a': 'Mozilla/4.0 (compatible; MSIE 8.0; Windows NT 6.1; Trident/4.0; SLCC2; .NET CLR 2.0.50727; .NET CLR 3.5.30729; .NET CLR 3.0.30729; Media Center PC 6.0; MS-RTC LM 8; .NET4.0C; .NET4.0E; .NET CLR 1.1.4322)',\n",
              " 'al': 'en-US',\n",
              " 'c': 'US',\n",
              " 'cy': 'Mc Lean',\n",
              " 'g': 'qxKrTK',\n",
              " 'gr': 'VA',\n",
              " 'h': 'qxKrTK',\n",
              " 'hc': 1312897670,\n",
              " 'hh': '1.usa.gov',\n",
              " 'l': 'bitly',\n",
              " 'll': [38.935799, -77.162102],\n",
              " 'nk': 0,\n",
              " 'r': 'http://t.co/OEEEvwjU',\n",
              " 't': 1331926849,\n",
              " 'tz': 'America/New_York',\n",
              " 'u': 'http://herndon-va.gov/Content/public_safety/Public_Information/weekly_reports.aspx?cnlid=1736'}"
            ]
          },
          "metadata": {},
          "execution_count": 7
        }
      ]
    },
    {
      "cell_type": "code",
      "source": [
        "df = pd.DataFrame(records)"
      ],
      "metadata": {
        "id": "pXhtncEU1HFs"
      },
      "execution_count": null,
      "outputs": []
    },
    {
      "cell_type": "code",
      "source": [
        "df.head()"
      ],
      "metadata": {
        "colab": {
          "base_uri": "https://localhost:8080/",
          "height": 392
        },
        "id": "WTCWHcj01Lwm",
        "outputId": "4e53b537-5907-474a-c9c2-9b44f9a0574a"
      },
      "execution_count": null,
      "outputs": [
        {
          "output_type": "execute_result",
          "data": {
            "text/plain": [
              "                                                   a   c   nk  \\\n",
              "0  Mozilla/5.0 (Windows NT 6.1; WOW64) AppleWebKi...  US  1.0   \n",
              "1                             GoogleMaps/RochesterNY  US  0.0   \n",
              "2  Mozilla/4.0 (compatible; MSIE 8.0; Windows NT ...  US  1.0   \n",
              "3  Mozilla/5.0 (Macintosh; Intel Mac OS X 10_6_8)...  BR  0.0   \n",
              "4  Mozilla/5.0 (Windows NT 6.1; WOW64) AppleWebKi...  US  0.0   \n",
              "\n",
              "                  tz  gr       g       h         l              al         hh  \\\n",
              "0   America/New_York  MA  A6qOVH  wfLQtf   orofrog  en-US,en;q=0.8  1.usa.gov   \n",
              "1     America/Denver  UT  mwszkS  mwszkS     bitly             NaN       j.mp   \n",
              "2   America/New_York  DC  xxr3Qb  xxr3Qb     bitly           en-US  1.usa.gov   \n",
              "3  America/Sao_Paulo  27  zCaLwp  zUtuOu  alelex88           pt-br  1.usa.gov   \n",
              "4   America/New_York  MA  9b6kNl  9b6kNl     bitly  en-US,en;q=0.8     bit.ly   \n",
              "\n",
              "                                                   r  \\\n",
              "0  http://www.facebook.com/l/7AQEFzjSi/1.usa.gov/...   \n",
              "1                           http://www.AwareMap.com/   \n",
              "2                               http://t.co/03elZC4Q   \n",
              "3                                             direct   \n",
              "4                http://www.shrewsbury-ma.gov/selco/   \n",
              "\n",
              "                                                   u             t  \\\n",
              "0        http://www.ncbi.nlm.nih.gov/pubmed/22415991  1.331923e+09   \n",
              "1        http://www.monroecounty.gov/etc/911/rss.php  1.331923e+09   \n",
              "2  http://boxer.senate.gov/en/press/releases/0316...  1.331923e+09   \n",
              "3            http://apod.nasa.gov/apod/ap120312.html  1.331923e+09   \n",
              "4  http://www.shrewsbury-ma.gov/egov/gallery/1341...  1.331923e+09   \n",
              "\n",
              "             hc          cy                        ll  _heartbeat_   kw  \n",
              "0  1.331823e+09     Danvers   [42.576698, -70.954903]          NaN  NaN  \n",
              "1  1.308262e+09       Provo  [40.218102, -111.613297]          NaN  NaN  \n",
              "2  1.331920e+09  Washington     [38.9007, -77.043098]          NaN  NaN  \n",
              "3  1.331923e+09        Braz  [-23.549999, -46.616699]          NaN  NaN  \n",
              "4  1.273672e+09  Shrewsbury   [42.286499, -71.714699]          NaN  NaN  "
            ],
            "text/html": [
              "\n",
              "  <div id=\"df-1c431cd3-35d8-4834-a9eb-b59b88792408\">\n",
              "    <div class=\"colab-df-container\">\n",
              "      <div>\n",
              "<style scoped>\n",
              "    .dataframe tbody tr th:only-of-type {\n",
              "        vertical-align: middle;\n",
              "    }\n",
              "\n",
              "    .dataframe tbody tr th {\n",
              "        vertical-align: top;\n",
              "    }\n",
              "\n",
              "    .dataframe thead th {\n",
              "        text-align: right;\n",
              "    }\n",
              "</style>\n",
              "<table border=\"1\" class=\"dataframe\">\n",
              "  <thead>\n",
              "    <tr style=\"text-align: right;\">\n",
              "      <th></th>\n",
              "      <th>a</th>\n",
              "      <th>c</th>\n",
              "      <th>nk</th>\n",
              "      <th>tz</th>\n",
              "      <th>gr</th>\n",
              "      <th>g</th>\n",
              "      <th>h</th>\n",
              "      <th>l</th>\n",
              "      <th>al</th>\n",
              "      <th>hh</th>\n",
              "      <th>r</th>\n",
              "      <th>u</th>\n",
              "      <th>t</th>\n",
              "      <th>hc</th>\n",
              "      <th>cy</th>\n",
              "      <th>ll</th>\n",
              "      <th>_heartbeat_</th>\n",
              "      <th>kw</th>\n",
              "    </tr>\n",
              "  </thead>\n",
              "  <tbody>\n",
              "    <tr>\n",
              "      <th>0</th>\n",
              "      <td>Mozilla/5.0 (Windows NT 6.1; WOW64) AppleWebKi...</td>\n",
              "      <td>US</td>\n",
              "      <td>1.0</td>\n",
              "      <td>America/New_York</td>\n",
              "      <td>MA</td>\n",
              "      <td>A6qOVH</td>\n",
              "      <td>wfLQtf</td>\n",
              "      <td>orofrog</td>\n",
              "      <td>en-US,en;q=0.8</td>\n",
              "      <td>1.usa.gov</td>\n",
              "      <td>http://www.facebook.com/l/7AQEFzjSi/1.usa.gov/...</td>\n",
              "      <td>http://www.ncbi.nlm.nih.gov/pubmed/22415991</td>\n",
              "      <td>1.331923e+09</td>\n",
              "      <td>1.331823e+09</td>\n",
              "      <td>Danvers</td>\n",
              "      <td>[42.576698, -70.954903]</td>\n",
              "      <td>NaN</td>\n",
              "      <td>NaN</td>\n",
              "    </tr>\n",
              "    <tr>\n",
              "      <th>1</th>\n",
              "      <td>GoogleMaps/RochesterNY</td>\n",
              "      <td>US</td>\n",
              "      <td>0.0</td>\n",
              "      <td>America/Denver</td>\n",
              "      <td>UT</td>\n",
              "      <td>mwszkS</td>\n",
              "      <td>mwszkS</td>\n",
              "      <td>bitly</td>\n",
              "      <td>NaN</td>\n",
              "      <td>j.mp</td>\n",
              "      <td>http://www.AwareMap.com/</td>\n",
              "      <td>http://www.monroecounty.gov/etc/911/rss.php</td>\n",
              "      <td>1.331923e+09</td>\n",
              "      <td>1.308262e+09</td>\n",
              "      <td>Provo</td>\n",
              "      <td>[40.218102, -111.613297]</td>\n",
              "      <td>NaN</td>\n",
              "      <td>NaN</td>\n",
              "    </tr>\n",
              "    <tr>\n",
              "      <th>2</th>\n",
              "      <td>Mozilla/4.0 (compatible; MSIE 8.0; Windows NT ...</td>\n",
              "      <td>US</td>\n",
              "      <td>1.0</td>\n",
              "      <td>America/New_York</td>\n",
              "      <td>DC</td>\n",
              "      <td>xxr3Qb</td>\n",
              "      <td>xxr3Qb</td>\n",
              "      <td>bitly</td>\n",
              "      <td>en-US</td>\n",
              "      <td>1.usa.gov</td>\n",
              "      <td>http://t.co/03elZC4Q</td>\n",
              "      <td>http://boxer.senate.gov/en/press/releases/0316...</td>\n",
              "      <td>1.331923e+09</td>\n",
              "      <td>1.331920e+09</td>\n",
              "      <td>Washington</td>\n",
              "      <td>[38.9007, -77.043098]</td>\n",
              "      <td>NaN</td>\n",
              "      <td>NaN</td>\n",
              "    </tr>\n",
              "    <tr>\n",
              "      <th>3</th>\n",
              "      <td>Mozilla/5.0 (Macintosh; Intel Mac OS X 10_6_8)...</td>\n",
              "      <td>BR</td>\n",
              "      <td>0.0</td>\n",
              "      <td>America/Sao_Paulo</td>\n",
              "      <td>27</td>\n",
              "      <td>zCaLwp</td>\n",
              "      <td>zUtuOu</td>\n",
              "      <td>alelex88</td>\n",
              "      <td>pt-br</td>\n",
              "      <td>1.usa.gov</td>\n",
              "      <td>direct</td>\n",
              "      <td>http://apod.nasa.gov/apod/ap120312.html</td>\n",
              "      <td>1.331923e+09</td>\n",
              "      <td>1.331923e+09</td>\n",
              "      <td>Braz</td>\n",
              "      <td>[-23.549999, -46.616699]</td>\n",
              "      <td>NaN</td>\n",
              "      <td>NaN</td>\n",
              "    </tr>\n",
              "    <tr>\n",
              "      <th>4</th>\n",
              "      <td>Mozilla/5.0 (Windows NT 6.1; WOW64) AppleWebKi...</td>\n",
              "      <td>US</td>\n",
              "      <td>0.0</td>\n",
              "      <td>America/New_York</td>\n",
              "      <td>MA</td>\n",
              "      <td>9b6kNl</td>\n",
              "      <td>9b6kNl</td>\n",
              "      <td>bitly</td>\n",
              "      <td>en-US,en;q=0.8</td>\n",
              "      <td>bit.ly</td>\n",
              "      <td>http://www.shrewsbury-ma.gov/selco/</td>\n",
              "      <td>http://www.shrewsbury-ma.gov/egov/gallery/1341...</td>\n",
              "      <td>1.331923e+09</td>\n",
              "      <td>1.273672e+09</td>\n",
              "      <td>Shrewsbury</td>\n",
              "      <td>[42.286499, -71.714699]</td>\n",
              "      <td>NaN</td>\n",
              "      <td>NaN</td>\n",
              "    </tr>\n",
              "  </tbody>\n",
              "</table>\n",
              "</div>\n",
              "      <button class=\"colab-df-convert\" onclick=\"convertToInteractive('df-1c431cd3-35d8-4834-a9eb-b59b88792408')\"\n",
              "              title=\"Convert this dataframe to an interactive table.\"\n",
              "              style=\"display:none;\">\n",
              "        \n",
              "  <svg xmlns=\"http://www.w3.org/2000/svg\" height=\"24px\"viewBox=\"0 0 24 24\"\n",
              "       width=\"24px\">\n",
              "    <path d=\"M0 0h24v24H0V0z\" fill=\"none\"/>\n",
              "    <path d=\"M18.56 5.44l.94 2.06.94-2.06 2.06-.94-2.06-.94-.94-2.06-.94 2.06-2.06.94zm-11 1L8.5 8.5l.94-2.06 2.06-.94-2.06-.94L8.5 2.5l-.94 2.06-2.06.94zm10 10l.94 2.06.94-2.06 2.06-.94-2.06-.94-.94-2.06-.94 2.06-2.06.94z\"/><path d=\"M17.41 7.96l-1.37-1.37c-.4-.4-.92-.59-1.43-.59-.52 0-1.04.2-1.43.59L10.3 9.45l-7.72 7.72c-.78.78-.78 2.05 0 2.83L4 21.41c.39.39.9.59 1.41.59.51 0 1.02-.2 1.41-.59l7.78-7.78 2.81-2.81c.8-.78.8-2.07 0-2.86zM5.41 20L4 18.59l7.72-7.72 1.47 1.35L5.41 20z\"/>\n",
              "  </svg>\n",
              "      </button>\n",
              "      \n",
              "  <style>\n",
              "    .colab-df-container {\n",
              "      display:flex;\n",
              "      flex-wrap:wrap;\n",
              "      gap: 12px;\n",
              "    }\n",
              "\n",
              "    .colab-df-convert {\n",
              "      background-color: #E8F0FE;\n",
              "      border: none;\n",
              "      border-radius: 50%;\n",
              "      cursor: pointer;\n",
              "      display: none;\n",
              "      fill: #1967D2;\n",
              "      height: 32px;\n",
              "      padding: 0 0 0 0;\n",
              "      width: 32px;\n",
              "    }\n",
              "\n",
              "    .colab-df-convert:hover {\n",
              "      background-color: #E2EBFA;\n",
              "      box-shadow: 0px 1px 2px rgba(60, 64, 67, 0.3), 0px 1px 3px 1px rgba(60, 64, 67, 0.15);\n",
              "      fill: #174EA6;\n",
              "    }\n",
              "\n",
              "    [theme=dark] .colab-df-convert {\n",
              "      background-color: #3B4455;\n",
              "      fill: #D2E3FC;\n",
              "    }\n",
              "\n",
              "    [theme=dark] .colab-df-convert:hover {\n",
              "      background-color: #434B5C;\n",
              "      box-shadow: 0px 1px 3px 1px rgba(0, 0, 0, 0.15);\n",
              "      filter: drop-shadow(0px 1px 2px rgba(0, 0, 0, 0.3));\n",
              "      fill: #FFFFFF;\n",
              "    }\n",
              "  </style>\n",
              "\n",
              "      <script>\n",
              "        const buttonEl =\n",
              "          document.querySelector('#df-1c431cd3-35d8-4834-a9eb-b59b88792408 button.colab-df-convert');\n",
              "        buttonEl.style.display =\n",
              "          google.colab.kernel.accessAllowed ? 'block' : 'none';\n",
              "\n",
              "        async function convertToInteractive(key) {\n",
              "          const element = document.querySelector('#df-1c431cd3-35d8-4834-a9eb-b59b88792408');\n",
              "          const dataTable =\n",
              "            await google.colab.kernel.invokeFunction('convertToInteractive',\n",
              "                                                     [key], {});\n",
              "          if (!dataTable) return;\n",
              "\n",
              "          const docLinkHtml = 'Like what you see? Visit the ' +\n",
              "            '<a target=\"_blank\" href=https://colab.research.google.com/notebooks/data_table.ipynb>data table notebook</a>'\n",
              "            + ' to learn more about interactive tables.';\n",
              "          element.innerHTML = '';\n",
              "          dataTable['output_type'] = 'display_data';\n",
              "          await google.colab.output.renderOutput(dataTable, element);\n",
              "          const docLink = document.createElement('div');\n",
              "          docLink.innerHTML = docLinkHtml;\n",
              "          element.appendChild(docLink);\n",
              "        }\n",
              "      </script>\n",
              "    </div>\n",
              "  </div>\n",
              "  "
            ]
          },
          "metadata": {},
          "execution_count": 10
        }
      ]
    },
    {
      "cell_type": "code",
      "source": [
        "df.info()\n",
        "#> 반정형 데이터(json)를 정형 데이터(DataFrame)으로 변환하게 되면 보통 NA들이 많이 생기게 됨."
      ],
      "metadata": {
        "colab": {
          "base_uri": "https://localhost:8080/"
        },
        "id": "a9ZXJzBpiaZQ",
        "outputId": "c1a24925-e62e-485b-ea05-57deb6b01516"
      },
      "execution_count": null,
      "outputs": [
        {
          "output_type": "stream",
          "name": "stdout",
          "text": [
            "<class 'pandas.core.frame.DataFrame'>\n",
            "RangeIndex: 3560 entries, 0 to 3559\n",
            "Data columns (total 18 columns):\n",
            " #   Column       Non-Null Count  Dtype  \n",
            "---  ------       --------------  -----  \n",
            " 0   a            3440 non-null   object \n",
            " 1   c            2919 non-null   object \n",
            " 2   nk           3440 non-null   float64\n",
            " 3   tz           3440 non-null   object \n",
            " 4   gr           2919 non-null   object \n",
            " 5   g            3440 non-null   object \n",
            " 6   h            3440 non-null   object \n",
            " 7   l            3440 non-null   object \n",
            " 8   al           3094 non-null   object \n",
            " 9   hh           3440 non-null   object \n",
            " 10  r            3440 non-null   object \n",
            " 11  u            3440 non-null   object \n",
            " 12  t            3440 non-null   float64\n",
            " 13  hc           3440 non-null   float64\n",
            " 14  cy           2919 non-null   object \n",
            " 15  ll           2919 non-null   object \n",
            " 16  _heartbeat_  120 non-null    float64\n",
            " 17  kw           93 non-null     object \n",
            "dtypes: float64(4), object(14)\n",
            "memory usage: 500.8+ KB\n"
          ]
        }
      ]
    },
    {
      "cell_type": "markdown",
      "source": [
        "## 사용자 접속 지역(시간대,tz) 분석\n",
        "\n",
        "*  사용자가 가장 많이 접속하는 시간대 지역"
      ],
      "metadata": {
        "id": "PtDZXOIx1wz0"
      }
    },
    {
      "cell_type": "code",
      "source": [
        "df['tz']"
      ],
      "metadata": {
        "colab": {
          "base_uri": "https://localhost:8080/"
        },
        "id": "-bUr3tgd1M1X",
        "outputId": "de820ebb-cd60-417d-f053-fb15b3a4c2f0"
      },
      "execution_count": null,
      "outputs": [
        {
          "output_type": "execute_result",
          "data": {
            "text/plain": [
              "0          America/New_York\n",
              "1            America/Denver\n",
              "2          America/New_York\n",
              "3         America/Sao_Paulo\n",
              "4          America/New_York\n",
              "               ...         \n",
              "3555       America/New_York\n",
              "3556        America/Chicago\n",
              "3557         America/Denver\n",
              "3558    America/Los_Angeles\n",
              "3559       America/New_York\n",
              "Name: tz, Length: 3560, dtype: object"
            ]
          },
          "metadata": {},
          "execution_count": 12
        }
      ]
    },
    {
      "cell_type": "code",
      "source": [
        "df['tz'].value_counts()"
      ],
      "metadata": {
        "colab": {
          "base_uri": "https://localhost:8080/"
        },
        "id": "bgmYS7hR11Jy",
        "outputId": "17299a5a-e13a-4125-843f-4fbb7b51cddc"
      },
      "execution_count": null,
      "outputs": [
        {
          "output_type": "execute_result",
          "data": {
            "text/plain": [
              "America/New_York        1251\n",
              "                         521\n",
              "America/Chicago          400\n",
              "America/Los_Angeles      382\n",
              "America/Denver           191\n",
              "                        ... \n",
              "Europe/Uzhgorod            1\n",
              "Australia/Queensland       1\n",
              "Europe/Sofia               1\n",
              "America/Costa_Rica         1\n",
              "America/Tegucigalpa        1\n",
              "Name: tz, Length: 97, dtype: int64"
            ]
          },
          "metadata": {},
          "execution_count": 13
        }
      ]
    },
    {
      "cell_type": "code",
      "source": [
        "# 데이터 프레임의 복사본을 생성\n",
        "df_clean = df.copy()"
      ],
      "metadata": {
        "id": "fJQFsV8RiyhK"
      },
      "execution_count": null,
      "outputs": []
    },
    {
      "cell_type": "code",
      "source": [
        "# tz 컬럼의 NA 또는 NaN을 'Missing' 문자열로 대체.\n",
        "df_clean['tz'] = df_clean['tz'].fillna('Missing')"
      ],
      "metadata": {
        "id": "GzTkvCn5izrj"
      },
      "execution_count": null,
      "outputs": []
    },
    {
      "cell_type": "code",
      "source": [
        "df_clean['tz'].value_counts()"
      ],
      "metadata": {
        "colab": {
          "base_uri": "https://localhost:8080/"
        },
        "id": "BiVxGO_ui1Pb",
        "outputId": "dc76a3ba-3206-45ae-c6e2-90b2167f2035"
      },
      "execution_count": null,
      "outputs": [
        {
          "output_type": "execute_result",
          "data": {
            "text/plain": [
              "America/New_York        1251\n",
              "                         521\n",
              "America/Chicago          400\n",
              "America/Los_Angeles      382\n",
              "America/Denver           191\n",
              "                        ... \n",
              "Europe/Uzhgorod            1\n",
              "Australia/Queensland       1\n",
              "Europe/Sofia               1\n",
              "America/Costa_Rica         1\n",
              "America/Tegucigalpa        1\n",
              "Name: tz, Length: 98, dtype: int64"
            ]
          },
          "metadata": {},
          "execution_count": 16
        }
      ]
    },
    {
      "cell_type": "code",
      "source": [
        "# tz 컬럼의 값이 빈 문자열('')인 경우 'Unknow' 문자열로 대체.\n",
        "df_clean.loc[df_clean['tz'] == '', 'tz'] = 'Unknown'"
      ],
      "metadata": {
        "id": "Zoic0iZdi51m"
      },
      "execution_count": null,
      "outputs": []
    },
    {
      "cell_type": "code",
      "source": [
        "df_clean['tz'].value_counts()"
      ],
      "metadata": {
        "colab": {
          "base_uri": "https://localhost:8080/"
        },
        "id": "_FmiOv9Ii7Ie",
        "outputId": "5c23c441-4679-4883-daa8-3a6c071667bf"
      },
      "execution_count": null,
      "outputs": [
        {
          "output_type": "execute_result",
          "data": {
            "text/plain": [
              "America/New_York        1251\n",
              "Unknown                  521\n",
              "America/Chicago          400\n",
              "America/Los_Angeles      382\n",
              "America/Denver           191\n",
              "                        ... \n",
              "Europe/Uzhgorod            1\n",
              "Australia/Queensland       1\n",
              "Europe/Sofia               1\n",
              "America/Costa_Rica         1\n",
              "America/Tegucigalpa        1\n",
              "Name: tz, Length: 98, dtype: int64"
            ]
          },
          "metadata": {},
          "execution_count": 18
        }
      ]
    },
    {
      "cell_type": "code",
      "source": [
        "df_clean.info()"
      ],
      "metadata": {
        "colab": {
          "base_uri": "https://localhost:8080/"
        },
        "id": "KLOrl4Rwi7--",
        "outputId": "e0df9d26-6cca-4d54-bbcf-09d93fbb0cd4"
      },
      "execution_count": null,
      "outputs": [
        {
          "output_type": "stream",
          "name": "stdout",
          "text": [
            "<class 'pandas.core.frame.DataFrame'>\n",
            "RangeIndex: 3560 entries, 0 to 3559\n",
            "Data columns (total 18 columns):\n",
            " #   Column       Non-Null Count  Dtype  \n",
            "---  ------       --------------  -----  \n",
            " 0   a            3440 non-null   object \n",
            " 1   c            2919 non-null   object \n",
            " 2   nk           3440 non-null   float64\n",
            " 3   tz           3560 non-null   object \n",
            " 4   gr           2919 non-null   object \n",
            " 5   g            3440 non-null   object \n",
            " 6   h            3440 non-null   object \n",
            " 7   l            3440 non-null   object \n",
            " 8   al           3094 non-null   object \n",
            " 9   hh           3440 non-null   object \n",
            " 10  r            3440 non-null   object \n",
            " 11  u            3440 non-null   object \n",
            " 12  t            3440 non-null   float64\n",
            " 13  hc           3440 non-null   float64\n",
            " 14  cy           2919 non-null   object \n",
            " 15  ll           2919 non-null   object \n",
            " 16  _heartbeat_  120 non-null    float64\n",
            " 17  kw           93 non-null     object \n",
            "dtypes: float64(4), object(14)\n",
            "memory usage: 500.8+ KB\n"
          ]
        }
      ]
    },
    {
      "cell_type": "code",
      "source": [
        "# 사용자들의 접속이 가장 많은 상위 10개 지역, 시각화\n",
        "tz_top10 = df_clean['tz'].value_counts().head(10)\n",
        "tz_top10"
      ],
      "metadata": {
        "colab": {
          "base_uri": "https://localhost:8080/"
        },
        "id": "-XMJbCShi84P",
        "outputId": "93473d7d-aa95-4eb8-a0fc-55d39139d43e"
      },
      "execution_count": null,
      "outputs": [
        {
          "output_type": "execute_result",
          "data": {
            "text/plain": [
              "America/New_York       1251\n",
              "Unknown                 521\n",
              "America/Chicago         400\n",
              "America/Los_Angeles     382\n",
              "America/Denver          191\n",
              "Missing                 120\n",
              "Europe/London            74\n",
              "Asia/Tokyo               37\n",
              "Pacific/Honolulu         36\n",
              "Europe/Madrid            35\n",
              "Name: tz, dtype: int64"
            ]
          },
          "metadata": {},
          "execution_count": 20
        }
      ]
    },
    {
      "cell_type": "code",
      "source": [
        "sns.barplot(x=tz_top10.values, y=tz_top10.index)\n",
        "plt.show()"
      ],
      "metadata": {
        "colab": {
          "base_uri": "https://localhost:8080/",
          "height": 265
        },
        "id": "nNiNzlAEi94Q",
        "outputId": "bf0cd423-0bc9-48c0-a07c-bc99b959ce47"
      },
      "execution_count": null,
      "outputs": [
        {
          "output_type": "display_data",
          "data": {
            "text/plain": [
              "<Figure size 432x288 with 1 Axes>"
            ],
            "image/png": "[encoded data removed]"
          },
          "metadata": {
            "needs_background": "light"
          }
        }
      ]
    },
    {
      "cell_type": "code",
      "source": [
        "# 한국 timezone Asia/Seoul\n",
        "df_clean[df_clean['tz'].str.lower().str.contains('seoul')]"
      ],
      "metadata": {
        "colab": {
          "base_uri": "https://localhost:8080/",
          "height": 444
        },
        "id": "bzKlY-9Mi-w4",
        "outputId": "d0b2c907-334e-427c-ff89-f8be490f6b56"
      },
      "execution_count": null,
      "outputs": [
        {
          "output_type": "execute_result",
          "data": {
            "text/plain": [
              "                                                      a   c   nk          tz  \\\n",
              "1428  Mozilla/5.0 (Windows NT 5.1) AppleWebKit/535.1...  KR  1.0  Asia/Seoul   \n",
              "3154  Mozilla/5.0 (iPad; U; CPU iPhone OS 5_0_1 like...  KR  0.0  Asia/Seoul   \n",
              "3175  Mozilla/5.0 (iPad; U; CPU iPhone OS 5_0_1 like...  KR  1.0  Asia/Seoul   \n",
              "3496  Mozilla/5.0 (iPhone; CPU iPhone OS 5_0_1 like ...  KR  0.0  Asia/Seoul   \n",
              "3506  Mozilla/5.0 (iPhone; CPU iPhone OS 5_0_1 like ...  KR  0.0  Asia/Seoul   \n",
              "\n",
              "      gr       g       h         l              al         hh  \\\n",
              "1428  11  y7mqmw  w41aUb   rebroth  en-US,en;q=0.8  1.usa.gov   \n",
              "3154  11  wcndER  zkpJBR  bnjacobs           ko-kr  1.usa.gov   \n",
              "3175  11  wcndER  zkpJBR  bnjacobs           ko-kr  1.usa.gov   \n",
              "3496  11  wQacbF  AsWr9f   addthis           en-us  1.usa.gov   \n",
              "3506  11  wQacbF  AsWr9f   addthis           en-us  1.usa.gov   \n",
              "\n",
              "                                                      r  \\\n",
              "1428                               http://t.co/l16apDbA   \n",
              "3154  http://m.facebook.com/l.php?u=http%3A%2F%2F1.u...   \n",
              "3175  http://m.facebook.com/l.php?u=http%3A%2F%2F1.u...   \n",
              "3496  https://twitter.com/whitehouse/status/18067782...   \n",
              "3506                                             direct   \n",
              "\n",
              "                                                      u             t  \\\n",
              "1428            http://apod.nasa.gov/apod/ap120314.html  1.331925e+09   \n",
              "3154  http://www.nasa.gov/mission_pages/nustar/main/...  1.331926e+09   \n",
              "3175  http://www.nasa.gov/mission_pages/nustar/main/...  1.331926e+09   \n",
              "3496  http://www.whitehouse.gov/energy/gasprices#.T2...  1.331927e+09   \n",
              "3506  http://www.whitehouse.gov/energy/gasprices#.T2...  1.331927e+09   \n",
              "\n",
              "                hc     cy                       ll  _heartbeat_   kw  \n",
              "1428  1.331739e+09  Seoul  [37.566399, 126.999702]          NaN  NaN  \n",
              "3154  1.331923e+09  Seoul  [37.566399, 126.999702]          NaN  NaN  \n",
              "3175  1.331923e+09  Seoul  [37.566399, 126.999702]          NaN  NaN  \n",
              "3496  1.331912e+09  Seoul  [37.566399, 126.999702]          NaN  NaN  \n",
              "3506  1.331912e+09  Seoul  [37.566399, 126.999702]          NaN  NaN  "
            ],
            "text/html": [
              "\n",
              "  <div id=\"df-a763f3eb-5c72-49e0-8ffc-26f42010b60b\">\n",
              "    <div class=\"colab-df-container\">\n",
              "      <div>\n",
              "<style scoped>\n",
              "    .dataframe tbody tr th:only-of-type {\n",
              "        vertical-align: middle;\n",
              "    }\n",
              "\n",
              "    .dataframe tbody tr th {\n",
              "        vertical-align: top;\n",
              "    }\n",
              "\n",
              "    .dataframe thead th {\n",
              "        text-align: right;\n",
              "    }\n",
              "</style>\n",
              "<table border=\"1\" class=\"dataframe\">\n",
              "  <thead>\n",
              "    <tr style=\"text-align: right;\">\n",
              "      <th></th>\n",
              "      <th>a</th>\n",
              "      <th>c</th>\n",
              "      <th>nk</th>\n",
              "      <th>tz</th>\n",
              "      <th>gr</th>\n",
              "      <th>g</th>\n",
              "      <th>h</th>\n",
              "      <th>l</th>\n",
              "      <th>al</th>\n",
              "      <th>hh</th>\n",
              "      <th>r</th>\n",
              "      <th>u</th>\n",
              "      <th>t</th>\n",
              "      <th>hc</th>\n",
              "      <th>cy</th>\n",
              "      <th>ll</th>\n",
              "      <th>_heartbeat_</th>\n",
              "      <th>kw</th>\n",
              "    </tr>\n",
              "  </thead>\n",
              "  <tbody>\n",
              "    <tr>\n",
              "      <th>1428</th>\n",
              "      <td>Mozilla/5.0 (Windows NT 5.1) AppleWebKit/535.1...</td>\n",
              "      <td>KR</td>\n",
              "      <td>1.0</td>\n",
              "      <td>Asia/Seoul</td>\n",
              "      <td>11</td>\n",
              "      <td>y7mqmw</td>\n",
              "      <td>w41aUb</td>\n",
              "      <td>rebroth</td>\n",
              "      <td>en-US,en;q=0.8</td>\n",
              "      <td>1.usa.gov</td>\n",
              "      <td>http://t.co/l16apDbA</td>\n",
              "      <td>http://apod.nasa.gov/apod/ap120314.html</td>\n",
              "      <td>1.331925e+09</td>\n",
              "      <td>1.331739e+09</td>\n",
              "      <td>Seoul</td>\n",
              "      <td>[37.566399, 126.999702]</td>\n",
              "      <td>NaN</td>\n",
              "      <td>NaN</td>\n",
              "    </tr>\n",
              "    <tr>\n",
              "      <th>3154</th>\n",
              "      <td>Mozilla/5.0 (iPad; U; CPU iPhone OS 5_0_1 like...</td>\n",
              "      <td>KR</td>\n",
              "      <td>0.0</td>\n",
              "      <td>Asia/Seoul</td>\n",
              "      <td>11</td>\n",
              "      <td>wcndER</td>\n",
              "      <td>zkpJBR</td>\n",
              "      <td>bnjacobs</td>\n",
              "      <td>ko-kr</td>\n",
              "      <td>1.usa.gov</td>\n",
              "      <td>http://m.facebook.com/l.php?u=http%3A%2F%2F1.u...</td>\n",
              "      <td>http://www.nasa.gov/mission_pages/nustar/main/...</td>\n",
              "      <td>1.331926e+09</td>\n",
              "      <td>1.331923e+09</td>\n",
              "      <td>Seoul</td>\n",
              "      <td>[37.566399, 126.999702]</td>\n",
              "      <td>NaN</td>\n",
              "      <td>NaN</td>\n",
              "    </tr>\n",
              "    <tr>\n",
              "      <th>3175</th>\n",
              "      <td>Mozilla/5.0 (iPad; U; CPU iPhone OS 5_0_1 like...</td>\n",
              "      <td>KR</td>\n",
              "      <td>1.0</td>\n",
              "      <td>Asia/Seoul</td>\n",
              "      <td>11</td>\n",
              "      <td>wcndER</td>\n",
              "      <td>zkpJBR</td>\n",
              "      <td>bnjacobs</td>\n",
              "      <td>ko-kr</td>\n",
              "      <td>1.usa.gov</td>\n",
              "      <td>http://m.facebook.com/l.php?u=http%3A%2F%2F1.u...</td>\n",
              "      <td>http://www.nasa.gov/mission_pages/nustar/main/...</td>\n",
              "      <td>1.331926e+09</td>\n",
              "      <td>1.331923e+09</td>\n",
              "      <td>Seoul</td>\n",
              "      <td>[37.566399, 126.999702]</td>\n",
              "      <td>NaN</td>\n",
              "      <td>NaN</td>\n",
              "    </tr>\n",
              "    <tr>\n",
              "      <th>3496</th>\n",
              "      <td>Mozilla/5.0 (iPhone; CPU iPhone OS 5_0_1 like ...</td>\n",
              "      <td>KR</td>\n",
              "      <td>0.0</td>\n",
              "      <td>Asia/Seoul</td>\n",
              "      <td>11</td>\n",
              "      <td>wQacbF</td>\n",
              "      <td>AsWr9f</td>\n",
              "      <td>addthis</td>\n",
              "      <td>en-us</td>\n",
              "      <td>1.usa.gov</td>\n",
              "      <td>https://twitter.com/whitehouse/status/18067782...</td>\n",
              "      <td>http://www.whitehouse.gov/energy/gasprices#.T2...</td>\n",
              "      <td>1.331927e+09</td>\n",
              "      <td>1.331912e+09</td>\n",
              "      <td>Seoul</td>\n",
              "      <td>[37.566399, 126.999702]</td>\n",
              "      <td>NaN</td>\n",
              "      <td>NaN</td>\n",
              "    </tr>\n",
              "    <tr>\n",
              "      <th>3506</th>\n",
              "      <td>Mozilla/5.0 (iPhone; CPU iPhone OS 5_0_1 like ...</td>\n",
              "      <td>KR</td>\n",
              "      <td>0.0</td>\n",
              "      <td>Asia/Seoul</td>\n",
              "      <td>11</td>\n",
              "      <td>wQacbF</td>\n",
              "      <td>AsWr9f</td>\n",
              "      <td>addthis</td>\n",
              "      <td>en-us</td>\n",
              "      <td>1.usa.gov</td>\n",
              "      <td>direct</td>\n",
              "      <td>http://www.whitehouse.gov/energy/gasprices#.T2...</td>\n",
              "      <td>1.331927e+09</td>\n",
              "      <td>1.331912e+09</td>\n",
              "      <td>Seoul</td>\n",
              "      <td>[37.566399, 126.999702]</td>\n",
              "      <td>NaN</td>\n",
              "      <td>NaN</td>\n",
              "    </tr>\n",
              "  </tbody>\n",
              "</table>\n",
              "</div>\n",
              "      <button class=\"colab-df-convert\" onclick=\"convertToInteractive('df-a763f3eb-5c72-49e0-8ffc-26f42010b60b')\"\n",
              "              title=\"Convert this dataframe to an interactive table.\"\n",
              "              style=\"display:none;\">\n",
              "        \n",
              "  <svg xmlns=\"http://www.w3.org/2000/svg\" height=\"24px\"viewBox=\"0 0 24 24\"\n",
              "       width=\"24px\">\n",
              "    <path d=\"M0 0h24v24H0V0z\" fill=\"none\"/>\n",
              "    <path d=\"M18.56 5.44l.94 2.06.94-2.06 2.06-.94-2.06-.94-.94-2.06-.94 2.06-2.06.94zm-11 1L8.5 8.5l.94-2.06 2.06-.94-2.06-.94L8.5 2.5l-.94 2.06-2.06.94zm10 10l.94 2.06.94-2.06 2.06-.94-2.06-.94-.94-2.06-.94 2.06-2.06.94z\"/><path d=\"M17.41 7.96l-1.37-1.37c-.4-.4-.92-.59-1.43-.59-.52 0-1.04.2-1.43.59L10.3 9.45l-7.72 7.72c-.78.78-.78 2.05 0 2.83L4 21.41c.39.39.9.59 1.41.59.51 0 1.02-.2 1.41-.59l7.78-7.78 2.81-2.81c.8-.78.8-2.07 0-2.86zM5.41 20L4 18.59l7.72-7.72 1.47 1.35L5.41 20z\"/>\n",
              "  </svg>\n",
              "      </button>\n",
              "      \n",
              "  <style>\n",
              "    .colab-df-container {\n",
              "      display:flex;\n",
              "      flex-wrap:wrap;\n",
              "      gap: 12px;\n",
              "    }\n",
              "\n",
              "    .colab-df-convert {\n",
              "      background-color: #E8F0FE;\n",
              "      border: none;\n",
              "      border-radius: 50%;\n",
              "      cursor: pointer;\n",
              "      display: none;\n",
              "      fill: #1967D2;\n",
              "      height: 32px;\n",
              "      padding: 0 0 0 0;\n",
              "      width: 32px;\n",
              "    }\n",
              "\n",
              "    .colab-df-convert:hover {\n",
              "      background-color: #E2EBFA;\n",
              "      box-shadow: 0px 1px 2px rgba(60, 64, 67, 0.3), 0px 1px 3px 1px rgba(60, 64, 67, 0.15);\n",
              "      fill: #174EA6;\n",
              "    }\n",
              "\n",
              "    [theme=dark] .colab-df-convert {\n",
              "      background-color: #3B4455;\n",
              "      fill: #D2E3FC;\n",
              "    }\n",
              "\n",
              "    [theme=dark] .colab-df-convert:hover {\n",
              "      background-color: #434B5C;\n",
              "      box-shadow: 0px 1px 3px 1px rgba(0, 0, 0, 0.15);\n",
              "      filter: drop-shadow(0px 1px 2px rgba(0, 0, 0, 0.3));\n",
              "      fill: #FFFFFF;\n",
              "    }\n",
              "  </style>\n",
              "\n",
              "      <script>\n",
              "        const buttonEl =\n",
              "          document.querySelector('#df-a763f3eb-5c72-49e0-8ffc-26f42010b60b button.colab-df-convert');\n",
              "        buttonEl.style.display =\n",
              "          google.colab.kernel.accessAllowed ? 'block' : 'none';\n",
              "\n",
              "        async function convertToInteractive(key) {\n",
              "          const element = document.querySelector('#df-a763f3eb-5c72-49e0-8ffc-26f42010b60b');\n",
              "          const dataTable =\n",
              "            await google.colab.kernel.invokeFunction('convertToInteractive',\n",
              "                                                     [key], {});\n",
              "          if (!dataTable) return;\n",
              "\n",
              "          const docLinkHtml = 'Like what you see? Visit the ' +\n",
              "            '<a target=\"_blank\" href=https://colab.research.google.com/notebooks/data_table.ipynb>data table notebook</a>'\n",
              "            + ' to learn more about interactive tables.';\n",
              "          element.innerHTML = '';\n",
              "          dataTable['output_type'] = 'display_data';\n",
              "          await google.colab.output.renderOutput(dataTable, element);\n",
              "          const docLink = document.createElement('div');\n",
              "          docLink.innerHTML = docLinkHtml;\n",
              "          element.appendChild(docLink);\n",
              "        }\n",
              "      </script>\n",
              "    </div>\n",
              "  </div>\n",
              "  "
            ]
          },
          "metadata": {},
          "execution_count": 22
        }
      ]
    },
    {
      "cell_type": "markdown",
      "source": [
        "## 사용자 접속 국가(c) 분석\n",
        "\n",
        "*   가장 많이 접속한 국가 상위 10개, 시각화\n"
      ],
      "metadata": {
        "id": "hqjkuVg5jAUr"
      }
    },
    {
      "cell_type": "code",
      "source": [
        "df_clean['c']"
      ],
      "metadata": {
        "colab": {
          "base_uri": "https://localhost:8080/"
        },
        "id": "alTl94Iti_pg",
        "outputId": "9aedfa13-210b-4bac-f106-b3fa0bec6c3b"
      },
      "execution_count": null,
      "outputs": [
        {
          "output_type": "execute_result",
          "data": {
            "text/plain": [
              "0       US\n",
              "1       US\n",
              "2       US\n",
              "3       BR\n",
              "4       US\n",
              "        ..\n",
              "3555    US\n",
              "3556    US\n",
              "3557    US\n",
              "3558    US\n",
              "3559    US\n",
              "Name: c, Length: 3560, dtype: object"
            ]
          },
          "metadata": {},
          "execution_count": 23
        }
      ]
    },
    {
      "cell_type": "code",
      "source": [
        "df_clean['c'].value_counts()"
      ],
      "metadata": {
        "colab": {
          "base_uri": "https://localhost:8080/"
        },
        "id": "ZgYledkMjB-y",
        "outputId": "04ca33e5-efc5-4b63-e6af-912a5bdc40fe"
      },
      "execution_count": null,
      "outputs": [
        {
          "output_type": "execute_result",
          "data": {
            "text/plain": [
              "US    2305\n",
              "GB      74\n",
              "CA      60\n",
              "ES      37\n",
              "JP      37\n",
              "      ... \n",
              "PH       1\n",
              "CY       1\n",
              "MK       1\n",
              "SI       1\n",
              "HN       1\n",
              "Name: c, Length: 71, dtype: int64"
            ]
          },
          "metadata": {},
          "execution_count": 24
        }
      ]
    },
    {
      "cell_type": "code",
      "source": [
        "# NA/NaN을 'Missing'으로 대체\n",
        "df_clean['c'] = df_clean['c'].fillna('Missing')\n",
        "\n",
        "# 빈 문자열('')을 'Unknown'으로 대체\n",
        "df_clean.loc[df_clean['c'] == '', 'c'] = 'Unknown'"
      ],
      "metadata": {
        "id": "_3S8NlKLjCuq"
      },
      "execution_count": null,
      "outputs": []
    },
    {
      "cell_type": "code",
      "source": [
        "df_clean['c'].value_counts()"
      ],
      "metadata": {
        "colab": {
          "base_uri": "https://localhost:8080/"
        },
        "id": "inMyRuOUjDpj",
        "outputId": "2e7086ea-bf3f-4ea9-8353-abf6549fc8f7"
      },
      "execution_count": null,
      "outputs": [
        {
          "output_type": "execute_result",
          "data": {
            "text/plain": [
              "US         2305\n",
              "Missing     641\n",
              "GB           74\n",
              "CA           60\n",
              "ES           37\n",
              "           ... \n",
              "PH            1\n",
              "CY            1\n",
              "MK            1\n",
              "SI            1\n",
              "HN            1\n",
              "Name: c, Length: 72, dtype: int64"
            ]
          },
          "metadata": {},
          "execution_count": 26
        }
      ]
    },
    {
      "cell_type": "code",
      "source": [
        "country_top10 = df_clean['c'].value_counts().head(10)\n",
        "country_top10"
      ],
      "metadata": {
        "colab": {
          "base_uri": "https://localhost:8080/"
        },
        "id": "IkBEhazGjEZy",
        "outputId": "8a92b955-5463-429d-c74e-47867332e25c"
      },
      "execution_count": null,
      "outputs": [
        {
          "output_type": "execute_result",
          "data": {
            "text/plain": [
              "US         2305\n",
              "Missing     641\n",
              "GB           74\n",
              "CA           60\n",
              "ES           37\n",
              "JP           37\n",
              "BR           35\n",
              "DE           28\n",
              "IT           27\n",
              "NL           22\n",
              "Name: c, dtype: int64"
            ]
          },
          "metadata": {},
          "execution_count": 27
        }
      ]
    },
    {
      "cell_type": "code",
      "source": [
        "sns.barplot(x=country_top10.values, y=country_top10.index)\n",
        "plt.show()"
      ],
      "metadata": {
        "colab": {
          "base_uri": "https://localhost:8080/",
          "height": 265
        },
        "id": "I_XY6WHvjFMz",
        "outputId": "83db8252-872a-4811-8891-1436d63d6dd8"
      },
      "execution_count": null,
      "outputs": [
        {
          "output_type": "display_data",
          "data": {
            "text/plain": [
              "<Figure size 432x288 with 1 Axes>"
            ],
            "image/png": "[encoded data removed]"
          },
          "metadata": {
            "needs_background": "light"
          }
        }
      ]
    },
    {
      "cell_type": "code",
      "source": [
        "df_clean['c'].value_counts().iloc[2:12]"
      ],
      "metadata": {
        "colab": {
          "base_uri": "https://localhost:8080/"
        },
        "id": "CmNVVgkfjGK0",
        "outputId": "a8fc4777-0f50-407d-daf4-82aed00c3925"
      },
      "execution_count": null,
      "outputs": [
        {
          "output_type": "execute_result",
          "data": {
            "text/plain": [
              "GB    74\n",
              "CA    60\n",
              "ES    37\n",
              "JP    37\n",
              "BR    35\n",
              "DE    28\n",
              "IT    27\n",
              "NL    22\n",
              "MX    19\n",
              "PL    16\n",
              "Name: c, dtype: int64"
            ]
          },
          "metadata": {},
          "execution_count": 29
        }
      ]
    },
    {
      "cell_type": "code",
      "source": [
        "# US과 Missing을 제외한 상위 10개 국가 시각화\n",
        "df_clean.loc[(df_clean['c'] != 'US') & (df_clean['c'] != 'Missing'), 'c'].value_counts().head(10)"
      ],
      "metadata": {
        "colab": {
          "base_uri": "https://localhost:8080/"
        },
        "id": "NDdag1cwjHKE",
        "outputId": "c7a3450c-7f79-4ec5-a0f9-58de8594b27c"
      },
      "execution_count": null,
      "outputs": [
        {
          "output_type": "execute_result",
          "data": {
            "text/plain": [
              "GB    74\n",
              "CA    60\n",
              "ES    37\n",
              "JP    37\n",
              "BR    35\n",
              "DE    28\n",
              "IT    27\n",
              "NL    22\n",
              "MX    19\n",
              "PL    16\n",
              "Name: c, dtype: int64"
            ]
          },
          "metadata": {},
          "execution_count": 30
        }
      ]
    },
    {
      "cell_type": "markdown",
      "source": [
        "## 사용자 접속 환경(OS) 분석\n",
        "\n",
        "*   a 컬럼(agent) 문자열을 분석해서 Windows/Non-Windows 분류"
      ],
      "metadata": {
        "id": "92ydiUrxjIyr"
      }
    },
    {
      "cell_type": "code",
      "source": [
        "df_clean['a']"
      ],
      "metadata": {
        "colab": {
          "base_uri": "https://localhost:8080/"
        },
        "id": "6TaMVYhDjIKt",
        "outputId": "ccfd4641-731a-4b8c-fb98-160bbd14ec10"
      },
      "execution_count": null,
      "outputs": [
        {
          "output_type": "execute_result",
          "data": {
            "text/plain": [
              "0       Mozilla/5.0 (Windows NT 6.1; WOW64) AppleWebKi...\n",
              "1                                  GoogleMaps/RochesterNY\n",
              "2       Mozilla/4.0 (compatible; MSIE 8.0; Windows NT ...\n",
              "3       Mozilla/5.0 (Macintosh; Intel Mac OS X 10_6_8)...\n",
              "4       Mozilla/5.0 (Windows NT 6.1; WOW64) AppleWebKi...\n",
              "                              ...                        \n",
              "3555    Mozilla/4.0 (compatible; MSIE 9.0; Windows NT ...\n",
              "3556    Mozilla/5.0 (Windows NT 5.1) AppleWebKit/535.1...\n",
              "3557                               GoogleMaps/RochesterNY\n",
              "3558                                       GoogleProducer\n",
              "3559    Mozilla/4.0 (compatible; MSIE 8.0; Windows NT ...\n",
              "Name: a, Length: 3560, dtype: object"
            ]
          },
          "metadata": {},
          "execution_count": 31
        }
      ]
    },
    {
      "cell_type": "code",
      "source": [
        "df_clean.info()"
      ],
      "metadata": {
        "colab": {
          "base_uri": "https://localhost:8080/"
        },
        "id": "yXcGM7KQjKNl",
        "outputId": "25828fab-0a42-4b53-996b-6e0bd9a27033"
      },
      "execution_count": null,
      "outputs": [
        {
          "output_type": "stream",
          "name": "stdout",
          "text": [
            "<class 'pandas.core.frame.DataFrame'>\n",
            "RangeIndex: 3560 entries, 0 to 3559\n",
            "Data columns (total 18 columns):\n",
            " #   Column       Non-Null Count  Dtype  \n",
            "---  ------       --------------  -----  \n",
            " 0   a            3440 non-null   object \n",
            " 1   c            3560 non-null   object \n",
            " 2   nk           3440 non-null   float64\n",
            " 3   tz           3560 non-null   object \n",
            " 4   gr           2919 non-null   object \n",
            " 5   g            3440 non-null   object \n",
            " 6   h            3440 non-null   object \n",
            " 7   l            3440 non-null   object \n",
            " 8   al           3094 non-null   object \n",
            " 9   hh           3440 non-null   object \n",
            " 10  r            3440 non-null   object \n",
            " 11  u            3440 non-null   object \n",
            " 12  t            3440 non-null   float64\n",
            " 13  hc           3440 non-null   float64\n",
            " 14  cy           2919 non-null   object \n",
            " 15  ll           2919 non-null   object \n",
            " 16  _heartbeat_  120 non-null    float64\n",
            " 17  kw           93 non-null     object \n",
            "dtypes: float64(4), object(14)\n",
            "memory usage: 500.8+ KB\n"
          ]
        }
      ]
    },
    {
      "cell_type": "code",
      "source": [
        "# a 컬럼이 NA(NaN)인 행들을 삭제 - NA(NaN, Null)가 아닌 행들을 선택\n",
        "df_clean = df_clean[df_clean['a'].notnull()]"
      ],
      "metadata": {
        "id": "hQGYrLDHjLBW"
      },
      "execution_count": null,
      "outputs": []
    },
    {
      "cell_type": "markdown",
      "source": [
        "*   `pd.Series.notnull()`: 값이 Null이 아니면 True를 리턴.\n",
        "*   `pd.Series.isnull()`: 값이 Null이면 True를 리턴."
      ],
      "metadata": {
        "id": "_lhxgP36jMpU"
      }
    },
    {
      "cell_type": "code",
      "source": [
        "df_clean.info()"
      ],
      "metadata": {
        "colab": {
          "base_uri": "https://localhost:8080/"
        },
        "id": "HKfKAl38jL2m",
        "outputId": "610c554c-1644-406d-c0f0-91e301ff74af"
      },
      "execution_count": null,
      "outputs": [
        {
          "output_type": "stream",
          "name": "stdout",
          "text": [
            "<class 'pandas.core.frame.DataFrame'>\n",
            "Int64Index: 3440 entries, 0 to 3559\n",
            "Data columns (total 18 columns):\n",
            " #   Column       Non-Null Count  Dtype  \n",
            "---  ------       --------------  -----  \n",
            " 0   a            3440 non-null   object \n",
            " 1   c            3440 non-null   object \n",
            " 2   nk           3440 non-null   float64\n",
            " 3   tz           3440 non-null   object \n",
            " 4   gr           2919 non-null   object \n",
            " 5   g            3440 non-null   object \n",
            " 6   h            3440 non-null   object \n",
            " 7   l            3440 non-null   object \n",
            " 8   al           3094 non-null   object \n",
            " 9   hh           3440 non-null   object \n",
            " 10  r            3440 non-null   object \n",
            " 11  u            3440 non-null   object \n",
            " 12  t            3440 non-null   float64\n",
            " 13  hc           3440 non-null   float64\n",
            " 14  cy           2919 non-null   object \n",
            " 15  ll           2919 non-null   object \n",
            " 16  _heartbeat_  0 non-null      float64\n",
            " 17  kw           93 non-null     object \n",
            "dtypes: float64(4), object(14)\n",
            "memory usage: 510.6+ KB\n"
          ]
        }
      ]
    },
    {
      "cell_type": "code",
      "source": [
        "# 'os' 파생 변수(컬럼) 추가\n",
        "# 'a' 컬럼에 'Windows' 문자열이 포함되어 있으면 Windows, 그렇지 않으면 Other를 저장.\n",
        "# np.where(조건식, 참일 때 선택할 값, 거짓일 때 선택할 값)\n",
        "df_clean['os'] = np.where(df_clean['a'].str.lower().str.contains('windows'), \n",
        "                          'Windows', 'Other')"
      ],
      "metadata": {
        "id": "MpNxzp9SjOJH"
      },
      "execution_count": null,
      "outputs": []
    },
    {
      "cell_type": "code",
      "source": [
        "df_clean['os'].value_counts()"
      ],
      "metadata": {
        "colab": {
          "base_uri": "https://localhost:8080/"
        },
        "id": "wfHV-J-NjPIQ",
        "outputId": "575dd36d-e60a-4065-a013-c29d3ae28aa0"
      },
      "execution_count": null,
      "outputs": [
        {
          "output_type": "execute_result",
          "data": {
            "text/plain": [
              "Windows    2246\n",
              "Other      1194\n",
              "Name: os, dtype: int64"
            ]
          },
          "metadata": {},
          "execution_count": 36
        }
      ]
    },
    {
      "cell_type": "code",
      "source": [
        "sns.countplot(x='os', data=df_clean)\n",
        "plt.show()"
      ],
      "metadata": {
        "colab": {
          "base_uri": "https://localhost:8080/",
          "height": 279
        },
        "id": "LKwhcDcHjQTI",
        "outputId": "31b08c3a-f885-42f2-88b6-b9dd98ffa834"
      },
      "execution_count": null,
      "outputs": [
        {
          "output_type": "display_data",
          "data": {
            "text/plain": [
              "<Figure size 432x288 with 1 Axes>"
            ],
            "image/png": "[encoded data removed]"
          },
          "metadata": {
            "needs_background": "light"
          }
        }
      ]
    },
    {
      "cell_type": "markdown",
      "source": [
        "### 사용자 시간대 접속 지역별, 운영 체제별 빈도수"
      ],
      "metadata": {
        "id": "pKARmaTCjSER"
      }
    },
    {
      "cell_type": "code",
      "source": [
        "df_clean.groupby(['tz', 'os']).size()"
      ],
      "metadata": {
        "colab": {
          "base_uri": "https://localhost:8080/"
        },
        "id": "duy4nTZyjRSh",
        "outputId": "94f664a4-33b2-4578-fe70-4ad91f74b89e"
      },
      "execution_count": null,
      "outputs": [
        {
          "output_type": "execute_result",
          "data": {
            "text/plain": [
              "tz                   os     \n",
              "Africa/Cairo         Windows      3\n",
              "Africa/Casablanca    Windows      1\n",
              "Africa/Ceuta         Windows      2\n",
              "Africa/Johannesburg  Windows      1\n",
              "Africa/Lusaka        Windows      1\n",
              "                               ... \n",
              "Pacific/Auckland     Other        3\n",
              "                     Windows      8\n",
              "Pacific/Honolulu     Windows     36\n",
              "Unknown              Other      245\n",
              "                     Windows    276\n",
              "Length: 149, dtype: int64"
            ]
          },
          "metadata": {},
          "execution_count": 38
        }
      ]
    },
    {
      "cell_type": "code",
      "source": [
        "tz_os_counts = df_clean.groupby(['tz', 'os']).size()"
      ],
      "metadata": {
        "id": "mKLB0eL-jTva"
      },
      "execution_count": null,
      "outputs": []
    },
    {
      "cell_type": "code",
      "source": [
        "tz_top10.index  # 가장 많이 접속한 상위 10개 timezone"
      ],
      "metadata": {
        "colab": {
          "base_uri": "https://localhost:8080/"
        },
        "id": "7LmDqiP3jVAC",
        "outputId": "b85c5f87-004c-4c3d-b1f8-92f6fe848ee6"
      },
      "execution_count": null,
      "outputs": [
        {
          "output_type": "execute_result",
          "data": {
            "text/plain": [
              "Index(['America/New_York', 'Unknown', 'America/Chicago', 'America/Los_Angeles',\n",
              "       'America/Denver', 'Missing', 'Europe/London', 'Asia/Tokyo',\n",
              "       'Pacific/Honolulu', 'Europe/Madrid'],\n",
              "      dtype='object')"
            ]
          },
          "metadata": {},
          "execution_count": 40
        }
      ]
    },
    {
      "cell_type": "code",
      "source": [
        "tz_os_counts = tz_os_counts.reset_index(level=-1)  # 가장 마지막 레벨의 인덱스만 컬럼으로 변환.\n",
        "tz_os_counts"
      ],
      "metadata": {
        "colab": {
          "base_uri": "https://localhost:8080/",
          "height": 455
        },
        "id": "u5RRN2nvjVsD",
        "outputId": "14af9790-96b1-452a-9b04-44d3eb4c9a3c"
      },
      "execution_count": null,
      "outputs": [
        {
          "output_type": "execute_result",
          "data": {
            "text/plain": [
              "                          os    0\n",
              "tz                               \n",
              "Africa/Cairo         Windows    3\n",
              "Africa/Casablanca    Windows    1\n",
              "Africa/Ceuta         Windows    2\n",
              "Africa/Johannesburg  Windows    1\n",
              "Africa/Lusaka        Windows    1\n",
              "...                      ...  ...\n",
              "Pacific/Auckland       Other    3\n",
              "Pacific/Auckland     Windows    8\n",
              "Pacific/Honolulu     Windows   36\n",
              "Unknown                Other  245\n",
              "Unknown              Windows  276\n",
              "\n",
              "[149 rows x 2 columns]"
            ],
            "text/html": [
              "\n",
              "  <div id=\"df-c970e838-9567-4e7b-a34a-1d0a91b82d04\">\n",
              "    <div class=\"colab-df-container\">\n",
              "      <div>\n",
              "<style scoped>\n",
              "    .dataframe tbody tr th:only-of-type {\n",
              "        vertical-align: middle;\n",
              "    }\n",
              "\n",
              "    .dataframe tbody tr th {\n",
              "        vertical-align: top;\n",
              "    }\n",
              "\n",
              "    .dataframe thead th {\n",
              "        text-align: right;\n",
              "    }\n",
              "</style>\n",
              "<table border=\"1\" class=\"dataframe\">\n",
              "  <thead>\n",
              "    <tr style=\"text-align: right;\">\n",
              "      <th></th>\n",
              "      <th>os</th>\n",
              "      <th>0</th>\n",
              "    </tr>\n",
              "    <tr>\n",
              "      <th>tz</th>\n",
              "      <th></th>\n",
              "      <th></th>\n",
              "    </tr>\n",
              "  </thead>\n",
              "  <tbody>\n",
              "    <tr>\n",
              "      <th>Africa/Cairo</th>\n",
              "      <td>Windows</td>\n",
              "      <td>3</td>\n",
              "    </tr>\n",
              "    <tr>\n",
              "      <th>Africa/Casablanca</th>\n",
              "      <td>Windows</td>\n",
              "      <td>1</td>\n",
              "    </tr>\n",
              "    <tr>\n",
              "      <th>Africa/Ceuta</th>\n",
              "      <td>Windows</td>\n",
              "      <td>2</td>\n",
              "    </tr>\n",
              "    <tr>\n",
              "      <th>Africa/Johannesburg</th>\n",
              "      <td>Windows</td>\n",
              "      <td>1</td>\n",
              "    </tr>\n",
              "    <tr>\n",
              "      <th>Africa/Lusaka</th>\n",
              "      <td>Windows</td>\n",
              "      <td>1</td>\n",
              "    </tr>\n",
              "    <tr>\n",
              "      <th>...</th>\n",
              "      <td>...</td>\n",
              "      <td>...</td>\n",
              "    </tr>\n",
              "    <tr>\n",
              "      <th>Pacific/Auckland</th>\n",
              "      <td>Other</td>\n",
              "      <td>3</td>\n",
              "    </tr>\n",
              "    <tr>\n",
              "      <th>Pacific/Auckland</th>\n",
              "      <td>Windows</td>\n",
              "      <td>8</td>\n",
              "    </tr>\n",
              "    <tr>\n",
              "      <th>Pacific/Honolulu</th>\n",
              "      <td>Windows</td>\n",
              "      <td>36</td>\n",
              "    </tr>\n",
              "    <tr>\n",
              "      <th>Unknown</th>\n",
              "      <td>Other</td>\n",
              "      <td>245</td>\n",
              "    </tr>\n",
              "    <tr>\n",
              "      <th>Unknown</th>\n",
              "      <td>Windows</td>\n",
              "      <td>276</td>\n",
              "    </tr>\n",
              "  </tbody>\n",
              "</table>\n",
              "<p>149 rows × 2 columns</p>\n",
              "</div>\n",
              "      <button class=\"colab-df-convert\" onclick=\"convertToInteractive('df-c970e838-9567-4e7b-a34a-1d0a91b82d04')\"\n",
              "              title=\"Convert this dataframe to an interactive table.\"\n",
              "              style=\"display:none;\">\n",
              "        \n",
              "  <svg xmlns=\"http://www.w3.org/2000/svg\" height=\"24px\"viewBox=\"0 0 24 24\"\n",
              "       width=\"24px\">\n",
              "    <path d=\"M0 0h24v24H0V0z\" fill=\"none\"/>\n",
              "    <path d=\"M18.56 5.44l.94 2.06.94-2.06 2.06-.94-2.06-.94-.94-2.06-.94 2.06-2.06.94zm-11 1L8.5 8.5l.94-2.06 2.06-.94-2.06-.94L8.5 2.5l-.94 2.06-2.06.94zm10 10l.94 2.06.94-2.06 2.06-.94-2.06-.94-.94-2.06-.94 2.06-2.06.94z\"/><path d=\"M17.41 7.96l-1.37-1.37c-.4-.4-.92-.59-1.43-.59-.52 0-1.04.2-1.43.59L10.3 9.45l-7.72 7.72c-.78.78-.78 2.05 0 2.83L4 21.41c.39.39.9.59 1.41.59.51 0 1.02-.2 1.41-.59l7.78-7.78 2.81-2.81c.8-.78.8-2.07 0-2.86zM5.41 20L4 18.59l7.72-7.72 1.47 1.35L5.41 20z\"/>\n",
              "  </svg>\n",
              "      </button>\n",
              "      \n",
              "  <style>\n",
              "    .colab-df-container {\n",
              "      display:flex;\n",
              "      flex-wrap:wrap;\n",
              "      gap: 12px;\n",
              "    }\n",
              "\n",
              "    .colab-df-convert {\n",
              "      background-color: #E8F0FE;\n",
              "      border: none;\n",
              "      border-radius: 50%;\n",
              "      cursor: pointer;\n",
              "      display: none;\n",
              "      fill: #1967D2;\n",
              "      height: 32px;\n",
              "      padding: 0 0 0 0;\n",
              "      width: 32px;\n",
              "    }\n",
              "\n",
              "    .colab-df-convert:hover {\n",
              "      background-color: #E2EBFA;\n",
              "      box-shadow: 0px 1px 2px rgba(60, 64, 67, 0.3), 0px 1px 3px 1px rgba(60, 64, 67, 0.15);\n",
              "      fill: #174EA6;\n",
              "    }\n",
              "\n",
              "    [theme=dark] .colab-df-convert {\n",
              "      background-color: #3B4455;\n",
              "      fill: #D2E3FC;\n",
              "    }\n",
              "\n",
              "    [theme=dark] .colab-df-convert:hover {\n",
              "      background-color: #434B5C;\n",
              "      box-shadow: 0px 1px 3px 1px rgba(0, 0, 0, 0.15);\n",
              "      filter: drop-shadow(0px 1px 2px rgba(0, 0, 0, 0.3));\n",
              "      fill: #FFFFFF;\n",
              "    }\n",
              "  </style>\n",
              "\n",
              "      <script>\n",
              "        const buttonEl =\n",
              "          document.querySelector('#df-c970e838-9567-4e7b-a34a-1d0a91b82d04 button.colab-df-convert');\n",
              "        buttonEl.style.display =\n",
              "          google.colab.kernel.accessAllowed ? 'block' : 'none';\n",
              "\n",
              "        async function convertToInteractive(key) {\n",
              "          const element = document.querySelector('#df-c970e838-9567-4e7b-a34a-1d0a91b82d04');\n",
              "          const dataTable =\n",
              "            await google.colab.kernel.invokeFunction('convertToInteractive',\n",
              "                                                     [key], {});\n",
              "          if (!dataTable) return;\n",
              "\n",
              "          const docLinkHtml = 'Like what you see? Visit the ' +\n",
              "            '<a target=\"_blank\" href=https://colab.research.google.com/notebooks/data_table.ipynb>data table notebook</a>'\n",
              "            + ' to learn more about interactive tables.';\n",
              "          element.innerHTML = '';\n",
              "          dataTable['output_type'] = 'display_data';\n",
              "          await google.colab.output.renderOutput(dataTable, element);\n",
              "          const docLink = document.createElement('div');\n",
              "          docLink.innerHTML = docLinkHtml;\n",
              "          element.appendChild(docLink);\n",
              "        }\n",
              "      </script>\n",
              "    </div>\n",
              "  </div>\n",
              "  "
            ]
          },
          "metadata": {},
          "execution_count": 41
        }
      ]
    },
    {
      "cell_type": "code",
      "source": [
        "indexer = df_clean['tz'].value_counts().head(10).index\n",
        "indexer"
      ],
      "metadata": {
        "colab": {
          "base_uri": "https://localhost:8080/"
        },
        "id": "FoSG_pAJjWXL",
        "outputId": "b0d38974-422f-468e-f16d-8a58f3819351"
      },
      "execution_count": null,
      "outputs": [
        {
          "output_type": "execute_result",
          "data": {
            "text/plain": [
              "Index(['America/New_York', 'Unknown', 'America/Chicago', 'America/Los_Angeles',\n",
              "       'America/Denver', 'Europe/London', 'Asia/Tokyo', 'Pacific/Honolulu',\n",
              "       'Europe/Madrid', 'America/Sao_Paulo'],\n",
              "      dtype='object')"
            ]
          },
          "metadata": {},
          "execution_count": 42
        }
      ]
    },
    {
      "cell_type": "code",
      "source": [
        "result = tz_os_counts.loc[indexer]\n",
        "result"
      ],
      "metadata": {
        "colab": {
          "base_uri": "https://localhost:8080/",
          "height": 677
        },
        "id": "S01BBrlqjXW7",
        "outputId": "9de097cc-bdfa-4a2c-c7f9-2f7639c328a6"
      },
      "execution_count": null,
      "outputs": [
        {
          "output_type": "execute_result",
          "data": {
            "text/plain": [
              "                          os    0\n",
              "tz                               \n",
              "America/New_York       Other  339\n",
              "America/New_York     Windows  912\n",
              "Unknown                Other  245\n",
              "Unknown              Windows  276\n",
              "America/Chicago        Other  115\n",
              "America/Chicago      Windows  285\n",
              "America/Los_Angeles    Other  130\n",
              "America/Los_Angeles  Windows  252\n",
              "America/Denver         Other  132\n",
              "America/Denver       Windows   59\n",
              "Europe/London          Other   43\n",
              "Europe/London        Windows   31\n",
              "Asia/Tokyo             Other    2\n",
              "Asia/Tokyo           Windows   35\n",
              "Pacific/Honolulu     Windows   36\n",
              "Europe/Madrid          Other   16\n",
              "Europe/Madrid        Windows   19\n",
              "America/Sao_Paulo      Other   13\n",
              "America/Sao_Paulo    Windows   20"
            ],
            "text/html": [
              "\n",
              "  <div id=\"df-75fb1f34-aab3-4f18-ac24-e4f16d0b7f7e\">\n",
              "    <div class=\"colab-df-container\">\n",
              "      <div>\n",
              "<style scoped>\n",
              "    .dataframe tbody tr th:only-of-type {\n",
              "        vertical-align: middle;\n",
              "    }\n",
              "\n",
              "    .dataframe tbody tr th {\n",
              "        vertical-align: top;\n",
              "    }\n",
              "\n",
              "    .dataframe thead th {\n",
              "        text-align: right;\n",
              "    }\n",
              "</style>\n",
              "<table border=\"1\" class=\"dataframe\">\n",
              "  <thead>\n",
              "    <tr style=\"text-align: right;\">\n",
              "      <th></th>\n",
              "      <th>os</th>\n",
              "      <th>0</th>\n",
              "    </tr>\n",
              "    <tr>\n",
              "      <th>tz</th>\n",
              "      <th></th>\n",
              "      <th></th>\n",
              "    </tr>\n",
              "  </thead>\n",
              "  <tbody>\n",
              "    <tr>\n",
              "      <th>America/New_York</th>\n",
              "      <td>Other</td>\n",
              "      <td>339</td>\n",
              "    </tr>\n",
              "    <tr>\n",
              "      <th>America/New_York</th>\n",
              "      <td>Windows</td>\n",
              "      <td>912</td>\n",
              "    </tr>\n",
              "    <tr>\n",
              "      <th>Unknown</th>\n",
              "      <td>Other</td>\n",
              "      <td>245</td>\n",
              "    </tr>\n",
              "    <tr>\n",
              "      <th>Unknown</th>\n",
              "      <td>Windows</td>\n",
              "      <td>276</td>\n",
              "    </tr>\n",
              "    <tr>\n",
              "      <th>America/Chicago</th>\n",
              "      <td>Other</td>\n",
              "      <td>115</td>\n",
              "    </tr>\n",
              "    <tr>\n",
              "      <th>America/Chicago</th>\n",
              "      <td>Windows</td>\n",
              "      <td>285</td>\n",
              "    </tr>\n",
              "    <tr>\n",
              "      <th>America/Los_Angeles</th>\n",
              "      <td>Other</td>\n",
              "      <td>130</td>\n",
              "    </tr>\n",
              "    <tr>\n",
              "      <th>America/Los_Angeles</th>\n",
              "      <td>Windows</td>\n",
              "      <td>252</td>\n",
              "    </tr>\n",
              "    <tr>\n",
              "      <th>America/Denver</th>\n",
              "      <td>Other</td>\n",
              "      <td>132</td>\n",
              "    </tr>\n",
              "    <tr>\n",
              "      <th>America/Denver</th>\n",
              "      <td>Windows</td>\n",
              "      <td>59</td>\n",
              "    </tr>\n",
              "    <tr>\n",
              "      <th>Europe/London</th>\n",
              "      <td>Other</td>\n",
              "      <td>43</td>\n",
              "    </tr>\n",
              "    <tr>\n",
              "      <th>Europe/London</th>\n",
              "      <td>Windows</td>\n",
              "      <td>31</td>\n",
              "    </tr>\n",
              "    <tr>\n",
              "      <th>Asia/Tokyo</th>\n",
              "      <td>Other</td>\n",
              "      <td>2</td>\n",
              "    </tr>\n",
              "    <tr>\n",
              "      <th>Asia/Tokyo</th>\n",
              "      <td>Windows</td>\n",
              "      <td>35</td>\n",
              "    </tr>\n",
              "    <tr>\n",
              "      <th>Pacific/Honolulu</th>\n",
              "      <td>Windows</td>\n",
              "      <td>36</td>\n",
              "    </tr>\n",
              "    <tr>\n",
              "      <th>Europe/Madrid</th>\n",
              "      <td>Other</td>\n",
              "      <td>16</td>\n",
              "    </tr>\n",
              "    <tr>\n",
              "      <th>Europe/Madrid</th>\n",
              "      <td>Windows</td>\n",
              "      <td>19</td>\n",
              "    </tr>\n",
              "    <tr>\n",
              "      <th>America/Sao_Paulo</th>\n",
              "      <td>Other</td>\n",
              "      <td>13</td>\n",
              "    </tr>\n",
              "    <tr>\n",
              "      <th>America/Sao_Paulo</th>\n",
              "      <td>Windows</td>\n",
              "      <td>20</td>\n",
              "    </tr>\n",
              "  </tbody>\n",
              "</table>\n",
              "</div>\n",
              "      <button class=\"colab-df-convert\" onclick=\"convertToInteractive('df-75fb1f34-aab3-4f18-ac24-e4f16d0b7f7e')\"\n",
              "              title=\"Convert this dataframe to an interactive table.\"\n",
              "              style=\"display:none;\">\n",
              "        \n",
              "  <svg xmlns=\"http://www.w3.org/2000/svg\" height=\"24px\"viewBox=\"0 0 24 24\"\n",
              "       width=\"24px\">\n",
              "    <path d=\"M0 0h24v24H0V0z\" fill=\"none\"/>\n",
              "    <path d=\"M18.56 5.44l.94 2.06.94-2.06 2.06-.94-2.06-.94-.94-2.06-.94 2.06-2.06.94zm-11 1L8.5 8.5l.94-2.06 2.06-.94-2.06-.94L8.5 2.5l-.94 2.06-2.06.94zm10 10l.94 2.06.94-2.06 2.06-.94-2.06-.94-.94-2.06-.94 2.06-2.06.94z\"/><path d=\"M17.41 7.96l-1.37-1.37c-.4-.4-.92-.59-1.43-.59-.52 0-1.04.2-1.43.59L10.3 9.45l-7.72 7.72c-.78.78-.78 2.05 0 2.83L4 21.41c.39.39.9.59 1.41.59.51 0 1.02-.2 1.41-.59l7.78-7.78 2.81-2.81c.8-.78.8-2.07 0-2.86zM5.41 20L4 18.59l7.72-7.72 1.47 1.35L5.41 20z\"/>\n",
              "  </svg>\n",
              "      </button>\n",
              "      \n",
              "  <style>\n",
              "    .colab-df-container {\n",
              "      display:flex;\n",
              "      flex-wrap:wrap;\n",
              "      gap: 12px;\n",
              "    }\n",
              "\n",
              "    .colab-df-convert {\n",
              "      background-color: #E8F0FE;\n",
              "      border: none;\n",
              "      border-radius: 50%;\n",
              "      cursor: pointer;\n",
              "      display: none;\n",
              "      fill: #1967D2;\n",
              "      height: 32px;\n",
              "      padding: 0 0 0 0;\n",
              "      width: 32px;\n",
              "    }\n",
              "\n",
              "    .colab-df-convert:hover {\n",
              "      background-color: #E2EBFA;\n",
              "      box-shadow: 0px 1px 2px rgba(60, 64, 67, 0.3), 0px 1px 3px 1px rgba(60, 64, 67, 0.15);\n",
              "      fill: #174EA6;\n",
              "    }\n",
              "\n",
              "    [theme=dark] .colab-df-convert {\n",
              "      background-color: #3B4455;\n",
              "      fill: #D2E3FC;\n",
              "    }\n",
              "\n",
              "    [theme=dark] .colab-df-convert:hover {\n",
              "      background-color: #434B5C;\n",
              "      box-shadow: 0px 1px 3px 1px rgba(0, 0, 0, 0.15);\n",
              "      filter: drop-shadow(0px 1px 2px rgba(0, 0, 0, 0.3));\n",
              "      fill: #FFFFFF;\n",
              "    }\n",
              "  </style>\n",
              "\n",
              "      <script>\n",
              "        const buttonEl =\n",
              "          document.querySelector('#df-75fb1f34-aab3-4f18-ac24-e4f16d0b7f7e button.colab-df-convert');\n",
              "        buttonEl.style.display =\n",
              "          google.colab.kernel.accessAllowed ? 'block' : 'none';\n",
              "\n",
              "        async function convertToInteractive(key) {\n",
              "          const element = document.querySelector('#df-75fb1f34-aab3-4f18-ac24-e4f16d0b7f7e');\n",
              "          const dataTable =\n",
              "            await google.colab.kernel.invokeFunction('convertToInteractive',\n",
              "                                                     [key], {});\n",
              "          if (!dataTable) return;\n",
              "\n",
              "          const docLinkHtml = 'Like what you see? Visit the ' +\n",
              "            '<a target=\"_blank\" href=https://colab.research.google.com/notebooks/data_table.ipynb>data table notebook</a>'\n",
              "            + ' to learn more about interactive tables.';\n",
              "          element.innerHTML = '';\n",
              "          dataTable['output_type'] = 'display_data';\n",
              "          await google.colab.output.renderOutput(dataTable, element);\n",
              "          const docLink = document.createElement('div');\n",
              "          docLink.innerHTML = docLinkHtml;\n",
              "          element.appendChild(docLink);\n",
              "        }\n",
              "      </script>\n",
              "    </div>\n",
              "  </div>\n",
              "  "
            ]
          },
          "metadata": {},
          "execution_count": 43
        }
      ]
    },
    {
      "cell_type": "code",
      "source": [
        "result = result.reset_index()\n",
        "result"
      ],
      "metadata": {
        "colab": {
          "base_uri": "https://localhost:8080/",
          "height": 645
        },
        "id": "21H35Kh7jYE8",
        "outputId": "a843d964-6bdc-4981-8492-9b3765f8af15"
      },
      "execution_count": null,
      "outputs": [
        {
          "output_type": "execute_result",
          "data": {
            "text/plain": [
              "                     tz       os    0\n",
              "0      America/New_York    Other  339\n",
              "1      America/New_York  Windows  912\n",
              "2               Unknown    Other  245\n",
              "3               Unknown  Windows  276\n",
              "4       America/Chicago    Other  115\n",
              "5       America/Chicago  Windows  285\n",
              "6   America/Los_Angeles    Other  130\n",
              "7   America/Los_Angeles  Windows  252\n",
              "8        America/Denver    Other  132\n",
              "9        America/Denver  Windows   59\n",
              "10        Europe/London    Other   43\n",
              "11        Europe/London  Windows   31\n",
              "12           Asia/Tokyo    Other    2\n",
              "13           Asia/Tokyo  Windows   35\n",
              "14     Pacific/Honolulu  Windows   36\n",
              "15        Europe/Madrid    Other   16\n",
              "16        Europe/Madrid  Windows   19\n",
              "17    America/Sao_Paulo    Other   13\n",
              "18    America/Sao_Paulo  Windows   20"
            ],
            "text/html": [
              "\n",
              "  <div id=\"df-1999a83c-8285-4264-9cbd-021b7c2d95c0\">\n",
              "    <div class=\"colab-df-container\">\n",
              "      <div>\n",
              "<style scoped>\n",
              "    .dataframe tbody tr th:only-of-type {\n",
              "        vertical-align: middle;\n",
              "    }\n",
              "\n",
              "    .dataframe tbody tr th {\n",
              "        vertical-align: top;\n",
              "    }\n",
              "\n",
              "    .dataframe thead th {\n",
              "        text-align: right;\n",
              "    }\n",
              "</style>\n",
              "<table border=\"1\" class=\"dataframe\">\n",
              "  <thead>\n",
              "    <tr style=\"text-align: right;\">\n",
              "      <th></th>\n",
              "      <th>tz</th>\n",
              "      <th>os</th>\n",
              "      <th>0</th>\n",
              "    </tr>\n",
              "  </thead>\n",
              "  <tbody>\n",
              "    <tr>\n",
              "      <th>0</th>\n",
              "      <td>America/New_York</td>\n",
              "      <td>Other</td>\n",
              "      <td>339</td>\n",
              "    </tr>\n",
              "    <tr>\n",
              "      <th>1</th>\n",
              "      <td>America/New_York</td>\n",
              "      <td>Windows</td>\n",
              "      <td>912</td>\n",
              "    </tr>\n",
              "    <tr>\n",
              "      <th>2</th>\n",
              "      <td>Unknown</td>\n",
              "      <td>Other</td>\n",
              "      <td>245</td>\n",
              "    </tr>\n",
              "    <tr>\n",
              "      <th>3</th>\n",
              "      <td>Unknown</td>\n",
              "      <td>Windows</td>\n",
              "      <td>276</td>\n",
              "    </tr>\n",
              "    <tr>\n",
              "      <th>4</th>\n",
              "      <td>America/Chicago</td>\n",
              "      <td>Other</td>\n",
              "      <td>115</td>\n",
              "    </tr>\n",
              "    <tr>\n",
              "      <th>5</th>\n",
              "      <td>America/Chicago</td>\n",
              "      <td>Windows</td>\n",
              "      <td>285</td>\n",
              "    </tr>\n",
              "    <tr>\n",
              "      <th>6</th>\n",
              "      <td>America/Los_Angeles</td>\n",
              "      <td>Other</td>\n",
              "      <td>130</td>\n",
              "    </tr>\n",
              "    <tr>\n",
              "      <th>7</th>\n",
              "      <td>America/Los_Angeles</td>\n",
              "      <td>Windows</td>\n",
              "      <td>252</td>\n",
              "    </tr>\n",
              "    <tr>\n",
              "      <th>8</th>\n",
              "      <td>America/Denver</td>\n",
              "      <td>Other</td>\n",
              "      <td>132</td>\n",
              "    </tr>\n",
              "    <tr>\n",
              "      <th>9</th>\n",
              "      <td>America/Denver</td>\n",
              "      <td>Windows</td>\n",
              "      <td>59</td>\n",
              "    </tr>\n",
              "    <tr>\n",
              "      <th>10</th>\n",
              "      <td>Europe/London</td>\n",
              "      <td>Other</td>\n",
              "      <td>43</td>\n",
              "    </tr>\n",
              "    <tr>\n",
              "      <th>11</th>\n",
              "      <td>Europe/London</td>\n",
              "      <td>Windows</td>\n",
              "      <td>31</td>\n",
              "    </tr>\n",
              "    <tr>\n",
              "      <th>12</th>\n",
              "      <td>Asia/Tokyo</td>\n",
              "      <td>Other</td>\n",
              "      <td>2</td>\n",
              "    </tr>\n",
              "    <tr>\n",
              "      <th>13</th>\n",
              "      <td>Asia/Tokyo</td>\n",
              "      <td>Windows</td>\n",
              "      <td>35</td>\n",
              "    </tr>\n",
              "    <tr>\n",
              "      <th>14</th>\n",
              "      <td>Pacific/Honolulu</td>\n",
              "      <td>Windows</td>\n",
              "      <td>36</td>\n",
              "    </tr>\n",
              "    <tr>\n",
              "      <th>15</th>\n",
              "      <td>Europe/Madrid</td>\n",
              "      <td>Other</td>\n",
              "      <td>16</td>\n",
              "    </tr>\n",
              "    <tr>\n",
              "      <th>16</th>\n",
              "      <td>Europe/Madrid</td>\n",
              "      <td>Windows</td>\n",
              "      <td>19</td>\n",
              "    </tr>\n",
              "    <tr>\n",
              "      <th>17</th>\n",
              "      <td>America/Sao_Paulo</td>\n",
              "      <td>Other</td>\n",
              "      <td>13</td>\n",
              "    </tr>\n",
              "    <tr>\n",
              "      <th>18</th>\n",
              "      <td>America/Sao_Paulo</td>\n",
              "      <td>Windows</td>\n",
              "      <td>20</td>\n",
              "    </tr>\n",
              "  </tbody>\n",
              "</table>\n",
              "</div>\n",
              "      <button class=\"colab-df-convert\" onclick=\"convertToInteractive('df-1999a83c-8285-4264-9cbd-021b7c2d95c0')\"\n",
              "              title=\"Convert this dataframe to an interactive table.\"\n",
              "              style=\"display:none;\">\n",
              "        \n",
              "  <svg xmlns=\"http://www.w3.org/2000/svg\" height=\"24px\"viewBox=\"0 0 24 24\"\n",
              "       width=\"24px\">\n",
              "    <path d=\"M0 0h24v24H0V0z\" fill=\"none\"/>\n",
              "    <path d=\"M18.56 5.44l.94 2.06.94-2.06 2.06-.94-2.06-.94-.94-2.06-.94 2.06-2.06.94zm-11 1L8.5 8.5l.94-2.06 2.06-.94-2.06-.94L8.5 2.5l-.94 2.06-2.06.94zm10 10l.94 2.06.94-2.06 2.06-.94-2.06-.94-.94-2.06-.94 2.06-2.06.94z\"/><path d=\"M17.41 7.96l-1.37-1.37c-.4-.4-.92-.59-1.43-.59-.52 0-1.04.2-1.43.59L10.3 9.45l-7.72 7.72c-.78.78-.78 2.05 0 2.83L4 21.41c.39.39.9.59 1.41.59.51 0 1.02-.2 1.41-.59l7.78-7.78 2.81-2.81c.8-.78.8-2.07 0-2.86zM5.41 20L4 18.59l7.72-7.72 1.47 1.35L5.41 20z\"/>\n",
              "  </svg>\n",
              "      </button>\n",
              "      \n",
              "  <style>\n",
              "    .colab-df-container {\n",
              "      display:flex;\n",
              "      flex-wrap:wrap;\n",
              "      gap: 12px;\n",
              "    }\n",
              "\n",
              "    .colab-df-convert {\n",
              "      background-color: #E8F0FE;\n",
              "      border: none;\n",
              "      border-radius: 50%;\n",
              "      cursor: pointer;\n",
              "      display: none;\n",
              "      fill: #1967D2;\n",
              "      height: 32px;\n",
              "      padding: 0 0 0 0;\n",
              "      width: 32px;\n",
              "    }\n",
              "\n",
              "    .colab-df-convert:hover {\n",
              "      background-color: #E2EBFA;\n",
              "      box-shadow: 0px 1px 2px rgba(60, 64, 67, 0.3), 0px 1px 3px 1px rgba(60, 64, 67, 0.15);\n",
              "      fill: #174EA6;\n",
              "    }\n",
              "\n",
              "    [theme=dark] .colab-df-convert {\n",
              "      background-color: #3B4455;\n",
              "      fill: #D2E3FC;\n",
              "    }\n",
              "\n",
              "    [theme=dark] .colab-df-convert:hover {\n",
              "      background-color: #434B5C;\n",
              "      box-shadow: 0px 1px 3px 1px rgba(0, 0, 0, 0.15);\n",
              "      filter: drop-shadow(0px 1px 2px rgba(0, 0, 0, 0.3));\n",
              "      fill: #FFFFFF;\n",
              "    }\n",
              "  </style>\n",
              "\n",
              "      <script>\n",
              "        const buttonEl =\n",
              "          document.querySelector('#df-1999a83c-8285-4264-9cbd-021b7c2d95c0 button.colab-df-convert');\n",
              "        buttonEl.style.display =\n",
              "          google.colab.kernel.accessAllowed ? 'block' : 'none';\n",
              "\n",
              "        async function convertToInteractive(key) {\n",
              "          const element = document.querySelector('#df-1999a83c-8285-4264-9cbd-021b7c2d95c0');\n",
              "          const dataTable =\n",
              "            await google.colab.kernel.invokeFunction('convertToInteractive',\n",
              "                                                     [key], {});\n",
              "          if (!dataTable) return;\n",
              "\n",
              "          const docLinkHtml = 'Like what you see? Visit the ' +\n",
              "            '<a target=\"_blank\" href=https://colab.research.google.com/notebooks/data_table.ipynb>data table notebook</a>'\n",
              "            + ' to learn more about interactive tables.';\n",
              "          element.innerHTML = '';\n",
              "          dataTable['output_type'] = 'display_data';\n",
              "          await google.colab.output.renderOutput(dataTable, element);\n",
              "          const docLink = document.createElement('div');\n",
              "          docLink.innerHTML = docLinkHtml;\n",
              "          element.appendChild(docLink);\n",
              "        }\n",
              "      </script>\n",
              "    </div>\n",
              "  </div>\n",
              "  "
            ]
          },
          "metadata": {},
          "execution_count": 44
        }
      ]
    },
    {
      "cell_type": "code",
      "source": [
        "result.columns = ['tz', 'os', 'count']  # 데이터 프레임의 컬럼 이름\n",
        "result.head()"
      ],
      "metadata": {
        "colab": {
          "base_uri": "https://localhost:8080/",
          "height": 206
        },
        "id": "iCstvpqHjY8k",
        "outputId": "0e991c74-06f8-4d2d-a3a5-db0cf4f8f9b5"
      },
      "execution_count": null,
      "outputs": [
        {
          "output_type": "execute_result",
          "data": {
            "text/plain": [
              "                 tz       os  count\n",
              "0  America/New_York    Other    339\n",
              "1  America/New_York  Windows    912\n",
              "2           Unknown    Other    245\n",
              "3           Unknown  Windows    276\n",
              "4   America/Chicago    Other    115"
            ],
            "text/html": [
              "\n",
              "  <div id=\"df-05fc5d9e-f09c-4f43-b111-7503ac7b123b\">\n",
              "    <div class=\"colab-df-container\">\n",
              "      <div>\n",
              "<style scoped>\n",
              "    .dataframe tbody tr th:only-of-type {\n",
              "        vertical-align: middle;\n",
              "    }\n",
              "\n",
              "    .dataframe tbody tr th {\n",
              "        vertical-align: top;\n",
              "    }\n",
              "\n",
              "    .dataframe thead th {\n",
              "        text-align: right;\n",
              "    }\n",
              "</style>\n",
              "<table border=\"1\" class=\"dataframe\">\n",
              "  <thead>\n",
              "    <tr style=\"text-align: right;\">\n",
              "      <th></th>\n",
              "      <th>tz</th>\n",
              "      <th>os</th>\n",
              "      <th>count</th>\n",
              "    </tr>\n",
              "  </thead>\n",
              "  <tbody>\n",
              "    <tr>\n",
              "      <th>0</th>\n",
              "      <td>America/New_York</td>\n",
              "      <td>Other</td>\n",
              "      <td>339</td>\n",
              "    </tr>\n",
              "    <tr>\n",
              "      <th>1</th>\n",
              "      <td>America/New_York</td>\n",
              "      <td>Windows</td>\n",
              "      <td>912</td>\n",
              "    </tr>\n",
              "    <tr>\n",
              "      <th>2</th>\n",
              "      <td>Unknown</td>\n",
              "      <td>Other</td>\n",
              "      <td>245</td>\n",
              "    </tr>\n",
              "    <tr>\n",
              "      <th>3</th>\n",
              "      <td>Unknown</td>\n",
              "      <td>Windows</td>\n",
              "      <td>276</td>\n",
              "    </tr>\n",
              "    <tr>\n",
              "      <th>4</th>\n",
              "      <td>America/Chicago</td>\n",
              "      <td>Other</td>\n",
              "      <td>115</td>\n",
              "    </tr>\n",
              "  </tbody>\n",
              "</table>\n",
              "</div>\n",
              "      <button class=\"colab-df-convert\" onclick=\"convertToInteractive('df-05fc5d9e-f09c-4f43-b111-7503ac7b123b')\"\n",
              "              title=\"Convert this dataframe to an interactive table.\"\n",
              "              style=\"display:none;\">\n",
              "        \n",
              "  <svg xmlns=\"http://www.w3.org/2000/svg\" height=\"24px\"viewBox=\"0 0 24 24\"\n",
              "       width=\"24px\">\n",
              "    <path d=\"M0 0h24v24H0V0z\" fill=\"none\"/>\n",
              "    <path d=\"M18.56 5.44l.94 2.06.94-2.06 2.06-.94-2.06-.94-.94-2.06-.94 2.06-2.06.94zm-11 1L8.5 8.5l.94-2.06 2.06-.94-2.06-.94L8.5 2.5l-.94 2.06-2.06.94zm10 10l.94 2.06.94-2.06 2.06-.94-2.06-.94-.94-2.06-.94 2.06-2.06.94z\"/><path d=\"M17.41 7.96l-1.37-1.37c-.4-.4-.92-.59-1.43-.59-.52 0-1.04.2-1.43.59L10.3 9.45l-7.72 7.72c-.78.78-.78 2.05 0 2.83L4 21.41c.39.39.9.59 1.41.59.51 0 1.02-.2 1.41-.59l7.78-7.78 2.81-2.81c.8-.78.8-2.07 0-2.86zM5.41 20L4 18.59l7.72-7.72 1.47 1.35L5.41 20z\"/>\n",
              "  </svg>\n",
              "      </button>\n",
              "      \n",
              "  <style>\n",
              "    .colab-df-container {\n",
              "      display:flex;\n",
              "      flex-wrap:wrap;\n",
              "      gap: 12px;\n",
              "    }\n",
              "\n",
              "    .colab-df-convert {\n",
              "      background-color: #E8F0FE;\n",
              "      border: none;\n",
              "      border-radius: 50%;\n",
              "      cursor: pointer;\n",
              "      display: none;\n",
              "      fill: #1967D2;\n",
              "      height: 32px;\n",
              "      padding: 0 0 0 0;\n",
              "      width: 32px;\n",
              "    }\n",
              "\n",
              "    .colab-df-convert:hover {\n",
              "      background-color: #E2EBFA;\n",
              "      box-shadow: 0px 1px 2px rgba(60, 64, 67, 0.3), 0px 1px 3px 1px rgba(60, 64, 67, 0.15);\n",
              "      fill: #174EA6;\n",
              "    }\n",
              "\n",
              "    [theme=dark] .colab-df-convert {\n",
              "      background-color: #3B4455;\n",
              "      fill: #D2E3FC;\n",
              "    }\n",
              "\n",
              "    [theme=dark] .colab-df-convert:hover {\n",
              "      background-color: #434B5C;\n",
              "      box-shadow: 0px 1px 3px 1px rgba(0, 0, 0, 0.15);\n",
              "      filter: drop-shadow(0px 1px 2px rgba(0, 0, 0, 0.3));\n",
              "      fill: #FFFFFF;\n",
              "    }\n",
              "  </style>\n",
              "\n",
              "      <script>\n",
              "        const buttonEl =\n",
              "          document.querySelector('#df-05fc5d9e-f09c-4f43-b111-7503ac7b123b button.colab-df-convert');\n",
              "        buttonEl.style.display =\n",
              "          google.colab.kernel.accessAllowed ? 'block' : 'none';\n",
              "\n",
              "        async function convertToInteractive(key) {\n",
              "          const element = document.querySelector('#df-05fc5d9e-f09c-4f43-b111-7503ac7b123b');\n",
              "          const dataTable =\n",
              "            await google.colab.kernel.invokeFunction('convertToInteractive',\n",
              "                                                     [key], {});\n",
              "          if (!dataTable) return;\n",
              "\n",
              "          const docLinkHtml = 'Like what you see? Visit the ' +\n",
              "            '<a target=\"_blank\" href=https://colab.research.google.com/notebooks/data_table.ipynb>data table notebook</a>'\n",
              "            + ' to learn more about interactive tables.';\n",
              "          element.innerHTML = '';\n",
              "          dataTable['output_type'] = 'display_data';\n",
              "          await google.colab.output.renderOutput(dataTable, element);\n",
              "          const docLink = document.createElement('div');\n",
              "          docLink.innerHTML = docLinkHtml;\n",
              "          element.appendChild(docLink);\n",
              "        }\n",
              "      </script>\n",
              "    </div>\n",
              "  </div>\n",
              "  "
            ]
          },
          "metadata": {},
          "execution_count": 45
        }
      ]
    },
    {
      "cell_type": "code",
      "source": [
        "sns.barplot(x='count', y='tz', hue='os', data=result)\n",
        "plt.show()"
      ],
      "metadata": {
        "colab": {
          "base_uri": "https://localhost:8080/",
          "height": 279
        },
        "id": "aOZup6fVjZ0E",
        "outputId": "531c38c9-ff6f-43b7-dd9f-b55d4ac770d5"
      },
      "execution_count": null,
      "outputs": [
        {
          "output_type": "display_data",
          "data": {
            "text/plain": [
              "<Figure size 432x288 with 1 Axes>"
            ],
            "image/png": "[encoded data removed]"
          },
          "metadata": {
            "needs_background": "light"
          }
        }
      ]
    },
    {
      "cell_type": "code",
      "source": [
        "df_clean.groupby(['tz', 'os']).size()"
      ],
      "metadata": {
        "colab": {
          "base_uri": "https://localhost:8080/"
        },
        "id": "8fmk1RAJjahG",
        "outputId": "60b716ca-6e4f-4a40-828a-24e6513d2323"
      },
      "execution_count": null,
      "outputs": [
        {
          "output_type": "execute_result",
          "data": {
            "text/plain": [
              "tz                   os     \n",
              "Africa/Cairo         Windows      3\n",
              "Africa/Casablanca    Windows      1\n",
              "Africa/Ceuta         Windows      2\n",
              "Africa/Johannesburg  Windows      1\n",
              "Africa/Lusaka        Windows      1\n",
              "                               ... \n",
              "Pacific/Auckland     Other        3\n",
              "                     Windows      8\n",
              "Pacific/Honolulu     Windows     36\n",
              "Unknown              Other      245\n",
              "                     Windows    276\n",
              "Length: 149, dtype: int64"
            ]
          },
          "metadata": {},
          "execution_count": 47
        }
      ]
    },
    {
      "cell_type": "code",
      "source": [
        "df_clean.groupby(['tz', 'os']).size().unstack()"
      ],
      "metadata": {
        "colab": {
          "base_uri": "https://localhost:8080/",
          "height": 455
        },
        "id": "URPk8rXhjbXN",
        "outputId": "21f6355c-0302-433d-9c3c-f92c064ff427"
      },
      "execution_count": null,
      "outputs": [
        {
          "output_type": "execute_result",
          "data": {
            "text/plain": [
              "os                   Other  Windows\n",
              "tz                                 \n",
              "Africa/Cairo           NaN      3.0\n",
              "Africa/Casablanca      NaN      1.0\n",
              "Africa/Ceuta           NaN      2.0\n",
              "Africa/Johannesburg    NaN      1.0\n",
              "Africa/Lusaka          NaN      1.0\n",
              "...                    ...      ...\n",
              "Europe/Warsaw          1.0     15.0\n",
              "Europe/Zurich          4.0      NaN\n",
              "Pacific/Auckland       3.0      8.0\n",
              "Pacific/Honolulu       NaN     36.0\n",
              "Unknown              245.0    276.0\n",
              "\n",
              "[97 rows x 2 columns]"
            ],
            "text/html": [
              "\n",
              "  <div id=\"df-4e0ead29-9d60-45b2-9438-0853fd532424\">\n",
              "    <div class=\"colab-df-container\">\n",
              "      <div>\n",
              "<style scoped>\n",
              "    .dataframe tbody tr th:only-of-type {\n",
              "        vertical-align: middle;\n",
              "    }\n",
              "\n",
              "    .dataframe tbody tr th {\n",
              "        vertical-align: top;\n",
              "    }\n",
              "\n",
              "    .dataframe thead th {\n",
              "        text-align: right;\n",
              "    }\n",
              "</style>\n",
              "<table border=\"1\" class=\"dataframe\">\n",
              "  <thead>\n",
              "    <tr style=\"text-align: right;\">\n",
              "      <th>os</th>\n",
              "      <th>Other</th>\n",
              "      <th>Windows</th>\n",
              "    </tr>\n",
              "    <tr>\n",
              "      <th>tz</th>\n",
              "      <th></th>\n",
              "      <th></th>\n",
              "    </tr>\n",
              "  </thead>\n",
              "  <tbody>\n",
              "    <tr>\n",
              "      <th>Africa/Cairo</th>\n",
              "      <td>NaN</td>\n",
              "      <td>3.0</td>\n",
              "    </tr>\n",
              "    <tr>\n",
              "      <th>Africa/Casablanca</th>\n",
              "      <td>NaN</td>\n",
              "      <td>1.0</td>\n",
              "    </tr>\n",
              "    <tr>\n",
              "      <th>Africa/Ceuta</th>\n",
              "      <td>NaN</td>\n",
              "      <td>2.0</td>\n",
              "    </tr>\n",
              "    <tr>\n",
              "      <th>Africa/Johannesburg</th>\n",
              "      <td>NaN</td>\n",
              "      <td>1.0</td>\n",
              "    </tr>\n",
              "    <tr>\n",
              "      <th>Africa/Lusaka</th>\n",
              "      <td>NaN</td>\n",
              "      <td>1.0</td>\n",
              "    </tr>\n",
              "    <tr>\n",
              "      <th>...</th>\n",
              "      <td>...</td>\n",
              "      <td>...</td>\n",
              "    </tr>\n",
              "    <tr>\n",
              "      <th>Europe/Warsaw</th>\n",
              "      <td>1.0</td>\n",
              "      <td>15.0</td>\n",
              "    </tr>\n",
              "    <tr>\n",
              "      <th>Europe/Zurich</th>\n",
              "      <td>4.0</td>\n",
              "      <td>NaN</td>\n",
              "    </tr>\n",
              "    <tr>\n",
              "      <th>Pacific/Auckland</th>\n",
              "      <td>3.0</td>\n",
              "      <td>8.0</td>\n",
              "    </tr>\n",
              "    <tr>\n",
              "      <th>Pacific/Honolulu</th>\n",
              "      <td>NaN</td>\n",
              "      <td>36.0</td>\n",
              "    </tr>\n",
              "    <tr>\n",
              "      <th>Unknown</th>\n",
              "      <td>245.0</td>\n",
              "      <td>276.0</td>\n",
              "    </tr>\n",
              "  </tbody>\n",
              "</table>\n",
              "<p>97 rows × 2 columns</p>\n",
              "</div>\n",
              "      <button class=\"colab-df-convert\" onclick=\"convertToInteractive('df-4e0ead29-9d60-45b2-9438-0853fd532424')\"\n",
              "              title=\"Convert this dataframe to an interactive table.\"\n",
              "              style=\"display:none;\">\n",
              "        \n",
              "  <svg xmlns=\"http://www.w3.org/2000/svg\" height=\"24px\"viewBox=\"0 0 24 24\"\n",
              "       width=\"24px\">\n",
              "    <path d=\"M0 0h24v24H0V0z\" fill=\"none\"/>\n",
              "    <path d=\"M18.56 5.44l.94 2.06.94-2.06 2.06-.94-2.06-.94-.94-2.06-.94 2.06-2.06.94zm-11 1L8.5 8.5l.94-2.06 2.06-.94-2.06-.94L8.5 2.5l-.94 2.06-2.06.94zm10 10l.94 2.06.94-2.06 2.06-.94-2.06-.94-.94-2.06-.94 2.06-2.06.94z\"/><path d=\"M17.41 7.96l-1.37-1.37c-.4-.4-.92-.59-1.43-.59-.52 0-1.04.2-1.43.59L10.3 9.45l-7.72 7.72c-.78.78-.78 2.05 0 2.83L4 21.41c.39.39.9.59 1.41.59.51 0 1.02-.2 1.41-.59l7.78-7.78 2.81-2.81c.8-.78.8-2.07 0-2.86zM5.41 20L4 18.59l7.72-7.72 1.47 1.35L5.41 20z\"/>\n",
              "  </svg>\n",
              "      </button>\n",
              "      \n",
              "  <style>\n",
              "    .colab-df-container {\n",
              "      display:flex;\n",
              "      flex-wrap:wrap;\n",
              "      gap: 12px;\n",
              "    }\n",
              "\n",
              "    .colab-df-convert {\n",
              "      background-color: #E8F0FE;\n",
              "      border: none;\n",
              "      border-radius: 50%;\n",
              "      cursor: pointer;\n",
              "      display: none;\n",
              "      fill: #1967D2;\n",
              "      height: 32px;\n",
              "      padding: 0 0 0 0;\n",
              "      width: 32px;\n",
              "    }\n",
              "\n",
              "    .colab-df-convert:hover {\n",
              "      background-color: #E2EBFA;\n",
              "      box-shadow: 0px 1px 2px rgba(60, 64, 67, 0.3), 0px 1px 3px 1px rgba(60, 64, 67, 0.15);\n",
              "      fill: #174EA6;\n",
              "    }\n",
              "\n",
              "    [theme=dark] .colab-df-convert {\n",
              "      background-color: #3B4455;\n",
              "      fill: #D2E3FC;\n",
              "    }\n",
              "\n",
              "    [theme=dark] .colab-df-convert:hover {\n",
              "      background-color: #434B5C;\n",
              "      box-shadow: 0px 1px 3px 1px rgba(0, 0, 0, 0.15);\n",
              "      filter: drop-shadow(0px 1px 2px rgba(0, 0, 0, 0.3));\n",
              "      fill: #FFFFFF;\n",
              "    }\n",
              "  </style>\n",
              "\n",
              "      <script>\n",
              "        const buttonEl =\n",
              "          document.querySelector('#df-4e0ead29-9d60-45b2-9438-0853fd532424 button.colab-df-convert');\n",
              "        buttonEl.style.display =\n",
              "          google.colab.kernel.accessAllowed ? 'block' : 'none';\n",
              "\n",
              "        async function convertToInteractive(key) {\n",
              "          const element = document.querySelector('#df-4e0ead29-9d60-45b2-9438-0853fd532424');\n",
              "          const dataTable =\n",
              "            await google.colab.kernel.invokeFunction('convertToInteractive',\n",
              "                                                     [key], {});\n",
              "          if (!dataTable) return;\n",
              "\n",
              "          const docLinkHtml = 'Like what you see? Visit the ' +\n",
              "            '<a target=\"_blank\" href=https://colab.research.google.com/notebooks/data_table.ipynb>data table notebook</a>'\n",
              "            + ' to learn more about interactive tables.';\n",
              "          element.innerHTML = '';\n",
              "          dataTable['output_type'] = 'display_data';\n",
              "          await google.colab.output.renderOutput(dataTable, element);\n",
              "          const docLink = document.createElement('div');\n",
              "          docLink.innerHTML = docLinkHtml;\n",
              "          element.appendChild(docLink);\n",
              "        }\n",
              "      </script>\n",
              "    </div>\n",
              "  </div>\n",
              "  "
            ]
          },
          "metadata": {},
          "execution_count": 48
        }
      ]
    },
    {
      "cell_type": "code",
      "source": [
        "df_clean.groupby(['tz', 'os']).size().unstack().fillna(0)"
      ],
      "metadata": {
        "colab": {
          "base_uri": "https://localhost:8080/",
          "height": 455
        },
        "id": "ze86bJoYjcXu",
        "outputId": "4d93b8ef-7bba-49a5-8f01-3ca96e82c9e8"
      },
      "execution_count": null,
      "outputs": [
        {
          "output_type": "execute_result",
          "data": {
            "text/plain": [
              "os                   Other  Windows\n",
              "tz                                 \n",
              "Africa/Cairo           0.0      3.0\n",
              "Africa/Casablanca      0.0      1.0\n",
              "Africa/Ceuta           0.0      2.0\n",
              "Africa/Johannesburg    0.0      1.0\n",
              "Africa/Lusaka          0.0      1.0\n",
              "...                    ...      ...\n",
              "Europe/Warsaw          1.0     15.0\n",
              "Europe/Zurich          4.0      0.0\n",
              "Pacific/Auckland       3.0      8.0\n",
              "Pacific/Honolulu       0.0     36.0\n",
              "Unknown              245.0    276.0\n",
              "\n",
              "[97 rows x 2 columns]"
            ],
            "text/html": [
              "\n",
              "  <div id=\"df-f72ab854-75f1-4dd9-a231-7697288f0120\">\n",
              "    <div class=\"colab-df-container\">\n",
              "      <div>\n",
              "<style scoped>\n",
              "    .dataframe tbody tr th:only-of-type {\n",
              "        vertical-align: middle;\n",
              "    }\n",
              "\n",
              "    .dataframe tbody tr th {\n",
              "        vertical-align: top;\n",
              "    }\n",
              "\n",
              "    .dataframe thead th {\n",
              "        text-align: right;\n",
              "    }\n",
              "</style>\n",
              "<table border=\"1\" class=\"dataframe\">\n",
              "  <thead>\n",
              "    <tr style=\"text-align: right;\">\n",
              "      <th>os</th>\n",
              "      <th>Other</th>\n",
              "      <th>Windows</th>\n",
              "    </tr>\n",
              "    <tr>\n",
              "      <th>tz</th>\n",
              "      <th></th>\n",
              "      <th></th>\n",
              "    </tr>\n",
              "  </thead>\n",
              "  <tbody>\n",
              "    <tr>\n",
              "      <th>Africa/Cairo</th>\n",
              "      <td>0.0</td>\n",
              "      <td>3.0</td>\n",
              "    </tr>\n",
              "    <tr>\n",
              "      <th>Africa/Casablanca</th>\n",
              "      <td>0.0</td>\n",
              "      <td>1.0</td>\n",
              "    </tr>\n",
              "    <tr>\n",
              "      <th>Africa/Ceuta</th>\n",
              "      <td>0.0</td>\n",
              "      <td>2.0</td>\n",
              "    </tr>\n",
              "    <tr>\n",
              "      <th>Africa/Johannesburg</th>\n",
              "      <td>0.0</td>\n",
              "      <td>1.0</td>\n",
              "    </tr>\n",
              "    <tr>\n",
              "      <th>Africa/Lusaka</th>\n",
              "      <td>0.0</td>\n",
              "      <td>1.0</td>\n",
              "    </tr>\n",
              "    <tr>\n",
              "      <th>...</th>\n",
              "      <td>...</td>\n",
              "      <td>...</td>\n",
              "    </tr>\n",
              "    <tr>\n",
              "      <th>Europe/Warsaw</th>\n",
              "      <td>1.0</td>\n",
              "      <td>15.0</td>\n",
              "    </tr>\n",
              "    <tr>\n",
              "      <th>Europe/Zurich</th>\n",
              "      <td>4.0</td>\n",
              "      <td>0.0</td>\n",
              "    </tr>\n",
              "    <tr>\n",
              "      <th>Pacific/Auckland</th>\n",
              "      <td>3.0</td>\n",
              "      <td>8.0</td>\n",
              "    </tr>\n",
              "    <tr>\n",
              "      <th>Pacific/Honolulu</th>\n",
              "      <td>0.0</td>\n",
              "      <td>36.0</td>\n",
              "    </tr>\n",
              "    <tr>\n",
              "      <th>Unknown</th>\n",
              "      <td>245.0</td>\n",
              "      <td>276.0</td>\n",
              "    </tr>\n",
              "  </tbody>\n",
              "</table>\n",
              "<p>97 rows × 2 columns</p>\n",
              "</div>\n",
              "      <button class=\"colab-df-convert\" onclick=\"convertToInteractive('df-f72ab854-75f1-4dd9-a231-7697288f0120')\"\n",
              "              title=\"Convert this dataframe to an interactive table.\"\n",
              "              style=\"display:none;\">\n",
              "        \n",
              "  <svg xmlns=\"http://www.w3.org/2000/svg\" height=\"24px\"viewBox=\"0 0 24 24\"\n",
              "       width=\"24px\">\n",
              "    <path d=\"M0 0h24v24H0V0z\" fill=\"none\"/>\n",
              "    <path d=\"M18.56 5.44l.94 2.06.94-2.06 2.06-.94-2.06-.94-.94-2.06-.94 2.06-2.06.94zm-11 1L8.5 8.5l.94-2.06 2.06-.94-2.06-.94L8.5 2.5l-.94 2.06-2.06.94zm10 10l.94 2.06.94-2.06 2.06-.94-2.06-.94-.94-2.06-.94 2.06-2.06.94z\"/><path d=\"M17.41 7.96l-1.37-1.37c-.4-.4-.92-.59-1.43-.59-.52 0-1.04.2-1.43.59L10.3 9.45l-7.72 7.72c-.78.78-.78 2.05 0 2.83L4 21.41c.39.39.9.59 1.41.59.51 0 1.02-.2 1.41-.59l7.78-7.78 2.81-2.81c.8-.78.8-2.07 0-2.86zM5.41 20L4 18.59l7.72-7.72 1.47 1.35L5.41 20z\"/>\n",
              "  </svg>\n",
              "      </button>\n",
              "      \n",
              "  <style>\n",
              "    .colab-df-container {\n",
              "      display:flex;\n",
              "      flex-wrap:wrap;\n",
              "      gap: 12px;\n",
              "    }\n",
              "\n",
              "    .colab-df-convert {\n",
              "      background-color: #E8F0FE;\n",
              "      border: none;\n",
              "      border-radius: 50%;\n",
              "      cursor: pointer;\n",
              "      display: none;\n",
              "      fill: #1967D2;\n",
              "      height: 32px;\n",
              "      padding: 0 0 0 0;\n",
              "      width: 32px;\n",
              "    }\n",
              "\n",
              "    .colab-df-convert:hover {\n",
              "      background-color: #E2EBFA;\n",
              "      box-shadow: 0px 1px 2px rgba(60, 64, 67, 0.3), 0px 1px 3px 1px rgba(60, 64, 67, 0.15);\n",
              "      fill: #174EA6;\n",
              "    }\n",
              "\n",
              "    [theme=dark] .colab-df-convert {\n",
              "      background-color: #3B4455;\n",
              "      fill: #D2E3FC;\n",
              "    }\n",
              "\n",
              "    [theme=dark] .colab-df-convert:hover {\n",
              "      background-color: #434B5C;\n",
              "      box-shadow: 0px 1px 3px 1px rgba(0, 0, 0, 0.15);\n",
              "      filter: drop-shadow(0px 1px 2px rgba(0, 0, 0, 0.3));\n",
              "      fill: #FFFFFF;\n",
              "    }\n",
              "  </style>\n",
              "\n",
              "      <script>\n",
              "        const buttonEl =\n",
              "          document.querySelector('#df-f72ab854-75f1-4dd9-a231-7697288f0120 button.colab-df-convert');\n",
              "        buttonEl.style.display =\n",
              "          google.colab.kernel.accessAllowed ? 'block' : 'none';\n",
              "\n",
              "        async function convertToInteractive(key) {\n",
              "          const element = document.querySelector('#df-f72ab854-75f1-4dd9-a231-7697288f0120');\n",
              "          const dataTable =\n",
              "            await google.colab.kernel.invokeFunction('convertToInteractive',\n",
              "                                                     [key], {});\n",
              "          if (!dataTable) return;\n",
              "\n",
              "          const docLinkHtml = 'Like what you see? Visit the ' +\n",
              "            '<a target=\"_blank\" href=https://colab.research.google.com/notebooks/data_table.ipynb>data table notebook</a>'\n",
              "            + ' to learn more about interactive tables.';\n",
              "          element.innerHTML = '';\n",
              "          dataTable['output_type'] = 'display_data';\n",
              "          await google.colab.output.renderOutput(dataTable, element);\n",
              "          const docLink = document.createElement('div');\n",
              "          docLink.innerHTML = docLinkHtml;\n",
              "          element.appendChild(docLink);\n",
              "        }\n",
              "      </script>\n",
              "    </div>\n",
              "  </div>\n",
              "  "
            ]
          },
          "metadata": {},
          "execution_count": 49
        }
      ]
    },
    {
      "cell_type": "code",
      "source": [
        "# fill_value=NA가 있을 때 NA 대신 채워줄 값.\n",
        "result2 = df_clean.pivot_table(index='tz', columns='os', aggfunc='size', fill_value=0)\n",
        "result2"
      ],
      "metadata": {
        "colab": {
          "base_uri": "https://localhost:8080/",
          "height": 455
        },
        "id": "-FWDSZRnjdGm",
        "outputId": "3474566a-89ee-4b62-c4ff-f398d30a49dd"
      },
      "execution_count": null,
      "outputs": [
        {
          "output_type": "execute_result",
          "data": {
            "text/plain": [
              "os                   Other  Windows\n",
              "tz                                 \n",
              "Africa/Cairo             0        3\n",
              "Africa/Casablanca        0        1\n",
              "Africa/Ceuta             0        2\n",
              "Africa/Johannesburg      0        1\n",
              "Africa/Lusaka            0        1\n",
              "...                    ...      ...\n",
              "Europe/Warsaw            1       15\n",
              "Europe/Zurich            4        0\n",
              "Pacific/Auckland         3        8\n",
              "Pacific/Honolulu         0       36\n",
              "Unknown                245      276\n",
              "\n",
              "[97 rows x 2 columns]"
            ],
            "text/html": [
              "\n",
              "  <div id=\"df-59b048b3-438b-412c-bc79-674358f93852\">\n",
              "    <div class=\"colab-df-container\">\n",
              "      <div>\n",
              "<style scoped>\n",
              "    .dataframe tbody tr th:only-of-type {\n",
              "        vertical-align: middle;\n",
              "    }\n",
              "\n",
              "    .dataframe tbody tr th {\n",
              "        vertical-align: top;\n",
              "    }\n",
              "\n",
              "    .dataframe thead th {\n",
              "        text-align: right;\n",
              "    }\n",
              "</style>\n",
              "<table border=\"1\" class=\"dataframe\">\n",
              "  <thead>\n",
              "    <tr style=\"text-align: right;\">\n",
              "      <th>os</th>\n",
              "      <th>Other</th>\n",
              "      <th>Windows</th>\n",
              "    </tr>\n",
              "    <tr>\n",
              "      <th>tz</th>\n",
              "      <th></th>\n",
              "      <th></th>\n",
              "    </tr>\n",
              "  </thead>\n",
              "  <tbody>\n",
              "    <tr>\n",
              "      <th>Africa/Cairo</th>\n",
              "      <td>0</td>\n",
              "      <td>3</td>\n",
              "    </tr>\n",
              "    <tr>\n",
              "      <th>Africa/Casablanca</th>\n",
              "      <td>0</td>\n",
              "      <td>1</td>\n",
              "    </tr>\n",
              "    <tr>\n",
              "      <th>Africa/Ceuta</th>\n",
              "      <td>0</td>\n",
              "      <td>2</td>\n",
              "    </tr>\n",
              "    <tr>\n",
              "      <th>Africa/Johannesburg</th>\n",
              "      <td>0</td>\n",
              "      <td>1</td>\n",
              "    </tr>\n",
              "    <tr>\n",
              "      <th>Africa/Lusaka</th>\n",
              "      <td>0</td>\n",
              "      <td>1</td>\n",
              "    </tr>\n",
              "    <tr>\n",
              "      <th>...</th>\n",
              "      <td>...</td>\n",
              "      <td>...</td>\n",
              "    </tr>\n",
              "    <tr>\n",
              "      <th>Europe/Warsaw</th>\n",
              "      <td>1</td>\n",
              "      <td>15</td>\n",
              "    </tr>\n",
              "    <tr>\n",
              "      <th>Europe/Zurich</th>\n",
              "      <td>4</td>\n",
              "      <td>0</td>\n",
              "    </tr>\n",
              "    <tr>\n",
              "      <th>Pacific/Auckland</th>\n",
              "      <td>3</td>\n",
              "      <td>8</td>\n",
              "    </tr>\n",
              "    <tr>\n",
              "      <th>Pacific/Honolulu</th>\n",
              "      <td>0</td>\n",
              "      <td>36</td>\n",
              "    </tr>\n",
              "    <tr>\n",
              "      <th>Unknown</th>\n",
              "      <td>245</td>\n",
              "      <td>276</td>\n",
              "    </tr>\n",
              "  </tbody>\n",
              "</table>\n",
              "<p>97 rows × 2 columns</p>\n",
              "</div>\n",
              "      <button class=\"colab-df-convert\" onclick=\"convertToInteractive('df-59b048b3-438b-412c-bc79-674358f93852')\"\n",
              "              title=\"Convert this dataframe to an interactive table.\"\n",
              "              style=\"display:none;\">\n",
              "        \n",
              "  <svg xmlns=\"http://www.w3.org/2000/svg\" height=\"24px\"viewBox=\"0 0 24 24\"\n",
              "       width=\"24px\">\n",
              "    <path d=\"M0 0h24v24H0V0z\" fill=\"none\"/>\n",
              "    <path d=\"M18.56 5.44l.94 2.06.94-2.06 2.06-.94-2.06-.94-.94-2.06-.94 2.06-2.06.94zm-11 1L8.5 8.5l.94-2.06 2.06-.94-2.06-.94L8.5 2.5l-.94 2.06-2.06.94zm10 10l.94 2.06.94-2.06 2.06-.94-2.06-.94-.94-2.06-.94 2.06-2.06.94z\"/><path d=\"M17.41 7.96l-1.37-1.37c-.4-.4-.92-.59-1.43-.59-.52 0-1.04.2-1.43.59L10.3 9.45l-7.72 7.72c-.78.78-.78 2.05 0 2.83L4 21.41c.39.39.9.59 1.41.59.51 0 1.02-.2 1.41-.59l7.78-7.78 2.81-2.81c.8-.78.8-2.07 0-2.86zM5.41 20L4 18.59l7.72-7.72 1.47 1.35L5.41 20z\"/>\n",
              "  </svg>\n",
              "      </button>\n",
              "      \n",
              "  <style>\n",
              "    .colab-df-container {\n",
              "      display:flex;\n",
              "      flex-wrap:wrap;\n",
              "      gap: 12px;\n",
              "    }\n",
              "\n",
              "    .colab-df-convert {\n",
              "      background-color: #E8F0FE;\n",
              "      border: none;\n",
              "      border-radius: 50%;\n",
              "      cursor: pointer;\n",
              "      display: none;\n",
              "      fill: #1967D2;\n",
              "      height: 32px;\n",
              "      padding: 0 0 0 0;\n",
              "      width: 32px;\n",
              "    }\n",
              "\n",
              "    .colab-df-convert:hover {\n",
              "      background-color: #E2EBFA;\n",
              "      box-shadow: 0px 1px 2px rgba(60, 64, 67, 0.3), 0px 1px 3px 1px rgba(60, 64, 67, 0.15);\n",
              "      fill: #174EA6;\n",
              "    }\n",
              "\n",
              "    [theme=dark] .colab-df-convert {\n",
              "      background-color: #3B4455;\n",
              "      fill: #D2E3FC;\n",
              "    }\n",
              "\n",
              "    [theme=dark] .colab-df-convert:hover {\n",
              "      background-color: #434B5C;\n",
              "      box-shadow: 0px 1px 3px 1px rgba(0, 0, 0, 0.15);\n",
              "      filter: drop-shadow(0px 1px 2px rgba(0, 0, 0, 0.3));\n",
              "      fill: #FFFFFF;\n",
              "    }\n",
              "  </style>\n",
              "\n",
              "      <script>\n",
              "        const buttonEl =\n",
              "          document.querySelector('#df-59b048b3-438b-412c-bc79-674358f93852 button.colab-df-convert');\n",
              "        buttonEl.style.display =\n",
              "          google.colab.kernel.accessAllowed ? 'block' : 'none';\n",
              "\n",
              "        async function convertToInteractive(key) {\n",
              "          const element = document.querySelector('#df-59b048b3-438b-412c-bc79-674358f93852');\n",
              "          const dataTable =\n",
              "            await google.colab.kernel.invokeFunction('convertToInteractive',\n",
              "                                                     [key], {});\n",
              "          if (!dataTable) return;\n",
              "\n",
              "          const docLinkHtml = 'Like what you see? Visit the ' +\n",
              "            '<a target=\"_blank\" href=https://colab.research.google.com/notebooks/data_table.ipynb>data table notebook</a>'\n",
              "            + ' to learn more about interactive tables.';\n",
              "          element.innerHTML = '';\n",
              "          dataTable['output_type'] = 'display_data';\n",
              "          await google.colab.output.renderOutput(dataTable, element);\n",
              "          const docLink = document.createElement('div');\n",
              "          docLink.innerHTML = docLinkHtml;\n",
              "          element.appendChild(docLink);\n",
              "        }\n",
              "      </script>\n",
              "    </div>\n",
              "  </div>\n",
              "  "
            ]
          },
          "metadata": {},
          "execution_count": 50
        }
      ]
    },
    {
      "cell_type": "code",
      "source": [
        "result2['total'] = result2['Other'] + result2['Windows']\n",
        "result2.head()"
      ],
      "metadata": {
        "colab": {
          "base_uri": "https://localhost:8080/",
          "height": 238
        },
        "id": "Mm_q_WstjeFn",
        "outputId": "15958343-8e8c-4a74-d11a-e718a9d8e0c4"
      },
      "execution_count": null,
      "outputs": [
        {
          "output_type": "execute_result",
          "data": {
            "text/plain": [
              "os                   Other  Windows  total\n",
              "tz                                        \n",
              "Africa/Cairo             0        3      3\n",
              "Africa/Casablanca        0        1      1\n",
              "Africa/Ceuta             0        2      2\n",
              "Africa/Johannesburg      0        1      1\n",
              "Africa/Lusaka            0        1      1"
            ],
            "text/html": [
              "\n",
              "  <div id=\"df-bff60e33-7642-40fb-8d5f-b6ad3bd3fedd\">\n",
              "    <div class=\"colab-df-container\">\n",
              "      <div>\n",
              "<style scoped>\n",
              "    .dataframe tbody tr th:only-of-type {\n",
              "        vertical-align: middle;\n",
              "    }\n",
              "\n",
              "    .dataframe tbody tr th {\n",
              "        vertical-align: top;\n",
              "    }\n",
              "\n",
              "    .dataframe thead th {\n",
              "        text-align: right;\n",
              "    }\n",
              "</style>\n",
              "<table border=\"1\" class=\"dataframe\">\n",
              "  <thead>\n",
              "    <tr style=\"text-align: right;\">\n",
              "      <th>os</th>\n",
              "      <th>Other</th>\n",
              "      <th>Windows</th>\n",
              "      <th>total</th>\n",
              "    </tr>\n",
              "    <tr>\n",
              "      <th>tz</th>\n",
              "      <th></th>\n",
              "      <th></th>\n",
              "      <th></th>\n",
              "    </tr>\n",
              "  </thead>\n",
              "  <tbody>\n",
              "    <tr>\n",
              "      <th>Africa/Cairo</th>\n",
              "      <td>0</td>\n",
              "      <td>3</td>\n",
              "      <td>3</td>\n",
              "    </tr>\n",
              "    <tr>\n",
              "      <th>Africa/Casablanca</th>\n",
              "      <td>0</td>\n",
              "      <td>1</td>\n",
              "      <td>1</td>\n",
              "    </tr>\n",
              "    <tr>\n",
              "      <th>Africa/Ceuta</th>\n",
              "      <td>0</td>\n",
              "      <td>2</td>\n",
              "      <td>2</td>\n",
              "    </tr>\n",
              "    <tr>\n",
              "      <th>Africa/Johannesburg</th>\n",
              "      <td>0</td>\n",
              "      <td>1</td>\n",
              "      <td>1</td>\n",
              "    </tr>\n",
              "    <tr>\n",
              "      <th>Africa/Lusaka</th>\n",
              "      <td>0</td>\n",
              "      <td>1</td>\n",
              "      <td>1</td>\n",
              "    </tr>\n",
              "  </tbody>\n",
              "</table>\n",
              "</div>\n",
              "      <button class=\"colab-df-convert\" onclick=\"convertToInteractive('df-bff60e33-7642-40fb-8d5f-b6ad3bd3fedd')\"\n",
              "              title=\"Convert this dataframe to an interactive table.\"\n",
              "              style=\"display:none;\">\n",
              "        \n",
              "  <svg xmlns=\"http://www.w3.org/2000/svg\" height=\"24px\"viewBox=\"0 0 24 24\"\n",
              "       width=\"24px\">\n",
              "    <path d=\"M0 0h24v24H0V0z\" fill=\"none\"/>\n",
              "    <path d=\"M18.56 5.44l.94 2.06.94-2.06 2.06-.94-2.06-.94-.94-2.06-.94 2.06-2.06.94zm-11 1L8.5 8.5l.94-2.06 2.06-.94-2.06-.94L8.5 2.5l-.94 2.06-2.06.94zm10 10l.94 2.06.94-2.06 2.06-.94-2.06-.94-.94-2.06-.94 2.06-2.06.94z\"/><path d=\"M17.41 7.96l-1.37-1.37c-.4-.4-.92-.59-1.43-.59-.52 0-1.04.2-1.43.59L10.3 9.45l-7.72 7.72c-.78.78-.78 2.05 0 2.83L4 21.41c.39.39.9.59 1.41.59.51 0 1.02-.2 1.41-.59l7.78-7.78 2.81-2.81c.8-.78.8-2.07 0-2.86zM5.41 20L4 18.59l7.72-7.72 1.47 1.35L5.41 20z\"/>\n",
              "  </svg>\n",
              "      </button>\n",
              "      \n",
              "  <style>\n",
              "    .colab-df-container {\n",
              "      display:flex;\n",
              "      flex-wrap:wrap;\n",
              "      gap: 12px;\n",
              "    }\n",
              "\n",
              "    .colab-df-convert {\n",
              "      background-color: #E8F0FE;\n",
              "      border: none;\n",
              "      border-radius: 50%;\n",
              "      cursor: pointer;\n",
              "      display: none;\n",
              "      fill: #1967D2;\n",
              "      height: 32px;\n",
              "      padding: 0 0 0 0;\n",
              "      width: 32px;\n",
              "    }\n",
              "\n",
              "    .colab-df-convert:hover {\n",
              "      background-color: #E2EBFA;\n",
              "      box-shadow: 0px 1px 2px rgba(60, 64, 67, 0.3), 0px 1px 3px 1px rgba(60, 64, 67, 0.15);\n",
              "      fill: #174EA6;\n",
              "    }\n",
              "\n",
              "    [theme=dark] .colab-df-convert {\n",
              "      background-color: #3B4455;\n",
              "      fill: #D2E3FC;\n",
              "    }\n",
              "\n",
              "    [theme=dark] .colab-df-convert:hover {\n",
              "      background-color: #434B5C;\n",
              "      box-shadow: 0px 1px 3px 1px rgba(0, 0, 0, 0.15);\n",
              "      filter: drop-shadow(0px 1px 2px rgba(0, 0, 0, 0.3));\n",
              "      fill: #FFFFFF;\n",
              "    }\n",
              "  </style>\n",
              "\n",
              "      <script>\n",
              "        const buttonEl =\n",
              "          document.querySelector('#df-bff60e33-7642-40fb-8d5f-b6ad3bd3fedd button.colab-df-convert');\n",
              "        buttonEl.style.display =\n",
              "          google.colab.kernel.accessAllowed ? 'block' : 'none';\n",
              "\n",
              "        async function convertToInteractive(key) {\n",
              "          const element = document.querySelector('#df-bff60e33-7642-40fb-8d5f-b6ad3bd3fedd');\n",
              "          const dataTable =\n",
              "            await google.colab.kernel.invokeFunction('convertToInteractive',\n",
              "                                                     [key], {});\n",
              "          if (!dataTable) return;\n",
              "\n",
              "          const docLinkHtml = 'Like what you see? Visit the ' +\n",
              "            '<a target=\"_blank\" href=https://colab.research.google.com/notebooks/data_table.ipynb>data table notebook</a>'\n",
              "            + ' to learn more about interactive tables.';\n",
              "          element.innerHTML = '';\n",
              "          dataTable['output_type'] = 'display_data';\n",
              "          await google.colab.output.renderOutput(dataTable, element);\n",
              "          const docLink = document.createElement('div');\n",
              "          docLink.innerHTML = docLinkHtml;\n",
              "          element.appendChild(docLink);\n",
              "        }\n",
              "      </script>\n",
              "    </div>\n",
              "  </div>\n",
              "  "
            ]
          },
          "metadata": {},
          "execution_count": 51
        }
      ]
    },
    {
      "cell_type": "code",
      "source": [
        "result2.sort_values(by='total', ascending=False)"
      ],
      "metadata": {
        "id": "vaFaZ4Z2je6P",
        "outputId": "f350e9ed-0c19-4162-f6c7-9a4d518dacea",
        "colab": {
          "base_uri": "https://localhost:8080/",
          "height": 455
        }
      },
      "execution_count": null,
      "outputs": [
        {
          "output_type": "execute_result",
          "data": {
            "text/plain": [
              "os                    Other  Windows  total\n",
              "tz                                         \n",
              "America/New_York        339      912   1251\n",
              "Unknown                 245      276    521\n",
              "America/Chicago         115      285    400\n",
              "America/Los_Angeles     130      252    382\n",
              "America/Denver          132       59    191\n",
              "...                     ...      ...    ...\n",
              "Asia/Pontianak            1        0      1\n",
              "Asia/Riyadh               0        1      1\n",
              "Africa/Casablanca         0        1      1\n",
              "Australia/Queensland      0        1      1\n",
              "Asia/Manila               0        1      1\n",
              "\n",
              "[97 rows x 3 columns]"
            ],
            "text/html": [
              "\n",
              "  <div id=\"df-4752b783-28fa-4a23-b853-bf72eacf3c44\">\n",
              "    <div class=\"colab-df-container\">\n",
              "      <div>\n",
              "<style scoped>\n",
              "    .dataframe tbody tr th:only-of-type {\n",
              "        vertical-align: middle;\n",
              "    }\n",
              "\n",
              "    .dataframe tbody tr th {\n",
              "        vertical-align: top;\n",
              "    }\n",
              "\n",
              "    .dataframe thead th {\n",
              "        text-align: right;\n",
              "    }\n",
              "</style>\n",
              "<table border=\"1\" class=\"dataframe\">\n",
              "  <thead>\n",
              "    <tr style=\"text-align: right;\">\n",
              "      <th>os</th>\n",
              "      <th>Other</th>\n",
              "      <th>Windows</th>\n",
              "      <th>total</th>\n",
              "    </tr>\n",
              "    <tr>\n",
              "      <th>tz</th>\n",
              "      <th></th>\n",
              "      <th></th>\n",
              "      <th></th>\n",
              "    </tr>\n",
              "  </thead>\n",
              "  <tbody>\n",
              "    <tr>\n",
              "      <th>America/New_York</th>\n",
              "      <td>339</td>\n",
              "      <td>912</td>\n",
              "      <td>1251</td>\n",
              "    </tr>\n",
              "    <tr>\n",
              "      <th>Unknown</th>\n",
              "      <td>245</td>\n",
              "      <td>276</td>\n",
              "      <td>521</td>\n",
              "    </tr>\n",
              "    <tr>\n",
              "      <th>America/Chicago</th>\n",
              "      <td>115</td>\n",
              "      <td>285</td>\n",
              "      <td>400</td>\n",
              "    </tr>\n",
              "    <tr>\n",
              "      <th>America/Los_Angeles</th>\n",
              "      <td>130</td>\n",
              "      <td>252</td>\n",
              "      <td>382</td>\n",
              "    </tr>\n",
              "    <tr>\n",
              "      <th>America/Denver</th>\n",
              "      <td>132</td>\n",
              "      <td>59</td>\n",
              "      <td>191</td>\n",
              "    </tr>\n",
              "    <tr>\n",
              "      <th>...</th>\n",
              "      <td>...</td>\n",
              "      <td>...</td>\n",
              "      <td>...</td>\n",
              "    </tr>\n",
              "    <tr>\n",
              "      <th>Asia/Pontianak</th>\n",
              "      <td>1</td>\n",
              "      <td>0</td>\n",
              "      <td>1</td>\n",
              "    </tr>\n",
              "    <tr>\n",
              "      <th>Asia/Riyadh</th>\n",
              "      <td>0</td>\n",
              "      <td>1</td>\n",
              "      <td>1</td>\n",
              "    </tr>\n",
              "    <tr>\n",
              "      <th>Africa/Casablanca</th>\n",
              "      <td>0</td>\n",
              "      <td>1</td>\n",
              "      <td>1</td>\n",
              "    </tr>\n",
              "    <tr>\n",
              "      <th>Australia/Queensland</th>\n",
              "      <td>0</td>\n",
              "      <td>1</td>\n",
              "      <td>1</td>\n",
              "    </tr>\n",
              "    <tr>\n",
              "      <th>Asia/Manila</th>\n",
              "      <td>0</td>\n",
              "      <td>1</td>\n",
              "      <td>1</td>\n",
              "    </tr>\n",
              "  </tbody>\n",
              "</table>\n",
              "<p>97 rows × 3 columns</p>\n",
              "</div>\n",
              "      <button class=\"colab-df-convert\" onclick=\"convertToInteractive('df-4752b783-28fa-4a23-b853-bf72eacf3c44')\"\n",
              "              title=\"Convert this dataframe to an interactive table.\"\n",
              "              style=\"display:none;\">\n",
              "        \n",
              "  <svg xmlns=\"http://www.w3.org/2000/svg\" height=\"24px\"viewBox=\"0 0 24 24\"\n",
              "       width=\"24px\">\n",
              "    <path d=\"M0 0h24v24H0V0z\" fill=\"none\"/>\n",
              "    <path d=\"M18.56 5.44l.94 2.06.94-2.06 2.06-.94-2.06-.94-.94-2.06-.94 2.06-2.06.94zm-11 1L8.5 8.5l.94-2.06 2.06-.94-2.06-.94L8.5 2.5l-.94 2.06-2.06.94zm10 10l.94 2.06.94-2.06 2.06-.94-2.06-.94-.94-2.06-.94 2.06-2.06.94z\"/><path d=\"M17.41 7.96l-1.37-1.37c-.4-.4-.92-.59-1.43-.59-.52 0-1.04.2-1.43.59L10.3 9.45l-7.72 7.72c-.78.78-.78 2.05 0 2.83L4 21.41c.39.39.9.59 1.41.59.51 0 1.02-.2 1.41-.59l7.78-7.78 2.81-2.81c.8-.78.8-2.07 0-2.86zM5.41 20L4 18.59l7.72-7.72 1.47 1.35L5.41 20z\"/>\n",
              "  </svg>\n",
              "      </button>\n",
              "      \n",
              "  <style>\n",
              "    .colab-df-container {\n",
              "      display:flex;\n",
              "      flex-wrap:wrap;\n",
              "      gap: 12px;\n",
              "    }\n",
              "\n",
              "    .colab-df-convert {\n",
              "      background-color: #E8F0FE;\n",
              "      border: none;\n",
              "      border-radius: 50%;\n",
              "      cursor: pointer;\n",
              "      display: none;\n",
              "      fill: #1967D2;\n",
              "      height: 32px;\n",
              "      padding: 0 0 0 0;\n",
              "      width: 32px;\n",
              "    }\n",
              "\n",
              "    .colab-df-convert:hover {\n",
              "      background-color: #E2EBFA;\n",
              "      box-shadow: 0px 1px 2px rgba(60, 64, 67, 0.3), 0px 1px 3px 1px rgba(60, 64, 67, 0.15);\n",
              "      fill: #174EA6;\n",
              "    }\n",
              "\n",
              "    [theme=dark] .colab-df-convert {\n",
              "      background-color: #3B4455;\n",
              "      fill: #D2E3FC;\n",
              "    }\n",
              "\n",
              "    [theme=dark] .colab-df-convert:hover {\n",
              "      background-color: #434B5C;\n",
              "      box-shadow: 0px 1px 3px 1px rgba(0, 0, 0, 0.15);\n",
              "      filter: drop-shadow(0px 1px 2px rgba(0, 0, 0, 0.3));\n",
              "      fill: #FFFFFF;\n",
              "    }\n",
              "  </style>\n",
              "\n",
              "      <script>\n",
              "        const buttonEl =\n",
              "          document.querySelector('#df-4752b783-28fa-4a23-b853-bf72eacf3c44 button.colab-df-convert');\n",
              "        buttonEl.style.display =\n",
              "          google.colab.kernel.accessAllowed ? 'block' : 'none';\n",
              "\n",
              "        async function convertToInteractive(key) {\n",
              "          const element = document.querySelector('#df-4752b783-28fa-4a23-b853-bf72eacf3c44');\n",
              "          const dataTable =\n",
              "            await google.colab.kernel.invokeFunction('convertToInteractive',\n",
              "                                                     [key], {});\n",
              "          if (!dataTable) return;\n",
              "\n",
              "          const docLinkHtml = 'Like what you see? Visit the ' +\n",
              "            '<a target=\"_blank\" href=https://colab.research.google.com/notebooks/data_table.ipynb>data table notebook</a>'\n",
              "            + ' to learn more about interactive tables.';\n",
              "          element.innerHTML = '';\n",
              "          dataTable['output_type'] = 'display_data';\n",
              "          await google.colab.output.renderOutput(dataTable, element);\n",
              "          const docLink = document.createElement('div');\n",
              "          docLink.innerHTML = docLinkHtml;\n",
              "          element.appendChild(docLink);\n",
              "        }\n",
              "      </script>\n",
              "    </div>\n",
              "  </div>\n",
              "  "
            ]
          },
          "metadata": {},
          "execution_count": 52
        }
      ]
    },
    {
      "cell_type": "code",
      "source": [
        "df = result2.sort_values(by='total', ascending=False).head(10)\n",
        "df"
      ],
      "metadata": {
        "id": "hq4lTh0XjfoH",
        "outputId": "3a37714e-1dd3-4c7f-f159-e2db43e9d90b",
        "colab": {
          "base_uri": "https://localhost:8080/",
          "height": 394
        }
      },
      "execution_count": null,
      "outputs": [
        {
          "output_type": "execute_result",
          "data": {
            "text/plain": [
              "os                   Other  Windows  total\n",
              "tz                                        \n",
              "America/New_York       339      912   1251\n",
              "Unknown                245      276    521\n",
              "America/Chicago        115      285    400\n",
              "America/Los_Angeles    130      252    382\n",
              "America/Denver         132       59    191\n",
              "Europe/London           43       31     74\n",
              "Asia/Tokyo               2       35     37\n",
              "Pacific/Honolulu         0       36     36\n",
              "Europe/Madrid           16       19     35\n",
              "America/Sao_Paulo       13       20     33"
            ],
            "text/html": [
              "\n",
              "  <div id=\"df-f1f68a21-c165-49a8-80b4-604ed33d285a\">\n",
              "    <div class=\"colab-df-container\">\n",
              "      <div>\n",
              "<style scoped>\n",
              "    .dataframe tbody tr th:only-of-type {\n",
              "        vertical-align: middle;\n",
              "    }\n",
              "\n",
              "    .dataframe tbody tr th {\n",
              "        vertical-align: top;\n",
              "    }\n",
              "\n",
              "    .dataframe thead th {\n",
              "        text-align: right;\n",
              "    }\n",
              "</style>\n",
              "<table border=\"1\" class=\"dataframe\">\n",
              "  <thead>\n",
              "    <tr style=\"text-align: right;\">\n",
              "      <th>os</th>\n",
              "      <th>Other</th>\n",
              "      <th>Windows</th>\n",
              "      <th>total</th>\n",
              "    </tr>\n",
              "    <tr>\n",
              "      <th>tz</th>\n",
              "      <th></th>\n",
              "      <th></th>\n",
              "      <th></th>\n",
              "    </tr>\n",
              "  </thead>\n",
              "  <tbody>\n",
              "    <tr>\n",
              "      <th>America/New_York</th>\n",
              "      <td>339</td>\n",
              "      <td>912</td>\n",
              "      <td>1251</td>\n",
              "    </tr>\n",
              "    <tr>\n",
              "      <th>Unknown</th>\n",
              "      <td>245</td>\n",
              "      <td>276</td>\n",
              "      <td>521</td>\n",
              "    </tr>\n",
              "    <tr>\n",
              "      <th>America/Chicago</th>\n",
              "      <td>115</td>\n",
              "      <td>285</td>\n",
              "      <td>400</td>\n",
              "    </tr>\n",
              "    <tr>\n",
              "      <th>America/Los_Angeles</th>\n",
              "      <td>130</td>\n",
              "      <td>252</td>\n",
              "      <td>382</td>\n",
              "    </tr>\n",
              "    <tr>\n",
              "      <th>America/Denver</th>\n",
              "      <td>132</td>\n",
              "      <td>59</td>\n",
              "      <td>191</td>\n",
              "    </tr>\n",
              "    <tr>\n",
              "      <th>Europe/London</th>\n",
              "      <td>43</td>\n",
              "      <td>31</td>\n",
              "      <td>74</td>\n",
              "    </tr>\n",
              "    <tr>\n",
              "      <th>Asia/Tokyo</th>\n",
              "      <td>2</td>\n",
              "      <td>35</td>\n",
              "      <td>37</td>\n",
              "    </tr>\n",
              "    <tr>\n",
              "      <th>Pacific/Honolulu</th>\n",
              "      <td>0</td>\n",
              "      <td>36</td>\n",
              "      <td>36</td>\n",
              "    </tr>\n",
              "    <tr>\n",
              "      <th>Europe/Madrid</th>\n",
              "      <td>16</td>\n",
              "      <td>19</td>\n",
              "      <td>35</td>\n",
              "    </tr>\n",
              "    <tr>\n",
              "      <th>America/Sao_Paulo</th>\n",
              "      <td>13</td>\n",
              "      <td>20</td>\n",
              "      <td>33</td>\n",
              "    </tr>\n",
              "  </tbody>\n",
              "</table>\n",
              "</div>\n",
              "      <button class=\"colab-df-convert\" onclick=\"convertToInteractive('df-f1f68a21-c165-49a8-80b4-604ed33d285a')\"\n",
              "              title=\"Convert this dataframe to an interactive table.\"\n",
              "              style=\"display:none;\">\n",
              "        \n",
              "  <svg xmlns=\"http://www.w3.org/2000/svg\" height=\"24px\"viewBox=\"0 0 24 24\"\n",
              "       width=\"24px\">\n",
              "    <path d=\"M0 0h24v24H0V0z\" fill=\"none\"/>\n",
              "    <path d=\"M18.56 5.44l.94 2.06.94-2.06 2.06-.94-2.06-.94-.94-2.06-.94 2.06-2.06.94zm-11 1L8.5 8.5l.94-2.06 2.06-.94-2.06-.94L8.5 2.5l-.94 2.06-2.06.94zm10 10l.94 2.06.94-2.06 2.06-.94-2.06-.94-.94-2.06-.94 2.06-2.06.94z\"/><path d=\"M17.41 7.96l-1.37-1.37c-.4-.4-.92-.59-1.43-.59-.52 0-1.04.2-1.43.59L10.3 9.45l-7.72 7.72c-.78.78-.78 2.05 0 2.83L4 21.41c.39.39.9.59 1.41.59.51 0 1.02-.2 1.41-.59l7.78-7.78 2.81-2.81c.8-.78.8-2.07 0-2.86zM5.41 20L4 18.59l7.72-7.72 1.47 1.35L5.41 20z\"/>\n",
              "  </svg>\n",
              "      </button>\n",
              "      \n",
              "  <style>\n",
              "    .colab-df-container {\n",
              "      display:flex;\n",
              "      flex-wrap:wrap;\n",
              "      gap: 12px;\n",
              "    }\n",
              "\n",
              "    .colab-df-convert {\n",
              "      background-color: #E8F0FE;\n",
              "      border: none;\n",
              "      border-radius: 50%;\n",
              "      cursor: pointer;\n",
              "      display: none;\n",
              "      fill: #1967D2;\n",
              "      height: 32px;\n",
              "      padding: 0 0 0 0;\n",
              "      width: 32px;\n",
              "    }\n",
              "\n",
              "    .colab-df-convert:hover {\n",
              "      background-color: #E2EBFA;\n",
              "      box-shadow: 0px 1px 2px rgba(60, 64, 67, 0.3), 0px 1px 3px 1px rgba(60, 64, 67, 0.15);\n",
              "      fill: #174EA6;\n",
              "    }\n",
              "\n",
              "    [theme=dark] .colab-df-convert {\n",
              "      background-color: #3B4455;\n",
              "      fill: #D2E3FC;\n",
              "    }\n",
              "\n",
              "    [theme=dark] .colab-df-convert:hover {\n",
              "      background-color: #434B5C;\n",
              "      box-shadow: 0px 1px 3px 1px rgba(0, 0, 0, 0.15);\n",
              "      filter: drop-shadow(0px 1px 2px rgba(0, 0, 0, 0.3));\n",
              "      fill: #FFFFFF;\n",
              "    }\n",
              "  </style>\n",
              "\n",
              "      <script>\n",
              "        const buttonEl =\n",
              "          document.querySelector('#df-f1f68a21-c165-49a8-80b4-604ed33d285a button.colab-df-convert');\n",
              "        buttonEl.style.display =\n",
              "          google.colab.kernel.accessAllowed ? 'block' : 'none';\n",
              "\n",
              "        async function convertToInteractive(key) {\n",
              "          const element = document.querySelector('#df-f1f68a21-c165-49a8-80b4-604ed33d285a');\n",
              "          const dataTable =\n",
              "            await google.colab.kernel.invokeFunction('convertToInteractive',\n",
              "                                                     [key], {});\n",
              "          if (!dataTable) return;\n",
              "\n",
              "          const docLinkHtml = 'Like what you see? Visit the ' +\n",
              "            '<a target=\"_blank\" href=https://colab.research.google.com/notebooks/data_table.ipynb>data table notebook</a>'\n",
              "            + ' to learn more about interactive tables.';\n",
              "          element.innerHTML = '';\n",
              "          dataTable['output_type'] = 'display_data';\n",
              "          await google.colab.output.renderOutput(dataTable, element);\n",
              "          const docLink = document.createElement('div');\n",
              "          docLink.innerHTML = docLinkHtml;\n",
              "          element.appendChild(docLink);\n",
              "        }\n",
              "      </script>\n",
              "    </div>\n",
              "  </div>\n",
              "  "
            ]
          },
          "metadata": {},
          "execution_count": 53
        }
      ]
    },
    {
      "cell_type": "code",
      "source": [
        "df = df.drop(columns='total')\n",
        "df"
      ],
      "metadata": {
        "id": "nLemb6k7jgaQ",
        "outputId": "6dab9ca0-b611-44fe-ccfb-3c56c033305e",
        "colab": {
          "base_uri": "https://localhost:8080/",
          "height": 394
        }
      },
      "execution_count": null,
      "outputs": [
        {
          "output_type": "execute_result",
          "data": {
            "text/plain": [
              "os                   Other  Windows\n",
              "tz                                 \n",
              "America/New_York       339      912\n",
              "Unknown                245      276\n",
              "America/Chicago        115      285\n",
              "America/Los_Angeles    130      252\n",
              "America/Denver         132       59\n",
              "Europe/London           43       31\n",
              "Asia/Tokyo               2       35\n",
              "Pacific/Honolulu         0       36\n",
              "Europe/Madrid           16       19\n",
              "America/Sao_Paulo       13       20"
            ],
            "text/html": [
              "\n",
              "  <div id=\"df-03775060-5a97-4628-b3ca-1fe671444e9b\">\n",
              "    <div class=\"colab-df-container\">\n",
              "      <div>\n",
              "<style scoped>\n",
              "    .dataframe tbody tr th:only-of-type {\n",
              "        vertical-align: middle;\n",
              "    }\n",
              "\n",
              "    .dataframe tbody tr th {\n",
              "        vertical-align: top;\n",
              "    }\n",
              "\n",
              "    .dataframe thead th {\n",
              "        text-align: right;\n",
              "    }\n",
              "</style>\n",
              "<table border=\"1\" class=\"dataframe\">\n",
              "  <thead>\n",
              "    <tr style=\"text-align: right;\">\n",
              "      <th>os</th>\n",
              "      <th>Other</th>\n",
              "      <th>Windows</th>\n",
              "    </tr>\n",
              "    <tr>\n",
              "      <th>tz</th>\n",
              "      <th></th>\n",
              "      <th></th>\n",
              "    </tr>\n",
              "  </thead>\n",
              "  <tbody>\n",
              "    <tr>\n",
              "      <th>America/New_York</th>\n",
              "      <td>339</td>\n",
              "      <td>912</td>\n",
              "    </tr>\n",
              "    <tr>\n",
              "      <th>Unknown</th>\n",
              "      <td>245</td>\n",
              "      <td>276</td>\n",
              "    </tr>\n",
              "    <tr>\n",
              "      <th>America/Chicago</th>\n",
              "      <td>115</td>\n",
              "      <td>285</td>\n",
              "    </tr>\n",
              "    <tr>\n",
              "      <th>America/Los_Angeles</th>\n",
              "      <td>130</td>\n",
              "      <td>252</td>\n",
              "    </tr>\n",
              "    <tr>\n",
              "      <th>America/Denver</th>\n",
              "      <td>132</td>\n",
              "      <td>59</td>\n",
              "    </tr>\n",
              "    <tr>\n",
              "      <th>Europe/London</th>\n",
              "      <td>43</td>\n",
              "      <td>31</td>\n",
              "    </tr>\n",
              "    <tr>\n",
              "      <th>Asia/Tokyo</th>\n",
              "      <td>2</td>\n",
              "      <td>35</td>\n",
              "    </tr>\n",
              "    <tr>\n",
              "      <th>Pacific/Honolulu</th>\n",
              "      <td>0</td>\n",
              "      <td>36</td>\n",
              "    </tr>\n",
              "    <tr>\n",
              "      <th>Europe/Madrid</th>\n",
              "      <td>16</td>\n",
              "      <td>19</td>\n",
              "    </tr>\n",
              "    <tr>\n",
              "      <th>America/Sao_Paulo</th>\n",
              "      <td>13</td>\n",
              "      <td>20</td>\n",
              "    </tr>\n",
              "  </tbody>\n",
              "</table>\n",
              "</div>\n",
              "      <button class=\"colab-df-convert\" onclick=\"convertToInteractive('df-03775060-5a97-4628-b3ca-1fe671444e9b')\"\n",
              "              title=\"Convert this dataframe to an interactive table.\"\n",
              "              style=\"display:none;\">\n",
              "        \n",
              "  <svg xmlns=\"http://www.w3.org/2000/svg\" height=\"24px\"viewBox=\"0 0 24 24\"\n",
              "       width=\"24px\">\n",
              "    <path d=\"M0 0h24v24H0V0z\" fill=\"none\"/>\n",
              "    <path d=\"M18.56 5.44l.94 2.06.94-2.06 2.06-.94-2.06-.94-.94-2.06-.94 2.06-2.06.94zm-11 1L8.5 8.5l.94-2.06 2.06-.94-2.06-.94L8.5 2.5l-.94 2.06-2.06.94zm10 10l.94 2.06.94-2.06 2.06-.94-2.06-.94-.94-2.06-.94 2.06-2.06.94z\"/><path d=\"M17.41 7.96l-1.37-1.37c-.4-.4-.92-.59-1.43-.59-.52 0-1.04.2-1.43.59L10.3 9.45l-7.72 7.72c-.78.78-.78 2.05 0 2.83L4 21.41c.39.39.9.59 1.41.59.51 0 1.02-.2 1.41-.59l7.78-7.78 2.81-2.81c.8-.78.8-2.07 0-2.86zM5.41 20L4 18.59l7.72-7.72 1.47 1.35L5.41 20z\"/>\n",
              "  </svg>\n",
              "      </button>\n",
              "      \n",
              "  <style>\n",
              "    .colab-df-container {\n",
              "      display:flex;\n",
              "      flex-wrap:wrap;\n",
              "      gap: 12px;\n",
              "    }\n",
              "\n",
              "    .colab-df-convert {\n",
              "      background-color: #E8F0FE;\n",
              "      border: none;\n",
              "      border-radius: 50%;\n",
              "      cursor: pointer;\n",
              "      display: none;\n",
              "      fill: #1967D2;\n",
              "      height: 32px;\n",
              "      padding: 0 0 0 0;\n",
              "      width: 32px;\n",
              "    }\n",
              "\n",
              "    .colab-df-convert:hover {\n",
              "      background-color: #E2EBFA;\n",
              "      box-shadow: 0px 1px 2px rgba(60, 64, 67, 0.3), 0px 1px 3px 1px rgba(60, 64, 67, 0.15);\n",
              "      fill: #174EA6;\n",
              "    }\n",
              "\n",
              "    [theme=dark] .colab-df-convert {\n",
              "      background-color: #3B4455;\n",
              "      fill: #D2E3FC;\n",
              "    }\n",
              "\n",
              "    [theme=dark] .colab-df-convert:hover {\n",
              "      background-color: #434B5C;\n",
              "      box-shadow: 0px 1px 3px 1px rgba(0, 0, 0, 0.15);\n",
              "      filter: drop-shadow(0px 1px 2px rgba(0, 0, 0, 0.3));\n",
              "      fill: #FFFFFF;\n",
              "    }\n",
              "  </style>\n",
              "\n",
              "      <script>\n",
              "        const buttonEl =\n",
              "          document.querySelector('#df-03775060-5a97-4628-b3ca-1fe671444e9b button.colab-df-convert');\n",
              "        buttonEl.style.display =\n",
              "          google.colab.kernel.accessAllowed ? 'block' : 'none';\n",
              "\n",
              "        async function convertToInteractive(key) {\n",
              "          const element = document.querySelector('#df-03775060-5a97-4628-b3ca-1fe671444e9b');\n",
              "          const dataTable =\n",
              "            await google.colab.kernel.invokeFunction('convertToInteractive',\n",
              "                                                     [key], {});\n",
              "          if (!dataTable) return;\n",
              "\n",
              "          const docLinkHtml = 'Like what you see? Visit the ' +\n",
              "            '<a target=\"_blank\" href=https://colab.research.google.com/notebooks/data_table.ipynb>data table notebook</a>'\n",
              "            + ' to learn more about interactive tables.';\n",
              "          element.innerHTML = '';\n",
              "          dataTable['output_type'] = 'display_data';\n",
              "          await google.colab.output.renderOutput(dataTable, element);\n",
              "          const docLink = document.createElement('div');\n",
              "          docLink.innerHTML = docLinkHtml;\n",
              "          element.appendChild(docLink);\n",
              "        }\n",
              "      </script>\n",
              "    </div>\n",
              "  </div>\n",
              "  "
            ]
          },
          "metadata": {},
          "execution_count": 54
        }
      ]
    },
    {
      "cell_type": "code",
      "source": [
        "df.stack()"
      ],
      "metadata": {
        "id": "Azy8CdLCjhQR",
        "outputId": "59614e36-10ba-469b-feb1-7d545bde1373",
        "colab": {
          "base_uri": "https://localhost:8080/"
        }
      },
      "execution_count": null,
      "outputs": [
        {
          "output_type": "execute_result",
          "data": {
            "text/plain": [
              "tz                   os     \n",
              "America/New_York     Other      339\n",
              "                     Windows    912\n",
              "Unknown              Other      245\n",
              "                     Windows    276\n",
              "America/Chicago      Other      115\n",
              "                     Windows    285\n",
              "America/Los_Angeles  Other      130\n",
              "                     Windows    252\n",
              "America/Denver       Other      132\n",
              "                     Windows     59\n",
              "Europe/London        Other       43\n",
              "                     Windows     31\n",
              "Asia/Tokyo           Other        2\n",
              "                     Windows     35\n",
              "Pacific/Honolulu     Other        0\n",
              "                     Windows     36\n",
              "Europe/Madrid        Other       16\n",
              "                     Windows     19\n",
              "America/Sao_Paulo    Other       13\n",
              "                     Windows     20\n",
              "dtype: int64"
            ]
          },
          "metadata": {},
          "execution_count": 55
        }
      ]
    },
    {
      "cell_type": "code",
      "source": [
        "df.stack().reset_index()"
      ],
      "metadata": {
        "id": "W-zSvaScjiBg",
        "outputId": "33aff5ff-01d8-47ca-d16e-968c354dddfc",
        "colab": {
          "base_uri": "https://localhost:8080/",
          "height": 677
        }
      },
      "execution_count": null,
      "outputs": [
        {
          "output_type": "execute_result",
          "data": {
            "text/plain": [
              "                     tz       os    0\n",
              "0      America/New_York    Other  339\n",
              "1      America/New_York  Windows  912\n",
              "2               Unknown    Other  245\n",
              "3               Unknown  Windows  276\n",
              "4       America/Chicago    Other  115\n",
              "5       America/Chicago  Windows  285\n",
              "6   America/Los_Angeles    Other  130\n",
              "7   America/Los_Angeles  Windows  252\n",
              "8        America/Denver    Other  132\n",
              "9        America/Denver  Windows   59\n",
              "10        Europe/London    Other   43\n",
              "11        Europe/London  Windows   31\n",
              "12           Asia/Tokyo    Other    2\n",
              "13           Asia/Tokyo  Windows   35\n",
              "14     Pacific/Honolulu    Other    0\n",
              "15     Pacific/Honolulu  Windows   36\n",
              "16        Europe/Madrid    Other   16\n",
              "17        Europe/Madrid  Windows   19\n",
              "18    America/Sao_Paulo    Other   13\n",
              "19    America/Sao_Paulo  Windows   20"
            ],
            "text/html": [
              "\n",
              "  <div id=\"df-a72baf7e-3019-4a7b-be5a-beb5467a3ada\">\n",
              "    <div class=\"colab-df-container\">\n",
              "      <div>\n",
              "<style scoped>\n",
              "    .dataframe tbody tr th:only-of-type {\n",
              "        vertical-align: middle;\n",
              "    }\n",
              "\n",
              "    .dataframe tbody tr th {\n",
              "        vertical-align: top;\n",
              "    }\n",
              "\n",
              "    .dataframe thead th {\n",
              "        text-align: right;\n",
              "    }\n",
              "</style>\n",
              "<table border=\"1\" class=\"dataframe\">\n",
              "  <thead>\n",
              "    <tr style=\"text-align: right;\">\n",
              "      <th></th>\n",
              "      <th>tz</th>\n",
              "      <th>os</th>\n",
              "      <th>0</th>\n",
              "    </tr>\n",
              "  </thead>\n",
              "  <tbody>\n",
              "    <tr>\n",
              "      <th>0</th>\n",
              "      <td>America/New_York</td>\n",
              "      <td>Other</td>\n",
              "      <td>339</td>\n",
              "    </tr>\n",
              "    <tr>\n",
              "      <th>1</th>\n",
              "      <td>America/New_York</td>\n",
              "      <td>Windows</td>\n",
              "      <td>912</td>\n",
              "    </tr>\n",
              "    <tr>\n",
              "      <th>2</th>\n",
              "      <td>Unknown</td>\n",
              "      <td>Other</td>\n",
              "      <td>245</td>\n",
              "    </tr>\n",
              "    <tr>\n",
              "      <th>3</th>\n",
              "      <td>Unknown</td>\n",
              "      <td>Windows</td>\n",
              "      <td>276</td>\n",
              "    </tr>\n",
              "    <tr>\n",
              "      <th>4</th>\n",
              "      <td>America/Chicago</td>\n",
              "      <td>Other</td>\n",
              "      <td>115</td>\n",
              "    </tr>\n",
              "    <tr>\n",
              "      <th>5</th>\n",
              "      <td>America/Chicago</td>\n",
              "      <td>Windows</td>\n",
              "      <td>285</td>\n",
              "    </tr>\n",
              "    <tr>\n",
              "      <th>6</th>\n",
              "      <td>America/Los_Angeles</td>\n",
              "      <td>Other</td>\n",
              "      <td>130</td>\n",
              "    </tr>\n",
              "    <tr>\n",
              "      <th>7</th>\n",
              "      <td>America/Los_Angeles</td>\n",
              "      <td>Windows</td>\n",
              "      <td>252</td>\n",
              "    </tr>\n",
              "    <tr>\n",
              "      <th>8</th>\n",
              "      <td>America/Denver</td>\n",
              "      <td>Other</td>\n",
              "      <td>132</td>\n",
              "    </tr>\n",
              "    <tr>\n",
              "      <th>9</th>\n",
              "      <td>America/Denver</td>\n",
              "      <td>Windows</td>\n",
              "      <td>59</td>\n",
              "    </tr>\n",
              "    <tr>\n",
              "      <th>10</th>\n",
              "      <td>Europe/London</td>\n",
              "      <td>Other</td>\n",
              "      <td>43</td>\n",
              "    </tr>\n",
              "    <tr>\n",
              "      <th>11</th>\n",
              "      <td>Europe/London</td>\n",
              "      <td>Windows</td>\n",
              "      <td>31</td>\n",
              "    </tr>\n",
              "    <tr>\n",
              "      <th>12</th>\n",
              "      <td>Asia/Tokyo</td>\n",
              "      <td>Other</td>\n",
              "      <td>2</td>\n",
              "    </tr>\n",
              "    <tr>\n",
              "      <th>13</th>\n",
              "      <td>Asia/Tokyo</td>\n",
              "      <td>Windows</td>\n",
              "      <td>35</td>\n",
              "    </tr>\n",
              "    <tr>\n",
              "      <th>14</th>\n",
              "      <td>Pacific/Honolulu</td>\n",
              "      <td>Other</td>\n",
              "      <td>0</td>\n",
              "    </tr>\n",
              "    <tr>\n",
              "      <th>15</th>\n",
              "      <td>Pacific/Honolulu</td>\n",
              "      <td>Windows</td>\n",
              "      <td>36</td>\n",
              "    </tr>\n",
              "    <tr>\n",
              "      <th>16</th>\n",
              "      <td>Europe/Madrid</td>\n",
              "      <td>Other</td>\n",
              "      <td>16</td>\n",
              "    </tr>\n",
              "    <tr>\n",
              "      <th>17</th>\n",
              "      <td>Europe/Madrid</td>\n",
              "      <td>Windows</td>\n",
              "      <td>19</td>\n",
              "    </tr>\n",
              "    <tr>\n",
              "      <th>18</th>\n",
              "      <td>America/Sao_Paulo</td>\n",
              "      <td>Other</td>\n",
              "      <td>13</td>\n",
              "    </tr>\n",
              "    <tr>\n",
              "      <th>19</th>\n",
              "      <td>America/Sao_Paulo</td>\n",
              "      <td>Windows</td>\n",
              "      <td>20</td>\n",
              "    </tr>\n",
              "  </tbody>\n",
              "</table>\n",
              "</div>\n",
              "      <button class=\"colab-df-convert\" onclick=\"convertToInteractive('df-a72baf7e-3019-4a7b-be5a-beb5467a3ada')\"\n",
              "              title=\"Convert this dataframe to an interactive table.\"\n",
              "              style=\"display:none;\">\n",
              "        \n",
              "  <svg xmlns=\"http://www.w3.org/2000/svg\" height=\"24px\"viewBox=\"0 0 24 24\"\n",
              "       width=\"24px\">\n",
              "    <path d=\"M0 0h24v24H0V0z\" fill=\"none\"/>\n",
              "    <path d=\"M18.56 5.44l.94 2.06.94-2.06 2.06-.94-2.06-.94-.94-2.06-.94 2.06-2.06.94zm-11 1L8.5 8.5l.94-2.06 2.06-.94-2.06-.94L8.5 2.5l-.94 2.06-2.06.94zm10 10l.94 2.06.94-2.06 2.06-.94-2.06-.94-.94-2.06-.94 2.06-2.06.94z\"/><path d=\"M17.41 7.96l-1.37-1.37c-.4-.4-.92-.59-1.43-.59-.52 0-1.04.2-1.43.59L10.3 9.45l-7.72 7.72c-.78.78-.78 2.05 0 2.83L4 21.41c.39.39.9.59 1.41.59.51 0 1.02-.2 1.41-.59l7.78-7.78 2.81-2.81c.8-.78.8-2.07 0-2.86zM5.41 20L4 18.59l7.72-7.72 1.47 1.35L5.41 20z\"/>\n",
              "  </svg>\n",
              "      </button>\n",
              "      \n",
              "  <style>\n",
              "    .colab-df-container {\n",
              "      display:flex;\n",
              "      flex-wrap:wrap;\n",
              "      gap: 12px;\n",
              "    }\n",
              "\n",
              "    .colab-df-convert {\n",
              "      background-color: #E8F0FE;\n",
              "      border: none;\n",
              "      border-radius: 50%;\n",
              "      cursor: pointer;\n",
              "      display: none;\n",
              "      fill: #1967D2;\n",
              "      height: 32px;\n",
              "      padding: 0 0 0 0;\n",
              "      width: 32px;\n",
              "    }\n",
              "\n",
              "    .colab-df-convert:hover {\n",
              "      background-color: #E2EBFA;\n",
              "      box-shadow: 0px 1px 2px rgba(60, 64, 67, 0.3), 0px 1px 3px 1px rgba(60, 64, 67, 0.15);\n",
              "      fill: #174EA6;\n",
              "    }\n",
              "\n",
              "    [theme=dark] .colab-df-convert {\n",
              "      background-color: #3B4455;\n",
              "      fill: #D2E3FC;\n",
              "    }\n",
              "\n",
              "    [theme=dark] .colab-df-convert:hover {\n",
              "      background-color: #434B5C;\n",
              "      box-shadow: 0px 1px 3px 1px rgba(0, 0, 0, 0.15);\n",
              "      filter: drop-shadow(0px 1px 2px rgba(0, 0, 0, 0.3));\n",
              "      fill: #FFFFFF;\n",
              "    }\n",
              "  </style>\n",
              "\n",
              "      <script>\n",
              "        const buttonEl =\n",
              "          document.querySelector('#df-a72baf7e-3019-4a7b-be5a-beb5467a3ada button.colab-df-convert');\n",
              "        buttonEl.style.display =\n",
              "          google.colab.kernel.accessAllowed ? 'block' : 'none';\n",
              "\n",
              "        async function convertToInteractive(key) {\n",
              "          const element = document.querySelector('#df-a72baf7e-3019-4a7b-be5a-beb5467a3ada');\n",
              "          const dataTable =\n",
              "            await google.colab.kernel.invokeFunction('convertToInteractive',\n",
              "                                                     [key], {});\n",
              "          if (!dataTable) return;\n",
              "\n",
              "          const docLinkHtml = 'Like what you see? Visit the ' +\n",
              "            '<a target=\"_blank\" href=https://colab.research.google.com/notebooks/data_table.ipynb>data table notebook</a>'\n",
              "            + ' to learn more about interactive tables.';\n",
              "          element.innerHTML = '';\n",
              "          dataTable['output_type'] = 'display_data';\n",
              "          await google.colab.output.renderOutput(dataTable, element);\n",
              "          const docLink = document.createElement('div');\n",
              "          docLink.innerHTML = docLinkHtml;\n",
              "          element.appendChild(docLink);\n",
              "        }\n",
              "      </script>\n",
              "    </div>\n",
              "  </div>\n",
              "  "
            ]
          },
          "metadata": {},
          "execution_count": 56
        }
      ]
    }
  ]
}