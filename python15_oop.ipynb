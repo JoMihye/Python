{
  "nbformat": 4,
  "nbformat_minor": 0,
  "metadata": {
    "colab": {
      "name": "python15_oop.ipynb",
      "provenance": [],
      "authorship_tag": "ABX9TyPTBQtAdns3VopwbQRUH3yU",
      "include_colab_link": true
    },
    "kernelspec": {
      "name": "python3",
      "display_name": "Python 3"
    },
    "language_info": {
      "name": "python"
    }
  },
  "cells": [
    {
      "cell_type": "markdown",
      "metadata": {
        "id": "view-in-github",
        "colab_type": "text"
      },
      "source": [
        "<a href=\"https://colab.research.google.com/github/JoMihye/Python/blob/main/python15_oop.ipynb\" target=\"_parent\"><img src=\"https://colab.research.google.com/assets/colab-badge.svg\" alt=\"Open In Colab\"/></a>"
      ]
    },
    {
      "cell_type": "markdown",
      "source": [
        "# 배경 설명"
      ],
      "metadata": {
        "id": "NRRIpSQ-k2ec"
      }
    },
    {
      "cell_type": "markdown",
      "source": [
        "## list, dict, 반복문 사용"
      ],
      "metadata": {
        "id": "zlQ1uMDpk4fy"
      }
    },
    {
      "cell_type": "code",
      "execution_count": null,
      "metadata": {
        "id": "QjZcdleIh99f"
      },
      "outputs": [],
      "source": [
        "students = [\n",
        "            {'name': 'Aaa', 'korean': 100, 'english': 95, 'math': 90},\n",
        "            {'name': 'Bbb', 'korean': 50, 'english': 100, 'math': 70},\n",
        "            {'name': 'Ccc', 'korean': 80, 'english': 88, 'math': 20},\n",
        "            {'name': 'Ddd', 'korean': 100, 'english': 100, 'math': 100}\n",
        "]"
      ]
    },
    {
      "cell_type": "code",
      "source": [
        "# students에 있는 각 학생들의 총점과 평균을 출력\n",
        "for s in students:\n",
        "    total = s['korean'] + s['english'] + s['math']  # 학생의 세 과목 총점\n",
        "    mean = total / 3  # 학생의 세 과목 평균 점수\n",
        "    print(f'이름: {s[\"name\"]}, 총점: {total}, 평균: {mean}')"
      ],
      "metadata": {
        "colab": {
          "base_uri": "https://localhost:8080/"
        },
        "id": "nBYYcBiclnes",
        "outputId": "0ea53162-05fa-48b3-ccc0-5fc28704a978"
      },
      "execution_count": null,
      "outputs": [
        {
          "output_type": "stream",
          "name": "stdout",
          "text": [
            "이름: Aaa, 총점: 285, 평균: 95.0\n",
            "이름: Bbb, 총점: 220, 평균: 73.33333333333333\n",
            "이름: Ccc, 총점: 188, 평균: 62.666666666666664\n",
            "이름: Ddd, 총점: 300, 평균: 100.0\n"
          ]
        }
      ]
    },
    {
      "cell_type": "markdown",
      "source": [
        "위 코드의 문제점은 dict의 key가 학생마다 다르게 들어간 경우 에러가 발생할 수 있음.\n",
        "\n",
        "학생 한 명에 대한 dict를 함수를 사용해서 항상 동일한 key를 갖도록 만들면 되지 않을까?"
      ],
      "metadata": {
        "id": "AnTTjoNwqNyz"
      }
    },
    {
      "cell_type": "markdown",
      "source": [
        "## 함수형 프로그래밍(Functional Programming)"
      ],
      "metadata": {
        "id": "50auchEdqlts"
      }
    },
    {
      "cell_type": "code",
      "source": [
        "def create_student(name, korean, english, math):\n",
        "    student = {'name': name, \n",
        "               'korean': korean,\n",
        "               'english': english,\n",
        "               'math': math}\n",
        "    return student"
      ],
      "metadata": {
        "id": "n3U1g4tXo5sp"
      },
      "execution_count": null,
      "outputs": []
    },
    {
      "cell_type": "code",
      "source": [
        "stu1 = create_student('오쌤', 50, 70, 100)\n",
        "stu1"
      ],
      "metadata": {
        "colab": {
          "base_uri": "https://localhost:8080/"
        },
        "id": "zReimCrMwD8W",
        "outputId": "8192fc5d-dec7-4ebc-fd37-1dc11d92d536"
      },
      "execution_count": null,
      "outputs": [
        {
          "output_type": "execute_result",
          "data": {
            "text/plain": [
              "{'english': 70, 'korean': 50, 'math': 100, 'name': '오쌤'}"
            ]
          },
          "metadata": {},
          "execution_count": 17
        }
      ]
    },
    {
      "cell_type": "code",
      "source": [
        "def calc_total(student):\n",
        "    total = student['korean'] + student['english'] + student['math']\n",
        "    return total"
      ],
      "metadata": {
        "id": "KLyW2RwEwPiW"
      },
      "execution_count": null,
      "outputs": []
    },
    {
      "cell_type": "code",
      "source": [
        "calc_total(stu1)"
      ],
      "metadata": {
        "colab": {
          "base_uri": "https://localhost:8080/"
        },
        "id": "d8dStF3ZyEFa",
        "outputId": "4d152091-d802-46e2-82ae-b6a85ed00f5d"
      },
      "execution_count": null,
      "outputs": [
        {
          "output_type": "execute_result",
          "data": {
            "text/plain": [
              "220"
            ]
          },
          "metadata": {},
          "execution_count": 19
        }
      ]
    },
    {
      "cell_type": "code",
      "source": [
        "def calc_mean(student):\n",
        "    mean = calc_total(student) / 3\n",
        "    return mean"
      ],
      "metadata": {
        "id": "d287iU8_yGoM"
      },
      "execution_count": null,
      "outputs": []
    },
    {
      "cell_type": "code",
      "source": [
        "calc_mean(stu1)"
      ],
      "metadata": {
        "colab": {
          "base_uri": "https://localhost:8080/"
        },
        "id": "x8_1nzqHzlzl",
        "outputId": "9bb9b2d7-f67c-48e7-a1d6-1c665cd18e4d"
      },
      "execution_count": null,
      "outputs": [
        {
          "output_type": "execute_result",
          "data": {
            "text/plain": [
              "73.33333333333333"
            ]
          },
          "metadata": {},
          "execution_count": 21
        }
      ]
    },
    {
      "cell_type": "code",
      "source": [
        "students = [\n",
        "            create_student('Aaa', 100, 90, 80),\n",
        "            create_student('Bbb', 50, 60, 70),\n",
        "            create_student('Ccc', 90, 92, 98)\n",
        "]\n",
        "students"
      ],
      "metadata": {
        "colab": {
          "base_uri": "https://localhost:8080/"
        },
        "id": "hx51jB9W0QT8",
        "outputId": "e71680e8-2bd7-4fe1-b0dc-08b83c5d863c"
      },
      "execution_count": null,
      "outputs": [
        {
          "output_type": "execute_result",
          "data": {
            "text/plain": [
              "[{'english': 90, 'korean': 100, 'math': 80, 'name': 'Aaa'},\n",
              " {'english': 60, 'korean': 50, 'math': 70, 'name': 'Bbb'},\n",
              " {'english': 92, 'korean': 90, 'math': 98, 'name': 'Ccc'}]"
            ]
          },
          "metadata": {},
          "execution_count": 22
        }
      ]
    },
    {
      "cell_type": "code",
      "source": [
        "for s in students:\n",
        "    total = calc_total(s)\n",
        "    mean = calc_mean(s)\n",
        "    print(f'이름: {s[\"name\"]}, 총점: {total}, 평균: {mean}')"
      ],
      "metadata": {
        "colab": {
          "base_uri": "https://localhost:8080/"
        },
        "id": "stV5G1w70tf5",
        "outputId": "2a152403-0654-4110-ad0b-1cbd8d3c5863"
      },
      "execution_count": null,
      "outputs": [
        {
          "output_type": "stream",
          "name": "stdout",
          "text": [
            "이름: Aaa, 총점: 270, 평균: 90.0\n",
            "이름: Bbb, 총점: 180, 평균: 60.0\n",
            "이름: Ccc, 총점: 280, 평균: 93.33333333333333\n"
          ]
        }
      ]
    },
    {
      "cell_type": "markdown",
      "source": [
        "함수형 프로그래밍 방식의 문제점은 총점, 평균을 계산하는 함수들이 학생 dict(국어, 영어, 수학 점수)와 매우 밀접한 관계를 맺고 있다는 점.\n",
        "\n",
        "서로 밀접한 관계를 가지고 있는 데이터(이름, 국어, 영어, 수학)들과 기능(함수:평균,총점 계산)들을 하나의 객체로 묶을 수 없을까?"
      ],
      "metadata": {
        "id": "NhFo4P8f3sRi"
      }
    },
    {
      "cell_type": "markdown",
      "source": [
        "#OOP(Object-Oriented Programming, 객체 지향 프로그래밍)"
      ],
      "metadata": {
        "id": "r5E0IuT-4caG"
      }
    },
    {
      "cell_type": "markdown",
      "source": [
        "*  객체(object): 프로그램으로 구현할 대상. 데이터 + 기능 ==> 자료구조.\n",
        "*  클래스(class): 객체를 구현하기 위한 설계도. 프로그램 코드.\n",
        "    *  특성, 속성(attribute, property): 객체가 가져야 하는 데이터. 변수에 저장되는 값.\n",
        "    *  메서드(method): 객체가 가져야 하는 기능. 클래스 내부에서 정의하는 함수.\n",
        "    *  class = property + method\n",
        "*  인스턴스(instance): 설계도인 클래스에 따라서 메모리에 생성된 객체.\n",
        "*  인스턴스 생성(instance): 클래스의 인스턴스를 메모리에 적재하는 과정.\n",
        "*  생성자(constructor): 인스턴스를 생성해 주는 함수. 클래스 이름과 동일.\n",
        "    *  생성자를 호출하면 클래스에서 정의된 `__init__()` 메서드가 자동으로 호출됨."
      ],
      "metadata": {
        "id": "YVK5Zfhc4iDP"
      }
    },
    {
      "cell_type": "markdown",
      "source": [
        "python 개발자 코딩 관습\n",
        "\n",
        "*  변수, 함수 이름: var_name, func_name  -> snake 표기법\n",
        "*  클래스 이름: ClassName  -> camel 표기법"
      ],
      "metadata": {
        "id": "qdrnYyE7B8yX"
      }
    },
    {
      "cell_type": "code",
      "source": [
        "# 클래스 정의\n",
        "class Student:\n",
        "    # 객체의 속성들을 초기화(저장)하는 함수 - 생성자를 호출하면 자동으로 호출되는 메서드.\n",
        "    def __init__(self, name, korean, english, math):\n",
        "        self.name = name\n",
        "        self.korean = korean\n",
        "        self.english = english\n",
        "        self.math = math\n",
        "\n",
        "    # 학생(Student) 객체의 기능 - 메서드 정의\n",
        "    def calc_total(self):\n",
        "        total = self.korean + self.english + self.math\n",
        "        return total\n",
        "     \n",
        "    def calc_mean(self):\n",
        "        mean = self.calc_total() / 3\n",
        "        return mean"
      ],
      "metadata": {
        "id": "91ZkX2v1DD7_"
      },
      "execution_count": null,
      "outputs": []
    },
    {
      "cell_type": "code",
      "source": [
        "gildong = Student('홍길동', 100, 50, 90)  # 생성자 호출.\n",
        "print(gildong)  # gildong 변수: 생성된 인스턴스의 주소값을 저장.\n",
        "print(type(gildong))"
      ],
      "metadata": {
        "colab": {
          "base_uri": "https://localhost:8080/"
        },
        "id": "m5wgYKOzEUjn",
        "outputId": "9c4bf566-4740-424a-aa22-2de6c6da8250"
      },
      "execution_count": null,
      "outputs": [
        {
          "output_type": "stream",
          "name": "stdout",
          "text": [
            "<__main__.Student object at 0x7f60b8f68f50>\n",
            "<class '__main__.Student'>\n"
          ]
        }
      ]
    },
    {
      "cell_type": "code",
      "source": [
        "# 객체(인스턴스) 참조(reference): 인스턴스가 저장된 메모리 주소로 객체를 찾아가는 것.\n",
        "print(gildong.name)  # 참조 연산자(reference operator):\n",
        "print(gildong.korean)\n",
        "print(gildong.english)\n",
        "print(gildong.math)"
      ],
      "metadata": {
        "colab": {
          "base_uri": "https://localhost:8080/"
        },
        "id": "UNR9ZcjJIU9E",
        "outputId": "bd9da6ea-faac-408e-ecd2-884cb1bdd245"
      },
      "execution_count": null,
      "outputs": [
        {
          "output_type": "stream",
          "name": "stdout",
          "text": [
            "홍길동\n",
            "100\n",
            "50\n",
            "90\n"
          ]
        }
      ]
    },
    {
      "cell_type": "code",
      "source": [
        "print(gildong.calc_total())\n",
        "print(gildong.calc_mean())"
      ],
      "metadata": {
        "colab": {
          "base_uri": "https://localhost:8080/"
        },
        "id": "8uwkC8OcdMya",
        "outputId": "50f10100-d4c7-4756-e6ee-43df62d769b2"
      },
      "execution_count": null,
      "outputs": [
        {
          "output_type": "stream",
          "name": "stdout",
          "text": [
            "240\n",
            "80.0\n"
          ]
        }
      ]
    },
    {
      "cell_type": "code",
      "source": [
        "oh_ssam = Student(name='오쌤', korean=20, english=30, math=27)"
      ],
      "metadata": {
        "id": "CvDKnEL0dqKG"
      },
      "execution_count": null,
      "outputs": []
    },
    {
      "cell_type": "code",
      "source": [
        "print(oh_ssam.name, oh_ssam.korean)"
      ],
      "metadata": {
        "colab": {
          "base_uri": "https://localhost:8080/"
        },
        "id": "Vijt-Y3Cdr9q",
        "outputId": "1477d66a-9f55-417b-ae44-7b97edea0aa9"
      },
      "execution_count": null,
      "outputs": [
        {
          "output_type": "stream",
          "name": "stdout",
          "text": [
            "오쌤 20\n"
          ]
        }
      ]
    },
    {
      "cell_type": "code",
      "source": [
        "print(oh_ssam.calc_total())\n",
        "print(oh_ssam.calc_mean())"
      ],
      "metadata": {
        "colab": {
          "base_uri": "https://localhost:8080/"
        },
        "id": "bhjpPUY1dtBz",
        "outputId": "d4bfc7e2-cd09-4f8a-9e56-f5979e27aae2"
      },
      "execution_count": null,
      "outputs": [
        {
          "output_type": "stream",
          "name": "stdout",
          "text": [
            "77\n",
            "25.666666666666668\n"
          ]
        }
      ]
    },
    {
      "cell_type": "markdown",
      "source": [
        "# 클래스 작성 연습 1"
      ],
      "metadata": {
        "id": "ALcyFvgcdzLO"
      }
    },
    {
      "cell_type": "code",
      "source": [
        "import math  # math 모듈을 임포트(사용) - sqrt() 함수를 사용하기 위해서"
      ],
      "metadata": {
        "id": "8mNUqnZddx79"
      },
      "execution_count": null,
      "outputs": []
    },
    {
      "cell_type": "code",
      "source": [
        "class Point:\n",
        "    \"\"\"2차원 평면 상의 점의 좌표(x, y)를 표현하는 클래스\"\"\"\n",
        "\n",
        "    def __init__(self, x=0, y=0):\n",
        "        self.x = x\n",
        "        self.y = y\n",
        "\n",
        "    def move(self, dx, dy):\n",
        "        \"\"\"점의 좌표를 원래 위치에서 x축의 방향으로 dx만큼,\n",
        "        y축의 방향으로 dy만큼 이동시키는 메서드\"\"\"\n",
        "        self.x += dx\n",
        "        self.y += dy\n",
        "\n",
        "    def distance(self, other):\n",
        "        \"\"\"현재 위치에서 다른 Point 객체 other까지의 거리를 리턴하는 메서드.\"\"\"\n",
        "        d = math.sqrt((self.x - other.x) ** 2 + (self.y - other.y) ** 2)\n",
        "        return d"
      ],
      "metadata": {
        "id": "NXCOLQgrd39S"
      },
      "execution_count": null,
      "outputs": []
    },
    {
      "cell_type": "code",
      "source": [
        "pt1 = Point()  # default argument를 사용한 생성자 호출\n",
        "print(f'pt1=({pt1.x}, {pt1.y})')"
      ],
      "metadata": {
        "colab": {
          "base_uri": "https://localhost:8080/"
        },
        "id": "wCye-fETd54V",
        "outputId": "0e543ae0-8782-44c5-d5eb-a7421ea253b5"
      },
      "execution_count": null,
      "outputs": [
        {
          "output_type": "stream",
          "name": "stdout",
          "text": [
            "pt1=(0, 0)\n"
          ]
        }
      ]
    },
    {
      "cell_type": "code",
      "source": [
        "pt2 = Point(x=3, y=4)\n",
        "print(f'pt2=({pt2.x}, {pt2.y})')"
      ],
      "metadata": {
        "colab": {
          "base_uri": "https://localhost:8080/"
        },
        "id": "-bZF0w9Gd6w-",
        "outputId": "4a75cf01-340a-4308-b071-455f33e588fe"
      },
      "execution_count": null,
      "outputs": [
        {
          "output_type": "stream",
          "name": "stdout",
          "text": [
            "pt2=(3, 4)\n"
          ]
        }
      ]
    },
    {
      "cell_type": "code",
      "source": [
        "# pt1과 pt2 사이의 거리\n",
        "pt1.distance(pt2)"
      ],
      "metadata": {
        "colab": {
          "base_uri": "https://localhost:8080/"
        },
        "id": "HaUWRouWd7vL",
        "outputId": "d52b813c-cea3-4223-bbc2-2ae2816f116e"
      },
      "execution_count": null,
      "outputs": [
        {
          "output_type": "execute_result",
          "data": {
            "text/plain": [
              "5.0"
            ]
          },
          "metadata": {},
          "execution_count": 35
        }
      ]
    },
    {
      "cell_type": "code",
      "source": [
        "# pt2과 pt1 사이의 거리\n",
        "pt2.distance(pt1)"
      ],
      "metadata": {
        "colab": {
          "base_uri": "https://localhost:8080/"
        },
        "id": "QC7_VLOvd8yC",
        "outputId": "06c9d8a2-19c5-4c86-b42d-be71ac36aa17"
      },
      "execution_count": null,
      "outputs": [
        {
          "output_type": "execute_result",
          "data": {
            "text/plain": [
              "5.0"
            ]
          },
          "metadata": {},
          "execution_count": 36
        }
      ]
    },
    {
      "cell_type": "code",
      "source": [
        "# pt1(0, 0)을 (1, 2)로 옮김\n",
        "pt1.move(1, 2)\n",
        "print(f'pt1=({pt1.x}, {pt1.y})')"
      ],
      "metadata": {
        "colab": {
          "base_uri": "https://localhost:8080/"
        },
        "id": "HV81AAhEd98p",
        "outputId": "f30817ee-f81c-41fb-a437-152758d2072b"
      },
      "execution_count": null,
      "outputs": [
        {
          "output_type": "stream",
          "name": "stdout",
          "text": [
            "pt1=(1, 2)\n"
          ]
        }
      ]
    },
    {
      "cell_type": "markdown",
      "source": [
        "# 클래스 작성 연습 2"
      ],
      "metadata": {
        "id": "ruIhL4i-eaqd"
      }
    },
    {
      "cell_type": "code",
      "source": [
        "class Rectangle:\n",
        "    \"\"\"2차원 평면에서 직사각형을 표현하는 클래스\"\"\"\n",
        "\n",
        "    def __init__(self, x=0, y=0, width=0, height=0):\n",
        "        \"\"\"직사각형 객체의 속성들을 초기화.\n",
        "\n",
        "        x, y: 직사각형의 좌하단의 꼭지점의 x, y좌표.\n",
        "        width: 직사각형의 가로 길이.\n",
        "        height: 직사각형의 세로 길이.\n",
        "        \"\"\"\n",
        "        self.x = x\n",
        "        self.y = y\n",
        "        self.width = width\n",
        "        self.height = height\n",
        "\n",
        "    def area(self):\n",
        "        \"\"\"직사각형의 넓이를 리턴하는 메서드\"\"\"\n",
        "        return self.width * self.height\n",
        "\n",
        "    def perimeter(self):\n",
        "        \"\"\"직사각형의 둘레의 길이를 리턴하는 메서드\"\"\"\n",
        "        return (self.width + self.height) * 2\n",
        "\n",
        "    def resize(self, dw, dh):\n",
        "        \"\"\" 직사각형의 가로 길이를 dw만큼, \n",
        "        직사각형의 세로 길이를 dy만큼 변경하는 메서드\"\"\"\n",
        "        self.width += dw\n",
        "        self.height += dh\n",
        "        return self\n",
        "\n",
        "    def center(self):\n",
        "        \"\"\"직사각형의 중심의 x, y좌표를 리턴하는 메서드\"\"\"\n",
        "        center_x = self.x + self.width / 2\n",
        "        center_y = self.y + self.height / 2\n",
        "        return center_x, center_y"
      ],
      "metadata": {
        "id": "-XG5_SxqeZJ9"
      },
      "execution_count": null,
      "outputs": []
    },
    {
      "cell_type": "code",
      "source": [
        "# 꼭짓점의 좌표가 (0, 0)이고, 가로/세로 길이가 각각 3, 4인 직사각형\n",
        "rect1 = Rectangle(width=3, height=4)\n",
        "print(f'rect1: (x={rect1.x}, y={rect1.y}, w={rect1.width}, h={rect1.height})')"
      ],
      "metadata": {
        "colab": {
          "base_uri": "https://localhost:8080/"
        },
        "id": "PfIlvTUxi96t",
        "outputId": "fadf3322-b17f-443e-c8d6-63c8640f3a54"
      },
      "execution_count": null,
      "outputs": [
        {
          "output_type": "stream",
          "name": "stdout",
          "text": [
            "rect1: (x=0, y=0, w=3, h=4)\n"
          ]
        }
      ]
    },
    {
      "cell_type": "code",
      "source": [
        "# 꼭지점의 좌표가 (1, 1)이고 가로/세로 길이가 40, 30인 직사각형\n",
        "rect2 = Rectangle(x=1, y=1, width=40, height=30)\n",
        "print(f'rect2: (x={rect2.x}, y={rect2.y}, w={rect2.width}, h={rect2.height})')"
      ],
      "metadata": {
        "colab": {
          "base_uri": "https://localhost:8080/"
        },
        "id": "JZ6aHyH5kej9",
        "outputId": "3c6434ca-2c23-41b5-dd8b-219661306455"
      },
      "execution_count": null,
      "outputs": [
        {
          "output_type": "stream",
          "name": "stdout",
          "text": [
            "rect2: (x=1, y=1, w=40, h=30)\n"
          ]
        }
      ]
    },
    {
      "cell_type": "code",
      "source": [
        "Rectangle()\n",
        "Rectangle(0, 0, 100, 200)\n",
        "Rectangle(x=0, y=0, width=100, height=200)\n",
        "Rectangle(3, 4)  # x=3, y=4, w=0, h=0\n",
        "Rectangle(width=3, height=4)  # x=0, y=0, w=3, h=4"
      ],
      "metadata": {
        "colab": {
          "base_uri": "https://localhost:8080/"
        },
        "id": "0dWNIe2atsgt",
        "outputId": "90cff86c-5e06-4e51-f136-be69a7bd70ad"
      },
      "execution_count": null,
      "outputs": [
        {
          "output_type": "execute_result",
          "data": {
            "text/plain": [
              "<__main__.Rectangle at 0x7f60b8e564d0>"
            ]
          },
          "metadata": {},
          "execution_count": 64
        }
      ]
    },
    {
      "cell_type": "code",
      "source": [
        "rect1.area()"
      ],
      "metadata": {
        "colab": {
          "base_uri": "https://localhost:8080/"
        },
        "id": "WjVFpDTNmGML",
        "outputId": "e2a0b478-f0f7-4614-f864-6388bc732a66"
      },
      "execution_count": null,
      "outputs": [
        {
          "output_type": "execute_result",
          "data": {
            "text/plain": [
              "12"
            ]
          },
          "metadata": {},
          "execution_count": 65
        }
      ]
    },
    {
      "cell_type": "code",
      "source": [
        "rect2.area()"
      ],
      "metadata": {
        "colab": {
          "base_uri": "https://localhost:8080/"
        },
        "id": "fccRHBg_nAuJ",
        "outputId": "1f6bc7c0-737a-4c01-aa03-ce2684b60c21"
      },
      "execution_count": null,
      "outputs": [
        {
          "output_type": "execute_result",
          "data": {
            "text/plain": [
              "1200"
            ]
          },
          "metadata": {},
          "execution_count": 66
        }
      ]
    },
    {
      "cell_type": "code",
      "source": [
        "rect1.perimeter()"
      ],
      "metadata": {
        "colab": {
          "base_uri": "https://localhost:8080/"
        },
        "id": "dgBOkKpxnDeD",
        "outputId": "87477f5c-1859-42d4-d397-f4d5e8c6a6c7"
      },
      "execution_count": null,
      "outputs": [
        {
          "output_type": "execute_result",
          "data": {
            "text/plain": [
              "14"
            ]
          },
          "metadata": {},
          "execution_count": 67
        }
      ]
    },
    {
      "cell_type": "code",
      "source": [
        "center = rect1.center()\n",
        "print(center)\n",
        "x, y = rect1.center()  # tuple decomposition(분해)\n",
        "print(x, y)"
      ],
      "metadata": {
        "colab": {
          "base_uri": "https://localhost:8080/"
        },
        "id": "X7ywXTnboAqd",
        "outputId": "80aac462-cbcd-472a-9eeb-5f4efc18a876"
      },
      "execution_count": null,
      "outputs": [
        {
          "output_type": "stream",
          "name": "stdout",
          "text": [
            "(1.5, 2.0)\n",
            "1.5 2.0\n"
          ]
        }
      ]
    },
    {
      "cell_type": "code",
      "source": [
        "result = rect1.resize(1, -1)  # 가로 길이를 1 증가, 세로 길이는 1을 감소\n",
        "print(result)"
      ],
      "metadata": {
        "colab": {
          "base_uri": "https://localhost:8080/"
        },
        "id": "bhRK2vjepvSC",
        "outputId": "c1c890f4-9201-4e93-d870-ffd35756b6c5"
      },
      "execution_count": null,
      "outputs": [
        {
          "output_type": "stream",
          "name": "stdout",
          "text": [
            "<__main__.Rectangle object at 0x7f60b8e07a50>\n"
          ]
        }
      ]
    },
    {
      "cell_type": "code",
      "source": [
        "print(f'rect1: (x={rect1.x}, y={rect1.y}, w={rect1.width}, h={rect1.height})')"
      ],
      "metadata": {
        "colab": {
          "base_uri": "https://localhost:8080/"
        },
        "id": "zCcSdINFwgAM",
        "outputId": "07f9e4e8-4ca6-4d75-fe36-de0501631206"
      },
      "execution_count": null,
      "outputs": [
        {
          "output_type": "stream",
          "name": "stdout",
          "text": [
            "rect1: (x=0, y=0, w=4, h=3)\n"
          ]
        }
      ]
    },
    {
      "cell_type": "code",
      "source": [
        "result.x = 100\n",
        "print(result.x)\n",
        "print(rect1.x)"
      ],
      "metadata": {
        "colab": {
          "base_uri": "https://localhost:8080/"
        },
        "id": "AqKyyUKUyFVL",
        "outputId": "3a90c18e-2131-4c9f-860d-90dcf696e79e"
      },
      "execution_count": null,
      "outputs": [
        {
          "output_type": "stream",
          "name": "stdout",
          "text": [
            "100\n",
            "100\n"
          ]
        }
      ]
    },
    {
      "cell_type": "code",
      "source": [
        "rect1.resize(1, 2).area()  # 메서드 연쇄 호출(chain invoke)"
      ],
      "metadata": {
        "colab": {
          "base_uri": "https://localhost:8080/"
        },
        "id": "7lG0Q4CH0TEG",
        "outputId": "d246023a-b3cb-4573-e4ba-00ca86af2596"
      },
      "execution_count": null,
      "outputs": [
        {
          "output_type": "execute_result",
          "data": {
            "text/plain": [
              "25"
            ]
          },
          "metadata": {},
          "execution_count": 72
        }
      ]
    }
  ]
}