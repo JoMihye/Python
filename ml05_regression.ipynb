{
  "nbformat": 4,
  "nbformat_minor": 0,
  "metadata": {
    "colab": {
      "name": "ml05_regression.ipynb",
      "provenance": [],
      "collapsed_sections": [],
      "authorship_tag": "ABX9TyMe3SCKSiFEHnakA5PRx3+j",
      "include_colab_link": true
    },
    "kernelspec": {
      "name": "python3",
      "display_name": "Python 3"
    },
    "language_info": {
      "name": "python"
    }
  },
  "cells": [
    {
      "cell_type": "markdown",
      "metadata": {
        "id": "view-in-github",
        "colab_type": "text"
      },
      "source": [
        "<a href=\"https://colab.research.google.com/github/JoMihye/Python/blob/main/ml05_regression.ipynb\" target=\"_parent\"><img src=\"https://colab.research.google.com/assets/colab-badge.svg\" alt=\"Open In Colab\"/></a>"
      ]
    },
    {
      "cell_type": "markdown",
      "source": [
        "*   Machine Learning(기계 학습):\n",
        "    *   지도학습(supervised learning): 레이블이 있는 데이터를 학습.\n",
        "        *   분류(classification): 클래스를 분류.\n",
        "        *   회귀(regression): 숫자 예측.\n",
        "    *   비지도학습(unsupervised learning): 레이블이 없는 데이터를 학습.\n",
        "    *   준지도학습(semi-supervised learning): 비지도학습 + 전문가 시스템.\n",
        "    *   강화학습(reinforcement learning): 보상과 벌칙을 통해서 학습."
      ],
      "metadata": {
        "id": "yDSpEoxvWTvd"
      }
    },
    {
      "cell_type": "markdown",
      "source": [
        "# Objectives\n",
        "\n",
        "fish 데이터 셋에서 물고기의 무게(Weight) 예측.\n",
        "*   Perch(농어)의 무게를 길이 특성만으로 예측.\n",
        "    *   Weight(관심 변수, 종속 변수, 레이블) ~ Length(독립 변수, 특성)\n",
        "    *   KNN, Linear Regression\n",
        "*   Perch(농어)의 무게를 모든 특성들을 사용해서 예측.\n",
        "    *   Weight ~ Length + Diagonal + Height + Width\n",
        "    *   Linear Regression"
      ],
      "metadata": {
        "id": "xE5SSwXJWVOb"
      }
    },
    {
      "cell_type": "markdown",
      "source": [
        "# Imports"
      ],
      "metadata": {
        "id": "koJ9d6vOWX7u"
      }
    },
    {
      "cell_type": "code",
      "execution_count": null,
      "metadata": {
        "id": "YFwtcOXRWKST"
      },
      "outputs": [],
      "source": [
        "import numpy as np\n",
        "import pandas as pd\n",
        "import matplotlib.pyplot as plt\n",
        "import seaborn as sns\n",
        "\n",
        "from sklearn.model_selection import train_test_split  # 훈련/테스트 셋 분리\n",
        "from sklearn.preprocessing import StandardScaler  # 특성 스케일링(표준화)\n",
        "from sklearn.preprocessing import PolynomialFeatures  # 다차항을 추가해주는 변환기\n",
        "from sklearn.pipeline import Pipeline  # Transformer(변환기)와 Estimator(예측기)를 연결해 주는 클래스\n",
        "from sklearn.neighbors import KNeighborsRegressor  # KNN 알고리즘을 사용한 숫자 예측.\n",
        "from sklearn.linear_model import LinearRegression  # 선형 회귀를 사용한 숫자 예측.\n",
        "from sklearn.metrics import mean_absolute_error, mean_squared_error, r2_score  # 회귀 평가 지표들"
      ]
    },
    {
      "cell_type": "markdown",
      "source": [
        "# 데이터 준비"
      ],
      "metadata": {
        "id": "zDQewKGiWb0x"
      }
    },
    {
      "cell_type": "code",
      "source": [
        "# fish 데이터 셋\n",
        "fish_csv = 'https://github.com/rickiepark/hg-mldl/raw/master/fish.csv'"
      ],
      "metadata": {
        "id": "hoodxtJ2Wai7"
      },
      "execution_count": null,
      "outputs": []
    },
    {
      "cell_type": "code",
      "source": [
        "fish = pd.read_csv(fish_csv)"
      ],
      "metadata": {
        "id": "PuhvIExpWdTk"
      },
      "execution_count": null,
      "outputs": []
    },
    {
      "cell_type": "code",
      "source": [
        "fish.head()"
      ],
      "metadata": {
        "colab": {
          "base_uri": "https://localhost:8080/",
          "height": 206
        },
        "id": "lxDwI2UeWeOk",
        "outputId": "22e3fd77-7ec2-4a97-d40e-fd8b3389015a"
      },
      "execution_count": null,
      "outputs": [
        {
          "output_type": "execute_result",
          "data": {
            "text/plain": [
              "  Species  Weight  Length  Diagonal   Height   Width\n",
              "0   Bream   242.0    25.4      30.0  11.5200  4.0200\n",
              "1   Bream   290.0    26.3      31.2  12.4800  4.3056\n",
              "2   Bream   340.0    26.5      31.1  12.3778  4.6961\n",
              "3   Bream   363.0    29.0      33.5  12.7300  4.4555\n",
              "4   Bream   430.0    29.0      34.0  12.4440  5.1340"
            ],
            "text/html": [
              "\n",
              "  <div id=\"df-aa606de3-6722-4d2d-8a06-d95fc078c1e0\">\n",
              "    <div class=\"colab-df-container\">\n",
              "      <div>\n",
              "<style scoped>\n",
              "    .dataframe tbody tr th:only-of-type {\n",
              "        vertical-align: middle;\n",
              "    }\n",
              "\n",
              "    .dataframe tbody tr th {\n",
              "        vertical-align: top;\n",
              "    }\n",
              "\n",
              "    .dataframe thead th {\n",
              "        text-align: right;\n",
              "    }\n",
              "</style>\n",
              "<table border=\"1\" class=\"dataframe\">\n",
              "  <thead>\n",
              "    <tr style=\"text-align: right;\">\n",
              "      <th></th>\n",
              "      <th>Species</th>\n",
              "      <th>Weight</th>\n",
              "      <th>Length</th>\n",
              "      <th>Diagonal</th>\n",
              "      <th>Height</th>\n",
              "      <th>Width</th>\n",
              "    </tr>\n",
              "  </thead>\n",
              "  <tbody>\n",
              "    <tr>\n",
              "      <th>0</th>\n",
              "      <td>Bream</td>\n",
              "      <td>242.0</td>\n",
              "      <td>25.4</td>\n",
              "      <td>30.0</td>\n",
              "      <td>11.5200</td>\n",
              "      <td>4.0200</td>\n",
              "    </tr>\n",
              "    <tr>\n",
              "      <th>1</th>\n",
              "      <td>Bream</td>\n",
              "      <td>290.0</td>\n",
              "      <td>26.3</td>\n",
              "      <td>31.2</td>\n",
              "      <td>12.4800</td>\n",
              "      <td>4.3056</td>\n",
              "    </tr>\n",
              "    <tr>\n",
              "      <th>2</th>\n",
              "      <td>Bream</td>\n",
              "      <td>340.0</td>\n",
              "      <td>26.5</td>\n",
              "      <td>31.1</td>\n",
              "      <td>12.3778</td>\n",
              "      <td>4.6961</td>\n",
              "    </tr>\n",
              "    <tr>\n",
              "      <th>3</th>\n",
              "      <td>Bream</td>\n",
              "      <td>363.0</td>\n",
              "      <td>29.0</td>\n",
              "      <td>33.5</td>\n",
              "      <td>12.7300</td>\n",
              "      <td>4.4555</td>\n",
              "    </tr>\n",
              "    <tr>\n",
              "      <th>4</th>\n",
              "      <td>Bream</td>\n",
              "      <td>430.0</td>\n",
              "      <td>29.0</td>\n",
              "      <td>34.0</td>\n",
              "      <td>12.4440</td>\n",
              "      <td>5.1340</td>\n",
              "    </tr>\n",
              "  </tbody>\n",
              "</table>\n",
              "</div>\n",
              "      <button class=\"colab-df-convert\" onclick=\"convertToInteractive('df-aa606de3-6722-4d2d-8a06-d95fc078c1e0')\"\n",
              "              title=\"Convert this dataframe to an interactive table.\"\n",
              "              style=\"display:none;\">\n",
              "        \n",
              "  <svg xmlns=\"http://www.w3.org/2000/svg\" height=\"24px\"viewBox=\"0 0 24 24\"\n",
              "       width=\"24px\">\n",
              "    <path d=\"M0 0h24v24H0V0z\" fill=\"none\"/>\n",
              "    <path d=\"M18.56 5.44l.94 2.06.94-2.06 2.06-.94-2.06-.94-.94-2.06-.94 2.06-2.06.94zm-11 1L8.5 8.5l.94-2.06 2.06-.94-2.06-.94L8.5 2.5l-.94 2.06-2.06.94zm10 10l.94 2.06.94-2.06 2.06-.94-2.06-.94-.94-2.06-.94 2.06-2.06.94z\"/><path d=\"M17.41 7.96l-1.37-1.37c-.4-.4-.92-.59-1.43-.59-.52 0-1.04.2-1.43.59L10.3 9.45l-7.72 7.72c-.78.78-.78 2.05 0 2.83L4 21.41c.39.39.9.59 1.41.59.51 0 1.02-.2 1.41-.59l7.78-7.78 2.81-2.81c.8-.78.8-2.07 0-2.86zM5.41 20L4 18.59l7.72-7.72 1.47 1.35L5.41 20z\"/>\n",
              "  </svg>\n",
              "      </button>\n",
              "      \n",
              "  <style>\n",
              "    .colab-df-container {\n",
              "      display:flex;\n",
              "      flex-wrap:wrap;\n",
              "      gap: 12px;\n",
              "    }\n",
              "\n",
              "    .colab-df-convert {\n",
              "      background-color: #E8F0FE;\n",
              "      border: none;\n",
              "      border-radius: 50%;\n",
              "      cursor: pointer;\n",
              "      display: none;\n",
              "      fill: #1967D2;\n",
              "      height: 32px;\n",
              "      padding: 0 0 0 0;\n",
              "      width: 32px;\n",
              "    }\n",
              "\n",
              "    .colab-df-convert:hover {\n",
              "      background-color: #E2EBFA;\n",
              "      box-shadow: 0px 1px 2px rgba(60, 64, 67, 0.3), 0px 1px 3px 1px rgba(60, 64, 67, 0.15);\n",
              "      fill: #174EA6;\n",
              "    }\n",
              "\n",
              "    [theme=dark] .colab-df-convert {\n",
              "      background-color: #3B4455;\n",
              "      fill: #D2E3FC;\n",
              "    }\n",
              "\n",
              "    [theme=dark] .colab-df-convert:hover {\n",
              "      background-color: #434B5C;\n",
              "      box-shadow: 0px 1px 3px 1px rgba(0, 0, 0, 0.15);\n",
              "      filter: drop-shadow(0px 1px 2px rgba(0, 0, 0, 0.3));\n",
              "      fill: #FFFFFF;\n",
              "    }\n",
              "  </style>\n",
              "\n",
              "      <script>\n",
              "        const buttonEl =\n",
              "          document.querySelector('#df-aa606de3-6722-4d2d-8a06-d95fc078c1e0 button.colab-df-convert');\n",
              "        buttonEl.style.display =\n",
              "          google.colab.kernel.accessAllowed ? 'block' : 'none';\n",
              "\n",
              "        async function convertToInteractive(key) {\n",
              "          const element = document.querySelector('#df-aa606de3-6722-4d2d-8a06-d95fc078c1e0');\n",
              "          const dataTable =\n",
              "            await google.colab.kernel.invokeFunction('convertToInteractive',\n",
              "                                                     [key], {});\n",
              "          if (!dataTable) return;\n",
              "\n",
              "          const docLinkHtml = 'Like what you see? Visit the ' +\n",
              "            '<a target=\"_blank\" href=https://colab.research.google.com/notebooks/data_table.ipynb>data table notebook</a>'\n",
              "            + ' to learn more about interactive tables.';\n",
              "          element.innerHTML = '';\n",
              "          dataTable['output_type'] = 'display_data';\n",
              "          await google.colab.output.renderOutput(dataTable, element);\n",
              "          const docLink = document.createElement('div');\n",
              "          docLink.innerHTML = docLinkHtml;\n",
              "          element.appendChild(docLink);\n",
              "        }\n",
              "      </script>\n",
              "    </div>\n",
              "  </div>\n",
              "  "
            ]
          },
          "metadata": {},
          "execution_count": 4
        }
      ]
    },
    {
      "cell_type": "code",
      "source": [
        "# perch(농어) 데이터 셋\n",
        "perch = fish[fish.Species == 'Perch']"
      ],
      "metadata": {
        "id": "dUzzRNmXWfRU"
      },
      "execution_count": null,
      "outputs": []
    },
    {
      "cell_type": "code",
      "source": [
        "perch.head()"
      ],
      "metadata": {
        "colab": {
          "base_uri": "https://localhost:8080/",
          "height": 206
        },
        "id": "06XOmjs7Wf7N",
        "outputId": "539f0806-32a4-4e57-c03f-6a73aa72db99"
      },
      "execution_count": null,
      "outputs": [
        {
          "output_type": "execute_result",
          "data": {
            "text/plain": [
              "   Species  Weight  Length  Diagonal  Height   Width\n",
              "72   Perch     5.9     8.4       8.8  2.1120  1.4080\n",
              "73   Perch    32.0    13.7      14.7  3.5280  1.9992\n",
              "74   Perch    40.0    15.0      16.0  3.8240  2.4320\n",
              "75   Perch    51.5    16.2      17.2  4.5924  2.6316\n",
              "76   Perch    70.0    17.4      18.5  4.5880  2.9415"
            ],
            "text/html": [
              "\n",
              "  <div id=\"df-aa600daf-9426-4658-933d-d4e236dc728b\">\n",
              "    <div class=\"colab-df-container\">\n",
              "      <div>\n",
              "<style scoped>\n",
              "    .dataframe tbody tr th:only-of-type {\n",
              "        vertical-align: middle;\n",
              "    }\n",
              "\n",
              "    .dataframe tbody tr th {\n",
              "        vertical-align: top;\n",
              "    }\n",
              "\n",
              "    .dataframe thead th {\n",
              "        text-align: right;\n",
              "    }\n",
              "</style>\n",
              "<table border=\"1\" class=\"dataframe\">\n",
              "  <thead>\n",
              "    <tr style=\"text-align: right;\">\n",
              "      <th></th>\n",
              "      <th>Species</th>\n",
              "      <th>Weight</th>\n",
              "      <th>Length</th>\n",
              "      <th>Diagonal</th>\n",
              "      <th>Height</th>\n",
              "      <th>Width</th>\n",
              "    </tr>\n",
              "  </thead>\n",
              "  <tbody>\n",
              "    <tr>\n",
              "      <th>72</th>\n",
              "      <td>Perch</td>\n",
              "      <td>5.9</td>\n",
              "      <td>8.4</td>\n",
              "      <td>8.8</td>\n",
              "      <td>2.1120</td>\n",
              "      <td>1.4080</td>\n",
              "    </tr>\n",
              "    <tr>\n",
              "      <th>73</th>\n",
              "      <td>Perch</td>\n",
              "      <td>32.0</td>\n",
              "      <td>13.7</td>\n",
              "      <td>14.7</td>\n",
              "      <td>3.5280</td>\n",
              "      <td>1.9992</td>\n",
              "    </tr>\n",
              "    <tr>\n",
              "      <th>74</th>\n",
              "      <td>Perch</td>\n",
              "      <td>40.0</td>\n",
              "      <td>15.0</td>\n",
              "      <td>16.0</td>\n",
              "      <td>3.8240</td>\n",
              "      <td>2.4320</td>\n",
              "    </tr>\n",
              "    <tr>\n",
              "      <th>75</th>\n",
              "      <td>Perch</td>\n",
              "      <td>51.5</td>\n",
              "      <td>16.2</td>\n",
              "      <td>17.2</td>\n",
              "      <td>4.5924</td>\n",
              "      <td>2.6316</td>\n",
              "    </tr>\n",
              "    <tr>\n",
              "      <th>76</th>\n",
              "      <td>Perch</td>\n",
              "      <td>70.0</td>\n",
              "      <td>17.4</td>\n",
              "      <td>18.5</td>\n",
              "      <td>4.5880</td>\n",
              "      <td>2.9415</td>\n",
              "    </tr>\n",
              "  </tbody>\n",
              "</table>\n",
              "</div>\n",
              "      <button class=\"colab-df-convert\" onclick=\"convertToInteractive('df-aa600daf-9426-4658-933d-d4e236dc728b')\"\n",
              "              title=\"Convert this dataframe to an interactive table.\"\n",
              "              style=\"display:none;\">\n",
              "        \n",
              "  <svg xmlns=\"http://www.w3.org/2000/svg\" height=\"24px\"viewBox=\"0 0 24 24\"\n",
              "       width=\"24px\">\n",
              "    <path d=\"M0 0h24v24H0V0z\" fill=\"none\"/>\n",
              "    <path d=\"M18.56 5.44l.94 2.06.94-2.06 2.06-.94-2.06-.94-.94-2.06-.94 2.06-2.06.94zm-11 1L8.5 8.5l.94-2.06 2.06-.94-2.06-.94L8.5 2.5l-.94 2.06-2.06.94zm10 10l.94 2.06.94-2.06 2.06-.94-2.06-.94-.94-2.06-.94 2.06-2.06.94z\"/><path d=\"M17.41 7.96l-1.37-1.37c-.4-.4-.92-.59-1.43-.59-.52 0-1.04.2-1.43.59L10.3 9.45l-7.72 7.72c-.78.78-.78 2.05 0 2.83L4 21.41c.39.39.9.59 1.41.59.51 0 1.02-.2 1.41-.59l7.78-7.78 2.81-2.81c.8-.78.8-2.07 0-2.86zM5.41 20L4 18.59l7.72-7.72 1.47 1.35L5.41 20z\"/>\n",
              "  </svg>\n",
              "      </button>\n",
              "      \n",
              "  <style>\n",
              "    .colab-df-container {\n",
              "      display:flex;\n",
              "      flex-wrap:wrap;\n",
              "      gap: 12px;\n",
              "    }\n",
              "\n",
              "    .colab-df-convert {\n",
              "      background-color: #E8F0FE;\n",
              "      border: none;\n",
              "      border-radius: 50%;\n",
              "      cursor: pointer;\n",
              "      display: none;\n",
              "      fill: #1967D2;\n",
              "      height: 32px;\n",
              "      padding: 0 0 0 0;\n",
              "      width: 32px;\n",
              "    }\n",
              "\n",
              "    .colab-df-convert:hover {\n",
              "      background-color: #E2EBFA;\n",
              "      box-shadow: 0px 1px 2px rgba(60, 64, 67, 0.3), 0px 1px 3px 1px rgba(60, 64, 67, 0.15);\n",
              "      fill: #174EA6;\n",
              "    }\n",
              "\n",
              "    [theme=dark] .colab-df-convert {\n",
              "      background-color: #3B4455;\n",
              "      fill: #D2E3FC;\n",
              "    }\n",
              "\n",
              "    [theme=dark] .colab-df-convert:hover {\n",
              "      background-color: #434B5C;\n",
              "      box-shadow: 0px 1px 3px 1px rgba(0, 0, 0, 0.15);\n",
              "      filter: drop-shadow(0px 1px 2px rgba(0, 0, 0, 0.3));\n",
              "      fill: #FFFFFF;\n",
              "    }\n",
              "  </style>\n",
              "\n",
              "      <script>\n",
              "        const buttonEl =\n",
              "          document.querySelector('#df-aa600daf-9426-4658-933d-d4e236dc728b button.colab-df-convert');\n",
              "        buttonEl.style.display =\n",
              "          google.colab.kernel.accessAllowed ? 'block' : 'none';\n",
              "\n",
              "        async function convertToInteractive(key) {\n",
              "          const element = document.querySelector('#df-aa600daf-9426-4658-933d-d4e236dc728b');\n",
              "          const dataTable =\n",
              "            await google.colab.kernel.invokeFunction('convertToInteractive',\n",
              "                                                     [key], {});\n",
              "          if (!dataTable) return;\n",
              "\n",
              "          const docLinkHtml = 'Like what you see? Visit the ' +\n",
              "            '<a target=\"_blank\" href=https://colab.research.google.com/notebooks/data_table.ipynb>data table notebook</a>'\n",
              "            + ' to learn more about interactive tables.';\n",
              "          element.innerHTML = '';\n",
              "          dataTable['output_type'] = 'display_data';\n",
              "          await google.colab.output.renderOutput(dataTable, element);\n",
              "          const docLink = document.createElement('div');\n",
              "          docLink.innerHTML = docLinkHtml;\n",
              "          element.appendChild(docLink);\n",
              "        }\n",
              "      </script>\n",
              "    </div>\n",
              "  </div>\n",
              "  "
            ]
          },
          "metadata": {},
          "execution_count": 6
        }
      ]
    },
    {
      "cell_type": "code",
      "source": [
        "perch.info()"
      ],
      "metadata": {
        "colab": {
          "base_uri": "https://localhost:8080/"
        },
        "id": "6GtpnxbcWg9U",
        "outputId": "ac40a0ae-8997-4bd3-a776-67c25357032d"
      },
      "execution_count": null,
      "outputs": [
        {
          "output_type": "stream",
          "name": "stdout",
          "text": [
            "<class 'pandas.core.frame.DataFrame'>\n",
            "Int64Index: 56 entries, 72 to 127\n",
            "Data columns (total 6 columns):\n",
            " #   Column    Non-Null Count  Dtype  \n",
            "---  ------    --------------  -----  \n",
            " 0   Species   56 non-null     object \n",
            " 1   Weight    56 non-null     float64\n",
            " 2   Length    56 non-null     float64\n",
            " 3   Diagonal  56 non-null     float64\n",
            " 4   Height    56 non-null     float64\n",
            " 5   Width     56 non-null     float64\n",
            "dtypes: float64(5), object(1)\n",
            "memory usage: 3.1+ KB\n"
          ]
        }
      ]
    },
    {
      "cell_type": "markdown",
      "source": [
        "농어의 무게(Weight)를 길이(Length)만으로 예측할 수 있을까?\n",
        "*   특성(feature), 독립 변수: Length\n",
        "*   타겟(target), 레이블(label), 종속(관심) 변수: Weight"
      ],
      "metadata": {
        "id": "fVG-kCmiWi6z"
      }
    },
    {
      "cell_type": "code",
      "source": [
        "# X: 특성 (2차원) 배열 - 독립 변수, y: 타겟 (1차원) 배열 - 종속 변수\n",
        "X = perch[['Length']].values.copy()  #> (56, 1) shape의 2차원 배열\n",
        "y = perch['Weight'].values.copy()  #> (56,) shape의 1차원 배열"
      ],
      "metadata": {
        "id": "W3jB9ljvWh2F"
      },
      "execution_count": null,
      "outputs": []
    },
    {
      "cell_type": "code",
      "source": [
        "X.shape, y.shape"
      ],
      "metadata": {
        "colab": {
          "base_uri": "https://localhost:8080/"
        },
        "id": "WSbpCF9UWjxe",
        "outputId": "1102a594-ce0e-4dfb-cda6-bc03898478f3"
      },
      "execution_count": null,
      "outputs": [
        {
          "output_type": "execute_result",
          "data": {
            "text/plain": [
              "((56, 1), (56,))"
            ]
          },
          "metadata": {},
          "execution_count": 9
        }
      ]
    },
    {
      "cell_type": "markdown",
      "source": [
        "# train/test split"
      ],
      "metadata": {
        "id": "PhSbtIXVWl0o"
      }
    },
    {
      "cell_type": "code",
      "source": [
        "X_tr, X_te, y_tr, y_te = train_test_split(X, y,\n",
        "                                          test_size=0.25,\n",
        "                                          random_state=42)"
      ],
      "metadata": {
        "id": "leC25GYkWk92"
      },
      "execution_count": null,
      "outputs": []
    },
    {
      "cell_type": "code",
      "source": [
        "X_tr.shape, X_te.shape, y_tr.shape, y_te.shape"
      ],
      "metadata": {
        "colab": {
          "base_uri": "https://localhost:8080/"
        },
        "id": "LoT9zOaKWnVw",
        "outputId": "e054bd47-68bc-433b-f1d6-3779b494e7d7"
      },
      "execution_count": null,
      "outputs": [
        {
          "output_type": "execute_result",
          "data": {
            "text/plain": [
              "((42, 1), (14, 1), (42,), (14,))"
            ]
          },
          "metadata": {},
          "execution_count": 11
        }
      ]
    },
    {
      "cell_type": "code",
      "source": [
        "# Weight ~ Length 시각화. 훈련 셋/테스트 셋의 색깔을 다르게.\n",
        "plt.scatter(X_tr, y_tr, alpha=0.5, label='Train')\n",
        "plt.scatter(X_te, y_te, alpha=0.5, color='red', label='Test')\n",
        "\n",
        "plt.legend()\n",
        "plt.xlabel('length (cm)')\n",
        "plt.ylabel('weight (g)')\n",
        "plt.title('Perch')\n",
        "plt.grid()\n",
        "plt.show()"
      ],
      "metadata": {
        "colab": {
          "base_uri": "https://localhost:8080/",
          "height": 295
        },
        "id": "_hs9qYb2WoFo",
        "outputId": "efa7b2c2-a516-415a-b31c-b92dadd5e671"
      },
      "execution_count": null,
      "outputs": [
        {
          "output_type": "display_data",
          "data": {
            "text/plain": [
              "<Figure size 432x288 with 1 Axes>"
            ],
            "image/png": "[encoded data removed]"
          },
          "metadata": {
            "needs_background": "light"
          }
        }
      ]
    },
    {
      "cell_type": "markdown",
      "source": [
        "# KNN Regressor 모델 훈련, 평가"
      ],
      "metadata": {
        "id": "IYOZf3h5Wpe8"
      }
    },
    {
      "cell_type": "markdown",
      "source": [
        "KNN(k-Nearest Neighbors) Regressor: 가장 가까운 k개의 이웃들의 레이블(타겟)의 평균값으로 숫자를 예측하는 모델."
      ],
      "metadata": {
        "id": "X5qHtSHpWrSr"
      }
    },
    {
      "cell_type": "code",
      "source": [
        "knn_reg = KNeighborsRegressor()  # k=5인 KNN 회귀 모델을 생성"
      ],
      "metadata": {
        "id": "g5_x1AMrWovg"
      },
      "execution_count": null,
      "outputs": []
    },
    {
      "cell_type": "code",
      "source": [
        "knn_reg.fit(X_tr, y_tr)  # 모델 훈련"
      ],
      "metadata": {
        "colab": {
          "base_uri": "https://localhost:8080/"
        },
        "id": "U5PdlbRxWsgK",
        "outputId": "3429ac5c-a8b1-4e42-fde7-d3bb2530f639"
      },
      "execution_count": null,
      "outputs": [
        {
          "output_type": "execute_result",
          "data": {
            "text/plain": [
              "KNeighborsRegressor()"
            ]
          },
          "metadata": {},
          "execution_count": 14
        }
      ]
    },
    {
      "cell_type": "code",
      "source": [
        "tr_pred = knn_reg.predict(X_tr)  # 훈련 셋 예측값 - 훈련 셋 농어 무게 예측값\n",
        "tr_pred"
      ],
      "metadata": {
        "colab": {
          "base_uri": "https://localhost:8080/"
        },
        "id": "aZ7ONw5KWtSK",
        "outputId": "33cbc9ed-1d7d-459e-ab9d-d7c6dc52620c"
      },
      "execution_count": null,
      "outputs": [
        {
          "output_type": "execute_result",
          "data": {
            "text/plain": [
              "array([  88.6,  123. ,   79.6,   70.6,  723. ,  193. ,  847. ,  847. ,\n",
              "       1010. ,  123. ,   95. ,  123. ,  174. ,  248. , 1010. ,  847. ,\n",
              "        174. ,  113. ,  248. ,  847. ,  659. ,  224. ,  723. ,   60. ,\n",
              "        140. ,   60. ,  719. ,  694.2,  248. ,  167. ,  847. ,  113. ,\n",
              "        168. ,  123. , 1010. ,  136. ,   79.6,  719. ,  123. ,  193. ,\n",
              "        990. ,  659. ])"
            ]
          },
          "metadata": {},
          "execution_count": 15
        }
      ]
    },
    {
      "cell_type": "code",
      "source": [
        "y_tr  # 훈련 셋 실젯값 - 훈련 셋 농어 무게 실젯값"
      ],
      "metadata": {
        "colab": {
          "base_uri": "https://localhost:8080/"
        },
        "id": "0J0TIKkjWuGr",
        "outputId": "42eb6089-6564-471f-d97d-62cc478d3f9e"
      },
      "execution_count": null,
      "outputs": [
        {
          "output_type": "execute_result",
          "data": {
            "text/plain": [
              "array([  85.,  135.,   78.,   70.,  700.,  180.,  850.,  820., 1000.,\n",
              "        120.,   85.,  130.,  225.,  260., 1100.,  900.,  145.,  115.,\n",
              "        265., 1015.,  514.,  218.,  685.,   32.,  145.,   40.,  690.,\n",
              "        840.,  300.,  170.,  650.,  110.,  150.,  110., 1000.,  150.,\n",
              "         80.,  700.,  120.,  197., 1100.,  556.])"
            ]
          },
          "metadata": {},
          "execution_count": 16
        }
      ]
    },
    {
      "cell_type": "code",
      "source": [
        "# 0번 훈련 셋 샘플의 가장 가까운 이웃 5개\n",
        "neighbor_index = knn_reg.kneighbors(X_tr[0].reshape((1, -1)), return_distance=False)\n",
        "neighbor_index  # 가장 가까운 이웃 5개의 인덱스."
      ],
      "metadata": {
        "colab": {
          "base_uri": "https://localhost:8080/"
        },
        "id": "9R9EW6beWu5r",
        "outputId": "ef92a381-7505-45a6-fb20-2095a0a0375b"
      },
      "execution_count": null,
      "outputs": [
        {
          "output_type": "execute_result",
          "data": {
            "text/plain": [
              "array([[ 0, 10, 36,  2, 17]])"
            ]
          },
          "metadata": {},
          "execution_count": 17
        }
      ]
    },
    {
      "cell_type": "code",
      "source": [
        "y_tr[neighbor_index[0]]  # 0번 훈련 셋 샘플과 가장 가까운 이웃 5개의 레이블(무게)"
      ],
      "metadata": {
        "colab": {
          "base_uri": "https://localhost:8080/"
        },
        "id": "57ULQMDRWv3s",
        "outputId": "9d16e22a-8b23-4801-bb45-49b656e95858"
      },
      "execution_count": null,
      "outputs": [
        {
          "output_type": "execute_result",
          "data": {
            "text/plain": [
              "array([ 85.,  85.,  80.,  78., 115.])"
            ]
          },
          "metadata": {},
          "execution_count": 18
        }
      ]
    },
    {
      "cell_type": "code",
      "source": [
        "y_tr[neighbor_index[0]].mean()  # 가장 가까운 이웃 5개 레이블(무게)의 평균"
      ],
      "metadata": {
        "colab": {
          "base_uri": "https://localhost:8080/"
        },
        "id": "NxkCDnyCWwik",
        "outputId": "c88d874c-c83a-41e4-d030-9323adf030b4"
      },
      "execution_count": null,
      "outputs": [
        {
          "output_type": "execute_result",
          "data": {
            "text/plain": [
              "88.6"
            ]
          },
          "metadata": {},
          "execution_count": 19
        }
      ]
    },
    {
      "cell_type": "code",
      "source": [
        "# 테스트 셋의 (농어 무게) 예측값\n",
        "te_pred = knn_reg.predict(X_te)\n",
        "te_pred"
      ],
      "metadata": {
        "colab": {
          "base_uri": "https://localhost:8080/"
        },
        "id": "i_1OvmqeWxQz",
        "outputId": "cde6c13e-c4e3-4352-fce4-abdea7f78e56"
      },
      "execution_count": null,
      "outputs": [
        {
          "output_type": "execute_result",
          "data": {
            "text/plain": [
              "array([  60. ,   79.6,  248. ,  122. ,  136. ,  847. ,  311.4,  183.4,\n",
              "        847. ,  113. , 1010. ,   60. ,  248. ,  248. ])"
            ]
          },
          "metadata": {},
          "execution_count": 20
        }
      ]
    },
    {
      "cell_type": "code",
      "source": [
        "# 테스트 셋 (농어 무게) 실젯값\n",
        "y_te"
      ],
      "metadata": {
        "colab": {
          "base_uri": "https://localhost:8080/"
        },
        "id": "JpZemWNRWyNt",
        "outputId": "1b6673de-c0c1-44d8-b0d3-80848b1f96ea"
      },
      "execution_count": null,
      "outputs": [
        {
          "output_type": "execute_result",
          "data": {
            "text/plain": [
              "array([   5.9,  100. ,  250. ,  130. ,  130. ,  820. ,  320. ,  188. ,\n",
              "        900. ,  125. , 1000. ,   51.5,  250. ,  300. ])"
            ]
          },
          "metadata": {},
          "execution_count": 21
        }
      ]
    },
    {
      "cell_type": "markdown",
      "source": [
        "## 회귀 모델 평가 지표"
      ],
      "metadata": {
        "id": "kj6UtIgSWzpT"
      }
    },
    {
      "cell_type": "markdown",
      "source": [
        "*   MSE(Mean Squared Errors): 오차들의 제곱의 평균\n",
        "*   RMSE(Root Mean Squared Errors): MSE의 제곱근\n",
        "*   MAE(Mean Absolute Errors): 오차들의 절대값의 평균\n",
        "*   MSE, RMSE, MAE는 값이 작을 수록 좋은 점수. 더 성능이 좋은(오차가 작은) 회귀 모델.\n",
        "    *   평가지표는 일반적으로 값이 클 수록 좋은 점수, 값이 작을 수록 나쁜 점수.\n",
        "    *   회귀에서도 오차가 작을 수록 값이 커지고, 오차가 커질 수록 값이 작아지는 평가지표를 개발 -> R2 score."
      ],
      "metadata": {
        "id": "CBmOdLjQW0zZ"
      }
    },
    {
      "cell_type": "code",
      "source": [
        "# 훈련 셋의 MSE\n",
        "mean_squared_error(y_tr, tr_pred)"
      ],
      "metadata": {
        "colab": {
          "base_uri": "https://localhost:8080/"
        },
        "id": "yWLcQH0kWy_V",
        "outputId": "6f674415-294e-43d6-a931-ac5a8c1b8d01"
      },
      "execution_count": null,
      "outputs": [
        {
          "output_type": "execute_result",
          "data": {
            "text/plain": [
              "3716.5161904761903"
            ]
          },
          "metadata": {},
          "execution_count": 22
        }
      ]
    },
    {
      "cell_type": "code",
      "source": [
        "# 훈련 셋의 RMSE\n",
        "np.sqrt(mean_squared_error(y_tr, tr_pred))"
      ],
      "metadata": {
        "colab": {
          "base_uri": "https://localhost:8080/"
        },
        "id": "Tgw8SQ2tW2xe",
        "outputId": "efdc0e66-fe88-4f8e-a98d-c5eb5de3968f"
      },
      "execution_count": null,
      "outputs": [
        {
          "output_type": "execute_result",
          "data": {
            "text/plain": [
              "60.96323638453089"
            ]
          },
          "metadata": {},
          "execution_count": 23
        }
      ]
    },
    {
      "cell_type": "code",
      "source": [
        "# 훈련 셋의 R2 score: 오차가 전혀 없는 경우 1. 오차가 있으면 1보다 작아짐.\n",
        "r2_score(y_tr, tr_pred)"
      ],
      "metadata": {
        "colab": {
          "base_uri": "https://localhost:8080/"
        },
        "id": "Mz_6DtpuW3kn",
        "outputId": "00b2c3aa-cd00-467c-e8ea-52269a682de0"
      },
      "execution_count": null,
      "outputs": [
        {
          "output_type": "execute_result",
          "data": {
            "text/plain": [
              "0.9698823289099254"
            ]
          },
          "metadata": {},
          "execution_count": 24
        }
      ]
    },
    {
      "cell_type": "code",
      "source": [
        "knn_reg.score(X_tr, y_tr)  # 회귀 모델의 score() 메서드는 r2-score를 계산함."
      ],
      "metadata": {
        "colab": {
          "base_uri": "https://localhost:8080/"
        },
        "id": "rQNHhk2bW4Wo",
        "outputId": "32f3e138-863d-4cc2-8ee1-18ed9f2c4224"
      },
      "execution_count": null,
      "outputs": [
        {
          "output_type": "execute_result",
          "data": {
            "text/plain": [
              "0.9698823289099254"
            ]
          },
          "metadata": {},
          "execution_count": 25
        }
      ]
    },
    {
      "cell_type": "code",
      "source": [
        "# 테스트 셋 MSE\n",
        "mean_squared_error(y_te, te_pred)\n",
        "#> test MSE < train MSE\n",
        "#> 테스트 셋의 오차들이 훈련 셋에서의 오차들보다 (평균적으로) 작다.\n",
        "#> 테스트 셋에서 성능이 더 좋고, 훈련 셋에서의 성능이 나쁘다. -> underfitting(과소적합)"
      ],
      "metadata": {
        "colab": {
          "base_uri": "https://localhost:8080/"
        },
        "id": "iP7wUYvFW5Iw",
        "outputId": "8988ea86-2a3c-4876-f4c8-51b48e118c5e"
      },
      "execution_count": null,
      "outputs": [
        {
          "output_type": "execute_result",
          "data": {
            "text/plain": [
              "721.7385714285714"
            ]
          },
          "metadata": {},
          "execution_count": 26
        }
      ]
    },
    {
      "cell_type": "code",
      "source": [
        "# 테스트 셋 RMSE\n",
        "np.sqrt(mean_squared_error(y_te, te_pred))"
      ],
      "metadata": {
        "colab": {
          "base_uri": "https://localhost:8080/"
        },
        "id": "gXi71XwNW6DY",
        "outputId": "f6bd2716-d161-46f4-9d31-3a636b94617d"
      },
      "execution_count": null,
      "outputs": [
        {
          "output_type": "execute_result",
          "data": {
            "text/plain": [
              "26.865192562655704"
            ]
          },
          "metadata": {},
          "execution_count": 27
        }
      ]
    },
    {
      "cell_type": "code",
      "source": [
        "# 테스트 셋 R2 score\n",
        "r2_score(y_te, te_pred)\n",
        "#> test R2 > train R2\n",
        "#> 테스트 셋의 성능이 훈련 셋보다 더 좋다. -> 과소적합."
      ],
      "metadata": {
        "colab": {
          "base_uri": "https://localhost:8080/"
        },
        "id": "TpXGdydXW7SR",
        "outputId": "d0382622-06b0-4e71-be73-154e25b27e9f"
      },
      "execution_count": null,
      "outputs": [
        {
          "output_type": "execute_result",
          "data": {
            "text/plain": [
              "0.992809406101064"
            ]
          },
          "metadata": {},
          "execution_count": 28
        }
      ]
    },
    {
      "cell_type": "code",
      "source": [
        "knn_reg.score(X_te, y_te)"
      ],
      "metadata": {
        "colab": {
          "base_uri": "https://localhost:8080/"
        },
        "id": "oiSE7J8BW8GB",
        "outputId": "ce2606dd-d665-47a6-e4f3-03cb5b877ebb"
      },
      "execution_count": null,
      "outputs": [
        {
          "output_type": "execute_result",
          "data": {
            "text/plain": [
              "0.992809406101064"
            ]
          },
          "metadata": {},
          "execution_count": 29
        }
      ]
    },
    {
      "cell_type": "markdown",
      "source": [
        "* $ y_i $ : $i$번째 샘플의 실젯값(label)\n",
        "* $ \\hat{y_i} $ : $i$번째 샘플의 예측값\n",
        "* $ \\bar{y} $ : 타겟의 평균값\n",
        "* $ n $ : 샘플 개수\n",
        "\n",
        "* MAE(Mean Absolute Errors)\n",
        "$$\n",
        "MAE = \\frac{1}{n} \\sum_{i=1}^{n} \\lvert y_i - \\hat{y_i} \\rvert\n",
        "$$\n",
        "\n",
        "* MSE(Mean Squared Errors)\n",
        "$$\n",
        "MSE = \\frac{1}{n} \\sum_{i=1}^{n} ( y_i - \\hat{y_i} )^2\n",
        "$$\n",
        "\n",
        "* RMSE(Root Mean Squared Errors)\n",
        "$$\n",
        "RMSE = \\sqrt{ \\frac{1}{n} \\sum_{i=1}^{n} ( y_i - \\hat{y_i} )^2 }\n",
        "$$\n",
        "\n",
        "* $ R^2 $ score(Coefficient of determinant, 결정 계수)\n",
        "$$\n",
        "R^2 = 1 - \\dfrac{\\text{MSE}}{\\text{Variance}} \n",
        "    = 1 - \\dfrac{ \\sum_{i=1}^{n} (y_i - \\hat{y_i})^2 }\n",
        "                { \\sum_{i=1}^{n} (y_i - \\bar{y})^2 }\n",
        "$$\n",
        "    * 결정 계수는 최댓값이 1이 되도록 만든 평가 지표.\n",
        "    * 모델이 타겟을 오차없이 정확하게 예측하면, 실제값 - 예측값 = 0 이므로, 결정 계수는 최댓값 1이 됨.\n",
        "    * 모델이 타겟을 매우 비슷하게 예측하면, 오차가 매우 작으면 분자가 0에 가까운 값이 되므로, 결정 계수는 1보다는 작지만 1에 가까운 값이 됨.\n",
        "    * 모델이 타겟의 평균으로만 예측하는 정도라면, (분자) = (분모) 이므로, 결정 계수는 0이 됨.\n",
        "    * 모델이 타겟의 평균 정도도 예측하지 못하면(오차가 매우 크면), (분자) > (분모)일 수 있고, 그런 경우 결정 계수는 음수가 될 수 있음."
      ],
      "metadata": {
        "id": "MNIyJDyVW9qp"
      }
    },
    {
      "cell_type": "markdown",
      "source": [
        "# KNN Regressor 문제점"
      ],
      "metadata": {
        "id": "on9DJ4sOXAZJ"
      }
    },
    {
      "cell_type": "code",
      "source": [
        "# 훈련 셋 시각화\n",
        "plt.scatter(X_tr, y_tr, alpha=0.5)\n",
        "\n",
        "# 가상의 물고기(농어): 길이 50cm, 무게 1500g\n",
        "plt.scatter(50, 1_500, color='red', marker='v')\n",
        "\n",
        "plt.xlabel('length (cm)')\n",
        "plt.ylabel('weight (g)')\n",
        "plt.grid()\n",
        "plt.show()"
      ],
      "metadata": {
        "colab": {
          "base_uri": "https://localhost:8080/",
          "height": 279
        },
        "id": "VSTSXv7gW9Dh",
        "outputId": "1867ee26-4b26-4c3c-e227-c9cc11264d05"
      },
      "execution_count": null,
      "outputs": [
        {
          "output_type": "display_data",
          "data": {
            "text/plain": [
              "<Figure size 432x288 with 1 Axes>"
            ],
            "image/png": "[encoded data removed]"
          },
          "metadata": {
            "needs_background": "light"
          }
        }
      ]
    },
    {
      "cell_type": "markdown",
      "source": [
        "그림에서 알 수 있듯이, 훈련 데이터(농어 길이)의 최댓값 또는 최솟값에서 많이 벗어난 테스트 셋인 경우(outlier), 예측값을 가까운 이웃들의 평균값으로만 예측하기 때문에, 그 평균값이 실젯값과는 많이 다를 수 있음(오차가 클 수 있음)."
      ],
      "metadata": {
        "id": "4t4L0PZJXDxa"
      }
    },
    {
      "cell_type": "code",
      "source": [
        "# 길이 50cm인 가상의 물고기의 무게 예측값\n",
        "prediction = knn_reg.predict([[50]])\n",
        "prediction"
      ],
      "metadata": {
        "colab": {
          "base_uri": "https://localhost:8080/"
        },
        "id": "TeYifq3ZXC2D",
        "outputId": "b964e888-1e57-46bb-cde2-85f9324d5255"
      },
      "execution_count": null,
      "outputs": [
        {
          "output_type": "execute_result",
          "data": {
            "text/plain": [
              "array([1010.])"
            ]
          },
          "metadata": {},
          "execution_count": 31
        }
      ]
    },
    {
      "cell_type": "code",
      "source": [
        "index = knn_reg.kneighbors([[50]], return_distance=False)\n",
        "index  # 50cm 물고기에서 가장 가까운 훈련 셋 샘플 5개의 인덱스"
      ],
      "metadata": {
        "colab": {
          "base_uri": "https://localhost:8080/"
        },
        "id": "kxHx4GDMXHye",
        "outputId": "185f9369-d41f-427e-cb5d-1c0d86815859"
      },
      "execution_count": null,
      "outputs": [
        {
          "output_type": "execute_result",
          "data": {
            "text/plain": [
              "array([[34, 14,  8, 40,  6]])"
            ]
          },
          "metadata": {},
          "execution_count": 32
        }
      ]
    },
    {
      "cell_type": "code",
      "source": [
        "y_tr[index[0]]  # 가장 가까운 이웃 5개의 무게"
      ],
      "metadata": {
        "colab": {
          "base_uri": "https://localhost:8080/"
        },
        "id": "1KEBaKRSXI_-",
        "outputId": "8747bd37-e418-4d2c-e312-46327bddeb09"
      },
      "execution_count": null,
      "outputs": [
        {
          "output_type": "execute_result",
          "data": {
            "text/plain": [
              "array([1000., 1100., 1000., 1100.,  850.])"
            ]
          },
          "metadata": {},
          "execution_count": 33
        }
      ]
    },
    {
      "cell_type": "code",
      "source": [
        "y_tr[index[0]].mean()  # 50cm 물고기의 무게 예측값"
      ],
      "metadata": {
        "colab": {
          "base_uri": "https://localhost:8080/"
        },
        "id": "NLA3yamMXJ5e",
        "outputId": "7d06b3a8-07cf-4da6-c5df-413525bb8fbc"
      },
      "execution_count": null,
      "outputs": [
        {
          "output_type": "execute_result",
          "data": {
            "text/plain": [
              "1010.0"
            ]
          },
          "metadata": {},
          "execution_count": 34
        }
      ]
    },
    {
      "cell_type": "markdown",
      "source": [
        "머신 러닝 알고리즘:\n",
        "*   사례 기반 학습(instance-based learning): KNN(k-Neareat Neighbors), ...\n",
        "    *   수학적인 모델을 만들지 않고, 훈련 셋 데이터의 특징들을 사용해서 예측.\n",
        "    *   outlier들이 많은 경우에는 성능이 떨어질 수 있음.\n",
        "*   모델 기반 학습(model-based learning): Linear Regression, ...\n",
        "    *   훈련 셋을 사용해서 수학적인 모델을 만들고, 그 수학적인 모델로 예측값을 계산."
      ],
      "metadata": {
        "id": "ZQqyZEFSXLih"
      }
    },
    {
      "cell_type": "markdown",
      "source": [
        "# Linear Regression"
      ],
      "metadata": {
        "id": "wiHMBSiOXMkF"
      }
    },
    {
      "cell_type": "code",
      "source": [
        "lin_reg = LinearRegression()  # 선형 회귀 머신 러닝 모델 생성"
      ],
      "metadata": {
        "id": "sGtD7zF8XKmP"
      },
      "execution_count": null,
      "outputs": []
    },
    {
      "cell_type": "code",
      "source": [
        "lin_reg.fit(X_tr, y_tr)  # 모델 학습(훈련): y = ax + b 방정식의 계수(a, b)를 찾음."
      ],
      "metadata": {
        "colab": {
          "base_uri": "https://localhost:8080/"
        },
        "id": "KEYOL2TiXOVw",
        "outputId": "06b96c6a-6051-44d8-9e57-f0cf12afbbdd"
      },
      "execution_count": null,
      "outputs": [
        {
          "output_type": "execute_result",
          "data": {
            "text/plain": [
              "LinearRegression()"
            ]
          },
          "metadata": {},
          "execution_count": 36
        }
      ]
    },
    {
      "cell_type": "code",
      "source": [
        "# 선형 회귀 모델 학습 결과 (1): 직선의 기울기. y=ax+b에서 a. coefficient(계수)\n",
        "lin_reg.coef_  #> 독립 변수가 1개이므로 coef_는 원소가 1개인 배열."
      ],
      "metadata": {
        "colab": {
          "base_uri": "https://localhost:8080/"
        },
        "id": "50lt4SohXPB5",
        "outputId": "1797dbf6-36eb-4b18-c4c5-89611d70a5de"
      },
      "execution_count": null,
      "outputs": [
        {
          "output_type": "execute_result",
          "data": {
            "text/plain": [
              "array([39.01714496])"
            ]
          },
          "metadata": {},
          "execution_count": 37
        }
      ]
    },
    {
      "cell_type": "code",
      "source": [
        "# 선형 회귀 모델 학습 결과 (2): 직선의 y절편. y=ax+b에서 b.\n",
        "lin_reg.intercept_"
      ],
      "metadata": {
        "colab": {
          "base_uri": "https://localhost:8080/"
        },
        "id": "KHs_XxtjXP4Z",
        "outputId": "c7235283-f2ac-4928-b3e9-6444a7a37c62"
      },
      "execution_count": null,
      "outputs": [
        {
          "output_type": "execute_result",
          "data": {
            "text/plain": [
              "-709.0186449535477"
            ]
          },
          "metadata": {},
          "execution_count": 38
        }
      ]
    },
    {
      "cell_type": "code",
      "source": [
        "lin_reg.coef_[0] * 50 + lin_reg.intercept_  # 50cm 물고기의 무게 예측값. -> KNN보다는 오차가 적음."
      ],
      "metadata": {
        "colab": {
          "base_uri": "https://localhost:8080/"
        },
        "id": "OdkNtlK3XQv6",
        "outputId": "15623e75-0872-4006-a9ce-334ed5a08f12"
      },
      "execution_count": null,
      "outputs": [
        {
          "output_type": "execute_result",
          "data": {
            "text/plain": [
              "1241.8386032279625"
            ]
          },
          "metadata": {},
          "execution_count": 39
        }
      ]
    },
    {
      "cell_type": "code",
      "source": [
        "# 훈련 셋의 예측값\n",
        "tr_pred = lin_reg.predict(X_tr)\n",
        "tr_pred[:4]"
      ],
      "metadata": {
        "colab": {
          "base_uri": "https://localhost:8080/"
        },
        "id": "BpYF4U-EXRZ6",
        "outputId": "e41015aa-5fde-4edd-bd5c-95bdda08cf3c"
      },
      "execution_count": null,
      "outputs": [
        {
          "output_type": "execute_result",
          "data": {
            "text/plain": [
              "array([ 55.71739633, 149.35854425,  20.60196587, -30.12032259])"
            ]
          },
          "metadata": {},
          "execution_count": 40
        }
      ]
    },
    {
      "cell_type": "code",
      "source": [
        "y_tr[:4]"
      ],
      "metadata": {
        "colab": {
          "base_uri": "https://localhost:8080/"
        },
        "id": "HrrAOqKSXSSS",
        "outputId": "332fe933-379e-456c-80d7-b4cdb37cd7f6"
      },
      "execution_count": null,
      "outputs": [
        {
          "output_type": "execute_result",
          "data": {
            "text/plain": [
              "array([ 85., 135.,  78.,  70.])"
            ]
          },
          "metadata": {},
          "execution_count": 41
        }
      ]
    },
    {
      "cell_type": "code",
      "source": [
        "mean_squared_error(y_tr, tr_pred)  #> KNN보다 오차가 더 큼."
      ],
      "metadata": {
        "colab": {
          "base_uri": "https://localhost:8080/"
        },
        "id": "eiUZrtCNXTFT",
        "outputId": "f42eef8d-702f-4376-9813-a05617961efa"
      },
      "execution_count": null,
      "outputs": [
        {
          "output_type": "execute_result",
          "data": {
            "text/plain": [
              "7422.953552609781"
            ]
          },
          "metadata": {},
          "execution_count": 42
        }
      ]
    },
    {
      "cell_type": "code",
      "source": [
        "r2_score(y_tr, tr_pred)  # KNN보다 작음."
      ],
      "metadata": {
        "colab": {
          "base_uri": "https://localhost:8080/"
        },
        "id": "ibHAGiA3XTsL",
        "outputId": "411981ca-8826-4ecb-8686-c0aa2e2fc001"
      },
      "execution_count": null,
      "outputs": [
        {
          "output_type": "execute_result",
          "data": {
            "text/plain": [
              "0.939846333997604"
            ]
          },
          "metadata": {},
          "execution_count": 43
        }
      ]
    },
    {
      "cell_type": "code",
      "source": [
        "lin_reg.score(X_tr, y_tr)"
      ],
      "metadata": {
        "colab": {
          "base_uri": "https://localhost:8080/"
        },
        "id": "Xe0-uYB8XUi7",
        "outputId": "6b648273-56ec-4662-a556-17d49db80f21"
      },
      "execution_count": null,
      "outputs": [
        {
          "output_type": "execute_result",
          "data": {
            "text/plain": [
              "0.939846333997604"
            ]
          },
          "metadata": {},
          "execution_count": 44
        }
      ]
    },
    {
      "cell_type": "code",
      "source": [
        "te_pred = lin_reg.predict(X_te)  # 테스트 셋 예측값\n",
        "te_pred"
      ],
      "metadata": {
        "colab": {
          "base_uri": "https://localhost:8080/"
        },
        "id": "LiYmhmi3XVSU",
        "outputId": "2d36d200-56c7-4201-dfbc-b1a920e71313"
      },
      "execution_count": null,
      "outputs": [
        {
          "output_type": "execute_result",
          "data": {
            "text/plain": [
              "array([-381.27462726,   -6.71003561,  363.95284155,  122.04654277,\n",
              "        168.86711673,  851.66715359,  461.49570396,  250.80312115,\n",
              "        812.65000863,  110.34139928,  988.22716096,  -76.94089654,\n",
              "        383.46141403,  356.14941255])"
            ]
          },
          "metadata": {},
          "execution_count": 45
        }
      ]
    },
    {
      "cell_type": "code",
      "source": [
        "y_te  # 테스트 셋 실젯값"
      ],
      "metadata": {
        "colab": {
          "base_uri": "https://localhost:8080/"
        },
        "id": "A4UHrstBXV-F",
        "outputId": "4230b3a3-93ca-4058-ff44-bdfa2b205cf4"
      },
      "execution_count": null,
      "outputs": [
        {
          "output_type": "execute_result",
          "data": {
            "text/plain": [
              "array([   5.9,  100. ,  250. ,  130. ,  130. ,  820. ,  320. ,  188. ,\n",
              "        900. ,  125. , 1000. ,   51.5,  250. ,  300. ])"
            ]
          },
          "metadata": {},
          "execution_count": 46
        }
      ]
    },
    {
      "cell_type": "code",
      "source": [
        "r2_score(y_te, te_pred)  # KNN 결과보다 나쁨."
      ],
      "metadata": {
        "colab": {
          "base_uri": "https://localhost:8080/"
        },
        "id": "cbtVe6DPXWtU",
        "outputId": "9ba63d71-133a-467b-bf4b-16737062845f"
      },
      "execution_count": null,
      "outputs": [
        {
          "output_type": "execute_result",
          "data": {
            "text/plain": [
              "0.8247503123313558"
            ]
          },
          "metadata": {},
          "execution_count": 47
        }
      ]
    },
    {
      "cell_type": "code",
      "source": [
        "# 훈련 셋 산점도\n",
        "plt.scatter(X_tr, y_tr, alpha=0.5)\n",
        "# y = ax + b: 선형 회귀식(직선의 방정식) - 선 그래프\n",
        "a = lin_reg.coef_[0]  # 직선의 기울기\n",
        "b = lin_reg.intercept_  # 직선의 y절편(x=0일 때 직선이 y축과 만나는 점)\n",
        "x = np.arange(10, 51, 0.001)\n",
        "y = a * x + b\n",
        "plt.plot(x, y, 'r-')\n",
        "\n",
        "plt.grid()\n",
        "plt.show()"
      ],
      "metadata": {
        "colab": {
          "base_uri": "https://localhost:8080/",
          "height": 265
        },
        "id": "mu290HSdXXd8",
        "outputId": "15314601-632b-4fdb-ee1c-de7186618081"
      },
      "execution_count": null,
      "outputs": [
        {
          "output_type": "display_data",
          "data": {
            "text/plain": [
              "<Figure size 432x288 with 1 Axes>"
            ],
            "image/png": "[encoded data removed]"
          },
          "metadata": {
            "needs_background": "light"
          }
        }
      ]
    },
    {
      "cell_type": "code",
      "source": [
        "Xb = np.c_[X_tr, np.ones(len(X_tr))]"
      ],
      "metadata": {
        "id": "1DG395j9XYDN"
      },
      "execution_count": null,
      "outputs": []
    },
    {
      "cell_type": "code",
      "source": [
        "Xb.shape"
      ],
      "metadata": {
        "colab": {
          "base_uri": "https://localhost:8080/"
        },
        "id": "WprVg0WAXZCO",
        "outputId": "ed81e1a2-02c7-470a-c21b-4de2a06b84f1"
      },
      "execution_count": null,
      "outputs": [
        {
          "output_type": "execute_result",
          "data": {
            "text/plain": [
              "(42, 2)"
            ]
          },
          "metadata": {},
          "execution_count": 50
        }
      ]
    },
    {
      "cell_type": "code",
      "source": [
        "Xb[:5]"
      ],
      "metadata": {
        "colab": {
          "base_uri": "https://localhost:8080/"
        },
        "id": "vfOHuC9yXZ0t",
        "outputId": "1ff5ff5a-ec76-449b-c8ef-430c75165013"
      },
      "execution_count": null,
      "outputs": [
        {
          "output_type": "execute_result",
          "data": {
            "text/plain": [
              "array([[19.6,  1. ],\n",
              "       [22. ,  1. ],\n",
              "       [18.7,  1. ],\n",
              "       [17.4,  1. ],\n",
              "       [36. ,  1. ]])"
            ]
          },
          "metadata": {},
          "execution_count": 51
        }
      ]
    },
    {
      "cell_type": "code",
      "source": [
        "Xb[-5:]"
      ],
      "metadata": {
        "colab": {
          "base_uri": "https://localhost:8080/"
        },
        "id": "n_iV0aR_Xaf2",
        "outputId": "be17b2ce-74d7-4b69-e0a7-bcc2b6204e79"
      },
      "execution_count": null,
      "outputs": [
        {
          "output_type": "execute_result",
          "data": {
            "text/plain": [
              "array([[37. ,  1. ],\n",
              "       [22. ,  1. ],\n",
              "       [25.6,  1. ],\n",
              "       [42. ,  1. ],\n",
              "       [34.5,  1. ]])"
            ]
          },
          "metadata": {},
          "execution_count": 52
        }
      ]
    },
    {
      "cell_type": "markdown",
      "source": [
        "선형 회귀의 목적은 선형 회귀 방정식에서 예측하는 값과 실젯값 사이의 오차들(MSE)이 가장 작은 방정식을 찾는 것.\n",
        "$$\n",
        "\\mathbf{y} = \\mathbf{X} \\cdot \\mathbf{w}\n",
        "$$\n",
        "\n",
        "정규 방정식(Noraml Equation)을 풀면 RMSE를 최소로 만드는 선형 회귀식의 coefficients와 intercept를 계산할 수 있음.\n",
        "$$\n",
        "\\mathbf{w} = {({\\mathbf{X}}^{T} \\cdot \\mathbf{X})}^{-1} \\cdot {\\mathbf{X}}^{T} \\cdot \\mathbf{y}\n",
        "$$\n",
        "\n",
        "그래서, Linear Regression 알고리즘은 훈련 셋 데이터와 레이블을 사용해서 정규 방정식을 풀고 선형 회귀식(직선의 방정식)의 계수들을 찾음."
      ],
      "metadata": {
        "id": "-cUNPeb1Xd6E"
      }
    },
    {
      "cell_type": "code",
      "source": [
        "np.linalg.inv(Xb.T @ Xb) @ Xb.T @ y_tr"
      ],
      "metadata": {
        "colab": {
          "base_uri": "https://localhost:8080/"
        },
        "id": "aK2UzmSnXcBn",
        "outputId": "dac3ad4e-3369-43b7-b836-e515c379caba"
      },
      "execution_count": null,
      "outputs": [
        {
          "output_type": "execute_result",
          "data": {
            "text/plain": [
              "array([  39.01714496, -709.01864495])"
            ]
          },
          "metadata": {},
          "execution_count": 53
        }
      ]
    },
    {
      "cell_type": "markdown",
      "source": [
        "# 2차항을 포함하는 선형 회귀"
      ],
      "metadata": {
        "id": "uGcVe0OOXdmT"
      }
    },
    {
      "cell_type": "code",
      "source": [
        "X_tr.shape, y_tr.shape"
      ],
      "metadata": {
        "colab": {
          "base_uri": "https://localhost:8080/"
        },
        "id": "R0CsT0fNXhID",
        "outputId": "f01f7efe-654f-4965-f798-b336f601f711"
      },
      "execution_count": null,
      "outputs": [
        {
          "output_type": "execute_result",
          "data": {
            "text/plain": [
              "((42, 1), (42,))"
            ]
          },
          "metadata": {},
          "execution_count": 54
        }
      ]
    },
    {
      "cell_type": "code",
      "source": [
        "X_tr[:5]  # 훈련 셋의 첫 5개 생선의 길이(length)"
      ],
      "metadata": {
        "colab": {
          "base_uri": "https://localhost:8080/"
        },
        "id": "aw2j4TvjXhwR",
        "outputId": "f0e0ce07-2f4e-4a9f-d5ea-810dd5a906b4"
      },
      "execution_count": null,
      "outputs": [
        {
          "output_type": "execute_result",
          "data": {
            "text/plain": [
              "array([[19.6],\n",
              "       [22. ],\n",
              "       [18.7],\n",
              "       [17.4],\n",
              "       [36. ]])"
            ]
          },
          "metadata": {},
          "execution_count": 55
        }
      ]
    },
    {
      "cell_type": "code",
      "source": [
        "# 2차항을 추가한 훈련 셋\n",
        "X_tr_poly = np.c_[X_tr ** 2, X_tr]\n",
        "X_tr_poly.shape"
      ],
      "metadata": {
        "colab": {
          "base_uri": "https://localhost:8080/"
        },
        "id": "jjxee-f_XiiK",
        "outputId": "3d3ead08-7f47-4e2d-bb1a-58de78722891"
      },
      "execution_count": null,
      "outputs": [
        {
          "output_type": "execute_result",
          "data": {
            "text/plain": [
              "(42, 2)"
            ]
          },
          "metadata": {},
          "execution_count": 56
        }
      ]
    },
    {
      "cell_type": "code",
      "source": [
        "X_tr_poly[:5]  # length**2과 length를 컬럼으로 갖는 2차원 배열 -> 2차 선형 회귀에서 학습시킬 데이터"
      ],
      "metadata": {
        "colab": {
          "base_uri": "https://localhost:8080/"
        },
        "id": "54x-XEW0Xjaq",
        "outputId": "83607e78-ffc3-42c8-a3e0-2ea84210af6c"
      },
      "execution_count": null,
      "outputs": [
        {
          "output_type": "execute_result",
          "data": {
            "text/plain": [
              "array([[ 384.16,   19.6 ],\n",
              "       [ 484.  ,   22.  ],\n",
              "       [ 349.69,   18.7 ],\n",
              "       [ 302.76,   17.4 ],\n",
              "       [1296.  ,   36.  ]])"
            ]
          },
          "metadata": {},
          "execution_count": 57
        }
      ]
    },
    {
      "cell_type": "code",
      "source": [
        "lin_reg = LinearRegression()  # 선형 회귀 모델 생성"
      ],
      "metadata": {
        "id": "dz-MKhgQXkLq"
      },
      "execution_count": null,
      "outputs": []
    },
    {
      "cell_type": "code",
      "source": [
        "lin_reg.fit(X_tr_poly, y_tr)  # 2차항을 가지고 있는 데이터로 회귀 모델을 학습시킴."
      ],
      "metadata": {
        "colab": {
          "base_uri": "https://localhost:8080/"
        },
        "id": "bBhYwqXrXluD",
        "outputId": "51b7f653-b84d-49fd-ccce-bfb7574ade8f"
      },
      "execution_count": null,
      "outputs": [
        {
          "output_type": "execute_result",
          "data": {
            "text/plain": [
              "LinearRegression()"
            ]
          },
          "metadata": {},
          "execution_count": 59
        }
      ]
    },
    {
      "cell_type": "code",
      "source": [
        "lin_reg.coef_  # y = ax^2 + bx + c 에서 a와 b"
      ],
      "metadata": {
        "colab": {
          "base_uri": "https://localhost:8080/"
        },
        "id": "8xwJ1DS_XmnM",
        "outputId": "873276ad-b10e-4337-bae4-8c0368232251"
      },
      "execution_count": null,
      "outputs": [
        {
          "output_type": "execute_result",
          "data": {
            "text/plain": [
              "array([  1.01433211, -21.55792498])"
            ]
          },
          "metadata": {},
          "execution_count": 60
        }
      ]
    },
    {
      "cell_type": "code",
      "source": [
        "lin_reg.intercept_  # y = ax^2 + bx + c 에서 c"
      ],
      "metadata": {
        "colab": {
          "base_uri": "https://localhost:8080/"
        },
        "id": "dQtSimw2Xnb8",
        "outputId": "c840ab9d-a5c6-4388-cdd2-7fe2d877e6e3"
      },
      "execution_count": null,
      "outputs": [
        {
          "output_type": "execute_result",
          "data": {
            "text/plain": [
              "116.0502107827827"
            ]
          },
          "metadata": {},
          "execution_count": 61
        }
      ]
    },
    {
      "cell_type": "code",
      "source": [
        "# 훈련 셋 산점도\n",
        "plt.scatter(X_tr, y_tr, alpha=0.5)\n",
        "# 테스트 셋 산점도\n",
        "plt.scatter(X_te, y_te, alpha=0.5)\n",
        "\n",
        "# 2차항을 포함하는 선형 회귀식: y = ax^2 + bx + c\n",
        "x = np.arange(10, 51, 0.001)\n",
        "Xb = np.c_[x**2, x]\n",
        "y = Xb @ lin_reg.coef_ + lin_reg.intercept_\n",
        "plt.plot(x, y, 'r-')\n",
        "\n",
        "plt.grid()\n",
        "plt.show()"
      ],
      "metadata": {
        "colab": {
          "base_uri": "https://localhost:8080/",
          "height": 265
        },
        "id": "We3gMqbnXoJM",
        "outputId": "305c8620-18cd-4472-ead7-1801da01bd97"
      },
      "execution_count": null,
      "outputs": [
        {
          "output_type": "display_data",
          "data": {
            "text/plain": [
              "<Figure size 432x288 with 1 Axes>"
            ],
            "image/png": "[encoded data removed]"
          },
          "metadata": {
            "needs_background": "light"
          }
        }
      ]
    },
    {
      "cell_type": "markdown",
      "source": [
        "훈련 셋에서 RMSE, R2 score\n",
        "\n",
        "테스트 셋에서 RMSE, R2 score\n",
        "\n",
        "1차항만 있는 경우와 비교, KNN Regressor와 비교"
      ],
      "metadata": {
        "id": "MUtbegNGXp75"
      }
    },
    {
      "cell_type": "code",
      "source": [
        "tr_pred = lin_reg.predict(X_tr_poly)  # 훈련 셋에서의 무게 예측값\n",
        "tr_pred[:4]"
      ],
      "metadata": {
        "colab": {
          "base_uri": "https://localhost:8080/"
        },
        "id": "pmYlM-lKXpDl",
        "outputId": "751b1e15-19b5-4320-845a-374642956c1f"
      },
      "execution_count": null,
      "outputs": [
        {
          "output_type": "execute_result",
          "data": {
            "text/plain": [
              "array([ 83.18070434, 132.71260219,  67.61880901,  48.04150559])"
            ]
          },
          "metadata": {},
          "execution_count": 63
        }
      ]
    },
    {
      "cell_type": "code",
      "source": [
        "y_tr[:4]"
      ],
      "metadata": {
        "colab": {
          "base_uri": "https://localhost:8080/"
        },
        "id": "Hc7JqvH4Xrb2",
        "outputId": "3eb5610c-9ac0-4c76-f928-d5bbbf522531"
      },
      "execution_count": null,
      "outputs": [
        {
          "output_type": "execute_result",
          "data": {
            "text/plain": [
              "array([ 85., 135.,  78.,  70.])"
            ]
          },
          "metadata": {},
          "execution_count": 64
        }
      ]
    },
    {
      "cell_type": "code",
      "source": [
        "np.sqrt(mean_squared_error(y_tr, tr_pred))  # 훈련 셋 RMSE - KNN보다 오차가 작음."
      ],
      "metadata": {
        "colab": {
          "base_uri": "https://localhost:8080/"
        },
        "id": "NEyTZdsqXsI-",
        "outputId": "4517c065-8096-4e0e-d850-17a863879c49"
      },
      "execution_count": null,
      "outputs": [
        {
          "output_type": "execute_result",
          "data": {
            "text/plain": [
              "60.149744308383895"
            ]
          },
          "metadata": {},
          "execution_count": 65
        }
      ]
    },
    {
      "cell_type": "code",
      "source": [
        "r2_score(y_tr, tr_pred)  # 훈련 셋 결정 계수(R2 score) - KNN보다 큼. "
      ],
      "metadata": {
        "colab": {
          "base_uri": "https://localhost:8080/"
        },
        "id": "C0zwBNkgXsxG",
        "outputId": "150af2ef-b69f-4e97-ba48-ea438257e5e1"
      },
      "execution_count": null,
      "outputs": [
        {
          "output_type": "execute_result",
          "data": {
            "text/plain": [
              "0.9706807451768623"
            ]
          },
          "metadata": {},
          "execution_count": 66
        }
      ]
    },
    {
      "cell_type": "code",
      "source": [
        "X_te_poly = np.c_[X_te ** 2, X_te]  # 2차항을 추가한 테스트 셋\n",
        "X_te_poly[:5]"
      ],
      "metadata": {
        "colab": {
          "base_uri": "https://localhost:8080/"
        },
        "id": "W-CMW1fCXthW",
        "outputId": "5c9573cc-e50c-4a0b-870e-b6492364df42"
      },
      "execution_count": null,
      "outputs": [
        {
          "output_type": "execute_result",
          "data": {
            "text/plain": [
              "array([[ 70.56,   8.4 ],\n",
              "       [324.  ,  18.  ],\n",
              "       [756.25,  27.5 ],\n",
              "       [453.69,  21.3 ],\n",
              "       [506.25,  22.5 ]])"
            ]
          },
          "metadata": {},
          "execution_count": 67
        }
      ]
    },
    {
      "cell_type": "code",
      "source": [
        "te_pred = lin_reg.predict(X_te_poly)  # 테스트 셋 예측값\n",
        "te_pred"
      ],
      "metadata": {
        "colab": {
          "base_uri": "https://localhost:8080/"
        },
        "id": "JYwxTu9oXuWX",
        "outputId": "15b054d6-8c40-4ad4-9e88-de82a48779cf"
      },
      "execution_count": null,
      "outputs": [
        {
          "output_type": "execute_result",
          "data": {
            "text/plain": [
              "array([   6.5349146 ,   56.6511646 ,  290.29593158,  117.05874344,\n",
              "        144.50252913,  876.66458663,  382.21135986,  199.55847561,\n",
              "        818.09027497,  110.65424646, 1097.65040817,   33.01314491,\n",
              "        307.66468513,  283.49043666])"
            ]
          },
          "metadata": {},
          "execution_count": 68
        }
      ]
    },
    {
      "cell_type": "code",
      "source": [
        "y_te"
      ],
      "metadata": {
        "colab": {
          "base_uri": "https://localhost:8080/"
        },
        "id": "CoNIwl34XvIo",
        "outputId": "e3abc217-4139-4bc6-fe1e-014d6706e8d2"
      },
      "execution_count": null,
      "outputs": [
        {
          "output_type": "execute_result",
          "data": {
            "text/plain": [
              "array([   5.9,  100. ,  250. ,  130. ,  130. ,  820. ,  320. ,  188. ,\n",
              "        900. ,  125. , 1000. ,   51.5,  250. ,  300. ])"
            ]
          },
          "metadata": {},
          "execution_count": 69
        }
      ]
    },
    {
      "cell_type": "code",
      "source": [
        "np.sqrt(mean_squared_error(y_te, te_pred))  # 테스트 셋 RMSE - KNN보다 오차 큼."
      ],
      "metadata": {
        "colab": {
          "base_uri": "https://localhost:8080/"
        },
        "id": "Vj1r2qXKXwRI",
        "outputId": "5748d4ba-68a1-4d81-af70-ef651d614630"
      },
      "execution_count": null,
      "outputs": [
        {
          "output_type": "execute_result",
          "data": {
            "text/plain": [
              "47.42359612512815"
            ]
          },
          "metadata": {},
          "execution_count": 70
        }
      ]
    },
    {
      "cell_type": "code",
      "source": [
        "r2_score(y_te, te_pred)  # 테스트 셋 결정계수 - KNN보다 작음."
      ],
      "metadata": {
        "colab": {
          "base_uri": "https://localhost:8080/"
        },
        "id": "Wc_R3j1XXw3g",
        "outputId": "fd07a641-e1d4-4c08-899c-8bf69d2920da"
      },
      "execution_count": null,
      "outputs": [
        {
          "output_type": "execute_result",
          "data": {
            "text/plain": [
              "0.9775935108325122"
            ]
          },
          "metadata": {},
          "execution_count": 71
        }
      ]
    },
    {
      "cell_type": "markdown",
      "source": [
        "# Pipeline: PolynomialFeatures + LinearRegression"
      ],
      "metadata": {
        "id": "x7uD-Ss-XySj"
      }
    },
    {
      "cell_type": "code",
      "source": [
        "X_tr.shape, X_te.shape"
      ],
      "metadata": {
        "colab": {
          "base_uri": "https://localhost:8080/"
        },
        "id": "mPTvGLc0XxuR",
        "outputId": "207a0d35-9817-408c-8bbe-6fc2ba95c9c9"
      },
      "execution_count": null,
      "outputs": [
        {
          "output_type": "execute_result",
          "data": {
            "text/plain": [
              "((42, 1), (14, 1))"
            ]
          },
          "metadata": {},
          "execution_count": 72
        }
      ]
    },
    {
      "cell_type": "code",
      "source": [
        "# Pipeline으로 연결할 변환기(transformer) 객체와 예측기(estimator) 객체를 생성.\n",
        "poly = PolynomialFeatures(degree=2, include_bias=False)  # 변환기(fit, transform)\n",
        "lin_reg = LinearRegression()  # 예측기(fit, predict, score)"
      ],
      "metadata": {
        "id": "wG0ShlvZXz96"
      },
      "execution_count": null,
      "outputs": []
    },
    {
      "cell_type": "code",
      "source": [
        "# 변환기 -> 예측기 순서로 Pipeline 객체를 생성.\n",
        "model = Pipeline([('poly', poly), ('reg', lin_reg)])"
      ],
      "metadata": {
        "id": "1HqbRvNvX1Ei"
      },
      "execution_count": null,
      "outputs": []
    },
    {
      "cell_type": "code",
      "source": [
        "# 모델 훈련(fit): (1) poly.fit_transform() --> (2) reg.fit()\n",
        "model.fit(X_tr, y_tr)"
      ],
      "metadata": {
        "colab": {
          "base_uri": "https://localhost:8080/"
        },
        "id": "vkpnHVRpX1wb",
        "outputId": "6b499b4f-3553-4a84-d95c-2eed0e3b6875"
      },
      "execution_count": null,
      "outputs": [
        {
          "output_type": "execute_result",
          "data": {
            "text/plain": [
              "Pipeline(steps=[('poly', PolynomialFeatures(include_bias=False)),\n",
              "                ('reg', LinearRegression())])"
            ]
          },
          "metadata": {},
          "execution_count": 75
        }
      ]
    },
    {
      "cell_type": "code",
      "source": [
        "# 훈련 셋 예측(predict):  (1) poly.transform() --> (2) reg.predict()\n",
        "tr_pred = model.predict(X_tr)\n",
        "tr_pred[:4]"
      ],
      "metadata": {
        "colab": {
          "base_uri": "https://localhost:8080/"
        },
        "id": "MKhoDOwiX2Y7",
        "outputId": "4b61b007-1ab9-47c1-e4c7-30b0a9120667"
      },
      "execution_count": null,
      "outputs": [
        {
          "output_type": "execute_result",
          "data": {
            "text/plain": [
              "array([ 83.18070434, 132.71260219,  67.61880901,  48.04150559])"
            ]
          },
          "metadata": {},
          "execution_count": 76
        }
      ]
    },
    {
      "cell_type": "code",
      "source": [
        "# 테스트 셋 예측\n",
        "te_pred = model.predict(X_te)\n",
        "te_pred[:4]"
      ],
      "metadata": {
        "colab": {
          "base_uri": "https://localhost:8080/"
        },
        "id": "wLb7rJRIX3Hz",
        "outputId": "612bb3ae-3129-48ca-cec5-d695487161f3"
      },
      "execution_count": null,
      "outputs": [
        {
          "output_type": "execute_result",
          "data": {
            "text/plain": [
              "array([  6.5349146 ,  56.6511646 , 290.29593158, 117.05874344])"
            ]
          },
          "metadata": {},
          "execution_count": 77
        }
      ]
    },
    {
      "cell_type": "markdown",
      "source": [
        "# 농어의 모든 특성을 사용한 KNN Regressor"
      ],
      "metadata": {
        "id": "n8_DpHjtX4d8"
      }
    },
    {
      "cell_type": "code",
      "source": [
        "perch.head()"
      ],
      "metadata": {
        "colab": {
          "base_uri": "https://localhost:8080/",
          "height": 206
        },
        "id": "L3zhQpZ3X39M",
        "outputId": "2ea56cb6-9287-42ae-b944-28a4f36387ac"
      },
      "execution_count": null,
      "outputs": [
        {
          "output_type": "execute_result",
          "data": {
            "text/plain": [
              "   Species  Weight  Length  Diagonal  Height   Width\n",
              "72   Perch     5.9     8.4       8.8  2.1120  1.4080\n",
              "73   Perch    32.0    13.7      14.7  3.5280  1.9992\n",
              "74   Perch    40.0    15.0      16.0  3.8240  2.4320\n",
              "75   Perch    51.5    16.2      17.2  4.5924  2.6316\n",
              "76   Perch    70.0    17.4      18.5  4.5880  2.9415"
            ],
            "text/html": [
              "\n",
              "  <div id=\"df-a549a357-cc9f-496d-ab77-cf2be8b4ed72\">\n",
              "    <div class=\"colab-df-container\">\n",
              "      <div>\n",
              "<style scoped>\n",
              "    .dataframe tbody tr th:only-of-type {\n",
              "        vertical-align: middle;\n",
              "    }\n",
              "\n",
              "    .dataframe tbody tr th {\n",
              "        vertical-align: top;\n",
              "    }\n",
              "\n",
              "    .dataframe thead th {\n",
              "        text-align: right;\n",
              "    }\n",
              "</style>\n",
              "<table border=\"1\" class=\"dataframe\">\n",
              "  <thead>\n",
              "    <tr style=\"text-align: right;\">\n",
              "      <th></th>\n",
              "      <th>Species</th>\n",
              "      <th>Weight</th>\n",
              "      <th>Length</th>\n",
              "      <th>Diagonal</th>\n",
              "      <th>Height</th>\n",
              "      <th>Width</th>\n",
              "    </tr>\n",
              "  </thead>\n",
              "  <tbody>\n",
              "    <tr>\n",
              "      <th>72</th>\n",
              "      <td>Perch</td>\n",
              "      <td>5.9</td>\n",
              "      <td>8.4</td>\n",
              "      <td>8.8</td>\n",
              "      <td>2.1120</td>\n",
              "      <td>1.4080</td>\n",
              "    </tr>\n",
              "    <tr>\n",
              "      <th>73</th>\n",
              "      <td>Perch</td>\n",
              "      <td>32.0</td>\n",
              "      <td>13.7</td>\n",
              "      <td>14.7</td>\n",
              "      <td>3.5280</td>\n",
              "      <td>1.9992</td>\n",
              "    </tr>\n",
              "    <tr>\n",
              "      <th>74</th>\n",
              "      <td>Perch</td>\n",
              "      <td>40.0</td>\n",
              "      <td>15.0</td>\n",
              "      <td>16.0</td>\n",
              "      <td>3.8240</td>\n",
              "      <td>2.4320</td>\n",
              "    </tr>\n",
              "    <tr>\n",
              "      <th>75</th>\n",
              "      <td>Perch</td>\n",
              "      <td>51.5</td>\n",
              "      <td>16.2</td>\n",
              "      <td>17.2</td>\n",
              "      <td>4.5924</td>\n",
              "      <td>2.6316</td>\n",
              "    </tr>\n",
              "    <tr>\n",
              "      <th>76</th>\n",
              "      <td>Perch</td>\n",
              "      <td>70.0</td>\n",
              "      <td>17.4</td>\n",
              "      <td>18.5</td>\n",
              "      <td>4.5880</td>\n",
              "      <td>2.9415</td>\n",
              "    </tr>\n",
              "  </tbody>\n",
              "</table>\n",
              "</div>\n",
              "      <button class=\"colab-df-convert\" onclick=\"convertToInteractive('df-a549a357-cc9f-496d-ab77-cf2be8b4ed72')\"\n",
              "              title=\"Convert this dataframe to an interactive table.\"\n",
              "              style=\"display:none;\">\n",
              "        \n",
              "  <svg xmlns=\"http://www.w3.org/2000/svg\" height=\"24px\"viewBox=\"0 0 24 24\"\n",
              "       width=\"24px\">\n",
              "    <path d=\"M0 0h24v24H0V0z\" fill=\"none\"/>\n",
              "    <path d=\"M18.56 5.44l.94 2.06.94-2.06 2.06-.94-2.06-.94-.94-2.06-.94 2.06-2.06.94zm-11 1L8.5 8.5l.94-2.06 2.06-.94-2.06-.94L8.5 2.5l-.94 2.06-2.06.94zm10 10l.94 2.06.94-2.06 2.06-.94-2.06-.94-.94-2.06-.94 2.06-2.06.94z\"/><path d=\"M17.41 7.96l-1.37-1.37c-.4-.4-.92-.59-1.43-.59-.52 0-1.04.2-1.43.59L10.3 9.45l-7.72 7.72c-.78.78-.78 2.05 0 2.83L4 21.41c.39.39.9.59 1.41.59.51 0 1.02-.2 1.41-.59l7.78-7.78 2.81-2.81c.8-.78.8-2.07 0-2.86zM5.41 20L4 18.59l7.72-7.72 1.47 1.35L5.41 20z\"/>\n",
              "  </svg>\n",
              "      </button>\n",
              "      \n",
              "  <style>\n",
              "    .colab-df-container {\n",
              "      display:flex;\n",
              "      flex-wrap:wrap;\n",
              "      gap: 12px;\n",
              "    }\n",
              "\n",
              "    .colab-df-convert {\n",
              "      background-color: #E8F0FE;\n",
              "      border: none;\n",
              "      border-radius: 50%;\n",
              "      cursor: pointer;\n",
              "      display: none;\n",
              "      fill: #1967D2;\n",
              "      height: 32px;\n",
              "      padding: 0 0 0 0;\n",
              "      width: 32px;\n",
              "    }\n",
              "\n",
              "    .colab-df-convert:hover {\n",
              "      background-color: #E2EBFA;\n",
              "      box-shadow: 0px 1px 2px rgba(60, 64, 67, 0.3), 0px 1px 3px 1px rgba(60, 64, 67, 0.15);\n",
              "      fill: #174EA6;\n",
              "    }\n",
              "\n",
              "    [theme=dark] .colab-df-convert {\n",
              "      background-color: #3B4455;\n",
              "      fill: #D2E3FC;\n",
              "    }\n",
              "\n",
              "    [theme=dark] .colab-df-convert:hover {\n",
              "      background-color: #434B5C;\n",
              "      box-shadow: 0px 1px 3px 1px rgba(0, 0, 0, 0.15);\n",
              "      filter: drop-shadow(0px 1px 2px rgba(0, 0, 0, 0.3));\n",
              "      fill: #FFFFFF;\n",
              "    }\n",
              "  </style>\n",
              "\n",
              "      <script>\n",
              "        const buttonEl =\n",
              "          document.querySelector('#df-a549a357-cc9f-496d-ab77-cf2be8b4ed72 button.colab-df-convert');\n",
              "        buttonEl.style.display =\n",
              "          google.colab.kernel.accessAllowed ? 'block' : 'none';\n",
              "\n",
              "        async function convertToInteractive(key) {\n",
              "          const element = document.querySelector('#df-a549a357-cc9f-496d-ab77-cf2be8b4ed72');\n",
              "          const dataTable =\n",
              "            await google.colab.kernel.invokeFunction('convertToInteractive',\n",
              "                                                     [key], {});\n",
              "          if (!dataTable) return;\n",
              "\n",
              "          const docLinkHtml = 'Like what you see? Visit the ' +\n",
              "            '<a target=\"_blank\" href=https://colab.research.google.com/notebooks/data_table.ipynb>data table notebook</a>'\n",
              "            + ' to learn more about interactive tables.';\n",
              "          element.innerHTML = '';\n",
              "          dataTable['output_type'] = 'display_data';\n",
              "          await google.colab.output.renderOutput(dataTable, element);\n",
              "          const docLink = document.createElement('div');\n",
              "          docLink.innerHTML = docLinkHtml;\n",
              "          element.appendChild(docLink);\n",
              "        }\n",
              "      </script>\n",
              "    </div>\n",
              "  </div>\n",
              "  "
            ]
          },
          "metadata": {},
          "execution_count": 78
        }
      ]
    },
    {
      "cell_type": "markdown",
      "source": [
        "*   perch -> X(2차원 배열), y(1차원 배열)\n",
        "*   train_test_split\n",
        "*   KNN 생성, 훈련, 예측, 평가\n",
        "*   LinearRegression 생성, 훈련, 예측, 평가\n",
        "*   모든 특성들의 2차항까지를 고려한 LinearRegression 훈련, 평가"
      ],
      "metadata": {
        "id": "8rVK5X5GX6Oe"
      }
    }
  ]
}